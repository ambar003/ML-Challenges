{
 "cells": [
  {
   "cell_type": "code",
   "execution_count": 1,
   "metadata": {
    "collapsed": true
   },
   "outputs": [],
   "source": [
    "import os\n",
    "mingw_path = 'C:\\\\Program Files\\\\mingw-w64\\\\x86_64-6.3.0-posix-seh-rt_v5-rev1\\\\mingw64\\\\bin'\n",
    "os.environ['PATH'] = mingw_path + ';' + os.environ['PATH']"
   ]
  },
  {
   "cell_type": "code",
   "execution_count": 2,
   "metadata": {
    "collapsed": true
   },
   "outputs": [],
   "source": [
    "from sklearn.neighbors import KNeighborsRegressor\n",
    "from xgboost.sklearn import XGBRegressor\n",
    "from sklearn.preprocessing import LabelEncoder\n",
    "from sklearn.linear_model import LinearRegression"
   ]
  },
  {
   "cell_type": "code",
   "execution_count": 3,
   "metadata": {
    "collapsed": false
   },
   "outputs": [
    {
     "name": "stdout",
     "output_type": "stream",
     "text": [
      "Populating the interactive namespace from numpy and matplotlib\n"
     ]
    },
    {
     "name": "stderr",
     "output_type": "stream",
     "text": [
      "C:\\Users\\Ambar Gupta\\Anaconda3\\lib\\site-packages\\sklearn\\cross_validation.py:44: DeprecationWarning: This module was deprecated in version 0.18 in favor of the model_selection module into which all the refactored classes and functions are moved. Also note that the interface of the new CV iterators are different from that of this module. This module will be removed in 0.20.\n",
      "  \"This module will be removed in 0.20.\", DeprecationWarning)\n",
      "C:\\Users\\Ambar Gupta\\Anaconda3\\lib\\site-packages\\sklearn\\grid_search.py:43: DeprecationWarning: This module was deprecated in version 0.18 in favor of the model_selection module into which all the refactored classes and functions are moved. This module will be removed in 0.20.\n",
      "  DeprecationWarning)\n"
     ]
    }
   ],
   "source": [
    "% pylab inline\n",
    "from sklearn.neighbors import KNeighborsClassifier\n",
    "from sklearn.cross_validation import cross_val_score\n",
    "from sklearn.grid_search import GridSearchCV\n",
    "from sklearn.tree import DecisionTreeRegressor\n",
    "import pandas as pd\n",
    "import numpy as np"
   ]
  },
  {
   "cell_type": "code",
   "execution_count": 4,
   "metadata": {
    "collapsed": true
   },
   "outputs": [],
   "source": [
    "from sklearn.model_selection import RandomizedSearchCV"
   ]
  },
  {
   "cell_type": "code",
   "execution_count": 5,
   "metadata": {
    "collapsed": false
   },
   "outputs": [],
   "source": [
    "train = pd.read_csv('train.csv')"
   ]
  },
  {
   "cell_type": "code",
   "execution_count": 6,
   "metadata": {
    "collapsed": false
   },
   "outputs": [
    {
     "data": {
      "text/html": [
       "<div>\n",
       "<table border=\"1\" class=\"dataframe\">\n",
       "  <thead>\n",
       "    <tr style=\"text-align: right;\">\n",
       "      <th></th>\n",
       "      <th>User_ID</th>\n",
       "      <th>Article_ID</th>\n",
       "      <th>Rating</th>\n",
       "      <th>ID</th>\n",
       "    </tr>\n",
       "  </thead>\n",
       "  <tbody>\n",
       "    <tr>\n",
       "      <th>0</th>\n",
       "      <td>20080828074</td>\n",
       "      <td>1219102233</td>\n",
       "      <td>0</td>\n",
       "      <td>20080828074_1219102233</td>\n",
       "    </tr>\n",
       "    <tr>\n",
       "      <th>1</th>\n",
       "      <td>20080851125</td>\n",
       "      <td>1219110304</td>\n",
       "      <td>6</td>\n",
       "      <td>20080851125_1219110304</td>\n",
       "    </tr>\n",
       "    <tr>\n",
       "      <th>2</th>\n",
       "      <td>20080820760</td>\n",
       "      <td>1219151095</td>\n",
       "      <td>0</td>\n",
       "      <td>20080820760_1219151095</td>\n",
       "    </tr>\n",
       "    <tr>\n",
       "      <th>3</th>\n",
       "      <td>20080824760</td>\n",
       "      <td>1219295837</td>\n",
       "      <td>5</td>\n",
       "      <td>20080824760_1219295837</td>\n",
       "    </tr>\n",
       "    <tr>\n",
       "      <th>4</th>\n",
       "      <td>20080883177</td>\n",
       "      <td>1219209257</td>\n",
       "      <td>4</td>\n",
       "      <td>20080883177_1219209257</td>\n",
       "    </tr>\n",
       "  </tbody>\n",
       "</table>\n",
       "</div>"
      ],
      "text/plain": [
       "       User_ID  Article_ID  Rating                      ID\n",
       "0  20080828074  1219102233       0  20080828074_1219102233\n",
       "1  20080851125  1219110304       6  20080851125_1219110304\n",
       "2  20080820760  1219151095       0  20080820760_1219151095\n",
       "3  20080824760  1219295837       5  20080824760_1219295837\n",
       "4  20080883177  1219209257       4  20080883177_1219209257"
      ]
     },
     "execution_count": 6,
     "metadata": {},
     "output_type": "execute_result"
    }
   ],
   "source": [
    "train.head()"
   ]
  },
  {
   "cell_type": "code",
   "execution_count": 7,
   "metadata": {
    "collapsed": false
   },
   "outputs": [
    {
     "data": {
      "text/html": [
       "<div>\n",
       "<table border=\"1\" class=\"dataframe\">\n",
       "  <thead>\n",
       "    <tr style=\"text-align: right;\">\n",
       "      <th></th>\n",
       "      <th>User_ID</th>\n",
       "      <th>Var1</th>\n",
       "      <th>Age</th>\n",
       "    </tr>\n",
       "  </thead>\n",
       "  <tbody>\n",
       "    <tr>\n",
       "      <th>0</th>\n",
       "      <td>20080820123</td>\n",
       "      <td>A</td>\n",
       "      <td>NaN</td>\n",
       "    </tr>\n",
       "    <tr>\n",
       "      <th>1</th>\n",
       "      <td>20080820124</td>\n",
       "      <td>A</td>\n",
       "      <td>20-30</td>\n",
       "    </tr>\n",
       "    <tr>\n",
       "      <th>2</th>\n",
       "      <td>20080820125</td>\n",
       "      <td>A</td>\n",
       "      <td>30-40</td>\n",
       "    </tr>\n",
       "    <tr>\n",
       "      <th>3</th>\n",
       "      <td>20080820126</td>\n",
       "      <td>A</td>\n",
       "      <td>Less tha 15</td>\n",
       "    </tr>\n",
       "    <tr>\n",
       "      <th>4</th>\n",
       "      <td>20080820127</td>\n",
       "      <td>A</td>\n",
       "      <td>NaN</td>\n",
       "    </tr>\n",
       "  </tbody>\n",
       "</table>\n",
       "</div>"
      ],
      "text/plain": [
       "       User_ID Var1          Age\n",
       "0  20080820123    A          NaN\n",
       "1  20080820124    A        20-30\n",
       "2  20080820125    A        30-40\n",
       "3  20080820126    A  Less tha 15\n",
       "4  20080820127    A          NaN"
      ]
     },
     "execution_count": 7,
     "metadata": {},
     "output_type": "execute_result"
    }
   ],
   "source": [
    "user = pd.read_csv('user.csv')\n",
    "user.head()"
   ]
  },
  {
   "cell_type": "code",
   "execution_count": 8,
   "metadata": {
    "collapsed": false
   },
   "outputs": [
    {
     "data": {
      "text/html": [
       "<div>\n",
       "<table border=\"1\" class=\"dataframe\">\n",
       "  <thead>\n",
       "    <tr style=\"text-align: right;\">\n",
       "      <th></th>\n",
       "      <th>Article_ID</th>\n",
       "      <th>VintageMonths</th>\n",
       "      <th>NumberOfArticlesBySameAuthor</th>\n",
       "      <th>NumberOfArticlesinSameCategory</th>\n",
       "    </tr>\n",
       "  </thead>\n",
       "  <tbody>\n",
       "    <tr>\n",
       "      <th>0</th>\n",
       "      <td>1219098423</td>\n",
       "      <td>10.0</td>\n",
       "      <td>3</td>\n",
       "      <td>503</td>\n",
       "    </tr>\n",
       "    <tr>\n",
       "      <th>1</th>\n",
       "      <td>1219098424</td>\n",
       "      <td>9.0</td>\n",
       "      <td>3</td>\n",
       "      <td>503</td>\n",
       "    </tr>\n",
       "    <tr>\n",
       "      <th>2</th>\n",
       "      <td>1219098425</td>\n",
       "      <td>10.0</td>\n",
       "      <td>46</td>\n",
       "      <td>503</td>\n",
       "    </tr>\n",
       "    <tr>\n",
       "      <th>3</th>\n",
       "      <td>1219098426</td>\n",
       "      <td>9.0</td>\n",
       "      <td>46</td>\n",
       "      <td>503</td>\n",
       "    </tr>\n",
       "    <tr>\n",
       "      <th>4</th>\n",
       "      <td>1219098427</td>\n",
       "      <td>9.0</td>\n",
       "      <td>38</td>\n",
       "      <td>503</td>\n",
       "    </tr>\n",
       "  </tbody>\n",
       "</table>\n",
       "</div>"
      ],
      "text/plain": [
       "   Article_ID  VintageMonths  NumberOfArticlesBySameAuthor\\r  \\\n",
       "0  1219098423           10.0                               3   \n",
       "1  1219098424            9.0                               3   \n",
       "2  1219098425           10.0                              46   \n",
       "3  1219098426            9.0                              46   \n",
       "4  1219098427            9.0                              38   \n",
       "\n",
       "   NumberOfArticlesinSameCategory\\r  \n",
       "0                               503  \n",
       "1                               503  \n",
       "2                               503  \n",
       "3                               503  \n",
       "4                               503  "
      ]
     },
     "execution_count": 8,
     "metadata": {},
     "output_type": "execute_result"
    }
   ],
   "source": [
    "article = pd.read_csv('article.csv')\n",
    "article.head()"
   ]
  },
  {
   "cell_type": "code",
   "execution_count": 9,
   "metadata": {
    "collapsed": false
   },
   "outputs": [
    {
     "data": {
      "text/html": [
       "<div>\n",
       "<table border=\"1\" class=\"dataframe\">\n",
       "  <thead>\n",
       "    <tr style=\"text-align: right;\">\n",
       "      <th></th>\n",
       "      <th>User_ID</th>\n",
       "      <th>Article_ID</th>\n",
       "      <th>ID</th>\n",
       "    </tr>\n",
       "  </thead>\n",
       "  <tbody>\n",
       "    <tr>\n",
       "      <th>0</th>\n",
       "      <td>20080822161</td>\n",
       "      <td>1219173561</td>\n",
       "      <td>20080822161_1219173561</td>\n",
       "    </tr>\n",
       "    <tr>\n",
       "      <th>1</th>\n",
       "      <td>20080839116</td>\n",
       "      <td>1219217951</td>\n",
       "      <td>20080839116_1219217951</td>\n",
       "    </tr>\n",
       "    <tr>\n",
       "      <th>2</th>\n",
       "      <td>20080831336</td>\n",
       "      <td>1219224091</td>\n",
       "      <td>20080831336_1219224091</td>\n",
       "    </tr>\n",
       "    <tr>\n",
       "      <th>3</th>\n",
       "      <td>20080820936</td>\n",
       "      <td>1219186943</td>\n",
       "      <td>20080820936_1219186943</td>\n",
       "    </tr>\n",
       "    <tr>\n",
       "      <th>4</th>\n",
       "      <td>20080823287</td>\n",
       "      <td>1219165896</td>\n",
       "      <td>20080823287_1219165896</td>\n",
       "    </tr>\n",
       "  </tbody>\n",
       "</table>\n",
       "</div>"
      ],
      "text/plain": [
       "       User_ID  Article_ID                      ID\n",
       "0  20080822161  1219173561  20080822161_1219173561\n",
       "1  20080839116  1219217951  20080839116_1219217951\n",
       "2  20080831336  1219224091  20080831336_1219224091\n",
       "3  20080820936  1219186943  20080820936_1219186943\n",
       "4  20080823287  1219165896  20080823287_1219165896"
      ]
     },
     "execution_count": 9,
     "metadata": {},
     "output_type": "execute_result"
    }
   ],
   "source": [
    "test = pd.read_csv('test.csv')\n",
    "test.head()"
   ]
  },
  {
   "cell_type": "code",
   "execution_count": 10,
   "metadata": {
    "collapsed": true
   },
   "outputs": [],
   "source": [
    "df = pd.DataFrame()"
   ]
  },
  {
   "cell_type": "code",
   "execution_count": 11,
   "metadata": {
    "collapsed": false
   },
   "outputs": [],
   "source": [
    "df = pd.merge(train,user,on=['User_ID'])"
   ]
  },
  {
   "cell_type": "code",
   "execution_count": 12,
   "metadata": {
    "collapsed": false
   },
   "outputs": [],
   "source": [
    "df = pd.merge(df,article,on=['Article_ID'])"
   ]
  },
  {
   "cell_type": "code",
   "execution_count": 13,
   "metadata": {
    "collapsed": false
   },
   "outputs": [
    {
     "data": {
      "text/html": [
       "<div>\n",
       "<table border=\"1\" class=\"dataframe\">\n",
       "  <thead>\n",
       "    <tr style=\"text-align: right;\">\n",
       "      <th></th>\n",
       "      <th>User_ID</th>\n",
       "      <th>Article_ID</th>\n",
       "      <th>Rating</th>\n",
       "      <th>ID</th>\n",
       "      <th>Var1</th>\n",
       "      <th>Age</th>\n",
       "      <th>VintageMonths</th>\n",
       "      <th>NumberOfArticlesBySameAuthor</th>\n",
       "      <th>NumberOfArticlesinSameCategory</th>\n",
       "    </tr>\n",
       "  </thead>\n",
       "  <tbody>\n",
       "    <tr>\n",
       "      <th>0</th>\n",
       "      <td>20080828074</td>\n",
       "      <td>1219102233</td>\n",
       "      <td>0</td>\n",
       "      <td>20080828074_1219102233</td>\n",
       "      <td>A</td>\n",
       "      <td>30-40</td>\n",
       "      <td>25.0</td>\n",
       "      <td>88</td>\n",
       "      <td>289</td>\n",
       "    </tr>\n",
       "    <tr>\n",
       "      <th>1</th>\n",
       "      <td>20080821255</td>\n",
       "      <td>1219102233</td>\n",
       "      <td>0</td>\n",
       "      <td>20080821255_1219102233</td>\n",
       "      <td>A</td>\n",
       "      <td>60-70</td>\n",
       "      <td>25.0</td>\n",
       "      <td>88</td>\n",
       "      <td>289</td>\n",
       "    </tr>\n",
       "    <tr>\n",
       "      <th>2</th>\n",
       "      <td>20080826273</td>\n",
       "      <td>1219102233</td>\n",
       "      <td>3</td>\n",
       "      <td>20080826273_1219102233</td>\n",
       "      <td>B</td>\n",
       "      <td>50-60</td>\n",
       "      <td>25.0</td>\n",
       "      <td>88</td>\n",
       "      <td>289</td>\n",
       "    </tr>\n",
       "    <tr>\n",
       "      <th>3</th>\n",
       "      <td>20080820707</td>\n",
       "      <td>1219102233</td>\n",
       "      <td>0</td>\n",
       "      <td>20080820707_1219102233</td>\n",
       "      <td>A</td>\n",
       "      <td>50-60</td>\n",
       "      <td>25.0</td>\n",
       "      <td>88</td>\n",
       "      <td>289</td>\n",
       "    </tr>\n",
       "    <tr>\n",
       "      <th>4</th>\n",
       "      <td>20080820783</td>\n",
       "      <td>1219102233</td>\n",
       "      <td>4</td>\n",
       "      <td>20080820783_1219102233</td>\n",
       "      <td>B</td>\n",
       "      <td>30-40</td>\n",
       "      <td>25.0</td>\n",
       "      <td>88</td>\n",
       "      <td>289</td>\n",
       "    </tr>\n",
       "  </tbody>\n",
       "</table>\n",
       "</div>"
      ],
      "text/plain": [
       "       User_ID  Article_ID  Rating                      ID Var1    Age  \\\n",
       "0  20080828074  1219102233       0  20080828074_1219102233    A  30-40   \n",
       "1  20080821255  1219102233       0  20080821255_1219102233    A  60-70   \n",
       "2  20080826273  1219102233       3  20080826273_1219102233    B  50-60   \n",
       "3  20080820707  1219102233       0  20080820707_1219102233    A  50-60   \n",
       "4  20080820783  1219102233       4  20080820783_1219102233    B  30-40   \n",
       "\n",
       "   VintageMonths  NumberOfArticlesBySameAuthor\\r  \\\n",
       "0           25.0                              88   \n",
       "1           25.0                              88   \n",
       "2           25.0                              88   \n",
       "3           25.0                              88   \n",
       "4           25.0                              88   \n",
       "\n",
       "   NumberOfArticlesinSameCategory\\r  \n",
       "0                               289  \n",
       "1                               289  \n",
       "2                               289  \n",
       "3                               289  \n",
       "4                               289  "
      ]
     },
     "execution_count": 13,
     "metadata": {},
     "output_type": "execute_result"
    }
   ],
   "source": [
    "df.head()"
   ]
  },
  {
   "cell_type": "code",
   "execution_count": 14,
   "metadata": {
    "collapsed": false
   },
   "outputs": [
    {
     "data": {
      "text/plain": [
       "<matplotlib.axes._subplots.AxesSubplot at 0x1ebb59d1a90>"
      ]
     },
     "execution_count": 14,
     "metadata": {},
     "output_type": "execute_result"
    },
    {
     "data": {
      "image/png": "[encoded data removed]",
      "text/plain": [
       "<matplotlib.figure.Figure at 0x1ebba62e940>"
      ]
     },
     "metadata": {},
     "output_type": "display_data"
    }
   ],
   "source": [
    "df['Rating'].hist()"
   ]
  },
  {
   "cell_type": "code",
   "execution_count": 15,
   "metadata": {
    "collapsed": false
   },
   "outputs": [
    {
     "data": {
      "text/plain": [
       "0"
      ]
     },
     "execution_count": 15,
     "metadata": {},
     "output_type": "execute_result"
    }
   ],
   "source": [
    "df['Rating'].isnull().sum()"
   ]
  },
  {
   "cell_type": "code",
   "execution_count": 16,
   "metadata": {
    "collapsed": false
   },
   "outputs": [
    {
     "data": {
      "text/plain": [
       "Index(['User_ID', 'Article_ID', 'Rating', 'ID', 'Var1', 'Age', 'VintageMonths',\n",
       "       'NumberOfArticlesBySameAuthor\\r', 'NumberOfArticlesinSameCategory\\r'],\n",
       "      dtype='object')"
      ]
     },
     "execution_count": 16,
     "metadata": {},
     "output_type": "execute_result"
    }
   ],
   "source": [
    "df.columns"
   ]
  },
  {
   "cell_type": "code",
   "execution_count": 17,
   "metadata": {
    "collapsed": false
   },
   "outputs": [],
   "source": [
    "df = df.rename(columns={'NumberOfArticlesBySameAuthor\\r':'NumberOfArticlesBySameAuthor','NumberOfArticlesinSameCategory\\r':'NumberOfArticlesinSameCategory'})"
   ]
  },
  {
   "cell_type": "code",
   "execution_count": 18,
   "metadata": {
    "collapsed": false
   },
   "outputs": [
    {
     "data": {
      "text/plain": [
       "Index(['User_ID', 'Article_ID', 'Rating', 'ID', 'Var1', 'Age', 'VintageMonths',\n",
       "       'NumberOfArticlesBySameAuthor', 'NumberOfArticlesinSameCategory'],\n",
       "      dtype='object')"
      ]
     },
     "execution_count": 18,
     "metadata": {},
     "output_type": "execute_result"
    }
   ],
   "source": [
    "df.columns"
   ]
  },
  {
   "cell_type": "code",
   "execution_count": 19,
   "metadata": {
    "collapsed": false
   },
   "outputs": [
    {
     "data": {
      "text/plain": [
       "A        493652\n",
       "B         61024\n",
       "D         22829\n",
       "C         19211\n",
       "F         12439\n",
       "E         10470\n",
       "Other      7998\n",
       "I          7412\n",
       "L          4772\n",
       "J          3762\n",
       "K          3468\n",
       "R          3446\n",
       "M          2953\n",
       "G          2385\n",
       "N          1926\n",
       "Q           820\n",
       "V           770\n",
       "P           647\n",
       "S           585\n",
       "O           527\n",
       "U           434\n",
       "T           262\n",
       "W           178\n",
       "Name: Var1, dtype: int64"
      ]
     },
     "execution_count": 19,
     "metadata": {},
     "output_type": "execute_result"
    }
   ],
   "source": [
    "df['Var1'].value_counts()"
   ]
  },
  {
   "cell_type": "code",
   "execution_count": 20,
   "metadata": {
    "collapsed": false
   },
   "outputs": [
    {
     "data": {
      "text/plain": [
       "30-40           168444\n",
       "20-30           129397\n",
       "40-50           101504\n",
       "50-60            60104\n",
       "15-20            17498\n",
       "60-70            16517\n",
       "Less tha 15       6943\n",
       "More than 70      4897\n",
       "Name: Age, dtype: int64"
      ]
     },
     "execution_count": 20,
     "metadata": {},
     "output_type": "execute_result"
    }
   ],
   "source": [
    "df['Age'].value_counts()"
   ]
  },
  {
   "cell_type": "code",
   "execution_count": 21,
   "metadata": {
    "collapsed": false
   },
   "outputs": [],
   "source": [
    "df['Var1'] = df['Var1'].fillna('A')"
   ]
  },
  {
   "cell_type": "code",
   "execution_count": 22,
   "metadata": {
    "collapsed": false
   },
   "outputs": [
    {
     "data": {
      "text/plain": [
       "0"
      ]
     },
     "execution_count": 22,
     "metadata": {},
     "output_type": "execute_result"
    }
   ],
   "source": [
    "df['Var1'].isnull().sum()"
   ]
  },
  {
   "cell_type": "code",
   "execution_count": 23,
   "metadata": {
    "collapsed": false
   },
   "outputs": [],
   "source": [
    "df['Var1'] = df['Var1'].apply(lambda x:ord(x[0]))"
   ]
  },
  {
   "cell_type": "code",
   "execution_count": 24,
   "metadata": {
    "collapsed": false
   },
   "outputs": [],
   "source": [
    "df['Var1'] = df['Var1']-65"
   ]
  },
  {
   "cell_type": "code",
   "execution_count": 25,
   "metadata": {
    "collapsed": false
   },
   "outputs": [
    {
     "data": {
      "text/plain": [
       "0     510733\n",
       "1      61024\n",
       "3      22829\n",
       "2      19211\n",
       "5      12439\n",
       "4      10470\n",
       "14      8525\n",
       "8       7412\n",
       "11      4772\n",
       "9       3762\n",
       "10      3468\n",
       "17      3446\n",
       "12      2953\n",
       "6       2385\n",
       "13      1926\n",
       "16       820\n",
       "21       770\n",
       "15       647\n",
       "18       585\n",
       "20       434\n",
       "19       262\n",
       "22       178\n",
       "Name: Var1, dtype: int64"
      ]
     },
     "execution_count": 25,
     "metadata": {},
     "output_type": "execute_result"
    }
   ],
   "source": [
    "df['Var1'].value_counts()"
   ]
  },
  {
   "cell_type": "code",
   "execution_count": 26,
   "metadata": {
    "collapsed": false
   },
   "outputs": [
    {
     "data": {
      "text/plain": [
       "173747"
      ]
     },
     "execution_count": 26,
     "metadata": {},
     "output_type": "execute_result"
    }
   ],
   "source": [
    "df['Age'].isnull().sum()"
   ]
  },
  {
   "cell_type": "code",
   "execution_count": 27,
   "metadata": {
    "collapsed": false
   },
   "outputs": [],
   "source": [
    "tem = df[df['Age'].isnull()==False]"
   ]
  },
  {
   "cell_type": "code",
   "execution_count": 28,
   "metadata": {
    "collapsed": false
   },
   "outputs": [],
   "source": [
    "df = tem"
   ]
  },
  {
   "cell_type": "code",
   "execution_count": 29,
   "metadata": {
    "collapsed": false
   },
   "outputs": [
    {
     "data": {
      "text/plain": [
       "505304"
      ]
     },
     "execution_count": 29,
     "metadata": {},
     "output_type": "execute_result"
    }
   ],
   "source": [
    "len(df)"
   ]
  },
  {
   "cell_type": "code",
   "execution_count": 30,
   "metadata": {
    "collapsed": false
   },
   "outputs": [
    {
     "data": {
      "text/plain": [
       "30-40           168444\n",
       "20-30           129397\n",
       "40-50           101504\n",
       "50-60            60104\n",
       "15-20            17498\n",
       "60-70            16517\n",
       "Less tha 15       6943\n",
       "More than 70      4897\n",
       "Name: Age, dtype: int64"
      ]
     },
     "execution_count": 30,
     "metadata": {},
     "output_type": "execute_result"
    }
   ],
   "source": [
    "df['Age'].value_counts()"
   ]
  },
  {
   "cell_type": "code",
   "execution_count": 31,
   "metadata": {
    "collapsed": true
   },
   "outputs": [],
   "source": [
    "def label(x):\n",
    "    if(x=='less tha 15'):\n",
    "        return 0\n",
    "    if(x=='15-20'):\n",
    "        return 1\n",
    "    if(x=='20-30'):\n",
    "        return 2\n",
    "    if(x=='30-40'):\n",
    "        return 3\n",
    "    if(x=='40-50'):\n",
    "        return 4\n",
    "    if(x=='50-60'):\n",
    "        return 5\n",
    "    if(x=='60-70'):\n",
    "        return 6\n",
    "    if(x=='More than 70'):\n",
    "        return 7\n",
    "    else:\n",
    "        return 8"
   ]
  },
  {
   "cell_type": "code",
   "execution_count": 32,
   "metadata": {
    "collapsed": false
   },
   "outputs": [],
   "source": [
    "df['Age'] = df['Age'].apply(lambda x: label(x))"
   ]
  },
  {
   "cell_type": "code",
   "execution_count": 33,
   "metadata": {
    "collapsed": false
   },
   "outputs": [
    {
     "data": {
      "text/plain": [
       "0"
      ]
     },
     "execution_count": 33,
     "metadata": {},
     "output_type": "execute_result"
    }
   ],
   "source": [
    "df['Age'].isnull().sum()"
   ]
  },
  {
   "cell_type": "code",
   "execution_count": 34,
   "metadata": {
    "collapsed": false
   },
   "outputs": [],
   "source": [
    "df['VintageMonths'] = df['VintageMonths'].fillna(17)"
   ]
  },
  {
   "cell_type": "code",
   "execution_count": 35,
   "metadata": {
    "collapsed": false
   },
   "outputs": [
    {
     "data": {
      "text/plain": [
       "<matplotlib.axes._subplots.AxesSubplot at 0x1ebb59d15c0>"
      ]
     },
     "execution_count": 35,
     "metadata": {},
     "output_type": "execute_result"
    },
    {
     "data": {
      "image/png": "[encoded data removed]",
      "text/plain": [
       "<matplotlib.figure.Figure at 0x1ebb5e7fba8>"
      ]
     },
     "metadata": {},
     "output_type": "display_data"
    }
   ],
   "source": [
    "df['VintageMonths'].hist()"
   ]
  },
  {
   "cell_type": "code",
   "execution_count": 36,
   "metadata": {
    "collapsed": false
   },
   "outputs": [
    {
     "data": {
      "text/plain": [
       "<matplotlib.axes._subplots.AxesSubplot at 0x1ebb5ec2b38>"
      ]
     },
     "execution_count": 36,
     "metadata": {},
     "output_type": "execute_result"
    },
    {
     "data": {
      "image/png": "[encoded data removed]",
      "text/plain": [
       "<matplotlib.figure.Figure at 0x1ebb5f6def0>"
      ]
     },
     "metadata": {},
     "output_type": "display_data"
    }
   ],
   "source": [
    "df['NumberOfArticlesinSameCategory'].hist()"
   ]
  },
  {
   "cell_type": "code",
   "execution_count": 37,
   "metadata": {
    "collapsed": true
   },
   "outputs": [],
   "source": [
    "df = df[df['NumberOfArticlesinSameCategory']<=600]"
   ]
  },
  {
   "cell_type": "code",
   "execution_count": 38,
   "metadata": {
    "collapsed": false
   },
   "outputs": [
    {
     "data": {
      "text/plain": [
       "<matplotlib.axes._subplots.AxesSubplot at 0x1ebb6b398d0>"
      ]
     },
     "execution_count": 38,
     "metadata": {},
     "output_type": "execute_result"
    },
    {
     "data": {
      "image/png": "[encoded data removed]",
      "text/plain": [
       "<matplotlib.figure.Figure at 0x1ebb71eb828>"
      ]
     },
     "metadata": {},
     "output_type": "display_data"
    }
   ],
   "source": [
    "df['NumberOfArticlesinSameCategory'].hist()"
   ]
  },
  {
   "cell_type": "code",
   "execution_count": 159,
   "metadata": {
    "collapsed": false
   },
   "outputs": [
    {
     "name": "stderr",
     "output_type": "stream",
     "text": [
      "C:\\Users\\Ambar Gupta\\Anaconda3\\lib\\site-packages\\ipykernel\\__main__.py:1: SettingWithCopyWarning: \n",
      "A value is trying to be set on a copy of a slice from a DataFrame.\n",
      "Try using .loc[row_indexer,col_indexer] = value instead\n",
      "\n",
      "See the caveats in the documentation: http://pandas.pydata.org/pandas-docs/stable/indexing.html#indexing-view-versus-copy\n",
      "  if __name__ == '__main__':\n"
     ]
    }
   ],
   "source": [
    "df['auth_cat'] = df['NumberOfArticlesBySameAuthor']*df['NumberOfArticlesinSameCategory']"
   ]
  },
  {
   "cell_type": "code",
   "execution_count": null,
   "metadata": {
    "collapsed": true
   },
   "outputs": [],
   "source": []
  },
  {
   "cell_type": "code",
   "execution_count": 164,
   "metadata": {
    "collapsed": false
   },
   "outputs": [
    {
     "data": {
      "text/plain": [
       "<matplotlib.axes._subplots.AxesSubplot at 0x1ebd5d8d7b8>"
      ]
     },
     "execution_count": 164,
     "metadata": {},
     "output_type": "execute_result"
    },
    {
     "data": {
      "image/png": "[encoded data removed]",
      "text/plain": [
       "<matplotlib.figure.Figure at 0x1ebd5dac4e0>"
      ]
     },
     "metadata": {},
     "output_type": "display_data"
    }
   ],
   "source": [
    "np.log(df['auth_cat']).hist()"
   ]
  },
  {
   "cell_type": "code",
   "execution_count": 165,
   "metadata": {
    "collapsed": false
   },
   "outputs": [
    {
     "name": "stderr",
     "output_type": "stream",
     "text": [
      "C:\\Users\\Ambar Gupta\\Anaconda3\\lib\\site-packages\\ipykernel\\__main__.py:1: SettingWithCopyWarning: \n",
      "A value is trying to be set on a copy of a slice from a DataFrame.\n",
      "Try using .loc[row_indexer,col_indexer] = value instead\n",
      "\n",
      "See the caveats in the documentation: http://pandas.pydata.org/pandas-docs/stable/indexing.html#indexing-view-versus-copy\n",
      "  if __name__ == '__main__':\n"
     ]
    }
   ],
   "source": [
    "df['auth_cat'] = np.log(df['auth_cat'])"
   ]
  },
  {
   "cell_type": "code",
   "execution_count": 223,
   "metadata": {
    "collapsed": false
   },
   "outputs": [
    {
     "data": {
      "text/plain": [
       "<matplotlib.axes._subplots.AxesSubplot at 0x1ebd9efe208>"
      ]
     },
     "execution_count": 223,
     "metadata": {},
     "output_type": "execute_result"
    },
    {
     "data": {
      "image/png": "[encoded data removed]",
      "text/plain": [
       "<matplotlib.figure.Figure at 0x1ebd5da4d30>"
      ]
     },
     "metadata": {},
     "output_type": "display_data"
    }
   ],
   "source": [
    "df.groupby('Age')['Rating'].sum().plot.bar()"
   ]
  },
  {
   "cell_type": "code",
   "execution_count": 42,
   "metadata": {
    "collapsed": false
   },
   "outputs": [
    {
     "data": {
      "text/plain": [
       "0    315122\n",
       "4     42589\n",
       "6     35117\n",
       "3     30927\n",
       "5     28369\n",
       "1     25690\n",
       "2     14467\n",
       "Name: Rating, dtype: int64"
      ]
     },
     "execution_count": 42,
     "metadata": {},
     "output_type": "execute_result"
    }
   ],
   "source": [
    "df['Rating'].value_counts()"
   ]
  },
  {
   "cell_type": "code",
   "execution_count": 237,
   "metadata": {
    "collapsed": true
   },
   "outputs": [],
   "source": [
    "features = ['Var1','Age']"
   ]
  },
  {
   "cell_type": "code",
   "execution_count": null,
   "metadata": {
    "collapsed": true
   },
   "outputs": [],
   "source": []
  },
  {
   "cell_type": "code",
   "execution_count": 238,
   "metadata": {
    "collapsed": false
   },
   "outputs": [],
   "source": [
    "X = df[features]"
   ]
  },
  {
   "cell_type": "code",
   "execution_count": 239,
   "metadata": {
    "collapsed": true
   },
   "outputs": [],
   "source": [
    "y = df['Rating']"
   ]
  },
  {
   "cell_type": "code",
   "execution_count": 46,
   "metadata": {
    "collapsed": false
   },
   "outputs": [],
   "source": [
    "df2 = pd.merge(test,user,on=['User_ID'])"
   ]
  },
  {
   "cell_type": "code",
   "execution_count": 47,
   "metadata": {
    "collapsed": true
   },
   "outputs": [],
   "source": [
    "test = pd.merge(df2,article,on=['Article_ID'])"
   ]
  },
  {
   "cell_type": "code",
   "execution_count": 48,
   "metadata": {
    "collapsed": false
   },
   "outputs": [
    {
     "data": {
      "text/html": [
       "<div>\n",
       "<table border=\"1\" class=\"dataframe\">\n",
       "  <thead>\n",
       "    <tr style=\"text-align: right;\">\n",
       "      <th></th>\n",
       "      <th>User_ID</th>\n",
       "      <th>Article_ID</th>\n",
       "      <th>ID</th>\n",
       "      <th>Var1</th>\n",
       "      <th>Age</th>\n",
       "      <th>VintageMonths</th>\n",
       "      <th>NumberOfArticlesBySameAuthor</th>\n",
       "      <th>NumberOfArticlesinSameCategory</th>\n",
       "    </tr>\n",
       "  </thead>\n",
       "  <tbody>\n",
       "    <tr>\n",
       "      <th>0</th>\n",
       "      <td>20080822161</td>\n",
       "      <td>1219173561</td>\n",
       "      <td>20080822161_1219173561</td>\n",
       "      <td>A</td>\n",
       "      <td>60-70</td>\n",
       "      <td>15.0</td>\n",
       "      <td>37</td>\n",
       "      <td>355</td>\n",
       "    </tr>\n",
       "    <tr>\n",
       "      <th>1</th>\n",
       "      <td>20080822111</td>\n",
       "      <td>1219173561</td>\n",
       "      <td>20080897249_1219261365</td>\n",
       "      <td>B</td>\n",
       "      <td>20-30</td>\n",
       "      <td>15.0</td>\n",
       "      <td>37</td>\n",
       "      <td>355</td>\n",
       "    </tr>\n",
       "    <tr>\n",
       "      <th>2</th>\n",
       "      <td>20080858645</td>\n",
       "      <td>1219173561</td>\n",
       "      <td>20080820904_1219173612</td>\n",
       "      <td>A</td>\n",
       "      <td>NaN</td>\n",
       "      <td>15.0</td>\n",
       "      <td>37</td>\n",
       "      <td>355</td>\n",
       "    </tr>\n",
       "    <tr>\n",
       "      <th>3</th>\n",
       "      <td>20080822161</td>\n",
       "      <td>1219327647</td>\n",
       "      <td>20080822161_1219327647</td>\n",
       "      <td>A</td>\n",
       "      <td>60-70</td>\n",
       "      <td>18.0</td>\n",
       "      <td>2</td>\n",
       "      <td>78</td>\n",
       "    </tr>\n",
       "    <tr>\n",
       "      <th>4</th>\n",
       "      <td>20080820207</td>\n",
       "      <td>1219327647</td>\n",
       "      <td>20080829000_1219098750</td>\n",
       "      <td>A</td>\n",
       "      <td>NaN</td>\n",
       "      <td>18.0</td>\n",
       "      <td>2</td>\n",
       "      <td>78</td>\n",
       "    </tr>\n",
       "  </tbody>\n",
       "</table>\n",
       "</div>"
      ],
      "text/plain": [
       "       User_ID  Article_ID                      ID Var1    Age  VintageMonths  \\\n",
       "0  20080822161  1219173561  20080822161_1219173561    A  60-70           15.0   \n",
       "1  20080822111  1219173561  20080897249_1219261365    B  20-30           15.0   \n",
       "2  20080858645  1219173561  20080820904_1219173612    A    NaN           15.0   \n",
       "3  20080822161  1219327647  20080822161_1219327647    A  60-70           18.0   \n",
       "4  20080820207  1219327647  20080829000_1219098750    A    NaN           18.0   \n",
       "\n",
       "   NumberOfArticlesBySameAuthor\\r  NumberOfArticlesinSameCategory\\r  \n",
       "0                              37                               355  \n",
       "1                              37                               355  \n",
       "2                              37                               355  \n",
       "3                               2                                78  \n",
       "4                               2                                78  "
      ]
     },
     "execution_count": 48,
     "metadata": {},
     "output_type": "execute_result"
    }
   ],
   "source": [
    "test.head()"
   ]
  },
  {
   "cell_type": "code",
   "execution_count": 49,
   "metadata": {
    "collapsed": false
   },
   "outputs": [],
   "source": [
    "test['Var1'] = test['Var1'].fillna('A')"
   ]
  },
  {
   "cell_type": "code",
   "execution_count": 50,
   "metadata": {
    "collapsed": false
   },
   "outputs": [
    {
     "data": {
      "text/plain": [
       "0"
      ]
     },
     "execution_count": 50,
     "metadata": {},
     "output_type": "execute_result"
    }
   ],
   "source": [
    "test['Var1'].isnull().sum()"
   ]
  },
  {
   "cell_type": "code",
   "execution_count": 51,
   "metadata": {
    "collapsed": false
   },
   "outputs": [],
   "source": [
    "test['Var1'] = test['Var1'].apply(lambda x:ord(x[0]))"
   ]
  },
  {
   "cell_type": "code",
   "execution_count": 52,
   "metadata": {
    "collapsed": true
   },
   "outputs": [],
   "source": [
    "test['Var1'] = test['Var1'] - 65"
   ]
  },
  {
   "cell_type": "code",
   "execution_count": 53,
   "metadata": {
    "collapsed": false
   },
   "outputs": [
    {
     "data": {
      "text/plain": [
       "16.75904818826523"
      ]
     },
     "execution_count": 53,
     "metadata": {},
     "output_type": "execute_result"
    }
   ],
   "source": [
    "test['VintageMonths'].mean()"
   ]
  },
  {
   "cell_type": "code",
   "execution_count": 54,
   "metadata": {
    "collapsed": false
   },
   "outputs": [],
   "source": [
    "test['VintageMonths'] = test['VintageMonths'].fillna(17)"
   ]
  },
  {
   "cell_type": "code",
   "execution_count": 55,
   "metadata": {
    "collapsed": false
   },
   "outputs": [
    {
     "data": {
      "text/plain": [
       "0"
      ]
     },
     "execution_count": 55,
     "metadata": {},
     "output_type": "execute_result"
    }
   ],
   "source": [
    "test['VintageMonths'].isnull().sum()"
   ]
  },
  {
   "cell_type": "code",
   "execution_count": 56,
   "metadata": {
    "collapsed": true
   },
   "outputs": [],
   "source": [
    "test = test.rename(columns={'NumberOfArticlesBySameAuthor\\r':'NumberOfArticlesBySameAuthor','NumberOfArticlesinSameCategory\\r':'NumberOfArticlesinSameCategory'})"
   ]
  },
  {
   "cell_type": "code",
   "execution_count": 57,
   "metadata": {
    "collapsed": false
   },
   "outputs": [
    {
     "data": {
      "text/plain": [
       "0"
      ]
     },
     "execution_count": 57,
     "metadata": {},
     "output_type": "execute_result"
    }
   ],
   "source": [
    "test['NumberOfArticlesinSameCategory'].isnull().sum()"
   ]
  },
  {
   "cell_type": "code",
   "execution_count": 58,
   "metadata": {
    "collapsed": false
   },
   "outputs": [],
   "source": [
    "test['Age'] = test['Age'].fillna('30-40')"
   ]
  },
  {
   "cell_type": "code",
   "execution_count": 59,
   "metadata": {
    "collapsed": false
   },
   "outputs": [
    {
     "data": {
      "text/plain": [
       "0"
      ]
     },
     "execution_count": 59,
     "metadata": {},
     "output_type": "execute_result"
    }
   ],
   "source": [
    "test['Age'].isnull().sum()"
   ]
  },
  {
   "cell_type": "code",
   "execution_count": 60,
   "metadata": {
    "collapsed": true
   },
   "outputs": [],
   "source": [
    "test['Age'] = test['Age'].apply(lambda x:label(x))"
   ]
  },
  {
   "cell_type": "code",
   "execution_count": 61,
   "metadata": {
    "collapsed": false
   },
   "outputs": [
    {
     "data": {
      "text/plain": [
       "0"
      ]
     },
     "execution_count": 61,
     "metadata": {},
     "output_type": "execute_result"
    }
   ],
   "source": [
    "test['Age'].isnull().sum()"
   ]
  },
  {
   "cell_type": "code",
   "execution_count": 172,
   "metadata": {
    "collapsed": true
   },
   "outputs": [],
   "source": [
    "test['auth_cat'] = np.log(test['NumberOfArticlesBySameAuthor']*test['NumberOfArticlesinSameCategory'])"
   ]
  },
  {
   "cell_type": "code",
   "execution_count": 62,
   "metadata": {
    "collapsed": true
   },
   "outputs": [],
   "source": [
    "lin = LinearRegression()"
   ]
  },
  {
   "cell_type": "code",
   "execution_count": 63,
   "metadata": {
    "collapsed": false
   },
   "outputs": [
    {
     "data": {
      "text/plain": [
       "LinearRegression(copy_X=True, fit_intercept=True, n_jobs=1, normalize=False)"
      ]
     },
     "execution_count": 63,
     "metadata": {},
     "output_type": "execute_result"
    }
   ],
   "source": [
    "lin.fit(X,y)"
   ]
  },
  {
   "cell_type": "code",
   "execution_count": 240,
   "metadata": {
    "collapsed": true
   },
   "outputs": [],
   "source": [
    "X_test = test[features]"
   ]
  },
  {
   "cell_type": "code",
   "execution_count": 65,
   "metadata": {
    "collapsed": true
   },
   "outputs": [],
   "source": [
    "pred1 = lin.predict(X_test)"
   ]
  },
  {
   "cell_type": "code",
   "execution_count": 87,
   "metadata": {
    "collapsed": true
   },
   "outputs": [],
   "source": [
    "pred = xgb.predict(X_test)"
   ]
  },
  {
   "cell_type": "code",
   "execution_count": 89,
   "metadata": {
    "collapsed": false
   },
   "outputs": [],
   "source": [
    "pred = pred.astype(int)"
   ]
  },
  {
   "cell_type": "code",
   "execution_count": 90,
   "metadata": {
    "collapsed": false
   },
   "outputs": [
    {
     "data": {
      "text/plain": [
       "array([1, 1, 1, ..., 1, 1, 1])"
      ]
     },
     "execution_count": 90,
     "metadata": {},
     "output_type": "execute_result"
    }
   ],
   "source": [
    "pred"
   ]
  },
  {
   "cell_type": "code",
   "execution_count": 68,
   "metadata": {
    "collapsed": false
   },
   "outputs": [],
   "source": [
    "pred1 = pred1.astype(int)"
   ]
  },
  {
   "cell_type": "code",
   "execution_count": 75,
   "metadata": {
    "collapsed": true
   },
   "outputs": [],
   "source": [
    "knn = KNeighborsRegressor(n_neighbors=5,weights='distance',metric='l1')"
   ]
  },
  {
   "cell_type": "code",
   "execution_count": 76,
   "metadata": {
    "collapsed": false
   },
   "outputs": [
    {
     "data": {
      "text/plain": [
       "KNeighborsRegressor(algorithm='auto', leaf_size=30, metric='l1',\n",
       "          metric_params=None, n_jobs=1, n_neighbors=5, p=2,\n",
       "          weights='distance')"
      ]
     },
     "execution_count": 76,
     "metadata": {},
     "output_type": "execute_result"
    }
   ],
   "source": [
    "knn.fit(X,y)"
   ]
  },
  {
   "cell_type": "code",
   "execution_count": 77,
   "metadata": {
    "collapsed": true
   },
   "outputs": [],
   "source": [
    "pred3 = knn.predict(X_test) "
   ]
  },
  {
   "cell_type": "code",
   "execution_count": 78,
   "metadata": {
    "collapsed": false
   },
   "outputs": [],
   "source": [
    "pred3 = (pred3).astype(int)"
   ]
  },
  {
   "cell_type": "code",
   "execution_count": 186,
   "metadata": {
    "collapsed": false
   },
   "outputs": [
    {
     "data": {
      "text/plain": [
       "False"
      ]
     },
     "execution_count": 186,
     "metadata": {},
     "output_type": "execute_result"
    }
   ],
   "source": [
    "4 in pred"
   ]
  },
  {
   "cell_type": "markdown",
   "metadata": {},
   "source": [
    "# starting tuning parameter"
   ]
  },
  {
   "cell_type": "code",
   "execution_count": 125,
   "metadata": {
    "collapsed": false
   },
   "outputs": [
    {
     "data": {
      "text/plain": [
       "492281"
      ]
     },
     "execution_count": 125,
     "metadata": {},
     "output_type": "execute_result"
    }
   ],
   "source": [
    "len(X)"
   ]
  },
  {
   "cell_type": "code",
   "execution_count": 130,
   "metadata": {
    "collapsed": true
   },
   "outputs": [],
   "source": [
    "X_new = df.sample(frac=0.04)"
   ]
  },
  {
   "cell_type": "code",
   "execution_count": 131,
   "metadata": {
    "collapsed": false
   },
   "outputs": [
    {
     "data": {
      "text/plain": [
       "19691"
      ]
     },
     "execution_count": 131,
     "metadata": {},
     "output_type": "execute_result"
    }
   ],
   "source": [
    "len(X_new)"
   ]
  },
  {
   "cell_type": "code",
   "execution_count": 133,
   "metadata": {
    "collapsed": true
   },
   "outputs": [],
   "source": [
    "X_new = X_new[features]"
   ]
  },
  {
   "cell_type": "code",
   "execution_count": 132,
   "metadata": {
    "collapsed": false
   },
   "outputs": [],
   "source": [
    "y_new = X_new['Rating']"
   ]
  },
  {
   "cell_type": "code",
   "execution_count": 134,
   "metadata": {
    "collapsed": false
   },
   "outputs": [
    {
     "data": {
      "text/html": [
       "<div>\n",
       "<table border=\"1\" class=\"dataframe\">\n",
       "  <thead>\n",
       "    <tr style=\"text-align: right;\">\n",
       "      <th></th>\n",
       "      <th>Var1</th>\n",
       "      <th>Age</th>\n",
       "      <th>VintageMonths</th>\n",
       "      <th>NumberOfArticlesBySameAuthor</th>\n",
       "      <th>NumberOfArticlesinSameCategory</th>\n",
       "    </tr>\n",
       "  </thead>\n",
       "  <tbody>\n",
       "    <tr>\n",
       "      <th>589461</th>\n",
       "      <td>0</td>\n",
       "      <td>5</td>\n",
       "      <td>27.0</td>\n",
       "      <td>29</td>\n",
       "      <td>399</td>\n",
       "    </tr>\n",
       "    <tr>\n",
       "      <th>362953</th>\n",
       "      <td>0</td>\n",
       "      <td>3</td>\n",
       "      <td>18.0</td>\n",
       "      <td>20</td>\n",
       "      <td>185</td>\n",
       "    </tr>\n",
       "    <tr>\n",
       "      <th>422114</th>\n",
       "      <td>0</td>\n",
       "      <td>4</td>\n",
       "      <td>23.0</td>\n",
       "      <td>1</td>\n",
       "      <td>516</td>\n",
       "    </tr>\n",
       "    <tr>\n",
       "      <th>169569</th>\n",
       "      <td>0</td>\n",
       "      <td>2</td>\n",
       "      <td>21.0</td>\n",
       "      <td>175</td>\n",
       "      <td>185</td>\n",
       "    </tr>\n",
       "    <tr>\n",
       "      <th>88397</th>\n",
       "      <td>0</td>\n",
       "      <td>1</td>\n",
       "      <td>8.0</td>\n",
       "      <td>24</td>\n",
       "      <td>172</td>\n",
       "    </tr>\n",
       "  </tbody>\n",
       "</table>\n",
       "</div>"
      ],
      "text/plain": [
       "        Var1  Age  VintageMonths  NumberOfArticlesBySameAuthor  \\\n",
       "589461     0    5           27.0                            29   \n",
       "362953     0    3           18.0                            20   \n",
       "422114     0    4           23.0                             1   \n",
       "169569     0    2           21.0                           175   \n",
       "88397      0    1            8.0                            24   \n",
       "\n",
       "        NumberOfArticlesinSameCategory  \n",
       "589461                             399  \n",
       "362953                             185  \n",
       "422114                             516  \n",
       "169569                             185  \n",
       "88397                              172  "
      ]
     },
     "execution_count": 134,
     "metadata": {},
     "output_type": "execute_result"
    }
   ],
   "source": [
    "X_new.head()"
   ]
  },
  {
   "cell_type": "code",
   "execution_count": 135,
   "metadata": {
    "collapsed": false
   },
   "outputs": [
    {
     "data": {
      "text/plain": [
       "({'max_depth': 3, 'min_child_weight': 1}, -0.0046020516436517502)"
      ]
     },
     "execution_count": 135,
     "metadata": {},
     "output_type": "execute_result"
    }
   ],
   "source": [
    "# parameter testing first\n",
    "param_test1 = {\n",
    " 'max_depth':[3,5,7,9],\n",
    " 'min_child_weight':[1,3,5]\n",
    "}\n",
    "gsearch1 = RandomizedSearchCV(estimator = XGBRegressor(learning_rate =0.1, n_estimators=1000, max_depth=5,\n",
    " min_child_weight=1, gamma=0, subsample=0.8, colsample_bytree=0.8,\n",
    " objective= 'reg:linear', nthread=4, scale_pos_weight=1, seed=27), \n",
    " param_distributions = param_test1,n_jobs=4,iid=False, cv=5)\n",
    "gsearch1.fit(X_new,y_new)\n",
    "gsearch1.best_params_, gsearch1.best_score_"
   ]
  },
  {
   "cell_type": "code",
   "execution_count": 136,
   "metadata": {
    "collapsed": false
   },
   "outputs": [
    {
     "data": {
      "text/plain": [
       "({'max_depth': 2}, 0.007303612324421782)"
      ]
     },
     "execution_count": 136,
     "metadata": {},
     "output_type": "execute_result"
    }
   ],
   "source": [
    "param_test2 = {\n",
    " 'max_depth':[2,3,4]\n",
    "}\n",
    "gsearch2 = GridSearchCV(estimator = XGBRegressor(learning_rate =0.1, n_estimators=1000, max_depth=3,\n",
    " min_child_weight=1, gamma=0, subsample=0.8, colsample_bytree=0.8,\n",
    " objective= 'reg:linear', nthread=4, scale_pos_weight=1, seed=27), \n",
    " param_grid = param_test2,n_jobs=4,iid=False, cv=5)\n",
    "gsearch2.fit(X_new,y_new)\n",
    "gsearch2.best_params_, gsearch2.best_score_"
   ]
  },
  {
   "cell_type": "code",
   "execution_count": 137,
   "metadata": {
    "collapsed": false
   },
   "outputs": [
    {
     "data": {
      "text/plain": [
       "([mean: 0.00730, std: 0.00520, params: {'gamma': 0.0},\n",
       "  mean: 0.00729, std: 0.00520, params: {'gamma': 0.01},\n",
       "  mean: 0.00729, std: 0.00520, params: {'gamma': 0.02},\n",
       "  mean: 0.00729, std: 0.00520, params: {'gamma': 0.03},\n",
       "  mean: 0.00729, std: 0.00520, params: {'gamma': 0.04},\n",
       "  mean: 0.00729, std: 0.00520, params: {'gamma': 0.05},\n",
       "  mean: 0.00721, std: 0.00532, params: {'gamma': 0.06},\n",
       "  mean: 0.00727, std: 0.00536, params: {'gamma': 0.07},\n",
       "  mean: 0.00727, std: 0.00536, params: {'gamma': 0.08}],\n",
       " {'gamma': 0.0},\n",
       " 0.007303612324421782)"
      ]
     },
     "execution_count": 137,
     "metadata": {},
     "output_type": "execute_result"
    }
   ],
   "source": [
    "param_test3 = {\n",
    " 'gamma':[i/100.0 for i in range(0,9)]\n",
    "}\n",
    "gsearch3 = GridSearchCV(estimator = XGBRegressor(learning_rate =0.1, n_estimators=1000, max_depth=2,\n",
    " min_child_weight=1, gamma=0, subsample=0.8, colsample_bytree=0.8,\n",
    " objective= 'reg:linear', nthread=4, scale_pos_weight=1, seed=27), \n",
    " param_grid = param_test3,n_jobs=4,iid=False, cv=5)\n",
    "gsearch3.fit(X_new,y_new)\n",
    "gsearch3.grid_scores_, gsearch3.best_params_, gsearch3.best_score_"
   ]
  },
  {
   "cell_type": "code",
   "execution_count": 145,
   "metadata": {
    "collapsed": false
   },
   "outputs": [
    {
     "data": {
      "text/plain": [
       "([mean: 0.01162, std: 0.00198, params: {'n_estimators': 100},\n",
       "  mean: 0.01265, std: 0.00334, params: {'n_estimators': 200},\n",
       "  mean: 0.01256, std: 0.00362, params: {'n_estimators': 300},\n",
       "  mean: 0.01220, std: 0.00429, params: {'n_estimators': 400},\n",
       "  mean: 0.01218, std: 0.00451, params: {'n_estimators': 500},\n",
       "  mean: 0.01169, std: 0.00460, params: {'n_estimators': 600},\n",
       "  mean: 0.01109, std: 0.00489, params: {'n_estimators': 700},\n",
       "  mean: 0.01048, std: 0.00494, params: {'n_estimators': 800},\n",
       "  mean: 0.01031, std: 0.00524, params: {'n_estimators': 900},\n",
       "  mean: 0.00987, std: 0.00561, params: {'n_estimators': 1000}],\n",
       " {'n_estimators': 200},\n",
       " 0.01265163273987735)"
      ]
     },
     "execution_count": 145,
     "metadata": {},
     "output_type": "execute_result"
    }
   ],
   "source": [
    "param_test4 = {\n",
    "    'n_estimators':[100,200,300,400,500,600,700,800,900,1000]\n",
    "}\n",
    "gsearch4 = GridSearchCV(estimator = XGBRegressor(learning_rate =0.1, n_estimators=1000, max_depth=2,\n",
    " min_child_weight=1, gamma=0.0, colsample_bylevel=0.85 , colsample_bytree=0.85,reg_alpha=1.0,\n",
    " objective= 'reg:linear', nthread=4, scale_pos_weight=1, seed=27), \n",
    " param_grid = param_test4,n_jobs=4,iid=False, cv=5)\n",
    "gsearch4.fit(X_new,y_new)\n",
    "gsearch4.grid_scores_, gsearch4.best_params_, gsearch4.best_score_"
   ]
  },
  {
   "cell_type": "code",
   "execution_count": 139,
   "metadata": {
    "collapsed": false
   },
   "outputs": [
    {
     "data": {
      "text/plain": [
       "([mean: 0.00935, std: 0.00548, params: {'colsample_bylevel': 0.85, 'colsample_bytree': 0.85},\n",
       "  mean: 0.00935, std: 0.00548, params: {'colsample_bylevel': 0.85, 'colsample_bytree': 0.9},\n",
       "  mean: 0.00935, std: 0.00548, params: {'colsample_bylevel': 0.85, 'colsample_bytree': 0.95},\n",
       "  mean: 0.00884, std: 0.00594, params: {'colsample_bylevel': 0.85, 'colsample_bytree': 1.0},\n",
       "  mean: 0.00935, std: 0.00548, params: {'colsample_bylevel': 0.9, 'colsample_bytree': 0.85},\n",
       "  mean: 0.00935, std: 0.00548, params: {'colsample_bylevel': 0.9, 'colsample_bytree': 0.9},\n",
       "  mean: 0.00935, std: 0.00548, params: {'colsample_bylevel': 0.9, 'colsample_bytree': 0.95},\n",
       "  mean: 0.00884, std: 0.00594, params: {'colsample_bylevel': 0.9, 'colsample_bytree': 1.0},\n",
       "  mean: 0.00935, std: 0.00548, params: {'colsample_bylevel': 0.95, 'colsample_bytree': 0.85},\n",
       "  mean: 0.00935, std: 0.00548, params: {'colsample_bylevel': 0.95, 'colsample_bytree': 0.9},\n",
       "  mean: 0.00935, std: 0.00548, params: {'colsample_bylevel': 0.95, 'colsample_bytree': 0.95},\n",
       "  mean: 0.00884, std: 0.00594, params: {'colsample_bylevel': 0.95, 'colsample_bytree': 1.0},\n",
       "  mean: 0.00871, std: 0.00564, params: {'colsample_bylevel': 1.0, 'colsample_bytree': 0.85},\n",
       "  mean: 0.00871, std: 0.00564, params: {'colsample_bylevel': 1.0, 'colsample_bytree': 0.9},\n",
       "  mean: 0.00871, std: 0.00564, params: {'colsample_bylevel': 1.0, 'colsample_bytree': 0.95},\n",
       "  mean: 0.00862, std: 0.00584, params: {'colsample_bylevel': 1.0, 'colsample_bytree': 1.0}],\n",
       " {'colsample_bylevel': 0.85, 'colsample_bytree': 0.85},\n",
       " 0.009349986845804348)"
      ]
     },
     "execution_count": 139,
     "metadata": {},
     "output_type": "execute_result"
    }
   ],
   "source": [
    "param_test5 = {\n",
    " 'colsample_bylevel':[i/100.0 for i in range(85,105,5)],\n",
    " 'colsample_bytree':[i/100.0 for i in range(85,105,5)]\n",
    "}\n",
    "gsearch5 = GridSearchCV(estimator = XGBRegressor(learning_rate =0.1, n_estimators=1000, max_depth=2,\n",
    " min_child_weight=1, gamma=0.0, colsample_bylevel=1, colsample_bytree=1,\n",
    " objective= 'reg:linear', nthread=4, scale_pos_weight=1, seed=27), \n",
    " param_grid = param_test5,n_jobs=4,iid=False, cv=5)\n",
    "gsearch5.fit(X_new,y_new)\n",
    "gsearch5.grid_scores_, gsearch5.best_params_, gsearch5.best_score_"
   ]
  },
  {
   "cell_type": "code",
   "execution_count": 140,
   "metadata": {
    "collapsed": false
   },
   "outputs": [
    {
     "data": {
      "text/plain": [
       "([mean: 0.00935, std: 0.00548, params: {'reg_alpha': 1e-05},\n",
       "  mean: 0.00918, std: 0.00587, params: {'reg_alpha': 0.01},\n",
       "  mean: 0.00898, std: 0.00573, params: {'reg_alpha': 0.1},\n",
       "  mean: 0.00987, std: 0.00561, params: {'reg_alpha': 1},\n",
       "  mean: 0.00953, std: 0.00089, params: {'reg_alpha': 100}],\n",
       " {'reg_alpha': 1},\n",
       " 0.009874053320142972)"
      ]
     },
     "execution_count": 140,
     "metadata": {},
     "output_type": "execute_result"
    }
   ],
   "source": [
    "param_test6 = {\n",
    " 'reg_alpha':[1e-5, 1e-2, 0.1, 1, 100]\n",
    "}\n",
    "gsearch6 = GridSearchCV(estimator = XGBRegressor(learning_rate =0.1, n_estimators=1000, max_depth=2,\n",
    " min_child_weight=1, gamma=0.0, colsample_bylevel=0.85, colsample_bytree=0.85,reg_alpha=0,\n",
    " objective= 'reg:linear', nthread=4, scale_pos_weight=1, seed=27), \n",
    " param_grid = param_test6,n_jobs=4,iid=False, cv=5)\n",
    "gsearch6.fit(X_new,y_new)\n",
    "gsearch6.grid_scores_, gsearch6.best_params_, gsearch6.best_score_"
   ]
  },
  {
   "cell_type": "code",
   "execution_count": 142,
   "metadata": {
    "collapsed": false
   },
   "outputs": [
    {
     "data": {
      "text/plain": [
       "([mean: 0.00912, std: 0.00509, params: {'reg_alpha': 0.9},\n",
       "  mean: 0.00987, std: 0.00561, params: {'reg_alpha': 1.0},\n",
       "  mean: 0.00954, std: 0.00546, params: {'reg_alpha': 1.5}],\n",
       " {'reg_alpha': 1.0},\n",
       " 0.009874053320142972)"
      ]
     },
     "execution_count": 142,
     "metadata": {},
     "output_type": "execute_result"
    }
   ],
   "source": [
    "param_test7 = {\n",
    " 'reg_alpha':[0.9,1.0,1.5]\n",
    "}\n",
    "gsearch7 = GridSearchCV(estimator = XGBRegressor(learning_rate =0.1, n_estimators=1000, max_depth=2,\n",
    " min_child_weight=1, gamma=0.0, colsample_bylevel=0.85, colsample_bytree=0.85,reg_alpha=1,\n",
    " objective= 'reg:linear', nthread=4, scale_pos_weight=1, seed=27), \n",
    " param_grid = param_test7,n_jobs=4,iid=False, cv=5)\n",
    "gsearch7.fit(X_new,y_new)\n",
    "gsearch7.grid_scores_, gsearch7.best_params_, gsearch7.best_score_"
   ]
  },
  {
   "cell_type": "code",
   "execution_count": 148,
   "metadata": {
    "collapsed": false
   },
   "outputs": [
    {
     "data": {
      "text/plain": [
       "([mean: 0.01185, std: 0.00232, params: {'learning_rate': 0.05},\n",
       "  mean: 0.01265, std: 0.00334, params: {'learning_rate': 0.1}],\n",
       " {'learning_rate': 0.1},\n",
       " 0.01265163273987735)"
      ]
     },
     "execution_count": 148,
     "metadata": {},
     "output_type": "execute_result"
    }
   ],
   "source": [
    "param_test8 = {\n",
    " 'learning_rate':[0.05,0.1]\n",
    "}\n",
    "gsearch8 = GridSearchCV(estimator = XGBRegressor(learning_rate =0.1, n_estimators=200, max_depth=2,\n",
    " min_child_weight=1, gamma=0.0, colsample_bylevel=0.85, colsample_bytree=0.85,reg_alpha=1.0,\n",
    " objective= 'reg:linear', nthread=4, scale_pos_weight=1, seed=27), \n",
    " param_grid = param_test8,n_jobs=4,iid=False, cv=5)\n",
    "gsearch8.fit(X_new,y_new)\n",
    "gsearch8.grid_scores_, gsearch8.best_params_, gsearch8.best_score_"
   ]
  },
  {
   "cell_type": "code",
   "execution_count": 149,
   "metadata": {
    "collapsed": false
   },
   "outputs": [
    {
     "data": {
      "text/plain": [
       "([mean: 0.01229, std: 0.00218, params: {'subsample': 0.5},\n",
       "  mean: 0.01234, std: 0.00301, params: {'subsample': 0.6},\n",
       "  mean: 0.01202, std: 0.00315, params: {'subsample': 0.7},\n",
       "  mean: 0.01205, std: 0.00336, params: {'subsample': 0.8},\n",
       "  mean: 0.01250, std: 0.00277, params: {'subsample': 0.9},\n",
       "  mean: 0.01265, std: 0.00334, params: {'subsample': 1.0}],\n",
       " {'subsample': 1.0},\n",
       " 0.01265163273987735)"
      ]
     },
     "execution_count": 149,
     "metadata": {},
     "output_type": "execute_result"
    }
   ],
   "source": [
    "param_test9={\n",
    "    'subsample':[0.5,0.6,0.7,0.8,0.9,1.0]\n",
    "}\n",
    "gsearch9 = GridSearchCV(estimator = XGBRegressor(learning_rate =0.1, n_estimators=200, max_depth=2,\n",
    " min_child_weight=1, gamma=0.0, colsample_bylevel=0.85, colsample_bytree=0.85,reg_alpha=1.0,\n",
    " objective= 'reg:linear', nthread=4, scale_pos_weight=1, seed=27,subsample=1), \n",
    " param_grid = param_test9,n_jobs=4,iid=False, cv=5)\n",
    "gsearch9.fit(X_new,y_new)\n",
    "gsearch9.grid_scores_, gsearch9.best_params_, gsearch9.best_score_"
   ]
  },
  {
   "cell_type": "code",
   "execution_count": 170,
   "metadata": {
    "collapsed": true
   },
   "outputs": [],
   "source": [
    "xgb = XGBRegressor(learning_rate =0.1, n_estimators=200, max_depth=2,\n",
    " min_child_weight=1, gamma=0.0, colsample_bylevel=0.85, colsample_bytree=0.85,reg_alpha=1.0,\n",
    " objective= 'reg:linear', nthread=4, scale_pos_weight=1, seed=27,subsample=1)"
   ]
  },
  {
   "cell_type": "code",
   "execution_count": 241,
   "metadata": {
    "collapsed": true
   },
   "outputs": [],
   "source": [
    "xgb1 = XGBRegressor()"
   ]
  },
  {
   "cell_type": "code",
   "execution_count": 242,
   "metadata": {
    "collapsed": false
   },
   "outputs": [
    {
     "data": {
      "text/plain": [
       "XGBRegressor(base_score=0.5, colsample_bylevel=1, colsample_bytree=1, gamma=0,\n",
       "       learning_rate=0.1, max_delta_step=0, max_depth=3,\n",
       "       min_child_weight=1, missing=None, n_estimators=100, nthread=-1,\n",
       "       objective='reg:linear', reg_alpha=0, reg_lambda=1,\n",
       "       scale_pos_weight=1, seed=0, silent=True, subsample=1)"
      ]
     },
     "execution_count": 242,
     "metadata": {},
     "output_type": "execute_result"
    }
   ],
   "source": [
    "xgb1.fit(X,y)"
   ]
  },
  {
   "cell_type": "code",
   "execution_count": 174,
   "metadata": {
    "collapsed": false
   },
   "outputs": [
    {
     "data": {
      "text/plain": [
       "Index(['Var1', 'Age', 'VintageMonths', 'NumberOfArticlesBySameAuthor',\n",
       "       'NumberOfArticlesinSameCategory', 'auth_cat'],\n",
       "      dtype='object')"
      ]
     },
     "execution_count": 174,
     "metadata": {},
     "output_type": "execute_result"
    }
   ],
   "source": [
    "X_test.columns"
   ]
  },
  {
   "cell_type": "code",
   "execution_count": 243,
   "metadata": {
    "collapsed": true
   },
   "outputs": [],
   "source": [
    "pred = xgb1.predict(X_test)"
   ]
  },
  {
   "cell_type": "code",
   "execution_count": 244,
   "metadata": {
    "collapsed": false
   },
   "outputs": [],
   "source": [
    "pred = (pred).astype(int)"
   ]
  },
  {
   "cell_type": "code",
   "execution_count": 203,
   "metadata": {
    "collapsed": false
   },
   "outputs": [
    {
     "data": {
      "text/plain": [
       "False"
      ]
     },
     "execution_count": 203,
     "metadata": {},
     "output_type": "execute_result"
    }
   ],
   "source": [
    "3 in pred"
   ]
  },
  {
   "cell_type": "code",
   "execution_count": 245,
   "metadata": {
    "collapsed": false
   },
   "outputs": [
    {
     "data": {
      "text/html": [
       "<div>\n",
       "<table border=\"1\" class=\"dataframe\">\n",
       "  <thead>\n",
       "    <tr style=\"text-align: right;\">\n",
       "      <th></th>\n",
       "      <th>ID</th>\n",
       "      <th>Rating</th>\n",
       "    </tr>\n",
       "  </thead>\n",
       "  <tbody>\n",
       "    <tr>\n",
       "      <th>0</th>\n",
       "      <td>20080822161_1219173561</td>\n",
       "      <td>1</td>\n",
       "    </tr>\n",
       "    <tr>\n",
       "      <th>1</th>\n",
       "      <td>20080897249_1219261365</td>\n",
       "      <td>1</td>\n",
       "    </tr>\n",
       "    <tr>\n",
       "      <th>2</th>\n",
       "      <td>20080820904_1219173612</td>\n",
       "      <td>1</td>\n",
       "    </tr>\n",
       "    <tr>\n",
       "      <th>3</th>\n",
       "      <td>20080822161_1219327647</td>\n",
       "      <td>1</td>\n",
       "    </tr>\n",
       "    <tr>\n",
       "      <th>4</th>\n",
       "      <td>20080829000_1219098750</td>\n",
       "      <td>1</td>\n",
       "    </tr>\n",
       "  </tbody>\n",
       "</table>\n",
       "</div>"
      ],
      "text/plain": [
       "                       ID  Rating\n",
       "0  20080822161_1219173561       1\n",
       "1  20080897249_1219261365       1\n",
       "2  20080820904_1219173612       1\n",
       "3  20080822161_1219327647       1\n",
       "4  20080829000_1219098750       1"
      ]
     },
     "execution_count": 245,
     "metadata": {},
     "output_type": "execute_result"
    }
   ],
   "source": [
    "submission = pd.DataFrame(data=[], columns=['ID', 'Rating'])\n",
    "submission.ID = test.ID; submission.Rating = pred\n",
    "\n",
    "submission.to_csv('submission.csv', index=False)\n",
    "\n",
    "submission.head()"
   ]
  }
 ],
 "metadata": {
  "anaconda-cloud": {},
  "kernelspec": {
   "display_name": "Python [default]",
   "language": "python",
   "name": "python3"
  },
  "language_info": {
   "codemirror_mode": {
    "name": "ipython",
    "version": 3
   },
   "file_extension": ".py",
   "mimetype": "text/x-python",
   "name": "python",
   "nbconvert_exporter": "python",
   "pygments_lexer": "ipython3",
   "version": "3.5.2"
  }
 },
 "nbformat": 4,
 "nbformat_minor": 1
}
