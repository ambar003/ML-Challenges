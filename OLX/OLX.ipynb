{
 "cells": [
  {
   "cell_type": "code",
   "execution_count": 1,
   "metadata": {
    "collapsed": true
   },
   "outputs": [],
   "source": [
    "import pandas as pd\n",
    "import numpy as np"
   ]
  },
  {
   "cell_type": "code",
   "execution_count": 5,
   "metadata": {
    "collapsed": false
   },
   "outputs": [
    {
     "data": {
      "text/html": [
       "<div>\n",
       "<table border=\"1\" class=\"dataframe\">\n",
       "  <thead>\n",
       "    <tr style=\"text-align: right;\">\n",
       "      <th></th>\n",
       "      <th>ad_id</th>\n",
       "      <th>category_id</th>\n",
       "      <th>seller_id</th>\n",
       "      <th>creation_time</th>\n",
       "      <th>title</th>\n",
       "      <th>description</th>\n",
       "      <th>price</th>\n",
       "      <th>lat</th>\n",
       "      <th>long</th>\n",
       "      <th>source</th>\n",
       "      <th>enabled</th>\n",
       "    </tr>\n",
       "  </thead>\n",
       "  <tbody>\n",
       "    <tr>\n",
       "      <th>0</th>\n",
       "      <td>1344</td>\n",
       "      <td>800</td>\n",
       "      <td>1157</td>\n",
       "      <td>2015-11-29 13:05:26</td>\n",
       "      <td>Blackberry curve</td>\n",
       "      <td>Funcionando, es para personal el único problem...</td>\n",
       "      <td>300.0</td>\n",
       "      <td>NaN</td>\n",
       "      <td>NaN</td>\n",
       "      <td>android</td>\n",
       "      <td>0</td>\n",
       "    </tr>\n",
       "    <tr>\n",
       "      <th>1</th>\n",
       "      <td>3916</td>\n",
       "      <td>815</td>\n",
       "      <td>59</td>\n",
       "      <td>2015-12-16 09:09:25</td>\n",
       "      <td>Remera marca premium alemana</td>\n",
       "      <td>Casi nuevo y sin uso. Lo compre online y me qu...</td>\n",
       "      <td>150.0</td>\n",
       "      <td>NaN</td>\n",
       "      <td>NaN</td>\n",
       "      <td>android</td>\n",
       "      <td>1</td>\n",
       "    </tr>\n",
       "    <tr>\n",
       "      <th>2</th>\n",
       "      <td>11738</td>\n",
       "      <td>806</td>\n",
       "      <td>12298</td>\n",
       "      <td>2016-01-19 18:38:24</td>\n",
       "      <td>Juego de sillones estilo campo</td>\n",
       "      <td>Divino juego de sillones de diseño campo</td>\n",
       "      <td>1500.0</td>\n",
       "      <td>NaN</td>\n",
       "      <td>NaN</td>\n",
       "      <td>android</td>\n",
       "      <td>1</td>\n",
       "    </tr>\n",
       "    <tr>\n",
       "      <th>3</th>\n",
       "      <td>14939</td>\n",
       "      <td>815</td>\n",
       "      <td>1349</td>\n",
       "      <td>2016-01-30 23:47:30</td>\n",
       "      <td>Zapatillas</td>\n",
       "      <td>Zapatillas nro 39 dos usos</td>\n",
       "      <td>250.0</td>\n",
       "      <td>NaN</td>\n",
       "      <td>NaN</td>\n",
       "      <td>android</td>\n",
       "      <td>0</td>\n",
       "    </tr>\n",
       "    <tr>\n",
       "      <th>4</th>\n",
       "      <td>16820</td>\n",
       "      <td>815</td>\n",
       "      <td>16365</td>\n",
       "      <td>2016-02-05 10:22:29</td>\n",
       "      <td>Vestido de seda negro</td>\n",
       "      <td>Vestido importado de usa. Muy fino y elegante ...</td>\n",
       "      <td>500.0</td>\n",
       "      <td>NaN</td>\n",
       "      <td>NaN</td>\n",
       "      <td>android</td>\n",
       "      <td>0</td>\n",
       "    </tr>\n",
       "  </tbody>\n",
       "</table>\n",
       "</div>"
      ],
      "text/plain": [
       "   ad_id  category_id  seller_id        creation_time  \\\n",
       "0   1344          800       1157  2015-11-29 13:05:26   \n",
       "1   3916          815         59  2015-12-16 09:09:25   \n",
       "2  11738          806      12298  2016-01-19 18:38:24   \n",
       "3  14939          815       1349  2016-01-30 23:47:30   \n",
       "4  16820          815      16365  2016-02-05 10:22:29   \n",
       "\n",
       "                            title  \\\n",
       "0                Blackberry curve   \n",
       "1    Remera marca premium alemana   \n",
       "2  Juego de sillones estilo campo   \n",
       "3                      Zapatillas   \n",
       "4           Vestido de seda negro   \n",
       "\n",
       "                                         description   price  lat  long  \\\n",
       "0  Funcionando, es para personal el único problem...   300.0  NaN   NaN   \n",
       "1  Casi nuevo y sin uso. Lo compre online y me qu...   150.0  NaN   NaN   \n",
       "2           Divino juego de sillones de diseño campo  1500.0  NaN   NaN   \n",
       "3                         Zapatillas nro 39 dos usos   250.0  NaN   NaN   \n",
       "4  Vestido importado de usa. Muy fino y elegante ...   500.0  NaN   NaN   \n",
       "\n",
       "    source  enabled  \n",
       "0  android        0  \n",
       "1  android        1  \n",
       "2  android        1  \n",
       "3  android        0  \n",
       "4  android        0  "
      ]
     },
     "execution_count": 5,
     "metadata": {},
     "output_type": "execute_result"
    }
   ],
   "source": [
    "ads = pd.read_csv('ads_data.csv')\n",
    "ads.head()"
   ]
  },
  {
   "cell_type": "code",
   "execution_count": 3,
   "metadata": {
    "collapsed": false
   },
   "outputs": [
    {
     "data": {
      "text/html": [
       "<div>\n",
       "<table border=\"1\" class=\"dataframe\">\n",
       "  <thead>\n",
       "    <tr style=\"text-align: right;\">\n",
       "      <th></th>\n",
       "      <th>event_time</th>\n",
       "      <th>user_id</th>\n",
       "      <th>event</th>\n",
       "      <th>channel</th>\n",
       "      <th>user_lat</th>\n",
       "      <th>user_long</th>\n",
       "      <th>origin</th>\n",
       "      <th>ad_id</th>\n",
       "      <th>images_count</th>\n",
       "      <th>ad_impressions</th>\n",
       "      <th>ad_views</th>\n",
       "      <th>ad_messages</th>\n",
       "    </tr>\n",
       "  </thead>\n",
       "  <tbody>\n",
       "    <tr>\n",
       "      <th>0</th>\n",
       "      <td>2017-05-19 10:47:22</td>\n",
       "      <td>541</td>\n",
       "      <td>view</td>\n",
       "      <td>ios</td>\n",
       "      <td>-34.600439</td>\n",
       "      <td>-58.514031</td>\n",
       "      <td>browse_search</td>\n",
       "      <td>2426321</td>\n",
       "      <td>6.0</td>\n",
       "      <td>0.0</td>\n",
       "      <td>4.0</td>\n",
       "      <td>0.0</td>\n",
       "    </tr>\n",
       "    <tr>\n",
       "      <th>1</th>\n",
       "      <td>2017-06-10 10:18:12</td>\n",
       "      <td>501</td>\n",
       "      <td>view</td>\n",
       "      <td>android</td>\n",
       "      <td>-34.818047</td>\n",
       "      <td>-58.356583</td>\n",
       "      <td>browse_search</td>\n",
       "      <td>2746814</td>\n",
       "      <td>5.0</td>\n",
       "      <td>152.0</td>\n",
       "      <td>85.0</td>\n",
       "      <td>1.0</td>\n",
       "    </tr>\n",
       "    <tr>\n",
       "      <th>2</th>\n",
       "      <td>2017-06-11 00:44:57</td>\n",
       "      <td>559</td>\n",
       "      <td>view</td>\n",
       "      <td>android</td>\n",
       "      <td>-34.688454</td>\n",
       "      <td>-58.333435</td>\n",
       "      <td>browse</td>\n",
       "      <td>1123948</td>\n",
       "      <td>4.0</td>\n",
       "      <td>899.0</td>\n",
       "      <td>22.0</td>\n",
       "      <td>1.0</td>\n",
       "    </tr>\n",
       "    <tr>\n",
       "      <th>3</th>\n",
       "      <td>2017-05-22 02:36:06</td>\n",
       "      <td>637</td>\n",
       "      <td>first_message</td>\n",
       "      <td>android</td>\n",
       "      <td>-34.548401</td>\n",
       "      <td>-58.485168</td>\n",
       "      <td>search</td>\n",
       "      <td>2273498</td>\n",
       "      <td>NaN</td>\n",
       "      <td>0.0</td>\n",
       "      <td>21.0</td>\n",
       "      <td>2.0</td>\n",
       "    </tr>\n",
       "    <tr>\n",
       "      <th>4</th>\n",
       "      <td>2017-06-08 15:45:35</td>\n",
       "      <td>509</td>\n",
       "      <td>view</td>\n",
       "      <td>android</td>\n",
       "      <td>-34.582088</td>\n",
       "      <td>-58.405041</td>\n",
       "      <td>home</td>\n",
       "      <td>2722493</td>\n",
       "      <td>3.0</td>\n",
       "      <td>1529.0</td>\n",
       "      <td>132.0</td>\n",
       "      <td>3.0</td>\n",
       "    </tr>\n",
       "  </tbody>\n",
       "</table>\n",
       "</div>"
      ],
      "text/plain": [
       "            event_time  user_id          event  channel   user_lat  user_long  \\\n",
       "0  2017-05-19 10:47:22      541           view      ios -34.600439 -58.514031   \n",
       "1  2017-06-10 10:18:12      501           view  android -34.818047 -58.356583   \n",
       "2  2017-06-11 00:44:57      559           view  android -34.688454 -58.333435   \n",
       "3  2017-05-22 02:36:06      637  first_message  android -34.548401 -58.485168   \n",
       "4  2017-06-08 15:45:35      509           view  android -34.582088 -58.405041   \n",
       "\n",
       "          origin    ad_id  images_count  ad_impressions  ad_views  ad_messages  \n",
       "0  browse_search  2426321           6.0             0.0       4.0          0.0  \n",
       "1  browse_search  2746814           5.0           152.0      85.0          1.0  \n",
       "2         browse  1123948           4.0           899.0      22.0          1.0  \n",
       "3         search  2273498           NaN             0.0      21.0          2.0  \n",
       "4           home  2722493           3.0          1529.0     132.0          3.0  "
      ]
     },
     "execution_count": 3,
     "metadata": {},
     "output_type": "execute_result"
    }
   ],
   "source": [
    "user = pd.read_csv('user_data.csv')\n",
    "user.head()"
   ]
  },
  {
   "cell_type": "code",
   "execution_count": 6,
   "metadata": {
    "collapsed": false
   },
   "outputs": [
    {
     "data": {
      "text/html": [
       "<div>\n",
       "<table border=\"1\" class=\"dataframe\">\n",
       "  <thead>\n",
       "    <tr style=\"text-align: right;\">\n",
       "      <th></th>\n",
       "      <th>user_id</th>\n",
       "      <th>category_id</th>\n",
       "      <th>ads</th>\n",
       "    </tr>\n",
       "  </thead>\n",
       "  <tbody>\n",
       "    <tr>\n",
       "      <th>0</th>\n",
       "      <td>1</td>\n",
       "      <td>859</td>\n",
       "      <td>[1806476]</td>\n",
       "    </tr>\n",
       "    <tr>\n",
       "      <th>1</th>\n",
       "      <td>3</td>\n",
       "      <td>800</td>\n",
       "      <td>[2131700, 2734107, 2877209, 2877209]</td>\n",
       "    </tr>\n",
       "    <tr>\n",
       "      <th>2</th>\n",
       "      <td>4</td>\n",
       "      <td>815</td>\n",
       "      <td>[2883211]</td>\n",
       "    </tr>\n",
       "    <tr>\n",
       "      <th>3</th>\n",
       "      <td>7</td>\n",
       "      <td>815</td>\n",
       "      <td>[2429412, 2886810, 2886804]</td>\n",
       "    </tr>\n",
       "    <tr>\n",
       "      <th>4</th>\n",
       "      <td>7</td>\n",
       "      <td>362</td>\n",
       "      <td>[2909301]</td>\n",
       "    </tr>\n",
       "  </tbody>\n",
       "</table>\n",
       "</div>"
      ],
      "text/plain": [
       "   user_id  category_id                                   ads\n",
       "0        1          859                             [1806476]\n",
       "1        3          800  [2131700, 2734107, 2877209, 2877209]\n",
       "2        4          815                             [2883211]\n",
       "3        7          815           [2429412, 2886810, 2886804]\n",
       "4        7          362                             [2909301]"
      ]
     },
     "execution_count": 6,
     "metadata": {},
     "output_type": "execute_result"
    }
   ],
   "source": [
    "message = pd.read_csv('user_messages.csv')\n",
    "message.head()"
   ]
  },
  {
   "cell_type": "code",
   "execution_count": 13,
   "metadata": {
    "collapsed": false
   },
   "outputs": [
    {
     "data": {
      "text/plain": [
       "72561"
      ]
     },
     "execution_count": 13,
     "metadata": {},
     "output_type": "execute_result"
    }
   ],
   "source": [
    "len(ads[ads['category_id']==800])"
   ]
  },
  {
   "cell_type": "code",
   "execution_count": 27,
   "metadata": {
    "collapsed": false
   },
   "outputs": [
    {
     "data": {
      "text/plain": [
       "'[2131700, 2734107, 2877209, 2877209]'"
      ]
     },
     "execution_count": 27,
     "metadata": {},
     "output_type": "execute_result"
    }
   ],
   "source": [
    "(message['ads'][1])"
   ]
  },
  {
   "cell_type": "code",
   "execution_count": 39,
   "metadata": {
    "collapsed": true
   },
   "outputs": [],
   "source": [
    "def update(x):\n",
    "    x = x.replace('[','')\n",
    "    x= x.replace(']','')\n",
    "    x = x.split(',')\n",
    "    temp = []\n",
    "    for item in x:\n",
    "        temp.append(int(item))\n",
    "    return temp    "
   ]
  },
  {
   "cell_type": "code",
   "execution_count": 40,
   "metadata": {
    "collapsed": false
   },
   "outputs": [
    {
     "data": {
      "text/plain": [
       "[2131700, 2734107, 2877209, 2877209]"
      ]
     },
     "execution_count": 40,
     "metadata": {},
     "output_type": "execute_result"
    }
   ],
   "source": [
    "update(message['ads'][1])"
   ]
  },
  {
   "cell_type": "code",
   "execution_count": 20,
   "metadata": {
    "collapsed": false
   },
   "outputs": [
    {
     "data": {
      "text/plain": [
       "str"
      ]
     },
     "execution_count": 20,
     "metadata": {},
     "output_type": "execute_result"
    }
   ],
   "source": [
    "type(message['ads'][0])"
   ]
  },
  {
   "cell_type": "code",
   "execution_count": 41,
   "metadata": {
    "collapsed": false
   },
   "outputs": [
    {
     "data": {
      "text/plain": [
       "0                               [1806476]\n",
       "1    [2131700, 2734107, 2877209, 2877209]\n",
       "2                               [2883211]\n",
       "3             [2429412, 2886810, 2886804]\n",
       "4                               [2909301]\n",
       "Name: ads, dtype: object"
      ]
     },
     "execution_count": 41,
     "metadata": {},
     "output_type": "execute_result"
    }
   ],
   "source": [
    "message['ads'] = message['ads'].apply(lambda x:update(x))\n",
    "message['ads'].head()"
   ]
  },
  {
   "cell_type": "code",
   "execution_count": 42,
   "metadata": {
    "collapsed": false
   },
   "outputs": [
    {
     "data": {
      "text/html": [
       "<div>\n",
       "<table border=\"1\" class=\"dataframe\">\n",
       "  <thead>\n",
       "    <tr style=\"text-align: right;\">\n",
       "      <th></th>\n",
       "      <th>user_id</th>\n",
       "      <th>category_id</th>\n",
       "      <th>ads</th>\n",
       "      <th>ad_count</th>\n",
       "    </tr>\n",
       "  </thead>\n",
       "  <tbody>\n",
       "    <tr>\n",
       "      <th>0</th>\n",
       "      <td>1</td>\n",
       "      <td>859</td>\n",
       "      <td>[1806476]</td>\n",
       "      <td>1</td>\n",
       "    </tr>\n",
       "    <tr>\n",
       "      <th>1</th>\n",
       "      <td>3</td>\n",
       "      <td>800</td>\n",
       "      <td>[2131700, 2734107, 2877209, 2877209]</td>\n",
       "      <td>4</td>\n",
       "    </tr>\n",
       "    <tr>\n",
       "      <th>2</th>\n",
       "      <td>4</td>\n",
       "      <td>815</td>\n",
       "      <td>[2883211]</td>\n",
       "      <td>1</td>\n",
       "    </tr>\n",
       "    <tr>\n",
       "      <th>3</th>\n",
       "      <td>7</td>\n",
       "      <td>815</td>\n",
       "      <td>[2429412, 2886810, 2886804]</td>\n",
       "      <td>3</td>\n",
       "    </tr>\n",
       "    <tr>\n",
       "      <th>4</th>\n",
       "      <td>7</td>\n",
       "      <td>362</td>\n",
       "      <td>[2909301]</td>\n",
       "      <td>1</td>\n",
       "    </tr>\n",
       "  </tbody>\n",
       "</table>\n",
       "</div>"
      ],
      "text/plain": [
       "   user_id  category_id                                   ads  ad_count\n",
       "0        1          859                             [1806476]         1\n",
       "1        3          800  [2131700, 2734107, 2877209, 2877209]         4\n",
       "2        4          815                             [2883211]         1\n",
       "3        7          815           [2429412, 2886810, 2886804]         3\n",
       "4        7          362                             [2909301]         1"
      ]
     },
     "execution_count": 42,
     "metadata": {},
     "output_type": "execute_result"
    }
   ],
   "source": [
    "message['ad_count'] = message['ads'].apply(lambda x:len(x))\n",
    "message.head()"
   ]
  },
  {
   "cell_type": "code",
   "execution_count": 43,
   "metadata": {
    "collapsed": false
   },
   "outputs": [
    {
     "data": {
      "text/plain": [
       "21153"
      ]
     },
     "execution_count": 43,
     "metadata": {},
     "output_type": "execute_result"
    }
   ],
   "source": [
    "message['ad_count'].sum()"
   ]
  }
 ],
 "metadata": {
  "anaconda-cloud": {},
  "kernelspec": {
   "display_name": "Python [conda root]",
   "language": "python",
   "name": "conda-root-py"
  },
  "language_info": {
   "codemirror_mode": {
    "name": "ipython",
    "version": 3
   },
   "file_extension": ".py",
   "mimetype": "text/x-python",
   "name": "python",
   "nbconvert_exporter": "python",
   "pygments_lexer": "ipython3",
   "version": "3.5.2"
  }
 },
 "nbformat": 4,
 "nbformat_minor": 1
}
