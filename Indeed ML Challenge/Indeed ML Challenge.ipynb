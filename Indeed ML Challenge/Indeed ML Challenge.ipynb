{
 "cells": [
  {
   "cell_type": "code",
   "execution_count": 1,
   "metadata": {
    "collapsed": true
   },
   "outputs": [],
   "source": [
    "from pandas import DataFrame\n",
    "import nltk, re, pprint\n",
    "from collections import defaultdict"
   ]
  },
  {
   "cell_type": "code",
   "execution_count": 2,
   "metadata": {
    "collapsed": false
   },
   "outputs": [
    {
     "name": "stderr",
     "output_type": "stream",
     "text": [
      "C:\\Users\\Ambar Gupta\\Anaconda3\\lib\\site-packages\\sklearn\\cross_validation.py:44: DeprecationWarning: This module was deprecated in version 0.18 in favor of the model_selection module into which all the refactored classes and functions are moved. Also note that the interface of the new CV iterators are different from that of this module. This module will be removed in 0.20.\n",
      "  \"This module will be removed in 0.20.\", DeprecationWarning)\n",
      "C:\\Users\\Ambar Gupta\\Anaconda3\\lib\\site-packages\\sklearn\\grid_search.py:43: DeprecationWarning: This module was deprecated in version 0.18 in favor of the model_selection module into which all the refactored classes and functions are moved. This module will be removed in 0.20.\n",
      "  DeprecationWarning)\n"
     ]
    }
   ],
   "source": [
    "from sklearn.feature_extraction.text import CountVectorizer\n",
    "from sklearn.feature_extraction.text import TfidfTransformer\n",
    "    \n",
    "from sklearn.linear_model import RidgeClassifier\n",
    "from sklearn.pipeline import Pipeline\n",
    "from sklearn.svm import LinearSVC\n",
    "from sklearn.linear_model import SGDClassifier\n",
    "from sklearn.linear_model import Perceptron\n",
    "from sklearn.linear_model import PassiveAggressiveClassifier\n",
    "from sklearn.naive_bayes import BernoulliNB, MultinomialNB\n",
    "from sklearn.neighbors import KNeighborsClassifier\n",
    "from sklearn.neighbors import NearestCentroid\n",
    "from sklearn.ensemble import RandomForestClassifier\n",
    "from sklearn.svm import SVC\n",
    "\n",
    "from sklearn.linear_model import LogisticRegression\n",
    "from sklearn import model_selection\n",
    "import numpy as np\n",
    "import xgboost as xgb\n",
    "from sklearn.metrics import mean_squared_error, make_scorer\n",
    "from sklearn import grid_search\n",
    "import random\n",
    "random.seed(2017)"
   ]
  },
  {
   "cell_type": "code",
   "execution_count": 3,
   "metadata": {
    "collapsed": true
   },
   "outputs": [],
   "source": [
    "# http://scikit-learn.org/stable/modules/feature_extraction.html\n",
    "from nltk import word_tokenize          \n",
    "from nltk.stem import WordNetLemmatizer \n",
    "\n",
    "class LemmaTokenizer(object):\n",
    "    def __init__(self):\n",
    "        self.wnl = WordNetLemmatizer()\n",
    "    def __call__(self, doc):\n",
    "        return [self.wnl.lemmatize(t) for t in word_tokenize(doc)]\n",
    "\n",
    "# https://github.com/scikit-learn/scikit-learn/issues/1156\n",
    "# Snowball stemmers could be used as a dependency\n",
    "from nltk.stem import SnowballStemmer\n",
    "\n",
    "class build_stemmer(object):\n",
    "    def __init__(self):\n",
    "        self.wns = SnowballStemmer('english')\n",
    "    def __call__(self, doc):\n",
    "        return [self.wns.stem(t) for t in word_tokenize(doc)]    \n",
    "    \n",
    "# http://www.nltk.org/howto/stem.html \n",
    "# https://github.com/nltk/nltk/issues/1581\n",
    "# pip install nltk==3.2.1\n",
    "from nltk.stem.porter import *\n",
    "\n",
    "class build_stemmer2(object):\n",
    "    def __init__(self):\n",
    "        self.wns = PorterStemmer()\n",
    "    def __call__(self, doc):\n",
    "        return [self.wns.stem(t) for t in word_tokenize(doc)]        \n",
    "    \n",
    "class lemma_stemmer(object):\n",
    "    def __init__(self):\n",
    "        self.wns = SnowballStemmer('english')\n",
    "        self.wnl = WordNetLemmatizer() \n",
    "    def __call__(self, doc):\n",
    "        return [self.wnl.lemmatize(self.wns.stem(t)) for t in word_tokenize(doc)]    "
   ]
  },
  {
   "cell_type": "code",
   "execution_count": 4,
   "metadata": {
    "collapsed": false
   },
   "outputs": [
    {
     "data": {
      "text/html": [
       "<div>\n",
       "<table border=\"1\" class=\"dataframe\">\n",
       "  <thead>\n",
       "    <tr style=\"text-align: right;\">\n",
       "      <th></th>\n",
       "      <th>description</th>\n",
       "    </tr>\n",
       "    <tr>\n",
       "      <th>tags</th>\n",
       "      <th></th>\n",
       "    </tr>\n",
       "  </thead>\n",
       "  <tbody>\n",
       "    <tr>\n",
       "      <th>licence-needed supervising-job 5-plus-years-experience-needed</th>\n",
       "      <td>THE COMPANY    Employer is a midstream service...</td>\n",
       "    </tr>\n",
       "    <tr>\n",
       "      <th>2-4-years-experience-needed salary full-time-job</th>\n",
       "      <td>ICR Staffing is now accepting resumes for Indu...</td>\n",
       "    </tr>\n",
       "    <tr>\n",
       "      <th>part-time-job</th>\n",
       "      <td>This is a great position for the right person....</td>\n",
       "    </tr>\n",
       "    <tr>\n",
       "      <th>licence-needed</th>\n",
       "      <td>A large multi-specialty health center is expan...</td>\n",
       "    </tr>\n",
       "    <tr>\n",
       "      <th>5-plus-years-experience-needed full-time-job bs-degree-needed supervising-job</th>\n",
       "      <td>JOB PURPOSE:    The Account Director is respon...</td>\n",
       "    </tr>\n",
       "  </tbody>\n",
       "</table>\n",
       "</div>"
      ],
      "text/plain": [
       "                                                                                          description\n",
       "tags                                                                                                 \n",
       "licence-needed supervising-job 5-plus-years-exp...  THE COMPANY    Employer is a midstream service...\n",
       "2-4-years-experience-needed salary full-time-job    ICR Staffing is now accepting resumes for Indu...\n",
       "part-time-job                                       This is a great position for the right person....\n",
       "licence-needed                                      A large multi-specialty health center is expan...\n",
       "5-plus-years-experience-needed full-time-job bs...  JOB PURPOSE:    The Account Director is respon..."
      ]
     },
     "execution_count": 4,
     "metadata": {},
     "output_type": "execute_result"
    }
   ],
   "source": [
    "df = DataFrame.from_csv('train.tsv',sep='\\t')\n",
    "df.head()"
   ]
  },
  {
   "cell_type": "code",
   "execution_count": 5,
   "metadata": {
    "collapsed": false
   },
   "outputs": [
    {
     "data": {
      "text/html": [
       "<div>\n",
       "<table border=\"1\" class=\"dataframe\">\n",
       "  <thead>\n",
       "    <tr style=\"text-align: right;\">\n",
       "      <th></th>\n",
       "    </tr>\n",
       "    <tr>\n",
       "      <th>description</th>\n",
       "    </tr>\n",
       "  </thead>\n",
       "  <tbody>\n",
       "    <tr>\n",
       "      <th>Integrity Home Care has an opening on our Leadership Team for a Salaried Private Care Nursing Supervisor. This position requires a MO &amp; KS Licensed RN. Candidate must be able to work in a flexible environment with direct patient care experience as well as community health education, and one on one teaching experience.  This position will be working with pediatric and senior patience in a home environment and hours will be mainly from 8am to 5pm, but candidate will need to be flexible as needed.  If you enjoy the one on one interaction with patients, and working to fulfill their long term needs, start with Integrity today! We are a dynamic and progressive Christian based organization that offers competitive pay and excellent benefits including vacation and sick time, Health, dental, short term disability and life insurance.</th>\n",
       "    </tr>\n",
       "    <tr>\n",
       "      <th>We're looking for a precision grinder with at least 10 years of experience. Prior experience grinding on carburzied parts is also needed.  *Job Description for Precision Grinding Machinist:*  * Set up and operate a variety of manual and CNC grinders for production, R&amp;D and tool repair work. Grinding work will include, but not be limited to, steps, angles, contours and threads. Selects proper speeds, feeds and wheels. This position will be working in an aerospace manufacturing facility.  *Job Requirements for Precision Grinding Machinist:*  Must have at least 10 years experience with the following types of grinders:  * Centerless * Internal * External * Surface * Thread * Universal  Base Pay $35.00 - $40.00 / Hour  Other Pay - O.T. &amp; PER DIEM  These positions are temporary and require travel. We pay your travel expenses. In return, you will have the opportunity to work up to 60 hours per week. You will receive weekly per diem of $595 ($85/day) for food and lodging. This is not an opportunity to permanently relocate because these positions are temporary.  Other Requirements for Precision Grinding Machinist:  * Felony/drug free and submit to a background check * Physical ability to work overtime – up to 60 hour work week * High Security Facility – Must be a US citizen  Strom Engineering provides temporary and contract employment opportunities for general laborers, engineers, machinists, mechanics, technicians &amp; welders.</th>\n",
       "    </tr>\n",
       "  </tbody>\n",
       "</table>\n",
       "</div>"
      ],
      "text/plain": [
       "Empty DataFrame\n",
       "Columns: []\n",
       "Index: [Integrity Home Care has an opening on our Leadership Team for a Salaried Private Care Nursing Supervisor. This position requires a MO & KS Licensed RN. Candidate must be able to work in a flexible environment with direct patient care experience as well as community health education, and one on one teaching experience.  This position will be working with pediatric and senior patience in a home environment and hours will be mainly from 8am to 5pm, but candidate will need to be flexible as needed.  If you enjoy the one on one interaction with patients, and working to fulfill their long term needs, start with Integrity today! We are a dynamic and progressive Christian based organization that offers competitive pay and excellent benefits including vacation and sick time, Health, dental, short term disability and life insurance., We're looking for a precision grinder with at least 10 years of experience. Prior experience grinding on carburzied parts is also needed.  *Job Description for Precision Grinding Machinist:*  * Set up and operate a variety of manual and CNC grinders for production, R&D and tool repair work. Grinding work will include, but not be limited to, steps, angles, contours and threads. Selects proper speeds, feeds and wheels. This position will be working in an aerospace manufacturing facility.  *Job Requirements for Precision Grinding Machinist:*  Must have at least 10 years experience with the following types of grinders:  * Centerless * Internal * External * Surface * Thread * Universal  Base Pay $35.00 - $40.00 / Hour  Other Pay - O.T. & PER DIEM  These positions are temporary and require travel. We pay your travel expenses. In return, you will have the opportunity to work up to 60 hours per week. You will receive weekly per diem of $595 ($85/day) for food and lodging. This is not an opportunity to permanently relocate because these positions are temporary.  Other Requirements for Precision Grinding Machinist:  * Felony/drug free and submit to a background check * Physical ability to work overtime – up to 60 hour work week * High Security Facility – Must be a US citizen  Strom Engineering provides temporary and contract employment opportunities for general laborers, engineers, machinists, mechanics, technicians & welders.]"
      ]
     },
     "execution_count": 5,
     "metadata": {},
     "output_type": "execute_result"
    }
   ],
   "source": [
    "df2 = DataFrame.from_csv('test.tsv',sep='\\t')\n",
    "df2.head(n=2)"
   ]
  },
  {
   "cell_type": "code",
   "execution_count": 6,
   "metadata": {
    "collapsed": true
   },
   "outputs": [],
   "source": [
    "tags = [\"part-time-job\", \"full-time-job\", \"hourly-wage\", \"salary\", \"associate-needed\", \"bs-degree-needed\", \"ms-or-phd-needed\",\n",
    "        \"licence-needed\",\"1-year-experience-needed\", \"2-4-years-experience-needed\", \"5-plus-years-experience-needed\",\n",
    "        \"supervising-job\"]"
   ]
  },
  {
   "cell_type": "code",
   "execution_count": 7,
   "metadata": {
    "collapsed": true
   },
   "outputs": [],
   "source": [
    "def preproc(tag,df,df2):\n",
    "    x_train = []\n",
    "    y_train = []\n",
    "    for index,row in df.iterrows():\n",
    "        x_train.append(row.description.lower())\n",
    "        if type(row.name) == str and  tag in row.name:\n",
    "            y_train.append(1)\n",
    "        else:\n",
    "            y_train.append(0)\n",
    "            \n",
    "    docs_new = []\n",
    "    for index, row in df2.iterrows():\n",
    "        docs_new.append(row.name.lower())\n",
    "    return x_train, y_train, docs_new"
   ]
  },
  {
   "cell_type": "code",
   "execution_count": 8,
   "metadata": {
    "collapsed": true
   },
   "outputs": [],
   "source": [
    "def pred(tag, x_train, y_train, docs_new):\n",
    "    # http://scikit-learn.org/stable/tutorial/text_analytics/working_with_text_data.html\n",
    "    #count_vect = CountVectorizer()\n",
    "    count_vect = CountVectorizer(tokenizer=build_stemmer(), ngram_range=(1, 3))\n",
    "    X_train_counts = count_vect.fit_transform(x_train)\n",
    "    X_train_counts.shape\n",
    "    \n",
    "    tf_transformer = TfidfTransformer(use_idf=False).fit(X_train_counts)\n",
    "    X_train_tf = tf_transformer.transform(X_train_counts)\n",
    "    X_train_tf.shape\n",
    "\n",
    "    tfidf_transformer = TfidfTransformer()\n",
    "    X_train_tfidf = tfidf_transformer.fit_transform(X_train_counts)\n",
    "    X_train_tfidf.shape\n",
    "\n",
    "\n",
    "    clf = xgb.XGBClassifier()\n",
    "    '''\n",
    "    param_grid = {\n",
    "        'n_estimators': [500],\n",
    "        'learning_rate': [0.05],\n",
    "        'max_depth': [5, 7],\n",
    "        'subsample': [0.7, 0.8],\n",
    "        'colsample_bytree': [0.75, 0.85],\n",
    "    }\n",
    "    '''\n",
    "\n",
    "    param_grid = {\n",
    "        'scale_pos_weight' : [2, 2.5, 3, 3.5],\n",
    "        'n_estimators': [100, 150, 200],\n",
    "    }\n",
    "\n",
    "    \n",
    "    model = grid_search.GridSearchCV(estimator=clf, param_grid=param_grid, n_jobs=5, cv=3, verbose=20, scoring = 'f1_micro')\n",
    "    model.fit(X_train_tfidf, y_train)       \n",
    "    X_new_counts = count_vect.transform(docs_new)\n",
    "    X_new_tfidf = tfidf_transformer.transform(X_new_counts)\n",
    "    \n",
    "\n",
    "    predicted = model.predict(X_new_tfidf)\n",
    "\n",
    "\n",
    "    print(sum(predicted))\n",
    "    return predicted"
   ]
  },
  {
   "cell_type": "code",
   "execution_count": 9,
   "metadata": {
    "collapsed": false
   },
   "outputs": [
    {
     "name": "stdout",
     "output_type": "stream",
     "text": [
      "Fitting 3 folds for each of 12 candidates, totalling 36 fits\n"
     ]
    },
    {
     "name": "stderr",
     "output_type": "stream",
     "text": [
      "[Parallel(n_jobs=5)]: Done   1 tasks      | elapsed:  5.5min\n",
      "[Parallel(n_jobs=5)]: Done   2 tasks      | elapsed:  5.5min\n",
      "[Parallel(n_jobs=5)]: Done   3 tasks      | elapsed:  5.5min\n",
      "[Parallel(n_jobs=5)]: Done   4 tasks      | elapsed:  5.5min\n",
      "[Parallel(n_jobs=5)]: Done   5 tasks      | elapsed:  5.6min\n",
      "[Parallel(n_jobs=5)]: Done   6 tasks      | elapsed: 10.5min\n",
      "[Parallel(n_jobs=5)]: Done   7 tasks      | elapsed: 10.5min\n",
      "[Parallel(n_jobs=5)]: Done   8 tasks      | elapsed: 10.6min\n",
      "[Parallel(n_jobs=5)]: Done   9 tasks      | elapsed: 10.7min\n",
      "[Parallel(n_jobs=5)]: Done  10 tasks      | elapsed: 10.7min\n",
      "[Parallel(n_jobs=5)]: Done  11 tasks      | elapsed: 15.6min\n",
      "[Parallel(n_jobs=5)]: Done  12 tasks      | elapsed: 15.6min\n",
      "[Parallel(n_jobs=5)]: Done  13 tasks      | elapsed: 18.0min\n",
      "[Parallel(n_jobs=5)]: Done  14 tasks      | elapsed: 18.2min\n",
      "[Parallel(n_jobs=5)]: Done  15 tasks      | elapsed: 18.2min\n",
      "[Parallel(n_jobs=5)]: Done  16 tasks      | elapsed: 23.0min\n",
      "[Parallel(n_jobs=5)]: Done  17 tasks      | elapsed: 23.0min\n",
      "[Parallel(n_jobs=5)]: Done  18 tasks      | elapsed: 25.5min\n",
      "[Parallel(n_jobs=5)]: Done  19 tasks      | elapsed: 25.6min\n",
      "[Parallel(n_jobs=5)]: Done  20 tasks      | elapsed: 25.7min\n",
      "[Parallel(n_jobs=5)]: Done  21 tasks      | elapsed: 30.5min\n",
      "[Parallel(n_jobs=5)]: Done  22 tasks      | elapsed: 30.6min\n",
      "[Parallel(n_jobs=5)]: Done  23 tasks      | elapsed: 33.0min\n",
      "[Parallel(n_jobs=5)]: Done  24 tasks      | elapsed: 33.1min\n",
      "[Parallel(n_jobs=5)]: Done  25 tasks      | elapsed: 35.5min\n",
      "[Parallel(n_jobs=5)]: Done  26 tasks      | elapsed: 40.3min\n",
      "[Parallel(n_jobs=5)]: Done  27 tasks      | elapsed: 40.5min\n",
      "[Parallel(n_jobs=5)]: Done  29 out of  36 | elapsed: 43.0min remaining: 10.4min\n",
      "[Parallel(n_jobs=5)]: Done  31 out of  36 | elapsed: 50.2min remaining:  8.1min\n",
      "[Parallel(n_jobs=5)]: Done  33 out of  36 | elapsed: 52.4min remaining:  4.8min\n",
      "[Parallel(n_jobs=5)]: Done  36 out of  36 | elapsed: 55.0min finished\n"
     ]
    },
    {
     "name": "stdout",
     "output_type": "stream",
     "text": [
      "180\n"
     ]
    },
    {
     "ename": "NameError",
     "evalue": "name 'outputs' is not defined",
     "output_type": "error",
     "traceback": [
      "\u001b[0;31m---------------------------------------------------------------------------\u001b[0m",
      "\u001b[0;31mNameError\u001b[0m                                 Traceback (most recent call last)",
      "\u001b[0;32m<ipython-input-9-1700a05705af>\u001b[0m in \u001b[0;36m<module>\u001b[0;34m()\u001b[0m\n\u001b[1;32m      5\u001b[0m     \u001b[1;32mfor\u001b[0m \u001b[0mj\u001b[0m\u001b[1;33m,\u001b[0m \u001b[0mitem\u001b[0m \u001b[1;32min\u001b[0m \u001b[0menumerate\u001b[0m\u001b[1;33m(\u001b[0m\u001b[0moutput\u001b[0m\u001b[1;33m)\u001b[0m\u001b[1;33m:\u001b[0m\u001b[1;33m\u001b[0m\u001b[0m\n\u001b[1;32m      6\u001b[0m         \u001b[1;32mif\u001b[0m \u001b[0mitem\u001b[0m \u001b[1;33m==\u001b[0m \u001b[1;36m1\u001b[0m\u001b[1;33m:\u001b[0m\u001b[1;33m\u001b[0m\u001b[0m\n\u001b[0;32m----> 7\u001b[0;31m             \u001b[1;32mif\u001b[0m \u001b[0moutputs\u001b[0m\u001b[1;33m[\u001b[0m\u001b[0mj\u001b[0m\u001b[1;33m]\u001b[0m \u001b[1;33m==\u001b[0m \u001b[1;34m\"\"\u001b[0m\u001b[1;33m:\u001b[0m\u001b[1;33m\u001b[0m\u001b[0m\n\u001b[0m\u001b[1;32m      8\u001b[0m                 \u001b[0moutputs\u001b[0m\u001b[1;33m[\u001b[0m\u001b[0mj\u001b[0m\u001b[1;33m]\u001b[0m \u001b[1;33m=\u001b[0m \u001b[0mtag\u001b[0m\u001b[1;33m\u001b[0m\u001b[0m\n\u001b[1;32m      9\u001b[0m             \u001b[1;32melse\u001b[0m\u001b[1;33m:\u001b[0m\u001b[1;33m\u001b[0m\u001b[0m\n",
      "\u001b[0;31mNameError\u001b[0m: name 'outputs' is not defined"
     ]
    }
   ],
   "source": [
    "output = [\"\"]*2921\n",
    "for i,tag in enumerate(tags):\n",
    "    x_train,y_train,docs_new = preproc(tag,df,df2)\n",
    "    output = pred(tag,x_train,y_train,docs_new)\n",
    "    for j, item in enumerate(output):\n",
    "        if item == 1:\n",
    "            if output[j] == \"\":\n",
    "                output[j] = tag\n",
    "            else:\n",
    "                output[j] += \" \" + tag\n",
    "            \n",
    "for i, item in enumerate(outputs):\n",
    "    if item == \"\":\n",
    "        output[i] = \" \""
   ]
  }
 ],
 "metadata": {
  "anaconda-cloud": {},
  "kernelspec": {
   "display_name": "Python [conda root]",
   "language": "python",
   "name": "conda-root-py"
  },
  "language_info": {
   "codemirror_mode": {
    "name": "ipython",
    "version": 3
   },
   "file_extension": ".py",
   "mimetype": "text/x-python",
   "name": "python",
   "nbconvert_exporter": "python",
   "pygments_lexer": "ipython3",
   "version": "3.5.2"
  }
 },
 "nbformat": 4,
 "nbformat_minor": 1
}
