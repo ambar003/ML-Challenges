{
 "cells": [
  {
   "cell_type": "code",
   "execution_count": 1,
   "metadata": {
    "collapsed": true
   },
   "outputs": [],
   "source": [
    "import pandas as pd\n",
    "import numpy as np"
   ]
  },
  {
   "cell_type": "code",
   "execution_count": 2,
   "metadata": {
    "collapsed": true
   },
   "outputs": [],
   "source": [
    "import os\n",
    "mingw_path = 'C:\\\\Program Files\\\\mingw-w64\\\\x86_64-6.3.0-posix-seh-rt_v5-rev1\\\\mingw64\\\\bin'\n",
    "os.environ['PATH'] = mingw_path + ';' + os.environ['PATH']"
   ]
  },
  {
   "cell_type": "code",
   "execution_count": 3,
   "metadata": {
    "collapsed": true
   },
   "outputs": [],
   "source": [
    "from xgboost.sklearn import XGBClassifier"
   ]
  },
  {
   "cell_type": "code",
   "execution_count": 4,
   "metadata": {
    "collapsed": true
   },
   "outputs": [],
   "source": [
    "from sklearn import cross_validation,metrics\n",
    "from sklearn.grid_search import GridSearchCV"
   ]
  },
  {
   "cell_type": "code",
   "execution_count": 5,
   "metadata": {
    "collapsed": false
   },
   "outputs": [
    {
     "data": {
      "text/html": [
       "<div>\n",
       "<table border=\"1\" class=\"dataframe\">\n",
       "  <thead>\n",
       "    <tr style=\"text-align: right;\">\n",
       "      <th></th>\n",
       "      <th>day__0</th>\n",
       "      <th>day__1</th>\n",
       "      <th>day__2</th>\n",
       "      <th>day__3</th>\n",
       "      <th>day__4</th>\n",
       "      <th>day__5</th>\n",
       "      <th>day__6</th>\n",
       "      <th>day__7</th>\n",
       "      <th>hour__0</th>\n",
       "      <th>hour__1</th>\n",
       "      <th>...</th>\n",
       "      <th>title_count</th>\n",
       "      <th>genres_count</th>\n",
       "      <th>cities_count</th>\n",
       "      <th>tod_count</th>\n",
       "      <th>dow_count</th>\n",
       "      <th>segment</th>\n",
       "      <th>genres_sum</th>\n",
       "      <th>cities_sum</th>\n",
       "      <th>tod_time</th>\n",
       "      <th>dow_time</th>\n",
       "    </tr>\n",
       "  </thead>\n",
       "  <tbody>\n",
       "    <tr>\n",
       "      <th>0</th>\n",
       "      <td>0</td>\n",
       "      <td>1</td>\n",
       "      <td>1</td>\n",
       "      <td>1</td>\n",
       "      <td>1</td>\n",
       "      <td>1</td>\n",
       "      <td>1</td>\n",
       "      <td>1</td>\n",
       "      <td>0</td>\n",
       "      <td>0</td>\n",
       "      <td>...</td>\n",
       "      <td>60</td>\n",
       "      <td>3</td>\n",
       "      <td>2</td>\n",
       "      <td>14</td>\n",
       "      <td>7</td>\n",
       "      <td>0</td>\n",
       "      <td>1456.416667</td>\n",
       "      <td>1456.433333</td>\n",
       "      <td>1456.283333</td>\n",
       "      <td>1456.266667</td>\n",
       "    </tr>\n",
       "    <tr>\n",
       "      <th>1</th>\n",
       "      <td>0</td>\n",
       "      <td>1</td>\n",
       "      <td>1</td>\n",
       "      <td>1</td>\n",
       "      <td>1</td>\n",
       "      <td>1</td>\n",
       "      <td>1</td>\n",
       "      <td>1</td>\n",
       "      <td>0</td>\n",
       "      <td>1</td>\n",
       "      <td>...</td>\n",
       "      <td>70</td>\n",
       "      <td>2</td>\n",
       "      <td>3</td>\n",
       "      <td>16</td>\n",
       "      <td>7</td>\n",
       "      <td>0</td>\n",
       "      <td>272.833333</td>\n",
       "      <td>272.850000</td>\n",
       "      <td>272.683333</td>\n",
       "      <td>272.733333</td>\n",
       "    </tr>\n",
       "    <tr>\n",
       "      <th>2</th>\n",
       "      <td>0</td>\n",
       "      <td>0</td>\n",
       "      <td>0</td>\n",
       "      <td>1</td>\n",
       "      <td>0</td>\n",
       "      <td>0</td>\n",
       "      <td>0</td>\n",
       "      <td>0</td>\n",
       "      <td>1</td>\n",
       "      <td>1</td>\n",
       "      <td>...</td>\n",
       "      <td>2</td>\n",
       "      <td>2</td>\n",
       "      <td>1</td>\n",
       "      <td>3</td>\n",
       "      <td>1</td>\n",
       "      <td>0</td>\n",
       "      <td>69.033333</td>\n",
       "      <td>69.033333</td>\n",
       "      <td>69.033333</td>\n",
       "      <td>0.050023</td>\n",
       "    </tr>\n",
       "    <tr>\n",
       "      <th>3</th>\n",
       "      <td>0</td>\n",
       "      <td>1</td>\n",
       "      <td>0</td>\n",
       "      <td>1</td>\n",
       "      <td>1</td>\n",
       "      <td>1</td>\n",
       "      <td>0</td>\n",
       "      <td>1</td>\n",
       "      <td>0</td>\n",
       "      <td>0</td>\n",
       "      <td>...</td>\n",
       "      <td>8</td>\n",
       "      <td>2</td>\n",
       "      <td>3</td>\n",
       "      <td>6</td>\n",
       "      <td>5</td>\n",
       "      <td>0</td>\n",
       "      <td>139.133333</td>\n",
       "      <td>139.133333</td>\n",
       "      <td>139.133333</td>\n",
       "      <td>139.133333</td>\n",
       "    </tr>\n",
       "    <tr>\n",
       "      <th>4</th>\n",
       "      <td>0</td>\n",
       "      <td>1</td>\n",
       "      <td>1</td>\n",
       "      <td>0</td>\n",
       "      <td>1</td>\n",
       "      <td>0</td>\n",
       "      <td>1</td>\n",
       "      <td>1</td>\n",
       "      <td>1</td>\n",
       "      <td>0</td>\n",
       "      <td>...</td>\n",
       "      <td>11</td>\n",
       "      <td>3</td>\n",
       "      <td>2</td>\n",
       "      <td>9</td>\n",
       "      <td>5</td>\n",
       "      <td>0</td>\n",
       "      <td>168.850000</td>\n",
       "      <td>168.866667</td>\n",
       "      <td>168.816667</td>\n",
       "      <td>168.816667</td>\n",
       "    </tr>\n",
       "  </tbody>\n",
       "</table>\n",
       "<p>5 rows × 78 columns</p>\n",
       "</div>"
      ],
      "text/plain": [
       "   day__0  day__1  day__2  day__3  day__4  day__5  day__6  day__7  hour__0  \\\n",
       "0       0       1       1       1       1       1       1       1        0   \n",
       "1       0       1       1       1       1       1       1       1        0   \n",
       "2       0       0       0       1       0       0       0       0        1   \n",
       "3       0       1       0       1       1       1       0       1        0   \n",
       "4       0       1       1       0       1       0       1       1        1   \n",
       "\n",
       "   hour__1     ...       title_count  genres_count  cities_count  tod_count  \\\n",
       "0        0     ...                60             3             2         14   \n",
       "1        1     ...                70             2             3         16   \n",
       "2        1     ...                 2             2             1          3   \n",
       "3        0     ...                 8             2             3          6   \n",
       "4        0     ...                11             3             2          9   \n",
       "\n",
       "   dow_count  segment   genres_sum   cities_sum     tod_time     dow_time  \n",
       "0          7        0  1456.416667  1456.433333  1456.283333  1456.266667  \n",
       "1          7        0   272.833333   272.850000   272.683333   272.733333  \n",
       "2          1        0    69.033333    69.033333    69.033333     0.050023  \n",
       "3          5        0   139.133333   139.133333   139.133333   139.133333  \n",
       "4          5        0   168.850000   168.866667   168.816667   168.816667  \n",
       "\n",
       "[5 rows x 78 columns]"
      ]
     },
     "execution_count": 5,
     "metadata": {},
     "output_type": "execute_result"
    }
   ],
   "source": [
    "train = pd.read_csv('train_updated.csv')\n",
    "train.head()"
   ]
  },
  {
   "cell_type": "code",
   "execution_count": 6,
   "metadata": {
    "collapsed": false
   },
   "outputs": [
    {
     "data": {
      "text/plain": [
       "Index(['day__0', 'day__1', 'day__2', 'day__3', 'day__4', 'day__5', 'day__6',\n",
       "       'day__7', 'hour__0', 'hour__1', 'hour__10', 'hour__11', 'hour__12',\n",
       "       'hour__13', 'hour__14', 'hour__15', 'hour__16', 'hour__17', 'hour__18',\n",
       "       'hour__19', 'hour__2', 'hour__20', 'hour__21', 'hour__22', 'hour__23',\n",
       "       'hour__3', 'hour__4', 'hour__5', 'hour__6', 'hour__7', 'hour__8',\n",
       "       'hour__9', 'genre__Action', 'genre__Athletics', 'genre__Awards',\n",
       "       'genre__Badminton', 'genre__Boxing', 'genre__Comedy', 'genre__Cricket',\n",
       "       'genre__Crime', 'genre__Documentary', 'genre__Drama', 'genre__Family',\n",
       "       'genre__Football', 'genre__Formula1', 'genre__FormulaE',\n",
       "       'genre__Hockey', 'genre__Horror', 'genre__IndiaVsSa', 'genre__Kabaddi',\n",
       "       'genre__Kids', 'genre__LiveTV', 'genre__Mythology', 'genre__NA',\n",
       "       'genre__Reality', 'genre__Romance', 'genre__Science', 'genre__Sport',\n",
       "       'genre__Swimming', 'genre__Table Tennis', 'genre__TalkShow',\n",
       "       'genre__Teen', 'genre__Tennis', 'genre__Thriller', 'genre__Travel',\n",
       "       'genre__Volleyball', 'genre__Wildlife', 'title_sum', 'title_count',\n",
       "       'genres_count', 'cities_count', 'tod_count', 'dow_count', 'segment',\n",
       "       'genres_sum', 'cities_sum', 'tod_time', 'dow_time'],\n",
       "      dtype='object')"
      ]
     },
     "execution_count": 6,
     "metadata": {},
     "output_type": "execute_result"
    }
   ],
   "source": [
    "train.columns"
   ]
  },
  {
   "cell_type": "code",
   "execution_count": 7,
   "metadata": {
    "collapsed": true
   },
   "outputs": [],
   "source": [
    "features = ['day__0', 'day__1', 'day__2', 'day__3', 'day__4', 'day__5', 'day__6',\n",
    "           'day__7', 'hour__0', 'hour__1', 'hour__10', 'hour__11', 'hour__12',\n",
    "           'hour__13', 'hour__14', 'hour__15', 'hour__16', 'hour__17', 'hour__18',\n",
    "           'hour__19', 'hour__2', 'hour__20', 'hour__21', 'hour__22', 'hour__23',\n",
    "           'hour__3', 'hour__4', 'hour__5', 'hour__6', 'hour__7', 'hour__8',\n",
    "           'hour__9', 'genre__Action', 'genre__Athletics', 'genre__Awards',\n",
    "           'genre__Badminton', 'genre__Boxing', 'genre__Comedy', 'genre__Cricket',\n",
    "           'genre__Crime', 'genre__Documentary', 'genre__Drama', 'genre__Family',\n",
    "           'genre__Football', 'genre__Formula1', 'genre__FormulaE',\n",
    "           'genre__Hockey', 'genre__Horror', 'genre__IndiaVsSa', 'genre__Kabaddi',\n",
    "           'genre__Kids', 'genre__LiveTV', 'genre__Mythology', 'genre__NA',\n",
    "           'genre__Reality', 'genre__Romance', 'genre__Science', 'genre__Sport',\n",
    "           'genre__Swimming', 'genre__Table Tennis', 'genre__TalkShow',\n",
    "           'genre__Teen', 'genre__Tennis', 'genre__Thriller', 'genre__Travel',\n",
    "           'genre__Volleyball', 'genre__Wildlife', 'title_sum', 'title_count',\n",
    "           'genres_count', 'cities_count', 'tod_count', 'dow_count']"
   ]
  },
  {
   "cell_type": "code",
   "execution_count": 8,
   "metadata": {
    "collapsed": true
   },
   "outputs": [],
   "source": [
    "X = train[features]\n",
    "y = train['segment']"
   ]
  },
  {
   "cell_type": "code",
   "execution_count": 9,
   "metadata": {
    "collapsed": false
   },
   "outputs": [
    {
     "data": {
      "text/plain": [
       "({'max_depth': 5, 'min_child_weight': 3}, 0.92374500000000004)"
      ]
     },
     "execution_count": 9,
     "metadata": {},
     "output_type": "execute_result"
    }
   ],
   "source": [
    "param_test = {\n",
    " 'max_depth':[3,5,7,9],\n",
    " 'min_child_weight':[1,3,5]\n",
    "}\n",
    "gsearch = GridSearchCV(estimator = XGBClassifier(learning_rate =0.1, n_estimators=100, max_depth=5,\n",
    "                                   min_child_weight=1, gamma=0, subsample=0.8, colsample_bytree=0.8,\n",
    "                                   objective= 'binary:logistic', nthread=4, seed=2017), \n",
    "                       param_grid = param_test,n_jobs=4,iid=False, cv=5,scoring='roc_auc')\n",
    "gsearch.fit(X,y)\n",
    "gsearch.best_params_, gsearch.best_score_"
   ]
  },
  {
   "cell_type": "code",
   "execution_count": 10,
   "metadata": {
    "collapsed": false
   },
   "outputs": [
    {
     "data": {
      "text/plain": [
       "({'max_depth': 4, 'min_child_weight': 3}, 0.92374500000000004)"
      ]
     },
     "execution_count": 10,
     "metadata": {},
     "output_type": "execute_result"
    }
   ],
   "source": [
    "param_test = {\n",
    " 'max_depth':[4,5,6],\n",
    " 'min_child_weight':[2,3,4]\n",
    "}\n",
    "gsearch = GridSearchCV(estimator = XGBClassifier(learning_rate =0.1, n_estimators=100, max_depth=5,\n",
    "                                   min_child_weight=1, gamma=0, subsample=0.8, colsample_bytree=0.8,\n",
    "                                   objective= 'binary:logistic', nthread=4, seed=2017,scoring='roc_auc'), \n",
    "                       param_grid = param_test,n_jobs=4,iid=False, cv=5)\n",
    "gsearch.fit(X,y)\n",
    "gsearch.best_params_, gsearch.best_score_"
   ]
  },
  {
   "cell_type": "code",
   "execution_count": 13,
   "metadata": {
    "collapsed": false
   },
   "outputs": [
    {
     "data": {
      "text/plain": [
       "({'min_child_weight': 12}, 0.92376000000000003)"
      ]
     },
     "execution_count": 13,
     "metadata": {},
     "output_type": "execute_result"
    }
   ],
   "source": [
    "param_test = {\n",
    " 'min_child_weight':[10,11,12,13,14,15]\n",
    "}\n",
    "gsearch = GridSearchCV(estimator = XGBClassifier(learning_rate =0.1, n_estimators=100, max_depth=5,\n",
    "                                   min_child_weight=1, gamma=0, subsample=0.8, colsample_bytree=0.8,\n",
    "                                   objective= 'binary:logistic', nthread=4, seed=2017,scoring='roc_auc'), \n",
    "                       param_grid = param_test,n_jobs=4,iid=False, cv=5)\n",
    "gsearch.fit(X,y)\n",
    "gsearch.best_params_, gsearch.best_score_"
   ]
  },
  {
   "cell_type": "code",
   "execution_count": 9,
   "metadata": {
    "collapsed": false
   },
   "outputs": [
    {
     "data": {
      "text/plain": [
       "({'gamma': 0.0}, 0.80477424750135496)"
      ]
     },
     "execution_count": 9,
     "metadata": {},
     "output_type": "execute_result"
    }
   ],
   "source": [
    "param_test = {\n",
    " 'gamma':[i/100.0 for i in range(0,9)]\n",
    "}\n",
    "gsearch = GridSearchCV(estimator = XGBClassifier(learning_rate =0.1, n_estimators=100, max_depth=4,\n",
    "                                   min_child_weight=3, gamma=0, subsample=0.8, colsample_bytree=0.8,\n",
    "                                   objective= 'binary:logistic', nthread=4, seed=2017), \n",
    "                       param_grid = param_test,n_jobs=4,iid=False, cv=5,scoring='roc_auc')\n",
    "gsearch.fit(X,y)\n",
    "gsearch.best_params_, gsearch.best_score_"
   ]
  },
  {
   "cell_type": "code",
   "execution_count": 10,
   "metadata": {
    "collapsed": false
   },
   "outputs": [
    {
     "data": {
      "text/plain": [
       "({'colsample_bytree': 0.6, 'subsample': 0.8}, 0.80497613801457391)"
      ]
     },
     "execution_count": 10,
     "metadata": {},
     "output_type": "execute_result"
    }
   ],
   "source": [
    "param_test = {\n",
    " 'subsample':[i/10.0 for i in range(6,10)],\n",
    " 'colsample_bytree':[i/10.0 for i in range(6,10)]\n",
    "}\n",
    "gsearch = GridSearchCV(estimator = XGBClassifier(learning_rate =0.1, n_estimators=100, max_depth=4,\n",
    "                                   min_child_weight=3, gamma=0.0, subsample=0.8, colsample_bytree=0.8,\n",
    "                                   objective= 'binary:logistic', nthread=4, seed=2017), \n",
    "                       param_grid = param_test,n_jobs=4,iid=False, cv=5,scoring='roc_auc')\n",
    "gsearch.fit(X,y)\n",
    "gsearch.best_params_, gsearch.best_score_"
   ]
  },
  {
   "cell_type": "code",
   "execution_count": 11,
   "metadata": {
    "collapsed": false
   },
   "outputs": [
    {
     "data": {
      "text/plain": [
       "({'colsample_bytree': 0.6, 'subsample': 0.75}, 0.80505711279250591)"
      ]
     },
     "execution_count": 11,
     "metadata": {},
     "output_type": "execute_result"
    }
   ],
   "source": [
    "param_test = {\n",
    " 'subsample':[0.75,0.80,0.85],\n",
    " 'colsample_bytree':[0.55,0.60,0.65]\n",
    "}\n",
    "gsearch = GridSearchCV(estimator = XGBClassifier(learning_rate =0.1, n_estimators=100, max_depth=4,\n",
    "                                   min_child_weight=3, gamma=0.0, subsample=0.8, colsample_bytree=0.8,\n",
    "                                   objective= 'binary:logistic', nthread=4, seed=2017), \n",
    "                       param_grid = param_test,n_jobs=4,iid=False, cv=5,scoring='roc_auc')\n",
    "gsearch.fit(X,y)\n",
    "gsearch.best_params_, gsearch.best_score_"
   ]
  },
  {
   "cell_type": "code",
   "execution_count": 12,
   "metadata": {
    "collapsed": false
   },
   "outputs": [
    {
     "data": {
      "text/plain": [
       "({'reg_alpha': 1e-05}, 0.80505711190544171)"
      ]
     },
     "execution_count": 12,
     "metadata": {},
     "output_type": "execute_result"
    }
   ],
   "source": [
    "param_test = {\n",
    " 'reg_alpha':[1e-5, 1e-2, 0.1, 1, 100]\n",
    "}\n",
    "gsearch = GridSearchCV(estimator = XGBClassifier(learning_rate =0.1, n_estimators=100, max_depth=4,\n",
    "                                   min_child_weight=3, gamma=0.0, subsample=0.75, colsample_bytree=0.6,\n",
    "                                   objective= 'binary:logistic', nthread=4, seed=2017), \n",
    "                       param_grid = param_test,n_jobs=4,iid=False, cv=5,scoring='roc_auc')\n",
    "gsearch.fit(X,y)\n",
    "gsearch.best_params_, gsearch.best_score_"
   ]
  },
  {
   "cell_type": "code",
   "execution_count": 11,
   "metadata": {
    "collapsed": false
   },
   "outputs": [
    {
     "data": {
      "text/plain": [
       "({'learning_rate': 0.01, 'n_estimators': 2000}, 0.80684465115171677)"
      ]
     },
     "execution_count": 11,
     "metadata": {},
     "output_type": "execute_result"
    }
   ],
   "source": [
    "param_test = {\n",
    " 'learning_rate':[0.1,0.01,0.005],\n",
    " 'n_estimators':[100,500,1000,2000]  \n",
    "}\n",
    "gsearch = GridSearchCV(estimator = XGBClassifier(learning_rate =0.1, n_estimators=100, max_depth=5,\n",
    "                                   min_child_weight=12, gamma=0.0, subsample=0.75, colsample_bytree=0.6,\n",
    "                                   objective= 'binary:logistic', nthread=4, seed=2017), \n",
    "                       param_grid = param_test,n_jobs=4,iid=False, cv=5,scoring='roc_auc')\n",
    "gsearch.fit(X,y)\n",
    "gsearch.best_params_, gsearch.best_score_"
   ]
  },
  {
   "cell_type": "code",
   "execution_count": 16,
   "metadata": {
    "collapsed": false
   },
   "outputs": [
    {
     "name": "stderr",
     "output_type": "stream",
     "text": [
      "D:\\anaconda\\lib\\site-packages\\ipykernel\\__main__.py:1: SettingWithCopyWarning: \n",
      "A value is trying to be set on a copy of a slice from a DataFrame.\n",
      "Try using .loc[row_indexer,col_indexer] = value instead\n",
      "\n",
      "See the caveats in the documentation: http://pandas.pydata.org/pandas-docs/stable/indexing.html#indexing-view-versus-copy\n",
      "  if __name__ == '__main__':\n"
     ]
    }
   ],
   "source": [
    "X['title_sum'] = X['title_sum']/60\n",
    "test['title_sum'] = test['title_sum']/60"
   ]
  },
  {
   "cell_type": "code",
   "execution_count": 17,
   "metadata": {
    "collapsed": true
   },
   "outputs": [],
   "source": [
    "xgb = XGBClassifier(learning_rate =0.01, n_estimators=1000, max_depth=4,\n",
    "                    min_child_weight=3, gamma=0.00, subsample=0.75, colsample_bytree=0.6,\n",
    "                    objective= 'binary:logistic', nthread=4, seed=2017)"
   ]
  },
  {
   "cell_type": "code",
   "execution_count": 18,
   "metadata": {
    "collapsed": false
   },
   "outputs": [
    {
     "data": {
      "text/plain": [
       "XGBClassifier(base_score=0.5, booster='gbtree', colsample_bylevel=1,\n",
       "       colsample_bytree=0.6, gamma=0.0, learning_rate=0.01,\n",
       "       max_delta_step=0, max_depth=4, min_child_weight=3, missing=None,\n",
       "       n_estimators=1000, nthread=4, objective='binary:logistic',\n",
       "       reg_alpha=0, reg_lambda=1, scale_pos_weight=1, seed=2017,\n",
       "       silent=True, subsample=0.75)"
      ]
     },
     "execution_count": 18,
     "metadata": {},
     "output_type": "execute_result"
    }
   ],
   "source": [
    "xgb.fit(X,y)"
   ]
  },
  {
   "cell_type": "code",
   "execution_count": 15,
   "metadata": {
    "collapsed": false
   },
   "outputs": [
    {
     "data": {
      "text/html": [
       "<div>\n",
       "<table border=\"1\" class=\"dataframe\">\n",
       "  <thead>\n",
       "    <tr style=\"text-align: right;\">\n",
       "      <th></th>\n",
       "      <th>day__0</th>\n",
       "      <th>day__1</th>\n",
       "      <th>day__2</th>\n",
       "      <th>day__3</th>\n",
       "      <th>day__4</th>\n",
       "      <th>day__5</th>\n",
       "      <th>day__6</th>\n",
       "      <th>day__7</th>\n",
       "      <th>hour__0</th>\n",
       "      <th>hour__1</th>\n",
       "      <th>...</th>\n",
       "      <th>title_sum</th>\n",
       "      <th>title_count</th>\n",
       "      <th>genres_count</th>\n",
       "      <th>cities_count</th>\n",
       "      <th>tod_count</th>\n",
       "      <th>dow_count</th>\n",
       "      <th>genres_sum</th>\n",
       "      <th>cities_sum</th>\n",
       "      <th>tod_time</th>\n",
       "      <th>dow_time</th>\n",
       "    </tr>\n",
       "  </thead>\n",
       "  <tbody>\n",
       "    <tr>\n",
       "      <th>0</th>\n",
       "      <td>0</td>\n",
       "      <td>0</td>\n",
       "      <td>1</td>\n",
       "      <td>0</td>\n",
       "      <td>1</td>\n",
       "      <td>0</td>\n",
       "      <td>0</td>\n",
       "      <td>0</td>\n",
       "      <td>0</td>\n",
       "      <td>0</td>\n",
       "      <td>...</td>\n",
       "      <td>880</td>\n",
       "      <td>8</td>\n",
       "      <td>2</td>\n",
       "      <td>2</td>\n",
       "      <td>2</td>\n",
       "      <td>2</td>\n",
       "      <td>14.733333</td>\n",
       "      <td>14.733333</td>\n",
       "      <td>14.716667</td>\n",
       "      <td>14.716667</td>\n",
       "    </tr>\n",
       "    <tr>\n",
       "      <th>1</th>\n",
       "      <td>0</td>\n",
       "      <td>1</td>\n",
       "      <td>1</td>\n",
       "      <td>1</td>\n",
       "      <td>1</td>\n",
       "      <td>1</td>\n",
       "      <td>0</td>\n",
       "      <td>1</td>\n",
       "      <td>1</td>\n",
       "      <td>1</td>\n",
       "      <td>...</td>\n",
       "      <td>23848</td>\n",
       "      <td>10</td>\n",
       "      <td>3</td>\n",
       "      <td>3</td>\n",
       "      <td>8</td>\n",
       "      <td>6</td>\n",
       "      <td>397.516667</td>\n",
       "      <td>397.533333</td>\n",
       "      <td>397.466667</td>\n",
       "      <td>397.483333</td>\n",
       "    </tr>\n",
       "    <tr>\n",
       "      <th>2</th>\n",
       "      <td>0</td>\n",
       "      <td>1</td>\n",
       "      <td>1</td>\n",
       "      <td>0</td>\n",
       "      <td>1</td>\n",
       "      <td>0</td>\n",
       "      <td>1</td>\n",
       "      <td>1</td>\n",
       "      <td>1</td>\n",
       "      <td>0</td>\n",
       "      <td>...</td>\n",
       "      <td>13873</td>\n",
       "      <td>2</td>\n",
       "      <td>2</td>\n",
       "      <td>3</td>\n",
       "      <td>11</td>\n",
       "      <td>5</td>\n",
       "      <td>231.216667</td>\n",
       "      <td>231.216667</td>\n",
       "      <td>231.216667</td>\n",
       "      <td>231.216667</td>\n",
       "    </tr>\n",
       "    <tr>\n",
       "      <th>3</th>\n",
       "      <td>0</td>\n",
       "      <td>1</td>\n",
       "      <td>0</td>\n",
       "      <td>1</td>\n",
       "      <td>0</td>\n",
       "      <td>0</td>\n",
       "      <td>0</td>\n",
       "      <td>1</td>\n",
       "      <td>0</td>\n",
       "      <td>0</td>\n",
       "      <td>...</td>\n",
       "      <td>6735</td>\n",
       "      <td>4</td>\n",
       "      <td>2</td>\n",
       "      <td>3</td>\n",
       "      <td>6</td>\n",
       "      <td>3</td>\n",
       "      <td>112.250000</td>\n",
       "      <td>112.266667</td>\n",
       "      <td>112.233333</td>\n",
       "      <td>112.233333</td>\n",
       "    </tr>\n",
       "    <tr>\n",
       "      <th>4</th>\n",
       "      <td>1</td>\n",
       "      <td>0</td>\n",
       "      <td>0</td>\n",
       "      <td>0</td>\n",
       "      <td>0</td>\n",
       "      <td>0</td>\n",
       "      <td>0</td>\n",
       "      <td>0</td>\n",
       "      <td>0</td>\n",
       "      <td>1</td>\n",
       "      <td>...</td>\n",
       "      <td>1204</td>\n",
       "      <td>1</td>\n",
       "      <td>1</td>\n",
       "      <td>1</td>\n",
       "      <td>1</td>\n",
       "      <td>1</td>\n",
       "      <td>20.066667</td>\n",
       "      <td>20.066667</td>\n",
       "      <td>0.027130</td>\n",
       "      <td>0.014630</td>\n",
       "    </tr>\n",
       "  </tbody>\n",
       "</table>\n",
       "<p>5 rows × 77 columns</p>\n",
       "</div>"
      ],
      "text/plain": [
       "   day__0  day__1  day__2  day__3  day__4  day__5  day__6  day__7  hour__0  \\\n",
       "0       0       0       1       0       1       0       0       0        0   \n",
       "1       0       1       1       1       1       1       0       1        1   \n",
       "2       0       1       1       0       1       0       1       1        1   \n",
       "3       0       1       0       1       0       0       0       1        0   \n",
       "4       1       0       0       0       0       0       0       0        0   \n",
       "\n",
       "   hour__1     ...      title_sum  title_count  genres_count  cities_count  \\\n",
       "0        0     ...            880            8             2             2   \n",
       "1        1     ...          23848           10             3             3   \n",
       "2        0     ...          13873            2             2             3   \n",
       "3        0     ...           6735            4             2             3   \n",
       "4        1     ...           1204            1             1             1   \n",
       "\n",
       "   tod_count  dow_count  genres_sum  cities_sum    tod_time    dow_time  \n",
       "0          2          2   14.733333   14.733333   14.716667   14.716667  \n",
       "1          8          6  397.516667  397.533333  397.466667  397.483333  \n",
       "2         11          5  231.216667  231.216667  231.216667  231.216667  \n",
       "3          6          3  112.250000  112.266667  112.233333  112.233333  \n",
       "4          1          1   20.066667   20.066667    0.027130    0.014630  \n",
       "\n",
       "[5 rows x 77 columns]"
      ]
     },
     "execution_count": 15,
     "metadata": {},
     "output_type": "execute_result"
    }
   ],
   "source": [
    "test = pd.read_csv('test_updated.csv')\n",
    "test.head()"
   ]
  },
  {
   "cell_type": "code",
   "execution_count": 19,
   "metadata": {
    "collapsed": true
   },
   "outputs": [],
   "source": [
    "pred = xgb.predict_proba(test[features])"
   ]
  },
  {
   "cell_type": "code",
   "execution_count": 20,
   "metadata": {
    "collapsed": false
   },
   "outputs": [
    {
     "data": {
      "text/plain": [
       "0        test-1\n",
       "1       test-10\n",
       "2      test-100\n",
       "3     test-1000\n",
       "4    test-10000\n",
       "Name: ID, dtype: object"
      ]
     },
     "execution_count": 20,
     "metadata": {},
     "output_type": "execute_result"
    }
   ],
   "source": [
    "test_id = pd.read_csv('test.csv')\n",
    "test_id = test_id['ID']\n",
    "test_id.head()"
   ]
  },
  {
   "cell_type": "code",
   "execution_count": 21,
   "metadata": {
    "collapsed": false
   },
   "outputs": [
    {
     "data": {
      "text/html": [
       "<div>\n",
       "<table border=\"1\" class=\"dataframe\">\n",
       "  <thead>\n",
       "    <tr style=\"text-align: right;\">\n",
       "      <th></th>\n",
       "      <th>segment</th>\n",
       "    </tr>\n",
       "    <tr>\n",
       "      <th>ID</th>\n",
       "      <th></th>\n",
       "    </tr>\n",
       "  </thead>\n",
       "  <tbody>\n",
       "    <tr>\n",
       "      <th>test-1</th>\n",
       "      <td>0.022391</td>\n",
       "    </tr>\n",
       "    <tr>\n",
       "      <th>test-10</th>\n",
       "      <td>0.078126</td>\n",
       "    </tr>\n",
       "    <tr>\n",
       "      <th>test-100</th>\n",
       "      <td>0.231104</td>\n",
       "    </tr>\n",
       "    <tr>\n",
       "      <th>test-1000</th>\n",
       "      <td>0.158944</td>\n",
       "    </tr>\n",
       "    <tr>\n",
       "      <th>test-10000</th>\n",
       "      <td>0.128406</td>\n",
       "    </tr>\n",
       "  </tbody>\n",
       "</table>\n",
       "</div>"
      ],
      "text/plain": [
       "             segment\n",
       "ID                  \n",
       "test-1      0.022391\n",
       "test-10     0.078126\n",
       "test-100    0.231104\n",
       "test-1000   0.158944\n",
       "test-10000  0.128406"
      ]
     },
     "execution_count": 21,
     "metadata": {},
     "output_type": "execute_result"
    }
   ],
   "source": [
    "submission = pd.DataFrame(data=pred[:,1],index=test_id,columns=['segment'])\n",
    "submission.head()"
   ]
  },
  {
   "cell_type": "code",
   "execution_count": 22,
   "metadata": {
    "collapsed": true
   },
   "outputs": [],
   "source": [
    "submission.to_csv('xgb.csv')"
   ]
  }
 ],
 "metadata": {
  "anaconda-cloud": {},
  "kernelspec": {
   "display_name": "Python [conda root]",
   "language": "python",
   "name": "conda-root-py"
  },
  "language_info": {
   "codemirror_mode": {
    "name": "ipython",
    "version": 3
   },
   "file_extension": ".py",
   "mimetype": "text/x-python",
   "name": "python",
   "nbconvert_exporter": "python",
   "pygments_lexer": "ipython3",
   "version": "3.5.2"
  }
 },
 "nbformat": 4,
 "nbformat_minor": 1
}
