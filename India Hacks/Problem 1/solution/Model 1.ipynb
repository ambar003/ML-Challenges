{
 "cells": [
  {
   "cell_type": "code",
   "execution_count": 1,
   "metadata": {
    "collapsed": true
   },
   "outputs": [],
   "source": [
    "import pandas as pd\n",
    "import numpy as np"
   ]
  },
  {
   "cell_type": "code",
   "execution_count": 2,
   "metadata": {
    "collapsed": false
   },
   "outputs": [
    {
     "data": {
      "text/html": [
       "<div>\n",
       "<table border=\"1\" class=\"dataframe\">\n",
       "  <thead>\n",
       "    <tr style=\"text-align: right;\">\n",
       "      <th></th>\n",
       "      <th>Id</th>\n",
       "      <th>DetectedCamera</th>\n",
       "      <th>AngleOfSign</th>\n",
       "      <th>SignAspectRatio</th>\n",
       "      <th>SignWidth</th>\n",
       "      <th>SignHeight</th>\n",
       "      <th>SignFacing (Target)</th>\n",
       "    </tr>\n",
       "  </thead>\n",
       "  <tbody>\n",
       "    <tr>\n",
       "      <th>0</th>\n",
       "      <td>2c9180975a056a64015a1e0a52e57021</td>\n",
       "      <td>Rear</td>\n",
       "      <td>195</td>\n",
       "      <td>1.02</td>\n",
       "      <td>46</td>\n",
       "      <td>45</td>\n",
       "      <td>Rear</td>\n",
       "    </tr>\n",
       "    <tr>\n",
       "      <th>1</th>\n",
       "      <td>2c9180975a056a64015a1e17b32171e4</td>\n",
       "      <td>Rear</td>\n",
       "      <td>203</td>\n",
       "      <td>1.09</td>\n",
       "      <td>59</td>\n",
       "      <td>54</td>\n",
       "      <td>Rear</td>\n",
       "    </tr>\n",
       "    <tr>\n",
       "      <th>2</th>\n",
       "      <td>2c9180975a056a64015a1de4deb16bd5</td>\n",
       "      <td>Front</td>\n",
       "      <td>26</td>\n",
       "      <td>0.96</td>\n",
       "      <td>104</td>\n",
       "      <td>108</td>\n",
       "      <td>Front</td>\n",
       "    </tr>\n",
       "    <tr>\n",
       "      <th>3</th>\n",
       "      <td>2c9180975a056a64015a1de4deb16bdd</td>\n",
       "      <td>Rear</td>\n",
       "      <td>199</td>\n",
       "      <td>0.81</td>\n",
       "      <td>38</td>\n",
       "      <td>47</td>\n",
       "      <td>Rear</td>\n",
       "    </tr>\n",
       "    <tr>\n",
       "      <th>4</th>\n",
       "      <td>2c9180975a056a64015a1de4deb16bd6</td>\n",
       "      <td>Rear</td>\n",
       "      <td>208</td>\n",
       "      <td>0.93</td>\n",
       "      <td>54</td>\n",
       "      <td>58</td>\n",
       "      <td>Rear</td>\n",
       "    </tr>\n",
       "  </tbody>\n",
       "</table>\n",
       "</div>"
      ],
      "text/plain": [
       "                                 Id DetectedCamera  AngleOfSign  \\\n",
       "0  2c9180975a056a64015a1e0a52e57021           Rear          195   \n",
       "1  2c9180975a056a64015a1e17b32171e4           Rear          203   \n",
       "2  2c9180975a056a64015a1de4deb16bd5          Front           26   \n",
       "3  2c9180975a056a64015a1de4deb16bdd           Rear          199   \n",
       "4  2c9180975a056a64015a1de4deb16bd6           Rear          208   \n",
       "\n",
       "   SignAspectRatio  SignWidth  SignHeight SignFacing (Target)  \n",
       "0             1.02         46          45                Rear  \n",
       "1             1.09         59          54                Rear  \n",
       "2             0.96        104         108               Front  \n",
       "3             0.81         38          47                Rear  \n",
       "4             0.93         54          58                Rear  "
      ]
     },
     "execution_count": 2,
     "metadata": {},
     "output_type": "execute_result"
    }
   ],
   "source": [
    "train = pd.read_csv('train.csv')\n",
    "train.head()"
   ]
  },
  {
   "cell_type": "code",
   "execution_count": 3,
   "metadata": {
    "collapsed": false
   },
   "outputs": [
    {
     "data": {
      "text/html": [
       "<div>\n",
       "<table border=\"1\" class=\"dataframe\">\n",
       "  <thead>\n",
       "    <tr style=\"text-align: right;\">\n",
       "      <th></th>\n",
       "      <th>Id</th>\n",
       "      <th>DetectedCamera</th>\n",
       "      <th>AngleOfSign</th>\n",
       "      <th>SignAspectRatio</th>\n",
       "      <th>SignWidth</th>\n",
       "      <th>SignHeight</th>\n",
       "    </tr>\n",
       "  </thead>\n",
       "  <tbody>\n",
       "    <tr>\n",
       "      <th>0</th>\n",
       "      <td>2c9180975a056a64015a1e10d3f270fe</td>\n",
       "      <td>Right</td>\n",
       "      <td>67</td>\n",
       "      <td>0.63</td>\n",
       "      <td>107</td>\n",
       "      <td>169</td>\n",
       "    </tr>\n",
       "    <tr>\n",
       "      <th>1</th>\n",
       "      <td>2c9180975a056a64015a1de4deb16bdc</td>\n",
       "      <td>Front</td>\n",
       "      <td>16</td>\n",
       "      <td>0.88</td>\n",
       "      <td>61</td>\n",
       "      <td>69</td>\n",
       "    </tr>\n",
       "    <tr>\n",
       "      <th>2</th>\n",
       "      <td>2c9180975a056a64015a1e0e70ea70ce</td>\n",
       "      <td>Right</td>\n",
       "      <td>44</td>\n",
       "      <td>1.15</td>\n",
       "      <td>232</td>\n",
       "      <td>202</td>\n",
       "    </tr>\n",
       "    <tr>\n",
       "      <th>3</th>\n",
       "      <td>2c9180975a056a64015a1dfed0c46ec6</td>\n",
       "      <td>Right</td>\n",
       "      <td>50</td>\n",
       "      <td>1.10</td>\n",
       "      <td>137</td>\n",
       "      <td>125</td>\n",
       "    </tr>\n",
       "    <tr>\n",
       "      <th>4</th>\n",
       "      <td>2c9180975a056a64015a1dfed0c46ec7</td>\n",
       "      <td>Front</td>\n",
       "      <td>30</td>\n",
       "      <td>0.95</td>\n",
       "      <td>99</td>\n",
       "      <td>104</td>\n",
       "    </tr>\n",
       "  </tbody>\n",
       "</table>\n",
       "</div>"
      ],
      "text/plain": [
       "                                 Id DetectedCamera  AngleOfSign  \\\n",
       "0  2c9180975a056a64015a1e10d3f270fe          Right           67   \n",
       "1  2c9180975a056a64015a1de4deb16bdc          Front           16   \n",
       "2  2c9180975a056a64015a1e0e70ea70ce          Right           44   \n",
       "3  2c9180975a056a64015a1dfed0c46ec6          Right           50   \n",
       "4  2c9180975a056a64015a1dfed0c46ec7          Front           30   \n",
       "\n",
       "   SignAspectRatio  SignWidth  SignHeight  \n",
       "0             0.63        107         169  \n",
       "1             0.88         61          69  \n",
       "2             1.15        232         202  \n",
       "3             1.10        137         125  \n",
       "4             0.95         99         104  "
      ]
     },
     "execution_count": 3,
     "metadata": {},
     "output_type": "execute_result"
    }
   ],
   "source": [
    "test = pd.read_csv('test.csv')\n",
    "test.head()"
   ]
  },
  {
   "cell_type": "code",
   "execution_count": 4,
   "metadata": {
    "collapsed": false
   },
   "outputs": [
    {
     "data": {
      "text/html": [
       "<div>\n",
       "<table border=\"1\" class=\"dataframe\">\n",
       "  <thead>\n",
       "    <tr style=\"text-align: right;\">\n",
       "      <th></th>\n",
       "      <th>AngleOfSign</th>\n",
       "      <th>SignAspectRatio</th>\n",
       "      <th>SignWidth</th>\n",
       "      <th>SignHeight</th>\n",
       "    </tr>\n",
       "  </thead>\n",
       "  <tbody>\n",
       "    <tr>\n",
       "      <th>AngleOfSign</th>\n",
       "      <td>NaN</td>\n",
       "      <td>NaN</td>\n",
       "      <td>NaN</td>\n",
       "      <td>NaN</td>\n",
       "    </tr>\n",
       "    <tr>\n",
       "      <th>SignAspectRatio</th>\n",
       "      <td>NaN</td>\n",
       "      <td>NaN</td>\n",
       "      <td>NaN</td>\n",
       "      <td>NaN</td>\n",
       "    </tr>\n",
       "    <tr>\n",
       "      <th>SignWidth</th>\n",
       "      <td>NaN</td>\n",
       "      <td>NaN</td>\n",
       "      <td>NaN</td>\n",
       "      <td>0.856428</td>\n",
       "    </tr>\n",
       "    <tr>\n",
       "      <th>SignHeight</th>\n",
       "      <td>NaN</td>\n",
       "      <td>NaN</td>\n",
       "      <td>0.856428</td>\n",
       "      <td>NaN</td>\n",
       "    </tr>\n",
       "  </tbody>\n",
       "</table>\n",
       "</div>"
      ],
      "text/plain": [
       "                 AngleOfSign  SignAspectRatio  SignWidth  SignHeight\n",
       "AngleOfSign              NaN              NaN        NaN         NaN\n",
       "SignAspectRatio          NaN              NaN        NaN         NaN\n",
       "SignWidth                NaN              NaN        NaN    0.856428\n",
       "SignHeight               NaN              NaN   0.856428         NaN"
      ]
     },
     "execution_count": 4,
     "metadata": {},
     "output_type": "execute_result"
    }
   ],
   "source": [
    "train.corr()[((train.corr() < -0.85) | (train.corr() > 0.85)) & (train.corr() != 1)]"
   ]
  },
  {
   "cell_type": "code",
   "execution_count": 5,
   "metadata": {
    "collapsed": true
   },
   "outputs": [],
   "source": [
    "import scipy.stats as sp"
   ]
  },
  {
   "cell_type": "code",
   "execution_count": 6,
   "metadata": {
    "collapsed": true
   },
   "outputs": [],
   "source": [
    "from sklearn.preprocessing import LabelEncoder"
   ]
  },
  {
   "cell_type": "code",
   "execution_count": 7,
   "metadata": {
    "collapsed": false
   },
   "outputs": [
    {
     "data": {
      "text/plain": [
       "0    2\n",
       "1    2\n",
       "2    0\n",
       "3    2\n",
       "4    2\n",
       "Name: DetectedCamera, dtype: int64"
      ]
     },
     "execution_count": 7,
     "metadata": {},
     "output_type": "execute_result"
    }
   ],
   "source": [
    "le = LabelEncoder()\n",
    "train['DetectedCamera'] = le.fit_transform(train['DetectedCamera'])\n",
    "test['DetectedCamera'] = le.fit_transform(test['DetectedCamera'])\n",
    "train['DetectedCamera'].head()"
   ]
  },
  {
   "cell_type": "code",
   "execution_count": 8,
   "metadata": {
    "collapsed": false
   },
   "outputs": [
    {
     "data": {
      "text/plain": [
       "0    2\n",
       "1    2\n",
       "2    0\n",
       "3    2\n",
       "4    2\n",
       "Name: SignFacing (Target), dtype: int64"
      ]
     },
     "execution_count": 8,
     "metadata": {},
     "output_type": "execute_result"
    }
   ],
   "source": [
    "le = LabelEncoder()\n",
    "train['SignFacing (Target)'] = le.fit_transform(train['SignFacing (Target)'])\n",
    "train['SignFacing (Target)'].head()"
   ]
  },
  {
   "cell_type": "code",
   "execution_count": 9,
   "metadata": {
    "collapsed": false
   },
   "outputs": [
    {
     "name": "stdout",
     "output_type": "stream",
     "text": [
      "(-0.41232095212122594, 0.0)\n",
      "(-0.45175005340893243, 0.0)\n"
     ]
    }
   ],
   "source": [
    "col = ['SignWidth','SignHeight']\n",
    "for i in col:\n",
    "    print(sp.pearsonr(train[i],train['SignFacing (Target)']))"
   ]
  },
  {
   "cell_type": "code",
   "execution_count": 10,
   "metadata": {
    "collapsed": true
   },
   "outputs": [],
   "source": [
    "from sklearn.ensemble import RandomForestClassifier\n",
    "from sklearn import cross_validation,metrics\n",
    "from sklearn.grid_search import GridSearchCV"
   ]
  },
  {
   "cell_type": "code",
   "execution_count": 11,
   "metadata": {
    "collapsed": true
   },
   "outputs": [],
   "source": [
    "features = ['DetectedCamera','AngleOfSign', 'SignAspectRatio','SignWidth']\n",
    "X = train[features]\n",
    "y = train['SignFacing (Target)']"
   ]
  },
  {
   "cell_type": "code",
   "execution_count": 24,
   "metadata": {
    "collapsed": false
   },
   "outputs": [
    {
     "data": {
      "text/plain": [
       "({'max_depth': 10, 'min_samples_split': 20}, 0.96175055817339739)"
      ]
     },
     "execution_count": 24,
     "metadata": {},
     "output_type": "execute_result"
    }
   ],
   "source": [
    "param_test = {\n",
    "    'max_depth':[5,10,15,20,25],\n",
    "    'min_samples_split':[2,10,20,50,100]\n",
    "}\n",
    "gsearch = GridSearchCV(estimator = RandomForestClassifier(n_estimators=100, max_depth=2,min_samples_split=2,\n",
    "                                                          min_samples_leaf=1,n_jobs=-1,random_state=111),\n",
    "                        param_grid = param_test,n_jobs=4,iid=False, cv=10)\n",
    "gsearch.fit(X,y)\n",
    "gsearch.best_params_, gsearch.best_score_"
   ]
  },
  {
   "cell_type": "code",
   "execution_count": 13,
   "metadata": {
    "collapsed": false
   },
   "outputs": [
    {
     "data": {
      "text/plain": [
       "({'max_depth': 17, 'min_samples_split': 30}, 0.96084111617621848)"
      ]
     },
     "execution_count": 13,
     "metadata": {},
     "output_type": "execute_result"
    }
   ],
   "source": [
    "param_test = {\n",
    "    'max_depth':[15,16,17,18,19,20],\n",
    "    'min_samples_split':[20,30,40,50]\n",
    "}\n",
    "gsearch = GridSearchCV(estimator = RandomForestClassifier(n_estimators=100, max_depth=2,min_samples_split=2,\n",
    "                                                          min_samples_leaf=1,n_jobs=-1,random_state=111),\n",
    "                        param_grid = param_test,n_jobs=4,iid=False, cv=10)\n",
    "gsearch.fit(X,y)\n",
    "gsearch.best_params_, gsearch.best_score_"
   ]
  },
  {
   "cell_type": "code",
   "execution_count": 14,
   "metadata": {
    "collapsed": false
   },
   "outputs": [
    {
     "data": {
      "text/plain": [
       "({'min_samples_split': 30}, 0.96084111617621848)"
      ]
     },
     "execution_count": 14,
     "metadata": {},
     "output_type": "execute_result"
    }
   ],
   "source": [
    "param_test = {\n",
    "    'min_samples_split':[20,21,22,23,24,25,26,27,28,29,30]\n",
    "}\n",
    "gsearch = GridSearchCV(estimator = RandomForestClassifier(n_estimators=100, max_depth=17,min_samples_split=2,\n",
    "                                                          min_samples_leaf=1,n_jobs=-1,random_state=111),\n",
    "                        param_grid = param_test,n_jobs=4,iid=False, cv=10)\n",
    "gsearch.fit(X,y)\n",
    "gsearch.best_params_, gsearch.best_score_"
   ]
  },
  {
   "cell_type": "code",
   "execution_count": 15,
   "metadata": {
    "collapsed": false
   },
   "outputs": [
    {
     "data": {
      "text/plain": [
       "({'min_samples_leaf': 1}, 0.96084111617621848)"
      ]
     },
     "execution_count": 15,
     "metadata": {},
     "output_type": "execute_result"
    }
   ],
   "source": [
    "param_test = {\n",
    "    'min_samples_leaf':[1,2,5,10,15]\n",
    "}\n",
    "gsearch = GridSearchCV(estimator = RandomForestClassifier(n_estimators=100, max_depth=17,min_samples_split=30,\n",
    "                                                          min_samples_leaf=1,n_jobs=-1,random_state=111),\n",
    "                        param_grid = param_test,n_jobs=4,iid=False, cv=10)\n",
    "gsearch.fit(X,y)\n",
    "gsearch.best_params_, gsearch.best_score_"
   ]
  },
  {
   "cell_type": "code",
   "execution_count": 12,
   "metadata": {
    "collapsed": true
   },
   "outputs": [],
   "source": [
    "rf = RandomForestClassifier(n_estimators=400, max_depth=9,min_samples_split=30,\n",
    "                            min_samples_leaf=2,n_jobs=-1,random_state=111,oob_score=True)"
   ]
  },
  {
   "cell_type": "code",
   "execution_count": 13,
   "metadata": {
    "collapsed": false
   },
   "outputs": [
    {
     "data": {
      "text/plain": [
       "RandomForestClassifier(bootstrap=True, class_weight=None, criterion='gini',\n",
       "            max_depth=9, max_features='auto', max_leaf_nodes=None,\n",
       "            min_samples_leaf=2, min_samples_split=30,\n",
       "            min_weight_fraction_leaf=0.0, n_estimators=400, n_jobs=-1,\n",
       "            oob_score=True, random_state=111, verbose=0, warm_start=False)"
      ]
     },
     "execution_count": 13,
     "metadata": {},
     "output_type": "execute_result"
    }
   ],
   "source": [
    "rf.fit(X,y)"
   ]
  },
  {
   "cell_type": "code",
   "execution_count": 14,
   "metadata": {
    "collapsed": false
   },
   "outputs": [
    {
     "data": {
      "text/html": [
       "<div>\n",
       "<table border=\"1\" class=\"dataframe\">\n",
       "  <thead>\n",
       "    <tr style=\"text-align: right;\">\n",
       "      <th></th>\n",
       "      <th>Front</th>\n",
       "      <th>Left</th>\n",
       "      <th>Rear</th>\n",
       "      <th>Right</th>\n",
       "    </tr>\n",
       "    <tr>\n",
       "      <th>Id</th>\n",
       "      <th></th>\n",
       "      <th></th>\n",
       "      <th></th>\n",
       "      <th></th>\n",
       "    </tr>\n",
       "  </thead>\n",
       "  <tbody>\n",
       "    <tr>\n",
       "      <th>2c9180975a056a64015a1e10d3f270fe</th>\n",
       "      <td>0.996912</td>\n",
       "      <td>0.000038</td>\n",
       "      <td>0.001223</td>\n",
       "      <td>0.001827</td>\n",
       "    </tr>\n",
       "    <tr>\n",
       "      <th>2c9180975a056a64015a1de4deb16bdc</th>\n",
       "      <td>0.998235</td>\n",
       "      <td>0.000426</td>\n",
       "      <td>0.000122</td>\n",
       "      <td>0.001216</td>\n",
       "    </tr>\n",
       "    <tr>\n",
       "      <th>2c9180975a056a64015a1e0e70ea70ce</th>\n",
       "      <td>0.996585</td>\n",
       "      <td>0.000119</td>\n",
       "      <td>0.001592</td>\n",
       "      <td>0.001705</td>\n",
       "    </tr>\n",
       "    <tr>\n",
       "      <th>2c9180975a056a64015a1dfed0c46ec6</th>\n",
       "      <td>0.997007</td>\n",
       "      <td>0.000083</td>\n",
       "      <td>0.001218</td>\n",
       "      <td>0.001691</td>\n",
       "    </tr>\n",
       "    <tr>\n",
       "      <th>2c9180975a056a64015a1dfed0c46ec7</th>\n",
       "      <td>0.998866</td>\n",
       "      <td>0.000391</td>\n",
       "      <td>0.000089</td>\n",
       "      <td>0.000654</td>\n",
       "    </tr>\n",
       "  </tbody>\n",
       "</table>\n",
       "</div>"
      ],
      "text/plain": [
       "                                     Front      Left      Rear     Right\n",
       "Id                                                                      \n",
       "2c9180975a056a64015a1e10d3f270fe  0.996912  0.000038  0.001223  0.001827\n",
       "2c9180975a056a64015a1de4deb16bdc  0.998235  0.000426  0.000122  0.001216\n",
       "2c9180975a056a64015a1e0e70ea70ce  0.996585  0.000119  0.001592  0.001705\n",
       "2c9180975a056a64015a1dfed0c46ec6  0.997007  0.000083  0.001218  0.001691\n",
       "2c9180975a056a64015a1dfed0c46ec7  0.998866  0.000391  0.000089  0.000654"
      ]
     },
     "execution_count": 14,
     "metadata": {},
     "output_type": "execute_result"
    }
   ],
   "source": [
    "prob = rf.predict_proba(test[features])\n",
    "submission = pd.DataFrame(data=prob,index = test.Id,columns=['Front','Left','Rear','Right'])\n",
    "submission.to_csv('rfr.csv')\n",
    "submission.head()"
   ]
  }
 ],
 "metadata": {
  "anaconda-cloud": {},
  "kernelspec": {
   "display_name": "Python [conda root]",
   "language": "python",
   "name": "conda-root-py"
  },
  "language_info": {
   "codemirror_mode": {
    "name": "ipython",
    "version": 3
   },
   "file_extension": ".py",
   "mimetype": "text/x-python",
   "name": "python",
   "nbconvert_exporter": "python",
   "pygments_lexer": "ipython3",
   "version": "3.5.2"
  }
 },
 "nbformat": 4,
 "nbformat_minor": 1
}
