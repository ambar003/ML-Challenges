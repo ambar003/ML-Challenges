{
 "cells": [
  {
   "cell_type": "code",
   "execution_count": 1,
   "metadata": {
    "collapsed": true
   },
   "outputs": [],
   "source": [
    "import pandas as pd\n",
    "import numpy as np"
   ]
  },
  {
   "cell_type": "code",
   "execution_count": 2,
   "metadata": {
    "collapsed": false
   },
   "outputs": [
    {
     "name": "stdout",
     "output_type": "stream",
     "text": [
      "Populating the interactive namespace from numpy and matplotlib\n"
     ]
    }
   ],
   "source": [
    "% pylab inline"
   ]
  },
  {
   "cell_type": "code",
   "execution_count": 3,
   "metadata": {
    "collapsed": true
   },
   "outputs": [],
   "source": [
    "from sklearn.preprocessing import LabelEncoder"
   ]
  },
  {
   "cell_type": "code",
   "execution_count": 4,
   "metadata": {
    "collapsed": true
   },
   "outputs": [],
   "source": [
    "train = pd.read_csv('train.csv')"
   ]
  },
  {
   "cell_type": "code",
   "execution_count": 5,
   "metadata": {
    "collapsed": false,
    "scrolled": true
   },
   "outputs": [
    {
     "name": "stdout",
     "output_type": "stream",
     "text": [
      "<class 'pandas.core.frame.DataFrame'>\n",
      "RangeIndex: 38485 entries, 0 to 38484\n",
      "Data columns (total 7 columns):\n",
      "Id                     38485 non-null object\n",
      "DetectedCamera         38485 non-null object\n",
      "AngleOfSign            38485 non-null int64\n",
      "SignAspectRatio        38485 non-null float64\n",
      "SignWidth              38485 non-null int64\n",
      "SignHeight             38485 non-null int64\n",
      "SignFacing (Target)    38485 non-null object\n",
      "dtypes: float64(1), int64(3), object(3)\n",
      "memory usage: 2.1+ MB\n"
     ]
    }
   ],
   "source": [
    "train.info()"
   ]
  },
  {
   "cell_type": "code",
   "execution_count": 6,
   "metadata": {
    "collapsed": false
   },
   "outputs": [
    {
     "data": {
      "text/html": [
       "<div>\n",
       "<table border=\"1\" class=\"dataframe\">\n",
       "  <thead>\n",
       "    <tr style=\"text-align: right;\">\n",
       "      <th></th>\n",
       "      <th>AngleOfSign</th>\n",
       "      <th>SignAspectRatio</th>\n",
       "      <th>SignWidth</th>\n",
       "      <th>SignHeight</th>\n",
       "    </tr>\n",
       "  </thead>\n",
       "  <tbody>\n",
       "    <tr>\n",
       "      <th>count</th>\n",
       "      <td>38485.000000</td>\n",
       "      <td>38485.000000</td>\n",
       "      <td>38485.000000</td>\n",
       "      <td>38485.000000</td>\n",
       "    </tr>\n",
       "    <tr>\n",
       "      <th>mean</th>\n",
       "      <td>132.930986</td>\n",
       "      <td>0.901241</td>\n",
       "      <td>92.922957</td>\n",
       "      <td>104.993140</td>\n",
       "    </tr>\n",
       "    <tr>\n",
       "      <th>std</th>\n",
       "      <td>98.042472</td>\n",
       "      <td>0.226068</td>\n",
       "      <td>52.399274</td>\n",
       "      <td>53.347424</td>\n",
       "    </tr>\n",
       "    <tr>\n",
       "      <th>min</th>\n",
       "      <td>1.000000</td>\n",
       "      <td>0.260000</td>\n",
       "      <td>19.000000</td>\n",
       "      <td>23.000000</td>\n",
       "    </tr>\n",
       "    <tr>\n",
       "      <th>25%</th>\n",
       "      <td>42.000000</td>\n",
       "      <td>0.770000</td>\n",
       "      <td>54.000000</td>\n",
       "      <td>65.000000</td>\n",
       "    </tr>\n",
       "    <tr>\n",
       "      <th>50%</th>\n",
       "      <td>80.000000</td>\n",
       "      <td>0.930000</td>\n",
       "      <td>80.000000</td>\n",
       "      <td>96.000000</td>\n",
       "    </tr>\n",
       "    <tr>\n",
       "      <th>75%</th>\n",
       "      <td>228.000000</td>\n",
       "      <td>1.040000</td>\n",
       "      <td>118.000000</td>\n",
       "      <td>132.000000</td>\n",
       "    </tr>\n",
       "    <tr>\n",
       "      <th>max</th>\n",
       "      <td>360.000000</td>\n",
       "      <td>2.790000</td>\n",
       "      <td>589.000000</td>\n",
       "      <td>513.000000</td>\n",
       "    </tr>\n",
       "  </tbody>\n",
       "</table>\n",
       "</div>"
      ],
      "text/plain": [
       "        AngleOfSign  SignAspectRatio     SignWidth    SignHeight\n",
       "count  38485.000000     38485.000000  38485.000000  38485.000000\n",
       "mean     132.930986         0.901241     92.922957    104.993140\n",
       "std       98.042472         0.226068     52.399274     53.347424\n",
       "min        1.000000         0.260000     19.000000     23.000000\n",
       "25%       42.000000         0.770000     54.000000     65.000000\n",
       "50%       80.000000         0.930000     80.000000     96.000000\n",
       "75%      228.000000         1.040000    118.000000    132.000000\n",
       "max      360.000000         2.790000    589.000000    513.000000"
      ]
     },
     "execution_count": 6,
     "metadata": {},
     "output_type": "execute_result"
    }
   ],
   "source": [
    "train.describe()"
   ]
  },
  {
   "cell_type": "code",
   "execution_count": 7,
   "metadata": {
    "collapsed": false
   },
   "outputs": [
    {
     "data": {
      "text/plain": [
       "Front    10910\n",
       "Right    10516\n",
       "Left      9298\n",
       "Rear      7761\n",
       "Name: DetectedCamera, dtype: int64"
      ]
     },
     "execution_count": 7,
     "metadata": {},
     "output_type": "execute_result"
    }
   ],
   "source": [
    "train['DetectedCamera'].value_counts()"
   ]
  },
  {
   "cell_type": "code",
   "execution_count": 8,
   "metadata": {
    "collapsed": false
   },
   "outputs": [
    {
     "data": {
      "text/plain": [
       "array([[<matplotlib.axes._subplots.AxesSubplot object at 0x00000127722AAA20>,\n",
       "        <matplotlib.axes._subplots.AxesSubplot object at 0x0000012771DE4CC0>],\n",
       "       [<matplotlib.axes._subplots.AxesSubplot object at 0x0000012771E2E278>,\n",
       "        <matplotlib.axes._subplots.AxesSubplot object at 0x0000012771E764A8>]], dtype=object)"
      ]
     },
     "execution_count": 8,
     "metadata": {},
     "output_type": "execute_result"
    },
    {
     "data": {
      "image/png": "[encoded data removed]",
      "text/plain": [
       "<matplotlib.figure.Figure at 0x127718c8c50>"
      ]
     },
     "metadata": {},
     "output_type": "display_data"
    }
   ],
   "source": [
    "train.hist()"
   ]
  },
  {
   "cell_type": "code",
   "execution_count": 9,
   "metadata": {
    "collapsed": false
   },
   "outputs": [
    {
     "data": {
      "text/plain": [
       "<matplotlib.axes._subplots.AxesSubplot at 0x12772112438>"
      ]
     },
     "execution_count": 9,
     "metadata": {},
     "output_type": "execute_result"
    },
    {
     "data": {
      "image/png": "[encoded data removed]",
      "text/plain": [
       "<matplotlib.figure.Figure at 0x12771eb8e80>"
      ]
     },
     "metadata": {},
     "output_type": "display_data"
    }
   ],
   "source": [
    "np.sqrt(train['AngleOfSign']).hist()"
   ]
  },
  {
   "cell_type": "code",
   "execution_count": 10,
   "metadata": {
    "collapsed": false
   },
   "outputs": [
    {
     "data": {
      "text/plain": [
       "{'boxes': [<matplotlib.lines.Line2D at 0x127727f9a90>],\n",
       " 'caps': [<matplotlib.lines.Line2D at 0x12772801da0>,\n",
       "  <matplotlib.lines.Line2D at 0x12772806c88>],\n",
       " 'fliers': [<matplotlib.lines.Line2D at 0x1277280ccf8>],\n",
       " 'means': [],\n",
       " 'medians': [<matplotlib.lines.Line2D at 0x12772806e10>],\n",
       " 'whiskers': [<matplotlib.lines.Line2D at 0x127727f9d30>,\n",
       "  <matplotlib.lines.Line2D at 0x127727f9828>]}"
      ]
     },
     "execution_count": 10,
     "metadata": {},
     "output_type": "execute_result"
    },
    {
     "data": {
      "image/png": "[encoded data removed]",
      "text/plain": [
       "<matplotlib.figure.Figure at 0x127727b4c50>"
      ]
     },
     "metadata": {},
     "output_type": "display_data"
    }
   ],
   "source": [
    "train.boxplot(column='SignWidth',return_type='dict')"
   ]
  },
  {
   "cell_type": "code",
   "execution_count": 11,
   "metadata": {
    "collapsed": true
   },
   "outputs": [],
   "source": [
    "le = LabelEncoder()"
   ]
  },
  {
   "cell_type": "code",
   "execution_count": 12,
   "metadata": {
    "collapsed": false
   },
   "outputs": [
    {
     "data": {
      "text/plain": [
       "LabelEncoder()"
      ]
     },
     "execution_count": 12,
     "metadata": {},
     "output_type": "execute_result"
    }
   ],
   "source": [
    "le.fit(train['DetectedCamera'])"
   ]
  },
  {
   "cell_type": "code",
   "execution_count": 13,
   "metadata": {
    "collapsed": false
   },
   "outputs": [
    {
     "data": {
      "text/plain": [
       "['Front', 'Left', 'Rear', 'Right']"
      ]
     },
     "execution_count": 13,
     "metadata": {},
     "output_type": "execute_result"
    }
   ],
   "source": [
    "list(le.classes_)"
   ]
  },
  {
   "cell_type": "code",
   "execution_count": 14,
   "metadata": {
    "collapsed": true
   },
   "outputs": [],
   "source": [
    "train['DetectedCamera'] = le.transform(train['DetectedCamera'])"
   ]
  },
  {
   "cell_type": "code",
   "execution_count": 15,
   "metadata": {
    "collapsed": false
   },
   "outputs": [
    {
     "data": {
      "text/plain": [
       "Front    21327\n",
       "Rear     15662\n",
       "Right      821\n",
       "Left       675\n",
       "Name: SignFacing (Target), dtype: int64"
      ]
     },
     "execution_count": 15,
     "metadata": {},
     "output_type": "execute_result"
    }
   ],
   "source": [
    "train['SignFacing (Target)'].value_counts()"
   ]
  },
  {
   "cell_type": "code",
   "execution_count": 16,
   "metadata": {
    "collapsed": true
   },
   "outputs": [],
   "source": [
    "train['SignFacing (Target)'] = le.transform(train['SignFacing (Target)'])"
   ]
  },
  {
   "cell_type": "code",
   "execution_count": 17,
   "metadata": {
    "collapsed": false
   },
   "outputs": [
    {
     "data": {
      "text/plain": [
       "0    21327\n",
       "2    15662\n",
       "3      821\n",
       "1      675\n",
       "Name: SignFacing (Target), dtype: int64"
      ]
     },
     "execution_count": 17,
     "metadata": {},
     "output_type": "execute_result"
    }
   ],
   "source": [
    "train['SignFacing (Target)'].value_counts()"
   ]
  },
  {
   "cell_type": "code",
   "execution_count": 18,
   "metadata": {
    "collapsed": false
   },
   "outputs": [
    {
     "data": {
      "text/plain": [
       "0    10910\n",
       "3    10516\n",
       "1     9298\n",
       "2     7761\n",
       "Name: DetectedCamera, dtype: int64"
      ]
     },
     "execution_count": 18,
     "metadata": {},
     "output_type": "execute_result"
    }
   ],
   "source": [
    "train['DetectedCamera'].value_counts()"
   ]
  },
  {
   "cell_type": "code",
   "execution_count": 19,
   "metadata": {
    "collapsed": false
   },
   "outputs": [
    {
     "data": {
      "text/html": [
       "<div>\n",
       "<table border=\"1\" class=\"dataframe\">\n",
       "  <thead>\n",
       "    <tr style=\"text-align: right;\">\n",
       "      <th></th>\n",
       "      <th>Id</th>\n",
       "      <th>DetectedCamera</th>\n",
       "      <th>AngleOfSign</th>\n",
       "      <th>SignAspectRatio</th>\n",
       "      <th>SignWidth</th>\n",
       "      <th>SignHeight</th>\n",
       "      <th>SignFacing (Target)</th>\n",
       "    </tr>\n",
       "  </thead>\n",
       "  <tbody>\n",
       "    <tr>\n",
       "      <th>0</th>\n",
       "      <td>2c9180975a056a64015a1e0a52e57021</td>\n",
       "      <td>2</td>\n",
       "      <td>195</td>\n",
       "      <td>1.02</td>\n",
       "      <td>46</td>\n",
       "      <td>45</td>\n",
       "      <td>2</td>\n",
       "    </tr>\n",
       "    <tr>\n",
       "      <th>1</th>\n",
       "      <td>2c9180975a056a64015a1e17b32171e4</td>\n",
       "      <td>2</td>\n",
       "      <td>203</td>\n",
       "      <td>1.09</td>\n",
       "      <td>59</td>\n",
       "      <td>54</td>\n",
       "      <td>2</td>\n",
       "    </tr>\n",
       "    <tr>\n",
       "      <th>2</th>\n",
       "      <td>2c9180975a056a64015a1de4deb16bd5</td>\n",
       "      <td>0</td>\n",
       "      <td>26</td>\n",
       "      <td>0.96</td>\n",
       "      <td>104</td>\n",
       "      <td>108</td>\n",
       "      <td>0</td>\n",
       "    </tr>\n",
       "    <tr>\n",
       "      <th>3</th>\n",
       "      <td>2c9180975a056a64015a1de4deb16bdd</td>\n",
       "      <td>2</td>\n",
       "      <td>199</td>\n",
       "      <td>0.81</td>\n",
       "      <td>38</td>\n",
       "      <td>47</td>\n",
       "      <td>2</td>\n",
       "    </tr>\n",
       "    <tr>\n",
       "      <th>4</th>\n",
       "      <td>2c9180975a056a64015a1de4deb16bd6</td>\n",
       "      <td>2</td>\n",
       "      <td>208</td>\n",
       "      <td>0.93</td>\n",
       "      <td>54</td>\n",
       "      <td>58</td>\n",
       "      <td>2</td>\n",
       "    </tr>\n",
       "  </tbody>\n",
       "</table>\n",
       "</div>"
      ],
      "text/plain": [
       "                                 Id  DetectedCamera  AngleOfSign  \\\n",
       "0  2c9180975a056a64015a1e0a52e57021               2          195   \n",
       "1  2c9180975a056a64015a1e17b32171e4               2          203   \n",
       "2  2c9180975a056a64015a1de4deb16bd5               0           26   \n",
       "3  2c9180975a056a64015a1de4deb16bdd               2          199   \n",
       "4  2c9180975a056a64015a1de4deb16bd6               2          208   \n",
       "\n",
       "   SignAspectRatio  SignWidth  SignHeight  SignFacing (Target)  \n",
       "0             1.02         46          45                    2  \n",
       "1             1.09         59          54                    2  \n",
       "2             0.96        104         108                    0  \n",
       "3             0.81         38          47                    2  \n",
       "4             0.93         54          58                    2  "
      ]
     },
     "execution_count": 19,
     "metadata": {},
     "output_type": "execute_result"
    }
   ],
   "source": [
    "train.head()"
   ]
  },
  {
   "cell_type": "code",
   "execution_count": 20,
   "metadata": {
    "collapsed": false
   },
   "outputs": [
    {
     "name": "stdout",
     "output_type": "stream",
     "text": [
      "<class 'pandas.core.frame.DataFrame'>\n",
      "RangeIndex: 31485 entries, 0 to 31484\n",
      "Data columns (total 6 columns):\n",
      "Id                 31485 non-null object\n",
      "DetectedCamera     31485 non-null object\n",
      "AngleOfSign        31485 non-null int64\n",
      "SignAspectRatio    31485 non-null float64\n",
      "SignWidth          31485 non-null int64\n",
      "SignHeight         31485 non-null int64\n",
      "dtypes: float64(1), int64(3), object(2)\n",
      "memory usage: 1.4+ MB\n"
     ]
    },
    {
     "data": {
      "text/html": [
       "<div>\n",
       "<table border=\"1\" class=\"dataframe\">\n",
       "  <thead>\n",
       "    <tr style=\"text-align: right;\">\n",
       "      <th></th>\n",
       "      <th>Id</th>\n",
       "      <th>DetectedCamera</th>\n",
       "      <th>AngleOfSign</th>\n",
       "      <th>SignAspectRatio</th>\n",
       "      <th>SignWidth</th>\n",
       "      <th>SignHeight</th>\n",
       "    </tr>\n",
       "  </thead>\n",
       "  <tbody>\n",
       "    <tr>\n",
       "      <th>0</th>\n",
       "      <td>2c9180975a056a64015a1e10d3f270fe</td>\n",
       "      <td>3</td>\n",
       "      <td>67</td>\n",
       "      <td>0.63</td>\n",
       "      <td>107</td>\n",
       "      <td>169</td>\n",
       "    </tr>\n",
       "    <tr>\n",
       "      <th>1</th>\n",
       "      <td>2c9180975a056a64015a1de4deb16bdc</td>\n",
       "      <td>0</td>\n",
       "      <td>16</td>\n",
       "      <td>0.88</td>\n",
       "      <td>61</td>\n",
       "      <td>69</td>\n",
       "    </tr>\n",
       "    <tr>\n",
       "      <th>2</th>\n",
       "      <td>2c9180975a056a64015a1e0e70ea70ce</td>\n",
       "      <td>3</td>\n",
       "      <td>44</td>\n",
       "      <td>1.15</td>\n",
       "      <td>232</td>\n",
       "      <td>202</td>\n",
       "    </tr>\n",
       "    <tr>\n",
       "      <th>3</th>\n",
       "      <td>2c9180975a056a64015a1dfed0c46ec6</td>\n",
       "      <td>3</td>\n",
       "      <td>50</td>\n",
       "      <td>1.10</td>\n",
       "      <td>137</td>\n",
       "      <td>125</td>\n",
       "    </tr>\n",
       "    <tr>\n",
       "      <th>4</th>\n",
       "      <td>2c9180975a056a64015a1dfed0c46ec7</td>\n",
       "      <td>0</td>\n",
       "      <td>30</td>\n",
       "      <td>0.95</td>\n",
       "      <td>99</td>\n",
       "      <td>104</td>\n",
       "    </tr>\n",
       "  </tbody>\n",
       "</table>\n",
       "</div>"
      ],
      "text/plain": [
       "                                 Id  DetectedCamera  AngleOfSign  \\\n",
       "0  2c9180975a056a64015a1e10d3f270fe               3           67   \n",
       "1  2c9180975a056a64015a1de4deb16bdc               0           16   \n",
       "2  2c9180975a056a64015a1e0e70ea70ce               3           44   \n",
       "3  2c9180975a056a64015a1dfed0c46ec6               3           50   \n",
       "4  2c9180975a056a64015a1dfed0c46ec7               0           30   \n",
       "\n",
       "   SignAspectRatio  SignWidth  SignHeight  \n",
       "0             0.63        107         169  \n",
       "1             0.88         61          69  \n",
       "2             1.15        232         202  \n",
       "3             1.10        137         125  \n",
       "4             0.95         99         104  "
      ]
     },
     "execution_count": 20,
     "metadata": {},
     "output_type": "execute_result"
    }
   ],
   "source": [
    "test = pd.read_csv('test.csv')\n",
    "test.info()\n",
    "test['DetectedCamera'] = le.transform(test['DetectedCamera'])\n",
    "test.head()"
   ]
  },
  {
   "cell_type": "code",
   "execution_count": 21,
   "metadata": {
    "collapsed": true
   },
   "outputs": [],
   "source": [
    "from sklearn import preprocessing"
   ]
  },
  {
   "cell_type": "code",
   "execution_count": 22,
   "metadata": {
    "collapsed": true
   },
   "outputs": [],
   "source": [
    "from sklearn.ensemble import RandomForestClassifier"
   ]
  },
  {
   "cell_type": "code",
   "execution_count": 23,
   "metadata": {
    "collapsed": true
   },
   "outputs": [],
   "source": [
    "from sklearn import cross_validation,metrics\n",
    "from sklearn.grid_search import GridSearchCV"
   ]
  },
  {
   "cell_type": "code",
   "execution_count": 18,
   "metadata": {
    "collapsed": false
   },
   "outputs": [
    {
     "data": {
      "text/plain": [
       "RandomForestClassifier(bootstrap=True, class_weight=None, criterion='gini',\n",
       "            max_depth=None, max_features='auto', max_leaf_nodes=None,\n",
       "            min_samples_leaf=1, min_samples_split=2,\n",
       "            min_weight_fraction_leaf=0.0, n_estimators=10, n_jobs=1,\n",
       "            oob_score=False, random_state=3, verbose=0, warm_start=False)"
      ]
     },
     "execution_count": 18,
     "metadata": {},
     "output_type": "execute_result"
    }
   ],
   "source": [
    "RandomForestClassifier(n_estimators=10, criterion='gini', max_depth=None, min_samples_split=2, min_samples_leaf=1, \n",
    "                       max_features='auto',n_jobs=1, random_state=3)"
   ]
  },
  {
   "cell_type": "code",
   "execution_count": 19,
   "metadata": {
    "collapsed": false
   },
   "outputs": [
    {
     "data": {
      "text/plain": [
       "Index(['Id', 'DetectedCamera', 'AngleOfSign', 'SignAspectRatio', 'SignWidth',\n",
       "       'SignHeight', 'SignFacing (Target)'],\n",
       "      dtype='object')"
      ]
     },
     "execution_count": 19,
     "metadata": {},
     "output_type": "execute_result"
    }
   ],
   "source": [
    "train.columns"
   ]
  },
  {
   "cell_type": "code",
   "execution_count": 56,
   "metadata": {
    "collapsed": true
   },
   "outputs": [],
   "source": [
    "features = ['AngleOfSign', 'SignAspectRatio','SignWidth']"
   ]
  },
  {
   "cell_type": "code",
   "execution_count": 57,
   "metadata": {
    "collapsed": false
   },
   "outputs": [],
   "source": [
    "X = train[features]"
   ]
  },
  {
   "cell_type": "code",
   "execution_count": 58,
   "metadata": {
    "collapsed": true
   },
   "outputs": [],
   "source": [
    "y = train['SignFacing (Target)']"
   ]
  },
  {
   "cell_type": "code",
   "execution_count": 25,
   "metadata": {
    "collapsed": false
   },
   "outputs": [
    {
     "data": {
      "text/plain": [
       "({'max_depth': 10, 'min_samples_split': 20}, 0.96175055817339739)"
      ]
     },
     "execution_count": 25,
     "metadata": {},
     "output_type": "execute_result"
    }
   ],
   "source": [
    "param_test = {\n",
    "    'max_depth':[5,10,15,20,25],\n",
    "    'min_samples_split':[2,10,20,50,100]\n",
    "}\n",
    "gsearch = GridSearchCV(estimator = RandomForestClassifier(n_estimators=100, max_depth=2,min_samples_split=2,\n",
    "                                                          min_samples_leaf=1,n_jobs=-1,random_state=111),\n",
    "                        param_grid = param_test,n_jobs=4,iid=False, cv=10)\n",
    "gsearch.fit(X,y)\n",
    "gsearch.best_params_, gsearch.best_score_"
   ]
  },
  {
   "cell_type": "code",
   "execution_count": 27,
   "metadata": {
    "collapsed": false
   },
   "outputs": [
    {
     "data": {
      "text/plain": [
       "({'max_depth': 9, 'min_samples_split': 30}, 0.96208836227347483)"
      ]
     },
     "execution_count": 27,
     "metadata": {},
     "output_type": "execute_result"
    }
   ],
   "source": [
    "param_test = {\n",
    "    'max_depth':[8,9],\n",
    "    'min_samples_split':[20,23,25,27,29,30]\n",
    "}\n",
    "gsearch = GridSearchCV(estimator = RandomForestClassifier(n_estimators=100, max_depth=2,min_samples_split=2,\n",
    "                                                          min_samples_leaf=1,n_jobs=-1,random_state=111),\n",
    "                        param_grid = param_test,n_jobs=4,iid=False, cv=10)\n",
    "gsearch.fit(X,y)\n",
    "gsearch.best_params_, gsearch.best_score_"
   ]
  },
  {
   "cell_type": "code",
   "execution_count": 28,
   "metadata": {
    "collapsed": false
   },
   "outputs": [
    {
     "data": {
      "text/plain": [
       "({'min_samples_leaf': 2}, 0.96208836903576034)"
      ]
     },
     "execution_count": 28,
     "metadata": {},
     "output_type": "execute_result"
    }
   ],
   "source": [
    "param_test = {\n",
    "    'min_samples_leaf':[1,2,5,10,15]\n",
    "}\n",
    "gsearch = GridSearchCV(estimator = RandomForestClassifier(n_estimators=100, max_depth=9,min_samples_split=30,\n",
    "                                                          min_samples_leaf=1,n_jobs=-1,random_state=111),\n",
    "                        param_grid = param_test,n_jobs=4,iid=False, cv=10)\n",
    "gsearch.fit(X,y)\n",
    "gsearch.best_params_, gsearch.best_score_"
   ]
  },
  {
   "cell_type": "code",
   "execution_count": 30,
   "metadata": {
    "collapsed": false
   },
   "outputs": [
    {
     "data": {
      "text/plain": [
       "({'min_samples_leaf': 2}, 0.96208836903576034)"
      ]
     },
     "execution_count": 30,
     "metadata": {},
     "output_type": "execute_result"
    }
   ],
   "source": [
    "param_test = {\n",
    "    'min_samples_leaf':[2,3,4]\n",
    "}\n",
    "gsearch = GridSearchCV(estimator = RandomForestClassifier(n_estimators=100, max_depth=9,min_samples_split=30,\n",
    "                                                          min_samples_leaf=1,n_jobs=-1,random_state=111),\n",
    "                        param_grid = param_test,n_jobs=4,iid=False, cv=10)\n",
    "gsearch.fit(X,y)\n",
    "gsearch.best_params_, gsearch.best_score_"
   ]
  },
  {
   "cell_type": "code",
   "execution_count": 40,
   "metadata": {
    "collapsed": false
   },
   "outputs": [
    {
     "data": {
      "text/plain": [
       "({'n_estimators': 100}, 0.96208836903576034)"
      ]
     },
     "execution_count": 40,
     "metadata": {},
     "output_type": "execute_result"
    }
   ],
   "source": [
    "param_test = {\n",
    "    'n_estimators':[100,200,300,400,500,1000]\n",
    "}\n",
    "gsearch = GridSearchCV(estimator = RandomForestClassifier(n_estimators=100, max_depth=9,min_samples_split=30,\n",
    "                                                          min_samples_leaf=2,n_jobs=-1,random_state=111),\n",
    "                        param_grid = param_test,n_jobs=4,iid=False, cv=10)\n",
    "gsearch.fit(X,y)\n",
    "gsearch.best_params_, gsearch.best_score_"
   ]
  },
  {
   "cell_type": "code",
   "execution_count": 49,
   "metadata": {
    "collapsed": false
   },
   "outputs": [
    {
     "data": {
      "text/plain": [
       "({'max_features': 'auto'}, 0.96208836903576034)"
      ]
     },
     "execution_count": 49,
     "metadata": {},
     "output_type": "execute_result"
    }
   ],
   "source": [
    "param_test = {\n",
    "    'max_features':['auto','sqrt','log2',3]\n",
    "}\n",
    "gsearch = GridSearchCV(estimator = RandomForestClassifier(n_estimators=100, max_depth=9,min_samples_split=30,oob_score=True,\n",
    "                                                           max_features='auto',min_samples_leaf=2,n_jobs=-1,random_state=111),\n",
    "                        param_grid = param_test,n_jobs=4,iid=False, cv=10)\n",
    "gsearch.fit(X,y)\n",
    "gsearch.best_params_, gsearch.best_score_"
   ]
  },
  {
   "cell_type": "code",
   "execution_count": 50,
   "metadata": {
    "collapsed": false
   },
   "outputs": [],
   "source": [
    "rf = RandomForestClassifier(n_estimators=400, max_depth=9,min_samples_split=30,\n",
    "                            min_samples_leaf=2,n_jobs=-1,random_state=111,oob_score=True)"
   ]
  },
  {
   "cell_type": "code",
   "execution_count": 51,
   "metadata": {
    "collapsed": false
   },
   "outputs": [
    {
     "data": {
      "text/plain": [
       "RandomForestClassifier(bootstrap=True, class_weight=None, criterion='gini',\n",
       "            max_depth=9, max_features='auto', max_leaf_nodes=None,\n",
       "            min_samples_leaf=2, min_samples_split=30,\n",
       "            min_weight_fraction_leaf=0.0, n_estimators=400, n_jobs=-1,\n",
       "            oob_score=True, random_state=111, verbose=0, warm_start=False)"
      ]
     },
     "execution_count": 51,
     "metadata": {},
     "output_type": "execute_result"
    }
   ],
   "source": [
    "rf.fit(X,y)"
   ]
  },
  {
   "cell_type": "code",
   "execution_count": 36,
   "metadata": {
    "collapsed": false
   },
   "outputs": [
    {
     "data": {
      "text/plain": [
       "array([ 0.20854025,  0.72676324,  0.02249029,  0.04220623])"
      ]
     },
     "execution_count": 36,
     "metadata": {},
     "output_type": "execute_result"
    }
   ],
   "source": [
    "rf.feature_importances_"
   ]
  },
  {
   "cell_type": "code",
   "execution_count": 52,
   "metadata": {
    "collapsed": false
   },
   "outputs": [],
   "source": [
    "prob = rf.predict_proba(test[features])"
   ]
  },
  {
   "cell_type": "code",
   "execution_count": 29,
   "metadata": {
    "collapsed": false
   },
   "outputs": [
    {
     "data": {
      "text/plain": [
       "array([  9.96044074e-01,   3.87142389e-05,   2.02449039e-03,\n",
       "         1.89272109e-03])"
      ]
     },
     "execution_count": 29,
     "metadata": {},
     "output_type": "execute_result"
    }
   ],
   "source": [
    "prob[0]"
   ]
  },
  {
   "cell_type": "code",
   "execution_count": 53,
   "metadata": {
    "collapsed": false
   },
   "outputs": [],
   "source": [
    "submission = pd.DataFrame(data=prob,index = test.Id,columns=['Front','Left','Rear','Right'])"
   ]
  },
  {
   "cell_type": "code",
   "execution_count": 47,
   "metadata": {
    "collapsed": false
   },
   "outputs": [
    {
     "data": {
      "text/html": [
       "<div>\n",
       "<table border=\"1\" class=\"dataframe\">\n",
       "  <thead>\n",
       "    <tr style=\"text-align: right;\">\n",
       "      <th></th>\n",
       "      <th>Front</th>\n",
       "      <th>Left</th>\n",
       "      <th>Rear</th>\n",
       "      <th>Right</th>\n",
       "    </tr>\n",
       "    <tr>\n",
       "      <th>Id</th>\n",
       "      <th></th>\n",
       "      <th></th>\n",
       "      <th></th>\n",
       "      <th></th>\n",
       "    </tr>\n",
       "  </thead>\n",
       "  <tbody>\n",
       "    <tr>\n",
       "      <th>2c9180975a056a64015a1e10d3f270fe</th>\n",
       "      <td>0.997567</td>\n",
       "      <td>0.000016</td>\n",
       "      <td>0.000862</td>\n",
       "      <td>0.001555</td>\n",
       "    </tr>\n",
       "    <tr>\n",
       "      <th>2c9180975a056a64015a1de4deb16bdc</th>\n",
       "      <td>0.998782</td>\n",
       "      <td>0.000314</td>\n",
       "      <td>0.000026</td>\n",
       "      <td>0.000877</td>\n",
       "    </tr>\n",
       "    <tr>\n",
       "      <th>2c9180975a056a64015a1e0e70ea70ce</th>\n",
       "      <td>0.997346</td>\n",
       "      <td>0.000096</td>\n",
       "      <td>0.001446</td>\n",
       "      <td>0.001112</td>\n",
       "    </tr>\n",
       "    <tr>\n",
       "      <th>2c9180975a056a64015a1dfed0c46ec6</th>\n",
       "      <td>0.997921</td>\n",
       "      <td>0.000076</td>\n",
       "      <td>0.001067</td>\n",
       "      <td>0.000936</td>\n",
       "    </tr>\n",
       "    <tr>\n",
       "      <th>2c9180975a056a64015a1dfed0c46ec7</th>\n",
       "      <td>0.999109</td>\n",
       "      <td>0.000322</td>\n",
       "      <td>0.000068</td>\n",
       "      <td>0.000501</td>\n",
       "    </tr>\n",
       "  </tbody>\n",
       "</table>\n",
       "</div>"
      ],
      "text/plain": [
       "                                     Front      Left      Rear     Right\n",
       "Id                                                                      \n",
       "2c9180975a056a64015a1e10d3f270fe  0.997567  0.000016  0.000862  0.001555\n",
       "2c9180975a056a64015a1de4deb16bdc  0.998782  0.000314  0.000026  0.000877\n",
       "2c9180975a056a64015a1e0e70ea70ce  0.997346  0.000096  0.001446  0.001112\n",
       "2c9180975a056a64015a1dfed0c46ec6  0.997921  0.000076  0.001067  0.000936\n",
       "2c9180975a056a64015a1dfed0c46ec7  0.999109  0.000322  0.000068  0.000501"
      ]
     },
     "execution_count": 47,
     "metadata": {},
     "output_type": "execute_result"
    }
   ],
   "source": [
    "submission.head()"
   ]
  },
  {
   "cell_type": "code",
   "execution_count": 54,
   "metadata": {
    "collapsed": false
   },
   "outputs": [
    {
     "data": {
      "text/html": [
       "<div>\n",
       "<table border=\"1\" class=\"dataframe\">\n",
       "  <thead>\n",
       "    <tr style=\"text-align: right;\">\n",
       "      <th></th>\n",
       "      <th>Front</th>\n",
       "      <th>Left</th>\n",
       "      <th>Rear</th>\n",
       "      <th>Right</th>\n",
       "    </tr>\n",
       "    <tr>\n",
       "      <th>Id</th>\n",
       "      <th></th>\n",
       "      <th></th>\n",
       "      <th></th>\n",
       "      <th></th>\n",
       "    </tr>\n",
       "  </thead>\n",
       "  <tbody>\n",
       "    <tr>\n",
       "      <th>2c9180975a056a64015a1e10d3f270fe</th>\n",
       "      <td>0.996912</td>\n",
       "      <td>0.000038</td>\n",
       "      <td>0.001223</td>\n",
       "      <td>0.001827</td>\n",
       "    </tr>\n",
       "    <tr>\n",
       "      <th>2c9180975a056a64015a1de4deb16bdc</th>\n",
       "      <td>0.998235</td>\n",
       "      <td>0.000426</td>\n",
       "      <td>0.000122</td>\n",
       "      <td>0.001216</td>\n",
       "    </tr>\n",
       "    <tr>\n",
       "      <th>2c9180975a056a64015a1e0e70ea70ce</th>\n",
       "      <td>0.996585</td>\n",
       "      <td>0.000119</td>\n",
       "      <td>0.001592</td>\n",
       "      <td>0.001705</td>\n",
       "    </tr>\n",
       "    <tr>\n",
       "      <th>2c9180975a056a64015a1dfed0c46ec6</th>\n",
       "      <td>0.997007</td>\n",
       "      <td>0.000083</td>\n",
       "      <td>0.001218</td>\n",
       "      <td>0.001691</td>\n",
       "    </tr>\n",
       "    <tr>\n",
       "      <th>2c9180975a056a64015a1dfed0c46ec7</th>\n",
       "      <td>0.998866</td>\n",
       "      <td>0.000391</td>\n",
       "      <td>0.000089</td>\n",
       "      <td>0.000654</td>\n",
       "    </tr>\n",
       "  </tbody>\n",
       "</table>\n",
       "</div>"
      ],
      "text/plain": [
       "                                     Front      Left      Rear     Right\n",
       "Id                                                                      \n",
       "2c9180975a056a64015a1e10d3f270fe  0.996912  0.000038  0.001223  0.001827\n",
       "2c9180975a056a64015a1de4deb16bdc  0.998235  0.000426  0.000122  0.001216\n",
       "2c9180975a056a64015a1e0e70ea70ce  0.996585  0.000119  0.001592  0.001705\n",
       "2c9180975a056a64015a1dfed0c46ec6  0.997007  0.000083  0.001218  0.001691\n",
       "2c9180975a056a64015a1dfed0c46ec7  0.998866  0.000391  0.000089  0.000654"
      ]
     },
     "execution_count": 54,
     "metadata": {},
     "output_type": "execute_result"
    }
   ],
   "source": [
    "submission.to_csv('rfr.csv')\n",
    "submission.head()"
   ]
  },
  {
   "cell_type": "code",
   "execution_count": 32,
   "metadata": {
    "collapsed": false
   },
   "outputs": [
    {
     "data": {
      "text/html": [
       "<div>\n",
       "<table border=\"1\" class=\"dataframe\">\n",
       "  <thead>\n",
       "    <tr style=\"text-align: right;\">\n",
       "      <th></th>\n",
       "      <th>DetectedCamera</th>\n",
       "      <th>AngleOfSign</th>\n",
       "      <th>SignAspectRatio</th>\n",
       "      <th>SignWidth</th>\n",
       "      <th>SignHeight</th>\n",
       "      <th>SignFacing (Target)</th>\n",
       "    </tr>\n",
       "  </thead>\n",
       "  <tbody>\n",
       "    <tr>\n",
       "      <th>DetectedCamera</th>\n",
       "      <td>NaN</td>\n",
       "      <td>NaN</td>\n",
       "      <td>NaN</td>\n",
       "      <td>NaN</td>\n",
       "      <td>NaN</td>\n",
       "      <td>NaN</td>\n",
       "    </tr>\n",
       "    <tr>\n",
       "      <th>AngleOfSign</th>\n",
       "      <td>NaN</td>\n",
       "      <td>NaN</td>\n",
       "      <td>NaN</td>\n",
       "      <td>NaN</td>\n",
       "      <td>NaN</td>\n",
       "      <td>NaN</td>\n",
       "    </tr>\n",
       "    <tr>\n",
       "      <th>SignAspectRatio</th>\n",
       "      <td>NaN</td>\n",
       "      <td>NaN</td>\n",
       "      <td>NaN</td>\n",
       "      <td>NaN</td>\n",
       "      <td>NaN</td>\n",
       "      <td>NaN</td>\n",
       "    </tr>\n",
       "    <tr>\n",
       "      <th>SignWidth</th>\n",
       "      <td>NaN</td>\n",
       "      <td>NaN</td>\n",
       "      <td>NaN</td>\n",
       "      <td>NaN</td>\n",
       "      <td>0.856428</td>\n",
       "      <td>NaN</td>\n",
       "    </tr>\n",
       "    <tr>\n",
       "      <th>SignHeight</th>\n",
       "      <td>NaN</td>\n",
       "      <td>NaN</td>\n",
       "      <td>NaN</td>\n",
       "      <td>0.856428</td>\n",
       "      <td>NaN</td>\n",
       "      <td>NaN</td>\n",
       "    </tr>\n",
       "    <tr>\n",
       "      <th>SignFacing (Target)</th>\n",
       "      <td>NaN</td>\n",
       "      <td>NaN</td>\n",
       "      <td>NaN</td>\n",
       "      <td>NaN</td>\n",
       "      <td>NaN</td>\n",
       "      <td>NaN</td>\n",
       "    </tr>\n",
       "  </tbody>\n",
       "</table>\n",
       "</div>"
      ],
      "text/plain": [
       "                     DetectedCamera  AngleOfSign  SignAspectRatio  SignWidth  \\\n",
       "DetectedCamera                  NaN          NaN              NaN        NaN   \n",
       "AngleOfSign                     NaN          NaN              NaN        NaN   \n",
       "SignAspectRatio                 NaN          NaN              NaN        NaN   \n",
       "SignWidth                       NaN          NaN              NaN        NaN   \n",
       "SignHeight                      NaN          NaN              NaN   0.856428   \n",
       "SignFacing (Target)             NaN          NaN              NaN        NaN   \n",
       "\n",
       "                     SignHeight  SignFacing (Target)  \n",
       "DetectedCamera              NaN                  NaN  \n",
       "AngleOfSign                 NaN                  NaN  \n",
       "SignAspectRatio             NaN                  NaN  \n",
       "SignWidth              0.856428                  NaN  \n",
       "SignHeight                  NaN                  NaN  \n",
       "SignFacing (Target)         NaN                  NaN  "
      ]
     },
     "execution_count": 32,
     "metadata": {},
     "output_type": "execute_result"
    }
   ],
   "source": [
    "train.corr()[((train.corr() < -0.85) | (train.corr() > 0.85)) & (train.corr() != 1)]"
   ]
  },
  {
   "cell_type": "code",
   "execution_count": 55,
   "metadata": {
    "collapsed": true
   },
   "outputs": [],
   "source": [
    "import os\n",
    "mingw_path = 'C:\\\\Program Files\\\\mingw-w64\\\\x86_64-6.3.0-posix-seh-rt_v5-rev1\\\\mingw64\\\\bin'\n",
    "os.environ['PATH'] = mingw_path + ';' + os.environ['PATH']"
   ]
  },
  {
   "cell_type": "code",
   "execution_count": 56,
   "metadata": {
    "collapsed": false
   },
   "outputs": [],
   "source": [
    "from xgboost.sklearn import XGBClassifier"
   ]
  },
  {
   "cell_type": "code",
   "execution_count": 30,
   "metadata": {
    "collapsed": true
   },
   "outputs": [],
   "source": [
    "standardized_X = preprocessing.scale(X)"
   ]
  },
  {
   "cell_type": "code",
   "execution_count": 29,
   "metadata": {
    "collapsed": false
   },
   "outputs": [
    {
     "data": {
      "text/plain": [
       "([mean: 0.96217, std: 0.00926, params: {'max_depth': 3, 'min_child_weight': 1},\n",
       "  mean: 0.96214, std: 0.00931, params: {'max_depth': 3, 'min_child_weight': 3},\n",
       "  mean: 0.96222, std: 0.00922, params: {'max_depth': 3, 'min_child_weight': 5},\n",
       "  mean: 0.96097, std: 0.00986, params: {'max_depth': 5, 'min_child_weight': 1},\n",
       "  mean: 0.96084, std: 0.00956, params: {'max_depth': 5, 'min_child_weight': 3},\n",
       "  mean: 0.96082, std: 0.00946, params: {'max_depth': 5, 'min_child_weight': 5},\n",
       "  mean: 0.96019, std: 0.00858, params: {'max_depth': 7, 'min_child_weight': 1},\n",
       "  mean: 0.96056, std: 0.00915, params: {'max_depth': 7, 'min_child_weight': 3},\n",
       "  mean: 0.96053, std: 0.00922, params: {'max_depth': 7, 'min_child_weight': 5},\n",
       "  mean: 0.95874, std: 0.00849, params: {'max_depth': 9, 'min_child_weight': 1},\n",
       "  mean: 0.95905, std: 0.00878, params: {'max_depth': 9, 'min_child_weight': 3},\n",
       "  mean: 0.95972, std: 0.00906, params: {'max_depth': 9, 'min_child_weight': 5}],\n",
       " {'max_depth': 3, 'min_child_weight': 5},\n",
       " 0.96221838768333223)"
      ]
     },
     "execution_count": 29,
     "metadata": {},
     "output_type": "execute_result"
    }
   ],
   "source": [
    "param_test = {\n",
    " 'max_depth':[3,5,7,9],\n",
    " 'min_child_weight':[1,3,5]\n",
    "}\n",
    "gsearch = GridSearchCV(estimator = XGBClassifier( learning_rate =0.1, n_estimators=100, max_depth=5,\n",
    "min_child_weight=1, gamma=0, subsample=0.8, colsample_bytree=0.8,\n",
    "objective= 'multi:softprob', nthread=4, scale_pos_weight=1, seed=27), \n",
    "param_grid = param_test,n_jobs=4,iid=False, cv=10)\n",
    "gsearch.fit(X,y)\n",
    "gsearch.grid_scores_, gsearch.best_params_, gsearch.best_score_"
   ]
  },
  {
   "cell_type": "code",
   "execution_count": 30,
   "metadata": {
    "collapsed": false
   },
   "outputs": [
    {
     "data": {
      "text/plain": [
       "([mean: 0.96217, std: 0.00940, params: {'max_depth': 3, 'min_child_weight': 4},\n",
       "  mean: 0.96222, std: 0.00922, params: {'max_depth': 3, 'min_child_weight': 5},\n",
       "  mean: 0.96193, std: 0.00934, params: {'max_depth': 3, 'min_child_weight': 6},\n",
       "  mean: 0.96159, std: 0.01004, params: {'max_depth': 4, 'min_child_weight': 4},\n",
       "  mean: 0.96175, std: 0.00985, params: {'max_depth': 4, 'min_child_weight': 5},\n",
       "  mean: 0.96165, std: 0.00978, params: {'max_depth': 4, 'min_child_weight': 6}],\n",
       " {'max_depth': 3, 'min_child_weight': 5},\n",
       " 0.96221838768333223)"
      ]
     },
     "execution_count": 30,
     "metadata": {},
     "output_type": "execute_result"
    }
   ],
   "source": [
    "param_test = {\n",
    " 'max_depth':[3,4],\n",
    " 'min_child_weight':[4,5,6]\n",
    "}\n",
    "gsearch = GridSearchCV(estimator = XGBClassifier( learning_rate =0.1, n_estimators=100, max_depth=5,\n",
    "min_child_weight=1, gamma=0, subsample=0.8, colsample_bytree=0.8,\n",
    "objective= 'multi:softprob', nthread=4, scale_pos_weight=1, seed=27), \n",
    "param_grid = param_test,n_jobs=4,iid=False, cv=10)\n",
    "gsearch.fit(X,y)\n",
    "gsearch.grid_scores_, gsearch.best_params_, gsearch.best_score_"
   ]
  },
  {
   "cell_type": "code",
   "execution_count": 31,
   "metadata": {
    "collapsed": false
   },
   "outputs": [
    {
     "data": {
      "text/plain": [
       "([mean: 0.96222, std: 0.00922, params: {'gamma': 0.0},\n",
       "  mean: 0.96206, std: 0.00926, params: {'gamma': 0.01},\n",
       "  mean: 0.96211, std: 0.00927, params: {'gamma': 0.02},\n",
       "  mean: 0.96217, std: 0.00937, params: {'gamma': 0.03},\n",
       "  mean: 0.96219, std: 0.00930, params: {'gamma': 0.04},\n",
       "  mean: 0.96214, std: 0.00930, params: {'gamma': 0.05},\n",
       "  mean: 0.96217, std: 0.00931, params: {'gamma': 0.06},\n",
       "  mean: 0.96209, std: 0.00929, params: {'gamma': 0.07},\n",
       "  mean: 0.96201, std: 0.00934, params: {'gamma': 0.08}],\n",
       " {'gamma': 0.0},\n",
       " 0.96221838768333223)"
      ]
     },
     "execution_count": 31,
     "metadata": {},
     "output_type": "execute_result"
    }
   ],
   "source": [
    "param_test = {\n",
    " 'gamma':[i/100.0 for i in range(0,9)]\n",
    "}\n",
    "gsearch = GridSearchCV(estimator = XGBClassifier( learning_rate =0.1, n_estimators=100, max_depth=3,\n",
    "min_child_weight=5, gamma=0, subsample=0.8, colsample_bytree=0.8,\n",
    "objective= 'multi:softprob', nthread=4, scale_pos_weight=1, seed=27), \n",
    "param_grid = param_test,n_jobs=4,iid=False, cv=10)\n",
    "gsearch.fit(X,y)\n",
    "gsearch.grid_scores_, gsearch.best_params_, gsearch.best_score_"
   ]
  },
  {
   "cell_type": "code",
   "execution_count": 33,
   "metadata": {
    "collapsed": false
   },
   "outputs": [
    {
     "data": {
      "text/plain": [
       "([mean: 0.96204, std: 0.00943, params: {'subsample': 0.6, 'colsample_bytree': 0.6},\n",
       "  mean: 0.96180, std: 0.00949, params: {'subsample': 0.7, 'colsample_bytree': 0.6},\n",
       "  mean: 0.96217, std: 0.00952, params: {'subsample': 0.8, 'colsample_bytree': 0.6},\n",
       "  mean: 0.96209, std: 0.00977, params: {'subsample': 0.9, 'colsample_bytree': 0.6},\n",
       "  mean: 0.96204, std: 0.00943, params: {'subsample': 0.6, 'colsample_bytree': 0.7},\n",
       "  mean: 0.96180, std: 0.00949, params: {'subsample': 0.7, 'colsample_bytree': 0.7},\n",
       "  mean: 0.96217, std: 0.00952, params: {'subsample': 0.8, 'colsample_bytree': 0.7},\n",
       "  mean: 0.96209, std: 0.00977, params: {'subsample': 0.9, 'colsample_bytree': 0.7},\n",
       "  mean: 0.96224, std: 0.00976, params: {'subsample': 0.6, 'colsample_bytree': 0.8},\n",
       "  mean: 0.96175, std: 0.00929, params: {'subsample': 0.7, 'colsample_bytree': 0.8},\n",
       "  mean: 0.96222, std: 0.00922, params: {'subsample': 0.8, 'colsample_bytree': 0.8},\n",
       "  mean: 0.96206, std: 0.00947, params: {'subsample': 0.9, 'colsample_bytree': 0.8},\n",
       "  mean: 0.96224, std: 0.00976, params: {'subsample': 0.6, 'colsample_bytree': 0.9},\n",
       "  mean: 0.96175, std: 0.00929, params: {'subsample': 0.7, 'colsample_bytree': 0.9},\n",
       "  mean: 0.96222, std: 0.00922, params: {'subsample': 0.8, 'colsample_bytree': 0.9},\n",
       "  mean: 0.96206, std: 0.00947, params: {'subsample': 0.9, 'colsample_bytree': 0.9}],\n",
       " {'colsample_bytree': 0.8, 'subsample': 0.6},\n",
       " 0.9622444157199016)"
      ]
     },
     "execution_count": 33,
     "metadata": {},
     "output_type": "execute_result"
    }
   ],
   "source": [
    "param_test = {\n",
    " 'subsample':[i/10.0 for i in range(6,10)],\n",
    " 'colsample_bytree':[i/10.0 for i in range(6,10)]\n",
    "}\n",
    "gsearch = GridSearchCV(estimator = XGBClassifier( learning_rate =0.1, n_estimators=100, max_depth=3,\n",
    "min_child_weight=5, gamma=0, subsample=0.8, colsample_bytree=0.8,\n",
    "objective= 'multi:softprob', nthread=4, scale_pos_weight=1, seed=27), \n",
    "param_grid = param_test,n_jobs=4,iid=False, cv=10)\n",
    "gsearch.fit(X,y)\n",
    "gsearch.grid_scores_, gsearch.best_params_, gsearch.best_score_"
   ]
  },
  {
   "cell_type": "code",
   "execution_count": 34,
   "metadata": {
    "collapsed": false
   },
   "outputs": [
    {
     "data": {
      "text/plain": [
       "([mean: 0.96230, std: 0.00946, params: {'subsample': 0.55, 'colsample_bytree': 0.75},\n",
       "  mean: 0.96204, std: 0.00943, params: {'subsample': 0.6, 'colsample_bytree': 0.75},\n",
       "  mean: 0.96172, std: 0.00944, params: {'subsample': 0.65, 'colsample_bytree': 0.75},\n",
       "  mean: 0.96196, std: 0.00946, params: {'subsample': 0.55, 'colsample_bytree': 0.8},\n",
       "  mean: 0.96224, std: 0.00976, params: {'subsample': 0.6, 'colsample_bytree': 0.8},\n",
       "  mean: 0.96211, std: 0.00944, params: {'subsample': 0.65, 'colsample_bytree': 0.8},\n",
       "  mean: 0.96196, std: 0.00946, params: {'subsample': 0.55, 'colsample_bytree': 0.85},\n",
       "  mean: 0.96224, std: 0.00976, params: {'subsample': 0.6, 'colsample_bytree': 0.85},\n",
       "  mean: 0.96211, std: 0.00944, params: {'subsample': 0.65, 'colsample_bytree': 0.85}],\n",
       " {'colsample_bytree': 0.75, 'subsample': 0.55},\n",
       " 0.9622963772858929)"
      ]
     },
     "execution_count": 34,
     "metadata": {},
     "output_type": "execute_result"
    }
   ],
   "source": [
    "param_test = {\n",
    " 'subsample':[0.55,0.6,0.65],\n",
    " 'colsample_bytree':[0.75,0.8,0.85]\n",
    "}\n",
    "gsearch = GridSearchCV(estimator = XGBClassifier( learning_rate =0.1, n_estimators=100, max_depth=3,\n",
    "min_child_weight=5, gamma=0, subsample=0.8, colsample_bytree=0.8,\n",
    "objective= 'multi:softprob', nthread=4, scale_pos_weight=1, seed=27), \n",
    "param_grid = param_test,n_jobs=4,iid=False, cv=10)\n",
    "gsearch.fit(X,y)\n",
    "gsearch.grid_scores_, gsearch.best_params_, gsearch.best_score_"
   ]
  },
  {
   "cell_type": "code",
   "execution_count": 35,
   "metadata": {
    "collapsed": false
   },
   "outputs": [
    {
     "data": {
      "text/plain": [
       "([mean: 0.96230, std: 0.00946, params: {'reg_alpha': 1e-05},\n",
       "  mean: 0.96227, std: 0.00952, params: {'reg_alpha': 0.01},\n",
       "  mean: 0.96230, std: 0.00943, params: {'reg_alpha': 0.1},\n",
       "  mean: 0.96204, std: 0.00961, params: {'reg_alpha': 1},\n",
       "  mean: 0.95775, std: 0.00715, params: {'reg_alpha': 100}],\n",
       " {'reg_alpha': 0.1},\n",
       " 0.96229643127894293)"
      ]
     },
     "execution_count": 35,
     "metadata": {},
     "output_type": "execute_result"
    }
   ],
   "source": [
    "param_test = {\n",
    " 'reg_alpha':[1e-5, 1e-2, 0.1, 1, 100]\n",
    "}\n",
    "gsearch = GridSearchCV(estimator = XGBClassifier( learning_rate =0.1, n_estimators=100, max_depth=3,\n",
    "min_child_weight=5, gamma=0, subsample=0.55, colsample_bytree=0.75,\n",
    "objective= 'multi:softprob', nthread=4, scale_pos_weight=1, seed=27), \n",
    "param_grid = param_test,n_jobs=4,iid=False, cv=10)\n",
    "gsearch.fit(X,y)\n",
    "gsearch.grid_scores_, gsearch.best_params_, gsearch.best_score_"
   ]
  },
  {
   "cell_type": "code",
   "execution_count": 36,
   "metadata": {
    "collapsed": false
   },
   "outputs": [
    {
     "data": {
      "text/plain": [
       "([mean: 0.96227, std: 0.00952, params: {'reg_alpha': 0.01},\n",
       "  mean: 0.96230, std: 0.00946, params: {'reg_alpha': 0.0},\n",
       "  mean: 0.96230, std: 0.00943, params: {'reg_alpha': 0.1},\n",
       "  mean: 0.96224, std: 0.00957, params: {'reg_alpha': 0.15},\n",
       "  mean: 0.96214, std: 0.00949, params: {'reg_alpha': 0.2}],\n",
       " {'reg_alpha': 0.1},\n",
       " 0.96229643127894293)"
      ]
     },
     "execution_count": 36,
     "metadata": {},
     "output_type": "execute_result"
    }
   ],
   "source": [
    "param_test = {\n",
    " 'reg_alpha':[0.01,0.0,0.1,0.15,0.2]\n",
    "}\n",
    "gsearch = GridSearchCV(estimator = XGBClassifier( learning_rate =0.1, n_estimators=100, max_depth=3,\n",
    "min_child_weight=5, gamma=0, subsample=0.55, colsample_bytree=0.75,\n",
    "objective= 'multi:softprob', nthread=4, scale_pos_weight=1, seed=27), \n",
    "param_grid = param_test,n_jobs=4,iid=False, cv=10)\n",
    "gsearch.fit(X,y)\n",
    "gsearch.grid_scores_, gsearch.best_params_, gsearch.best_score_"
   ]
  },
  {
   "cell_type": "code",
   "execution_count": 34,
   "metadata": {
    "collapsed": false
   },
   "outputs": [],
   "source": [
    "xgb = XGBClassifier( learning_rate =0.01, n_estimators=1000, max_depth=3,\n",
    "min_child_weight=5, gamma=0, subsample=0.55, colsample_bytree=0.75,reg_alpha=0.1,\n",
    "objective= 'multi:softprob', nthread=4, scale_pos_weight=1, seed=27)"
   ]
  },
  {
   "cell_type": "code",
   "execution_count": 32,
   "metadata": {
    "collapsed": false
   },
   "outputs": [
    {
     "data": {
      "text/plain": [
       "array([[ 0.45866277,  0.63309114,  0.52533145, -0.89550032],\n",
       "       [ 0.45866277,  0.71468949,  0.83497637, -0.64740205],\n",
       "       [-1.25492199, -1.090674  ,  0.25992151,  0.21139963],\n",
       "       ..., \n",
       "       [ 0.45866277,  0.66369052,  0.34839149, -1.01000721],\n",
       "       [ 0.45866277,  0.87788619,  0.08298155, -0.0748676 ],\n",
       "       [-1.25492199, -0.99887586,  0.52533145,  0.82210304]])"
      ]
     },
     "execution_count": 32,
     "metadata": {},
     "output_type": "execute_result"
    }
   ],
   "source": [
    "standardized_X"
   ]
  },
  {
   "cell_type": "code",
   "execution_count": 40,
   "metadata": {
    "collapsed": true
   },
   "outputs": [],
   "source": [
    "standardized_Y = preprocessing.scale(test[features])"
   ]
  },
  {
   "cell_type": "code",
   "execution_count": 60,
   "metadata": {
    "collapsed": false
   },
   "outputs": [
    {
     "data": {
      "text/plain": [
       "XGBClassifier(base_score=0.5, booster='gbtree', colsample_bylevel=1,\n",
       "       colsample_bytree=0.75, gamma=0, learning_rate=0.01,\n",
       "       max_delta_step=0, max_depth=3, min_child_weight=5, missing=None,\n",
       "       n_estimators=1000, nthread=4, objective='multi:softprob',\n",
       "       reg_alpha=0.1, reg_lambda=1, scale_pos_weight=1, seed=27,\n",
       "       silent=True, subsample=0.55)"
      ]
     },
     "execution_count": 60,
     "metadata": {},
     "output_type": "execute_result"
    }
   ],
   "source": [
    "xgb.fit(X,y)"
   ]
  },
  {
   "cell_type": "code",
   "execution_count": 61,
   "metadata": {
    "collapsed": false
   },
   "outputs": [],
   "source": [
    "probxgb = xgb.predict_proba(test[features])"
   ]
  },
  {
   "cell_type": "code",
   "execution_count": 42,
   "metadata": {
    "collapsed": false
   },
   "outputs": [
    {
     "data": {
      "text/plain": [
       "array([[  9.95012939e-01,   3.39243852e-04,   1.53041072e-03,\n",
       "          3.11740092e-03],\n",
       "       [  9.96909559e-01,   1.34016806e-03,   3.11769138e-04,\n",
       "          1.43846520e-03],\n",
       "       [  9.95700240e-01,   2.78403808e-04,   1.27328548e-03,\n",
       "          2.74812966e-03],\n",
       "       ..., \n",
       "       [  2.93234363e-03,   1.58470066e-03,   9.94782507e-01,\n",
       "          7.00433040e-04],\n",
       "       [  7.39154359e-03,   5.61395474e-03,   9.86346900e-01,\n",
       "          6.47647481e-04],\n",
       "       [  2.36084731e-03,   2.23386497e-03,   9.94495332e-01,\n",
       "          9.09965136e-04]], dtype=float32)"
      ]
     },
     "execution_count": 42,
     "metadata": {},
     "output_type": "execute_result"
    }
   ],
   "source": [
    "probxgb"
   ]
  },
  {
   "cell_type": "code",
   "execution_count": 62,
   "metadata": {
    "collapsed": false
   },
   "outputs": [
    {
     "data": {
      "text/plain": [
       "array([ 0.44866845,  0.30054709,  0.25078446], dtype=float32)"
      ]
     },
     "execution_count": 62,
     "metadata": {},
     "output_type": "execute_result"
    }
   ],
   "source": [
    "xgb.feature_importances_"
   ]
  },
  {
   "cell_type": "code",
   "execution_count": 64,
   "metadata": {
    "collapsed": false
   },
   "outputs": [
    {
     "data": {
      "text/html": [
       "<div>\n",
       "<table border=\"1\" class=\"dataframe\">\n",
       "  <thead>\n",
       "    <tr style=\"text-align: right;\">\n",
       "      <th></th>\n",
       "      <th>Front</th>\n",
       "      <th>Left</th>\n",
       "      <th>Rear</th>\n",
       "      <th>Right</th>\n",
       "    </tr>\n",
       "    <tr>\n",
       "      <th>Id</th>\n",
       "      <th></th>\n",
       "      <th></th>\n",
       "      <th></th>\n",
       "      <th></th>\n",
       "    </tr>\n",
       "  </thead>\n",
       "  <tbody>\n",
       "    <tr>\n",
       "      <th>2c9180975a056a64015a1e10d3f270fe</th>\n",
       "      <td>0.994498</td>\n",
       "      <td>0.000473</td>\n",
       "      <td>0.001917</td>\n",
       "      <td>0.003113</td>\n",
       "    </tr>\n",
       "    <tr>\n",
       "      <th>2c9180975a056a64015a1de4deb16bdc</th>\n",
       "      <td>0.996068</td>\n",
       "      <td>0.001363</td>\n",
       "      <td>0.001161</td>\n",
       "      <td>0.001408</td>\n",
       "    </tr>\n",
       "    <tr>\n",
       "      <th>2c9180975a056a64015a1e0e70ea70ce</th>\n",
       "      <td>0.995515</td>\n",
       "      <td>0.000395</td>\n",
       "      <td>0.000989</td>\n",
       "      <td>0.003101</td>\n",
       "    </tr>\n",
       "    <tr>\n",
       "      <th>2c9180975a056a64015a1dfed0c46ec6</th>\n",
       "      <td>0.992971</td>\n",
       "      <td>0.000482</td>\n",
       "      <td>0.002247</td>\n",
       "      <td>0.004300</td>\n",
       "    </tr>\n",
       "    <tr>\n",
       "      <th>2c9180975a056a64015a1dfed0c46ec7</th>\n",
       "      <td>0.997221</td>\n",
       "      <td>0.000595</td>\n",
       "      <td>0.000905</td>\n",
       "      <td>0.001279</td>\n",
       "    </tr>\n",
       "  </tbody>\n",
       "</table>\n",
       "</div>"
      ],
      "text/plain": [
       "                                     Front      Left      Rear     Right\n",
       "Id                                                                      \n",
       "2c9180975a056a64015a1e10d3f270fe  0.994498  0.000473  0.001917  0.003113\n",
       "2c9180975a056a64015a1de4deb16bdc  0.996068  0.001363  0.001161  0.001408\n",
       "2c9180975a056a64015a1e0e70ea70ce  0.995515  0.000395  0.000989  0.003101\n",
       "2c9180975a056a64015a1dfed0c46ec6  0.992971  0.000482  0.002247  0.004300\n",
       "2c9180975a056a64015a1dfed0c46ec7  0.997221  0.000595  0.000905  0.001279"
      ]
     },
     "execution_count": 64,
     "metadata": {},
     "output_type": "execute_result"
    }
   ],
   "source": [
    "submission = pd.DataFrame(data=probxgb,index = test.Id,columns=['Front','Left','Rear','Right'])\n",
    "submission.to_csv('general.csv')\n",
    "submission.head()"
   ]
  },
  {
   "cell_type": "code",
   "execution_count": 54,
   "metadata": {
    "collapsed": false
   },
   "outputs": [
    {
     "data": {
      "text/plain": [
       "array([ 0.04918882,  0.3715913 ,  0.29470143,  0.28451848], dtype=float32)"
      ]
     },
     "execution_count": 54,
     "metadata": {},
     "output_type": "execute_result"
    }
   ],
   "source": [
    "xgb.feature_importances_"
   ]
  },
  {
   "cell_type": "code",
   "execution_count": 23,
   "metadata": {
    "collapsed": true
   },
   "outputs": [],
   "source": [
    "from sklearn.neighbors import KNeighborsClassifier"
   ]
  },
  {
   "cell_type": "code",
   "execution_count": 29,
   "metadata": {
    "collapsed": false
   },
   "outputs": [
    {
     "data": {
      "text/plain": [
       "({'n_neighbors': 28}, 0.95465674601119999)"
      ]
     },
     "execution_count": 29,
     "metadata": {},
     "output_type": "execute_result"
    }
   ],
   "source": [
    "param_test={\n",
    "    'n_neighbors':list(range(1,30,1))\n",
    "}\n",
    "gsearch = GridSearchCV(estimator=KNeighborsClassifier(n_neighbors=5, weights='uniform', leaf_size=30, p=2,n_jobs=-1),\n",
    "                      param_grid = param_test,n_jobs=4,iid=False, cv=10)\n",
    "gsearch.fit(X,y)\n",
    "gsearch.best_params_, gsearch.best_score_"
   ]
  },
  {
   "cell_type": "code",
   "execution_count": 30,
   "metadata": {
    "collapsed": false
   },
   "outputs": [
    {
     "data": {
      "text/plain": [
       "({'weights': 'uniform'}, 0.95465674601119999)"
      ]
     },
     "execution_count": 30,
     "metadata": {},
     "output_type": "execute_result"
    }
   ],
   "source": [
    "param_test={\n",
    "    'weights':['uniform','distance']\n",
    "}\n",
    "gsearch = GridSearchCV(estimator=KNeighborsClassifier(n_neighbors=28, weights='uniform', leaf_size=30, p=2,n_jobs=-1),\n",
    "                      param_grid = param_test,n_jobs=4,iid=False, cv=10)\n",
    "gsearch.fit(X,y)\n",
    "gsearch.best_params_, gsearch.best_score_"
   ]
  },
  {
   "cell_type": "code",
   "execution_count": 31,
   "metadata": {
    "collapsed": false
   },
   "outputs": [
    {
     "data": {
      "text/plain": [
       "({'leaf_size': 20}, 0.95465674601119999)"
      ]
     },
     "execution_count": 31,
     "metadata": {},
     "output_type": "execute_result"
    }
   ],
   "source": [
    "param_test={\n",
    "    'leaf_size':[10,20,30,40,50,60]\n",
    "}\n",
    "gsearch = GridSearchCV(estimator=KNeighborsClassifier(n_neighbors=28, weights='uniform', leaf_size=30, p=2,n_jobs=-1),\n",
    "                      param_grid = param_test,n_jobs=4,iid=False, cv=10)\n",
    "gsearch.fit(X,y)\n",
    "gsearch.best_params_, gsearch.best_score_"
   ]
  },
  {
   "cell_type": "code",
   "execution_count": 32,
   "metadata": {
    "collapsed": false
   },
   "outputs": [
    {
     "data": {
      "text/plain": [
       "({'p': 1}, 0.95520228838915267)"
      ]
     },
     "execution_count": 32,
     "metadata": {},
     "output_type": "execute_result"
    }
   ],
   "source": [
    "param_test={\n",
    "    'p':[1,2]\n",
    "}\n",
    "gsearch = GridSearchCV(estimator=KNeighborsClassifier(n_neighbors=28, weights='uniform', leaf_size=20, p=2,n_jobs=-1),\n",
    "                      param_grid = param_test,n_jobs=4,iid=False, cv=10)\n",
    "gsearch.fit(X,y)\n",
    "gsearch.best_params_, gsearch.best_score_"
   ]
  },
  {
   "cell_type": "code",
   "execution_count": 33,
   "metadata": {
    "collapsed": true
   },
   "outputs": [],
   "source": [
    "knn = KNeighborsClassifier(n_neighbors=28, weights='uniform', leaf_size=20, p=1,n_jobs=-1)"
   ]
  },
  {
   "cell_type": "code",
   "execution_count": 34,
   "metadata": {
    "collapsed": false
   },
   "outputs": [
    {
     "data": {
      "text/plain": [
       "KNeighborsClassifier(algorithm='auto', leaf_size=20, metric='minkowski',\n",
       "           metric_params=None, n_jobs=-1, n_neighbors=28, p=1,\n",
       "           weights='uniform')"
      ]
     },
     "execution_count": 34,
     "metadata": {},
     "output_type": "execute_result"
    }
   ],
   "source": [
    "knn.fit(X,y)"
   ]
  },
  {
   "cell_type": "code",
   "execution_count": 39,
   "metadata": {
    "collapsed": false
   },
   "outputs": [],
   "source": [
    "predknn = knn.predict_proba(test[features])"
   ]
  },
  {
   "cell_type": "code",
   "execution_count": 40,
   "metadata": {
    "collapsed": false
   },
   "outputs": [
    {
     "data": {
      "text/plain": [
       "array([[ 1.,  0.,  0.,  0.],\n",
       "       [ 1.,  0.,  0.,  0.],\n",
       "       [ 1.,  0.,  0.,  0.],\n",
       "       ..., \n",
       "       [ 0.,  0.,  1.,  0.],\n",
       "       [ 0.,  0.,  1.,  0.],\n",
       "       [ 0.,  0.,  1.,  0.]])"
      ]
     },
     "execution_count": 40,
     "metadata": {},
     "output_type": "execute_result"
    }
   ],
   "source": [
    "predknn"
   ]
  },
  {
   "cell_type": "code",
   "execution_count": 42,
   "metadata": {
    "collapsed": false
   },
   "outputs": [
    {
     "data": {
      "text/html": [
       "<div>\n",
       "<table border=\"1\" class=\"dataframe\">\n",
       "  <thead>\n",
       "    <tr style=\"text-align: right;\">\n",
       "      <th></th>\n",
       "      <th>Front</th>\n",
       "      <th>Left</th>\n",
       "      <th>Rear</th>\n",
       "      <th>Right</th>\n",
       "    </tr>\n",
       "    <tr>\n",
       "      <th>Id</th>\n",
       "      <th></th>\n",
       "      <th></th>\n",
       "      <th></th>\n",
       "      <th></th>\n",
       "    </tr>\n",
       "  </thead>\n",
       "  <tbody>\n",
       "    <tr>\n",
       "      <th>2c9180975a056a64015a1e10d3f270fe</th>\n",
       "      <td>1.0</td>\n",
       "      <td>0.0</td>\n",
       "      <td>0.0</td>\n",
       "      <td>0.0</td>\n",
       "    </tr>\n",
       "    <tr>\n",
       "      <th>2c9180975a056a64015a1de4deb16bdc</th>\n",
       "      <td>1.0</td>\n",
       "      <td>0.0</td>\n",
       "      <td>0.0</td>\n",
       "      <td>0.0</td>\n",
       "    </tr>\n",
       "    <tr>\n",
       "      <th>2c9180975a056a64015a1e0e70ea70ce</th>\n",
       "      <td>1.0</td>\n",
       "      <td>0.0</td>\n",
       "      <td>0.0</td>\n",
       "      <td>0.0</td>\n",
       "    </tr>\n",
       "    <tr>\n",
       "      <th>2c9180975a056a64015a1dfed0c46ec6</th>\n",
       "      <td>1.0</td>\n",
       "      <td>0.0</td>\n",
       "      <td>0.0</td>\n",
       "      <td>0.0</td>\n",
       "    </tr>\n",
       "    <tr>\n",
       "      <th>2c9180975a056a64015a1dfed0c46ec7</th>\n",
       "      <td>1.0</td>\n",
       "      <td>0.0</td>\n",
       "      <td>0.0</td>\n",
       "      <td>0.0</td>\n",
       "    </tr>\n",
       "  </tbody>\n",
       "</table>\n",
       "</div>"
      ],
      "text/plain": [
       "                                  Front  Left  Rear  Right\n",
       "Id                                                        \n",
       "2c9180975a056a64015a1e10d3f270fe    1.0   0.0   0.0    0.0\n",
       "2c9180975a056a64015a1de4deb16bdc    1.0   0.0   0.0    0.0\n",
       "2c9180975a056a64015a1e0e70ea70ce    1.0   0.0   0.0    0.0\n",
       "2c9180975a056a64015a1dfed0c46ec6    1.0   0.0   0.0    0.0\n",
       "2c9180975a056a64015a1dfed0c46ec7    1.0   0.0   0.0    0.0"
      ]
     },
     "execution_count": 42,
     "metadata": {},
     "output_type": "execute_result"
    }
   ],
   "source": [
    "submission = pd.DataFrame(data=predknn,index = test.Id,columns=['Front','Left','Rear','Right'])\n",
    "submission.to_csv('knn.csv')\n",
    "submission.head()"
   ]
  },
  {
   "cell_type": "code",
   "execution_count": 43,
   "metadata": {
    "collapsed": true
   },
   "outputs": [],
   "source": [
    "from sklearn.ensemble import VotingClassifier"
   ]
  },
  {
   "cell_type": "code",
   "execution_count": 51,
   "metadata": {
    "collapsed": true
   },
   "outputs": [],
   "source": [
    "clf1 = rf\n",
    "clf2 = xgb\n",
    "clf3 = knn"
   ]
  },
  {
   "cell_type": "code",
   "execution_count": 57,
   "metadata": {
    "collapsed": false
   },
   "outputs": [],
   "source": [
    "eclf = VotingClassifier(estimators=[('rf', clf1), ('xgb', clf2)], voting='soft')"
   ]
  },
  {
   "cell_type": "code",
   "execution_count": 58,
   "metadata": {
    "collapsed": false
   },
   "outputs": [
    {
     "data": {
      "text/plain": [
       "VotingClassifier(estimators=[('rf', RandomForestClassifier(bootstrap=True, class_weight=None, criterion='gini',\n",
       "            max_depth=10, max_features='auto', max_leaf_nodes=None,\n",
       "            min_samples_leaf=1, min_samples_split=50,\n",
       "            min_weight_fraction_leaf=0.0, n_estimators=400, n_jobs=-1,\n",
       "            ...ob', reg_alpha=0.1, reg_lambda=1,\n",
       "       scale_pos_weight=1, seed=27, silent=True, subsample=0.55))],\n",
       "         voting='soft', weights=None)"
      ]
     },
     "execution_count": 58,
     "metadata": {},
     "output_type": "execute_result"
    }
   ],
   "source": [
    "eclf.fit(X,y)"
   ]
  },
  {
   "cell_type": "code",
   "execution_count": 59,
   "metadata": {
    "collapsed": true
   },
   "outputs": [],
   "source": [
    "predeclf = eclf.predict_proba(test[features])"
   ]
  },
  {
   "cell_type": "code",
   "execution_count": 60,
   "metadata": {
    "collapsed": false
   },
   "outputs": [
    {
     "data": {
      "text/html": [
       "<div>\n",
       "<table border=\"1\" class=\"dataframe\">\n",
       "  <thead>\n",
       "    <tr style=\"text-align: right;\">\n",
       "      <th></th>\n",
       "      <th>Front</th>\n",
       "      <th>Left</th>\n",
       "      <th>Rear</th>\n",
       "      <th>Right</th>\n",
       "    </tr>\n",
       "    <tr>\n",
       "      <th>Id</th>\n",
       "      <th></th>\n",
       "      <th></th>\n",
       "      <th></th>\n",
       "      <th></th>\n",
       "    </tr>\n",
       "  </thead>\n",
       "  <tbody>\n",
       "    <tr>\n",
       "      <th>2c9180975a056a64015a1e10d3f270fe</th>\n",
       "      <td>0.997947</td>\n",
       "      <td>0.000052</td>\n",
       "      <td>0.001042</td>\n",
       "      <td>0.000958</td>\n",
       "    </tr>\n",
       "    <tr>\n",
       "      <th>2c9180975a056a64015a1de4deb16bdc</th>\n",
       "      <td>0.998773</td>\n",
       "      <td>0.000440</td>\n",
       "      <td>0.000070</td>\n",
       "      <td>0.000717</td>\n",
       "    </tr>\n",
       "    <tr>\n",
       "      <th>2c9180975a056a64015a1e0e70ea70ce</th>\n",
       "      <td>0.998218</td>\n",
       "      <td>0.000058</td>\n",
       "      <td>0.001068</td>\n",
       "      <td>0.000656</td>\n",
       "    </tr>\n",
       "    <tr>\n",
       "      <th>2c9180975a056a64015a1dfed0c46ec6</th>\n",
       "      <td>0.998304</td>\n",
       "      <td>0.000054</td>\n",
       "      <td>0.000894</td>\n",
       "      <td>0.000748</td>\n",
       "    </tr>\n",
       "    <tr>\n",
       "      <th>2c9180975a056a64015a1dfed0c46ec7</th>\n",
       "      <td>0.998821</td>\n",
       "      <td>0.000529</td>\n",
       "      <td>0.000103</td>\n",
       "      <td>0.000547</td>\n",
       "    </tr>\n",
       "  </tbody>\n",
       "</table>\n",
       "</div>"
      ],
      "text/plain": [
       "                                     Front      Left      Rear     Right\n",
       "Id                                                                      \n",
       "2c9180975a056a64015a1e10d3f270fe  0.997947  0.000052  0.001042  0.000958\n",
       "2c9180975a056a64015a1de4deb16bdc  0.998773  0.000440  0.000070  0.000717\n",
       "2c9180975a056a64015a1e0e70ea70ce  0.998218  0.000058  0.001068  0.000656\n",
       "2c9180975a056a64015a1dfed0c46ec6  0.998304  0.000054  0.000894  0.000748\n",
       "2c9180975a056a64015a1dfed0c46ec7  0.998821  0.000529  0.000103  0.000547"
      ]
     },
     "execution_count": 60,
     "metadata": {},
     "output_type": "execute_result"
    }
   ],
   "source": [
    "submission = pd.DataFrame(data=predeclf,index = test.Id,columns=['Front','Left','Rear','Right'])\n",
    "submission.to_csv('eclf.csv')\n",
    "submission.head()"
   ]
  },
  {
   "cell_type": "code",
   "execution_count": 26,
   "metadata": {
    "collapsed": false
   },
   "outputs": [
    {
     "data": {
      "text/html": [
       "<div>\n",
       "<table border=\"1\" class=\"dataframe\">\n",
       "  <thead>\n",
       "    <tr style=\"text-align: right;\">\n",
       "      <th></th>\n",
       "      <th>Id</th>\n",
       "      <th>DetectedCamera</th>\n",
       "      <th>AngleOfSign</th>\n",
       "      <th>SignAspectRatio</th>\n",
       "      <th>SignWidth</th>\n",
       "      <th>SignHeight</th>\n",
       "      <th>SignFacing (Target)</th>\n",
       "    </tr>\n",
       "  </thead>\n",
       "  <tbody>\n",
       "    <tr>\n",
       "      <th>0</th>\n",
       "      <td>2c9180975a056a64015a1e0a52e57021</td>\n",
       "      <td>2</td>\n",
       "      <td>195</td>\n",
       "      <td>1.02</td>\n",
       "      <td>46</td>\n",
       "      <td>45</td>\n",
       "      <td>2</td>\n",
       "    </tr>\n",
       "    <tr>\n",
       "      <th>1</th>\n",
       "      <td>2c9180975a056a64015a1e17b32171e4</td>\n",
       "      <td>2</td>\n",
       "      <td>203</td>\n",
       "      <td>1.09</td>\n",
       "      <td>59</td>\n",
       "      <td>54</td>\n",
       "      <td>2</td>\n",
       "    </tr>\n",
       "    <tr>\n",
       "      <th>2</th>\n",
       "      <td>2c9180975a056a64015a1de4deb16bd5</td>\n",
       "      <td>0</td>\n",
       "      <td>26</td>\n",
       "      <td>0.96</td>\n",
       "      <td>104</td>\n",
       "      <td>108</td>\n",
       "      <td>0</td>\n",
       "    </tr>\n",
       "    <tr>\n",
       "      <th>3</th>\n",
       "      <td>2c9180975a056a64015a1de4deb16bdd</td>\n",
       "      <td>2</td>\n",
       "      <td>199</td>\n",
       "      <td>0.81</td>\n",
       "      <td>38</td>\n",
       "      <td>47</td>\n",
       "      <td>2</td>\n",
       "    </tr>\n",
       "    <tr>\n",
       "      <th>4</th>\n",
       "      <td>2c9180975a056a64015a1de4deb16bd6</td>\n",
       "      <td>2</td>\n",
       "      <td>208</td>\n",
       "      <td>0.93</td>\n",
       "      <td>54</td>\n",
       "      <td>58</td>\n",
       "      <td>2</td>\n",
       "    </tr>\n",
       "  </tbody>\n",
       "</table>\n",
       "</div>"
      ],
      "text/plain": [
       "                                 Id  DetectedCamera  AngleOfSign  \\\n",
       "0  2c9180975a056a64015a1e0a52e57021               2          195   \n",
       "1  2c9180975a056a64015a1e17b32171e4               2          203   \n",
       "2  2c9180975a056a64015a1de4deb16bd5               0           26   \n",
       "3  2c9180975a056a64015a1de4deb16bdd               2          199   \n",
       "4  2c9180975a056a64015a1de4deb16bd6               2          208   \n",
       "\n",
       "   SignAspectRatio  SignWidth  SignHeight  SignFacing (Target)  \n",
       "0             1.02         46          45                    2  \n",
       "1             1.09         59          54                    2  \n",
       "2             0.96        104         108                    0  \n",
       "3             0.81         38          47                    2  \n",
       "4             0.93         54          58                    2  "
      ]
     },
     "execution_count": 26,
     "metadata": {},
     "output_type": "execute_result"
    }
   ],
   "source": [
    "train.head()"
   ]
  },
  {
   "cell_type": "code",
   "execution_count": 27,
   "metadata": {
    "collapsed": false
   },
   "outputs": [
    {
     "data": {
      "text/plain": [
       "array([[<matplotlib.axes._subplots.AxesSubplot object at 0x00000222012582E8>,\n",
       "        <matplotlib.axes._subplots.AxesSubplot object at 0x0000022201509E10>],\n",
       "       [<matplotlib.axes._subplots.AxesSubplot object at 0x00000222015799E8>,\n",
       "        <matplotlib.axes._subplots.AxesSubplot object at 0x00000222015C29E8>],\n",
       "       [<matplotlib.axes._subplots.AxesSubplot object at 0x00000222016039B0>,\n",
       "        <matplotlib.axes._subplots.AxesSubplot object at 0x00000222016513C8>]], dtype=object)"
      ]
     },
     "execution_count": 27,
     "metadata": {},
     "output_type": "execute_result"
    },
    {
     "data": {
      "image/png": "[encoded data removed]",
      "text/plain": [
       "<matplotlib.figure.Figure at 0x222012585f8>"
      ]
     },
     "metadata": {},
     "output_type": "display_data"
    }
   ],
   "source": [
    "train.hist()"
   ]
  },
  {
   "cell_type": "code",
   "execution_count": 28,
   "metadata": {
    "collapsed": false
   },
   "outputs": [
    {
     "data": {
      "text/html": [
       "<div>\n",
       "<table border=\"1\" class=\"dataframe\">\n",
       "  <thead>\n",
       "    <tr style=\"text-align: right;\">\n",
       "      <th></th>\n",
       "      <th>DetectedCamera</th>\n",
       "      <th>AngleOfSign</th>\n",
       "      <th>SignAspectRatio</th>\n",
       "      <th>SignWidth</th>\n",
       "      <th>SignHeight</th>\n",
       "      <th>SignFacing (Target)</th>\n",
       "    </tr>\n",
       "  </thead>\n",
       "  <tbody>\n",
       "    <tr>\n",
       "      <th>count</th>\n",
       "      <td>38485.000000</td>\n",
       "      <td>38485.000000</td>\n",
       "      <td>38485.000000</td>\n",
       "      <td>38485.000000</td>\n",
       "      <td>38485.000000</td>\n",
       "      <td>38485.000000</td>\n",
       "    </tr>\n",
       "    <tr>\n",
       "      <th>mean</th>\n",
       "      <td>1.464675</td>\n",
       "      <td>132.930986</td>\n",
       "      <td>0.901241</td>\n",
       "      <td>92.922957</td>\n",
       "      <td>104.993140</td>\n",
       "      <td>0.895466</td>\n",
       "    </tr>\n",
       "    <tr>\n",
       "      <th>std</th>\n",
       "      <td>1.167159</td>\n",
       "      <td>98.042472</td>\n",
       "      <td>0.226068</td>\n",
       "      <td>52.399274</td>\n",
       "      <td>53.347424</td>\n",
       "      <td>1.017624</td>\n",
       "    </tr>\n",
       "    <tr>\n",
       "      <th>min</th>\n",
       "      <td>0.000000</td>\n",
       "      <td>1.000000</td>\n",
       "      <td>0.260000</td>\n",
       "      <td>19.000000</td>\n",
       "      <td>23.000000</td>\n",
       "      <td>0.000000</td>\n",
       "    </tr>\n",
       "    <tr>\n",
       "      <th>25%</th>\n",
       "      <td>0.000000</td>\n",
       "      <td>42.000000</td>\n",
       "      <td>0.770000</td>\n",
       "      <td>54.000000</td>\n",
       "      <td>65.000000</td>\n",
       "      <td>0.000000</td>\n",
       "    </tr>\n",
       "    <tr>\n",
       "      <th>50%</th>\n",
       "      <td>1.000000</td>\n",
       "      <td>80.000000</td>\n",
       "      <td>0.930000</td>\n",
       "      <td>80.000000</td>\n",
       "      <td>96.000000</td>\n",
       "      <td>0.000000</td>\n",
       "    </tr>\n",
       "    <tr>\n",
       "      <th>75%</th>\n",
       "      <td>3.000000</td>\n",
       "      <td>228.000000</td>\n",
       "      <td>1.040000</td>\n",
       "      <td>118.000000</td>\n",
       "      <td>132.000000</td>\n",
       "      <td>2.000000</td>\n",
       "    </tr>\n",
       "    <tr>\n",
       "      <th>max</th>\n",
       "      <td>3.000000</td>\n",
       "      <td>360.000000</td>\n",
       "      <td>2.790000</td>\n",
       "      <td>589.000000</td>\n",
       "      <td>513.000000</td>\n",
       "      <td>3.000000</td>\n",
       "    </tr>\n",
       "  </tbody>\n",
       "</table>\n",
       "</div>"
      ],
      "text/plain": [
       "       DetectedCamera   AngleOfSign  SignAspectRatio     SignWidth  \\\n",
       "count    38485.000000  38485.000000     38485.000000  38485.000000   \n",
       "mean         1.464675    132.930986         0.901241     92.922957   \n",
       "std          1.167159     98.042472         0.226068     52.399274   \n",
       "min          0.000000      1.000000         0.260000     19.000000   \n",
       "25%          0.000000     42.000000         0.770000     54.000000   \n",
       "50%          1.000000     80.000000         0.930000     80.000000   \n",
       "75%          3.000000    228.000000         1.040000    118.000000   \n",
       "max          3.000000    360.000000         2.790000    589.000000   \n",
       "\n",
       "         SignHeight  SignFacing (Target)  \n",
       "count  38485.000000         38485.000000  \n",
       "mean     104.993140             0.895466  \n",
       "std       53.347424             1.017624  \n",
       "min       23.000000             0.000000  \n",
       "25%       65.000000             0.000000  \n",
       "50%       96.000000             0.000000  \n",
       "75%      132.000000             2.000000  \n",
       "max      513.000000             3.000000  "
      ]
     },
     "execution_count": 28,
     "metadata": {},
     "output_type": "execute_result"
    }
   ],
   "source": [
    "train.describe()"
   ]
  },
  {
   "cell_type": "code",
   "execution_count": 24,
   "metadata": {
    "collapsed": true
   },
   "outputs": [],
   "source": [
    "train['ratio'] =train['SignHeight']/train['SignWidth']\n",
    "test['ratio'] = test['SignHeight']/test['SignWidth']"
   ]
  },
  {
   "cell_type": "code",
   "execution_count": 25,
   "metadata": {
    "collapsed": false
   },
   "outputs": [
    {
     "data": {
      "text/html": [
       "<div>\n",
       "<table border=\"1\" class=\"dataframe\">\n",
       "  <thead>\n",
       "    <tr style=\"text-align: right;\">\n",
       "      <th></th>\n",
       "      <th>DetectedCamera</th>\n",
       "      <th>AngleOfSign</th>\n",
       "      <th>SignAspectRatio</th>\n",
       "      <th>SignWidth</th>\n",
       "      <th>SignHeight</th>\n",
       "      <th>SignFacing (Target)</th>\n",
       "      <th>ratio</th>\n",
       "    </tr>\n",
       "  </thead>\n",
       "  <tbody>\n",
       "    <tr>\n",
       "      <th>DetectedCamera</th>\n",
       "      <td>NaN</td>\n",
       "      <td>NaN</td>\n",
       "      <td>NaN</td>\n",
       "      <td>NaN</td>\n",
       "      <td>NaN</td>\n",
       "      <td>NaN</td>\n",
       "      <td>NaN</td>\n",
       "    </tr>\n",
       "    <tr>\n",
       "      <th>AngleOfSign</th>\n",
       "      <td>NaN</td>\n",
       "      <td>NaN</td>\n",
       "      <td>NaN</td>\n",
       "      <td>NaN</td>\n",
       "      <td>NaN</td>\n",
       "      <td>NaN</td>\n",
       "      <td>NaN</td>\n",
       "    </tr>\n",
       "    <tr>\n",
       "      <th>SignAspectRatio</th>\n",
       "      <td>NaN</td>\n",
       "      <td>NaN</td>\n",
       "      <td>NaN</td>\n",
       "      <td>NaN</td>\n",
       "      <td>NaN</td>\n",
       "      <td>NaN</td>\n",
       "      <td>-0.923396</td>\n",
       "    </tr>\n",
       "    <tr>\n",
       "      <th>SignWidth</th>\n",
       "      <td>NaN</td>\n",
       "      <td>NaN</td>\n",
       "      <td>NaN</td>\n",
       "      <td>NaN</td>\n",
       "      <td>0.856428</td>\n",
       "      <td>NaN</td>\n",
       "      <td>NaN</td>\n",
       "    </tr>\n",
       "    <tr>\n",
       "      <th>SignHeight</th>\n",
       "      <td>NaN</td>\n",
       "      <td>NaN</td>\n",
       "      <td>NaN</td>\n",
       "      <td>0.856428</td>\n",
       "      <td>NaN</td>\n",
       "      <td>NaN</td>\n",
       "      <td>NaN</td>\n",
       "    </tr>\n",
       "    <tr>\n",
       "      <th>SignFacing (Target)</th>\n",
       "      <td>NaN</td>\n",
       "      <td>NaN</td>\n",
       "      <td>NaN</td>\n",
       "      <td>NaN</td>\n",
       "      <td>NaN</td>\n",
       "      <td>NaN</td>\n",
       "      <td>NaN</td>\n",
       "    </tr>\n",
       "    <tr>\n",
       "      <th>ratio</th>\n",
       "      <td>NaN</td>\n",
       "      <td>NaN</td>\n",
       "      <td>-0.923396</td>\n",
       "      <td>NaN</td>\n",
       "      <td>NaN</td>\n",
       "      <td>NaN</td>\n",
       "      <td>NaN</td>\n",
       "    </tr>\n",
       "  </tbody>\n",
       "</table>\n",
       "</div>"
      ],
      "text/plain": [
       "                     DetectedCamera  AngleOfSign  SignAspectRatio  SignWidth  \\\n",
       "DetectedCamera                  NaN          NaN              NaN        NaN   \n",
       "AngleOfSign                     NaN          NaN              NaN        NaN   \n",
       "SignAspectRatio                 NaN          NaN              NaN        NaN   \n",
       "SignWidth                       NaN          NaN              NaN        NaN   \n",
       "SignHeight                      NaN          NaN              NaN   0.856428   \n",
       "SignFacing (Target)             NaN          NaN              NaN        NaN   \n",
       "ratio                           NaN          NaN        -0.923396        NaN   \n",
       "\n",
       "                     SignHeight  SignFacing (Target)     ratio  \n",
       "DetectedCamera              NaN                  NaN       NaN  \n",
       "AngleOfSign                 NaN                  NaN       NaN  \n",
       "SignAspectRatio             NaN                  NaN -0.923396  \n",
       "SignWidth              0.856428                  NaN       NaN  \n",
       "SignHeight                  NaN                  NaN       NaN  \n",
       "SignFacing (Target)         NaN                  NaN       NaN  \n",
       "ratio                       NaN                  NaN       NaN  "
      ]
     },
     "execution_count": 25,
     "metadata": {},
     "output_type": "execute_result"
    }
   ],
   "source": [
    "train.corr()[((train.corr() < -0.85) | (train.corr() > 0.85)) & (train.corr() != 1)]"
   ]
  },
  {
   "cell_type": "code",
   "execution_count": 26,
   "metadata": {
    "collapsed": false
   },
   "outputs": [
    {
     "data": {
      "text/html": [
       "<div>\n",
       "<table border=\"1\" class=\"dataframe\">\n",
       "  <thead>\n",
       "    <tr style=\"text-align: right;\">\n",
       "      <th></th>\n",
       "      <th>Id</th>\n",
       "      <th>DetectedCamera</th>\n",
       "      <th>AngleOfSign</th>\n",
       "      <th>SignAspectRatio</th>\n",
       "      <th>SignWidth</th>\n",
       "      <th>SignHeight</th>\n",
       "      <th>SignFacing (Target)</th>\n",
       "      <th>ratio</th>\n",
       "    </tr>\n",
       "  </thead>\n",
       "  <tbody>\n",
       "    <tr>\n",
       "      <th>0</th>\n",
       "      <td>2c9180975a056a64015a1e0a52e57021</td>\n",
       "      <td>2</td>\n",
       "      <td>195</td>\n",
       "      <td>1.02</td>\n",
       "      <td>46</td>\n",
       "      <td>45</td>\n",
       "      <td>2</td>\n",
       "      <td>0.978261</td>\n",
       "    </tr>\n",
       "    <tr>\n",
       "      <th>1</th>\n",
       "      <td>2c9180975a056a64015a1e17b32171e4</td>\n",
       "      <td>2</td>\n",
       "      <td>203</td>\n",
       "      <td>1.09</td>\n",
       "      <td>59</td>\n",
       "      <td>54</td>\n",
       "      <td>2</td>\n",
       "      <td>0.915254</td>\n",
       "    </tr>\n",
       "    <tr>\n",
       "      <th>2</th>\n",
       "      <td>2c9180975a056a64015a1de4deb16bd5</td>\n",
       "      <td>0</td>\n",
       "      <td>26</td>\n",
       "      <td>0.96</td>\n",
       "      <td>104</td>\n",
       "      <td>108</td>\n",
       "      <td>0</td>\n",
       "      <td>1.038462</td>\n",
       "    </tr>\n",
       "    <tr>\n",
       "      <th>3</th>\n",
       "      <td>2c9180975a056a64015a1de4deb16bdd</td>\n",
       "      <td>2</td>\n",
       "      <td>199</td>\n",
       "      <td>0.81</td>\n",
       "      <td>38</td>\n",
       "      <td>47</td>\n",
       "      <td>2</td>\n",
       "      <td>1.236842</td>\n",
       "    </tr>\n",
       "    <tr>\n",
       "      <th>4</th>\n",
       "      <td>2c9180975a056a64015a1de4deb16bd6</td>\n",
       "      <td>2</td>\n",
       "      <td>208</td>\n",
       "      <td>0.93</td>\n",
       "      <td>54</td>\n",
       "      <td>58</td>\n",
       "      <td>2</td>\n",
       "      <td>1.074074</td>\n",
       "    </tr>\n",
       "  </tbody>\n",
       "</table>\n",
       "</div>"
      ],
      "text/plain": [
       "                                 Id  DetectedCamera  AngleOfSign  \\\n",
       "0  2c9180975a056a64015a1e0a52e57021               2          195   \n",
       "1  2c9180975a056a64015a1e17b32171e4               2          203   \n",
       "2  2c9180975a056a64015a1de4deb16bd5               0           26   \n",
       "3  2c9180975a056a64015a1de4deb16bdd               2          199   \n",
       "4  2c9180975a056a64015a1de4deb16bd6               2          208   \n",
       "\n",
       "   SignAspectRatio  SignWidth  SignHeight  SignFacing (Target)     ratio  \n",
       "0             1.02         46          45                    2  0.978261  \n",
       "1             1.09         59          54                    2  0.915254  \n",
       "2             0.96        104         108                    0  1.038462  \n",
       "3             0.81         38          47                    2  1.236842  \n",
       "4             0.93         54          58                    2  1.074074  "
      ]
     },
     "execution_count": 26,
     "metadata": {},
     "output_type": "execute_result"
    }
   ],
   "source": [
    "train.head()"
   ]
  },
  {
   "cell_type": "code",
   "execution_count": 27,
   "metadata": {
    "collapsed": false
   },
   "outputs": [],
   "source": [
    "from sklearn.cross_validation import train_test_split"
   ]
  },
  {
   "cell_type": "code",
   "execution_count": 28,
   "metadata": {
    "collapsed": false
   },
   "outputs": [],
   "source": [
    "X_train, X_test, y_train, y_test = train_test_split(train, train['SignFacing (Target)'], test_size=0.20, random_state=42)"
   ]
  },
  {
   "cell_type": "code",
   "execution_count": 29,
   "metadata": {
    "collapsed": false
   },
   "outputs": [
    {
     "data": {
      "text/html": [
       "<div>\n",
       "<table border=\"1\" class=\"dataframe\">\n",
       "  <thead>\n",
       "    <tr style=\"text-align: right;\">\n",
       "      <th></th>\n",
       "      <th>Id</th>\n",
       "      <th>DetectedCamera</th>\n",
       "      <th>AngleOfSign</th>\n",
       "      <th>SignAspectRatio</th>\n",
       "      <th>SignWidth</th>\n",
       "      <th>SignHeight</th>\n",
       "      <th>SignFacing (Target)</th>\n",
       "      <th>ratio</th>\n",
       "    </tr>\n",
       "  </thead>\n",
       "  <tbody>\n",
       "    <tr>\n",
       "      <th>14617</th>\n",
       "      <td>2c91808656c74c4e0157001b4cf154ea</td>\n",
       "      <td>1</td>\n",
       "      <td>253</td>\n",
       "      <td>0.41</td>\n",
       "      <td>28</td>\n",
       "      <td>69</td>\n",
       "      <td>2</td>\n",
       "      <td>2.464286</td>\n",
       "    </tr>\n",
       "    <tr>\n",
       "      <th>29678</th>\n",
       "      <td>2c9180885a812c3b015ab3d2d04217e4</td>\n",
       "      <td>2</td>\n",
       "      <td>232</td>\n",
       "      <td>1.04</td>\n",
       "      <td>51</td>\n",
       "      <td>49</td>\n",
       "      <td>2</td>\n",
       "      <td>0.960784</td>\n",
       "    </tr>\n",
       "    <tr>\n",
       "      <th>31492</th>\n",
       "      <td>2c91808e5bae20a1015bb715c8fa6677</td>\n",
       "      <td>0</td>\n",
       "      <td>36</td>\n",
       "      <td>0.85</td>\n",
       "      <td>242</td>\n",
       "      <td>286</td>\n",
       "      <td>0</td>\n",
       "      <td>1.181818</td>\n",
       "    </tr>\n",
       "    <tr>\n",
       "      <th>36508</th>\n",
       "      <td>2c9180ac593dcaee01593e4d067a0789</td>\n",
       "      <td>2</td>\n",
       "      <td>212</td>\n",
       "      <td>1.00</td>\n",
       "      <td>37</td>\n",
       "      <td>37</td>\n",
       "      <td>2</td>\n",
       "      <td>1.000000</td>\n",
       "    </tr>\n",
       "    <tr>\n",
       "      <th>18221</th>\n",
       "      <td>2c918086593dca31015962df4b0f6d4a</td>\n",
       "      <td>0</td>\n",
       "      <td>23</td>\n",
       "      <td>1.09</td>\n",
       "      <td>93</td>\n",
       "      <td>85</td>\n",
       "      <td>0</td>\n",
       "      <td>0.913978</td>\n",
       "    </tr>\n",
       "  </tbody>\n",
       "</table>\n",
       "</div>"
      ],
      "text/plain": [
       "                                     Id  DetectedCamera  AngleOfSign  \\\n",
       "14617  2c91808656c74c4e0157001b4cf154ea               1          253   \n",
       "29678  2c9180885a812c3b015ab3d2d04217e4               2          232   \n",
       "31492  2c91808e5bae20a1015bb715c8fa6677               0           36   \n",
       "36508  2c9180ac593dcaee01593e4d067a0789               2          212   \n",
       "18221  2c918086593dca31015962df4b0f6d4a               0           23   \n",
       "\n",
       "       SignAspectRatio  SignWidth  SignHeight  SignFacing (Target)     ratio  \n",
       "14617             0.41         28          69                    2  2.464286  \n",
       "29678             1.04         51          49                    2  0.960784  \n",
       "31492             0.85        242         286                    0  1.181818  \n",
       "36508             1.00         37          37                    2  1.000000  \n",
       "18221             1.09         93          85                    0  0.913978  "
      ]
     },
     "execution_count": 29,
     "metadata": {},
     "output_type": "execute_result"
    }
   ],
   "source": [
    "X_train.head()"
   ]
  },
  {
   "cell_type": "code",
   "execution_count": 30,
   "metadata": {
    "collapsed": false
   },
   "outputs": [
    {
     "data": {
      "text/plain": [
       "14617    2\n",
       "29678    2\n",
       "31492    0\n",
       "36508    2\n",
       "18221    0\n",
       "Name: SignFacing (Target), dtype: int64"
      ]
     },
     "execution_count": 30,
     "metadata": {},
     "output_type": "execute_result"
    }
   ],
   "source": [
    "y_train.head()"
   ]
  },
  {
   "cell_type": "code",
   "execution_count": 31,
   "metadata": {
    "collapsed": false
   },
   "outputs": [
    {
     "data": {
      "text/plain": [
       "{'boxes': [<matplotlib.lines.Line2D at 0x12772ead358>],\n",
       " 'caps': [<matplotlib.lines.Line2D at 0x12772eb5cf8>,\n",
       "  <matplotlib.lines.Line2D at 0x12772eb5e80>],\n",
       " 'fliers': [<matplotlib.lines.Line2D at 0x12772ebaef0>],\n",
       " 'means': [],\n",
       " 'medians': [<matplotlib.lines.Line2D at 0x12772eba6d8>],\n",
       " 'whiskers': [<matplotlib.lines.Line2D at 0x12772eadd68>,\n",
       "  <matplotlib.lines.Line2D at 0x12772eadef0>]}"
      ]
     },
     "execution_count": 31,
     "metadata": {},
     "output_type": "execute_result"
    },
    {
     "data": {
      "image/png": "[encoded data removed]",
      "text/plain": [
       "<matplotlib.figure.Figure at 0x12772e04dd8>"
      ]
     },
     "metadata": {},
     "output_type": "display_data"
    }
   ],
   "source": [
    "X_train.boxplot(column=['SignHeight'],return_type='dict')"
   ]
  },
  {
   "cell_type": "code",
   "execution_count": 32,
   "metadata": {
    "collapsed": false
   },
   "outputs": [
    {
     "data": {
      "text/plain": [
       "30084"
      ]
     },
     "execution_count": 32,
     "metadata": {},
     "output_type": "execute_result"
    }
   ],
   "source": [
    "(X_train['SignHeight']<=240).sum()"
   ]
  },
  {
   "cell_type": "code",
   "execution_count": 70,
   "metadata": {
    "collapsed": true
   },
   "outputs": [],
   "source": [
    "df = X_train"
   ]
  },
  {
   "cell_type": "code",
   "execution_count": 34,
   "metadata": {
    "collapsed": false
   },
   "outputs": [
    {
     "data": {
      "text/plain": [
       "{'boxes': [<matplotlib.lines.Line2D at 0x12772f28668>],\n",
       " 'caps': [<matplotlib.lines.Line2D at 0x12773090ef0>,\n",
       "  <matplotlib.lines.Line2D at 0x12773096860>],\n",
       " 'fliers': [<matplotlib.lines.Line2D at 0x1277309a8d0>],\n",
       " 'means': [],\n",
       " 'medians': [<matplotlib.lines.Line2D at 0x127730969e8>],\n",
       " 'whiskers': [<matplotlib.lines.Line2D at 0x12772f28f98>,\n",
       "  <matplotlib.lines.Line2D at 0x127730907f0>]}"
      ]
     },
     "execution_count": 34,
     "metadata": {},
     "output_type": "execute_result"
    },
    {
     "data": {
      "image/png": "[encoded data removed]",
      "text/plain": [
       "<matplotlib.figure.Figure at 0x12772ecb438>"
      ]
     },
     "metadata": {},
     "output_type": "display_data"
    }
   ],
   "source": [
    "df.boxplot(column=['SignHeight'],return_type='dict')"
   ]
  },
  {
   "cell_type": "code",
   "execution_count": 35,
   "metadata": {
    "collapsed": false
   },
   "outputs": [
    {
     "name": "stderr",
     "output_type": "stream",
     "text": [
      "D:\\anaconda\\lib\\site-packages\\ipykernel\\__main__.py:1: SettingWithCopyWarning: \n",
      "A value is trying to be set on a copy of a slice from a DataFrame.\n",
      "Try using .loc[row_indexer,col_indexer] = value instead\n",
      "\n",
      "See the caveats in the documentation: http://pandas.pydata.org/pandas-docs/stable/indexing.html#indexing-view-versus-copy\n",
      "  if __name__ == '__main__':\n"
     ]
    },
    {
     "data": {
      "text/plain": [
       "14617    average\n",
       "29678        low\n",
       "36508        low\n",
       "18221    average\n",
       "10812        low\n",
       "25686    average\n",
       "22786       high\n",
       "30983        low\n",
       "5787     average\n",
       "22140    average\n",
       "24050       high\n",
       "33813        low\n",
       "30747    average\n",
       "1060         low\n",
       "27372       high\n",
       "6956     average\n",
       "11198       high\n",
       "28150       high\n",
       "22336    average\n",
       "9588     average\n",
       "6662     average\n",
       "9252     average\n",
       "21726        low\n",
       "25504    average\n",
       "28041       high\n",
       "37612    average\n",
       "8760         low\n",
       "18198    average\n",
       "3588     average\n",
       "11661        low\n",
       "          ...   \n",
       "14502       high\n",
       "30740    average\n",
       "3890     average\n",
       "3556        high\n",
       "11394       high\n",
       "31551    average\n",
       "1267         low\n",
       "1899         low\n",
       "35773        low\n",
       "19118    average\n",
       "189         high\n",
       "2747        high\n",
       "18942    average\n",
       "25658    average\n",
       "6396     average\n",
       "19769    average\n",
       "17568       high\n",
       "37819       high\n",
       "5311     average\n",
       "2433        high\n",
       "769          low\n",
       "1685     average\n",
       "16023    average\n",
       "21962       high\n",
       "37194        low\n",
       "16850    average\n",
       "11284    average\n",
       "38158        low\n",
       "860      average\n",
       "15795    average\n",
       "Name: height_bins, dtype: category\n",
       "Categories (3, object): [low < average < high]"
      ]
     },
     "execution_count": 35,
     "metadata": {},
     "output_type": "execute_result"
    }
   ],
   "source": [
    "df['height_bins'] = pd.cut(df.SignHeight,[0,60,125,250],labels=['low','average','high'])\n",
    "df['height_bins']"
   ]
  },
  {
   "cell_type": "code",
   "execution_count": 48,
   "metadata": {
    "collapsed": false
   },
   "outputs": [
    {
     "data": {
      "text/plain": [
       "{'boxes': [<matplotlib.lines.Line2D at 0x12773326cf8>],\n",
       " 'caps': [<matplotlib.lines.Line2D at 0x127733349b0>,\n",
       "  <matplotlib.lines.Line2D at 0x12773334b38>],\n",
       " 'fliers': [<matplotlib.lines.Line2D at 0x1277333aba8>],\n",
       " 'means': [],\n",
       " 'medians': [<matplotlib.lines.Line2D at 0x1277333a390>],\n",
       " 'whiskers': [<matplotlib.lines.Line2D at 0x1277332d940>,\n",
       "  <matplotlib.lines.Line2D at 0x1277332dac8>]}"
      ]
     },
     "execution_count": 48,
     "metadata": {},
     "output_type": "execute_result"
    },
    {
     "data": {
      "image/png": "[encoded data removed]",
      "text/plain": [
       "<matplotlib.figure.Figure at 0x1277357d940>"
      ]
     },
     "metadata": {},
     "output_type": "display_data"
    }
   ],
   "source": [
    "X_test.boxplot(column=['SignHeight'],return_type='dict')"
   ]
  },
  {
   "cell_type": "code",
   "execution_count": 46,
   "metadata": {
    "collapsed": false
   },
   "outputs": [
    {
     "data": {
      "text/plain": [
       "<matplotlib.axes._subplots.AxesSubplot at 0x127733f57f0>"
      ]
     },
     "execution_count": 46,
     "metadata": {},
     "output_type": "execute_result"
    },
    {
     "data": {
      "image/png": "[encoded data removed]",
      "text/plain": [
       "<matplotlib.figure.Figure at 0x1277354bd30>"
      ]
     },
     "metadata": {},
     "output_type": "display_data"
    }
   ],
   "source": [
    "df.groupby('DetectedCamera')['SignFacing (Target)'].sum().plot.bar()"
   ]
  },
  {
   "cell_type": "code",
   "execution_count": 71,
   "metadata": {
    "collapsed": false
   },
   "outputs": [
    {
     "data": {
      "text/html": [
       "<div>\n",
       "<table border=\"1\" class=\"dataframe\">\n",
       "  <thead>\n",
       "    <tr style=\"text-align: right;\">\n",
       "      <th></th>\n",
       "      <th>Id</th>\n",
       "      <th>DetectedCamera</th>\n",
       "      <th>AngleOfSign</th>\n",
       "      <th>SignAspectRatio</th>\n",
       "      <th>SignWidth</th>\n",
       "      <th>SignHeight</th>\n",
       "      <th>SignFacing (Target)</th>\n",
       "      <th>ratio</th>\n",
       "    </tr>\n",
       "  </thead>\n",
       "  <tbody>\n",
       "    <tr>\n",
       "      <th>14617</th>\n",
       "      <td>2c91808656c74c4e0157001b4cf154ea</td>\n",
       "      <td>1</td>\n",
       "      <td>253</td>\n",
       "      <td>0.41</td>\n",
       "      <td>28</td>\n",
       "      <td>69</td>\n",
       "      <td>2</td>\n",
       "      <td>2.464286</td>\n",
       "    </tr>\n",
       "    <tr>\n",
       "      <th>29678</th>\n",
       "      <td>2c9180885a812c3b015ab3d2d04217e4</td>\n",
       "      <td>2</td>\n",
       "      <td>232</td>\n",
       "      <td>1.04</td>\n",
       "      <td>51</td>\n",
       "      <td>49</td>\n",
       "      <td>2</td>\n",
       "      <td>0.960784</td>\n",
       "    </tr>\n",
       "    <tr>\n",
       "      <th>31492</th>\n",
       "      <td>2c91808e5bae20a1015bb715c8fa6677</td>\n",
       "      <td>0</td>\n",
       "      <td>36</td>\n",
       "      <td>0.85</td>\n",
       "      <td>242</td>\n",
       "      <td>286</td>\n",
       "      <td>0</td>\n",
       "      <td>1.181818</td>\n",
       "    </tr>\n",
       "    <tr>\n",
       "      <th>36508</th>\n",
       "      <td>2c9180ac593dcaee01593e4d067a0789</td>\n",
       "      <td>2</td>\n",
       "      <td>212</td>\n",
       "      <td>1.00</td>\n",
       "      <td>37</td>\n",
       "      <td>37</td>\n",
       "      <td>2</td>\n",
       "      <td>1.000000</td>\n",
       "    </tr>\n",
       "    <tr>\n",
       "      <th>18221</th>\n",
       "      <td>2c918086593dca31015962df4b0f6d4a</td>\n",
       "      <td>0</td>\n",
       "      <td>23</td>\n",
       "      <td>1.09</td>\n",
       "      <td>93</td>\n",
       "      <td>85</td>\n",
       "      <td>0</td>\n",
       "      <td>0.913978</td>\n",
       "    </tr>\n",
       "  </tbody>\n",
       "</table>\n",
       "</div>"
      ],
      "text/plain": [
       "                                     Id  DetectedCamera  AngleOfSign  \\\n",
       "14617  2c91808656c74c4e0157001b4cf154ea               1          253   \n",
       "29678  2c9180885a812c3b015ab3d2d04217e4               2          232   \n",
       "31492  2c91808e5bae20a1015bb715c8fa6677               0           36   \n",
       "36508  2c9180ac593dcaee01593e4d067a0789               2          212   \n",
       "18221  2c918086593dca31015962df4b0f6d4a               0           23   \n",
       "\n",
       "       SignAspectRatio  SignWidth  SignHeight  SignFacing (Target)     ratio  \n",
       "14617             0.41         28          69                    2  2.464286  \n",
       "29678             1.04         51          49                    2  0.960784  \n",
       "31492             0.85        242         286                    0  1.181818  \n",
       "36508             1.00         37          37                    2  1.000000  \n",
       "18221             1.09         93          85                    0  0.913978  "
      ]
     },
     "execution_count": 71,
     "metadata": {},
     "output_type": "execute_result"
    }
   ],
   "source": [
    "df.head()"
   ]
  },
  {
   "cell_type": "code",
   "execution_count": 72,
   "metadata": {
    "collapsed": false
   },
   "outputs": [
    {
     "data": {
      "text/plain": [
       "30788"
      ]
     },
     "execution_count": 72,
     "metadata": {},
     "output_type": "execute_result"
    }
   ],
   "source": [
    "len(df)"
   ]
  },
  {
   "cell_type": "code",
   "execution_count": 73,
   "metadata": {
    "collapsed": false
   },
   "outputs": [],
   "source": [
    "xgb = XGBClassifier( learning_rate =0.01, n_estimators=1000, max_depth=3,\n",
    "min_child_weight=5, gamma=0, subsample=0.55, colsample_bytree=0.75,reg_alpha=0.1,\n",
    "objective= 'multi:softprob', nthread=4, scale_pos_weight=1, seed=27)"
   ]
  },
  {
   "cell_type": "code",
   "execution_count": 74,
   "metadata": {
    "collapsed": true
   },
   "outputs": [],
   "source": [
    "features = ['DetectedCamera','AngleOfSign','ratio','SignHeight']"
   ]
  },
  {
   "cell_type": "code",
   "execution_count": 75,
   "metadata": {
    "collapsed": true
   },
   "outputs": [],
   "source": [
    "X = df[features]\n",
    "y = df['SignFacing (Target)']"
   ]
  },
  {
   "cell_type": "code",
   "execution_count": 76,
   "metadata": {
    "collapsed": false
   },
   "outputs": [
    {
     "data": {
      "text/html": [
       "<div>\n",
       "<table border=\"1\" class=\"dataframe\">\n",
       "  <thead>\n",
       "    <tr style=\"text-align: right;\">\n",
       "      <th></th>\n",
       "      <th>Front</th>\n",
       "      <th>Left</th>\n",
       "      <th>Rear</th>\n",
       "      <th>Right</th>\n",
       "    </tr>\n",
       "    <tr>\n",
       "      <th>Id</th>\n",
       "      <th></th>\n",
       "      <th></th>\n",
       "      <th></th>\n",
       "      <th></th>\n",
       "    </tr>\n",
       "  </thead>\n",
       "  <tbody>\n",
       "    <tr>\n",
       "      <th>2c9180975a056a64015a1e10d3f270fe</th>\n",
       "      <td>0.993271</td>\n",
       "      <td>0.000436</td>\n",
       "      <td>0.001943</td>\n",
       "      <td>0.004350</td>\n",
       "    </tr>\n",
       "    <tr>\n",
       "      <th>2c9180975a056a64015a1de4deb16bdc</th>\n",
       "      <td>0.995818</td>\n",
       "      <td>0.002163</td>\n",
       "      <td>0.000362</td>\n",
       "      <td>0.001657</td>\n",
       "    </tr>\n",
       "    <tr>\n",
       "      <th>2c9180975a056a64015a1e0e70ea70ce</th>\n",
       "      <td>0.995786</td>\n",
       "      <td>0.000299</td>\n",
       "      <td>0.001294</td>\n",
       "      <td>0.002621</td>\n",
       "    </tr>\n",
       "    <tr>\n",
       "      <th>2c9180975a056a64015a1dfed0c46ec6</th>\n",
       "      <td>0.995386</td>\n",
       "      <td>0.000318</td>\n",
       "      <td>0.001406</td>\n",
       "      <td>0.002890</td>\n",
       "    </tr>\n",
       "    <tr>\n",
       "      <th>2c9180975a056a64015a1dfed0c46ec7</th>\n",
       "      <td>0.998016</td>\n",
       "      <td>0.000603</td>\n",
       "      <td>0.000262</td>\n",
       "      <td>0.001119</td>\n",
       "    </tr>\n",
       "  </tbody>\n",
       "</table>\n",
       "</div>"
      ],
      "text/plain": [
       "                                     Front      Left      Rear     Right\n",
       "Id                                                                      \n",
       "2c9180975a056a64015a1e10d3f270fe  0.993271  0.000436  0.001943  0.004350\n",
       "2c9180975a056a64015a1de4deb16bdc  0.995818  0.002163  0.000362  0.001657\n",
       "2c9180975a056a64015a1e0e70ea70ce  0.995786  0.000299  0.001294  0.002621\n",
       "2c9180975a056a64015a1dfed0c46ec6  0.995386  0.000318  0.001406  0.002890\n",
       "2c9180975a056a64015a1dfed0c46ec7  0.998016  0.000603  0.000262  0.001119"
      ]
     },
     "execution_count": 76,
     "metadata": {},
     "output_type": "execute_result"
    }
   ],
   "source": [
    "xgb.fit(X,y)\n",
    "probxgb = xgb.predict_proba(test[features])\n",
    "submission = pd.DataFrame(data=probxgb,index = test.Id,columns=['Front','Left','Rear','Right'])\n",
    "submission.head()"
   ]
  },
  {
   "cell_type": "code",
   "execution_count": 77,
   "metadata": {
    "collapsed": false
   },
   "outputs": [
    {
     "data": {
      "text/plain": [
       "array([ 0.11503743,  0.43268448,  0.26057753,  0.19170053], dtype=float32)"
      ]
     },
     "execution_count": 77,
     "metadata": {},
     "output_type": "execute_result"
    }
   ],
   "source": [
    "xgb.feature_importances_"
   ]
  },
  {
   "cell_type": "code",
   "execution_count": 78,
   "metadata": {
    "collapsed": true
   },
   "outputs": [],
   "source": [
    "testpred = xgb.predict(X_test[features])"
   ]
  },
  {
   "cell_type": "code",
   "execution_count": 79,
   "metadata": {
    "collapsed": false
   },
   "outputs": [
    {
     "data": {
      "text/plain": [
       "0.96154345849032086"
      ]
     },
     "execution_count": 79,
     "metadata": {},
     "output_type": "execute_result"
    }
   ],
   "source": [
    "metrics.accuracy_score(testpred,y_test)"
   ]
  },
  {
   "cell_type": "code",
   "execution_count": 85,
   "metadata": {
    "collapsed": true
   },
   "outputs": [],
   "source": [
    "submission.to_csv('f5.csv')"
   ]
  },
  {
   "cell_type": "code",
   "execution_count": 84,
   "metadata": {
    "collapsed": false
   },
   "outputs": [
    {
     "data": {
      "text/html": [
       "<div>\n",
       "<table border=\"1\" class=\"dataframe\">\n",
       "  <thead>\n",
       "    <tr style=\"text-align: right;\">\n",
       "      <th></th>\n",
       "      <th>Front</th>\n",
       "      <th>Left</th>\n",
       "      <th>Rear</th>\n",
       "      <th>Right</th>\n",
       "    </tr>\n",
       "    <tr>\n",
       "      <th>Id</th>\n",
       "      <th></th>\n",
       "      <th></th>\n",
       "      <th></th>\n",
       "      <th></th>\n",
       "    </tr>\n",
       "  </thead>\n",
       "  <tbody>\n",
       "    <tr>\n",
       "      <th>2c9180975a056a64015a1e10d3f270fe</th>\n",
       "      <td>0.996058</td>\n",
       "      <td>0.000071</td>\n",
       "      <td>0.001740</td>\n",
       "      <td>0.002131</td>\n",
       "    </tr>\n",
       "    <tr>\n",
       "      <th>2c9180975a056a64015a1de4deb16bdc</th>\n",
       "      <td>0.997450</td>\n",
       "      <td>0.000605</td>\n",
       "      <td>0.000045</td>\n",
       "      <td>0.001899</td>\n",
       "    </tr>\n",
       "    <tr>\n",
       "      <th>2c9180975a056a64015a1e0e70ea70ce</th>\n",
       "      <td>0.996267</td>\n",
       "      <td>0.000106</td>\n",
       "      <td>0.001531</td>\n",
       "      <td>0.002095</td>\n",
       "    </tr>\n",
       "    <tr>\n",
       "      <th>2c9180975a056a64015a1dfed0c46ec6</th>\n",
       "      <td>0.996931</td>\n",
       "      <td>0.000098</td>\n",
       "      <td>0.001209</td>\n",
       "      <td>0.001762</td>\n",
       "    </tr>\n",
       "    <tr>\n",
       "      <th>2c9180975a056a64015a1dfed0c46ec7</th>\n",
       "      <td>0.998544</td>\n",
       "      <td>0.000447</td>\n",
       "      <td>0.000140</td>\n",
       "      <td>0.000868</td>\n",
       "    </tr>\n",
       "  </tbody>\n",
       "</table>\n",
       "</div>"
      ],
      "text/plain": [
       "                                     Front      Left      Rear     Right\n",
       "Id                                                                      \n",
       "2c9180975a056a64015a1e10d3f270fe  0.996058  0.000071  0.001740  0.002131\n",
       "2c9180975a056a64015a1de4deb16bdc  0.997450  0.000605  0.000045  0.001899\n",
       "2c9180975a056a64015a1e0e70ea70ce  0.996267  0.000106  0.001531  0.002095\n",
       "2c9180975a056a64015a1dfed0c46ec6  0.996931  0.000098  0.001209  0.001762\n",
       "2c9180975a056a64015a1dfed0c46ec7  0.998544  0.000447  0.000140  0.000868"
      ]
     },
     "execution_count": 84,
     "metadata": {},
     "output_type": "execute_result"
    }
   ],
   "source": [
    "rf = RandomForestClassifier(n_estimators=400, max_depth=9,min_samples_split=30,\n",
    "                            min_samples_leaf=2,n_jobs=-1,random_state=111,oob_score=True)\n",
    "rf.fit(train[features],train['SignFacing (Target)'])\n",
    "probrf = rf.predict_proba(test[features])\n",
    "submission = pd.DataFrame(data=probrf,index = test.Id,columns=['Front','Left','Rear','Right'])\n",
    "submission.head()"
   ]
  }
 ],
 "metadata": {
  "anaconda-cloud": {},
  "kernelspec": {
   "display_name": "Python [conda root]",
   "language": "python",
   "name": "conda-root-py"
  },
  "language_info": {
   "codemirror_mode": {
    "name": "ipython",
    "version": 3
   },
   "file_extension": ".py",
   "mimetype": "text/x-python",
   "name": "python",
   "nbconvert_exporter": "python",
   "pygments_lexer": "ipython3",
   "version": "3.5.2"
  }
 },
 "nbformat": 4,
 "nbformat_minor": 1
}
