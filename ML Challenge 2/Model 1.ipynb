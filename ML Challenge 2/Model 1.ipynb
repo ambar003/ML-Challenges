{
 "cells": [
  {
   "cell_type": "code",
   "execution_count": 1,
   "metadata": {
    "collapsed": true
   },
   "outputs": [],
   "source": [
    "import pandas as pd\n",
    "import numpy as np"
   ]
  },
  {
   "cell_type": "code",
   "execution_count": 2,
   "metadata": {
    "collapsed": true
   },
   "outputs": [],
   "source": [
    "import re\n",
    "import datetime\n",
    "from nltk.corpus import stopwords\n",
    "from sklearn.preprocessing import LabelEncoder\n",
    "from nltk.stem.snowball import SnowballStemmer\n",
    "from sklearn.feature_extraction.text import CountVectorizer"
   ]
  },
  {
   "cell_type": "code",
   "execution_count": 3,
   "metadata": {
    "collapsed": false
   },
   "outputs": [
    {
     "name": "stdout",
     "output_type": "stream",
     "text": [
      "Populating the interactive namespace from numpy and matplotlib\n"
     ]
    }
   ],
   "source": [
    "% pylab inline"
   ]
  },
  {
   "cell_type": "code",
   "execution_count": 4,
   "metadata": {
    "collapsed": false
   },
   "outputs": [
    {
     "data": {
      "text/html": [
       "<div>\n",
       "<table border=\"1\" class=\"dataframe\">\n",
       "  <thead>\n",
       "    <tr style=\"text-align: right;\">\n",
       "      <th></th>\n",
       "      <th>backers_count</th>\n",
       "      <th>country</th>\n",
       "      <th>created_at</th>\n",
       "      <th>currency</th>\n",
       "      <th>deadline</th>\n",
       "      <th>desc</th>\n",
       "      <th>disable_communication</th>\n",
       "      <th>goal</th>\n",
       "      <th>keywords</th>\n",
       "      <th>launched_at</th>\n",
       "      <th>...</th>\n",
       "      <th>28</th>\n",
       "      <th>29</th>\n",
       "      <th>30</th>\n",
       "      <th>31</th>\n",
       "      <th>name_len</th>\n",
       "      <th>name_count</th>\n",
       "      <th>desc_len</th>\n",
       "      <th>desc_count</th>\n",
       "      <th>keywords_len</th>\n",
       "      <th>keywords_count</th>\n",
       "    </tr>\n",
       "  </thead>\n",
       "  <tbody>\n",
       "    <tr>\n",
       "      <th>0</th>\n",
       "      <td>3</td>\n",
       "      <td>20</td>\n",
       "      <td>1240600507</td>\n",
       "      <td>8</td>\n",
       "      <td>1241333999</td>\n",
       "      <td>I like drawing pictures. and then i color them...</td>\n",
       "      <td>1</td>\n",
       "      <td>20.0</td>\n",
       "      <td>drawing-for-dollars</td>\n",
       "      <td>1240602723</td>\n",
       "      <td>...</td>\n",
       "      <td>0</td>\n",
       "      <td>0</td>\n",
       "      <td>0</td>\n",
       "      <td>0</td>\n",
       "      <td>19</td>\n",
       "      <td>3</td>\n",
       "      <td>134</td>\n",
       "      <td>26</td>\n",
       "      <td>19</td>\n",
       "      <td>3</td>\n",
       "    </tr>\n",
       "    <tr>\n",
       "      <th>1</th>\n",
       "      <td>2</td>\n",
       "      <td>20</td>\n",
       "      <td>1240960224</td>\n",
       "      <td>8</td>\n",
       "      <td>1242429000</td>\n",
       "      <td>I, Dereck Blackburn will be taking upon an inc...</td>\n",
       "      <td>1</td>\n",
       "      <td>300.0</td>\n",
       "      <td>sponsor-dereck-blackburn-lostwars-artist-in-re...</td>\n",
       "      <td>1240975592</td>\n",
       "      <td>...</td>\n",
       "      <td>0</td>\n",
       "      <td>1</td>\n",
       "      <td>0</td>\n",
       "      <td>0</td>\n",
       "      <td>76</td>\n",
       "      <td>10</td>\n",
       "      <td>137</td>\n",
       "      <td>25</td>\n",
       "      <td>74</td>\n",
       "      <td>10</td>\n",
       "    </tr>\n",
       "    <tr>\n",
       "      <th>2</th>\n",
       "      <td>0</td>\n",
       "      <td>20</td>\n",
       "      <td>1242163613</td>\n",
       "      <td>8</td>\n",
       "      <td>1243027560</td>\n",
       "      <td>So I saw darkpony's successfully funded drawin...</td>\n",
       "      <td>1</td>\n",
       "      <td>30.0</td>\n",
       "      <td>mr-squiggles</td>\n",
       "      <td>1242164398</td>\n",
       "      <td>...</td>\n",
       "      <td>0</td>\n",
       "      <td>0</td>\n",
       "      <td>0</td>\n",
       "      <td>0</td>\n",
       "      <td>13</td>\n",
       "      <td>2</td>\n",
       "      <td>385</td>\n",
       "      <td>22</td>\n",
       "      <td>12</td>\n",
       "      <td>2</td>\n",
       "    </tr>\n",
       "    <tr>\n",
       "      <th>3</th>\n",
       "      <td>18</td>\n",
       "      <td>20</td>\n",
       "      <td>1240963795</td>\n",
       "      <td>8</td>\n",
       "      <td>1243555740</td>\n",
       "      <td>Do your part to help out starving artists and ...</td>\n",
       "      <td>1</td>\n",
       "      <td>500.0</td>\n",
       "      <td>help-me-write-my-second-novel</td>\n",
       "      <td>1240966730</td>\n",
       "      <td>...</td>\n",
       "      <td>0</td>\n",
       "      <td>1</td>\n",
       "      <td>0</td>\n",
       "      <td>0</td>\n",
       "      <td>30</td>\n",
       "      <td>6</td>\n",
       "      <td>131</td>\n",
       "      <td>23</td>\n",
       "      <td>29</td>\n",
       "      <td>6</td>\n",
       "    </tr>\n",
       "    <tr>\n",
       "      <th>4</th>\n",
       "      <td>1</td>\n",
       "      <td>20</td>\n",
       "      <td>1241177914</td>\n",
       "      <td>8</td>\n",
       "      <td>1243769880</td>\n",
       "      <td>I'm nearing completion on a sculpture, current...</td>\n",
       "      <td>1</td>\n",
       "      <td>2000.0</td>\n",
       "      <td>support-casting-my-sculpture-in-bronze</td>\n",
       "      <td>1241180541</td>\n",
       "      <td>...</td>\n",
       "      <td>0</td>\n",
       "      <td>0</td>\n",
       "      <td>0</td>\n",
       "      <td>0</td>\n",
       "      <td>38</td>\n",
       "      <td>6</td>\n",
       "      <td>384</td>\n",
       "      <td>18</td>\n",
       "      <td>38</td>\n",
       "      <td>6</td>\n",
       "    </tr>\n",
       "  </tbody>\n",
       "</table>\n",
       "<p>5 rows × 69 columns</p>\n",
       "</div>"
      ],
      "text/plain": [
       "   backers_count  country  created_at  currency    deadline  \\\n",
       "0              3       20  1240600507         8  1241333999   \n",
       "1              2       20  1240960224         8  1242429000   \n",
       "2              0       20  1242163613         8  1243027560   \n",
       "3             18       20  1240963795         8  1243555740   \n",
       "4              1       20  1241177914         8  1243769880   \n",
       "\n",
       "                                                desc  disable_communication  \\\n",
       "0  I like drawing pictures. and then i color them...                      1   \n",
       "1  I, Dereck Blackburn will be taking upon an inc...                      1   \n",
       "2  So I saw darkpony's successfully funded drawin...                      1   \n",
       "3  Do your part to help out starving artists and ...                      1   \n",
       "4  I'm nearing completion on a sculpture, current...                      1   \n",
       "\n",
       "     goal                                           keywords  launched_at  \\\n",
       "0    20.0                                drawing-for-dollars   1240602723   \n",
       "1   300.0  sponsor-dereck-blackburn-lostwars-artist-in-re...   1240975592   \n",
       "2    30.0                                       mr-squiggles   1242164398   \n",
       "3   500.0                      help-me-write-my-second-novel   1240966730   \n",
       "4  2000.0             support-casting-my-sculpture-in-bronze   1241180541   \n",
       "\n",
       "        ...       28 29  30  31  name_len  name_count  desc_len  desc_count  \\\n",
       "0       ...        0  0   0   0        19           3       134          26   \n",
       "1       ...        0  1   0   0        76          10       137          25   \n",
       "2       ...        0  0   0   0        13           2       385          22   \n",
       "3       ...        0  1   0   0        30           6       131          23   \n",
       "4       ...        0  0   0   0        38           6       384          18   \n",
       "\n",
       "   keywords_len  keywords_count  \n",
       "0            19               3  \n",
       "1            74              10  \n",
       "2            12               2  \n",
       "3            29               6  \n",
       "4            38               6  \n",
       "\n",
       "[5 rows x 69 columns]"
      ]
     },
     "execution_count": 4,
     "metadata": {},
     "output_type": "execute_result"
    }
   ],
   "source": [
    "train = pd.read_csv('updated_train.csv', encoding = \"ISO-8859-1\")\n",
    "train.head()"
   ]
  },
  {
   "cell_type": "code",
   "execution_count": 5,
   "metadata": {
    "collapsed": false
   },
   "outputs": [
    {
     "data": {
      "text/html": [
       "<div>\n",
       "<table border=\"1\" class=\"dataframe\">\n",
       "  <thead>\n",
       "    <tr style=\"text-align: right;\">\n",
       "      <th></th>\n",
       "      <th>backers_count</th>\n",
       "      <th>country</th>\n",
       "      <th>created_at</th>\n",
       "      <th>currency</th>\n",
       "      <th>deadline</th>\n",
       "      <th>desc</th>\n",
       "      <th>disable_communication</th>\n",
       "      <th>goal</th>\n",
       "      <th>keywords</th>\n",
       "      <th>launched_at</th>\n",
       "      <th>...</th>\n",
       "      <th>28</th>\n",
       "      <th>29</th>\n",
       "      <th>30</th>\n",
       "      <th>31</th>\n",
       "      <th>name_len</th>\n",
       "      <th>name_count</th>\n",
       "      <th>desc_len</th>\n",
       "      <th>desc_count</th>\n",
       "      <th>keywords_len</th>\n",
       "      <th>keywords_count</th>\n",
       "    </tr>\n",
       "  </thead>\n",
       "  <tbody>\n",
       "    <tr>\n",
       "      <th>0</th>\n",
       "      <td>NaN</td>\n",
       "      <td>20</td>\n",
       "      <td>1446002581</td>\n",
       "      <td>8</td>\n",
       "      <td>1449619185</td>\n",
       "      <td>My first film, of many to come. Trying to purs...</td>\n",
       "      <td>1</td>\n",
       "      <td>7000.0</td>\n",
       "      <td>brathair</td>\n",
       "      <td>1446159585</td>\n",
       "      <td>...</td>\n",
       "      <td>0</td>\n",
       "      <td>0</td>\n",
       "      <td>1</td>\n",
       "      <td>0</td>\n",
       "      <td>9</td>\n",
       "      <td>1</td>\n",
       "      <td>119</td>\n",
       "      <td>19</td>\n",
       "      <td>8</td>\n",
       "      <td>1</td>\n",
       "    </tr>\n",
       "    <tr>\n",
       "      <th>1</th>\n",
       "      <td>NaN</td>\n",
       "      <td>20</td>\n",
       "      <td>1450297323</td>\n",
       "      <td>8</td>\n",
       "      <td>1453435620</td>\n",
       "      <td>A young man that has earned his master's in sc...</td>\n",
       "      <td>1</td>\n",
       "      <td>35000.0</td>\n",
       "      <td>the-screenwriter</td>\n",
       "      <td>1450411620</td>\n",
       "      <td>...</td>\n",
       "      <td>0</td>\n",
       "      <td>0</td>\n",
       "      <td>0</td>\n",
       "      <td>0</td>\n",
       "      <td>16</td>\n",
       "      <td>2</td>\n",
       "      <td>119</td>\n",
       "      <td>20</td>\n",
       "      <td>16</td>\n",
       "      <td>2</td>\n",
       "    </tr>\n",
       "    <tr>\n",
       "      <th>2</th>\n",
       "      <td>NaN</td>\n",
       "      <td>20</td>\n",
       "      <td>1448581356</td>\n",
       "      <td>8</td>\n",
       "      <td>1451780700</td>\n",
       "      <td>Film about a high school constructed for negro...</td>\n",
       "      <td>1</td>\n",
       "      <td>49500.0</td>\n",
       "      <td>the-hornets-nest-the-fairmont-heights-story</td>\n",
       "      <td>1448672128</td>\n",
       "      <td>...</td>\n",
       "      <td>1</td>\n",
       "      <td>0</td>\n",
       "      <td>0</td>\n",
       "      <td>0</td>\n",
       "      <td>43</td>\n",
       "      <td>7</td>\n",
       "      <td>126</td>\n",
       "      <td>19</td>\n",
       "      <td>43</td>\n",
       "      <td>7</td>\n",
       "    </tr>\n",
       "    <tr>\n",
       "      <th>3</th>\n",
       "      <td>NaN</td>\n",
       "      <td>20</td>\n",
       "      <td>1440966830</td>\n",
       "      <td>8</td>\n",
       "      <td>1445021518</td>\n",
       "      <td>The acclaimed series about a group of transgen...</td>\n",
       "      <td>1</td>\n",
       "      <td>40000.0</td>\n",
       "      <td>brothers-season-2-groundbreaking-transgender-male</td>\n",
       "      <td>1442429518</td>\n",
       "      <td>...</td>\n",
       "      <td>0</td>\n",
       "      <td>0</td>\n",
       "      <td>0</td>\n",
       "      <td>0</td>\n",
       "      <td>58</td>\n",
       "      <td>8</td>\n",
       "      <td>108</td>\n",
       "      <td>17</td>\n",
       "      <td>49</td>\n",
       "      <td>6</td>\n",
       "    </tr>\n",
       "    <tr>\n",
       "      <th>4</th>\n",
       "      <td>NaN</td>\n",
       "      <td>20</td>\n",
       "      <td>1455765276</td>\n",
       "      <td>8</td>\n",
       "      <td>1462068840</td>\n",
       "      <td>Blackdom's history offers  a new narrative tha...</td>\n",
       "      <td>1</td>\n",
       "      <td>20000.0</td>\n",
       "      <td>blackdom-the-movie</td>\n",
       "      <td>1458334890</td>\n",
       "      <td>...</td>\n",
       "      <td>0</td>\n",
       "      <td>0</td>\n",
       "      <td>0</td>\n",
       "      <td>0</td>\n",
       "      <td>18</td>\n",
       "      <td>3</td>\n",
       "      <td>132</td>\n",
       "      <td>21</td>\n",
       "      <td>18</td>\n",
       "      <td>3</td>\n",
       "    </tr>\n",
       "  </tbody>\n",
       "</table>\n",
       "<p>5 rows × 69 columns</p>\n",
       "</div>"
      ],
      "text/plain": [
       "   backers_count  country  created_at  currency    deadline  \\\n",
       "0            NaN       20  1446002581         8  1449619185   \n",
       "1            NaN       20  1450297323         8  1453435620   \n",
       "2            NaN       20  1448581356         8  1451780700   \n",
       "3            NaN       20  1440966830         8  1445021518   \n",
       "4            NaN       20  1455765276         8  1462068840   \n",
       "\n",
       "                                                desc  disable_communication  \\\n",
       "0  My first film, of many to come. Trying to purs...                      1   \n",
       "1  A young man that has earned his master's in sc...                      1   \n",
       "2  Film about a high school constructed for negro...                      1   \n",
       "3  The acclaimed series about a group of transgen...                      1   \n",
       "4  Blackdom's history offers  a new narrative tha...                      1   \n",
       "\n",
       "      goal                                           keywords  launched_at  \\\n",
       "0   7000.0                                           brathair   1446159585   \n",
       "1  35000.0                                   the-screenwriter   1450411620   \n",
       "2  49500.0        the-hornets-nest-the-fairmont-heights-story   1448672128   \n",
       "3  40000.0  brothers-season-2-groundbreaking-transgender-male   1442429518   \n",
       "4  20000.0                                 blackdom-the-movie   1458334890   \n",
       "\n",
       "        ...       28 29  30  31  name_len  name_count  desc_len  desc_count  \\\n",
       "0       ...        0  0   1   0         9           1       119          19   \n",
       "1       ...        0  0   0   0        16           2       119          20   \n",
       "2       ...        1  0   0   0        43           7       126          19   \n",
       "3       ...        0  0   0   0        58           8       108          17   \n",
       "4       ...        0  0   0   0        18           3       132          21   \n",
       "\n",
       "   keywords_len  keywords_count  \n",
       "0             8               1  \n",
       "1            16               2  \n",
       "2            43               7  \n",
       "3            49               6  \n",
       "4            18               3  \n",
       "\n",
       "[5 rows x 69 columns]"
      ]
     },
     "execution_count": 5,
     "metadata": {},
     "output_type": "execute_result"
    }
   ],
   "source": [
    "test = pd.read_csv('updated_test.csv', encoding = \"ISO-8859-1\")\n",
    "test.head()"
   ]
  },
  {
   "cell_type": "code",
   "execution_count": 6,
   "metadata": {
    "collapsed": true
   },
   "outputs": [],
   "source": [
    "import time\n",
    "import calendar, datetime"
   ]
  },
  {
   "cell_type": "code",
   "execution_count": 7,
   "metadata": {
    "collapsed": false
   },
   "outputs": [
    {
     "data": {
      "text/plain": [
       "datetime.datetime(2009, 5, 3, 6, 59, 59)"
      ]
     },
     "execution_count": 7,
     "metadata": {},
     "output_type": "execute_result"
    }
   ],
   "source": [
    "datetime.datetime.utcfromtimestamp(train.loc[0,'deadline'])"
   ]
  },
  {
   "cell_type": "code",
   "execution_count": 8,
   "metadata": {
    "collapsed": true
   },
   "outputs": [],
   "source": [
    "train['launched_at'] = train['launched_at'].apply(lambda x :datetime.datetime.utcfromtimestamp(x))\n",
    "train['deadline'] = train['deadline'].apply(lambda x :datetime.datetime.utcfromtimestamp(x))"
   ]
  },
  {
   "cell_type": "code",
   "execution_count": 9,
   "metadata": {
    "collapsed": true
   },
   "outputs": [],
   "source": [
    "train['diff'] = train['deadline'] - train['launched_at']"
   ]
  },
  {
   "cell_type": "code",
   "execution_count": 10,
   "metadata": {
    "collapsed": true
   },
   "outputs": [],
   "source": [
    "def update(x):\n",
    "    y = divmod(x.days * 86400 + x.seconds, 60)\n",
    "    return y[0]+y[1]/60"
   ]
  },
  {
   "cell_type": "code",
   "execution_count": 11,
   "metadata": {
    "collapsed": true
   },
   "outputs": [],
   "source": [
    "train['diff'] = train['diff'].apply(lambda x:update(x))"
   ]
  },
  {
   "cell_type": "code",
   "execution_count": 12,
   "metadata": {
    "collapsed": false
   },
   "outputs": [
    {
     "data": {
      "text/plain": [
       "0    12187.933333\n",
       "1    24223.466667\n",
       "2    14386.033333\n",
       "3    43150.166667\n",
       "4    43155.650000\n",
       "Name: diff, dtype: float64"
      ]
     },
     "execution_count": 12,
     "metadata": {},
     "output_type": "execute_result"
    }
   ],
   "source": [
    "train['diff'].head()"
   ]
  },
  {
   "cell_type": "code",
   "execution_count": 13,
   "metadata": {
    "collapsed": false
   },
   "outputs": [
    {
     "data": {
      "text/plain": [
       "<matplotlib.axes._subplots.AxesSubplot at 0x208d129c9e8>"
      ]
     },
     "execution_count": 13,
     "metadata": {},
     "output_type": "execute_result"
    },
    {
     "data": {
      "image/png": "[encoded data removed]",
      "text/plain": [
       "<matplotlib.figure.Figure at 0x208c30f1c50>"
      ]
     },
     "metadata": {},
     "output_type": "display_data"
    }
   ],
   "source": [
    "train['diff'].hist()"
   ]
  },
  {
   "cell_type": "code",
   "execution_count": 14,
   "metadata": {
    "collapsed": true
   },
   "outputs": [],
   "source": [
    "target = pd.read_csv('train.csv')\n",
    "target = target['final_status']"
   ]
  },
  {
   "cell_type": "code",
   "execution_count": 15,
   "metadata": {
    "collapsed": false
   },
   "outputs": [],
   "source": [
    "train['final_status'] = target"
   ]
  },
  {
   "cell_type": "code",
   "execution_count": 16,
   "metadata": {
    "collapsed": false
   },
   "outputs": [
    {
     "data": {
      "text/plain": [
       "{'boxes': [<matplotlib.lines.Line2D at 0x208c384c208>],\n",
       " 'caps': [<matplotlib.lines.Line2D at 0x208c383fe48>,\n",
       "  <matplotlib.lines.Line2D at 0x208c383ffd0>],\n",
       " 'fliers': [<matplotlib.lines.Line2D at 0x208c383afd0>],\n",
       " 'means': [],\n",
       " 'medians': [<matplotlib.lines.Line2D at 0x208c383a828>],\n",
       " 'whiskers': [<matplotlib.lines.Line2D at 0x208c384cdd8>,\n",
       "  <matplotlib.lines.Line2D at 0x208c384cf60>]}"
      ]
     },
     "execution_count": 16,
     "metadata": {},
     "output_type": "execute_result"
    },
    {
     "data": {
      "image/png": "[encoded data removed]",
      "text/plain": [
       "<matplotlib.figure.Figure at 0x208c46d9f98>"
      ]
     },
     "metadata": {},
     "output_type": "display_data"
    }
   ],
   "source": [
    "train.boxplot(column='diff',return_type='dict')"
   ]
  },
  {
   "cell_type": "code",
   "execution_count": 17,
   "metadata": {
    "collapsed": false
   },
   "outputs": [
    {
     "data": {
      "text/plain": [
       "0     0.300000\n",
       "1    50.300000\n",
       "2     4.300000\n",
       "3     6.350000\n",
       "4     7.283333\n",
       "Name: diff1, dtype: float64"
      ]
     },
     "execution_count": 17,
     "metadata": {},
     "output_type": "execute_result"
    }
   ],
   "source": [
    "train['state_changed_at'] = train['state_changed_at'].apply(lambda x :datetime.datetime.utcfromtimestamp(x))\n",
    "train['diff1'] = train['state_changed_at'] - train['deadline']\n",
    "train['diff1'] = train['diff1'].apply(lambda x:update(x))\n",
    "train['diff1'].head()"
   ]
  },
  {
   "cell_type": "code",
   "execution_count": 18,
   "metadata": {
    "collapsed": false
   },
   "outputs": [
    {
     "data": {
      "text/plain": [
       "0     36.933333\n",
       "1    256.133333\n",
       "2     13.083333\n",
       "3     48.916667\n",
       "4     43.783333\n",
       "Name: diff2, dtype: float64"
      ]
     },
     "execution_count": 18,
     "metadata": {},
     "output_type": "execute_result"
    }
   ],
   "source": [
    "train['created_at'] = train['created_at'].apply(lambda x :datetime.datetime.utcfromtimestamp(x))\n",
    "train['diff2'] = train['launched_at'] - train['created_at']\n",
    "train['diff2'] = train['diff2'].apply(lambda x:update(x))\n",
    "train['diff2'].head()"
   ]
  },
  {
   "cell_type": "code",
   "execution_count": 19,
   "metadata": {
    "collapsed": false
   },
   "outputs": [
    {
     "data": {
      "text/plain": [
       "0    57660.000000\n",
       "1    50400.000000\n",
       "2    51809.533333\n",
       "3    43200.000000\n",
       "4    62232.500000\n",
       "Name: diff, dtype: float64"
      ]
     },
     "execution_count": 19,
     "metadata": {},
     "output_type": "execute_result"
    }
   ],
   "source": [
    "test['launched_at'] = test['launched_at'].apply(lambda x :datetime.datetime.utcfromtimestamp(x))\n",
    "test['deadline'] = test['deadline'].apply(lambda x :datetime.datetime.utcfromtimestamp(x))\n",
    "test['diff'] = test['deadline'] - test['launched_at']\n",
    "test['diff'] = test['diff'].apply(lambda x:update(x))\n",
    "test['diff'].head()"
   ]
  },
  {
   "cell_type": "code",
   "execution_count": 20,
   "metadata": {
    "collapsed": false
   },
   "outputs": [
    {
     "data": {
      "text/plain": [
       "0    0.000000\n",
       "1    0.000000\n",
       "2    0.000000\n",
       "3    0.200000\n",
       "4    0.066667\n",
       "Name: diff1, dtype: float64"
      ]
     },
     "execution_count": 20,
     "metadata": {},
     "output_type": "execute_result"
    }
   ],
   "source": [
    "test['state_changed_at'] = test['state_changed_at'].apply(lambda x :datetime.datetime.utcfromtimestamp(x))\n",
    "test['diff1'] = test['state_changed_at'] - test['deadline']\n",
    "test['diff1'] = test['diff1'].apply(lambda x:update(x))\n",
    "test['diff1'].head()"
   ]
  },
  {
   "cell_type": "code",
   "execution_count": 21,
   "metadata": {
    "collapsed": false
   },
   "outputs": [
    {
     "data": {
      "text/plain": [
       "0     2616.733333\n",
       "1     1904.950000\n",
       "2     1512.866667\n",
       "3    24378.133333\n",
       "4    42826.900000\n",
       "Name: diff2, dtype: float64"
      ]
     },
     "execution_count": 21,
     "metadata": {},
     "output_type": "execute_result"
    }
   ],
   "source": [
    "test['created_at'] = test['created_at'].apply(lambda x :datetime.datetime.utcfromtimestamp(x))\n",
    "test['diff2'] = test['launched_at'] - test['created_at']\n",
    "test['diff2'] = test['diff2'].apply(lambda x:update(x))\n",
    "test['diff2'].head()"
   ]
  },
  {
   "cell_type": "code",
   "execution_count": 22,
   "metadata": {
    "collapsed": false
   },
   "outputs": [
    {
     "data": {
      "text/plain": [
       "Index(['backers_count', 'country', 'created_at', 'currency', 'deadline',\n",
       "       'desc', 'disable_communication', 'goal', 'keywords', 'launched_at',\n",
       "       'name', 'project_id', 'state_changed_at', 'd1', 'd2', 'd3', 'd4', 'd5',\n",
       "       'd6', 'd7', 'm1', 'm2', 'm3', 'm4', 'm5', 'm6', 'm7', 'm8', 'm9', 'm10',\n",
       "       'm11', 'm12', '1', '2', '3', '4', '5', '6', '7', '8', '9', '10', '11',\n",
       "       '12', '13', '14', '15', '16', '17', '18', '19', '20', '21', '22', '23',\n",
       "       '24', '25', '26', '27', '28', '29', '30', '31', 'name_len',\n",
       "       'name_count', 'desc_len', 'desc_count', 'keywords_len',\n",
       "       'keywords_count', 'diff', 'final_status', 'diff1', 'diff2'],\n",
       "      dtype='object')"
      ]
     },
     "execution_count": 22,
     "metadata": {},
     "output_type": "execute_result"
    }
   ],
   "source": [
    "train.columns"
   ]
  },
  {
   "cell_type": "code",
   "execution_count": 23,
   "metadata": {
    "collapsed": true
   },
   "outputs": [],
   "source": [
    "kickdesc = pd.Series(train['desc'].tolist() + test['desc'].tolist()).astype(str)"
   ]
  },
  {
   "cell_type": "code",
   "execution_count": 24,
   "metadata": {
    "collapsed": false
   },
   "outputs": [],
   "source": [
    "# this function cleans punctuations, digits and irregular tabs. Then converts the sentences to lower\n",
    "def desc_clean(word):\n",
    "    p1 = re.sub(pattern='(\\W+)|(\\d+)|(\\s+)',repl=' ',string=word)\n",
    "    p1 = p1.lower()\n",
    "    return p1\n",
    "\n",
    "kickdesc = kickdesc.map(desc_clean)"
   ]
  },
  {
   "cell_type": "code",
   "execution_count": 25,
   "metadata": {
    "collapsed": true
   },
   "outputs": [],
   "source": [
    "stop = set(stopwords.words('english'))\n",
    "kickdesc = [[x for x in x.split() if x not in stop] for x in kickdesc]\n",
    "stemmer = SnowballStemmer(language='english')\n",
    "kickdesc = [[stemmer.stem(x) for x in x] for x in kickdesc]\n",
    "kickdesc = [[x for x in x if len(x) > 2] for x in kickdesc]\n",
    "kickdesc = [' '.join(x) for x in kickdesc]"
   ]
  },
  {
   "cell_type": "code",
   "execution_count": 26,
   "metadata": {
    "collapsed": true
   },
   "outputs": [],
   "source": [
    "# Due to memory error, limited the number of features to 650\n",
    "cv = CountVectorizer(max_features=650)"
   ]
  },
  {
   "cell_type": "code",
   "execution_count": 27,
   "metadata": {
    "collapsed": true
   },
   "outputs": [],
   "source": [
    "alldesc = cv.fit_transform(kickdesc).todense()"
   ]
  },
  {
   "cell_type": "code",
   "execution_count": 28,
   "metadata": {
    "collapsed": true
   },
   "outputs": [],
   "source": [
    "#create a data frame\n",
    "combine = pd.DataFrame(alldesc)\n",
    "combine.rename(columns= lambda x: 'variable_'+ str(x), inplace=True)"
   ]
  },
  {
   "cell_type": "code",
   "execution_count": 29,
   "metadata": {
    "collapsed": true
   },
   "outputs": [],
   "source": [
    "#split the text features\n",
    "train_text = combine[:train.shape[0]]\n",
    "test_text = combine[train.shape[0]:]\n",
    "test_text.reset_index(drop=True,inplace=True)"
   ]
  },
  {
   "cell_type": "code",
   "execution_count": 38,
   "metadata": {
    "collapsed": false
   },
   "outputs": [
    {
     "data": {
      "text/plain": [
       "650"
      ]
     },
     "execution_count": 38,
     "metadata": {},
     "output_type": "execute_result"
    }
   ],
   "source": [
    "len(train_text.columns)"
   ]
  },
  {
   "cell_type": "code",
   "execution_count": 39,
   "metadata": {
    "collapsed": false
   },
   "outputs": [
    {
     "data": {
      "text/plain": [
       "['a', 'b', 'c', 'd']"
      ]
     },
     "execution_count": 39,
     "metadata": {},
     "output_type": "execute_result"
    }
   ],
   "source": [
    "a = ['a','b']\n",
    "b = ['c','d']\n",
    "a+b"
   ]
  },
  {
   "cell_type": "code",
   "execution_count": 31,
   "metadata": {
    "collapsed": true
   },
   "outputs": [],
   "source": [
    "df = pd.concat([train, train_text],axis=1)"
   ]
  },
  {
   "cell_type": "code",
   "execution_count": 43,
   "metadata": {
    "collapsed": true
   },
   "outputs": [],
   "source": [
    "test = pd.concat([test, test_text],axis=1)"
   ]
  },
  {
   "cell_type": "code",
   "execution_count": 33,
   "metadata": {
    "collapsed": true
   },
   "outputs": [],
   "source": [
    "from sklearn.naive_bayes import GaussianNB\n",
    "from sklearn.ensemble import RandomForestClassifier\n",
    "from sklearn.cross_validation import train_test_split\n",
    "from sklearn.metrics import accuracy_score"
   ]
  },
  {
   "cell_type": "code",
   "execution_count": 34,
   "metadata": {
    "collapsed": true
   },
   "outputs": [],
   "source": [
    "import os\n",
    "mingw_path = 'C:\\\\Program Files\\\\mingw-w64\\\\x86_64-6.3.0-posix-seh-rt_v5-rev1\\\\mingw64\\\\bin'\n",
    "os.environ['PATH'] = mingw_path + ';' + os.environ['PATH']\n",
    "from xgboost.sklearn import XGBClassifier"
   ]
  },
  {
   "cell_type": "code",
   "execution_count": 35,
   "metadata": {
    "collapsed": false
   },
   "outputs": [],
   "source": [
    "X_train, X_test, y_train, y_test = train_test_split(df, df['final_status'], test_size=0.20, random_state=42)"
   ]
  },
  {
   "cell_type": "code",
   "execution_count": 40,
   "metadata": {
    "collapsed": true
   },
   "outputs": [],
   "source": [
    "features = ['name_len','goal','diff','diff1','diff2',\n",
    "            'name_count', 'desc_len', 'desc_count', 'keywords_len',\n",
    "            'keywords_count'] + list(train_text.columns)"
   ]
  },
  {
   "cell_type": "code",
   "execution_count": 41,
   "metadata": {
    "collapsed": false
   },
   "outputs": [
    {
     "data": {
      "text/plain": [
       "0.70096180523444007"
      ]
     },
     "execution_count": 41,
     "metadata": {},
     "output_type": "execute_result"
    }
   ],
   "source": [
    "X = X_train[features]\n",
    "y = y_train\n",
    "xgb = XGBClassifier()\n",
    "xgb.fit(X,y)\n",
    "pred = xgb.predict(X_test[features])\n",
    "accuracy_score(y_test,pred)"
   ]
  },
  {
   "cell_type": "code",
   "execution_count": 32,
   "metadata": {
    "collapsed": false
   },
   "outputs": [
    {
     "name": "stdout",
     "output_type": "stream",
     "text": [
      "name_len 0.0395683\n",
      "goal 0.246403\n",
      "diff 0.201439\n",
      "diff1 0.165468\n",
      "diff2 0.179856\n",
      "name_count 0.0503597\n",
      "desc_len 0.028777\n",
      "desc_count 0.0647482\n",
      "keywords_len 0.016187\n",
      "keywords_count 0.00719424\n"
     ]
    }
   ],
   "source": [
    "for i,j in zip(features,xgb.feature_importances_):\n",
    "    print(i+\" \"+str(j))"
   ]
  },
  {
   "cell_type": "code",
   "execution_count": 44,
   "metadata": {
    "collapsed": false
   },
   "outputs": [],
   "source": [
    "pred = xgb.predict(test[features])"
   ]
  },
  {
   "cell_type": "code",
   "execution_count": 45,
   "metadata": {
    "collapsed": false
   },
   "outputs": [],
   "source": [
    "submission = pd.DataFrame({'project_id':test['project_id'],'final_status':pred})\n",
    "submission = submission[['project_id','final_status']]\n",
    "submission.to_csv(\"xgb.csv\",index = False) #0.6526"
   ]
  },
  {
   "cell_type": "code",
   "execution_count": 46,
   "metadata": {
    "collapsed": false
   },
   "outputs": [
    {
     "data": {
      "text/html": [
       "<div>\n",
       "<table border=\"1\" class=\"dataframe\">\n",
       "  <thead>\n",
       "    <tr style=\"text-align: right;\">\n",
       "      <th></th>\n",
       "      <th>project_id</th>\n",
       "      <th>final_status</th>\n",
       "    </tr>\n",
       "  </thead>\n",
       "  <tbody>\n",
       "    <tr>\n",
       "      <th>0</th>\n",
       "      <td>kkst917493670</td>\n",
       "      <td>0</td>\n",
       "    </tr>\n",
       "    <tr>\n",
       "      <th>1</th>\n",
       "      <td>kkst1664901914</td>\n",
       "      <td>0</td>\n",
       "    </tr>\n",
       "    <tr>\n",
       "      <th>2</th>\n",
       "      <td>kkst925125077</td>\n",
       "      <td>0</td>\n",
       "    </tr>\n",
       "    <tr>\n",
       "      <th>3</th>\n",
       "      <td>kkst1427645275</td>\n",
       "      <td>0</td>\n",
       "    </tr>\n",
       "    <tr>\n",
       "      <th>4</th>\n",
       "      <td>kkst1714249266</td>\n",
       "      <td>0</td>\n",
       "    </tr>\n",
       "  </tbody>\n",
       "</table>\n",
       "</div>"
      ],
      "text/plain": [
       "       project_id  final_status\n",
       "0   kkst917493670             0\n",
       "1  kkst1664901914             0\n",
       "2   kkst925125077             0\n",
       "3  kkst1427645275             0\n",
       "4  kkst1714249266             0"
      ]
     },
     "execution_count": 46,
     "metadata": {},
     "output_type": "execute_result"
    }
   ],
   "source": [
    "submission.head()"
   ]
  }
 ],
 "metadata": {
  "anaconda-cloud": {},
  "kernelspec": {
   "display_name": "Python [conda root]",
   "language": "python",
   "name": "conda-root-py"
  },
  "language_info": {
   "codemirror_mode": {
    "name": "ipython",
    "version": 3
   },
   "file_extension": ".py",
   "mimetype": "text/x-python",
   "name": "python",
   "nbconvert_exporter": "python",
   "pygments_lexer": "ipython3",
   "version": "3.5.2"
  }
 },
 "nbformat": 4,
 "nbformat_minor": 1
}
