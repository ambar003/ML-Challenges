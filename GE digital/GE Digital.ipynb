{
 "cells": [
  {
   "cell_type": "code",
   "execution_count": 1,
   "metadata": {
    "collapsed": true
   },
   "outputs": [],
   "source": [
    "import os\n",
    "mingw_path = 'C:\\\\Program Files\\\\mingw-w64\\\\x86_64-6.3.0-posix-seh-rt_v5-rev1\\\\mingw64\\\\bin'\n",
    "os.environ['PATH'] = mingw_path + ';' + os.environ['PATH']"
   ]
  },
  {
   "cell_type": "code",
   "execution_count": 3,
   "metadata": {
    "collapsed": false
   },
   "outputs": [],
   "source": [
    "import numpy as np\n",
    "import pandas as pd\n",
    "import xgboost as xgb\n",
    "\n",
    "from xgboost.sklearn import XGBClassifier\n",
    "from sklearn import cross_validation,metrics\n",
    "from sklearn.grid_search import GridSearchCV\n",
    "from sklearn.ensemble import GradientBoostingClassifier  #GBM algorithm\n",
    "from sklearn.linear_model import LogisticRegression \n",
    "from sklearn.linear_model import LogisticRegressionCV"
   ]
  },
  {
   "cell_type": "code",
   "execution_count": 87,
   "metadata": {
    "collapsed": false
   },
   "outputs": [
    {
     "name": "stdout",
     "output_type": "stream",
     "text": [
      "Populating the interactive namespace from numpy and matplotlib\n"
     ]
    },
    {
     "name": "stderr",
     "output_type": "stream",
     "text": [
      "D:\\anaconda\\lib\\site-packages\\IPython\\core\\magics\\pylab.py:161: UserWarning: pylab import has clobbered these variables: ['test']\n",
      "`%matplotlib` prevents importing * from pylab and numpy\n",
      "  \"\\n`%matplotlib` prevents importing * from pylab and numpy\"\n"
     ]
    }
   ],
   "source": [
    "% pylab inline"
   ]
  },
  {
   "cell_type": "code",
   "execution_count": 4,
   "metadata": {
    "collapsed": true
   },
   "outputs": [],
   "source": [
    "train = pd.read_csv('train_data.csv')"
   ]
  },
  {
   "cell_type": "code",
   "execution_count": 5,
   "metadata": {
    "collapsed": true
   },
   "outputs": [],
   "source": [
    "test = pd.read_csv('test_data.csv')"
   ]
  },
  {
   "cell_type": "code",
   "execution_count": 6,
   "metadata": {
    "collapsed": false
   },
   "outputs": [
    {
     "name": "stderr",
     "output_type": "stream",
     "text": [
      "D:\\anaconda\\lib\\site-packages\\numpy\\lib\\function_base.py:3834: RuntimeWarning: Invalid value encountered in percentile\n",
      "  RuntimeWarning)\n"
     ]
    },
    {
     "data": {
      "text/html": [
       "<div>\n",
       "<table border=\"1\" class=\"dataframe\">\n",
       "  <thead>\n",
       "    <tr style=\"text-align: right;\">\n",
       "      <th></th>\n",
       "      <th>loan_id</th>\n",
       "      <th>applicant_income</th>\n",
       "      <th>co_applicant_income</th>\n",
       "      <th>loan_amount</th>\n",
       "      <th>loan_amount_term</th>\n",
       "      <th>credit_history</th>\n",
       "    </tr>\n",
       "  </thead>\n",
       "  <tbody>\n",
       "    <tr>\n",
       "      <th>count</th>\n",
       "      <td>100.000000</td>\n",
       "      <td>100.00000</td>\n",
       "      <td>100.000000</td>\n",
       "      <td>95.000000</td>\n",
       "      <td>95.000000</td>\n",
       "      <td>92.000000</td>\n",
       "    </tr>\n",
       "    <tr>\n",
       "      <th>mean</th>\n",
       "      <td>50.500000</td>\n",
       "      <td>4122.83000</td>\n",
       "      <td>1700.550000</td>\n",
       "      <td>134.221053</td>\n",
       "      <td>341.684211</td>\n",
       "      <td>0.836957</td>\n",
       "    </tr>\n",
       "    <tr>\n",
       "      <th>std</th>\n",
       "      <td>29.011492</td>\n",
       "      <td>2258.89434</td>\n",
       "      <td>1947.668891</td>\n",
       "      <td>63.456163</td>\n",
       "      <td>61.309342</td>\n",
       "      <td>0.371429</td>\n",
       "    </tr>\n",
       "    <tr>\n",
       "      <th>min</th>\n",
       "      <td>1.000000</td>\n",
       "      <td>1000.00000</td>\n",
       "      <td>0.000000</td>\n",
       "      <td>17.000000</td>\n",
       "      <td>60.000000</td>\n",
       "      <td>0.000000</td>\n",
       "    </tr>\n",
       "    <tr>\n",
       "      <th>25%</th>\n",
       "      <td>25.750000</td>\n",
       "      <td>2636.00000</td>\n",
       "      <td>0.000000</td>\n",
       "      <td>NaN</td>\n",
       "      <td>NaN</td>\n",
       "      <td>NaN</td>\n",
       "    </tr>\n",
       "    <tr>\n",
       "      <th>50%</th>\n",
       "      <td>50.500000</td>\n",
       "      <td>3598.00000</td>\n",
       "      <td>1558.500000</td>\n",
       "      <td>NaN</td>\n",
       "      <td>NaN</td>\n",
       "      <td>NaN</td>\n",
       "    </tr>\n",
       "    <tr>\n",
       "      <th>75%</th>\n",
       "      <td>75.250000</td>\n",
       "      <td>4710.00000</td>\n",
       "      <td>2394.500000</td>\n",
       "      <td>NaN</td>\n",
       "      <td>NaN</td>\n",
       "      <td>NaN</td>\n",
       "    </tr>\n",
       "    <tr>\n",
       "      <th>max</th>\n",
       "      <td>100.000000</td>\n",
       "      <td>12841.00000</td>\n",
       "      <td>10968.000000</td>\n",
       "      <td>349.000000</td>\n",
       "      <td>480.000000</td>\n",
       "      <td>1.000000</td>\n",
       "    </tr>\n",
       "  </tbody>\n",
       "</table>\n",
       "</div>"
      ],
      "text/plain": [
       "          loan_id  applicant_income  co_applicant_income  loan_amount  \\\n",
       "count  100.000000         100.00000           100.000000    95.000000   \n",
       "mean    50.500000        4122.83000          1700.550000   134.221053   \n",
       "std     29.011492        2258.89434          1947.668891    63.456163   \n",
       "min      1.000000        1000.00000             0.000000    17.000000   \n",
       "25%     25.750000        2636.00000             0.000000          NaN   \n",
       "50%     50.500000        3598.00000          1558.500000          NaN   \n",
       "75%     75.250000        4710.00000          2394.500000          NaN   \n",
       "max    100.000000       12841.00000         10968.000000   349.000000   \n",
       "\n",
       "       loan_amount_term  credit_history  \n",
       "count         95.000000       92.000000  \n",
       "mean         341.684211        0.836957  \n",
       "std           61.309342        0.371429  \n",
       "min           60.000000        0.000000  \n",
       "25%                 NaN             NaN  \n",
       "50%                 NaN             NaN  \n",
       "75%                 NaN             NaN  \n",
       "max          480.000000        1.000000  "
      ]
     },
     "execution_count": 6,
     "metadata": {},
     "output_type": "execute_result"
    }
   ],
   "source": [
    "train.describe()"
   ]
  },
  {
   "cell_type": "code",
   "execution_count": 7,
   "metadata": {
    "collapsed": false
   },
   "outputs": [
    {
     "data": {
      "text/html": [
       "<div>\n",
       "<table border=\"1\" class=\"dataframe\">\n",
       "  <thead>\n",
       "    <tr style=\"text-align: right;\">\n",
       "      <th></th>\n",
       "      <th>loan_id</th>\n",
       "      <th>gender</th>\n",
       "      <th>marital_status</th>\n",
       "      <th>dependents</th>\n",
       "      <th>qualification</th>\n",
       "      <th>is_self_employed</th>\n",
       "      <th>applicant_income</th>\n",
       "      <th>co_applicant_income</th>\n",
       "      <th>loan_amount</th>\n",
       "      <th>loan_amount_term</th>\n",
       "      <th>credit_history</th>\n",
       "      <th>property_area</th>\n",
       "    </tr>\n",
       "  </thead>\n",
       "  <tbody>\n",
       "    <tr>\n",
       "      <th>0</th>\n",
       "      <td>1</td>\n",
       "      <td>M</td>\n",
       "      <td>No</td>\n",
       "      <td>0</td>\n",
       "      <td>Graduate</td>\n",
       "      <td>No</td>\n",
       "      <td>5849</td>\n",
       "      <td>0</td>\n",
       "      <td>NaN</td>\n",
       "      <td>360.0</td>\n",
       "      <td>1.0</td>\n",
       "      <td>Urban</td>\n",
       "    </tr>\n",
       "    <tr>\n",
       "      <th>1</th>\n",
       "      <td>2</td>\n",
       "      <td>M</td>\n",
       "      <td>Yes</td>\n",
       "      <td>1</td>\n",
       "      <td>Graduate</td>\n",
       "      <td>No</td>\n",
       "      <td>4583</td>\n",
       "      <td>1508</td>\n",
       "      <td>128.0</td>\n",
       "      <td>360.0</td>\n",
       "      <td>1.0</td>\n",
       "      <td>Rural</td>\n",
       "    </tr>\n",
       "    <tr>\n",
       "      <th>2</th>\n",
       "      <td>3</td>\n",
       "      <td>M</td>\n",
       "      <td>Yes</td>\n",
       "      <td>0</td>\n",
       "      <td>Graduate</td>\n",
       "      <td>Yes</td>\n",
       "      <td>3000</td>\n",
       "      <td>0</td>\n",
       "      <td>66.0</td>\n",
       "      <td>360.0</td>\n",
       "      <td>1.0</td>\n",
       "      <td>Urban</td>\n",
       "    </tr>\n",
       "    <tr>\n",
       "      <th>3</th>\n",
       "      <td>4</td>\n",
       "      <td>M</td>\n",
       "      <td>Yes</td>\n",
       "      <td>0</td>\n",
       "      <td>Not Graduate</td>\n",
       "      <td>No</td>\n",
       "      <td>2583</td>\n",
       "      <td>2358</td>\n",
       "      <td>120.0</td>\n",
       "      <td>360.0</td>\n",
       "      <td>1.0</td>\n",
       "      <td>Urban</td>\n",
       "    </tr>\n",
       "    <tr>\n",
       "      <th>4</th>\n",
       "      <td>5</td>\n",
       "      <td>M</td>\n",
       "      <td>No</td>\n",
       "      <td>0</td>\n",
       "      <td>Graduate</td>\n",
       "      <td>No</td>\n",
       "      <td>6000</td>\n",
       "      <td>0</td>\n",
       "      <td>141.0</td>\n",
       "      <td>360.0</td>\n",
       "      <td>1.0</td>\n",
       "      <td>Urban</td>\n",
       "    </tr>\n",
       "  </tbody>\n",
       "</table>\n",
       "</div>"
      ],
      "text/plain": [
       "   loan_id gender marital_status dependents qualification is_self_employed  \\\n",
       "0        1      M             No          0      Graduate               No   \n",
       "1        2      M            Yes          1      Graduate               No   \n",
       "2        3      M            Yes          0      Graduate              Yes   \n",
       "3        4      M            Yes          0  Not Graduate               No   \n",
       "4        5      M             No          0      Graduate               No   \n",
       "\n",
       "   applicant_income  co_applicant_income  loan_amount  loan_amount_term  \\\n",
       "0              5849                    0          NaN             360.0   \n",
       "1              4583                 1508        128.0             360.0   \n",
       "2              3000                    0         66.0             360.0   \n",
       "3              2583                 2358        120.0             360.0   \n",
       "4              6000                    0        141.0             360.0   \n",
       "\n",
       "   credit_history property_area  \n",
       "0             1.0         Urban  \n",
       "1             1.0         Rural  \n",
       "2             1.0         Urban  \n",
       "3             1.0         Urban  \n",
       "4             1.0         Urban  "
      ]
     },
     "execution_count": 7,
     "metadata": {},
     "output_type": "execute_result"
    }
   ],
   "source": [
    "train.head()"
   ]
  },
  {
   "cell_type": "code",
   "execution_count": 29,
   "metadata": {
    "collapsed": true
   },
   "outputs": [],
   "source": [
    "df = pd.concat([train,test])"
   ]
  },
  {
   "cell_type": "code",
   "execution_count": 30,
   "metadata": {
    "collapsed": false
   },
   "outputs": [
    {
     "data": {
      "text/plain": [
       "600"
      ]
     },
     "execution_count": 30,
     "metadata": {},
     "output_type": "execute_result"
    }
   ],
   "source": [
    "len(df)"
   ]
  },
  {
   "cell_type": "code",
   "execution_count": 31,
   "metadata": {
    "collapsed": false
   },
   "outputs": [
    {
     "data": {
      "text/plain": [
       "(100, 500)"
      ]
     },
     "execution_count": 31,
     "metadata": {},
     "output_type": "execute_result"
    }
   ],
   "source": [
    "len(train),len(test)"
   ]
  },
  {
   "cell_type": "code",
   "execution_count": 32,
   "metadata": {
    "collapsed": false
   },
   "outputs": [
    {
     "data": {
      "text/html": [
       "<div>\n",
       "<table border=\"1\" class=\"dataframe\">\n",
       "  <thead>\n",
       "    <tr style=\"text-align: right;\">\n",
       "      <th></th>\n",
       "      <th>loan_id</th>\n",
       "      <th>gender</th>\n",
       "      <th>marital_status</th>\n",
       "      <th>dependents</th>\n",
       "      <th>qualification</th>\n",
       "      <th>is_self_employed</th>\n",
       "      <th>applicant_income</th>\n",
       "      <th>co_applicant_income</th>\n",
       "      <th>loan_amount</th>\n",
       "      <th>loan_amount_term</th>\n",
       "      <th>credit_history</th>\n",
       "      <th>property_area</th>\n",
       "    </tr>\n",
       "  </thead>\n",
       "  <tbody>\n",
       "    <tr>\n",
       "      <th>0</th>\n",
       "      <td>1</td>\n",
       "      <td>M</td>\n",
       "      <td>No</td>\n",
       "      <td>0</td>\n",
       "      <td>Graduate</td>\n",
       "      <td>No</td>\n",
       "      <td>5849</td>\n",
       "      <td>0.0</td>\n",
       "      <td>NaN</td>\n",
       "      <td>360.0</td>\n",
       "      <td>1.0</td>\n",
       "      <td>Urban</td>\n",
       "    </tr>\n",
       "    <tr>\n",
       "      <th>1</th>\n",
       "      <td>2</td>\n",
       "      <td>M</td>\n",
       "      <td>Yes</td>\n",
       "      <td>1</td>\n",
       "      <td>Graduate</td>\n",
       "      <td>No</td>\n",
       "      <td>4583</td>\n",
       "      <td>1508.0</td>\n",
       "      <td>128.0</td>\n",
       "      <td>360.0</td>\n",
       "      <td>1.0</td>\n",
       "      <td>Rural</td>\n",
       "    </tr>\n",
       "    <tr>\n",
       "      <th>2</th>\n",
       "      <td>3</td>\n",
       "      <td>M</td>\n",
       "      <td>Yes</td>\n",
       "      <td>0</td>\n",
       "      <td>Graduate</td>\n",
       "      <td>Yes</td>\n",
       "      <td>3000</td>\n",
       "      <td>0.0</td>\n",
       "      <td>66.0</td>\n",
       "      <td>360.0</td>\n",
       "      <td>1.0</td>\n",
       "      <td>Urban</td>\n",
       "    </tr>\n",
       "    <tr>\n",
       "      <th>3</th>\n",
       "      <td>4</td>\n",
       "      <td>M</td>\n",
       "      <td>Yes</td>\n",
       "      <td>0</td>\n",
       "      <td>Not Graduate</td>\n",
       "      <td>No</td>\n",
       "      <td>2583</td>\n",
       "      <td>2358.0</td>\n",
       "      <td>120.0</td>\n",
       "      <td>360.0</td>\n",
       "      <td>1.0</td>\n",
       "      <td>Urban</td>\n",
       "    </tr>\n",
       "    <tr>\n",
       "      <th>4</th>\n",
       "      <td>5</td>\n",
       "      <td>M</td>\n",
       "      <td>No</td>\n",
       "      <td>0</td>\n",
       "      <td>Graduate</td>\n",
       "      <td>No</td>\n",
       "      <td>6000</td>\n",
       "      <td>0.0</td>\n",
       "      <td>141.0</td>\n",
       "      <td>360.0</td>\n",
       "      <td>1.0</td>\n",
       "      <td>Urban</td>\n",
       "    </tr>\n",
       "  </tbody>\n",
       "</table>\n",
       "</div>"
      ],
      "text/plain": [
       "   loan_id gender marital_status dependents qualification is_self_employed  \\\n",
       "0        1      M             No          0      Graduate               No   \n",
       "1        2      M            Yes          1      Graduate               No   \n",
       "2        3      M            Yes          0      Graduate              Yes   \n",
       "3        4      M            Yes          0  Not Graduate               No   \n",
       "4        5      M             No          0      Graduate               No   \n",
       "\n",
       "   applicant_income  co_applicant_income  loan_amount  loan_amount_term  \\\n",
       "0              5849                  0.0          NaN             360.0   \n",
       "1              4583               1508.0        128.0             360.0   \n",
       "2              3000                  0.0         66.0             360.0   \n",
       "3              2583               2358.0        120.0             360.0   \n",
       "4              6000                  0.0        141.0             360.0   \n",
       "\n",
       "   credit_history property_area  \n",
       "0             1.0         Urban  \n",
       "1             1.0         Rural  \n",
       "2             1.0         Urban  \n",
       "3             1.0         Urban  \n",
       "4             1.0         Urban  "
      ]
     },
     "execution_count": 32,
     "metadata": {},
     "output_type": "execute_result"
    }
   ],
   "source": [
    "df.head()"
   ]
  },
  {
   "cell_type": "code",
   "execution_count": 33,
   "metadata": {
    "collapsed": false
   },
   "outputs": [
    {
     "data": {
      "text/plain": [
       "M    480\n",
       "F    108\n",
       "Name: gender, dtype: int64"
      ]
     },
     "execution_count": 33,
     "metadata": {},
     "output_type": "execute_result"
    }
   ],
   "source": [
    "df['gender'].value_counts()"
   ]
  },
  {
   "cell_type": "code",
   "execution_count": 34,
   "metadata": {
    "collapsed": true
   },
   "outputs": [],
   "source": [
    "df['gender'] = df['gender'].fillna('M')"
   ]
  },
  {
   "cell_type": "code",
   "execution_count": 35,
   "metadata": {
    "collapsed": true
   },
   "outputs": [],
   "source": [
    "df['gender'] = pd.Series(np.where(df.gender.values=='M',1,0),df.index)"
   ]
  },
  {
   "cell_type": "code",
   "execution_count": 36,
   "metadata": {
    "collapsed": false
   },
   "outputs": [
    {
     "data": {
      "text/plain": [
       "1    492\n",
       "0    108\n",
       "Name: gender, dtype: int64"
      ]
     },
     "execution_count": 36,
     "metadata": {},
     "output_type": "execute_result"
    }
   ],
   "source": [
    "df['gender'].value_counts()"
   ]
  },
  {
   "cell_type": "code",
   "execution_count": 37,
   "metadata": {
    "collapsed": false
   },
   "outputs": [
    {
     "data": {
      "text/plain": [
       "Yes    387\n",
       "No     210\n",
       "Name: marital_status, dtype: int64"
      ]
     },
     "execution_count": 37,
     "metadata": {},
     "output_type": "execute_result"
    }
   ],
   "source": [
    "df['marital_status'].value_counts()"
   ]
  },
  {
   "cell_type": "code",
   "execution_count": 38,
   "metadata": {
    "collapsed": true
   },
   "outputs": [],
   "source": [
    "df['marital_status'] = df['marital_status'].fillna('Yes')"
   ]
  },
  {
   "cell_type": "code",
   "execution_count": 39,
   "metadata": {
    "collapsed": true
   },
   "outputs": [],
   "source": [
    "df['marital_status'] = pd.Series(np.where(df.marital_status.values=='Yes',1,0),df.index)"
   ]
  },
  {
   "cell_type": "code",
   "execution_count": 40,
   "metadata": {
    "collapsed": false
   },
   "outputs": [
    {
     "data": {
      "text/plain": [
       "1    390\n",
       "0    210\n",
       "Name: marital_status, dtype: int64"
      ]
     },
     "execution_count": 40,
     "metadata": {},
     "output_type": "execute_result"
    }
   ],
   "source": [
    "df['marital_status'].value_counts()"
   ]
  },
  {
   "cell_type": "code",
   "execution_count": 41,
   "metadata": {
    "collapsed": false
   },
   "outputs": [
    {
     "data": {
      "text/plain": [
       "Index(['loan_id', 'gender', 'marital_status', 'dependents', 'qualification',\n",
       "       'is_self_employed', 'applicant_income', 'co_applicant_income',\n",
       "       'loan_amount', 'loan_amount_term', 'credit_history', 'property_area'],\n",
       "      dtype='object')"
      ]
     },
     "execution_count": 41,
     "metadata": {},
     "output_type": "execute_result"
    }
   ],
   "source": [
    "df.columns"
   ]
  },
  {
   "cell_type": "code",
   "execution_count": 42,
   "metadata": {
    "collapsed": false
   },
   "outputs": [
    {
     "data": {
      "text/plain": [
       "count     586\n",
       "unique      4\n",
       "top         0\n",
       "freq      338\n",
       "Name: dependents, dtype: object"
      ]
     },
     "execution_count": 42,
     "metadata": {},
     "output_type": "execute_result"
    }
   ],
   "source": [
    "df['dependents'].describe()"
   ]
  },
  {
   "cell_type": "code",
   "execution_count": 43,
   "metadata": {
    "collapsed": false
   },
   "outputs": [
    {
     "data": {
      "text/plain": [
       "0     338\n",
       "2     100\n",
       "1      98\n",
       "3+     50\n",
       "Name: dependents, dtype: int64"
      ]
     },
     "execution_count": 43,
     "metadata": {},
     "output_type": "execute_result"
    }
   ],
   "source": [
    "df['dependents'].value_counts()"
   ]
  },
  {
   "cell_type": "code",
   "execution_count": 44,
   "metadata": {
    "collapsed": true
   },
   "outputs": [],
   "source": [
    "df['dependents'] = df['dependents'].fillna('0')"
   ]
  },
  {
   "cell_type": "code",
   "execution_count": 45,
   "metadata": {
    "collapsed": false
   },
   "outputs": [
    {
     "data": {
      "text/plain": [
       "0     352\n",
       "2     100\n",
       "1      98\n",
       "3+     50\n",
       "Name: dependents, dtype: int64"
      ]
     },
     "execution_count": 45,
     "metadata": {},
     "output_type": "execute_result"
    }
   ],
   "source": [
    "df['dependents'].value_counts()"
   ]
  },
  {
   "cell_type": "code",
   "execution_count": 53,
   "metadata": {
    "collapsed": false
   },
   "outputs": [
    {
     "data": {
      "text/plain": [
       "pandas.core.series.Series"
      ]
     },
     "execution_count": 53,
     "metadata": {},
     "output_type": "execute_result"
    }
   ],
   "source": [
    "type(df['dependents'][0])"
   ]
  },
  {
   "cell_type": "code",
   "execution_count": 54,
   "metadata": {
    "collapsed": true
   },
   "outputs": [],
   "source": [
    "df['dependents'] = df['dependents'].apply(lambda x:int(x[0]))"
   ]
  },
  {
   "cell_type": "code",
   "execution_count": 55,
   "metadata": {
    "collapsed": false
   },
   "outputs": [
    {
     "data": {
      "text/plain": [
       "0    352\n",
       "2    100\n",
       "1     98\n",
       "3     50\n",
       "Name: dependents, dtype: int64"
      ]
     },
     "execution_count": 55,
     "metadata": {},
     "output_type": "execute_result"
    }
   ],
   "source": [
    "df['dependents'].value_counts()"
   ]
  },
  {
   "cell_type": "code",
   "execution_count": 56,
   "metadata": {
    "collapsed": false
   },
   "outputs": [
    {
     "data": {
      "text/plain": [
       "Graduate        469\n",
       "Not Graduate    131\n",
       "Name: qualification, dtype: int64"
      ]
     },
     "execution_count": 56,
     "metadata": {},
     "output_type": "execute_result"
    }
   ],
   "source": [
    "df['qualification'].value_counts()"
   ]
  },
  {
   "cell_type": "code",
   "execution_count": 57,
   "metadata": {
    "collapsed": true
   },
   "outputs": [],
   "source": [
    "df['qualification'] = pd.Series(np.where(df.qualification.values=='Graduate',1,0),df.index)"
   ]
  },
  {
   "cell_type": "code",
   "execution_count": 58,
   "metadata": {
    "collapsed": false
   },
   "outputs": [
    {
     "data": {
      "text/plain": [
       "1    469\n",
       "0    131\n",
       "Name: qualification, dtype: int64"
      ]
     },
     "execution_count": 58,
     "metadata": {},
     "output_type": "execute_result"
    }
   ],
   "source": [
    "df['qualification'].value_counts()"
   ]
  },
  {
   "cell_type": "code",
   "execution_count": 59,
   "metadata": {
    "collapsed": false
   },
   "outputs": [
    {
     "data": {
      "text/plain": [
       "Index(['loan_id', 'gender', 'marital_status', 'dependents', 'qualification',\n",
       "       'is_self_employed', 'applicant_income', 'co_applicant_income',\n",
       "       'loan_amount', 'loan_amount_term', 'credit_history', 'property_area'],\n",
       "      dtype='object')"
      ]
     },
     "execution_count": 59,
     "metadata": {},
     "output_type": "execute_result"
    }
   ],
   "source": [
    "df.columns"
   ]
  },
  {
   "cell_type": "code",
   "execution_count": 60,
   "metadata": {
    "collapsed": false
   },
   "outputs": [
    {
     "data": {
      "text/plain": [
       "No     488\n",
       "Yes     80\n",
       "Name: is_self_employed, dtype: int64"
      ]
     },
     "execution_count": 60,
     "metadata": {},
     "output_type": "execute_result"
    }
   ],
   "source": [
    "df['is_self_employed'].value_counts()"
   ]
  },
  {
   "cell_type": "code",
   "execution_count": 61,
   "metadata": {
    "collapsed": true
   },
   "outputs": [],
   "source": [
    "df['is_self_employed'] = df['is_self_employed'].fillna('No')"
   ]
  },
  {
   "cell_type": "code",
   "execution_count": 62,
   "metadata": {
    "collapsed": true
   },
   "outputs": [],
   "source": [
    "df['is_self_employed'] = pd.Series(np.where(df.is_self_employed.values=='Yes',1,0),df.index)"
   ]
  },
  {
   "cell_type": "code",
   "execution_count": 63,
   "metadata": {
    "collapsed": false
   },
   "outputs": [
    {
     "data": {
      "text/plain": [
       "0    520\n",
       "1     80\n",
       "Name: is_self_employed, dtype: int64"
      ]
     },
     "execution_count": 63,
     "metadata": {},
     "output_type": "execute_result"
    }
   ],
   "source": [
    "df['is_self_employed'].value_counts()"
   ]
  },
  {
   "cell_type": "code",
   "execution_count": 64,
   "metadata": {
    "collapsed": false
   },
   "outputs": [
    {
     "data": {
      "text/plain": [
       "count      600.000000\n",
       "mean      5446.285000\n",
       "std       6160.635131\n",
       "min        150.000000\n",
       "25%       2892.750000\n",
       "50%       3839.500000\n",
       "75%       5818.250000\n",
       "max      81000.000000\n",
       "Name: applicant_income, dtype: float64"
      ]
     },
     "execution_count": 64,
     "metadata": {},
     "output_type": "execute_result"
    }
   ],
   "source": [
    "df['applicant_income'].describe()"
   ]
  },
  {
   "cell_type": "code",
   "execution_count": 65,
   "metadata": {
    "collapsed": false
   },
   "outputs": [
    {
     "data": {
      "text/plain": [
       "count      600.000000\n",
       "mean      1620.943200\n",
       "std       2950.565348\n",
       "min          0.000000\n",
       "25%          0.000000\n",
       "50%       1149.000000\n",
       "75%       2287.750000\n",
       "max      41667.000000\n",
       "Name: co_applicant_income, dtype: float64"
      ]
     },
     "execution_count": 65,
     "metadata": {},
     "output_type": "execute_result"
    }
   ],
   "source": [
    "df['co_applicant_income'].describe()"
   ]
  },
  {
   "cell_type": "code",
   "execution_count": 67,
   "metadata": {
    "collapsed": false
   },
   "outputs": [],
   "source": [
    "df['loan_amount'] = df['loan_amount'].fillna(df['loan_amount'].mean())"
   ]
  },
  {
   "cell_type": "code",
   "execution_count": 68,
   "metadata": {
    "collapsed": false
   },
   "outputs": [
    {
     "data": {
      "text/plain": [
       "count    600.000000\n",
       "mean     146.208981\n",
       "std       83.581972\n",
       "min        9.000000\n",
       "25%      100.750000\n",
       "50%      128.500000\n",
       "75%      162.500000\n",
       "max      700.000000\n",
       "Name: loan_amount, dtype: float64"
      ]
     },
     "execution_count": 68,
     "metadata": {},
     "output_type": "execute_result"
    }
   ],
   "source": [
    "df['loan_amount'].describe()"
   ]
  },
  {
   "cell_type": "code",
   "execution_count": 69,
   "metadata": {
    "collapsed": false
   },
   "outputs": [
    {
     "data": {
      "text/plain": [
       "Index(['loan_id', 'gender', 'marital_status', 'dependents', 'qualification',\n",
       "       'is_self_employed', 'applicant_income', 'co_applicant_income',\n",
       "       'loan_amount', 'loan_amount_term', 'credit_history', 'property_area'],\n",
       "      dtype='object')"
      ]
     },
     "execution_count": 69,
     "metadata": {},
     "output_type": "execute_result"
    }
   ],
   "source": [
    "df.columns"
   ]
  },
  {
   "cell_type": "code",
   "execution_count": 71,
   "metadata": {
    "collapsed": true
   },
   "outputs": [],
   "source": [
    "df['loan_amount_term'] = df['loan_amount_term'].fillna(df['loan_amount_term'].mean())"
   ]
  },
  {
   "cell_type": "code",
   "execution_count": 72,
   "metadata": {
    "collapsed": false
   },
   "outputs": [
    {
     "data": {
      "text/plain": [
       "count    600.00000\n",
       "mean     342.18430\n",
       "std       64.39346\n",
       "min       12.00000\n",
       "25%      360.00000\n",
       "50%      360.00000\n",
       "75%      360.00000\n",
       "max      480.00000\n",
       "Name: loan_amount_term, dtype: float64"
      ]
     },
     "execution_count": 72,
     "metadata": {},
     "output_type": "execute_result"
    }
   ],
   "source": [
    "df['loan_amount_term'].describe()"
   ]
  },
  {
   "cell_type": "code",
   "execution_count": 74,
   "metadata": {
    "collapsed": false
   },
   "outputs": [
    {
     "data": {
      "text/plain": [
       "1.0    465\n",
       "0.0     88\n",
       "Name: credit_history, dtype: int64"
      ]
     },
     "execution_count": 74,
     "metadata": {},
     "output_type": "execute_result"
    }
   ],
   "source": [
    "df['credit_history'].value_counts()"
   ]
  },
  {
   "cell_type": "code",
   "execution_count": 75,
   "metadata": {
    "collapsed": true
   },
   "outputs": [],
   "source": [
    "df['credit_history'] = df['credit_history'].fillna(1.0)"
   ]
  },
  {
   "cell_type": "code",
   "execution_count": 76,
   "metadata": {
    "collapsed": false
   },
   "outputs": [
    {
     "data": {
      "text/plain": [
       "1.0    512\n",
       "0.0     88\n",
       "Name: credit_history, dtype: int64"
      ]
     },
     "execution_count": 76,
     "metadata": {},
     "output_type": "execute_result"
    }
   ],
   "source": [
    "df['credit_history'].value_counts()"
   ]
  },
  {
   "cell_type": "code",
   "execution_count": 79,
   "metadata": {
    "collapsed": false
   },
   "outputs": [
    {
     "data": {
      "text/plain": [
       "Semiurban    230\n",
       "Urban        195\n",
       "Rural        175\n",
       "Name: property_area, dtype: int64"
      ]
     },
     "execution_count": 79,
     "metadata": {},
     "output_type": "execute_result"
    }
   ],
   "source": [
    "df['property_area'].value_counts()"
   ]
  },
  {
   "cell_type": "code",
   "execution_count": 83,
   "metadata": {
    "collapsed": false
   },
   "outputs": [],
   "source": [
    "df = pd.get_dummies(df)"
   ]
  },
  {
   "cell_type": "code",
   "execution_count": 84,
   "metadata": {
    "collapsed": false
   },
   "outputs": [
    {
     "data": {
      "text/html": [
       "<div>\n",
       "<table border=\"1\" class=\"dataframe\">\n",
       "  <thead>\n",
       "    <tr style=\"text-align: right;\">\n",
       "      <th></th>\n",
       "      <th>loan_id</th>\n",
       "      <th>gender</th>\n",
       "      <th>marital_status</th>\n",
       "      <th>dependents</th>\n",
       "      <th>qualification</th>\n",
       "      <th>is_self_employed</th>\n",
       "      <th>applicant_income</th>\n",
       "      <th>co_applicant_income</th>\n",
       "      <th>loan_amount</th>\n",
       "      <th>loan_amount_term</th>\n",
       "      <th>credit_history</th>\n",
       "      <th>property_area_Rural</th>\n",
       "      <th>property_area_Semiurban</th>\n",
       "      <th>property_area_Urban</th>\n",
       "    </tr>\n",
       "  </thead>\n",
       "  <tbody>\n",
       "    <tr>\n",
       "      <th>0</th>\n",
       "      <td>1</td>\n",
       "      <td>1</td>\n",
       "      <td>0</td>\n",
       "      <td>0</td>\n",
       "      <td>1</td>\n",
       "      <td>0</td>\n",
       "      <td>5849</td>\n",
       "      <td>0.0</td>\n",
       "      <td>146.208981</td>\n",
       "      <td>360.0</td>\n",
       "      <td>1.0</td>\n",
       "      <td>0.0</td>\n",
       "      <td>0.0</td>\n",
       "      <td>1.0</td>\n",
       "    </tr>\n",
       "    <tr>\n",
       "      <th>1</th>\n",
       "      <td>2</td>\n",
       "      <td>1</td>\n",
       "      <td>1</td>\n",
       "      <td>1</td>\n",
       "      <td>1</td>\n",
       "      <td>0</td>\n",
       "      <td>4583</td>\n",
       "      <td>1508.0</td>\n",
       "      <td>128.000000</td>\n",
       "      <td>360.0</td>\n",
       "      <td>1.0</td>\n",
       "      <td>1.0</td>\n",
       "      <td>0.0</td>\n",
       "      <td>0.0</td>\n",
       "    </tr>\n",
       "    <tr>\n",
       "      <th>2</th>\n",
       "      <td>3</td>\n",
       "      <td>1</td>\n",
       "      <td>1</td>\n",
       "      <td>0</td>\n",
       "      <td>1</td>\n",
       "      <td>1</td>\n",
       "      <td>3000</td>\n",
       "      <td>0.0</td>\n",
       "      <td>66.000000</td>\n",
       "      <td>360.0</td>\n",
       "      <td>1.0</td>\n",
       "      <td>0.0</td>\n",
       "      <td>0.0</td>\n",
       "      <td>1.0</td>\n",
       "    </tr>\n",
       "    <tr>\n",
       "      <th>3</th>\n",
       "      <td>4</td>\n",
       "      <td>1</td>\n",
       "      <td>1</td>\n",
       "      <td>0</td>\n",
       "      <td>0</td>\n",
       "      <td>0</td>\n",
       "      <td>2583</td>\n",
       "      <td>2358.0</td>\n",
       "      <td>120.000000</td>\n",
       "      <td>360.0</td>\n",
       "      <td>1.0</td>\n",
       "      <td>0.0</td>\n",
       "      <td>0.0</td>\n",
       "      <td>1.0</td>\n",
       "    </tr>\n",
       "    <tr>\n",
       "      <th>4</th>\n",
       "      <td>5</td>\n",
       "      <td>1</td>\n",
       "      <td>0</td>\n",
       "      <td>0</td>\n",
       "      <td>1</td>\n",
       "      <td>0</td>\n",
       "      <td>6000</td>\n",
       "      <td>0.0</td>\n",
       "      <td>141.000000</td>\n",
       "      <td>360.0</td>\n",
       "      <td>1.0</td>\n",
       "      <td>0.0</td>\n",
       "      <td>0.0</td>\n",
       "      <td>1.0</td>\n",
       "    </tr>\n",
       "  </tbody>\n",
       "</table>\n",
       "</div>"
      ],
      "text/plain": [
       "   loan_id  gender  marital_status  dependents  qualification  \\\n",
       "0        1       1               0           0              1   \n",
       "1        2       1               1           1              1   \n",
       "2        3       1               1           0              1   \n",
       "3        4       1               1           0              0   \n",
       "4        5       1               0           0              1   \n",
       "\n",
       "   is_self_employed  applicant_income  co_applicant_income  loan_amount  \\\n",
       "0                 0              5849                  0.0   146.208981   \n",
       "1                 0              4583               1508.0   128.000000   \n",
       "2                 1              3000                  0.0    66.000000   \n",
       "3                 0              2583               2358.0   120.000000   \n",
       "4                 0              6000                  0.0   141.000000   \n",
       "\n",
       "   loan_amount_term  credit_history  property_area_Rural  \\\n",
       "0             360.0             1.0                  0.0   \n",
       "1             360.0             1.0                  1.0   \n",
       "2             360.0             1.0                  0.0   \n",
       "3             360.0             1.0                  0.0   \n",
       "4             360.0             1.0                  0.0   \n",
       "\n",
       "   property_area_Semiurban  property_area_Urban  \n",
       "0                      0.0                  1.0  \n",
       "1                      0.0                  0.0  \n",
       "2                      0.0                  1.0  \n",
       "3                      0.0                  1.0  \n",
       "4                      0.0                  1.0  "
      ]
     },
     "execution_count": 84,
     "metadata": {},
     "output_type": "execute_result"
    }
   ],
   "source": [
    "df.head()"
   ]
  },
  {
   "cell_type": "code",
   "execution_count": 85,
   "metadata": {
    "collapsed": false
   },
   "outputs": [
    {
     "data": {
      "text/html": [
       "<div>\n",
       "<table border=\"1\" class=\"dataframe\">\n",
       "  <thead>\n",
       "    <tr style=\"text-align: right;\">\n",
       "      <th></th>\n",
       "      <th>loan_id</th>\n",
       "      <th>gender</th>\n",
       "      <th>marital_status</th>\n",
       "      <th>dependents</th>\n",
       "      <th>qualification</th>\n",
       "      <th>is_self_employed</th>\n",
       "      <th>applicant_income</th>\n",
       "      <th>co_applicant_income</th>\n",
       "      <th>loan_amount</th>\n",
       "      <th>loan_amount_term</th>\n",
       "      <th>credit_history</th>\n",
       "      <th>property_area_Rural</th>\n",
       "      <th>property_area_Semiurban</th>\n",
       "      <th>property_area_Urban</th>\n",
       "    </tr>\n",
       "  </thead>\n",
       "  <tbody>\n",
       "    <tr>\n",
       "      <th>loan_id</th>\n",
       "      <td>NaN</td>\n",
       "      <td>NaN</td>\n",
       "      <td>NaN</td>\n",
       "      <td>NaN</td>\n",
       "      <td>NaN</td>\n",
       "      <td>NaN</td>\n",
       "      <td>NaN</td>\n",
       "      <td>NaN</td>\n",
       "      <td>NaN</td>\n",
       "      <td>NaN</td>\n",
       "      <td>NaN</td>\n",
       "      <td>NaN</td>\n",
       "      <td>NaN</td>\n",
       "      <td>NaN</td>\n",
       "    </tr>\n",
       "    <tr>\n",
       "      <th>gender</th>\n",
       "      <td>NaN</td>\n",
       "      <td>NaN</td>\n",
       "      <td>NaN</td>\n",
       "      <td>NaN</td>\n",
       "      <td>NaN</td>\n",
       "      <td>NaN</td>\n",
       "      <td>NaN</td>\n",
       "      <td>NaN</td>\n",
       "      <td>NaN</td>\n",
       "      <td>NaN</td>\n",
       "      <td>NaN</td>\n",
       "      <td>NaN</td>\n",
       "      <td>NaN</td>\n",
       "      <td>NaN</td>\n",
       "    </tr>\n",
       "    <tr>\n",
       "      <th>marital_status</th>\n",
       "      <td>NaN</td>\n",
       "      <td>NaN</td>\n",
       "      <td>NaN</td>\n",
       "      <td>NaN</td>\n",
       "      <td>NaN</td>\n",
       "      <td>NaN</td>\n",
       "      <td>NaN</td>\n",
       "      <td>NaN</td>\n",
       "      <td>NaN</td>\n",
       "      <td>NaN</td>\n",
       "      <td>NaN</td>\n",
       "      <td>NaN</td>\n",
       "      <td>NaN</td>\n",
       "      <td>NaN</td>\n",
       "    </tr>\n",
       "    <tr>\n",
       "      <th>dependents</th>\n",
       "      <td>NaN</td>\n",
       "      <td>NaN</td>\n",
       "      <td>NaN</td>\n",
       "      <td>NaN</td>\n",
       "      <td>NaN</td>\n",
       "      <td>NaN</td>\n",
       "      <td>NaN</td>\n",
       "      <td>NaN</td>\n",
       "      <td>NaN</td>\n",
       "      <td>NaN</td>\n",
       "      <td>NaN</td>\n",
       "      <td>NaN</td>\n",
       "      <td>NaN</td>\n",
       "      <td>NaN</td>\n",
       "    </tr>\n",
       "    <tr>\n",
       "      <th>qualification</th>\n",
       "      <td>NaN</td>\n",
       "      <td>NaN</td>\n",
       "      <td>NaN</td>\n",
       "      <td>NaN</td>\n",
       "      <td>NaN</td>\n",
       "      <td>NaN</td>\n",
       "      <td>NaN</td>\n",
       "      <td>NaN</td>\n",
       "      <td>NaN</td>\n",
       "      <td>NaN</td>\n",
       "      <td>NaN</td>\n",
       "      <td>NaN</td>\n",
       "      <td>NaN</td>\n",
       "      <td>NaN</td>\n",
       "    </tr>\n",
       "    <tr>\n",
       "      <th>is_self_employed</th>\n",
       "      <td>NaN</td>\n",
       "      <td>NaN</td>\n",
       "      <td>NaN</td>\n",
       "      <td>NaN</td>\n",
       "      <td>NaN</td>\n",
       "      <td>NaN</td>\n",
       "      <td>NaN</td>\n",
       "      <td>NaN</td>\n",
       "      <td>NaN</td>\n",
       "      <td>NaN</td>\n",
       "      <td>NaN</td>\n",
       "      <td>NaN</td>\n",
       "      <td>NaN</td>\n",
       "      <td>NaN</td>\n",
       "    </tr>\n",
       "    <tr>\n",
       "      <th>applicant_income</th>\n",
       "      <td>NaN</td>\n",
       "      <td>NaN</td>\n",
       "      <td>NaN</td>\n",
       "      <td>NaN</td>\n",
       "      <td>NaN</td>\n",
       "      <td>NaN</td>\n",
       "      <td>NaN</td>\n",
       "      <td>NaN</td>\n",
       "      <td>NaN</td>\n",
       "      <td>NaN</td>\n",
       "      <td>NaN</td>\n",
       "      <td>NaN</td>\n",
       "      <td>NaN</td>\n",
       "      <td>NaN</td>\n",
       "    </tr>\n",
       "    <tr>\n",
       "      <th>co_applicant_income</th>\n",
       "      <td>NaN</td>\n",
       "      <td>NaN</td>\n",
       "      <td>NaN</td>\n",
       "      <td>NaN</td>\n",
       "      <td>NaN</td>\n",
       "      <td>NaN</td>\n",
       "      <td>NaN</td>\n",
       "      <td>NaN</td>\n",
       "      <td>NaN</td>\n",
       "      <td>NaN</td>\n",
       "      <td>NaN</td>\n",
       "      <td>NaN</td>\n",
       "      <td>NaN</td>\n",
       "      <td>NaN</td>\n",
       "    </tr>\n",
       "    <tr>\n",
       "      <th>loan_amount</th>\n",
       "      <td>NaN</td>\n",
       "      <td>NaN</td>\n",
       "      <td>NaN</td>\n",
       "      <td>NaN</td>\n",
       "      <td>NaN</td>\n",
       "      <td>NaN</td>\n",
       "      <td>NaN</td>\n",
       "      <td>NaN</td>\n",
       "      <td>NaN</td>\n",
       "      <td>NaN</td>\n",
       "      <td>NaN</td>\n",
       "      <td>NaN</td>\n",
       "      <td>NaN</td>\n",
       "      <td>NaN</td>\n",
       "    </tr>\n",
       "    <tr>\n",
       "      <th>loan_amount_term</th>\n",
       "      <td>NaN</td>\n",
       "      <td>NaN</td>\n",
       "      <td>NaN</td>\n",
       "      <td>NaN</td>\n",
       "      <td>NaN</td>\n",
       "      <td>NaN</td>\n",
       "      <td>NaN</td>\n",
       "      <td>NaN</td>\n",
       "      <td>NaN</td>\n",
       "      <td>NaN</td>\n",
       "      <td>NaN</td>\n",
       "      <td>NaN</td>\n",
       "      <td>NaN</td>\n",
       "      <td>NaN</td>\n",
       "    </tr>\n",
       "    <tr>\n",
       "      <th>credit_history</th>\n",
       "      <td>NaN</td>\n",
       "      <td>NaN</td>\n",
       "      <td>NaN</td>\n",
       "      <td>NaN</td>\n",
       "      <td>NaN</td>\n",
       "      <td>NaN</td>\n",
       "      <td>NaN</td>\n",
       "      <td>NaN</td>\n",
       "      <td>NaN</td>\n",
       "      <td>NaN</td>\n",
       "      <td>NaN</td>\n",
       "      <td>NaN</td>\n",
       "      <td>NaN</td>\n",
       "      <td>NaN</td>\n",
       "    </tr>\n",
       "    <tr>\n",
       "      <th>property_area_Rural</th>\n",
       "      <td>NaN</td>\n",
       "      <td>NaN</td>\n",
       "      <td>NaN</td>\n",
       "      <td>NaN</td>\n",
       "      <td>NaN</td>\n",
       "      <td>NaN</td>\n",
       "      <td>NaN</td>\n",
       "      <td>NaN</td>\n",
       "      <td>NaN</td>\n",
       "      <td>NaN</td>\n",
       "      <td>NaN</td>\n",
       "      <td>NaN</td>\n",
       "      <td>NaN</td>\n",
       "      <td>NaN</td>\n",
       "    </tr>\n",
       "    <tr>\n",
       "      <th>property_area_Semiurban</th>\n",
       "      <td>NaN</td>\n",
       "      <td>NaN</td>\n",
       "      <td>NaN</td>\n",
       "      <td>NaN</td>\n",
       "      <td>NaN</td>\n",
       "      <td>NaN</td>\n",
       "      <td>NaN</td>\n",
       "      <td>NaN</td>\n",
       "      <td>NaN</td>\n",
       "      <td>NaN</td>\n",
       "      <td>NaN</td>\n",
       "      <td>NaN</td>\n",
       "      <td>NaN</td>\n",
       "      <td>NaN</td>\n",
       "    </tr>\n",
       "    <tr>\n",
       "      <th>property_area_Urban</th>\n",
       "      <td>NaN</td>\n",
       "      <td>NaN</td>\n",
       "      <td>NaN</td>\n",
       "      <td>NaN</td>\n",
       "      <td>NaN</td>\n",
       "      <td>NaN</td>\n",
       "      <td>NaN</td>\n",
       "      <td>NaN</td>\n",
       "      <td>NaN</td>\n",
       "      <td>NaN</td>\n",
       "      <td>NaN</td>\n",
       "      <td>NaN</td>\n",
       "      <td>NaN</td>\n",
       "      <td>NaN</td>\n",
       "    </tr>\n",
       "  </tbody>\n",
       "</table>\n",
       "</div>"
      ],
      "text/plain": [
       "                         loan_id  gender  marital_status  dependents  \\\n",
       "loan_id                      NaN     NaN             NaN         NaN   \n",
       "gender                       NaN     NaN             NaN         NaN   \n",
       "marital_status               NaN     NaN             NaN         NaN   \n",
       "dependents                   NaN     NaN             NaN         NaN   \n",
       "qualification                NaN     NaN             NaN         NaN   \n",
       "is_self_employed             NaN     NaN             NaN         NaN   \n",
       "applicant_income             NaN     NaN             NaN         NaN   \n",
       "co_applicant_income          NaN     NaN             NaN         NaN   \n",
       "loan_amount                  NaN     NaN             NaN         NaN   \n",
       "loan_amount_term             NaN     NaN             NaN         NaN   \n",
       "credit_history               NaN     NaN             NaN         NaN   \n",
       "property_area_Rural          NaN     NaN             NaN         NaN   \n",
       "property_area_Semiurban      NaN     NaN             NaN         NaN   \n",
       "property_area_Urban          NaN     NaN             NaN         NaN   \n",
       "\n",
       "                         qualification  is_self_employed  applicant_income  \\\n",
       "loan_id                            NaN               NaN               NaN   \n",
       "gender                             NaN               NaN               NaN   \n",
       "marital_status                     NaN               NaN               NaN   \n",
       "dependents                         NaN               NaN               NaN   \n",
       "qualification                      NaN               NaN               NaN   \n",
       "is_self_employed                   NaN               NaN               NaN   \n",
       "applicant_income                   NaN               NaN               NaN   \n",
       "co_applicant_income                NaN               NaN               NaN   \n",
       "loan_amount                        NaN               NaN               NaN   \n",
       "loan_amount_term                   NaN               NaN               NaN   \n",
       "credit_history                     NaN               NaN               NaN   \n",
       "property_area_Rural                NaN               NaN               NaN   \n",
       "property_area_Semiurban            NaN               NaN               NaN   \n",
       "property_area_Urban                NaN               NaN               NaN   \n",
       "\n",
       "                         co_applicant_income  loan_amount  loan_amount_term  \\\n",
       "loan_id                                  NaN          NaN               NaN   \n",
       "gender                                   NaN          NaN               NaN   \n",
       "marital_status                           NaN          NaN               NaN   \n",
       "dependents                               NaN          NaN               NaN   \n",
       "qualification                            NaN          NaN               NaN   \n",
       "is_self_employed                         NaN          NaN               NaN   \n",
       "applicant_income                         NaN          NaN               NaN   \n",
       "co_applicant_income                      NaN          NaN               NaN   \n",
       "loan_amount                              NaN          NaN               NaN   \n",
       "loan_amount_term                         NaN          NaN               NaN   \n",
       "credit_history                           NaN          NaN               NaN   \n",
       "property_area_Rural                      NaN          NaN               NaN   \n",
       "property_area_Semiurban                  NaN          NaN               NaN   \n",
       "property_area_Urban                      NaN          NaN               NaN   \n",
       "\n",
       "                         credit_history  property_area_Rural  \\\n",
       "loan_id                             NaN                  NaN   \n",
       "gender                              NaN                  NaN   \n",
       "marital_status                      NaN                  NaN   \n",
       "dependents                          NaN                  NaN   \n",
       "qualification                       NaN                  NaN   \n",
       "is_self_employed                    NaN                  NaN   \n",
       "applicant_income                    NaN                  NaN   \n",
       "co_applicant_income                 NaN                  NaN   \n",
       "loan_amount                         NaN                  NaN   \n",
       "loan_amount_term                    NaN                  NaN   \n",
       "credit_history                      NaN                  NaN   \n",
       "property_area_Rural                 NaN                  NaN   \n",
       "property_area_Semiurban             NaN                  NaN   \n",
       "property_area_Urban                 NaN                  NaN   \n",
       "\n",
       "                         property_area_Semiurban  property_area_Urban  \n",
       "loan_id                                      NaN                  NaN  \n",
       "gender                                       NaN                  NaN  \n",
       "marital_status                               NaN                  NaN  \n",
       "dependents                                   NaN                  NaN  \n",
       "qualification                                NaN                  NaN  \n",
       "is_self_employed                             NaN                  NaN  \n",
       "applicant_income                             NaN                  NaN  \n",
       "co_applicant_income                          NaN                  NaN  \n",
       "loan_amount                                  NaN                  NaN  \n",
       "loan_amount_term                             NaN                  NaN  \n",
       "credit_history                               NaN                  NaN  \n",
       "property_area_Rural                          NaN                  NaN  \n",
       "property_area_Semiurban                      NaN                  NaN  \n",
       "property_area_Urban                          NaN                  NaN  "
      ]
     },
     "execution_count": 85,
     "metadata": {},
     "output_type": "execute_result"
    }
   ],
   "source": [
    "df.corr()[((df.corr() < -0.85) | (df.corr() > 0.85)) & (df.corr() != 1)]"
   ]
  },
  {
   "cell_type": "code",
   "execution_count": 89,
   "metadata": {
    "collapsed": false
   },
   "outputs": [
    {
     "data": {
      "text/plain": [
       "{'boxes': [<matplotlib.lines.Line2D at 0x1313b65e470>],\n",
       " 'caps': [<matplotlib.lines.Line2D at 0x1313b663e10>,\n",
       "  <matplotlib.lines.Line2D at 0x1313b663f98>],\n",
       " 'fliers': [<matplotlib.lines.Line2D at 0x1313b669f98>],\n",
       " 'means': [],\n",
       " 'medians': [<matplotlib.lines.Line2D at 0x1313b6697f0>],\n",
       " 'whiskers': [<matplotlib.lines.Line2D at 0x1313b65eda0>,\n",
       "  <matplotlib.lines.Line2D at 0x1313b65ef28>]}"
      ]
     },
     "execution_count": 89,
     "metadata": {},
     "output_type": "execute_result"
    },
    {
     "data": {
      "image/png": "[encoded data removed]",
      "text/plain": [
       "<matplotlib.figure.Figure at 0x1313b601898>"
      ]
     },
     "metadata": {},
     "output_type": "display_data"
    }
   ],
   "source": [
    "df.boxplot(column='applicant_income',return_type='dict')"
   ]
  },
  {
   "cell_type": "code",
   "execution_count": 90,
   "metadata": {
    "collapsed": true
   },
   "outputs": [],
   "source": [
    "X_train = df[:100]"
   ]
  },
  {
   "cell_type": "code",
   "execution_count": 92,
   "metadata": {
    "collapsed": false
   },
   "outputs": [
    {
     "data": {
      "text/html": [
       "<div>\n",
       "<table border=\"1\" class=\"dataframe\">\n",
       "  <thead>\n",
       "    <tr style=\"text-align: right;\">\n",
       "      <th></th>\n",
       "      <th>loan_id</th>\n",
       "      <th>gender</th>\n",
       "      <th>marital_status</th>\n",
       "      <th>dependents</th>\n",
       "      <th>qualification</th>\n",
       "      <th>is_self_employed</th>\n",
       "      <th>applicant_income</th>\n",
       "      <th>co_applicant_income</th>\n",
       "      <th>loan_amount</th>\n",
       "      <th>loan_amount_term</th>\n",
       "      <th>credit_history</th>\n",
       "      <th>property_area_Rural</th>\n",
       "      <th>property_area_Semiurban</th>\n",
       "      <th>property_area_Urban</th>\n",
       "    </tr>\n",
       "  </thead>\n",
       "  <tbody>\n",
       "    <tr>\n",
       "      <th>95</th>\n",
       "      <td>96</td>\n",
       "      <td>1</td>\n",
       "      <td>0</td>\n",
       "      <td>0</td>\n",
       "      <td>1</td>\n",
       "      <td>0</td>\n",
       "      <td>6782</td>\n",
       "      <td>0.0</td>\n",
       "      <td>146.208981</td>\n",
       "      <td>360.0</td>\n",
       "      <td>1.0</td>\n",
       "      <td>0.0</td>\n",
       "      <td>0.0</td>\n",
       "      <td>1.0</td>\n",
       "    </tr>\n",
       "    <tr>\n",
       "      <th>96</th>\n",
       "      <td>97</td>\n",
       "      <td>0</td>\n",
       "      <td>1</td>\n",
       "      <td>0</td>\n",
       "      <td>1</td>\n",
       "      <td>0</td>\n",
       "      <td>2484</td>\n",
       "      <td>2302.0</td>\n",
       "      <td>137.000000</td>\n",
       "      <td>360.0</td>\n",
       "      <td>1.0</td>\n",
       "      <td>0.0</td>\n",
       "      <td>1.0</td>\n",
       "      <td>0.0</td>\n",
       "    </tr>\n",
       "    <tr>\n",
       "      <th>97</th>\n",
       "      <td>98</td>\n",
       "      <td>1</td>\n",
       "      <td>1</td>\n",
       "      <td>0</td>\n",
       "      <td>1</td>\n",
       "      <td>0</td>\n",
       "      <td>1977</td>\n",
       "      <td>997.0</td>\n",
       "      <td>50.000000</td>\n",
       "      <td>360.0</td>\n",
       "      <td>1.0</td>\n",
       "      <td>0.0</td>\n",
       "      <td>1.0</td>\n",
       "      <td>0.0</td>\n",
       "    </tr>\n",
       "    <tr>\n",
       "      <th>98</th>\n",
       "      <td>99</td>\n",
       "      <td>1</td>\n",
       "      <td>1</td>\n",
       "      <td>0</td>\n",
       "      <td>0</td>\n",
       "      <td>0</td>\n",
       "      <td>4188</td>\n",
       "      <td>0.0</td>\n",
       "      <td>115.000000</td>\n",
       "      <td>180.0</td>\n",
       "      <td>1.0</td>\n",
       "      <td>0.0</td>\n",
       "      <td>1.0</td>\n",
       "      <td>0.0</td>\n",
       "    </tr>\n",
       "    <tr>\n",
       "      <th>99</th>\n",
       "      <td>100</td>\n",
       "      <td>1</td>\n",
       "      <td>1</td>\n",
       "      <td>0</td>\n",
       "      <td>1</td>\n",
       "      <td>0</td>\n",
       "      <td>1759</td>\n",
       "      <td>3541.0</td>\n",
       "      <td>131.000000</td>\n",
       "      <td>360.0</td>\n",
       "      <td>1.0</td>\n",
       "      <td>0.0</td>\n",
       "      <td>1.0</td>\n",
       "      <td>0.0</td>\n",
       "    </tr>\n",
       "  </tbody>\n",
       "</table>\n",
       "</div>"
      ],
      "text/plain": [
       "    loan_id  gender  marital_status  dependents  qualification  \\\n",
       "95       96       1               0           0              1   \n",
       "96       97       0               1           0              1   \n",
       "97       98       1               1           0              1   \n",
       "98       99       1               1           0              0   \n",
       "99      100       1               1           0              1   \n",
       "\n",
       "    is_self_employed  applicant_income  co_applicant_income  loan_amount  \\\n",
       "95                 0              6782                  0.0   146.208981   \n",
       "96                 0              2484               2302.0   137.000000   \n",
       "97                 0              1977                997.0    50.000000   \n",
       "98                 0              4188                  0.0   115.000000   \n",
       "99                 0              1759               3541.0   131.000000   \n",
       "\n",
       "    loan_amount_term  credit_history  property_area_Rural  \\\n",
       "95             360.0             1.0                  0.0   \n",
       "96             360.0             1.0                  0.0   \n",
       "97             360.0             1.0                  0.0   \n",
       "98             180.0             1.0                  0.0   \n",
       "99             360.0             1.0                  0.0   \n",
       "\n",
       "    property_area_Semiurban  property_area_Urban  \n",
       "95                      0.0                  1.0  \n",
       "96                      1.0                  0.0  \n",
       "97                      1.0                  0.0  \n",
       "98                      1.0                  0.0  \n",
       "99                      1.0                  0.0  "
      ]
     },
     "execution_count": 92,
     "metadata": {},
     "output_type": "execute_result"
    }
   ],
   "source": [
    "X_train.tail()"
   ]
  },
  {
   "cell_type": "code",
   "execution_count": 93,
   "metadata": {
    "collapsed": true
   },
   "outputs": [],
   "source": [
    "X_test = df[100:]"
   ]
  },
  {
   "cell_type": "code",
   "execution_count": 94,
   "metadata": {
    "collapsed": false
   },
   "outputs": [
    {
     "data": {
      "text/html": [
       "<div>\n",
       "<table border=\"1\" class=\"dataframe\">\n",
       "  <thead>\n",
       "    <tr style=\"text-align: right;\">\n",
       "      <th></th>\n",
       "      <th>loan_id</th>\n",
       "      <th>gender</th>\n",
       "      <th>marital_status</th>\n",
       "      <th>dependents</th>\n",
       "      <th>qualification</th>\n",
       "      <th>is_self_employed</th>\n",
       "      <th>applicant_income</th>\n",
       "      <th>co_applicant_income</th>\n",
       "      <th>loan_amount</th>\n",
       "      <th>loan_amount_term</th>\n",
       "      <th>credit_history</th>\n",
       "      <th>property_area_Rural</th>\n",
       "      <th>property_area_Semiurban</th>\n",
       "      <th>property_area_Urban</th>\n",
       "    </tr>\n",
       "  </thead>\n",
       "  <tbody>\n",
       "    <tr>\n",
       "      <th>0</th>\n",
       "      <td>1349</td>\n",
       "      <td>1</td>\n",
       "      <td>0</td>\n",
       "      <td>0</td>\n",
       "      <td>1</td>\n",
       "      <td>0</td>\n",
       "      <td>4843</td>\n",
       "      <td>3806.0</td>\n",
       "      <td>151.000000</td>\n",
       "      <td>360.0</td>\n",
       "      <td>1.0</td>\n",
       "      <td>0.0</td>\n",
       "      <td>1.0</td>\n",
       "      <td>0.0</td>\n",
       "    </tr>\n",
       "    <tr>\n",
       "      <th>1</th>\n",
       "      <td>1350</td>\n",
       "      <td>1</td>\n",
       "      <td>1</td>\n",
       "      <td>0</td>\n",
       "      <td>1</td>\n",
       "      <td>0</td>\n",
       "      <td>13650</td>\n",
       "      <td>0.0</td>\n",
       "      <td>146.208981</td>\n",
       "      <td>360.0</td>\n",
       "      <td>1.0</td>\n",
       "      <td>0.0</td>\n",
       "      <td>0.0</td>\n",
       "      <td>1.0</td>\n",
       "    </tr>\n",
       "    <tr>\n",
       "      <th>2</th>\n",
       "      <td>1356</td>\n",
       "      <td>1</td>\n",
       "      <td>1</td>\n",
       "      <td>0</td>\n",
       "      <td>1</td>\n",
       "      <td>0</td>\n",
       "      <td>4652</td>\n",
       "      <td>3583.0</td>\n",
       "      <td>146.208981</td>\n",
       "      <td>360.0</td>\n",
       "      <td>1.0</td>\n",
       "      <td>0.0</td>\n",
       "      <td>1.0</td>\n",
       "      <td>0.0</td>\n",
       "    </tr>\n",
       "    <tr>\n",
       "      <th>3</th>\n",
       "      <td>1357</td>\n",
       "      <td>1</td>\n",
       "      <td>1</td>\n",
       "      <td>0</td>\n",
       "      <td>1</td>\n",
       "      <td>0</td>\n",
       "      <td>3816</td>\n",
       "      <td>754.0</td>\n",
       "      <td>160.000000</td>\n",
       "      <td>360.0</td>\n",
       "      <td>1.0</td>\n",
       "      <td>0.0</td>\n",
       "      <td>0.0</td>\n",
       "      <td>1.0</td>\n",
       "    </tr>\n",
       "    <tr>\n",
       "      <th>4</th>\n",
       "      <td>1369</td>\n",
       "      <td>1</td>\n",
       "      <td>1</td>\n",
       "      <td>2</td>\n",
       "      <td>1</td>\n",
       "      <td>0</td>\n",
       "      <td>11417</td>\n",
       "      <td>1126.0</td>\n",
       "      <td>225.000000</td>\n",
       "      <td>360.0</td>\n",
       "      <td>1.0</td>\n",
       "      <td>0.0</td>\n",
       "      <td>0.0</td>\n",
       "      <td>1.0</td>\n",
       "    </tr>\n",
       "  </tbody>\n",
       "</table>\n",
       "</div>"
      ],
      "text/plain": [
       "   loan_id  gender  marital_status  dependents  qualification  \\\n",
       "0     1349       1               0           0              1   \n",
       "1     1350       1               1           0              1   \n",
       "2     1356       1               1           0              1   \n",
       "3     1357       1               1           0              1   \n",
       "4     1369       1               1           2              1   \n",
       "\n",
       "   is_self_employed  applicant_income  co_applicant_income  loan_amount  \\\n",
       "0                 0              4843               3806.0   151.000000   \n",
       "1                 0             13650                  0.0   146.208981   \n",
       "2                 0              4652               3583.0   146.208981   \n",
       "3                 0              3816                754.0   160.000000   \n",
       "4                 0             11417               1126.0   225.000000   \n",
       "\n",
       "   loan_amount_term  credit_history  property_area_Rural  \\\n",
       "0             360.0             1.0                  0.0   \n",
       "1             360.0             1.0                  0.0   \n",
       "2             360.0             1.0                  0.0   \n",
       "3             360.0             1.0                  0.0   \n",
       "4             360.0             1.0                  0.0   \n",
       "\n",
       "   property_area_Semiurban  property_area_Urban  \n",
       "0                      1.0                  0.0  \n",
       "1                      0.0                  1.0  \n",
       "2                      1.0                  0.0  \n",
       "3                      0.0                  1.0  \n",
       "4                      0.0                  1.0  "
      ]
     },
     "execution_count": 94,
     "metadata": {},
     "output_type": "execute_result"
    }
   ],
   "source": [
    "X_test.head()"
   ]
  },
  {
   "cell_type": "code",
   "execution_count": 100,
   "metadata": {
    "collapsed": false
   },
   "outputs": [
    {
     "name": "stderr",
     "output_type": "stream",
     "text": [
      "D:\\anaconda\\lib\\site-packages\\ipykernel\\__main__.py:1: SettingWithCopyWarning: \n",
      "A value is trying to be set on a copy of a slice from a DataFrame.\n",
      "Try using .loc[row_indexer,col_indexer] = value instead\n",
      "\n",
      "See the caveats in the documentation: http://pandas.pydata.org/pandas-docs/stable/indexing.html#indexing-view-versus-copy\n",
      "  if __name__ == '__main__':\n"
     ]
    }
   ],
   "source": [
    "X_train['status'] = pd.read_csv('train_prediction.csv')['status']"
   ]
  },
  {
   "cell_type": "code",
   "execution_count": 101,
   "metadata": {
    "collapsed": false
   },
   "outputs": [
    {
     "data": {
      "text/html": [
       "<div>\n",
       "<table border=\"1\" class=\"dataframe\">\n",
       "  <thead>\n",
       "    <tr style=\"text-align: right;\">\n",
       "      <th></th>\n",
       "      <th>loan_id</th>\n",
       "      <th>gender</th>\n",
       "      <th>marital_status</th>\n",
       "      <th>dependents</th>\n",
       "      <th>qualification</th>\n",
       "      <th>is_self_employed</th>\n",
       "      <th>applicant_income</th>\n",
       "      <th>co_applicant_income</th>\n",
       "      <th>loan_amount</th>\n",
       "      <th>loan_amount_term</th>\n",
       "      <th>credit_history</th>\n",
       "      <th>property_area_Rural</th>\n",
       "      <th>property_area_Semiurban</th>\n",
       "      <th>property_area_Urban</th>\n",
       "      <th>status</th>\n",
       "    </tr>\n",
       "  </thead>\n",
       "  <tbody>\n",
       "    <tr>\n",
       "      <th>0</th>\n",
       "      <td>1</td>\n",
       "      <td>1</td>\n",
       "      <td>0</td>\n",
       "      <td>0</td>\n",
       "      <td>1</td>\n",
       "      <td>0</td>\n",
       "      <td>5849</td>\n",
       "      <td>0.0</td>\n",
       "      <td>146.208981</td>\n",
       "      <td>360.0</td>\n",
       "      <td>1.0</td>\n",
       "      <td>0.0</td>\n",
       "      <td>0.0</td>\n",
       "      <td>1.0</td>\n",
       "      <td>Y</td>\n",
       "    </tr>\n",
       "    <tr>\n",
       "      <th>1</th>\n",
       "      <td>2</td>\n",
       "      <td>1</td>\n",
       "      <td>1</td>\n",
       "      <td>1</td>\n",
       "      <td>1</td>\n",
       "      <td>0</td>\n",
       "      <td>4583</td>\n",
       "      <td>1508.0</td>\n",
       "      <td>128.000000</td>\n",
       "      <td>360.0</td>\n",
       "      <td>1.0</td>\n",
       "      <td>1.0</td>\n",
       "      <td>0.0</td>\n",
       "      <td>0.0</td>\n",
       "      <td>N</td>\n",
       "    </tr>\n",
       "    <tr>\n",
       "      <th>2</th>\n",
       "      <td>3</td>\n",
       "      <td>1</td>\n",
       "      <td>1</td>\n",
       "      <td>0</td>\n",
       "      <td>1</td>\n",
       "      <td>1</td>\n",
       "      <td>3000</td>\n",
       "      <td>0.0</td>\n",
       "      <td>66.000000</td>\n",
       "      <td>360.0</td>\n",
       "      <td>1.0</td>\n",
       "      <td>0.0</td>\n",
       "      <td>0.0</td>\n",
       "      <td>1.0</td>\n",
       "      <td>Y</td>\n",
       "    </tr>\n",
       "    <tr>\n",
       "      <th>3</th>\n",
       "      <td>4</td>\n",
       "      <td>1</td>\n",
       "      <td>1</td>\n",
       "      <td>0</td>\n",
       "      <td>0</td>\n",
       "      <td>0</td>\n",
       "      <td>2583</td>\n",
       "      <td>2358.0</td>\n",
       "      <td>120.000000</td>\n",
       "      <td>360.0</td>\n",
       "      <td>1.0</td>\n",
       "      <td>0.0</td>\n",
       "      <td>0.0</td>\n",
       "      <td>1.0</td>\n",
       "      <td>Y</td>\n",
       "    </tr>\n",
       "    <tr>\n",
       "      <th>4</th>\n",
       "      <td>5</td>\n",
       "      <td>1</td>\n",
       "      <td>0</td>\n",
       "      <td>0</td>\n",
       "      <td>1</td>\n",
       "      <td>0</td>\n",
       "      <td>6000</td>\n",
       "      <td>0.0</td>\n",
       "      <td>141.000000</td>\n",
       "      <td>360.0</td>\n",
       "      <td>1.0</td>\n",
       "      <td>0.0</td>\n",
       "      <td>0.0</td>\n",
       "      <td>1.0</td>\n",
       "      <td>Y</td>\n",
       "    </tr>\n",
       "  </tbody>\n",
       "</table>\n",
       "</div>"
      ],
      "text/plain": [
       "   loan_id  gender  marital_status  dependents  qualification  \\\n",
       "0        1       1               0           0              1   \n",
       "1        2       1               1           1              1   \n",
       "2        3       1               1           0              1   \n",
       "3        4       1               1           0              0   \n",
       "4        5       1               0           0              1   \n",
       "\n",
       "   is_self_employed  applicant_income  co_applicant_income  loan_amount  \\\n",
       "0                 0              5849                  0.0   146.208981   \n",
       "1                 0              4583               1508.0   128.000000   \n",
       "2                 1              3000                  0.0    66.000000   \n",
       "3                 0              2583               2358.0   120.000000   \n",
       "4                 0              6000                  0.0   141.000000   \n",
       "\n",
       "   loan_amount_term  credit_history  property_area_Rural  \\\n",
       "0             360.0             1.0                  0.0   \n",
       "1             360.0             1.0                  1.0   \n",
       "2             360.0             1.0                  0.0   \n",
       "3             360.0             1.0                  0.0   \n",
       "4             360.0             1.0                  0.0   \n",
       "\n",
       "   property_area_Semiurban  property_area_Urban status  \n",
       "0                      0.0                  1.0      Y  \n",
       "1                      0.0                  0.0      N  \n",
       "2                      0.0                  1.0      Y  \n",
       "3                      0.0                  1.0      Y  \n",
       "4                      0.0                  1.0      Y  "
      ]
     },
     "execution_count": 101,
     "metadata": {},
     "output_type": "execute_result"
    }
   ],
   "source": [
    "X_train.head()"
   ]
  },
  {
   "cell_type": "code",
   "execution_count": 102,
   "metadata": {
    "collapsed": false
   },
   "outputs": [
    {
     "name": "stderr",
     "output_type": "stream",
     "text": [
      "D:\\anaconda\\lib\\site-packages\\ipykernel\\__main__.py:1: SettingWithCopyWarning: \n",
      "A value is trying to be set on a copy of a slice from a DataFrame.\n",
      "Try using .loc[row_indexer,col_indexer] = value instead\n",
      "\n",
      "See the caveats in the documentation: http://pandas.pydata.org/pandas-docs/stable/indexing.html#indexing-view-versus-copy\n",
      "  if __name__ == '__main__':\n"
     ]
    }
   ],
   "source": [
    "X_train['status'] = pd.Series(np.where(X_train.status.values=='Y',1,0),X_train.index)"
   ]
  },
  {
   "cell_type": "code",
   "execution_count": 103,
   "metadata": {
    "collapsed": false
   },
   "outputs": [
    {
     "data": {
      "text/html": [
       "<div>\n",
       "<table border=\"1\" class=\"dataframe\">\n",
       "  <thead>\n",
       "    <tr style=\"text-align: right;\">\n",
       "      <th></th>\n",
       "      <th>loan_id</th>\n",
       "      <th>gender</th>\n",
       "      <th>marital_status</th>\n",
       "      <th>dependents</th>\n",
       "      <th>qualification</th>\n",
       "      <th>is_self_employed</th>\n",
       "      <th>applicant_income</th>\n",
       "      <th>co_applicant_income</th>\n",
       "      <th>loan_amount</th>\n",
       "      <th>loan_amount_term</th>\n",
       "      <th>credit_history</th>\n",
       "      <th>property_area_Rural</th>\n",
       "      <th>property_area_Semiurban</th>\n",
       "      <th>property_area_Urban</th>\n",
       "      <th>status</th>\n",
       "    </tr>\n",
       "  </thead>\n",
       "  <tbody>\n",
       "    <tr>\n",
       "      <th>0</th>\n",
       "      <td>1</td>\n",
       "      <td>1</td>\n",
       "      <td>0</td>\n",
       "      <td>0</td>\n",
       "      <td>1</td>\n",
       "      <td>0</td>\n",
       "      <td>5849</td>\n",
       "      <td>0.0</td>\n",
       "      <td>146.208981</td>\n",
       "      <td>360.0</td>\n",
       "      <td>1.0</td>\n",
       "      <td>0.0</td>\n",
       "      <td>0.0</td>\n",
       "      <td>1.0</td>\n",
       "      <td>1</td>\n",
       "    </tr>\n",
       "    <tr>\n",
       "      <th>1</th>\n",
       "      <td>2</td>\n",
       "      <td>1</td>\n",
       "      <td>1</td>\n",
       "      <td>1</td>\n",
       "      <td>1</td>\n",
       "      <td>0</td>\n",
       "      <td>4583</td>\n",
       "      <td>1508.0</td>\n",
       "      <td>128.000000</td>\n",
       "      <td>360.0</td>\n",
       "      <td>1.0</td>\n",
       "      <td>1.0</td>\n",
       "      <td>0.0</td>\n",
       "      <td>0.0</td>\n",
       "      <td>0</td>\n",
       "    </tr>\n",
       "    <tr>\n",
       "      <th>2</th>\n",
       "      <td>3</td>\n",
       "      <td>1</td>\n",
       "      <td>1</td>\n",
       "      <td>0</td>\n",
       "      <td>1</td>\n",
       "      <td>1</td>\n",
       "      <td>3000</td>\n",
       "      <td>0.0</td>\n",
       "      <td>66.000000</td>\n",
       "      <td>360.0</td>\n",
       "      <td>1.0</td>\n",
       "      <td>0.0</td>\n",
       "      <td>0.0</td>\n",
       "      <td>1.0</td>\n",
       "      <td>1</td>\n",
       "    </tr>\n",
       "    <tr>\n",
       "      <th>3</th>\n",
       "      <td>4</td>\n",
       "      <td>1</td>\n",
       "      <td>1</td>\n",
       "      <td>0</td>\n",
       "      <td>0</td>\n",
       "      <td>0</td>\n",
       "      <td>2583</td>\n",
       "      <td>2358.0</td>\n",
       "      <td>120.000000</td>\n",
       "      <td>360.0</td>\n",
       "      <td>1.0</td>\n",
       "      <td>0.0</td>\n",
       "      <td>0.0</td>\n",
       "      <td>1.0</td>\n",
       "      <td>1</td>\n",
       "    </tr>\n",
       "    <tr>\n",
       "      <th>4</th>\n",
       "      <td>5</td>\n",
       "      <td>1</td>\n",
       "      <td>0</td>\n",
       "      <td>0</td>\n",
       "      <td>1</td>\n",
       "      <td>0</td>\n",
       "      <td>6000</td>\n",
       "      <td>0.0</td>\n",
       "      <td>141.000000</td>\n",
       "      <td>360.0</td>\n",
       "      <td>1.0</td>\n",
       "      <td>0.0</td>\n",
       "      <td>0.0</td>\n",
       "      <td>1.0</td>\n",
       "      <td>1</td>\n",
       "    </tr>\n",
       "  </tbody>\n",
       "</table>\n",
       "</div>"
      ],
      "text/plain": [
       "   loan_id  gender  marital_status  dependents  qualification  \\\n",
       "0        1       1               0           0              1   \n",
       "1        2       1               1           1              1   \n",
       "2        3       1               1           0              1   \n",
       "3        4       1               1           0              0   \n",
       "4        5       1               0           0              1   \n",
       "\n",
       "   is_self_employed  applicant_income  co_applicant_income  loan_amount  \\\n",
       "0                 0              5849                  0.0   146.208981   \n",
       "1                 0              4583               1508.0   128.000000   \n",
       "2                 1              3000                  0.0    66.000000   \n",
       "3                 0              2583               2358.0   120.000000   \n",
       "4                 0              6000                  0.0   141.000000   \n",
       "\n",
       "   loan_amount_term  credit_history  property_area_Rural  \\\n",
       "0             360.0             1.0                  0.0   \n",
       "1             360.0             1.0                  1.0   \n",
       "2             360.0             1.0                  0.0   \n",
       "3             360.0             1.0                  0.0   \n",
       "4             360.0             1.0                  0.0   \n",
       "\n",
       "   property_area_Semiurban  property_area_Urban  status  \n",
       "0                      0.0                  1.0       1  \n",
       "1                      0.0                  0.0       0  \n",
       "2                      0.0                  1.0       1  \n",
       "3                      0.0                  1.0       1  \n",
       "4                      0.0                  1.0       1  "
      ]
     },
     "execution_count": 103,
     "metadata": {},
     "output_type": "execute_result"
    }
   ],
   "source": [
    "X_train.head()"
   ]
  },
  {
   "cell_type": "code",
   "execution_count": 104,
   "metadata": {
    "collapsed": false
   },
   "outputs": [
    {
     "data": {
      "text/plain": [
       "Index(['loan_id', 'gender', 'marital_status', 'dependents', 'qualification',\n",
       "       'is_self_employed', 'applicant_income', 'co_applicant_income',\n",
       "       'loan_amount', 'loan_amount_term', 'credit_history',\n",
       "       'property_area_Rural', 'property_area_Semiurban', 'property_area_Urban',\n",
       "       'status'],\n",
       "      dtype='object')"
      ]
     },
     "execution_count": 104,
     "metadata": {},
     "output_type": "execute_result"
    }
   ],
   "source": [
    "X_train.columns"
   ]
  },
  {
   "cell_type": "code",
   "execution_count": 105,
   "metadata": {
    "collapsed": true
   },
   "outputs": [],
   "source": [
    "feature = ['gender', 'marital_status', 'dependents', 'qualification',\n",
    "       'is_self_employed', 'applicant_income', 'co_applicant_income',\n",
    "       'loan_amount', 'loan_amount_term', 'credit_history',\n",
    "       'property_area_Rural', 'property_area_Semiurban', 'property_area_Urban']\n",
    "target = 'status'"
   ]
  },
  {
   "cell_type": "code",
   "execution_count": 106,
   "metadata": {
    "collapsed": false
   },
   "outputs": [
    {
     "ename": "NameError",
     "evalue": "name 'gsearch1' is not defined",
     "output_type": "error",
     "traceback": [
      "\u001b[0;31m---------------------------------------------------------------------------\u001b[0m",
      "\u001b[0;31mNameError\u001b[0m                                 Traceback (most recent call last)",
      "\u001b[0;32m<ipython-input-106-df6430f3b716>\u001b[0m in \u001b[0;36m<module>\u001b[0;34m()\u001b[0m\n\u001b[1;32m      8\u001b[0m  param_grid = param_test, scoring='roc_auc',n_jobs=4,iid=False, cv=5)\n\u001b[1;32m      9\u001b[0m \u001b[0mgsearch\u001b[0m\u001b[1;33m.\u001b[0m\u001b[0mfit\u001b[0m\u001b[1;33m(\u001b[0m\u001b[0mX_train\u001b[0m\u001b[1;33m[\u001b[0m\u001b[0mfeature\u001b[0m\u001b[1;33m]\u001b[0m\u001b[1;33m,\u001b[0m\u001b[0mX_train\u001b[0m\u001b[1;33m[\u001b[0m\u001b[0mtarget\u001b[0m\u001b[1;33m]\u001b[0m\u001b[1;33m)\u001b[0m\u001b[1;33m\u001b[0m\u001b[0m\n\u001b[0;32m---> 10\u001b[0;31m \u001b[0mgsearch1\u001b[0m\u001b[1;33m.\u001b[0m\u001b[0mgrid_scores_\u001b[0m\u001b[1;33m,\u001b[0m \u001b[0mgsearch\u001b[0m\u001b[1;33m.\u001b[0m\u001b[0mbest_params_\u001b[0m\u001b[1;33m,\u001b[0m \u001b[0mgsearch\u001b[0m\u001b[1;33m.\u001b[0m\u001b[0mbest_score_\u001b[0m\u001b[1;33m\u001b[0m\u001b[0m\n\u001b[0m",
      "\u001b[0;31mNameError\u001b[0m: name 'gsearch1' is not defined"
     ]
    }
   ],
   "source": [
    "param_test = {\n",
    " 'max_depth':[3,5,7,9],\n",
    " 'min_child_weight':[1,3,5]\n",
    "}\n",
    "gsearch = GridSearchCV(estimator = XGBClassifier( learning_rate =0.1, n_estimators=1000, max_depth=5,\n",
    " min_child_weight=1, gamma=0, subsample=0.8, colsample_bytree=0.8,\n",
    " objective= 'binary:logistic', nthread=4, scale_pos_weight=1, seed=27), \n",
    " param_grid = param_test, scoring='roc_auc',n_jobs=4,iid=False, cv=5)\n",
    "gsearch.fit(X_train[feature],X_train[target])"
   ]
  },
  {
   "cell_type": "code",
   "execution_count": 107,
   "metadata": {
    "collapsed": false
   },
   "outputs": [
    {
     "data": {
      "text/plain": [
       "([mean: 0.71236, std: 0.18521, params: {'max_depth': 3, 'min_child_weight': 1},\n",
       "  mean: 0.59615, std: 0.13617, params: {'max_depth': 3, 'min_child_weight': 3},\n",
       "  mean: 0.58617, std: 0.18616, params: {'max_depth': 3, 'min_child_weight': 5},\n",
       "  mean: 0.71648, std: 0.18318, params: {'max_depth': 5, 'min_child_weight': 1},\n",
       "  mean: 0.59615, std: 0.13617, params: {'max_depth': 5, 'min_child_weight': 3},\n",
       "  mean: 0.58617, std: 0.18616, params: {'max_depth': 5, 'min_child_weight': 5},\n",
       "  mean: 0.71868, std: 0.18556, params: {'max_depth': 7, 'min_child_weight': 1},\n",
       "  mean: 0.59615, std: 0.13617, params: {'max_depth': 7, 'min_child_weight': 3},\n",
       "  mean: 0.58617, std: 0.18616, params: {'max_depth': 7, 'min_child_weight': 5},\n",
       "  mean: 0.71648, std: 0.18370, params: {'max_depth': 9, 'min_child_weight': 1},\n",
       "  mean: 0.59615, std: 0.13617, params: {'max_depth': 9, 'min_child_weight': 3},\n",
       "  mean: 0.58617, std: 0.18616, params: {'max_depth': 9, 'min_child_weight': 5}],\n",
       " {'max_depth': 7, 'min_child_weight': 1},\n",
       " 0.71868131868131868)"
      ]
     },
     "execution_count": 107,
     "metadata": {},
     "output_type": "execute_result"
    }
   ],
   "source": [
    "gsearch.grid_scores_, gsearch.best_params_, gsearch.best_score_"
   ]
  },
  {
   "cell_type": "code",
   "execution_count": 108,
   "metadata": {
    "collapsed": false
   },
   "outputs": [
    {
     "data": {
      "text/plain": [
       "([mean: 0.72088, std: 0.18595, params: {'max_depth': 6, 'min_child_weight': 1},\n",
       "  mean: 0.59615, std: 0.13617, params: {'max_depth': 6, 'min_child_weight': 3},\n",
       "  mean: 0.58617, std: 0.18616, params: {'max_depth': 6, 'min_child_weight': 5},\n",
       "  mean: 0.71868, std: 0.18556, params: {'max_depth': 7, 'min_child_weight': 1},\n",
       "  mean: 0.59615, std: 0.13617, params: {'max_depth': 7, 'min_child_weight': 3},\n",
       "  mean: 0.58617, std: 0.18616, params: {'max_depth': 7, 'min_child_weight': 5},\n",
       "  mean: 0.71648, std: 0.18370, params: {'max_depth': 8, 'min_child_weight': 1},\n",
       "  mean: 0.59615, std: 0.13617, params: {'max_depth': 8, 'min_child_weight': 3},\n",
       "  mean: 0.58617, std: 0.18616, params: {'max_depth': 8, 'min_child_weight': 5}],\n",
       " {'max_depth': 6, 'min_child_weight': 1},\n",
       " 0.72087912087912087)"
      ]
     },
     "execution_count": 108,
     "metadata": {},
     "output_type": "execute_result"
    }
   ],
   "source": [
    "param_test = {\n",
    " 'max_depth':[6,7,8],\n",
    " 'min_child_weight':[1,3,5]\n",
    "}\n",
    "gsearch = GridSearchCV(estimator = XGBClassifier( learning_rate =0.1, n_estimators=1000, max_depth=5,\n",
    " min_child_weight=1, gamma=0, subsample=0.8, colsample_bytree=0.8,\n",
    " objective= 'binary:logistic', nthread=4, scale_pos_weight=1, seed=27), \n",
    " param_grid = param_test, scoring='roc_auc',n_jobs=4,iid=False, cv=5)\n",
    "gsearch.fit(X_train[feature],X_train[target])\n",
    "gsearch.grid_scores_, gsearch.best_params_, gsearch.best_score_"
   ]
  },
  {
   "cell_type": "code",
   "execution_count": 109,
   "metadata": {
    "collapsed": false
   },
   "outputs": [
    {
     "data": {
      "text/plain": [
       "([mean: 0.72088, std: 0.18595, params: {'gamma': 0.0},\n",
       "  mean: 0.71658, std: 0.19127, params: {'gamma': 0.01},\n",
       "  mean: 0.72308, std: 0.18644, params: {'gamma': 0.02},\n",
       "  mean: 0.71676, std: 0.18389, params: {'gamma': 0.03},\n",
       "  mean: 0.72088, std: 0.18673, params: {'gamma': 0.04},\n",
       "  mean: 0.72308, std: 0.18735, params: {'gamma': 0.05},\n",
       "  mean: 0.72940, std: 0.19089, params: {'gamma': 0.06},\n",
       "  mean: 0.72134, std: 0.18204, params: {'gamma': 0.07},\n",
       "  mean: 0.72518, std: 0.18289, params: {'gamma': 0.08}],\n",
       " {'gamma': 0.06},\n",
       " 0.72939560439560436)"
      ]
     },
     "execution_count": 109,
     "metadata": {},
     "output_type": "execute_result"
    }
   ],
   "source": [
    "param_test = {\n",
    " 'gamma':[i/100.0 for i in range(0,9)]\n",
    "}\n",
    "gsearch = GridSearchCV(estimator = XGBClassifier( learning_rate =0.1, n_estimators=1000, max_depth=6,\n",
    " min_child_weight=1, gamma=0, subsample=0.8, colsample_bytree=0.8,\n",
    " objective= 'binary:logistic', nthread=4, scale_pos_weight=1, seed=27), \n",
    " param_grid = param_test, scoring='roc_auc',n_jobs=4,iid=False, cv=5)\n",
    "gsearch.fit(X_train[feature],X_train[target])\n",
    "gsearch.grid_scores_, gsearch.best_params_, gsearch.best_score_"
   ]
  },
  {
   "cell_type": "code",
   "execution_count": 110,
   "metadata": {
    "collapsed": false
   },
   "outputs": [
    {
     "data": {
      "text/plain": [
       "([mean: 0.72418, std: 0.18837, params: {'colsample_bytree': 0.6, 'subsample': 0.6},\n",
       "  mean: 0.71053, std: 0.19423, params: {'colsample_bytree': 0.6, 'subsample': 0.7},\n",
       "  mean: 0.70769, std: 0.18201, params: {'colsample_bytree': 0.6, 'subsample': 0.8},\n",
       "  mean: 0.70476, std: 0.17599, params: {'colsample_bytree': 0.6, 'subsample': 0.9},\n",
       "  mean: 0.72527, std: 0.18884, params: {'colsample_bytree': 0.7, 'subsample': 0.6},\n",
       "  mean: 0.69808, std: 0.18277, params: {'colsample_bytree': 0.7, 'subsample': 0.7},\n",
       "  mean: 0.71236, std: 0.18521, params: {'colsample_bytree': 0.7, 'subsample': 0.8},\n",
       "  mean: 0.71310, std: 0.18548, params: {'colsample_bytree': 0.7, 'subsample': 0.9},\n",
       "  mean: 0.72793, std: 0.19022, params: {'colsample_bytree': 0.8, 'subsample': 0.6},\n",
       "  mean: 0.71319, std: 0.19262, params: {'colsample_bytree': 0.8, 'subsample': 0.7},\n",
       "  mean: 0.72940, std: 0.19089, params: {'colsample_bytree': 0.8, 'subsample': 0.8},\n",
       "  mean: 0.71960, std: 0.18871, params: {'colsample_bytree': 0.8, 'subsample': 0.9},\n",
       "  mean: 0.72134, std: 0.18706, params: {'colsample_bytree': 0.9, 'subsample': 0.6},\n",
       "  mean: 0.69478, std: 0.18300, params: {'colsample_bytree': 0.9, 'subsample': 0.7},\n",
       "  mean: 0.71007, std: 0.18568, params: {'colsample_bytree': 0.9, 'subsample': 0.8},\n",
       "  mean: 0.71419, std: 0.19103, params: {'colsample_bytree': 0.9, 'subsample': 0.9}],\n",
       " {'colsample_bytree': 0.8, 'subsample': 0.8},\n",
       " 0.72939560439560436)"
      ]
     },
     "execution_count": 110,
     "metadata": {},
     "output_type": "execute_result"
    }
   ],
   "source": [
    "param_test = {\n",
    " 'subsample':[i/10.0 for i in range(6,10)],\n",
    " 'colsample_bytree':[i/10.0 for i in range(6,10)]\n",
    "}\n",
    "gsearch = GridSearchCV(estimator = XGBClassifier( learning_rate =0.1, n_estimators=1000, max_depth=6,\n",
    " min_child_weight=1, gamma=0.06, subsample=0.8, colsample_bytree=0.8,\n",
    " objective= 'binary:logistic', nthread=4, scale_pos_weight=1, seed=27), \n",
    " param_grid = param_test, scoring='roc_auc',n_jobs=4,iid=False, cv=5)\n",
    "gsearch.fit(X_train[feature],X_train[target])\n",
    "gsearch.grid_scores_, gsearch.best_params_, gsearch.best_score_"
   ]
  },
  {
   "cell_type": "code",
   "execution_count": 111,
   "metadata": {
    "collapsed": false
   },
   "outputs": [
    {
     "data": {
      "text/plain": [
       "([mean: 0.71136, std: 0.19126, params: {'colsample_bytree': 0.75, 'subsample': 0.75},\n",
       "  mean: 0.71236, std: 0.18521, params: {'colsample_bytree': 0.75, 'subsample': 0.8},\n",
       "  mean: 0.70595, std: 0.18416, params: {'colsample_bytree': 0.75, 'subsample': 0.85},\n",
       "  mean: 0.72079, std: 0.18218, params: {'colsample_bytree': 0.8, 'subsample': 0.75},\n",
       "  mean: 0.72940, std: 0.19089, params: {'colsample_bytree': 0.8, 'subsample': 0.8},\n",
       "  mean: 0.71282, std: 0.18587, params: {'colsample_bytree': 0.8, 'subsample': 0.85},\n",
       "  mean: 0.71612, std: 0.18492, params: {'colsample_bytree': 0.85, 'subsample': 0.75},\n",
       "  mean: 0.71007, std: 0.18568, params: {'colsample_bytree': 0.85, 'subsample': 0.8},\n",
       "  mean: 0.71850, std: 0.20061, params: {'colsample_bytree': 0.85, 'subsample': 0.85}],\n",
       " {'colsample_bytree': 0.8, 'subsample': 0.8},\n",
       " 0.72939560439560436)"
      ]
     },
     "execution_count": 111,
     "metadata": {},
     "output_type": "execute_result"
    }
   ],
   "source": [
    "param_test = {\n",
    " 'subsample':[0.75,0.80,0.85],\n",
    " 'colsample_bytree':[0.75,0.80,0.85]\n",
    "}\n",
    "gsearch = GridSearchCV(estimator = XGBClassifier( learning_rate =0.1, n_estimators=1000, max_depth=6,\n",
    " min_child_weight=1, gamma=0.06, subsample=0.8, colsample_bytree=0.8,\n",
    " objective= 'binary:logistic', nthread=4, scale_pos_weight=1, seed=27), \n",
    " param_grid = param_test, scoring='roc_auc',n_jobs=4,iid=False, cv=5)\n",
    "gsearch.fit(X_train[feature],X_train[target])\n",
    "gsearch.grid_scores_, gsearch.best_params_, gsearch.best_score_"
   ]
  },
  {
   "cell_type": "code",
   "execution_count": 112,
   "metadata": {
    "collapsed": false
   },
   "outputs": [
    {
     "data": {
      "text/plain": [
       "([mean: 0.72940, std: 0.19089, params: {'reg_alpha': 1e-05},\n",
       "  mean: 0.72509, std: 0.19468, params: {'reg_alpha': 0.01},\n",
       "  mean: 0.74451, std: 0.19862, params: {'reg_alpha': 0.1},\n",
       "  mean: 0.77079, std: 0.18935, params: {'reg_alpha': 1},\n",
       "  mean: 0.50000, std: 0.00000, params: {'reg_alpha': 100}],\n",
       " {'reg_alpha': 1},\n",
       " 0.77078754578754594)"
      ]
     },
     "execution_count": 112,
     "metadata": {},
     "output_type": "execute_result"
    }
   ],
   "source": [
    "param_test = {\n",
    " 'reg_alpha':[1e-5, 1e-2, 0.1, 1, 100]\n",
    "}\n",
    "gsearch = GridSearchCV(estimator = XGBClassifier( learning_rate =0.1, n_estimators=1000, max_depth=6,\n",
    " min_child_weight=1, gamma=0.06, subsample=0.8, colsample_bytree=0.8,\n",
    " objective= 'binary:logistic', nthread=4, scale_pos_weight=1, seed=27), \n",
    " param_grid = param_test, scoring='roc_auc',n_jobs=4,iid=False, cv=5)\n",
    "gsearch.fit(X_train[feature],X_train[target])\n",
    "gsearch.grid_scores_, gsearch.best_params_, gsearch.best_score_"
   ]
  },
  {
   "cell_type": "code",
   "execution_count": 113,
   "metadata": {
    "collapsed": false
   },
   "outputs": [
    {
     "data": {
      "text/plain": [
       "([mean: 0.74451, std: 0.19862, params: {'reg_alpha': 0.1},\n",
       "  mean: 0.76914, std: 0.19277, params: {'reg_alpha': 0.5},\n",
       "  mean: 0.77079, std: 0.18935, params: {'reg_alpha': 1},\n",
       "  mean: 0.78810, std: 0.14682, params: {'reg_alpha': 2},\n",
       "  mean: 0.76832, std: 0.14609, params: {'reg_alpha': 3}],\n",
       " {'reg_alpha': 2},\n",
       " 0.78809523809523818)"
      ]
     },
     "execution_count": 113,
     "metadata": {},
     "output_type": "execute_result"
    }
   ],
   "source": [
    "param_test = {\n",
    " 'reg_alpha':[0.1,0.5,1,2,3]\n",
    "}\n",
    "gsearch = GridSearchCV(estimator = XGBClassifier( learning_rate =0.1, n_estimators=1000, max_depth=6,\n",
    " min_child_weight=1, gamma=0.06, subsample=0.8, colsample_bytree=0.8,reg_alpha=1,\n",
    " objective= 'binary:logistic', nthread=4, scale_pos_weight=1, seed=27), \n",
    " param_grid = param_test, scoring='roc_auc',n_jobs=4,iid=False, cv=5)\n",
    "gsearch.fit(X_train[feature],X_train[target])\n",
    "gsearch.grid_scores_, gsearch.best_params_, gsearch.best_score_"
   ]
  },
  {
   "cell_type": "code",
   "execution_count": 114,
   "metadata": {
    "collapsed": true
   },
   "outputs": [],
   "source": [
    "xgb = XGBClassifier( learning_rate =0.1, n_estimators=1000, max_depth=6,\n",
    " min_child_weight=1, gamma=0.06, subsample=0.8, colsample_bytree=0.8,reg_alpha=1,\n",
    " objective= 'binary:logistic', nthread=4, scale_pos_weight=1, seed=27)"
   ]
  },
  {
   "cell_type": "code",
   "execution_count": 115,
   "metadata": {
    "collapsed": false
   },
   "outputs": [
    {
     "data": {
      "text/plain": [
       "XGBClassifier(base_score=0.5, booster='gbtree', colsample_bylevel=1,\n",
       "       colsample_bytree=0.8, gamma=0.06, learning_rate=0.1,\n",
       "       max_delta_step=0, max_depth=6, min_child_weight=1, missing=None,\n",
       "       n_estimators=1000, nthread=4, objective='binary:logistic',\n",
       "       reg_alpha=1, reg_lambda=1, scale_pos_weight=1, seed=27, silent=True,\n",
       "       subsample=0.8)"
      ]
     },
     "execution_count": 115,
     "metadata": {},
     "output_type": "execute_result"
    }
   ],
   "source": [
    "xgb.fit(X_train[feature],X_train['status'])"
   ]
  },
  {
   "cell_type": "code",
   "execution_count": 117,
   "metadata": {
    "collapsed": false
   },
   "outputs": [],
   "source": [
    "pred = xgb.predict(X_test[feature])"
   ]
  },
  {
   "cell_type": "code",
   "execution_count": 120,
   "metadata": {
    "collapsed": true
   },
   "outputs": [],
   "source": [
    "def convert(x):\n",
    "    if x==0:\n",
    "        return 'N'\n",
    "    else:\n",
    "        return 'Y'"
   ]
  },
  {
   "cell_type": "code",
   "execution_count": 126,
   "metadata": {
    "collapsed": false
   },
   "outputs": [
    {
     "data": {
      "text/html": [
       "<div>\n",
       "<table border=\"1\" class=\"dataframe\">\n",
       "  <thead>\n",
       "    <tr style=\"text-align: right;\">\n",
       "      <th></th>\n",
       "      <th>loan_id</th>\n",
       "      <th>status</th>\n",
       "    </tr>\n",
       "  </thead>\n",
       "  <tbody>\n",
       "    <tr>\n",
       "      <th>0</th>\n",
       "      <td>1349</td>\n",
       "      <td>N</td>\n",
       "    </tr>\n",
       "    <tr>\n",
       "      <th>1</th>\n",
       "      <td>1350</td>\n",
       "      <td>Y</td>\n",
       "    </tr>\n",
       "    <tr>\n",
       "      <th>2</th>\n",
       "      <td>1356</td>\n",
       "      <td>N</td>\n",
       "    </tr>\n",
       "    <tr>\n",
       "      <th>3</th>\n",
       "      <td>1357</td>\n",
       "      <td>Y</td>\n",
       "    </tr>\n",
       "    <tr>\n",
       "      <th>4</th>\n",
       "      <td>1369</td>\n",
       "      <td>Y</td>\n",
       "    </tr>\n",
       "  </tbody>\n",
       "</table>\n",
       "</div>"
      ],
      "text/plain": [
       "   loan_id status\n",
       "0     1349      N\n",
       "1     1350      Y\n",
       "2     1356      N\n",
       "3     1357      Y\n",
       "4     1369      Y"
      ]
     },
     "execution_count": 126,
     "metadata": {},
     "output_type": "execute_result"
    }
   ],
   "source": [
    "submission = pd.DataFrame()\n",
    "submission['loan_id'] = X_test['loan_id']\n",
    "submission['status'] = pred\n",
    "submission['status'] = submission['status'].apply(lambda x: convert(x))\n",
    "submission.to_csv('train_prediction.csv',index=False)\n",
    "submission.head()"
   ]
  }
 ],
 "metadata": {
  "anaconda-cloud": {},
  "kernelspec": {
   "display_name": "Python [conda root]",
   "language": "python",
   "name": "conda-root-py"
  },
  "language_info": {
   "codemirror_mode": {
    "name": "ipython",
    "version": 3
   },
   "file_extension": ".py",
   "mimetype": "text/x-python",
   "name": "python",
   "nbconvert_exporter": "python",
   "pygments_lexer": "ipython3",
   "version": "3.5.2"
  }
 },
 "nbformat": 4,
 "nbformat_minor": 1
}
