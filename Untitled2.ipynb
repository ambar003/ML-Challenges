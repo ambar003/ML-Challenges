{
 "cells": [
  {
   "cell_type": "code",
   "execution_count": 1,
   "metadata": {
    "collapsed": true
   },
   "outputs": [],
   "source": [
    "import pandas as pd\n",
    "import numpy as np\n",
    "import matplotlib.pyplot as plt\n",
    "% matplotlib inline\n",
    "\n",
    "from sklearn.model_selection import train_test_split\n",
    "from sklearn.model_selection import GridSearchCV\n",
    "from sklearn.ensemble import RandomForestClassifier\n",
    "from sklearn.decomposition import PCA\n",
    "from sklearn.preprocessing import scale\n",
    "from xgboost import XGBClassifier\n",
    "from lightgbm import LGBMClassifier"
   ]
  },
  {
   "cell_type": "code",
   "execution_count": 2,
   "metadata": {},
   "outputs": [
    {
     "data": {
      "text/html": [
       "<div>\n",
       "<style>\n",
       "    .dataframe thead tr:only-child th {\n",
       "        text-align: right;\n",
       "    }\n",
       "\n",
       "    .dataframe thead th {\n",
       "        text-align: left;\n",
       "    }\n",
       "\n",
       "    .dataframe tbody tr th {\n",
       "        vertical-align: top;\n",
       "    }\n",
       "</style>\n",
       "<table border=\"1\" class=\"dataframe\">\n",
       "  <thead>\n",
       "    <tr style=\"text-align: right;\">\n",
       "      <th></th>\n",
       "      <th>cont_1</th>\n",
       "      <th>cont_2</th>\n",
       "      <th>cont_3</th>\n",
       "      <th>cont_4</th>\n",
       "      <th>cont_5</th>\n",
       "      <th>cont_6</th>\n",
       "      <th>cont_7</th>\n",
       "      <th>cont_8</th>\n",
       "      <th>cont_9</th>\n",
       "      <th>cont_10</th>\n",
       "      <th>...</th>\n",
       "      <th>cat_15</th>\n",
       "      <th>cat_16</th>\n",
       "      <th>cat_17</th>\n",
       "      <th>cat_18</th>\n",
       "      <th>cat_19</th>\n",
       "      <th>cat_20</th>\n",
       "      <th>cat_21</th>\n",
       "      <th>cat_22</th>\n",
       "      <th>cat_23</th>\n",
       "      <th>target</th>\n",
       "    </tr>\n",
       "  </thead>\n",
       "  <tbody>\n",
       "    <tr>\n",
       "      <th>count</th>\n",
       "      <td>169307.000000</td>\n",
       "      <td>1.693070e+05</td>\n",
       "      <td>1.693070e+05</td>\n",
       "      <td>169307.000000</td>\n",
       "      <td>169307.000000</td>\n",
       "      <td>169307.000000</td>\n",
       "      <td>169307.000000</td>\n",
       "      <td>169307.000000</td>\n",
       "      <td>169307.000000</td>\n",
       "      <td>169307.000000</td>\n",
       "      <td>...</td>\n",
       "      <td>169307.000000</td>\n",
       "      <td>169307.000000</td>\n",
       "      <td>169307.0</td>\n",
       "      <td>169307.000000</td>\n",
       "      <td>169307.000000</td>\n",
       "      <td>169307.000000</td>\n",
       "      <td>169307.000000</td>\n",
       "      <td>169307.00000</td>\n",
       "      <td>169307.000000</td>\n",
       "      <td>169307.000000</td>\n",
       "    </tr>\n",
       "    <tr>\n",
       "      <th>mean</th>\n",
       "      <td>44.136722</td>\n",
       "      <td>1.077011e+03</td>\n",
       "      <td>7.501477e+02</td>\n",
       "      <td>0.171399</td>\n",
       "      <td>0.171479</td>\n",
       "      <td>0.062442</td>\n",
       "      <td>0.062478</td>\n",
       "      <td>0.791319</td>\n",
       "      <td>0.021317</td>\n",
       "      <td>0.028090</td>\n",
       "      <td>...</td>\n",
       "      <td>0.000077</td>\n",
       "      <td>0.001057</td>\n",
       "      <td>0.0</td>\n",
       "      <td>0.000006</td>\n",
       "      <td>0.000868</td>\n",
       "      <td>330.966203</td>\n",
       "      <td>291.598014</td>\n",
       "      <td>232.98837</td>\n",
       "      <td>189.733508</td>\n",
       "      <td>0.633719</td>\n",
       "    </tr>\n",
       "    <tr>\n",
       "      <th>std</th>\n",
       "      <td>659.337783</td>\n",
       "      <td>4.302746e+04</td>\n",
       "      <td>3.527929e+04</td>\n",
       "      <td>0.376214</td>\n",
       "      <td>0.376593</td>\n",
       "      <td>0.241000</td>\n",
       "      <td>0.241354</td>\n",
       "      <td>0.388389</td>\n",
       "      <td>0.084299</td>\n",
       "      <td>0.139745</td>\n",
       "      <td>...</td>\n",
       "      <td>0.009412</td>\n",
       "      <td>0.036762</td>\n",
       "      <td>0.0</td>\n",
       "      <td>0.002430</td>\n",
       "      <td>0.029453</td>\n",
       "      <td>213.028182</td>\n",
       "      <td>246.012392</td>\n",
       "      <td>63.94995</td>\n",
       "      <td>105.631984</td>\n",
       "      <td>0.816991</td>\n",
       "    </tr>\n",
       "    <tr>\n",
       "      <th>min</th>\n",
       "      <td>0.000000</td>\n",
       "      <td>0.000000e+00</td>\n",
       "      <td>0.000000e+00</td>\n",
       "      <td>0.000000</td>\n",
       "      <td>0.000000</td>\n",
       "      <td>0.000000</td>\n",
       "      <td>0.000000</td>\n",
       "      <td>0.000000</td>\n",
       "      <td>0.000000</td>\n",
       "      <td>0.000000</td>\n",
       "      <td>...</td>\n",
       "      <td>0.000000</td>\n",
       "      <td>0.000000</td>\n",
       "      <td>0.0</td>\n",
       "      <td>0.000000</td>\n",
       "      <td>0.000000</td>\n",
       "      <td>0.000000</td>\n",
       "      <td>0.000000</td>\n",
       "      <td>0.00000</td>\n",
       "      <td>0.000000</td>\n",
       "      <td>0.000000</td>\n",
       "    </tr>\n",
       "    <tr>\n",
       "      <th>25%</th>\n",
       "      <td>0.000000</td>\n",
       "      <td>4.500000e+01</td>\n",
       "      <td>0.000000e+00</td>\n",
       "      <td>0.000000</td>\n",
       "      <td>0.000000</td>\n",
       "      <td>0.000000</td>\n",
       "      <td>0.000000</td>\n",
       "      <td>1.000000</td>\n",
       "      <td>0.000000</td>\n",
       "      <td>0.000000</td>\n",
       "      <td>...</td>\n",
       "      <td>0.000000</td>\n",
       "      <td>0.000000</td>\n",
       "      <td>0.0</td>\n",
       "      <td>0.000000</td>\n",
       "      <td>0.000000</td>\n",
       "      <td>118.000000</td>\n",
       "      <td>10.000000</td>\n",
       "      <td>255.00000</td>\n",
       "      <td>58.000000</td>\n",
       "      <td>0.000000</td>\n",
       "    </tr>\n",
       "    <tr>\n",
       "      <th>50%</th>\n",
       "      <td>0.000000</td>\n",
       "      <td>5.200000e+02</td>\n",
       "      <td>0.000000e+00</td>\n",
       "      <td>0.000000</td>\n",
       "      <td>0.000000</td>\n",
       "      <td>0.000000</td>\n",
       "      <td>0.000000</td>\n",
       "      <td>1.000000</td>\n",
       "      <td>0.000000</td>\n",
       "      <td>0.000000</td>\n",
       "      <td>...</td>\n",
       "      <td>0.000000</td>\n",
       "      <td>0.000000</td>\n",
       "      <td>0.0</td>\n",
       "      <td>0.000000</td>\n",
       "      <td>0.000000</td>\n",
       "      <td>510.000000</td>\n",
       "      <td>510.000000</td>\n",
       "      <td>255.00000</td>\n",
       "      <td>255.000000</td>\n",
       "      <td>0.000000</td>\n",
       "    </tr>\n",
       "    <tr>\n",
       "      <th>75%</th>\n",
       "      <td>0.000000</td>\n",
       "      <td>1.032000e+03</td>\n",
       "      <td>0.000000e+00</td>\n",
       "      <td>0.000000</td>\n",
       "      <td>0.000000</td>\n",
       "      <td>0.000000</td>\n",
       "      <td>0.000000</td>\n",
       "      <td>1.000000</td>\n",
       "      <td>0.000000</td>\n",
       "      <td>0.000000</td>\n",
       "      <td>...</td>\n",
       "      <td>0.000000</td>\n",
       "      <td>0.000000</td>\n",
       "      <td>0.0</td>\n",
       "      <td>0.000000</td>\n",
       "      <td>0.000000</td>\n",
       "      <td>511.000000</td>\n",
       "      <td>511.000000</td>\n",
       "      <td>255.00000</td>\n",
       "      <td>255.000000</td>\n",
       "      <td>1.000000</td>\n",
       "    </tr>\n",
       "    <tr>\n",
       "      <th>max</th>\n",
       "      <td>42596.000000</td>\n",
       "      <td>1.139690e+07</td>\n",
       "      <td>1.173059e+07</td>\n",
       "      <td>1.000000</td>\n",
       "      <td>1.000000</td>\n",
       "      <td>1.000000</td>\n",
       "      <td>1.000000</td>\n",
       "      <td>1.000000</td>\n",
       "      <td>1.000000</td>\n",
       "      <td>1.000000</td>\n",
       "      <td>...</td>\n",
       "      <td>2.000000</td>\n",
       "      <td>5.000000</td>\n",
       "      <td>0.0</td>\n",
       "      <td>1.000000</td>\n",
       "      <td>1.000000</td>\n",
       "      <td>511.000000</td>\n",
       "      <td>511.000000</td>\n",
       "      <td>255.00000</td>\n",
       "      <td>255.000000</td>\n",
       "      <td>2.000000</td>\n",
       "    </tr>\n",
       "  </tbody>\n",
       "</table>\n",
       "<p>8 rows × 42 columns</p>\n",
       "</div>"
      ],
      "text/plain": [
       "              cont_1        cont_2        cont_3         cont_4  \\\n",
       "count  169307.000000  1.693070e+05  1.693070e+05  169307.000000   \n",
       "mean       44.136722  1.077011e+03  7.501477e+02       0.171399   \n",
       "std       659.337783  4.302746e+04  3.527929e+04       0.376214   \n",
       "min         0.000000  0.000000e+00  0.000000e+00       0.000000   \n",
       "25%         0.000000  4.500000e+01  0.000000e+00       0.000000   \n",
       "50%         0.000000  5.200000e+02  0.000000e+00       0.000000   \n",
       "75%         0.000000  1.032000e+03  0.000000e+00       0.000000   \n",
       "max     42596.000000  1.139690e+07  1.173059e+07       1.000000   \n",
       "\n",
       "              cont_5         cont_6         cont_7         cont_8  \\\n",
       "count  169307.000000  169307.000000  169307.000000  169307.000000   \n",
       "mean        0.171479       0.062442       0.062478       0.791319   \n",
       "std         0.376593       0.241000       0.241354       0.388389   \n",
       "min         0.000000       0.000000       0.000000       0.000000   \n",
       "25%         0.000000       0.000000       0.000000       1.000000   \n",
       "50%         0.000000       0.000000       0.000000       1.000000   \n",
       "75%         0.000000       0.000000       0.000000       1.000000   \n",
       "max         1.000000       1.000000       1.000000       1.000000   \n",
       "\n",
       "              cont_9        cont_10      ...               cat_15  \\\n",
       "count  169307.000000  169307.000000      ...        169307.000000   \n",
       "mean        0.021317       0.028090      ...             0.000077   \n",
       "std         0.084299       0.139745      ...             0.009412   \n",
       "min         0.000000       0.000000      ...             0.000000   \n",
       "25%         0.000000       0.000000      ...             0.000000   \n",
       "50%         0.000000       0.000000      ...             0.000000   \n",
       "75%         0.000000       0.000000      ...             0.000000   \n",
       "max         1.000000       1.000000      ...             2.000000   \n",
       "\n",
       "              cat_16    cat_17         cat_18         cat_19         cat_20  \\\n",
       "count  169307.000000  169307.0  169307.000000  169307.000000  169307.000000   \n",
       "mean        0.001057       0.0       0.000006       0.000868     330.966203   \n",
       "std         0.036762       0.0       0.002430       0.029453     213.028182   \n",
       "min         0.000000       0.0       0.000000       0.000000       0.000000   \n",
       "25%         0.000000       0.0       0.000000       0.000000     118.000000   \n",
       "50%         0.000000       0.0       0.000000       0.000000     510.000000   \n",
       "75%         0.000000       0.0       0.000000       0.000000     511.000000   \n",
       "max         5.000000       0.0       1.000000       1.000000     511.000000   \n",
       "\n",
       "              cat_21        cat_22         cat_23         target  \n",
       "count  169307.000000  169307.00000  169307.000000  169307.000000  \n",
       "mean      291.598014     232.98837     189.733508       0.633719  \n",
       "std       246.012392      63.94995     105.631984       0.816991  \n",
       "min         0.000000       0.00000       0.000000       0.000000  \n",
       "25%        10.000000     255.00000      58.000000       0.000000  \n",
       "50%       510.000000     255.00000     255.000000       0.000000  \n",
       "75%       511.000000     255.00000     255.000000       1.000000  \n",
       "max       511.000000     255.00000     255.000000       2.000000  \n",
       "\n",
       "[8 rows x 42 columns]"
      ]
     },
     "execution_count": 2,
     "metadata": {},
     "output_type": "execute_result"
    }
   ],
   "source": [
    "train = pd.read_csv('train_data.csv')\n",
    "train.describe()"
   ]
  },
  {
   "cell_type": "code",
   "execution_count": 3,
   "metadata": {},
   "outputs": [
    {
     "data": {
      "text/html": [
       "<div>\n",
       "<style>\n",
       "    .dataframe thead tr:only-child th {\n",
       "        text-align: right;\n",
       "    }\n",
       "\n",
       "    .dataframe thead th {\n",
       "        text-align: left;\n",
       "    }\n",
       "\n",
       "    .dataframe tbody tr th {\n",
       "        vertical-align: top;\n",
       "    }\n",
       "</style>\n",
       "<table border=\"1\" class=\"dataframe\">\n",
       "  <thead>\n",
       "    <tr style=\"text-align: right;\">\n",
       "      <th></th>\n",
       "      <th>cont_1</th>\n",
       "      <th>cont_2</th>\n",
       "      <th>cont_3</th>\n",
       "      <th>cont_4</th>\n",
       "      <th>cont_5</th>\n",
       "      <th>cont_6</th>\n",
       "      <th>cont_7</th>\n",
       "      <th>cont_8</th>\n",
       "      <th>cont_9</th>\n",
       "      <th>cont_10</th>\n",
       "      <th>...</th>\n",
       "      <th>cat_14</th>\n",
       "      <th>cat_15</th>\n",
       "      <th>cat_16</th>\n",
       "      <th>cat_17</th>\n",
       "      <th>cat_18</th>\n",
       "      <th>cat_19</th>\n",
       "      <th>cat_20</th>\n",
       "      <th>cat_21</th>\n",
       "      <th>cat_22</th>\n",
       "      <th>cat_23</th>\n",
       "    </tr>\n",
       "  </thead>\n",
       "  <tbody>\n",
       "    <tr>\n",
       "      <th>count</th>\n",
       "      <td>91166.000000</td>\n",
       "      <td>9.116600e+04</td>\n",
       "      <td>9.116600e+04</td>\n",
       "      <td>91166.000000</td>\n",
       "      <td>91166.000000</td>\n",
       "      <td>91166.000000</td>\n",
       "      <td>91166.000000</td>\n",
       "      <td>91166.000000</td>\n",
       "      <td>91166.000000</td>\n",
       "      <td>91166.000000</td>\n",
       "      <td>...</td>\n",
       "      <td>91166.000000</td>\n",
       "      <td>91166.000000</td>\n",
       "      <td>91166.000000</td>\n",
       "      <td>91166.0</td>\n",
       "      <td>91166.0</td>\n",
       "      <td>91166.000000</td>\n",
       "      <td>91166.000000</td>\n",
       "      <td>91166.000000</td>\n",
       "      <td>91166.000000</td>\n",
       "      <td>91166.000000</td>\n",
       "    </tr>\n",
       "    <tr>\n",
       "      <th>mean</th>\n",
       "      <td>44.499583</td>\n",
       "      <td>1.861971e+03</td>\n",
       "      <td>6.885151e+02</td>\n",
       "      <td>0.169543</td>\n",
       "      <td>0.169616</td>\n",
       "      <td>0.064301</td>\n",
       "      <td>0.064299</td>\n",
       "      <td>0.791855</td>\n",
       "      <td>0.021109</td>\n",
       "      <td>0.027920</td>\n",
       "      <td>...</td>\n",
       "      <td>0.000570</td>\n",
       "      <td>0.000088</td>\n",
       "      <td>0.001020</td>\n",
       "      <td>0.0</td>\n",
       "      <td>0.0</td>\n",
       "      <td>0.001053</td>\n",
       "      <td>331.381217</td>\n",
       "      <td>292.098951</td>\n",
       "      <td>233.063971</td>\n",
       "      <td>189.831714</td>\n",
       "    </tr>\n",
       "    <tr>\n",
       "      <th>std</th>\n",
       "      <td>676.749529</td>\n",
       "      <td>2.977819e+05</td>\n",
       "      <td>2.522652e+04</td>\n",
       "      <td>0.374541</td>\n",
       "      <td>0.374968</td>\n",
       "      <td>0.244362</td>\n",
       "      <td>0.244723</td>\n",
       "      <td>0.388186</td>\n",
       "      <td>0.083526</td>\n",
       "      <td>0.139383</td>\n",
       "      <td>...</td>\n",
       "      <td>0.054216</td>\n",
       "      <td>0.009367</td>\n",
       "      <td>0.040685</td>\n",
       "      <td>0.0</td>\n",
       "      <td>0.0</td>\n",
       "      <td>0.032433</td>\n",
       "      <td>212.975581</td>\n",
       "      <td>245.983207</td>\n",
       "      <td>63.960845</td>\n",
       "      <td>105.601719</td>\n",
       "    </tr>\n",
       "    <tr>\n",
       "      <th>min</th>\n",
       "      <td>0.000000</td>\n",
       "      <td>0.000000e+00</td>\n",
       "      <td>0.000000e+00</td>\n",
       "      <td>0.000000</td>\n",
       "      <td>0.000000</td>\n",
       "      <td>0.000000</td>\n",
       "      <td>0.000000</td>\n",
       "      <td>0.000000</td>\n",
       "      <td>0.000000</td>\n",
       "      <td>0.000000</td>\n",
       "      <td>...</td>\n",
       "      <td>0.000000</td>\n",
       "      <td>0.000000</td>\n",
       "      <td>0.000000</td>\n",
       "      <td>0.0</td>\n",
       "      <td>0.0</td>\n",
       "      <td>0.000000</td>\n",
       "      <td>1.000000</td>\n",
       "      <td>1.000000</td>\n",
       "      <td>0.000000</td>\n",
       "      <td>0.000000</td>\n",
       "    </tr>\n",
       "    <tr>\n",
       "      <th>25%</th>\n",
       "      <td>0.000000</td>\n",
       "      <td>4.500000e+01</td>\n",
       "      <td>0.000000e+00</td>\n",
       "      <td>0.000000</td>\n",
       "      <td>0.000000</td>\n",
       "      <td>0.000000</td>\n",
       "      <td>0.000000</td>\n",
       "      <td>1.000000</td>\n",
       "      <td>0.000000</td>\n",
       "      <td>0.000000</td>\n",
       "      <td>...</td>\n",
       "      <td>0.000000</td>\n",
       "      <td>0.000000</td>\n",
       "      <td>0.000000</td>\n",
       "      <td>0.0</td>\n",
       "      <td>0.0</td>\n",
       "      <td>0.000000</td>\n",
       "      <td>118.000000</td>\n",
       "      <td>10.000000</td>\n",
       "      <td>255.000000</td>\n",
       "      <td>59.000000</td>\n",
       "    </tr>\n",
       "    <tr>\n",
       "      <th>50%</th>\n",
       "      <td>0.000000</td>\n",
       "      <td>5.200000e+02</td>\n",
       "      <td>0.000000e+00</td>\n",
       "      <td>0.000000</td>\n",
       "      <td>0.000000</td>\n",
       "      <td>0.000000</td>\n",
       "      <td>0.000000</td>\n",
       "      <td>1.000000</td>\n",
       "      <td>0.000000</td>\n",
       "      <td>0.000000</td>\n",
       "      <td>...</td>\n",
       "      <td>0.000000</td>\n",
       "      <td>0.000000</td>\n",
       "      <td>0.000000</td>\n",
       "      <td>0.0</td>\n",
       "      <td>0.0</td>\n",
       "      <td>0.000000</td>\n",
       "      <td>510.000000</td>\n",
       "      <td>510.000000</td>\n",
       "      <td>255.000000</td>\n",
       "      <td>255.000000</td>\n",
       "    </tr>\n",
       "    <tr>\n",
       "      <th>75%</th>\n",
       "      <td>0.000000</td>\n",
       "      <td>1.032000e+03</td>\n",
       "      <td>0.000000e+00</td>\n",
       "      <td>0.000000</td>\n",
       "      <td>0.000000</td>\n",
       "      <td>0.000000</td>\n",
       "      <td>0.000000</td>\n",
       "      <td>1.000000</td>\n",
       "      <td>0.000000</td>\n",
       "      <td>0.000000</td>\n",
       "      <td>...</td>\n",
       "      <td>0.000000</td>\n",
       "      <td>0.000000</td>\n",
       "      <td>0.000000</td>\n",
       "      <td>0.0</td>\n",
       "      <td>0.0</td>\n",
       "      <td>0.000000</td>\n",
       "      <td>511.000000</td>\n",
       "      <td>511.000000</td>\n",
       "      <td>255.000000</td>\n",
       "      <td>255.000000</td>\n",
       "    </tr>\n",
       "    <tr>\n",
       "      <th>max</th>\n",
       "      <td>39910.000000</td>\n",
       "      <td>8.958152e+07</td>\n",
       "      <td>7.028652e+06</td>\n",
       "      <td>1.000000</td>\n",
       "      <td>1.000000</td>\n",
       "      <td>1.000000</td>\n",
       "      <td>1.000000</td>\n",
       "      <td>1.000000</td>\n",
       "      <td>1.000000</td>\n",
       "      <td>1.000000</td>\n",
       "      <td>...</td>\n",
       "      <td>15.000000</td>\n",
       "      <td>1.000000</td>\n",
       "      <td>8.000000</td>\n",
       "      <td>0.0</td>\n",
       "      <td>0.0</td>\n",
       "      <td>1.000000</td>\n",
       "      <td>511.000000</td>\n",
       "      <td>511.000000</td>\n",
       "      <td>255.000000</td>\n",
       "      <td>255.000000</td>\n",
       "    </tr>\n",
       "  </tbody>\n",
       "</table>\n",
       "<p>8 rows × 41 columns</p>\n",
       "</div>"
      ],
      "text/plain": [
       "             cont_1        cont_2        cont_3        cont_4        cont_5  \\\n",
       "count  91166.000000  9.116600e+04  9.116600e+04  91166.000000  91166.000000   \n",
       "mean      44.499583  1.861971e+03  6.885151e+02      0.169543      0.169616   \n",
       "std      676.749529  2.977819e+05  2.522652e+04      0.374541      0.374968   \n",
       "min        0.000000  0.000000e+00  0.000000e+00      0.000000      0.000000   \n",
       "25%        0.000000  4.500000e+01  0.000000e+00      0.000000      0.000000   \n",
       "50%        0.000000  5.200000e+02  0.000000e+00      0.000000      0.000000   \n",
       "75%        0.000000  1.032000e+03  0.000000e+00      0.000000      0.000000   \n",
       "max    39910.000000  8.958152e+07  7.028652e+06      1.000000      1.000000   \n",
       "\n",
       "             cont_6        cont_7        cont_8        cont_9       cont_10  \\\n",
       "count  91166.000000  91166.000000  91166.000000  91166.000000  91166.000000   \n",
       "mean       0.064301      0.064299      0.791855      0.021109      0.027920   \n",
       "std        0.244362      0.244723      0.388186      0.083526      0.139383   \n",
       "min        0.000000      0.000000      0.000000      0.000000      0.000000   \n",
       "25%        0.000000      0.000000      1.000000      0.000000      0.000000   \n",
       "50%        0.000000      0.000000      1.000000      0.000000      0.000000   \n",
       "75%        0.000000      0.000000      1.000000      0.000000      0.000000   \n",
       "max        1.000000      1.000000      1.000000      1.000000      1.000000   \n",
       "\n",
       "           ...             cat_14        cat_15        cat_16   cat_17  \\\n",
       "count      ...       91166.000000  91166.000000  91166.000000  91166.0   \n",
       "mean       ...           0.000570      0.000088      0.001020      0.0   \n",
       "std        ...           0.054216      0.009367      0.040685      0.0   \n",
       "min        ...           0.000000      0.000000      0.000000      0.0   \n",
       "25%        ...           0.000000      0.000000      0.000000      0.0   \n",
       "50%        ...           0.000000      0.000000      0.000000      0.0   \n",
       "75%        ...           0.000000      0.000000      0.000000      0.0   \n",
       "max        ...          15.000000      1.000000      8.000000      0.0   \n",
       "\n",
       "        cat_18        cat_19        cat_20        cat_21        cat_22  \\\n",
       "count  91166.0  91166.000000  91166.000000  91166.000000  91166.000000   \n",
       "mean       0.0      0.001053    331.381217    292.098951    233.063971   \n",
       "std        0.0      0.032433    212.975581    245.983207     63.960845   \n",
       "min        0.0      0.000000      1.000000      1.000000      0.000000   \n",
       "25%        0.0      0.000000    118.000000     10.000000    255.000000   \n",
       "50%        0.0      0.000000    510.000000    510.000000    255.000000   \n",
       "75%        0.0      0.000000    511.000000    511.000000    255.000000   \n",
       "max        0.0      1.000000    511.000000    511.000000    255.000000   \n",
       "\n",
       "             cat_23  \n",
       "count  91166.000000  \n",
       "mean     189.831714  \n",
       "std      105.601719  \n",
       "min        0.000000  \n",
       "25%       59.000000  \n",
       "50%      255.000000  \n",
       "75%      255.000000  \n",
       "max      255.000000  \n",
       "\n",
       "[8 rows x 41 columns]"
      ]
     },
     "execution_count": 3,
     "metadata": {},
     "output_type": "execute_result"
    }
   ],
   "source": [
    "test = pd.read_csv('test_data.csv')\n",
    "test.describe()"
   ]
  },
  {
   "cell_type": "code",
   "execution_count": 5,
   "metadata": {
    "collapsed": true
   },
   "outputs": [],
   "source": [
    "test_id = test['connection_id']"
   ]
  },
  {
   "cell_type": "code",
   "execution_count": 6,
   "metadata": {},
   "outputs": [
    {
     "data": {
      "text/plain": [
       "0    135722\n",
       "1     33585\n",
       "Name: target, dtype: int64"
      ]
     },
     "execution_count": 6,
     "metadata": {},
     "output_type": "execute_result"
    }
   ],
   "source": [
    "train['target'] = train['target'].replace({2:0})\n",
    "train['target'].value_counts()"
   ]
  },
  {
   "cell_type": "code",
   "execution_count": 7,
   "metadata": {
    "collapsed": true
   },
   "outputs": [],
   "source": [
    "## function for multi-accuracy\n",
    "from sklearn.metrics import accuracy_score\n",
    "def multAcc(pred,y_valid):\n",
    "    acc = accuracy_score(y_valid, pred)\n",
    "    return 'maccuracy', acc"
   ]
  },
  {
   "cell_type": "code",
   "execution_count": 16,
   "metadata": {},
   "outputs": [
    {
     "data": {
      "text/plain": [
       "('maccuracy', 0.99842497982005396)"
      ]
     },
     "execution_count": 16,
     "metadata": {},
     "output_type": "execute_result"
    }
   ],
   "source": [
    "features = ['cont_1', 'cont_2', 'cont_3', 'cont_4', 'cont_5',\n",
    "            'cont_6', 'cont_7','cont_8','cont_9', 'cont_10','cont_11','cont_12',\n",
    "            'cont_13', 'cont_14', 'cont_15', 'cont_16', 'cont_17', 'cont_18',\n",
    "            'cat_1', 'cat_2','cat_3','cat_9','cat_20', 'cat_21', 'cat_22','cat_23']\n",
    "X_train = train[features]\n",
    "target = train['target']\n",
    "x_train, X_valid, y_train, y_valid = train_test_split(X_train, target, train_size = 0.7, stratify = target, random_state = 2017)\n",
    "model = XGBClassifier(learning_rate =0.10,n_estimators=1000,max_depth=3,min_child_weight=2,gamma=0.1,subsample=0.70,\n",
    "                          colsample_bytree=0.60,reg_alpha=0.15,objective= 'binary:logistic',nthread=4,seed=27)\n",
    "model.fit(x_train,y_train)\n",
    "pred_test_xgb = model.predict(X_valid)\n",
    "multAcc(pred_test_xgb,y_valid)"
   ]
  },
  {
   "cell_type": "code",
   "execution_count": 24,
   "metadata": {},
   "outputs": [
    {
     "data": {
      "text/plain": [
       "<matplotlib.axes._subplots.AxesSubplot at 0x11e5ad898>"
      ]
     },
     "execution_count": 24,
     "metadata": {},
     "output_type": "execute_result"
    },
    {
     "data": {
      "image/png": "[encoded data removed]",
      "text/plain": [
       "<matplotlib.figure.Figure at 0x11dfec4a8>"
      ]
     },
     "metadata": {},
     "output_type": "display_data"
    }
   ],
   "source": [
    "feature_importance = pd.Series(model.feature_importances_)\n",
    "feature_ser = pd.Series(features)\n",
    "lis = pd.Series(feature_importance.values,index = feature_ser)\n",
    "lis = sorted(lis.items(),key =lambda x:(-x[1],x[0]))\n",
    "df = pd.DataFrame(lis, columns=['Feature', 'Importance'])\n",
    "df.plot(kind='bar',x='Feature',figsize=(15,10))"
   ]
  },
  {
   "cell_type": "code",
   "execution_count": 23,
   "metadata": {},
   "outputs": [
    {
     "name": "stdout",
     "output_type": "stream",
     "text": [
      "writting is done.\n"
     ]
    }
   ],
   "source": [
    "pred = model.predict(test[features])\n",
    "sub = pd.DataFrame()\n",
    "sub['connection_id'] = test_id\n",
    "sub['target'] = pred\n",
    "sub.to_csv('xgb.csv', index=False)\n",
    "print('writting is done.')"
   ]
  },
  {
   "cell_type": "code",
   "execution_count": 8,
   "metadata": {
    "collapsed": true
   },
   "outputs": [],
   "source": [
    "from sklearn.ensemble import RandomForestClassifier"
   ]
  },
  {
   "cell_type": "code",
   "execution_count": 13,
   "metadata": {},
   "outputs": [
    {
     "data": {
      "text/plain": [
       "('maccuracy', 0.9984052920678046)"
      ]
     },
     "execution_count": 13,
     "metadata": {},
     "output_type": "execute_result"
    }
   ],
   "source": [
    "features = ['cont_1', 'cont_2', 'cont_3', 'cont_4', 'cont_5',\n",
    "            'cont_6', 'cont_7','cont_8','cont_9', 'cont_10','cont_11','cont_12',\n",
    "            'cont_13', 'cont_14', 'cont_15', 'cont_16', 'cont_17', 'cont_18',\n",
    "            'cat_1', 'cat_2','cat_3','cat_9','cat_20', 'cat_21', 'cat_22','cat_23']\n",
    "X_train = train[features]\n",
    "target = train['target']\n",
    "x_train, X_valid, y_train, y_valid = train_test_split(X_train, target, train_size = 0.7, stratify = target, random_state = 2017)\n",
    "model = RandomForestClassifier(n_estimators=1000, max_depth=15,min_samples_split=4,\n",
    "                               min_samples_leaf=1,n_jobs=-1,random_state=2017,oob_score=True)\n",
    "model.fit(x_train,y_train)\n",
    "pred_test_rf = model.predict(X_valid)\n",
    "multAcc(pred_test_rf,y_valid)"
   ]
  },
  {
   "cell_type": "code",
   "execution_count": 10,
   "metadata": {},
   "outputs": [
    {
     "data": {
      "text/plain": [
       "<matplotlib.axes._subplots.AxesSubplot at 0x1140e6e48>"
      ]
     },
     "execution_count": 10,
     "metadata": {},
     "output_type": "execute_result"
    },
    {
     "data": {
      "image/png": "[encoded data removed]",
      "text/plain": [
       "<matplotlib.figure.Figure at 0x1140df3c8>"
      ]
     },
     "metadata": {},
     "output_type": "display_data"
    }
   ],
   "source": [
    "feature_importance = pd.Series(model.feature_importances_)\n",
    "feature_ser = pd.Series(features)\n",
    "lis = pd.Series(feature_importance.values,index = feature_ser)\n",
    "lis = sorted(lis.items(),key =lambda x:(-x[1],x[0]))\n",
    "df = pd.DataFrame(lis, columns=['Feature', 'Importance'])\n",
    "df.plot(kind='bar',x='Feature',figsize=(15,10))"
   ]
  },
  {
   "cell_type": "code",
   "execution_count": 48,
   "metadata": {},
   "outputs": [
    {
     "name": "stdout",
     "output_type": "stream",
     "text": [
      "writting is done.\n"
     ]
    }
   ],
   "source": [
    "pred = model.predict(test[features])\n",
    "sub = pd.DataFrame()\n",
    "sub['connection_id'] = test_id\n",
    "sub['target'] = pred\n",
    "sub.to_csv('rf.csv', index=False)\n",
    "print('writting is done.')"
   ]
  },
  {
   "cell_type": "code",
   "execution_count": 17,
   "metadata": {
    "collapsed": true
   },
   "outputs": [],
   "source": [
    "from sklearn.neighbors import KNeighborsClassifier"
   ]
  },
  {
   "cell_type": "code",
   "execution_count": 20,
   "metadata": {},
   "outputs": [
    {
     "data": {
      "text/plain": [
       "('maccuracy', 0.99742090445533838)"
      ]
     },
     "execution_count": 20,
     "metadata": {},
     "output_type": "execute_result"
    }
   ],
   "source": [
    "features = ['cont_1', 'cont_2', 'cont_3', 'cont_4', 'cont_5',\n",
    "            'cont_6', 'cont_7','cont_8','cont_9', 'cont_10','cont_11','cont_12',\n",
    "            'cont_13', 'cont_14', 'cont_15', 'cont_16', 'cont_17', 'cont_18',\n",
    "            'cat_1', 'cat_2','cat_3','cat_9','cat_20', 'cat_21', 'cat_22','cat_23']\n",
    "X_train = train[features]\n",
    "target = train['target']\n",
    "x_train, X_valid, y_train, y_valid = train_test_split(X_train, target, train_size = 0.7, stratify = target, random_state = 2017)\n",
    "model = KNeighborsClassifier(n_neighbors=5,weights='uniform',algorithm='auto',n_jobs=-1)\n",
    "model.fit(x_train,y_train)\n",
    "pred_test_knn = model.predict(X_valid)\n",
    "multAcc(pred_test_knn,y_valid)"
   ]
  },
  {
   "cell_type": "code",
   "execution_count": 21,
   "metadata": {},
   "outputs": [
    {
     "name": "stdout",
     "output_type": "stream",
     "text": [
      "[[ 1.          0.99482293]\n",
      " [ 0.99482293  1.        ]]\n"
     ]
    }
   ],
   "source": [
    "print(np.corrcoef(pred_test_rf,pred_test_knn))"
   ]
  },
  {
   "cell_type": "code",
   "execution_count": null,
   "metadata": {
    "collapsed": true
   },
   "outputs": [],
   "source": []
  },
  {
   "cell_type": "code",
   "execution_count": 55,
   "metadata": {},
   "outputs": [
    {
     "data": {
      "text/plain": [
       "LGBMClassifier(boosting_type='gbdt', colsample_bytree=0.6, learning_rate=0.1,\n",
       "        max_bin=255, max_depth=3, min_child_samples=10, min_child_weight=2,\n",
       "        min_split_gain=0.0, n_estimators=1000, n_jobs=4, num_leaves=31,\n",
       "        objective=None, random_state=2017, reg_alpha=0.15, reg_lambda=0.0,\n",
       "        silent=True, subsample=0.7, subsample_for_bin=50000,\n",
       "        subsample_freq=1)"
      ]
     },
     "execution_count": 55,
     "metadata": {},
     "output_type": "execute_result"
    }
   ],
   "source": [
    "features = ['cont_1', 'cont_2', 'cont_3', 'cont_4', 'cont_5',\n",
    "            'cont_6', 'cont_7','cont_8','cont_9', 'cont_10','cont_11','cont_12',\n",
    "            'cont_13', 'cont_14', 'cont_15', 'cont_16', 'cont_17', 'cont_18',\n",
    "            'cat_1', 'cat_2','cat_3','cat_9','cat_20', 'cat_21', 'cat_22','cat_23']\n",
    "X_train = train[features]\n",
    "target = train['target']\n",
    "x_train, X_valid, y_train, y_valid = train_test_split(X_train, target, train_size = 0.7, stratify = target, random_state = 2017)\n",
    "model = LGBMClassifier(learning_rate =0.10,n_estimators=1000,max_depth=3,min_child_weight=2,subsample=0.70,\n",
    "                       colsample_bytree=0.60,reg_alpha=0.15,n_jobs=4,random_state=2017)\n",
    "model.fit(train[features],target)\n",
    "# pred_test = model.predict(X_valid)\n",
    "# multAcc(pred_test,y_valid)"
   ]
  },
  {
   "cell_type": "code",
   "execution_count": 50,
   "metadata": {},
   "outputs": [
    {
     "data": {
      "text/plain": [
       "<matplotlib.axes._subplots.AxesSubplot at 0x11e2c1f98>"
      ]
     },
     "execution_count": 50,
     "metadata": {},
     "output_type": "execute_result"
    },
    {
     "data": {
      "image/png": "[encoded data removed]",
      "text/plain": [
       "<matplotlib.figure.Figure at 0x11db73f28>"
      ]
     },
     "metadata": {},
     "output_type": "display_data"
    }
   ],
   "source": [
    "feature_importance = pd.Series(model.feature_importances_)\n",
    "feature_ser = pd.Series(features)\n",
    "lis = pd.Series(feature_importance.values,index = feature_ser)\n",
    "lis = sorted(lis.items(),key =lambda x:(-x[1],x[0]))\n",
    "df = pd.DataFrame(lis, columns=['Feature', 'Importance'])\n",
    "df.plot(kind='bar',x='Feature',figsize=(15,10))"
   ]
  },
  {
   "cell_type": "code",
   "execution_count": 56,
   "metadata": {},
   "outputs": [
    {
     "name": "stdout",
     "output_type": "stream",
     "text": [
      "writting is done.\n"
     ]
    }
   ],
   "source": [
    "pred = model.predict(test[features])\n",
    "sub = pd.DataFrame()\n",
    "sub['connection_id'] = test_id\n",
    "sub['target'] = pred\n",
    "sub.to_csv('lgb.csv', index=False)\n",
    "print('writting is done.')"
   ]
  },
  {
   "cell_type": "markdown",
   "metadata": {},
   "source": [
    "### XGB Tuning"
   ]
  },
  {
   "cell_type": "markdown",
   "metadata": {},
   "source": [
    "parameter to tune\n",
    "'max_depth':list(range(3,10,2)),\n",
    "'min_child_weight':list(range(1,6,2))"
   ]
  },
  {
   "cell_type": "code",
   "execution_count": 6,
   "metadata": {
    "collapsed": true
   },
   "outputs": [],
   "source": [
    "features = ['cont_1', 'cont_2', 'cont_3', 'cont_4', 'cont_5',\n",
    "            'cont_6', 'cont_7','cont_8','cont_9', 'cont_10','cont_11','cont_12',\n",
    "            'cont_13', 'cont_14', 'cont_15', 'cont_16', 'cont_17', 'cont_18',\n",
    "            'cat_1', 'cat_2','cat_3','cat_9','cat_20', 'cat_21', 'cat_22','cat_23']\n",
    "target = train['target']"
   ]
  },
  {
   "cell_type": "code",
   "execution_count": 9,
   "metadata": {
    "scrolled": false
   },
   "outputs": [
    {
     "data": {
      "text/plain": [
       "({'mean_fit_time': array([  15.41658497,   30.10534959,   73.39295702,  101.26557703,\n",
       "          157.87125397]),\n",
       "  'mean_score_time': array([ 0.23999267,  0.62731543,  2.44869556,  3.95300879,  6.74392438]),\n",
       "  'mean_test_score': array([ 0.99811585,  0.99817491,  0.9980745 ,  0.99811585,  0.99808632]),\n",
       "  'mean_train_score': array([ 0.998327  ,  0.99859427,  0.99869025,  0.99869763,  0.99869616]),\n",
       "  'param_n_estimators': masked_array(data = [100 200 500 700 1000],\n",
       "               mask = [False False False False False],\n",
       "         fill_value = ?),\n",
       "  'params': ({'n_estimators': 100},\n",
       "   {'n_estimators': 200},\n",
       "   {'n_estimators': 500},\n",
       "   {'n_estimators': 700},\n",
       "   {'n_estimators': 1000}),\n",
       "  'rank_test_score': array([3, 1, 5, 2, 4], dtype=int32),\n",
       "  'split0_test_score': array([ 0.9982281 ,  0.99810998,  0.99819857,  0.99819857,  0.99810998]),\n",
       "  'split0_train_score': array([ 0.9982576 ,  0.99853815,  0.99861198,  0.99862675,  0.99862675]),\n",
       "  'split1_test_score': array([ 0.9983167 ,  0.99843482,  0.99828717,  0.99828717,  0.9983167 ]),\n",
       "  'split1_train_score': array([ 0.9982576 ,  0.99856768,  0.99870058,  0.99870058,  0.99870058]),\n",
       "  'split2_test_score': array([ 0.99790319,  0.99805085,  0.99793272,  0.99793272,  0.99790319]),\n",
       "  'split2_train_score': array([ 0.99840527,  0.99860461,  0.99871536,  0.99872274,  0.99872274]),\n",
       "  'split3_test_score': array([ 0.99808039,  0.99816898,  0.99799179,  0.99813945,  0.99810992]),\n",
       "  'split3_train_score': array([ 0.99837574,  0.99864891,  0.99871536,  0.99872274,  0.99871536]),\n",
       "  'split4_test_score': array([ 0.99805085,  0.99810992,  0.99796226,  0.99802132,  0.99799179]),\n",
       "  'split4_train_score': array([ 0.99833882,  0.99861199,  0.99870797,  0.99871536,  0.99871536]),\n",
       "  'std_fit_time': array([  0.29474354,   0.7951629 ,   2.79835723,   0.96261199,  42.76022688]),\n",
       "  'std_score_time': array([ 0.07002487,  0.14937759,  0.23539055,  0.76426104,  5.59675413]),\n",
       "  'std_test_score': array([ 0.00014398,  0.00013522,  0.00014153,  0.00012587,  0.00013904]),\n",
       "  'std_train_score': array([  6.04565358e-05,   3.81113173e-05,   3.95147671e-05,\n",
       "           3.63534389e-05,   3.54422086e-05])},\n",
       " {'n_estimators': 200},\n",
       " 0.99817491187620289)"
      ]
     },
     "execution_count": 9,
     "metadata": {},
     "output_type": "execute_result"
    }
   ],
   "source": [
    "param_test = {\n",
    "  'n_estimators' : [100,200,500,700,1000]\n",
    "}\n",
    "gsearch = GridSearchCV(estimator = XGBClassifier(learning_rate =0.1, n_estimators=1000, max_depth=5,\n",
    "                                                min_child_weight=1, gamma=0, subsample=0.8, colsample_bytree=0.8,\n",
    "                                                objective= 'binary:logistic', nthread=4, scale_pos_weight=1, seed=27), \n",
    "          param_grid = param_test, scoring='accuracy',n_jobs=-1,iid=False, cv=5)\n",
    "gsearch.fit(train[features],train['target'])\n",
    "gsearch.cv_results_, gsearch.best_params_, gsearch.best_score_"
   ]
  },
  {
   "cell_type": "code",
   "execution_count": 9,
   "metadata": {},
   "outputs": [
    {
     "data": {
      "text/plain": [
       "({'mean_fit_time': array([ 25.45919776,  38.28675528,  19.69121108,  29.47915592,\n",
       "          29.22258039,  29.69943819,  37.55748358,  36.15807838,\n",
       "          35.79208326,  43.89401731,  41.76775532,  38.29129171]),\n",
       "  'mean_score_time': array([ 0.43024111,  0.33555398,  0.30299559,  0.5879787 ,  0.54292574,\n",
       "          0.57287869,  0.8522572 ,  0.71265273,  0.70589256,  0.93688498,\n",
       "          0.76491957,  0.49237385]),\n",
       "  'mean_test_score': array([ 0.99794456,  0.99793865,  0.99786187,  0.99817491,  0.99812766,\n",
       "          0.99800362,  0.99813357,  0.99812766,  0.99809222,  0.99812175,\n",
       "          0.99812766,  0.99810403]),\n",
       "  'mean_train_score': array([ 0.99830781,  0.99828271,  0.99821626,  0.99859427,  0.99848795,\n",
       "          0.99844218,  0.99866515,  0.99858246,  0.99851158,  0.99867548,\n",
       "          0.9985987 ,  0.99853373]),\n",
       "  'param_max_depth': masked_array(data = [3 3 3 5 5 5 7 7 7 9 9 9],\n",
       "               mask = [False False False False False False False False False False False False],\n",
       "         fill_value = ?),\n",
       "  'param_min_child_weight': masked_array(data = [1 3 5 1 3 5 1 3 5 1 3 5],\n",
       "               mask = [False False False False False False False False False False False False],\n",
       "         fill_value = ?),\n",
       "  'params': ({'max_depth': 3, 'min_child_weight': 1},\n",
       "   {'max_depth': 3, 'min_child_weight': 3},\n",
       "   {'max_depth': 3, 'min_child_weight': 5},\n",
       "   {'max_depth': 5, 'min_child_weight': 1},\n",
       "   {'max_depth': 5, 'min_child_weight': 3},\n",
       "   {'max_depth': 5, 'min_child_weight': 5},\n",
       "   {'max_depth': 7, 'min_child_weight': 1},\n",
       "   {'max_depth': 7, 'min_child_weight': 3},\n",
       "   {'max_depth': 7, 'min_child_weight': 5},\n",
       "   {'max_depth': 9, 'min_child_weight': 1},\n",
       "   {'max_depth': 9, 'min_child_weight': 3},\n",
       "   {'max_depth': 9, 'min_child_weight': 5}),\n",
       "  'rank_test_score': array([10, 11, 12,  1,  5,  9,  2,  4,  8,  6,  3,  7], dtype=int32),\n",
       "  'split0_test_score': array([ 0.99816904,  0.99828717,  0.99808044,  0.99810998,  0.99837576,\n",
       "          0.99802138,  0.99819857,  0.99819857,  0.99813951,  0.99819857,\n",
       "          0.99819857,  0.99816904]),\n",
       "  'split0_train_score': array([ 0.9982576 ,  0.99822806,  0.99813947,  0.99853815,  0.99846432,\n",
       "          0.99841264,  0.99858245,  0.99852339,  0.99845694,  0.99859722,\n",
       "          0.99853815,  0.99847909]),\n",
       "  'split1_test_score': array([ 0.99819857,  0.99813951,  0.99813951,  0.99843482,  0.9983167 ,\n",
       "          0.99834623,  0.99828717,  0.9983167 ,  0.99837576,  0.99834623,\n",
       "          0.99819857,  0.99837576]),\n",
       "  'split1_train_score': array([ 0.99827236,  0.99824283,  0.99818376,  0.99856768,  0.99841264,\n",
       "          0.99836096,  0.99865628,  0.99855292,  0.99844956,  0.9986932 ,\n",
       "          0.99859722,  0.99848647]),\n",
       "  'split2_test_score': array([ 0.99781459,  0.99781459,  0.99769646,  0.99805085,  0.99790319,\n",
       "          0.99793272,  0.99799179,  0.99781459,  0.99787366,  0.99790319,\n",
       "          0.99799179,  0.99778506]),\n",
       "  'split2_train_score': array([ 0.99833882,  0.99830191,  0.99827237,  0.99860461,  0.99854555,\n",
       "          0.99849386,  0.99869321,  0.99861938,  0.99857508,  0.99868582,\n",
       "          0.99861938,  0.99858246]),\n",
       "  'split3_test_score': array([ 0.997726  ,  0.9976374 ,  0.99748974,  0.99816898,  0.99796226,\n",
       "          0.99769646,  0.99816898,  0.99813945,  0.99808039,  0.99816898,\n",
       "          0.99816898,  0.99816898]),\n",
       "  'split3_train_score': array([ 0.99836097,  0.99833882,  0.99825761,  0.99864891,  0.99853078,\n",
       "          0.99848648,  0.99870059,  0.99861938,  0.99851601,  0.99870059,\n",
       "          0.99861938,  0.99855293]),\n",
       "  'split4_test_score': array([ 0.99781459,  0.99781459,  0.99790319,  0.99810992,  0.99808039,\n",
       "          0.99802132,  0.99802132,  0.99816898,  0.99799179,  0.99799179,\n",
       "          0.99808039,  0.99802132]),\n",
       "  'split4_train_score': array([ 0.99830929,  0.99830191,  0.99822808,  0.99861199,  0.99848648,\n",
       "          0.99845695,  0.99869321,  0.99859723,  0.99856031,  0.99870059,\n",
       "          0.99861938,  0.99856769]),\n",
       "  'std_fit_time': array([ 12.59727786,  15.72064611,   0.42561934,   0.74215856,\n",
       "           0.92123374,   0.57820738,   0.83763631,   0.8391027 ,\n",
       "           0.56573722,   0.36652719,   0.60398964,   2.47973897]),\n",
       "  'std_score_time': array([ 0.17603526,  0.122064  ,  0.06134189,  0.1341243 ,  0.11059121,\n",
       "          0.06042709,  0.10878396,  0.06098909,  0.05835835,  0.01156374,\n",
       "          0.04622142,  0.22167737]),\n",
       "  'std_test_score': array([  1.98223947e-04,   2.38049442e-04,   2.41828947e-04,\n",
       "           1.35218374e-04,   1.88290866e-04,   2.08508968e-04,\n",
       "           1.11150338e-04,   1.67702065e-04,   1.67705677e-04,\n",
       "           1.56958785e-04,   8.05726478e-05,   1.95378393e-04]),\n",
       "  'std_train_score': array([  3.89051024e-05,   4.11393961e-05,   4.88903623e-05,\n",
       "           3.81113173e-05,   4.77153328e-05,   4.96420696e-05,\n",
       "           4.41545080e-05,   3.82259472e-05,   5.14960888e-05,\n",
       "           3.95144469e-05,   3.14666430e-05,   4.26993576e-05])},\n",
       " {'max_depth': 5, 'min_child_weight': 1},\n",
       " 0.99817491187620289)"
      ]
     },
     "execution_count": 9,
     "metadata": {},
     "output_type": "execute_result"
    }
   ],
   "source": [
    "param_test = {\n",
    " 'max_depth':list(range(3,10,2)),\n",
    " 'min_child_weight':list(range(1,6,2))\n",
    "}\n",
    "gsearch = GridSearchCV(estimator = XGBClassifier(learning_rate =0.1, n_estimators=200, max_depth=5,\n",
    "                                                min_child_weight=1, gamma=0, subsample=0.8, colsample_bytree=0.8,\n",
    "                                                objective= 'binary:logistic', nthread=4, scale_pos_weight=1, seed=27), \n",
    "          param_grid = param_test, scoring='accuracy',n_jobs=-1,iid=False, cv=5)\n",
    "gsearch.fit(train[features],train['target'])\n",
    "gsearch.cv_results_, gsearch.best_params_, gsearch.best_score_"
   ]
  },
  {
   "cell_type": "code",
   "execution_count": 7,
   "metadata": {
    "collapsed": true
   },
   "outputs": [],
   "source": [
    "seed = np.random.seed(0)"
   ]
  },
  {
   "cell_type": "code",
   "execution_count": 8,
   "metadata": {},
   "outputs": [
    {
     "data": {
      "text/plain": [
       "({'mean_fit_time': array([ 30.65169044,  31.84866395,  33.2658288 ,  34.64431086,  29.01222444]),\n",
       "  'mean_score_time': array([ 0.51097527,  0.49741011,  0.46720438,  0.34108076,  0.43291054]),\n",
       "  'mean_test_score': array([ 0.99813357,  0.99812766,  0.99810994,  0.99811585,  0.99813357]),\n",
       "  'mean_train_score': array([ 0.99861051,  0.99860756,  0.99860313,  0.99859279,  0.99859427]),\n",
       "  'param_gamma': masked_array(data = [0.0 0.1 0.2 0.3 0.4],\n",
       "               mask = [False False False False False],\n",
       "         fill_value = ?),\n",
       "  'params': ({'gamma': 0.0},\n",
       "   {'gamma': 0.1},\n",
       "   {'gamma': 0.2},\n",
       "   {'gamma': 0.3},\n",
       "   {'gamma': 0.4}),\n",
       "  'rank_test_score': array([1, 3, 5, 4, 2], dtype=int32),\n",
       "  'split0_test_score': array([ 0.99808044,  0.99805091,  0.99813951,  0.99805091,  0.99805091]),\n",
       "  'split0_train_score': array([ 0.99854554,  0.99853815,  0.99853815,  0.99853815,  0.99852339]),\n",
       "  'split1_test_score': array([ 0.99834623,  0.99843482,  0.99834623,  0.99843482,  0.99840529]),\n",
       "  'split1_train_score': array([ 0.99858245,  0.99857507,  0.99856768,  0.9985603 ,  0.99854554]),\n",
       "  'split2_test_score': array([ 0.99796226,  0.99796226,  0.99793272,  0.99793272,  0.99796226]),\n",
       "  'split2_train_score': array([ 0.99866367,  0.99866367,  0.99867106,  0.99863414,  0.99864891]),\n",
       "  'split3_test_score': array([ 0.99810992,  0.99808039,  0.99805085,  0.99802132,  0.99810992]),\n",
       "  'split3_train_score': array([ 0.99866367,  0.99866367,  0.99864153,  0.99863414,  0.99865629]),\n",
       "  'split4_test_score': array([ 0.99816898,  0.99810992,  0.99808039,  0.99813945,  0.99813945]),\n",
       "  'split4_train_score': array([ 0.99859723,  0.99859723,  0.99859723,  0.99859723,  0.99859723]),\n",
       "  'std_fit_time': array([ 0.32756866,  1.10539201,  0.10215894,  0.84549606,  9.55910364]),\n",
       "  'std_score_time': array([ 0.14768266,  0.10298037,  0.07313417,  0.05180062,  0.13709388]),\n",
       "  'std_test_score': array([ 0.00012586,  0.00016134,  0.000136  ,  0.00017262,  0.00014873]),\n",
       "  'std_train_score': array([  4.65582590e-05,   4.95531877e-05,   4.81698074e-05,\n",
       "           3.86794385e-05,   5.33672629e-05])},\n",
       " {'gamma': 0.0},\n",
       " 0.99813356707319356)"
      ]
     },
     "execution_count": 8,
     "metadata": {},
     "output_type": "execute_result"
    }
   ],
   "source": [
    "param_test = {\n",
    " 'gamma':[i/10.0 for i in range(0,5)]\n",
    "}\n",
    "gsearch = GridSearchCV(estimator = XGBClassifier(learning_rate =0.1, n_estimators=200, max_depth=5,\n",
    "                                                min_child_weight=1, gamma=0, subsample=0.8, colsample_bytree=0.8,\n",
    "                                                objective= 'binary:logistic', nthread=4, scale_pos_weight=1, seed=seed), \n",
    "          param_grid = param_test, scoring='accuracy',n_jobs=-1,iid=False, cv=5)\n",
    "gsearch.fit(train[features],train['target'])\n",
    "gsearch.cv_results_, gsearch.best_params_, gsearch.best_score_"
   ]
  },
  {
   "cell_type": "code",
   "execution_count": 10,
   "metadata": {},
   "outputs": [
    {
     "data": {
      "text/plain": [
       "({'mean_fit_time': array([  7.24490833,   6.87465987,   7.49506245,   6.30826612,\n",
       "           8.43773227,   8.30450935,   8.53081827,   8.85409236,\n",
       "           9.15160618,   8.97755337,   8.87677846,   8.04793386,\n",
       "          10.56743913,   9.30457664,   9.07489176,   8.89864354]),\n",
       "  'mean_score_time': array([ 0.17371264,  0.16559739,  0.19553161,  0.17606659,  0.19754457,\n",
       "          0.17218494,  0.18814139,  0.18056493,  0.17330289,  0.17371464,\n",
       "          0.17318316,  0.17549114,  0.16427846,  0.16222639,  0.16551232,\n",
       "          0.16304021]),\n",
       "  'mean_test_score': array([ 0.99815719,  0.99808041,  0.99808041,  0.99817491,  0.99815719,\n",
       "          0.99813947,  0.99812175,  0.99819854,  0.99812175,  0.99814538,\n",
       "          0.99813357,  0.99813947,  0.99812766,  0.99809222,  0.99812766,\n",
       "          0.99811585]),\n",
       "  'mean_train_score': array([ 0.99856621,  0.99858984,  0.99858098,  0.99859279,  0.99858541,\n",
       "          0.99858836,  0.99860313,  0.99859722,  0.99859722,  0.9985987 ,\n",
       "          0.99861051,  0.99858836,  0.99858836,  0.99860608,  0.99860904,\n",
       "          0.99858098]),\n",
       "  'param_colsample_bytree': masked_array(data = [0.6 0.6 0.6 0.6 0.7 0.7 0.7 0.7 0.8 0.8 0.8 0.8 0.9 0.9 0.9 0.9],\n",
       "               mask = [False False False False False False False False False False False False\n",
       "   False False False False],\n",
       "         fill_value = ?),\n",
       "  'param_subsample': masked_array(data = [0.6 0.7 0.8 0.9 0.6 0.7 0.8 0.9 0.6 0.7 0.8 0.9 0.6 0.7 0.8 0.9],\n",
       "               mask = [False False False False False False False False False False False False\n",
       "   False False False False],\n",
       "         fill_value = ?),\n",
       "  'params': ({'colsample_bytree': 0.6, 'subsample': 0.6},\n",
       "   {'colsample_bytree': 0.6, 'subsample': 0.7},\n",
       "   {'colsample_bytree': 0.6, 'subsample': 0.8},\n",
       "   {'colsample_bytree': 0.6, 'subsample': 0.9},\n",
       "   {'colsample_bytree': 0.7, 'subsample': 0.6},\n",
       "   {'colsample_bytree': 0.7, 'subsample': 0.7},\n",
       "   {'colsample_bytree': 0.7, 'subsample': 0.8},\n",
       "   {'colsample_bytree': 0.7, 'subsample': 0.9},\n",
       "   {'colsample_bytree': 0.8, 'subsample': 0.6},\n",
       "   {'colsample_bytree': 0.8, 'subsample': 0.7},\n",
       "   {'colsample_bytree': 0.8, 'subsample': 0.8},\n",
       "   {'colsample_bytree': 0.8, 'subsample': 0.9},\n",
       "   {'colsample_bytree': 0.9, 'subsample': 0.6},\n",
       "   {'colsample_bytree': 0.9, 'subsample': 0.7},\n",
       "   {'colsample_bytree': 0.9, 'subsample': 0.8},\n",
       "   {'colsample_bytree': 0.9, 'subsample': 0.9}),\n",
       "  'rank_test_score': array([ 3, 15, 15,  2,  4,  7, 11,  1, 12,  5,  8,  6, 10, 14,  9, 13], dtype=int32),\n",
       "  'split0_test_score': array([ 0.99816904,  0.99810998,  0.99813951,  0.99840529,  0.99816904,\n",
       "          0.99813951,  0.99810998,  0.99834623,  0.99816904,  0.99813951,\n",
       "          0.99808044,  0.99810998,  0.99816904,  0.99813951,  0.99813951,\n",
       "          0.99813951]),\n",
       "  'split0_train_score': array([ 0.99850124,  0.99850862,  0.99852339,  0.99853077,  0.99852339,\n",
       "          0.99853077,  0.99853077,  0.99852339,  0.99852339,  0.99853077,\n",
       "          0.99854554,  0.99854554,  0.99852339,  0.99853815,  0.99853815,\n",
       "          0.99854554]),\n",
       "  'split1_test_score': array([ 0.99837576,  0.99837576,  0.99834623,  0.99834623,  0.99843482,\n",
       "          0.99837576,  0.99837576,  0.99846436,  0.99834623,  0.9983167 ,\n",
       "          0.99834623,  0.99837576,  0.99840529,  0.99837576,  0.99840529,\n",
       "          0.99837576]),\n",
       "  'split1_train_score': array([ 0.99852339,  0.99855292,  0.9985603 ,  0.99858245,  0.99854554,\n",
       "          0.99853077,  0.99856768,  0.99857507,  0.9985603 ,  0.9985603 ,\n",
       "          0.99858245,  0.99855292,  0.99855292,  0.99856768,  0.99858245,\n",
       "          0.9985603 ]),\n",
       "  'split2_test_score': array([ 0.99784413,  0.99799179,  0.99793272,  0.99805085,  0.99784413,\n",
       "          0.99787366,  0.99793272,  0.99793272,  0.99781459,  0.99799179,\n",
       "          0.99796226,  0.99793272,  0.99790319,  0.99781459,  0.99793272,\n",
       "          0.99793272]),\n",
       "  'split2_train_score': array([ 0.99859723,  0.99864153,  0.99863414,  0.99860461,  0.99861199,\n",
       "          0.99864891,  0.99867106,  0.99864153,  0.99863414,  0.99866367,\n",
       "          0.99866367,  0.99864153,  0.99860461,  0.99866367,  0.99865629,\n",
       "          0.99863414]),\n",
       "  'split3_test_score': array([ 0.99816898,  0.99784413,  0.99790319,  0.99790319,  0.99813945,\n",
       "          0.99810992,  0.99810992,  0.99813945,  0.99816898,  0.99813945,\n",
       "          0.99810992,  0.99813945,  0.99810992,  0.99808039,  0.99810992,\n",
       "          0.99805085]),\n",
       "  'split3_train_score': array([ 0.99861199,  0.99864153,  0.99858984,  0.99864891,  0.99861938,\n",
       "          0.99863414,  0.99864891,  0.99865629,  0.99864153,  0.99863414,\n",
       "          0.99866367,  0.99864891,  0.99863414,  0.99865629,  0.99866367,\n",
       "          0.99861199]),\n",
       "  'split4_test_score': array([ 0.99822805,  0.99808039,  0.99808039,  0.99816898,  0.99819852,\n",
       "          0.99819852,  0.99808039,  0.99810992,  0.99810992,  0.99813945,\n",
       "          0.99816898,  0.99813945,  0.99805085,  0.99805085,  0.99805085,\n",
       "          0.99808039]),\n",
       "  'split4_train_score': array([ 0.99859723,  0.99860461,  0.99859723,  0.99859723,  0.99862676,\n",
       "          0.99859723,  0.99859723,  0.99858984,  0.99862676,  0.99860461,\n",
       "          0.99859723,  0.99855293,  0.99862676,  0.99860461,  0.99860461,\n",
       "          0.99855293]),\n",
       "  'std_fit_time': array([ 0.24610774,  0.088402  ,  0.53390639,  0.11710275,  0.3257347 ,\n",
       "          0.43243662,  0.83633175,  0.69035339,  0.51709937,  0.40310909,\n",
       "          0.50765385,  0.45344513,  0.43595021,  0.04574016,  0.11393907,\n",
       "          0.52701606]),\n",
       "  'std_score_time': array([ 0.00710115,  0.00228122,  0.01938538,  0.00219238,  0.02886032,\n",
       "          0.00881399,  0.01363216,  0.01162346,  0.00930837,  0.00479412,\n",
       "          0.00916823,  0.0183838 ,  0.00364525,  0.0045536 ,  0.00650407,\n",
       "          0.00846931]),\n",
       "  'std_test_score': array([ 0.00017383,  0.00017423,  0.00015961,  0.0001853 ,  0.00018828,\n",
       "          0.00016177,  0.000143  ,  0.0001868 ,  0.00017282,  0.000103  ,\n",
       "          0.00012586,  0.00014103,  0.00016455,  0.00017975,  0.00015584,\n",
       "          0.00014638]),\n",
       "  'std_train_score': array([  4.48901356e-05,   5.20015216e-05,   3.71844784e-05,\n",
       "           3.81107623e-05,   4.24430991e-05,   4.99482558e-05,\n",
       "           5.14530597e-05,   4.78517515e-05,   4.69322872e-05,\n",
       "           4.81700935e-05,   4.65582590e-05,   4.65576024e-05,\n",
       "           4.31562248e-05,   4.88443067e-05,   4.68386219e-05,\n",
       "           3.53802926e-05])},\n",
       " {'colsample_bytree': 0.7, 'subsample': 0.9},\n",
       " 0.99819853630675914)"
      ]
     },
     "execution_count": 10,
     "metadata": {},
     "output_type": "execute_result"
    }
   ],
   "source": [
    "param_test = {\n",
    " 'subsample':[i/10.0 for i in range(6,10)],\n",
    " 'colsample_bytree':[i/10.0 for i in range(6,10)]\n",
    "}\n",
    "gsearch = GridSearchCV(estimator = XGBClassifier(learning_rate =0.1, n_estimators=200, max_depth=5,\n",
    "                                                min_child_weight=1, gamma=0, subsample=0.8, colsample_bytree=0.8,\n",
    "                                                objective= 'binary:logistic', nthread=4, scale_pos_weight=1, seed=np.random.seed(2017)), \n",
    "          param_grid = param_test, scoring='accuracy',n_jobs=1,iid=False, cv=5)\n",
    "gsearch.fit(train[features],train['target'])\n",
    "gsearch.cv_results_, gsearch.best_params_, gsearch.best_score_"
   ]
  },
  {
   "cell_type": "code",
   "execution_count": 11,
   "metadata": {},
   "outputs": [
    {
     "data": {
      "text/plain": [
       "({'mean_fit_time': array([  8.9044004 ,   8.65717311,   8.85144472,   9.6190402 ,\n",
       "          10.19119773,   9.52322536,  10.57133927,  10.32744284,  10.94156456]),\n",
       "  'mean_score_time': array([ 0.15327296,  0.15697422,  0.15755992,  0.1568161 ,  0.17592902,\n",
       "          0.16173859,  0.16551495,  0.1669136 ,  0.17023249]),\n",
       "  'mean_test_score': array([ 0.99814538,  0.99813357,  0.99812766,  0.99808631,  0.99809222,\n",
       "          0.99813947,  0.99810994,  0.99817491,  0.99812175]),\n",
       "  'mean_train_score': array([ 0.99859722,  0.99860608,  0.99860756,  0.99860018,  0.99860608,\n",
       "          0.99858984,  0.99860165,  0.99859722,  0.9985987 ]),\n",
       "  'param_colsample_bytree': masked_array(data = [0.85 0.85 0.85 0.9 0.9 0.9 0.95 0.95 0.95],\n",
       "               mask = [False False False False False False False False False],\n",
       "         fill_value = ?),\n",
       "  'param_subsample': masked_array(data = [0.65 0.7 0.75 0.65 0.7 0.75 0.65 0.7 0.75],\n",
       "               mask = [False False False False False False False False False],\n",
       "         fill_value = ?),\n",
       "  'params': ({'colsample_bytree': 0.85, 'subsample': 0.65},\n",
       "   {'colsample_bytree': 0.85, 'subsample': 0.7},\n",
       "   {'colsample_bytree': 0.85, 'subsample': 0.75},\n",
       "   {'colsample_bytree': 0.9, 'subsample': 0.65},\n",
       "   {'colsample_bytree': 0.9, 'subsample': 0.7},\n",
       "   {'colsample_bytree': 0.9, 'subsample': 0.75},\n",
       "   {'colsample_bytree': 0.95, 'subsample': 0.65},\n",
       "   {'colsample_bytree': 0.95, 'subsample': 0.7},\n",
       "   {'colsample_bytree': 0.95, 'subsample': 0.75}),\n",
       "  'rank_test_score': array([2, 4, 5, 9, 8, 3, 7, 1, 6], dtype=int32),\n",
       "  'split0_test_score': array([ 0.99813951,  0.99813951,  0.99816904,  0.99813951,  0.99813951,\n",
       "          0.99813951,  0.99816904,  0.99813951,  0.99813951]),\n",
       "  'split0_train_score': array([ 0.99853077,  0.99853077,  0.99853815,  0.99852339,  0.99853815,\n",
       "          0.99853815,  0.99852339,  0.99853077,  0.99853815]),\n",
       "  'split1_test_score': array([ 0.99840529,  0.99840529,  0.99840529,  0.99837576,  0.99837576,\n",
       "          0.99837576,  0.99837576,  0.99840529,  0.99837576]),\n",
       "  'split1_train_score': array([ 0.99853815,  0.9985603 ,  0.99857507,  0.9985603 ,  0.99856768,\n",
       "          0.9985603 ,  0.99855292,  0.99855292,  0.99858245]),\n",
       "  'split2_test_score': array([ 0.99790319,  0.99790319,  0.99787366,  0.99787366,  0.99781459,\n",
       "          0.99793272,  0.99787366,  0.99790319,  0.99790319]),\n",
       "  'split2_train_score': array([ 0.99865629,  0.99866367,  0.99867106,  0.99864153,  0.99866367,\n",
       "          0.99863414,  0.99864153,  0.99865629,  0.99862676]),\n",
       "  'split3_test_score': array([ 0.99813945,  0.99816898,  0.99808039,  0.99808039,  0.99808039,\n",
       "          0.99802132,  0.99810992,  0.99819852,  0.99810992]),\n",
       "  'split3_train_score': array([ 0.99864891,  0.99865629,  0.99864891,  0.99863414,  0.99865629,\n",
       "          0.99861199,  0.99867106,  0.99864153,  0.99865629]),\n",
       "  'split4_test_score': array([ 0.99813945,  0.99805085,  0.99810992,  0.99796226,  0.99805085,\n",
       "          0.99822805,  0.99802132,  0.99822805,  0.99808039]),\n",
       "  'split4_train_score': array([ 0.99861199,  0.99861938,  0.99860461,  0.99864153,  0.99860461,\n",
       "          0.99860461,  0.99861938,  0.99860461,  0.99858984]),\n",
       "  'std_fit_time': array([ 0.25090056,  0.12208819,  0.23051633,  0.23598049,  0.52483059,\n",
       "          0.09726669,  0.40615973,  0.18401709,  1.46339629]),\n",
       "  'std_score_time': array([ 0.00810187,  0.00616515,  0.01220236,  0.00859007,  0.00786271,\n",
       "          0.0053806 ,  0.00204242,  0.0068217 ,  0.00643269]),\n",
       "  'std_test_score': array([ 0.00015894,  0.00016434,  0.0001708 ,  0.00017161,  0.00017975,\n",
       "          0.00015517,  0.00016603,  0.0001622 ,  0.0001513 ]),\n",
       "  'std_train_score': array([  5.34491449e-05,   5.25023118e-05,   4.82151116e-05,\n",
       "           4.91119058e-05,   4.88443067e-05,   3.52583641e-05,\n",
       "           5.51754295e-05,   4.87551726e-05,   4.02804549e-05])},\n",
       " {'colsample_bytree': 0.95, 'subsample': 0.7},\n",
       " 0.99817491187620289)"
      ]
     },
     "execution_count": 11,
     "metadata": {},
     "output_type": "execute_result"
    }
   ],
   "source": [
    "param_test = {\n",
    " 'subsample':[0.65,0.70,0.75],\n",
    " 'colsample_bytree':[0.85,0.90,0.95]\n",
    "}\n",
    "gsearch = GridSearchCV(estimator = XGBClassifier(learning_rate =0.1, n_estimators=200, max_depth=5,\n",
    "                                                min_child_weight=1, gamma=0, subsample=0.8, colsample_bytree=0.8,\n",
    "                                                objective= 'binary:logistic', nthread=4, scale_pos_weight=1, seed=np.random.seed(2017)), \n",
    "          param_grid = param_test, scoring='accuracy',n_jobs=1,iid=False, cv=5)\n",
    "gsearch.fit(train[features],train['target'])\n",
    "gsearch.cv_results_, gsearch.best_params_, gsearch.best_score_"
   ]
  },
  {
   "cell_type": "code",
   "execution_count": 12,
   "metadata": {},
   "outputs": [
    {
     "data": {
      "text/plain": [
       "({'mean_fit_time': array([ 10.04501982,  10.48786459,  10.59731693,  10.71289744,   6.74392142]),\n",
       "  'mean_score_time': array([ 0.17264714,  0.17344136,  0.17350249,  0.18037653,  0.07783704]),\n",
       "  'mean_test_score': array([ 0.99817491,  0.99813357,  0.9981631 ,  0.99809222,  0.99713538]),\n",
       "  'mean_train_score': array([ 0.99859722,  0.9985987 ,  0.99858984,  0.99856178,  0.99721955]),\n",
       "  'param_reg_alpha': masked_array(data = [1e-05 0.01 0.1 1 100],\n",
       "               mask = [False False False False False],\n",
       "         fill_value = ?),\n",
       "  'params': ({'reg_alpha': 1e-05},\n",
       "   {'reg_alpha': 0.01},\n",
       "   {'reg_alpha': 0.1},\n",
       "   {'reg_alpha': 1},\n",
       "   {'reg_alpha': 100}),\n",
       "  'rank_test_score': array([1, 3, 2, 4, 5], dtype=int32),\n",
       "  'split0_test_score': array([ 0.99813951,  0.99813951,  0.99813951,  0.99816904,  0.99751934]),\n",
       "  'split0_train_score': array([ 0.99853077,  0.99853077,  0.99852339,  0.99847909,  0.99715013]),\n",
       "  'split1_test_score': array([ 0.99840529,  0.99837576,  0.99837576,  0.99837576,  0.99686965]),\n",
       "  'split1_train_score': array([ 0.99855292,  0.99857507,  0.99854554,  0.99850862,  0.99721658]),\n",
       "  'split2_test_score': array([ 0.99790319,  0.99793272,  0.99790319,  0.99787366,  0.99704675]),\n",
       "  'split2_train_score': array([ 0.99865629,  0.99864891,  0.99864891,  0.99861199,  0.99716492]),\n",
       "  'split3_test_score': array([ 0.99819852,  0.99816898,  0.99813945,  0.99808039,  0.9975488 ]),\n",
       "  'split3_train_score': array([ 0.99864153,  0.99863414,  0.99863414,  0.99859723,  0.99726828]),\n",
       "  'split4_test_score': array([ 0.99822805,  0.99805085,  0.99825758,  0.99796226,  0.99669236]),\n",
       "  'split4_train_score': array([ 0.99860461,  0.99860461,  0.99859723,  0.99861199,  0.99729782]),\n",
       "  'std_fit_time': array([ 1.13148402,  0.27256354,  0.15288016,  0.22126778,  0.05526196]),\n",
       "  'std_score_time': array([ 0.00808198,  0.00813955,  0.00602196,  0.0044561 ,  0.00766668]),\n",
       "  'std_test_score': array([ 0.0001622 ,  0.00014637,  0.00015673,  0.00017384,  0.00034441]),\n",
       "  'std_train_score': array([  4.87551726e-05,   4.23911358e-05,   4.87551974e-05,\n",
       "           5.65035248e-05,   5.71176212e-05])},\n",
       " {'reg_alpha': 1e-05},\n",
       " 0.99817491187620289)"
      ]
     },
     "execution_count": 12,
     "metadata": {},
     "output_type": "execute_result"
    }
   ],
   "source": [
    "param_test = {\n",
    " 'reg_alpha':[1e-5, 1e-2, 0.1, 1, 100]\n",
    "}\n",
    "gsearch = GridSearchCV(estimator = XGBClassifier(learning_rate =0.1, n_estimators=200, max_depth=5,\n",
    "                                                min_child_weight=1, gamma=0, subsample=0.7, colsample_bytree=0.95,\n",
    "                                                objective= 'binary:logistic', nthread=4, scale_pos_weight=1, seed=np.random.seed(2017)), \n",
    "          param_grid = param_test, scoring='accuracy',n_jobs=1,iid=False, cv=5)\n",
    "gsearch.fit(train[features],train['target'])\n",
    "gsearch.cv_results_, gsearch.best_params_, gsearch.best_score_"
   ]
  },
  {
   "cell_type": "code",
   "execution_count": null,
   "metadata": {
    "collapsed": true
   },
   "outputs": [],
   "source": []
  }
 ],
 "metadata": {
  "kernelspec": {
   "display_name": "Python 3",
   "language": "python",
   "name": "python3"
  },
  "language_info": {
   "codemirror_mode": {
    "name": "ipython",
    "version": 3
   },
   "file_extension": ".py",
   "mimetype": "text/x-python",
   "name": "python",
   "nbconvert_exporter": "python",
   "pygments_lexer": "ipython3",
   "version": "3.6.1"
  }
 },
 "nbformat": 4,
 "nbformat_minor": 2
}
