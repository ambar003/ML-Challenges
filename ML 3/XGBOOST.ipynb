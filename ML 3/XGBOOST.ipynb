{
 "cells": [
  {
   "cell_type": "code",
   "execution_count": 1,
   "metadata": {
    "collapsed": true
   },
   "outputs": [],
   "source": [
    "import pandas as pd\n",
    "import numpy as np\n",
    "import os\n",
    "mingw_path = 'C:\\\\Program Files\\\\mingw-w64\\\\x86_64-6.3.0-posix-seh-rt_v5-rev1\\\\mingw64\\\\bin'\n",
    "os.environ['PATH'] = mingw_path + ';' + os.environ['PATH']\n",
    "from xgboost.sklearn import XGBClassifier\n",
    "import datetime\n",
    "from sklearn.metrics import roc_auc_score"
   ]
  },
  {
   "cell_type": "code",
   "execution_count": 2,
   "metadata": {
    "collapsed": true
   },
   "outputs": [],
   "source": [
    "from sklearn.model_selection import train_test_split"
   ]
  },
  {
   "cell_type": "code",
   "execution_count": 3,
   "metadata": {
    "collapsed": true
   },
   "outputs": [],
   "source": [
    "from sklearn.ensemble import RandomForestClassifier"
   ]
  },
  {
   "cell_type": "code",
   "execution_count": 4,
   "metadata": {
    "collapsed": false
   },
   "outputs": [
    {
     "name": "stdout",
     "output_type": "stream",
     "text": [
      "Populating the interactive namespace from numpy and matplotlib\n"
     ]
    }
   ],
   "source": [
    "% pylab inline"
   ]
  },
  {
   "cell_type": "code",
   "execution_count": 5,
   "metadata": {
    "collapsed": false
   },
   "outputs": [],
   "source": [
    "train = pd.read_csv('updated_train.csv')"
   ]
  },
  {
   "cell_type": "code",
   "execution_count": 6,
   "metadata": {
    "collapsed": true
   },
   "outputs": [],
   "source": [
    "test = pd.read_csv('updated_test.csv')"
   ]
  },
  {
   "cell_type": "code",
<<<<<<< HEAD
   "execution_count": 7,
=======
   "execution_count": 6,
>>>>>>> b7444cd3bc4369987e21de1b29cdd1657900693e
   "metadata": {
    "collapsed": false
   },
   "outputs": [
    {
     "data": {
      "text/plain": [
       "(1213781, 3706907)"
      ]
     },
<<<<<<< HEAD
     "execution_count": 7,
=======
     "execution_count": 6,
>>>>>>> b7444cd3bc4369987e21de1b29cdd1657900693e
     "metadata": {},
     "output_type": "execute_result"
    }
   ],
   "source": [
    "len(train),len(test)"
   ]
  },
  {
   "cell_type": "code",
<<<<<<< HEAD
   "execution_count": 8,
=======
   "execution_count": 7,
>>>>>>> b7444cd3bc4369987e21de1b29cdd1657900693e
   "metadata": {
    "collapsed": true
   },
   "outputs": [],
   "source": [
<<<<<<< HEAD
    "temp = ['siteid','offerid','merchant','category']"
=======
    "# create aggregate features\n",
    "offer_bid_count = train.groupby(['offerid','browserid']).size().reset_index()\n",
    "offer_bid_count.columns = ['offerid','browserid','offer_bid_count']\n",
    "\n",
    "offer_bid_count_test = test.groupby(['offerid','browserid']).size().reset_index()\n",
    "offer_bid_count_test.columns = ['offerid','browserid','offer_bid_count']\n",
    "\n",
    "offer_did_count = train.groupby(['offerid','devid']).size().reset_index()\n",
    "offer_did_count.columns = ['offerid','devid','offer_did_count']\n",
    "\n",
    "offer_did_count_test = test.groupby(['offerid','devid']).size().reset_index()\n",
    "offer_did_count_test.columns = ['offerid','devid','offer_did_count']\n",
    "\n",
    "merch_did_count = train.groupby(['merchant','devid']).size().reset_index()\n",
    "merch_did_count.columns = ['merchant','devid','merch_did_count']\n",
    "\n",
    "merch_did_count_test = test.groupby(['merchant','devid']).size().reset_index()\n",
    "merch_did_count_test.columns = ['merchant','devid','merch_did_count']\n",
    "\n",
    "merch_bid_count = train.groupby(['merchant','browserid']).size().reset_index()\n",
    "merch_bid_count.columns = ['merchant','browserid','merch_bid_count']\n",
    "\n",
    "merch_bid_count_test = test.groupby(['merchant','browserid']).size().reset_index()\n",
    "merch_bid_count_test.columns = ['merchant','browserid','merch_bid_count']\n",
    "\n",
    "cat_did_count = train.groupby(['category','devid']).size().reset_index()\n",
    "cat_did_count.columns = ['category','devid','cat_did_count']\n",
    "\n",
    "cat_did_count_test = test.groupby(['category','devid']).size().reset_index()\n",
    "cat_did_count_test.columns = ['category','devid','cat_did_count']\n",
    "\n",
    "cat_bid_count = train.groupby(['category','browserid']).size().reset_index()\n",
    "cat_bid_count.columns = ['category','browserid','cat_bid_count']\n",
    "\n",
    "cat_bid_count_test = test.groupby(['category','browserid']).size().reset_index()\n",
    "cat_bid_count_test.columns = ['category','browserid','cat_bid_count']"
>>>>>>> b7444cd3bc4369987e21de1b29cdd1657900693e
   ]
  },
  {
   "cell_type": "code",
<<<<<<< HEAD
   "execution_count": 9,
   "metadata": {
    "collapsed": false
   },
   "outputs": [],
   "source": [
    "from sklearn.preprocessing import LabelEncoder\n",
    "for col in temp:\n",
    "    le = LabelEncoder()\n",
    "    data = train[col].append(test[col])\n",
    "    le.fit(data.values)\n",
    "    train[col]=le.transform(train[col])\n",
    "    test[col]=le.transform(test[col])"
   ]
  },
  {
   "cell_type": "code",
   "execution_count": 10,
=======
   "execution_count": 8,
>>>>>>> b7444cd3bc4369987e21de1b29cdd1657900693e
   "metadata": {
    "collapsed": true
   },
   "outputs": [],
   "source": [
<<<<<<< HEAD
    "temp = ['site_offer_count', 'site_cat_count',\n",
    "       'site_mcht_count','site_bid_count',\n",
    "       'site_did_count', 'site_bdid_count']\n",
    "for col in temp:\n",
    "    le = LabelEncoder()\n",
    "    data = train[col].append(test[col])\n",
    "    le.fit(data.values)\n",
    "    train[col]=le.transform(train[col])\n",
    "    test[col]=le.transform(test[col])"
   ]
  },
  {
   "cell_type": "code",
   "execution_count": 11,
   "metadata": {
    "collapsed": false
   },
   "outputs": [
    {
     "data": {
      "text/html": [
       "<div>\n",
       "<style>\n",
       "    .dataframe thead tr:only-child th {\n",
       "        text-align: right;\n",
       "    }\n",
       "\n",
       "    .dataframe thead th {\n",
       "        text-align: left;\n",
       "    }\n",
       "\n",
       "    .dataframe tbody tr th {\n",
       "        vertical-align: top;\n",
       "    }\n",
       "</style>\n",
       "<table border=\"1\" class=\"dataframe\">\n",
       "  <thead>\n",
       "    <tr style=\"text-align: right;\">\n",
       "      <th></th>\n",
       "      <th>ID</th>\n",
       "      <th>datetime</th>\n",
       "      <th>siteid</th>\n",
       "      <th>offerid</th>\n",
       "      <th>category</th>\n",
       "      <th>merchant</th>\n",
       "      <th>click</th>\n",
       "      <th>hour__0</th>\n",
       "      <th>hour__1</th>\n",
       "      <th>hour__2</th>\n",
       "      <th>...</th>\n",
       "      <th>Tablet</th>\n",
       "      <th>site_offer_count</th>\n",
       "      <th>site_cat_count</th>\n",
       "      <th>site_mcht_count</th>\n",
       "      <th>minute</th>\n",
       "      <th>browserid</th>\n",
       "      <th>devid</th>\n",
       "      <th>site_bid_count</th>\n",
       "      <th>site_did_count</th>\n",
       "      <th>site_bdid_count</th>\n",
       "    </tr>\n",
       "  </thead>\n",
       "  <tbody>\n",
       "    <tr>\n",
       "      <th>0</th>\n",
       "      <td>IDMUUBNwz</td>\n",
       "      <td>2017-01-20 21:48:49</td>\n",
       "      <td>121806</td>\n",
       "      <td>93720</td>\n",
       "      <td>33</td>\n",
       "      <td>563</td>\n",
       "      <td>1</td>\n",
       "      <td>0</td>\n",
       "      <td>0</td>\n",
       "      <td>0</td>\n",
       "      <td>...</td>\n",
       "      <td>0</td>\n",
       "      <td>0</td>\n",
       "      <td>0</td>\n",
       "      <td>0</td>\n",
       "      <td>48</td>\n",
       "      <td>ie</td>\n",
       "      <td>Mobile</td>\n",
       "      <td>0</td>\n",
       "      <td>0</td>\n",
       "      <td>9</td>\n",
       "    </tr>\n",
       "    <tr>\n",
       "      <th>1</th>\n",
       "      <td>IDIjupoKW</td>\n",
       "      <td>2017-01-17 04:11:41</td>\n",
       "      <td>0</td>\n",
       "      <td>518041</td>\n",
       "      <td>117</td>\n",
       "      <td>499</td>\n",
       "      <td>0</td>\n",
       "      <td>0</td>\n",
       "      <td>0</td>\n",
       "      <td>0</td>\n",
       "      <td>...</td>\n",
       "      <td>0</td>\n",
       "      <td>0</td>\n",
       "      <td>1048</td>\n",
       "      <td>158</td>\n",
       "      <td>11</td>\n",
       "      <td>ie</td>\n",
       "      <td>Mobile</td>\n",
       "      <td>999</td>\n",
       "      <td>1050</td>\n",
       "      <td>9</td>\n",
       "    </tr>\n",
       "    <tr>\n",
       "      <th>2</th>\n",
       "      <td>ID5h8rD9f</td>\n",
       "      <td>2017-01-16 15:27:49</td>\n",
       "      <td>0</td>\n",
       "      <td>424164</td>\n",
       "      <td>117</td>\n",
       "      <td>499</td>\n",
       "      <td>0</td>\n",
       "      <td>0</td>\n",
       "      <td>0</td>\n",
       "      <td>0</td>\n",
       "      <td>...</td>\n",
       "      <td>1</td>\n",
       "      <td>0</td>\n",
       "      <td>1048</td>\n",
       "      <td>158</td>\n",
       "      <td>27</td>\n",
       "      <td>ie</td>\n",
       "      <td>Mobile</td>\n",
       "      <td>999</td>\n",
       "      <td>1050</td>\n",
       "      <td>9</td>\n",
       "    </tr>\n",
       "    <tr>\n",
       "      <th>3</th>\n",
       "      <td>IDcyTnxJM</td>\n",
       "      <td>2017-01-19 14:11:46</td>\n",
       "      <td>0</td>\n",
       "      <td>387570</td>\n",
       "      <td>121</td>\n",
       "      <td>499</td>\n",
       "      <td>0</td>\n",
       "      <td>0</td>\n",
       "      <td>0</td>\n",
       "      <td>0</td>\n",
       "      <td>...</td>\n",
       "      <td>0</td>\n",
       "      <td>3</td>\n",
       "      <td>1045</td>\n",
       "      <td>158</td>\n",
       "      <td>11</td>\n",
       "      <td>ie</td>\n",
       "      <td>Mobile</td>\n",
       "      <td>999</td>\n",
       "      <td>1050</td>\n",
       "      <td>9</td>\n",
       "    </tr>\n",
       "    <tr>\n",
       "      <th>4</th>\n",
       "      <td>IDdUdlY3B</td>\n",
       "      <td>2017-01-18 13:18:20</td>\n",
       "      <td>0</td>\n",
       "      <td>24303</td>\n",
       "      <td>121</td>\n",
       "      <td>499</td>\n",
       "      <td>0</td>\n",
       "      <td>0</td>\n",
       "      <td>0</td>\n",
       "      <td>0</td>\n",
       "      <td>...</td>\n",
       "      <td>0</td>\n",
       "      <td>0</td>\n",
       "      <td>1045</td>\n",
       "      <td>158</td>\n",
       "      <td>18</td>\n",
       "      <td>ie</td>\n",
       "      <td>Mobile</td>\n",
       "      <td>999</td>\n",
       "      <td>1050</td>\n",
       "      <td>9</td>\n",
       "    </tr>\n",
       "  </tbody>\n",
       "</table>\n",
       "<p>5 rows × 62 columns</p>\n",
       "</div>"
      ],
      "text/plain": [
       "          ID             datetime  siteid  offerid  category  merchant  click  \\\n",
       "0  IDMUUBNwz  2017-01-20 21:48:49  121806    93720        33       563      1   \n",
       "1  IDIjupoKW  2017-01-17 04:11:41       0   518041       117       499      0   \n",
       "2  ID5h8rD9f  2017-01-16 15:27:49       0   424164       117       499      0   \n",
       "3  IDcyTnxJM  2017-01-19 14:11:46       0   387570       121       499      0   \n",
       "4  IDdUdlY3B  2017-01-18 13:18:20       0    24303       121       499      0   \n",
       "\n",
       "   hour__0  hour__1  hour__2       ...         Tablet  site_offer_count  \\\n",
       "0        0        0        0       ...              0                 0   \n",
       "1        0        0        0       ...              0                 0   \n",
       "2        0        0        0       ...              1                 0   \n",
       "3        0        0        0       ...              0                 3   \n",
       "4        0        0        0       ...              0                 0   \n",
       "\n",
       "   site_cat_count  site_mcht_count  minute  browserid   devid  site_bid_count  \\\n",
       "0               0                0      48         ie  Mobile               0   \n",
       "1            1048              158      11         ie  Mobile             999   \n",
       "2            1048              158      27         ie  Mobile             999   \n",
       "3            1045              158      11         ie  Mobile             999   \n",
       "4            1045              158      18         ie  Mobile             999   \n",
       "\n",
       "   site_did_count  site_bdid_count  \n",
       "0               0                9  \n",
       "1            1050                9  \n",
       "2            1050                9  \n",
       "3            1050                9  \n",
       "4            1050                9  \n",
       "\n",
       "[5 rows x 62 columns]"
      ]
     },
     "execution_count": 11,
     "metadata": {},
     "output_type": "execute_result"
    }
   ],
   "source": [
    "train.head()"
=======
    "# joining all files\n",
    "agg_df = [offer_bid_count,offer_did_count,merch_did_count,merch_bid_count,cat_did_count,cat_bid_count]\n",
    "agg_df_test = [cat_bid_count_test,cat_did_count_test,merch_bid_count_test,merch_did_count_test,offer_did_count_test,\n",
    "               offer_bid_count_test]\n",
    "\n",
    "for x in agg_df:\n",
    "    train = train.merge(x)\n",
    "    \n",
    "for x in agg_df_test:\n",
    "    test = test.merge(x)"
>>>>>>> b7444cd3bc4369987e21de1b29cdd1657900693e
   ]
  },
  {
   "cell_type": "code",
   "execution_count": 9,
   "metadata": {
    "collapsed": false
   },
   "outputs": [
    {
     "data": {
      "text/plain": [
       "(1213781, 3706907)"
      ]
     },
     "execution_count": 9,
     "metadata": {},
     "output_type": "execute_result"
    }
   ],
   "source": [
    "len(train),len(test)"
   ]
  },
  {
   "cell_type": "code",
   "execution_count": 10,
   "metadata": {
    "collapsed": false
   },
   "outputs": [
    {
     "data": {
      "text/plain": [
       "Index(['ID', 'datetime', 'siteid', 'offerid', 'category', 'merchant', 'a', 'b',\n",
       "       'c', 'd', 'e', 'f', 'weekday__0', 'weekday__5', 'weekday__6', 'hour__0',\n",
       "       'hour__1', 'hour__2', 'hour__3', 'hour__4', 'hour__5', 'hour__6',\n",
       "       'hour__7', 'hour__8', 'hour__9', 'hour__10', 'hour__11', 'hour__12',\n",
       "       'hour__13', 'hour__14', 'hour__15', 'hour__16', 'hour__17', 'hour__18',\n",
       "       'hour__19', 'hour__20', 'hour__21', 'hour__22', 'hour__23',\n",
       "       'brow__Edge', 'brow__Opera', 'brow__Safari', 'brow__ff', 'brow__gc',\n",
       "       'brow__ie', 'Desktop', 'Mobile', 'Tablet', 'weekday_1', 'weekday_2',\n",
       "       'weekday_3', 'weekday_4', 'site_offer_count', 'site_cat_count',\n",
       "       'site_mcht_count', 'minute', 'browserid', 'devid', 'site_bid_count',\n",
       "       'site_did_count', 'site_bdid_count', 'cat_bid_count', 'cat_did_count',\n",
       "       'merch_bid_count', 'merch_did_count', 'offer_did_count',\n",
       "       'offer_bid_count'],\n",
       "      dtype='object')"
      ]
     },
     "execution_count": 10,
     "metadata": {},
     "output_type": "execute_result"
    }
   ],
   "source": [
    "test.columns"
   ]
  },
  {
   "cell_type": "code",
   "execution_count": 11,
   "metadata": {
    "collapsed": false
   },
   "outputs": [
    {
     "data": {
      "text/plain": [
       "Index(['ID', 'datetime', 'siteid', 'offerid', 'category', 'merchant', 'click',\n",
       "       'hour__0', 'hour__1', 'hour__2', 'hour__3', 'hour__4', 'hour__5',\n",
       "       'hour__6', 'hour__7', 'hour__8', 'hour__9', 'hour__10', 'hour__11',\n",
       "       'hour__12', 'hour__13', 'hour__14', 'hour__15', 'hour__16', 'hour__17',\n",
       "       'hour__18', 'hour__19', 'hour__20', 'hour__21', 'hour__22', 'hour__23',\n",
       "       'weekday__0', 'weekday__1', 'weekday__2', 'weekday__3', 'weekday__4',\n",
       "       'weekday__5', 'weekday__6', 'a', 'b', 'c', 'd', 'e', 'f', 'brow__Edge',\n",
       "       'brow__Opera', 'brow__Safari', 'brow__ff', 'brow__gc', 'brow__ie',\n",
       "       'Desktop', 'Mobile', 'Tablet', 'site_offer_count', 'site_cat_count',\n",
       "       'site_mcht_count', 'minute', 'browserid', 'devid', 'site_bid_count',\n",
       "       'site_did_count', 'site_bdid_count', 'offer_bid_count',\n",
       "       'offer_did_count', 'merch_did_count', 'merch_bid_count',\n",
       "       'cat_did_count', 'cat_bid_count'],\n",
       "      dtype='object')"
      ]
     },
     "execution_count": 11,
     "metadata": {},
     "output_type": "execute_result"
    }
   ],
   "source": [
    "train.columns"
   ]
  },
  {
   "cell_type": "code",
<<<<<<< HEAD
   "execution_count": 12,
=======
   "execution_count": 7,
>>>>>>> b7444cd3bc4369987e21de1b29cdd1657900693e
   "metadata": {
    "collapsed": true
   },
   "outputs": [],
   "source": [
    "features = ['siteid', 'offerid', 'category', 'merchant',\n",
    "       'hour__0', 'hour__1', 'hour__2', 'hour__5',\n",
    "       'hour__6', 'hour__7', 'hour__8', 'hour__9', 'hour__10', 'hour__11',\n",
    "       'hour__12', 'hour__13', 'hour__14', 'hour__15', 'hour__16', 'hour__17',\n",
    "       'hour__18', 'hour__19', 'hour__20', 'hour__21', 'hour__22', 'hour__23',\n",
    "       'weekday__0','weekday__5', 'weekday__6', 'a', 'b', 'c', 'd', 'e', 'f', 'brow__Edge',\n",
    "       'brow__Opera', 'brow__Safari', 'brow__ff', 'brow__gc', 'brow__ie',\n",
    "       'Desktop', 'Mobile', 'Tablet', 'site_offer_count', 'site_cat_count',\n",
    "       'site_mcht_count', 'minute', 'site_bid_count',\n",
    "       'site_did_count', 'site_bdid_count']"
   ]
  },
  {
   "cell_type": "code",
<<<<<<< HEAD
   "execution_count": 13,
=======
   "execution_count": 8,
>>>>>>> b7444cd3bc4369987e21de1b29cdd1657900693e
   "metadata": {
    "collapsed": false
   },
   "outputs": [],
   "source": [
    "X_train, X_test, y_train, y_test = train_test_split(train[features], train['click'], test_size = 0.5)"
   ]
  },
  {
   "cell_type": "code",
<<<<<<< HEAD
   "execution_count": 14,
=======
   "execution_count": 24,
>>>>>>> b7444cd3bc4369987e21de1b29cdd1657900693e
   "metadata": {
    "collapsed": true
   },
   "outputs": [],
   "source": [
    "xgb = XGBClassifier(learning_rate =0.01, n_estimators=1000, max_depth=6,\n",
    "                    min_child_weight=7, gamma=0.01, subsample=0.8, colsample_bytree=0.8,\n",
    "                    objective= 'binary:logistic', nthread=4, seed=2017)"
   ]
  },
  {
   "cell_type": "code",
   "execution_count": 9,
   "metadata": {
    "collapsed": true
   },
   "outputs": [],
   "source": [
    "rf = RandomForestClassifier(n_estimators=1000, max_depth=5, min_samples_split=2, min_samples_leaf=1, \n",
    "                             max_features='auto',bootstrap=True, oob_score=False, n_jobs=1, random_state=2017, \n",
    "                             warm_start=False, class_weight='balanced_subsample')"
   ]
  },
  {
   "cell_type": "code",
<<<<<<< HEAD
   "execution_count": 15,
=======
   "execution_count": 25,
>>>>>>> b7444cd3bc4369987e21de1b29cdd1657900693e
   "metadata": {
    "collapsed": false
   },
   "outputs": [
    {
     "name": "stdout",
     "output_type": "stream",
     "text": [
      "fitting is done\n"
     ]
    }
   ],
   "source": [
    "xgb.fit(X_train,y_train)\n",
    "print('fitting is done')"
   ]
  },
  {
   "cell_type": "code",
   "execution_count": null,
   "metadata": {
    "collapsed": false
   },
   "outputs": [
    {
     "name": "stdout",
     "output_type": "stream",
     "text": [
      "fitting is done\n"
     ]
    }
   ],
   "source": [
    "rf.fit(X_train,y_train)\n",
    "print('fitting is done')"
   ]
  },
  {
   "cell_type": "code",
<<<<<<< HEAD
   "execution_count": 16,
   "metadata": {
    "collapsed": false
   },
   "outputs": [
    {
     "ename": "NameError",
     "evalue": "name 'rf' is not defined",
     "output_type": "error",
     "traceback": [
      "\u001b[0;31m---------------------------------------------------------------------------\u001b[0m",
      "\u001b[0;31mNameError\u001b[0m                                 Traceback (most recent call last)",
      "\u001b[0;32m<ipython-input-16-8fdc9d3d7eda>\u001b[0m in \u001b[0;36m<module>\u001b[0;34m()\u001b[0m\n\u001b[0;32m----> 1\u001b[0;31m \u001b[0mvpreds\u001b[0m \u001b[1;33m=\u001b[0m \u001b[0mrf\u001b[0m\u001b[1;33m.\u001b[0m\u001b[0mpredict_proba\u001b[0m\u001b[1;33m(\u001b[0m\u001b[0mX_test\u001b[0m\u001b[1;33m)\u001b[0m\u001b[1;33m[\u001b[0m\u001b[1;33m:\u001b[0m\u001b[1;33m,\u001b[0m\u001b[1;36m1\u001b[0m\u001b[1;33m]\u001b[0m\u001b[1;33m\u001b[0m\u001b[0m\n\u001b[0m\u001b[1;32m      2\u001b[0m \u001b[0mprint\u001b[0m\u001b[1;33m(\u001b[0m\u001b[1;34m'validation prediction done'\u001b[0m\u001b[1;33m)\u001b[0m\u001b[1;33m\u001b[0m\u001b[0m\n\u001b[1;32m      3\u001b[0m \u001b[0mscore\u001b[0m \u001b[1;33m=\u001b[0m \u001b[0mroc_auc_score\u001b[0m\u001b[1;33m(\u001b[0m\u001b[0my_true\u001b[0m \u001b[1;33m=\u001b[0m \u001b[0my_test\u001b[0m\u001b[1;33m,\u001b[0m \u001b[0my_score\u001b[0m\u001b[1;33m=\u001b[0m\u001b[0mvpreds\u001b[0m\u001b[1;33m)\u001b[0m\u001b[1;33m\u001b[0m\u001b[0m\n\u001b[1;32m      4\u001b[0m \u001b[0mprint\u001b[0m\u001b[1;33m(\u001b[0m\u001b[0mscore\u001b[0m\u001b[1;33m)\u001b[0m\u001b[1;33m\u001b[0m\u001b[0m\n",
      "\u001b[0;31mNameError\u001b[0m: name 'rf' is not defined"
     ]
    }
   ],
=======
   "execution_count": null,
   "metadata": {
    "collapsed": true
   },
   "outputs": [],
>>>>>>> b7444cd3bc4369987e21de1b29cdd1657900693e
   "source": [
    "vpreds = rf.predict_proba(X_test)[:,1]\n",
    "print('validation prediction done')\n",
    "score = roc_auc_score(y_true = y_test, y_score=vpreds)\n",
    "print(score)"
   ]
  },
  {
   "cell_type": "code",
<<<<<<< HEAD
   "execution_count": 17,
=======
   "execution_count": null,
   "metadata": {
    "collapsed": true
   },
   "outputs": [],
   "source": []
  },
  {
   "cell_type": "code",
   "execution_count": 26,
>>>>>>> b7444cd3bc4369987e21de1b29cdd1657900693e
   "metadata": {
    "collapsed": false,
    "scrolled": true
   },
   "outputs": [
    {
     "name": "stdout",
     "output_type": "stream",
     "text": [
      "validation prediction done\n",
<<<<<<< HEAD
      "0.981444123029\n"
=======
      "0.982017906202\n"
>>>>>>> b7444cd3bc4369987e21de1b29cdd1657900693e
     ]
    }
   ],
   "source": [
    "vpreds = xgb.predict_proba(X_test)[:,1]\n",
    "print('validation prediction done')\n",
    "score = roc_auc_score(y_true = y_test, y_score=vpreds)\n",
    "print(score)"
   ]
  },
  {
   "cell_type": "code",
<<<<<<< HEAD
   "execution_count": 18,
=======
   "execution_count": 27,
>>>>>>> b7444cd3bc4369987e21de1b29cdd1657900693e
   "metadata": {
    "collapsed": false
   },
   "outputs": [
    {
     "data": {
      "text/plain": [
<<<<<<< HEAD
       "<matplotlib.axes._subplots.AxesSubplot at 0x1fa16abc2e8>"
      ]
     },
     "execution_count": 18,
=======
       "<matplotlib.axes._subplots.AxesSubplot at 0x1c1254f85c0>"
      ]
     },
     "execution_count": 27,
>>>>>>> b7444cd3bc4369987e21de1b29cdd1657900693e
     "metadata": {},
     "output_type": "execute_result"
    },
    {
     "data": {
<<<<<<< HEAD
      "image/png": "iVBORw0KGgoAAAANSUhEUgAABIsAAAKYCAYAAADzHXhhAAAABHNCSVQICAgIfAhkiAAAAAlwSFlz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\nCIL5/D+Fu76vgk87UgAAAABJRU5ErkJggg==\n",
      "text/plain": [
       "<matplotlib.figure.Figure at 0x1fa245a6cc0>"
=======
      "image/png": "iVBORw0KGgoAAAANSUhEUgAABIsAAAKYCAYAAADzHXhhAAAABHNCSVQICAgIfAhkiAAAAAlwSFlz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\n",
      "text/plain": [
       "<matplotlib.figure.Figure at 0x1c11ececbe0>"
>>>>>>> b7444cd3bc4369987e21de1b29cdd1657900693e
      ]
     },
     "metadata": {},
     "output_type": "display_data"
    }
   ],
   "source": [
    "feature_importance = pd.Series(xgb.feature_importances_)\n",
    "feature_ser = pd.Series(features)\n",
    "lis = pd.Series(feature_importance.values,index = feature_ser)\n",
    "lis = sorted(lis.items(),key =lambda x:(-x[1],x[0]))\n",
    "df = pd.DataFrame(lis, columns=['Feature', 'Importance'])\n",
    "df.plot(kind='bar',x='Feature',figsize=(20,10))"
   ]
  },
  {
   "cell_type": "code",
   "execution_count": 19,
   "metadata": {
    "collapsed": false
   },
   "outputs": [
    {
     "name": "stdout",
     "output_type": "stream",
     "text": [
      "fitting is done\n"
     ]
    }
   ],
   "source": [
    "xgb.fit(train[features],train['click'])\n",
    "print('fitting is done')"
   ]
  },
  {
   "cell_type": "code",
   "execution_count": 20,
   "metadata": {
    "collapsed": false,
    "scrolled": true
   },
   "outputs": [
    {
     "data": {
      "text/plain": [
       "XGBClassifier(base_score=0.5, booster='gbtree', colsample_bylevel=1,\n",
       "       colsample_bytree=0.8, gamma=0.01, learning_rate=0.01,\n",
       "       max_delta_step=0, max_depth=6, min_child_weight=7, missing=None,\n",
       "       n_estimators=1000, nthread=4, objective='binary:logistic',\n",
       "       reg_alpha=0, reg_lambda=1, scale_pos_weight=1, seed=2017,\n",
       "       silent=True, subsample=0.8)"
      ]
     },
     "execution_count": 20,
     "metadata": {},
     "output_type": "execute_result"
    }
   ],
   "source": [
    "xgb"
   ]
  },
  {
   "cell_type": "code",
<<<<<<< HEAD
   "execution_count": null,
   "metadata": {
    "collapsed": false
   },
   "outputs": [],
=======
   "execution_count": 28,
   "metadata": {
    "collapsed": false
   },
   "outputs": [
    {
     "name": "stdout",
     "output_type": "stream",
     "text": [
      "prediction is done\n",
      "writting is done.\n"
     ]
    }
   ],
>>>>>>> b7444cd3bc4369987e21de1b29cdd1657900693e
   "source": [
    "pred = xgb.predict_proba(test[features])\n",
    "print('prediction is done')\n",
    "sub = pd.DataFrame({'ID':test['ID'],'click':pred[:,1]})\n",
    "sub.to_csv('xgb.csv', index=False)\n",
    "print('writting is done.')"
   ]
<<<<<<< HEAD
  },
  {
   "cell_type": "code",
   "execution_count": null,
   "metadata": {
    "collapsed": true
   },
   "outputs": [],
   "source": []
=======
>>>>>>> b7444cd3bc4369987e21de1b29cdd1657900693e
  }
 ],
 "metadata": {
  "anaconda-cloud": {},
  "kernelspec": {
   "display_name": "Python [conda root]",
   "language": "python",
   "name": "conda-root-py"
  },
  "language_info": {
   "codemirror_mode": {
    "name": "ipython",
    "version": 3
   },
   "file_extension": ".py",
   "mimetype": "text/x-python",
   "name": "python",
   "nbconvert_exporter": "python",
   "pygments_lexer": "ipython3",
   "version": "3.5.2"
  }
 },
 "nbformat": 4,
 "nbformat_minor": 1
}
