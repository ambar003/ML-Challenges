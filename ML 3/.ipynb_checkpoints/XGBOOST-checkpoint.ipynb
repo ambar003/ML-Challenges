{
 "cells": [
  {
   "cell_type": "code",
   "execution_count": 1,
   "metadata": {
    "collapsed": true
   },
   "outputs": [],
   "source": [
    "import pandas as pd\n",
    "import numpy as np\n",
    "import os\n",
    "mingw_path = 'C:\\\\Program Files\\\\mingw-w64\\\\x86_64-6.3.0-posix-seh-rt_v5-rev1\\\\mingw64\\\\bin'\n",
    "os.environ['PATH'] = mingw_path + ';' + os.environ['PATH']\n",
    "from xgboost.sklearn import XGBClassifier\n",
    "import datetime\n",
    "from sklearn.metrics import roc_auc_score"
   ]
  },
  {
   "cell_type": "code",
   "execution_count": 2,
   "metadata": {
    "collapsed": true
   },
   "outputs": [],
   "source": [
    "from sklearn.model_selection import train_test_split"
   ]
  },
  {
   "cell_type": "code",
   "execution_count": 3,
   "metadata": {
    "collapsed": false
   },
   "outputs": [
    {
     "name": "stdout",
     "output_type": "stream",
     "text": [
      "Populating the interactive namespace from numpy and matplotlib\n"
     ]
    }
   ],
   "source": [
    "% pylab inline"
   ]
  },
  {
   "cell_type": "code",
   "execution_count": 4,
   "metadata": {
    "collapsed": false
   },
   "outputs": [
    {
     "name": "stderr",
     "output_type": "stream",
     "text": [
      "D:\\anaconda\\lib\\site-packages\\IPython\\core\\interactiveshell.py:2717: DtypeWarning: Columns (58) have mixed types. Specify dtype option on import or set low_memory=False.\n",
      "  interactivity=interactivity, compiler=compiler, result=result)\n"
     ]
    }
   ],
   "source": [
    "train = pd.read_csv('updated_train.csv')\n",
    "test = pd.read_csv('updated_test.csv')"
   ]
  },
  {
   "cell_type": "code",
   "execution_count": 5,
   "metadata": {
    "collapsed": false
   },
   "outputs": [
    {
     "data": {
      "text/plain": [
       "3706907"
      ]
     },
     "execution_count": 5,
     "metadata": {},
     "output_type": "execute_result"
    }
   ],
   "source": [
    "len(test)"
   ]
  },
  {
   "cell_type": "code",
   "execution_count": 6,
   "metadata": {
    "collapsed": true
   },
   "outputs": [],
   "source": [
    "# create aggregate features\n",
    "site_bid_count = train.groupby(['siteid','browserid']).size().reset_index()\n",
    "site_bid_count.columns = ['siteid','browserid','site_bid_count']\n",
    "\n",
    "site_bid_count_test = test.groupby(['siteid','browserid']).size().reset_index()\n",
    "site_bid_count_test.columns = ['siteid','browserid','site_bid_count']\n",
    "\n",
    "site_did_count = train.groupby(['siteid','devid']).size().reset_index()\n",
    "site_did_count.columns = ['siteid','devid','site_did_count']\n",
    "\n",
    "site_did_count_test = test.groupby(['siteid','devid']).size().reset_index()\n",
    "site_did_count_test.columns = ['siteid','devid','site_did_count']\n",
    "\n",
    "site_bdid_count = train.groupby(['browserid','devid']).size().reset_index()\n",
    "site_bdid_count.columns = ['browserid','devid','site_bdid_count']\n",
    "\n",
    "site_bdid_count_test = test.groupby(['browserid','devid']).size().reset_index()\n",
    "site_bdid_count_test.columns = ['browserid','devid','site_bdid_count']"
   ]
  },
  {
   "cell_type": "code",
   "execution_count": 7,
   "metadata": {
    "collapsed": false
   },
   "outputs": [
    {
     "data": {
      "text/plain": [
       "Index(['ID', 'datetime', 'siteid', 'offerid', 'category', 'merchant', 'click',\n",
       "       'hour__0', 'hour__1', 'hour__2', 'hour__3', 'hour__4', 'hour__5',\n",
       "       'hour__6', 'hour__7', 'hour__8', 'hour__9', 'hour__10', 'hour__11',\n",
       "       'hour__12', 'hour__13', 'hour__14', 'hour__15', 'hour__16', 'hour__17',\n",
       "       'hour__18', 'hour__19', 'hour__20', 'hour__21', 'hour__22', 'hour__23',\n",
       "       'weekday__0', 'weekday__1', 'weekday__2', 'weekday__3', 'weekday__4',\n",
       "       'weekday__5', 'weekday__6', 'a', 'b', 'c', 'd', 'e', 'f', 'brow__Edge',\n",
       "       'brow__Opera', 'brow__Safari', 'brow__ff', 'brow__gc', 'brow__ie',\n",
       "       'Desktop', 'Mobile', 'Tablet', 'site_offer_count', 'site_cat_count',\n",
       "       'site_mcht_count', 'minute', 'browserid', 'devid'],\n",
       "      dtype='object')"
      ]
     },
     "execution_count": 7,
     "metadata": {},
     "output_type": "execute_result"
    }
   ],
   "source": [
    "train.columns"
   ]
  },
  {
   "cell_type": "code",
   "execution_count": 8,
   "metadata": {
    "collapsed": true
   },
   "outputs": [],
   "source": [
    "# joining all files\n",
    "agg_df = [site_bid_count,site_did_count,site_bdid_count]\n",
    "agg_df_test = [site_bid_count_test,site_did_count_test,site_bdid_count_test]\n",
    "\n",
    "for x in agg_df:\n",
    "    train = train.merge(x)\n",
    "    \n",
    "for x in agg_df_test:\n",
    "    test = test.merge(x)"
   ]
  },
  {
   "cell_type": "code",
   "execution_count": 9,
   "metadata": {
    "collapsed": false
   },
   "outputs": [
    {
     "data": {
      "text/plain": [
       "Index(['ID', 'datetime', 'siteid', 'offerid', 'category', 'merchant', 'a', 'b',\n",
       "       'c', 'd', 'e', 'f', 'weekday__0', 'weekday__5', 'weekday__6', 'hour__0',\n",
       "       'hour__1', 'hour__2', 'hour__3', 'hour__4', 'hour__5', 'hour__6',\n",
       "       'hour__7', 'hour__8', 'hour__9', 'hour__10', 'hour__11', 'hour__12',\n",
       "       'hour__13', 'hour__14', 'hour__15', 'hour__16', 'hour__17', 'hour__18',\n",
       "       'hour__19', 'hour__20', 'hour__21', 'hour__22', 'hour__23',\n",
       "       'brow__Edge', 'brow__Opera', 'brow__Safari', 'brow__ff', 'brow__gc',\n",
       "       'brow__ie', 'Desktop', 'Mobile', 'Tablet', 'weekday_1', 'weekday_2',\n",
       "       'weekday_3', 'weekday_4', 'site_offer_count', 'site_cat_count',\n",
       "       'site_mcht_count', 'minute', 'browserid', 'devid', 'site_bid_count',\n",
       "       'site_did_count', 'site_bdid_count'],\n",
       "      dtype='object')"
      ]
     },
     "execution_count": 9,
     "metadata": {},
     "output_type": "execute_result"
    }
   ],
   "source": [
    "test.columns"
   ]
  },
  {
   "cell_type": "code",
   "execution_count": 10,
   "metadata": {
    "collapsed": false
   },
   "outputs": [
    {
     "data": {
      "text/plain": [
       "Index(['ID', 'datetime', 'siteid', 'offerid', 'category', 'merchant', 'click',\n",
       "       'hour__0', 'hour__1', 'hour__2', 'hour__3', 'hour__4', 'hour__5',\n",
       "       'hour__6', 'hour__7', 'hour__8', 'hour__9', 'hour__10', 'hour__11',\n",
       "       'hour__12', 'hour__13', 'hour__14', 'hour__15', 'hour__16', 'hour__17',\n",
       "       'hour__18', 'hour__19', 'hour__20', 'hour__21', 'hour__22', 'hour__23',\n",
       "       'weekday__0', 'weekday__1', 'weekday__2', 'weekday__3', 'weekday__4',\n",
       "       'weekday__5', 'weekday__6', 'a', 'b', 'c', 'd', 'e', 'f', 'brow__Edge',\n",
       "       'brow__Opera', 'brow__Safari', 'brow__ff', 'brow__gc', 'brow__ie',\n",
       "       'Desktop', 'Mobile', 'Tablet', 'site_offer_count', 'site_cat_count',\n",
       "       'site_mcht_count', 'minute', 'browserid', 'devid', 'site_bid_count',\n",
       "       'site_did_count', 'site_bdid_count'],\n",
       "      dtype='object')"
      ]
     },
     "execution_count": 10,
     "metadata": {},
     "output_type": "execute_result"
    }
   ],
   "source": [
    "train.columns"
   ]
  },
  {
   "cell_type": "code",
   "execution_count": 11,
   "metadata": {
    "collapsed": true
   },
   "outputs": [],
   "source": [
    "features = ['siteid', 'offerid', 'category', 'merchant',\n",
    "       'hour__0', 'hour__1', 'hour__2', 'hour__5',\n",
    "       'hour__6', 'hour__7', 'hour__8', 'hour__9', 'hour__10', 'hour__11',\n",
    "       'hour__12', 'hour__13', 'hour__14', 'hour__15', 'hour__16', 'hour__17',\n",
    "       'hour__18', 'hour__19', 'hour__20', 'hour__21', 'hour__22', 'hour__23',\n",
    "       'weekday__0','weekday__5', 'weekday__6', 'a', 'b', 'c', 'd', 'e', 'f', 'brow__Edge',\n",
    "       'brow__Opera', 'brow__Safari', 'brow__ff', 'brow__gc', 'brow__ie',\n",
    "       'Desktop', 'Mobile', 'Tablet', 'site_offer_count', 'site_cat_count',\n",
    "       'site_mcht_count', 'minute', 'site_bid_count',\n",
    "       'site_did_count', 'site_bdid_count']"
   ]
  },
  {
   "cell_type": "code",
   "execution_count": 16,
   "metadata": {
    "collapsed": false
   },
   "outputs": [],
   "source": [
    "# X_train, X_test, y_train, y_test = train_test_split(train[features], train['click'], test_size = 0.5)"
   ]
  },
  {
   "cell_type": "code",
   "execution_count": 12,
   "metadata": {
    "collapsed": true
   },
   "outputs": [],
   "source": [
    "xgb = XGBClassifier(learning_rate =0.01, n_estimators=1000, max_depth=6,\n",
    "                    min_child_weight=7, gamma=0.01, subsample=0.8, colsample_bytree=0.8,\n",
    "                    objective= 'binary:logistic', nthread=4, seed=2017)"
   ]
  },
  {
   "cell_type": "code",
   "execution_count": 18,
   "metadata": {
    "collapsed": false
   },
   "outputs": [
    {
     "name": "stdout",
     "output_type": "stream",
     "text": [
      "fitting is done\n"
     ]
    }
   ],
   "source": [
    "# xgb.fit(X_train,y_train)\n",
    "# print('fitting is done')"
   ]
  },
  {
   "cell_type": "code",
   "execution_count": 19,
   "metadata": {
    "collapsed": false,
    "scrolled": true
   },
   "outputs": [
    {
     "name": "stdout",
     "output_type": "stream",
     "text": [
      "validation prediction done\n",
      "0.977138357496\n"
     ]
    }
   ],
   "source": [
    "# vpreds = xgb.predict_proba(X_test)[:,1]\n",
    "# print('validation prediction done')\n",
    "# score = roc_auc_score(y_true = y_test, y_score=vpreds)\n",
    "# print(score)"
   ]
  },
  {
   "cell_type": "code",
   "execution_count": 22,
   "metadata": {
    "collapsed": false
   },
   "outputs": [
    {
     "data": {
      "text/plain": [
       "<matplotlib.axes._subplots.AxesSubplot at 0x215ace586a0>"
      ]
     },
     "execution_count": 22,
     "metadata": {},
     "output_type": "execute_result"
    },
    {
     "data": {
      "image/png": "[encoded data removed]",
      "text/plain": [
       "<matplotlib.figure.Figure at 0x215ace97f28>"
      ]
     },
     "metadata": {},
     "output_type": "display_data"
    }
   ],
   "source": [
    "# feature_importance = pd.Series(xgb.feature_importances_)\n",
    "# feature_ser = pd.Series(features)\n",
    "# lis = pd.Series(feature_importance.values,index = feature_ser)\n",
    "# lis = sorted(lis.items(),key =lambda x:(-x[1],x[0]))\n",
    "# df = pd.DataFrame(lis, columns=['Feature', 'Importance'])\n",
    "# df.plot(kind='bar',x='Feature',figsize=(20,10))"
   ]
  },
  {
   "cell_type": "code",
   "execution_count": 13,
   "metadata": {
    "collapsed": false
   },
   "outputs": [
    {
     "name": "stdout",
     "output_type": "stream",
     "text": [
      "fitting is done\n"
     ]
    }
   ],
   "source": [
    "xgb.fit(train[features],train['click'])\n",
    "print('fitting is done')"
   ]
  },
  {
   "cell_type": "code",
   "execution_count": 14,
   "metadata": {
    "collapsed": false
   },
   "outputs": [
    {
     "data": {
      "text/plain": [
       "XGBClassifier(base_score=0.5, booster='gbtree', colsample_bylevel=1,\n",
       "       colsample_bytree=0.8, gamma=0.01, learning_rate=0.01,\n",
       "       max_delta_step=0, max_depth=6, min_child_weight=7, missing=None,\n",
       "       n_estimators=1000, nthread=4, objective='binary:logistic',\n",
       "       reg_alpha=0, reg_lambda=1, scale_pos_weight=1, seed=2017,\n",
       "       silent=True, subsample=0.8)"
      ]
     },
     "execution_count": 14,
     "metadata": {},
     "output_type": "execute_result"
    }
   ],
   "source": [
    "xgb"
   ]
  },
  {
   "cell_type": "code",
   "execution_count": null,
   "metadata": {
    "collapsed": true
   },
   "outputs": [],
   "source": [
    "len(test[features])"
   ]
  },
  {
   "cell_type": "code",
   "execution_count": null,
   "metadata": {
    "collapsed": false
   },
   "outputs": [
    {
     "name": "stdout",
     "output_type": "stream",
     "text": [
      "writting is done.\n"
     ]
    }
   ],
   "source": [
    "pred = xgb.predict_proba(test[features])\n",
    "print('prediction is done')\n",
    "sub = pd.DataFrame({'ID':test['ID'],'click':pred[:,1]})\n",
    "sub.to_csv('xgb.csv', index=False)\n",
    "print('writting is done.')"
   ]
  },
  {
   "cell_type": "code",
   "execution_count": null,
   "metadata": {
    "collapsed": true
   },
   "outputs": [],
   "source": [
    "len(test[features])"
   ]
  },
  {
   "cell_type": "code",
   "execution_count": null,
   "metadata": {
    "collapsed": true
   },
   "outputs": [],
   "source": [
    "test = test[features]"
   ]
  }
 ],
 "metadata": {
  "anaconda-cloud": {},
  "kernelspec": {
   "display_name": "Python [conda root]",
   "language": "python",
   "name": "conda-root-py"
  },
  "language_info": {
   "codemirror_mode": {
    "name": "ipython",
    "version": 3
   },
   "file_extension": ".py",
   "mimetype": "text/x-python",
   "name": "python",
   "nbconvert_exporter": "python",
   "pygments_lexer": "ipython3",
   "version": "3.5.2"
  }
 },
 "nbformat": 4,
 "nbformat_minor": 1
}
