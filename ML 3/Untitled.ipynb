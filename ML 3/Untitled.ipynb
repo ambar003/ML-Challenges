{
 "cells": [
  {
   "cell_type": "code",
   "execution_count": 1,
   "metadata": {
    "collapsed": true
   },
   "outputs": [],
   "source": [
    "import pandas as pd\n",
    "import numpy as np"
   ]
  },
  {
   "cell_type": "code",
   "execution_count": 2,
   "metadata": {
    "collapsed": true
   },
   "outputs": [],
   "source": [
    "import os\n",
    "mingw_path = 'C:\\\\Program Files\\\\mingw-w64\\\\x86_64-6.3.0-posix-seh-rt_v5-rev1\\\\mingw64\\\\bin'\n",
    "os.environ['PATH'] = mingw_path + ';' + os.environ['PATH']\n",
    "from xgboost.sklearn import XGBClassifier"
   ]
  },
  {
   "cell_type": "code",
   "execution_count": 3,
   "metadata": {
    "collapsed": true
   },
   "outputs": [],
   "source": [
    "from sklearn.ensemble import RandomForestClassifier"
   ]
  },
  {
   "cell_type": "code",
   "execution_count": 4,
   "metadata": {
    "collapsed": true
   },
   "outputs": [],
   "source": [
    "import datetime"
   ]
  },
  {
   "cell_type": "code",
   "execution_count": 94,
   "metadata": {
    "collapsed": true
   },
   "outputs": [],
   "source": [
    "import lightgbm as lgb"
   ]
  },
  {
   "cell_type": "code",
   "execution_count": 5,
   "metadata": {
    "collapsed": true
   },
   "outputs": [],
   "source": [
    "train = pd.read_csv('10_perc_train.csv')\n",
    "test = pd.read_csv('test.csv')"
   ]
  },
  {
   "cell_type": "code",
   "execution_count": 6,
   "metadata": {
    "collapsed": false
   },
   "outputs": [
    {
     "data": {
      "text/html": [
       "<div>\n",
       "<style>\n",
       "    .dataframe thead tr:only-child th {\n",
       "        text-align: right;\n",
       "    }\n",
       "\n",
       "    .dataframe thead th {\n",
       "        text-align: left;\n",
       "    }\n",
       "\n",
       "    .dataframe tbody tr th {\n",
       "        vertical-align: top;\n",
       "    }\n",
       "</style>\n",
       "<table border=\"1\" class=\"dataframe\">\n",
       "  <thead>\n",
       "    <tr style=\"text-align: right;\">\n",
       "      <th></th>\n",
       "      <th>ID</th>\n",
       "      <th>datetime</th>\n",
       "      <th>siteid</th>\n",
       "      <th>offerid</th>\n",
       "      <th>category</th>\n",
       "      <th>merchant</th>\n",
       "      <th>countrycode</th>\n",
       "      <th>browserid</th>\n",
       "      <th>devid</th>\n",
       "      <th>click</th>\n",
       "    </tr>\n",
       "  </thead>\n",
       "  <tbody>\n",
       "    <tr>\n",
       "      <th>0</th>\n",
       "      <td>IDMUUBNwz</td>\n",
       "      <td>2017-01-20 21:48:49</td>\n",
       "      <td>7615567.0</td>\n",
       "      <td>138618</td>\n",
       "      <td>11837</td>\n",
       "      <td>79474990</td>\n",
       "      <td>c</td>\n",
       "      <td>InternetExplorer</td>\n",
       "      <td>NaN</td>\n",
       "      <td>1</td>\n",
       "    </tr>\n",
       "    <tr>\n",
       "      <th>1</th>\n",
       "      <td>IDCLNGRY0</td>\n",
       "      <td>2017-01-20 11:23:06</td>\n",
       "      <td>NaN</td>\n",
       "      <td>239178</td>\n",
       "      <td>40339</td>\n",
       "      <td>71040875</td>\n",
       "      <td>b</td>\n",
       "      <td>Edge</td>\n",
       "      <td>Tablet</td>\n",
       "      <td>0</td>\n",
       "    </tr>\n",
       "    <tr>\n",
       "      <th>2</th>\n",
       "      <td>IDnxGiOqx</td>\n",
       "      <td>2017-01-13 12:44:48</td>\n",
       "      <td>1512420.0</td>\n",
       "      <td>185903</td>\n",
       "      <td>34670</td>\n",
       "      <td>48615529</td>\n",
       "      <td>b</td>\n",
       "      <td>Firefox</td>\n",
       "      <td>Mobile</td>\n",
       "      <td>0</td>\n",
       "    </tr>\n",
       "    <tr>\n",
       "      <th>3</th>\n",
       "      <td>IDV8WvGu0</td>\n",
       "      <td>2017-01-11 19:47:32</td>\n",
       "      <td>6389661.0</td>\n",
       "      <td>393187</td>\n",
       "      <td>42227</td>\n",
       "      <td>30860214</td>\n",
       "      <td>f</td>\n",
       "      <td>InternetExplorer</td>\n",
       "      <td>Desktop</td>\n",
       "      <td>0</td>\n",
       "    </tr>\n",
       "    <tr>\n",
       "      <th>4</th>\n",
       "      <td>IDQVAl6RK</td>\n",
       "      <td>2017-01-16 11:54:41</td>\n",
       "      <td>2352540.0</td>\n",
       "      <td>117949</td>\n",
       "      <td>14960</td>\n",
       "      <td>555603</td>\n",
       "      <td>b</td>\n",
       "      <td>InternetExplorer</td>\n",
       "      <td>Desktop</td>\n",
       "      <td>0</td>\n",
       "    </tr>\n",
       "  </tbody>\n",
       "</table>\n",
       "</div>"
      ],
      "text/plain": [
       "          ID             datetime     siteid  offerid  category  merchant  \\\n",
       "0  IDMUUBNwz  2017-01-20 21:48:49  7615567.0   138618     11837  79474990   \n",
       "1  IDCLNGRY0  2017-01-20 11:23:06        NaN   239178     40339  71040875   \n",
       "2  IDnxGiOqx  2017-01-13 12:44:48  1512420.0   185903     34670  48615529   \n",
       "3  IDV8WvGu0  2017-01-11 19:47:32  6389661.0   393187     42227  30860214   \n",
       "4  IDQVAl6RK  2017-01-16 11:54:41  2352540.0   117949     14960    555603   \n",
       "\n",
       "  countrycode         browserid    devid  click  \n",
       "0           c  InternetExplorer      NaN      1  \n",
       "1           b              Edge   Tablet      0  \n",
       "2           b           Firefox   Mobile      0  \n",
       "3           f  InternetExplorer  Desktop      0  \n",
       "4           b  InternetExplorer  Desktop      0  "
      ]
     },
     "execution_count": 6,
     "metadata": {},
     "output_type": "execute_result"
    }
   ],
   "source": [
    "train.head()"
   ]
  },
  {
   "cell_type": "code",
   "execution_count": 7,
   "metadata": {
    "collapsed": false
   },
   "outputs": [
    {
     "data": {
      "text/html": [
       "<div>\n",
       "<style>\n",
       "    .dataframe thead tr:only-child th {\n",
       "        text-align: right;\n",
       "    }\n",
       "\n",
       "    .dataframe thead th {\n",
       "        text-align: left;\n",
       "    }\n",
       "\n",
       "    .dataframe tbody tr th {\n",
       "        vertical-align: top;\n",
       "    }\n",
       "</style>\n",
       "<table border=\"1\" class=\"dataframe\">\n",
       "  <thead>\n",
       "    <tr style=\"text-align: right;\">\n",
       "      <th></th>\n",
       "      <th>siteid</th>\n",
       "      <th>offerid</th>\n",
       "      <th>category</th>\n",
       "      <th>merchant</th>\n",
       "      <th>click</th>\n",
       "    </tr>\n",
       "  </thead>\n",
       "  <tbody>\n",
       "    <tr>\n",
       "      <th>count</th>\n",
       "      <td>1.092587e+06</td>\n",
       "      <td>1.213781e+06</td>\n",
       "      <td>1.213781e+06</td>\n",
       "      <td>1.213781e+06</td>\n",
       "      <td>1.213781e+06</td>\n",
       "    </tr>\n",
       "    <tr>\n",
       "      <th>mean</th>\n",
       "      <td>5.020632e+06</td>\n",
       "      <td>4.965269e+05</td>\n",
       "      <td>4.211022e+04</td>\n",
       "      <td>4.900745e+07</td>\n",
       "      <td>3.605181e-02</td>\n",
       "    </tr>\n",
       "    <tr>\n",
       "      <th>std</th>\n",
       "      <td>2.903768e+06</td>\n",
       "      <td>2.899390e+05</td>\n",
       "      <td>2.949769e+04</td>\n",
       "      <td>2.917781e+07</td>\n",
       "      <td>1.864192e-01</td>\n",
       "    </tr>\n",
       "    <tr>\n",
       "      <th>min</th>\n",
       "      <td>1.470000e+02</td>\n",
       "      <td>0.000000e+00</td>\n",
       "      <td>9.700000e+01</td>\n",
       "      <td>2.604430e+05</td>\n",
       "      <td>0.000000e+00</td>\n",
       "    </tr>\n",
       "    <tr>\n",
       "      <th>25%</th>\n",
       "      <td>2.500598e+06</td>\n",
       "      <td>2.473350e+05</td>\n",
       "      <td>1.496000e+04</td>\n",
       "      <td>2.639177e+07</td>\n",
       "      <td>0.000000e+00</td>\n",
       "    </tr>\n",
       "    <tr>\n",
       "      <th>50%</th>\n",
       "      <td>4.970751e+06</td>\n",
       "      <td>4.950460e+05</td>\n",
       "      <td>4.033900e+04</td>\n",
       "      <td>4.861553e+07</td>\n",
       "      <td>0.000000e+00</td>\n",
       "    </tr>\n",
       "    <tr>\n",
       "      <th>75%</th>\n",
       "      <td>7.579006e+06</td>\n",
       "      <td>7.477440e+05</td>\n",
       "      <td>6.678600e+04</td>\n",
       "      <td>7.436361e+07</td>\n",
       "      <td>0.000000e+00</td>\n",
       "    </tr>\n",
       "    <tr>\n",
       "      <th>max</th>\n",
       "      <td>9.999996e+06</td>\n",
       "      <td>9.999980e+05</td>\n",
       "      <td>9.991400e+04</td>\n",
       "      <td>9.977043e+07</td>\n",
       "      <td>1.000000e+00</td>\n",
       "    </tr>\n",
       "  </tbody>\n",
       "</table>\n",
       "</div>"
      ],
      "text/plain": [
       "             siteid       offerid      category      merchant         click\n",
       "count  1.092587e+06  1.213781e+06  1.213781e+06  1.213781e+06  1.213781e+06\n",
       "mean   5.020632e+06  4.965269e+05  4.211022e+04  4.900745e+07  3.605181e-02\n",
       "std    2.903768e+06  2.899390e+05  2.949769e+04  2.917781e+07  1.864192e-01\n",
       "min    1.470000e+02  0.000000e+00  9.700000e+01  2.604430e+05  0.000000e+00\n",
       "25%    2.500598e+06  2.473350e+05  1.496000e+04  2.639177e+07  0.000000e+00\n",
       "50%    4.970751e+06  4.950460e+05  4.033900e+04  4.861553e+07  0.000000e+00\n",
       "75%    7.579006e+06  7.477440e+05  6.678600e+04  7.436361e+07  0.000000e+00\n",
       "max    9.999996e+06  9.999980e+05  9.991400e+04  9.977043e+07  1.000000e+00"
      ]
     },
     "execution_count": 7,
     "metadata": {},
     "output_type": "execute_result"
    }
   ],
   "source": [
    "train.describe()"
   ]
  },
  {
   "cell_type": "code",
   "execution_count": 8,
   "metadata": {
    "collapsed": false
   },
   "outputs": [
    {
     "data": {
      "text/plain": [
       "ID                  0\n",
       "datetime            0\n",
       "siteid         121194\n",
       "offerid             0\n",
       "category            0\n",
       "merchant            0\n",
       "countrycode         0\n",
       "browserid       60749\n",
       "devid          182070\n",
       "click               0\n",
       "dtype: int64"
      ]
     },
     "execution_count": 8,
     "metadata": {},
     "output_type": "execute_result"
    }
   ],
   "source": [
    "train.isnull().sum()"
   ]
  },
  {
   "cell_type": "code",
   "execution_count": 9,
   "metadata": {
    "collapsed": false
   },
   "outputs": [
    {
     "data": {
      "text/plain": [
       "Index(['ID', 'datetime', 'siteid', 'offerid', 'category', 'merchant',\n",
       "       'countrycode', 'browserid', 'devid', 'click'],\n",
       "      dtype='object')"
      ]
     },
     "execution_count": 9,
     "metadata": {},
     "output_type": "execute_result"
    }
   ],
   "source": [
    "train.columns"
   ]
  },
  {
   "cell_type": "code",
   "execution_count": 10,
   "metadata": {
    "collapsed": true
   },
   "outputs": [],
   "source": [
    "train['datetime'] = pd.to_datetime(train['datetime'])\n",
    "test['datetime'] = pd.to_datetime(test['datetime'])"
   ]
  },
  {
   "cell_type": "code",
   "execution_count": 11,
   "metadata": {
    "collapsed": false
   },
   "outputs": [
    {
     "data": {
      "text/html": [
       "<div>\n",
       "<style>\n",
       "    .dataframe thead tr:only-child th {\n",
       "        text-align: right;\n",
       "    }\n",
       "\n",
       "    .dataframe thead th {\n",
       "        text-align: left;\n",
       "    }\n",
       "\n",
       "    .dataframe tbody tr th {\n",
       "        vertical-align: top;\n",
       "    }\n",
       "</style>\n",
       "<table border=\"1\" class=\"dataframe\">\n",
       "  <thead>\n",
       "    <tr style=\"text-align: right;\">\n",
       "      <th></th>\n",
       "      <th>ID</th>\n",
       "      <th>datetime</th>\n",
       "      <th>siteid</th>\n",
       "      <th>offerid</th>\n",
       "      <th>category</th>\n",
       "      <th>merchant</th>\n",
       "      <th>countrycode</th>\n",
       "      <th>browserid</th>\n",
       "      <th>devid</th>\n",
       "      <th>click</th>\n",
       "    </tr>\n",
       "  </thead>\n",
       "  <tbody>\n",
       "    <tr>\n",
       "      <th>0</th>\n",
       "      <td>IDMUUBNwz</td>\n",
       "      <td>2017-01-20 21:48:49</td>\n",
       "      <td>7615567.0</td>\n",
       "      <td>138618</td>\n",
       "      <td>11837</td>\n",
       "      <td>79474990</td>\n",
       "      <td>c</td>\n",
       "      <td>InternetExplorer</td>\n",
       "      <td>NaN</td>\n",
       "      <td>1</td>\n",
       "    </tr>\n",
       "    <tr>\n",
       "      <th>1</th>\n",
       "      <td>IDCLNGRY0</td>\n",
       "      <td>2017-01-20 11:23:06</td>\n",
       "      <td>NaN</td>\n",
       "      <td>239178</td>\n",
       "      <td>40339</td>\n",
       "      <td>71040875</td>\n",
       "      <td>b</td>\n",
       "      <td>Edge</td>\n",
       "      <td>Tablet</td>\n",
       "      <td>0</td>\n",
       "    </tr>\n",
       "    <tr>\n",
       "      <th>2</th>\n",
       "      <td>IDnxGiOqx</td>\n",
       "      <td>2017-01-13 12:44:48</td>\n",
       "      <td>1512420.0</td>\n",
       "      <td>185903</td>\n",
       "      <td>34670</td>\n",
       "      <td>48615529</td>\n",
       "      <td>b</td>\n",
       "      <td>Firefox</td>\n",
       "      <td>Mobile</td>\n",
       "      <td>0</td>\n",
       "    </tr>\n",
       "    <tr>\n",
       "      <th>3</th>\n",
       "      <td>IDV8WvGu0</td>\n",
       "      <td>2017-01-11 19:47:32</td>\n",
       "      <td>6389661.0</td>\n",
       "      <td>393187</td>\n",
       "      <td>42227</td>\n",
       "      <td>30860214</td>\n",
       "      <td>f</td>\n",
       "      <td>InternetExplorer</td>\n",
       "      <td>Desktop</td>\n",
       "      <td>0</td>\n",
       "    </tr>\n",
       "    <tr>\n",
       "      <th>4</th>\n",
       "      <td>IDQVAl6RK</td>\n",
       "      <td>2017-01-16 11:54:41</td>\n",
       "      <td>2352540.0</td>\n",
       "      <td>117949</td>\n",
       "      <td>14960</td>\n",
       "      <td>555603</td>\n",
       "      <td>b</td>\n",
       "      <td>InternetExplorer</td>\n",
       "      <td>Desktop</td>\n",
       "      <td>0</td>\n",
       "    </tr>\n",
       "  </tbody>\n",
       "</table>\n",
       "</div>"
      ],
      "text/plain": [
       "          ID            datetime     siteid  offerid  category  merchant  \\\n",
       "0  IDMUUBNwz 2017-01-20 21:48:49  7615567.0   138618     11837  79474990   \n",
       "1  IDCLNGRY0 2017-01-20 11:23:06        NaN   239178     40339  71040875   \n",
       "2  IDnxGiOqx 2017-01-13 12:44:48  1512420.0   185903     34670  48615529   \n",
       "3  IDV8WvGu0 2017-01-11 19:47:32  6389661.0   393187     42227  30860214   \n",
       "4  IDQVAl6RK 2017-01-16 11:54:41  2352540.0   117949     14960    555603   \n",
       "\n",
       "  countrycode         browserid    devid  click  \n",
       "0           c  InternetExplorer      NaN      1  \n",
       "1           b              Edge   Tablet      0  \n",
       "2           b           Firefox   Mobile      0  \n",
       "3           f  InternetExplorer  Desktop      0  \n",
       "4           b  InternetExplorer  Desktop      0  "
      ]
     },
     "execution_count": 11,
     "metadata": {},
     "output_type": "execute_result"
    }
   ],
   "source": [
    "train.head()"
   ]
  },
  {
   "cell_type": "code",
   "execution_count": 13,
   "metadata": {
    "collapsed": false
   },
   "outputs": [],
   "source": [
    "train['weekday'] = train['datetime'].apply(lambda x:x.dayofweek)\n",
    "train['hour'] = train['datetime'].apply(lambda x:x.hour)"
   ]
  },
  {
   "cell_type": "code",
   "execution_count": 14,
   "metadata": {
    "collapsed": true
   },
   "outputs": [],
   "source": [
    "test['weekday'] = test['datetime'].apply(lambda x:x.dayofweek)\n",
    "test['hour'] = test['datetime'].apply(lambda x:x.hour)"
   ]
  },
  {
   "cell_type": "code",
   "execution_count": 15,
   "metadata": {
    "collapsed": false
   },
   "outputs": [
    {
     "data": {
      "text/html": [
       "<div>\n",
       "<style>\n",
       "    .dataframe thead tr:only-child th {\n",
       "        text-align: right;\n",
       "    }\n",
       "\n",
       "    .dataframe thead th {\n",
       "        text-align: left;\n",
       "    }\n",
       "\n",
       "    .dataframe tbody tr th {\n",
       "        vertical-align: top;\n",
       "    }\n",
       "</style>\n",
       "<table border=\"1\" class=\"dataframe\">\n",
       "  <thead>\n",
       "    <tr style=\"text-align: right;\">\n",
       "      <th></th>\n",
       "      <th>ID</th>\n",
       "      <th>datetime</th>\n",
       "      <th>siteid</th>\n",
       "      <th>offerid</th>\n",
       "      <th>category</th>\n",
       "      <th>merchant</th>\n",
       "      <th>countrycode</th>\n",
       "      <th>browserid</th>\n",
       "      <th>devid</th>\n",
       "      <th>click</th>\n",
       "      <th>weekday</th>\n",
       "      <th>hour</th>\n",
       "    </tr>\n",
       "  </thead>\n",
       "  <tbody>\n",
       "    <tr>\n",
       "      <th>0</th>\n",
       "      <td>IDMUUBNwz</td>\n",
       "      <td>2017-01-20 21:48:49</td>\n",
       "      <td>7615567.0</td>\n",
       "      <td>138618</td>\n",
       "      <td>11837</td>\n",
       "      <td>79474990</td>\n",
       "      <td>c</td>\n",
       "      <td>InternetExplorer</td>\n",
       "      <td>NaN</td>\n",
       "      <td>1</td>\n",
       "      <td>4</td>\n",
       "      <td>21</td>\n",
       "    </tr>\n",
       "    <tr>\n",
       "      <th>1</th>\n",
       "      <td>IDCLNGRY0</td>\n",
       "      <td>2017-01-20 11:23:06</td>\n",
       "      <td>NaN</td>\n",
       "      <td>239178</td>\n",
       "      <td>40339</td>\n",
       "      <td>71040875</td>\n",
       "      <td>b</td>\n",
       "      <td>Edge</td>\n",
       "      <td>Tablet</td>\n",
       "      <td>0</td>\n",
       "      <td>4</td>\n",
       "      <td>11</td>\n",
       "    </tr>\n",
       "    <tr>\n",
       "      <th>2</th>\n",
       "      <td>IDnxGiOqx</td>\n",
       "      <td>2017-01-13 12:44:48</td>\n",
       "      <td>1512420.0</td>\n",
       "      <td>185903</td>\n",
       "      <td>34670</td>\n",
       "      <td>48615529</td>\n",
       "      <td>b</td>\n",
       "      <td>Firefox</td>\n",
       "      <td>Mobile</td>\n",
       "      <td>0</td>\n",
       "      <td>4</td>\n",
       "      <td>12</td>\n",
       "    </tr>\n",
       "    <tr>\n",
       "      <th>3</th>\n",
       "      <td>IDV8WvGu0</td>\n",
       "      <td>2017-01-11 19:47:32</td>\n",
       "      <td>6389661.0</td>\n",
       "      <td>393187</td>\n",
       "      <td>42227</td>\n",
       "      <td>30860214</td>\n",
       "      <td>f</td>\n",
       "      <td>InternetExplorer</td>\n",
       "      <td>Desktop</td>\n",
       "      <td>0</td>\n",
       "      <td>2</td>\n",
       "      <td>19</td>\n",
       "    </tr>\n",
       "    <tr>\n",
       "      <th>4</th>\n",
       "      <td>IDQVAl6RK</td>\n",
       "      <td>2017-01-16 11:54:41</td>\n",
       "      <td>2352540.0</td>\n",
       "      <td>117949</td>\n",
       "      <td>14960</td>\n",
       "      <td>555603</td>\n",
       "      <td>b</td>\n",
       "      <td>InternetExplorer</td>\n",
       "      <td>Desktop</td>\n",
       "      <td>0</td>\n",
       "      <td>0</td>\n",
       "      <td>11</td>\n",
       "    </tr>\n",
       "  </tbody>\n",
       "</table>\n",
       "</div>"
      ],
      "text/plain": [
       "          ID            datetime     siteid  offerid  category  merchant  \\\n",
       "0  IDMUUBNwz 2017-01-20 21:48:49  7615567.0   138618     11837  79474990   \n",
       "1  IDCLNGRY0 2017-01-20 11:23:06        NaN   239178     40339  71040875   \n",
       "2  IDnxGiOqx 2017-01-13 12:44:48  1512420.0   185903     34670  48615529   \n",
       "3  IDV8WvGu0 2017-01-11 19:47:32  6389661.0   393187     42227  30860214   \n",
       "4  IDQVAl6RK 2017-01-16 11:54:41  2352540.0   117949     14960    555603   \n",
       "\n",
       "  countrycode         browserid    devid  click  weekday  hour  \n",
       "0           c  InternetExplorer      NaN      1        4    21  \n",
       "1           b              Edge   Tablet      0        4    11  \n",
       "2           b           Firefox   Mobile      0        4    12  \n",
       "3           f  InternetExplorer  Desktop      0        2    19  \n",
       "4           b  InternetExplorer  Desktop      0        0    11  "
      ]
     },
     "execution_count": 15,
     "metadata": {},
     "output_type": "execute_result"
    }
   ],
   "source": [
    "train.head()"
   ]
  },
  {
   "cell_type": "code",
   "execution_count": 16,
   "metadata": {
    "collapsed": false
   },
   "outputs": [
    {
     "data": {
      "text/html": [
       "<div>\n",
       "<style>\n",
       "    .dataframe thead tr:only-child th {\n",
       "        text-align: right;\n",
       "    }\n",
       "\n",
       "    .dataframe thead th {\n",
       "        text-align: left;\n",
       "    }\n",
       "\n",
       "    .dataframe tbody tr th {\n",
       "        vertical-align: top;\n",
       "    }\n",
       "</style>\n",
       "<table border=\"1\" class=\"dataframe\">\n",
       "  <thead>\n",
       "    <tr style=\"text-align: right;\">\n",
       "      <th></th>\n",
       "      <th>weekday__0</th>\n",
       "      <th>weekday__1</th>\n",
       "      <th>weekday__2</th>\n",
       "      <th>weekday__3</th>\n",
       "      <th>weekday__4</th>\n",
       "      <th>weekday__5</th>\n",
       "      <th>weekday__6</th>\n",
       "    </tr>\n",
       "  </thead>\n",
       "  <tbody>\n",
       "    <tr>\n",
       "      <th>0</th>\n",
       "      <td>0</td>\n",
       "      <td>0</td>\n",
       "      <td>0</td>\n",
       "      <td>0</td>\n",
       "      <td>1</td>\n",
       "      <td>0</td>\n",
       "      <td>0</td>\n",
       "    </tr>\n",
       "    <tr>\n",
       "      <th>1</th>\n",
       "      <td>0</td>\n",
       "      <td>0</td>\n",
       "      <td>0</td>\n",
       "      <td>0</td>\n",
       "      <td>1</td>\n",
       "      <td>0</td>\n",
       "      <td>0</td>\n",
       "    </tr>\n",
       "    <tr>\n",
       "      <th>2</th>\n",
       "      <td>0</td>\n",
       "      <td>0</td>\n",
       "      <td>0</td>\n",
       "      <td>0</td>\n",
       "      <td>1</td>\n",
       "      <td>0</td>\n",
       "      <td>0</td>\n",
       "    </tr>\n",
       "    <tr>\n",
       "      <th>3</th>\n",
       "      <td>0</td>\n",
       "      <td>0</td>\n",
       "      <td>1</td>\n",
       "      <td>0</td>\n",
       "      <td>0</td>\n",
       "      <td>0</td>\n",
       "      <td>0</td>\n",
       "    </tr>\n",
       "    <tr>\n",
       "      <th>4</th>\n",
       "      <td>1</td>\n",
       "      <td>0</td>\n",
       "      <td>0</td>\n",
       "      <td>0</td>\n",
       "      <td>0</td>\n",
       "      <td>0</td>\n",
       "      <td>0</td>\n",
       "    </tr>\n",
       "  </tbody>\n",
       "</table>\n",
       "</div>"
      ],
      "text/plain": [
       "   weekday__0  weekday__1  weekday__2  weekday__3  weekday__4  weekday__5  \\\n",
       "0           0           0           0           0           1           0   \n",
       "1           0           0           0           0           1           0   \n",
       "2           0           0           0           0           1           0   \n",
       "3           0           0           1           0           0           0   \n",
       "4           1           0           0           0           0           0   \n",
       "\n",
       "   weekday__6  \n",
       "0           0  \n",
       "1           0  \n",
       "2           0  \n",
       "3           0  \n",
       "4           0  "
      ]
     },
     "execution_count": 16,
     "metadata": {},
     "output_type": "execute_result"
    }
   ],
   "source": [
    "dum_week = pd.get_dummies(train['weekday'],prefix='weekday_')\n",
    "dum_week.head()"
   ]
  },
  {
   "cell_type": "code",
   "execution_count": 17,
   "metadata": {
    "collapsed": false
   },
   "outputs": [
    {
     "data": {
      "text/html": [
       "<div>\n",
       "<style>\n",
       "    .dataframe thead tr:only-child th {\n",
       "        text-align: right;\n",
       "    }\n",
       "\n",
       "    .dataframe thead th {\n",
       "        text-align: left;\n",
       "    }\n",
       "\n",
       "    .dataframe tbody tr th {\n",
       "        vertical-align: top;\n",
       "    }\n",
       "</style>\n",
       "<table border=\"1\" class=\"dataframe\">\n",
       "  <thead>\n",
       "    <tr style=\"text-align: right;\">\n",
       "      <th></th>\n",
       "      <th>hour__0</th>\n",
       "      <th>hour__1</th>\n",
       "      <th>hour__2</th>\n",
       "      <th>hour__3</th>\n",
       "      <th>hour__4</th>\n",
       "      <th>hour__5</th>\n",
       "      <th>hour__6</th>\n",
       "      <th>hour__7</th>\n",
       "      <th>hour__8</th>\n",
       "      <th>hour__9</th>\n",
       "      <th>...</th>\n",
       "      <th>hour__14</th>\n",
       "      <th>hour__15</th>\n",
       "      <th>hour__16</th>\n",
       "      <th>hour__17</th>\n",
       "      <th>hour__18</th>\n",
       "      <th>hour__19</th>\n",
       "      <th>hour__20</th>\n",
       "      <th>hour__21</th>\n",
       "      <th>hour__22</th>\n",
       "      <th>hour__23</th>\n",
       "    </tr>\n",
       "  </thead>\n",
       "  <tbody>\n",
       "    <tr>\n",
       "      <th>0</th>\n",
       "      <td>0</td>\n",
       "      <td>0</td>\n",
       "      <td>0</td>\n",
       "      <td>0</td>\n",
       "      <td>0</td>\n",
       "      <td>0</td>\n",
       "      <td>0</td>\n",
       "      <td>0</td>\n",
       "      <td>0</td>\n",
       "      <td>0</td>\n",
       "      <td>...</td>\n",
       "      <td>0</td>\n",
       "      <td>0</td>\n",
       "      <td>0</td>\n",
       "      <td>0</td>\n",
       "      <td>0</td>\n",
       "      <td>0</td>\n",
       "      <td>0</td>\n",
       "      <td>1</td>\n",
       "      <td>0</td>\n",
       "      <td>0</td>\n",
       "    </tr>\n",
       "    <tr>\n",
       "      <th>1</th>\n",
       "      <td>0</td>\n",
       "      <td>0</td>\n",
       "      <td>0</td>\n",
       "      <td>0</td>\n",
       "      <td>0</td>\n",
       "      <td>0</td>\n",
       "      <td>0</td>\n",
       "      <td>0</td>\n",
       "      <td>0</td>\n",
       "      <td>0</td>\n",
       "      <td>...</td>\n",
       "      <td>0</td>\n",
       "      <td>0</td>\n",
       "      <td>0</td>\n",
       "      <td>0</td>\n",
       "      <td>0</td>\n",
       "      <td>0</td>\n",
       "      <td>0</td>\n",
       "      <td>0</td>\n",
       "      <td>0</td>\n",
       "      <td>0</td>\n",
       "    </tr>\n",
       "    <tr>\n",
       "      <th>2</th>\n",
       "      <td>0</td>\n",
       "      <td>0</td>\n",
       "      <td>0</td>\n",
       "      <td>0</td>\n",
       "      <td>0</td>\n",
       "      <td>0</td>\n",
       "      <td>0</td>\n",
       "      <td>0</td>\n",
       "      <td>0</td>\n",
       "      <td>0</td>\n",
       "      <td>...</td>\n",
       "      <td>0</td>\n",
       "      <td>0</td>\n",
       "      <td>0</td>\n",
       "      <td>0</td>\n",
       "      <td>0</td>\n",
       "      <td>0</td>\n",
       "      <td>0</td>\n",
       "      <td>0</td>\n",
       "      <td>0</td>\n",
       "      <td>0</td>\n",
       "    </tr>\n",
       "    <tr>\n",
       "      <th>3</th>\n",
       "      <td>0</td>\n",
       "      <td>0</td>\n",
       "      <td>0</td>\n",
       "      <td>0</td>\n",
       "      <td>0</td>\n",
       "      <td>0</td>\n",
       "      <td>0</td>\n",
       "      <td>0</td>\n",
       "      <td>0</td>\n",
       "      <td>0</td>\n",
       "      <td>...</td>\n",
       "      <td>0</td>\n",
       "      <td>0</td>\n",
       "      <td>0</td>\n",
       "      <td>0</td>\n",
       "      <td>0</td>\n",
       "      <td>1</td>\n",
       "      <td>0</td>\n",
       "      <td>0</td>\n",
       "      <td>0</td>\n",
       "      <td>0</td>\n",
       "    </tr>\n",
       "    <tr>\n",
       "      <th>4</th>\n",
       "      <td>0</td>\n",
       "      <td>0</td>\n",
       "      <td>0</td>\n",
       "      <td>0</td>\n",
       "      <td>0</td>\n",
       "      <td>0</td>\n",
       "      <td>0</td>\n",
       "      <td>0</td>\n",
       "      <td>0</td>\n",
       "      <td>0</td>\n",
       "      <td>...</td>\n",
       "      <td>0</td>\n",
       "      <td>0</td>\n",
       "      <td>0</td>\n",
       "      <td>0</td>\n",
       "      <td>0</td>\n",
       "      <td>0</td>\n",
       "      <td>0</td>\n",
       "      <td>0</td>\n",
       "      <td>0</td>\n",
       "      <td>0</td>\n",
       "    </tr>\n",
       "  </tbody>\n",
       "</table>\n",
       "<p>5 rows × 24 columns</p>\n",
       "</div>"
      ],
      "text/plain": [
       "   hour__0  hour__1  hour__2  hour__3  hour__4  hour__5  hour__6  hour__7  \\\n",
       "0        0        0        0        0        0        0        0        0   \n",
       "1        0        0        0        0        0        0        0        0   \n",
       "2        0        0        0        0        0        0        0        0   \n",
       "3        0        0        0        0        0        0        0        0   \n",
       "4        0        0        0        0        0        0        0        0   \n",
       "\n",
       "   hour__8  hour__9    ...     hour__14  hour__15  hour__16  hour__17  \\\n",
       "0        0        0    ...            0         0         0         0   \n",
       "1        0        0    ...            0         0         0         0   \n",
       "2        0        0    ...            0         0         0         0   \n",
       "3        0        0    ...            0         0         0         0   \n",
       "4        0        0    ...            0         0         0         0   \n",
       "\n",
       "   hour__18  hour__19  hour__20  hour__21  hour__22  hour__23  \n",
       "0         0         0         0         1         0         0  \n",
       "1         0         0         0         0         0         0  \n",
       "2         0         0         0         0         0         0  \n",
       "3         0         1         0         0         0         0  \n",
       "4         0         0         0         0         0         0  \n",
       "\n",
       "[5 rows x 24 columns]"
      ]
     },
     "execution_count": 17,
     "metadata": {},
     "output_type": "execute_result"
    }
   ],
   "source": [
    "dum_hour = pd.get_dummies(train['hour'],prefix='hour_')\n",
    "dum_hour.head()"
   ]
  },
  {
   "cell_type": "code",
   "execution_count": 18,
   "metadata": {
    "collapsed": false
   },
   "outputs": [
    {
     "data": {
      "text/html": [
       "<div>\n",
       "<style>\n",
       "    .dataframe thead tr:only-child th {\n",
       "        text-align: right;\n",
       "    }\n",
       "\n",
       "    .dataframe thead th {\n",
       "        text-align: left;\n",
       "    }\n",
       "\n",
       "    .dataframe tbody tr th {\n",
       "        vertical-align: top;\n",
       "    }\n",
       "</style>\n",
       "<table border=\"1\" class=\"dataframe\">\n",
       "  <thead>\n",
       "    <tr style=\"text-align: right;\">\n",
       "      <th></th>\n",
       "      <th>ID</th>\n",
       "      <th>datetime</th>\n",
       "      <th>siteid</th>\n",
       "      <th>offerid</th>\n",
       "      <th>category</th>\n",
       "      <th>merchant</th>\n",
       "      <th>countrycode</th>\n",
       "      <th>browserid</th>\n",
       "      <th>devid</th>\n",
       "      <th>click</th>\n",
       "      <th>...</th>\n",
       "      <th>hour__21</th>\n",
       "      <th>hour__22</th>\n",
       "      <th>hour__23</th>\n",
       "      <th>weekday__0</th>\n",
       "      <th>weekday__1</th>\n",
       "      <th>weekday__2</th>\n",
       "      <th>weekday__3</th>\n",
       "      <th>weekday__4</th>\n",
       "      <th>weekday__5</th>\n",
       "      <th>weekday__6</th>\n",
       "    </tr>\n",
       "  </thead>\n",
       "  <tbody>\n",
       "    <tr>\n",
       "      <th>0</th>\n",
       "      <td>IDMUUBNwz</td>\n",
       "      <td>2017-01-20 21:48:49</td>\n",
       "      <td>7615567.0</td>\n",
       "      <td>138618</td>\n",
       "      <td>11837</td>\n",
       "      <td>79474990</td>\n",
       "      <td>c</td>\n",
       "      <td>InternetExplorer</td>\n",
       "      <td>NaN</td>\n",
       "      <td>1</td>\n",
       "      <td>...</td>\n",
       "      <td>1</td>\n",
       "      <td>0</td>\n",
       "      <td>0</td>\n",
       "      <td>0</td>\n",
       "      <td>0</td>\n",
       "      <td>0</td>\n",
       "      <td>0</td>\n",
       "      <td>1</td>\n",
       "      <td>0</td>\n",
       "      <td>0</td>\n",
       "    </tr>\n",
       "    <tr>\n",
       "      <th>1</th>\n",
       "      <td>IDCLNGRY0</td>\n",
       "      <td>2017-01-20 11:23:06</td>\n",
       "      <td>NaN</td>\n",
       "      <td>239178</td>\n",
       "      <td>40339</td>\n",
       "      <td>71040875</td>\n",
       "      <td>b</td>\n",
       "      <td>Edge</td>\n",
       "      <td>Tablet</td>\n",
       "      <td>0</td>\n",
       "      <td>...</td>\n",
       "      <td>0</td>\n",
       "      <td>0</td>\n",
       "      <td>0</td>\n",
       "      <td>0</td>\n",
       "      <td>0</td>\n",
       "      <td>0</td>\n",
       "      <td>0</td>\n",
       "      <td>1</td>\n",
       "      <td>0</td>\n",
       "      <td>0</td>\n",
       "    </tr>\n",
       "    <tr>\n",
       "      <th>2</th>\n",
       "      <td>IDnxGiOqx</td>\n",
       "      <td>2017-01-13 12:44:48</td>\n",
       "      <td>1512420.0</td>\n",
       "      <td>185903</td>\n",
       "      <td>34670</td>\n",
       "      <td>48615529</td>\n",
       "      <td>b</td>\n",
       "      <td>Firefox</td>\n",
       "      <td>Mobile</td>\n",
       "      <td>0</td>\n",
       "      <td>...</td>\n",
       "      <td>0</td>\n",
       "      <td>0</td>\n",
       "      <td>0</td>\n",
       "      <td>0</td>\n",
       "      <td>0</td>\n",
       "      <td>0</td>\n",
       "      <td>0</td>\n",
       "      <td>1</td>\n",
       "      <td>0</td>\n",
       "      <td>0</td>\n",
       "    </tr>\n",
       "    <tr>\n",
       "      <th>3</th>\n",
       "      <td>IDV8WvGu0</td>\n",
       "      <td>2017-01-11 19:47:32</td>\n",
       "      <td>6389661.0</td>\n",
       "      <td>393187</td>\n",
       "      <td>42227</td>\n",
       "      <td>30860214</td>\n",
       "      <td>f</td>\n",
       "      <td>InternetExplorer</td>\n",
       "      <td>Desktop</td>\n",
       "      <td>0</td>\n",
       "      <td>...</td>\n",
       "      <td>0</td>\n",
       "      <td>0</td>\n",
       "      <td>0</td>\n",
       "      <td>0</td>\n",
       "      <td>0</td>\n",
       "      <td>1</td>\n",
       "      <td>0</td>\n",
       "      <td>0</td>\n",
       "      <td>0</td>\n",
       "      <td>0</td>\n",
       "    </tr>\n",
       "    <tr>\n",
       "      <th>4</th>\n",
       "      <td>IDQVAl6RK</td>\n",
       "      <td>2017-01-16 11:54:41</td>\n",
       "      <td>2352540.0</td>\n",
       "      <td>117949</td>\n",
       "      <td>14960</td>\n",
       "      <td>555603</td>\n",
       "      <td>b</td>\n",
       "      <td>InternetExplorer</td>\n",
       "      <td>Desktop</td>\n",
       "      <td>0</td>\n",
       "      <td>...</td>\n",
       "      <td>0</td>\n",
       "      <td>0</td>\n",
       "      <td>0</td>\n",
       "      <td>1</td>\n",
       "      <td>0</td>\n",
       "      <td>0</td>\n",
       "      <td>0</td>\n",
       "      <td>0</td>\n",
       "      <td>0</td>\n",
       "      <td>0</td>\n",
       "    </tr>\n",
       "  </tbody>\n",
       "</table>\n",
       "<p>5 rows × 43 columns</p>\n",
       "</div>"
      ],
      "text/plain": [
       "          ID            datetime     siteid  offerid  category  merchant  \\\n",
       "0  IDMUUBNwz 2017-01-20 21:48:49  7615567.0   138618     11837  79474990   \n",
       "1  IDCLNGRY0 2017-01-20 11:23:06        NaN   239178     40339  71040875   \n",
       "2  IDnxGiOqx 2017-01-13 12:44:48  1512420.0   185903     34670  48615529   \n",
       "3  IDV8WvGu0 2017-01-11 19:47:32  6389661.0   393187     42227  30860214   \n",
       "4  IDQVAl6RK 2017-01-16 11:54:41  2352540.0   117949     14960    555603   \n",
       "\n",
       "  countrycode         browserid    devid  click     ...      hour__21  \\\n",
       "0           c  InternetExplorer      NaN      1     ...             1   \n",
       "1           b              Edge   Tablet      0     ...             0   \n",
       "2           b           Firefox   Mobile      0     ...             0   \n",
       "3           f  InternetExplorer  Desktop      0     ...             0   \n",
       "4           b  InternetExplorer  Desktop      0     ...             0   \n",
       "\n",
       "   hour__22  hour__23  weekday__0  weekday__1  weekday__2  weekday__3  \\\n",
       "0         0         0           0           0           0           0   \n",
       "1         0         0           0           0           0           0   \n",
       "2         0         0           0           0           0           0   \n",
       "3         0         0           0           0           1           0   \n",
       "4         0         0           1           0           0           0   \n",
       "\n",
       "   weekday__4  weekday__5  weekday__6  \n",
       "0           1           0           0  \n",
       "1           1           0           0  \n",
       "2           1           0           0  \n",
       "3           0           0           0  \n",
       "4           0           0           0  \n",
       "\n",
       "[5 rows x 43 columns]"
      ]
     },
     "execution_count": 18,
     "metadata": {},
     "output_type": "execute_result"
    }
   ],
   "source": [
    "train = pd.concat([train,dum_hour,dum_week],axis=1)\n",
    "train.head()"
   ]
  },
  {
   "cell_type": "code",
   "execution_count": 19,
   "metadata": {
    "collapsed": false
   },
   "outputs": [
    {
     "data": {
      "text/plain": [
       "Index(['ID', 'datetime', 'siteid', 'offerid', 'category', 'merchant',\n",
       "       'countrycode', 'browserid', 'devid', 'click', 'weekday', 'hour',\n",
       "       'hour__0', 'hour__1', 'hour__2', 'hour__3', 'hour__4', 'hour__5',\n",
       "       'hour__6', 'hour__7', 'hour__8', 'hour__9', 'hour__10', 'hour__11',\n",
       "       'hour__12', 'hour__13', 'hour__14', 'hour__15', 'hour__16', 'hour__17',\n",
       "       'hour__18', 'hour__19', 'hour__20', 'hour__21', 'hour__22', 'hour__23',\n",
       "       'weekday__0', 'weekday__1', 'weekday__2', 'weekday__3', 'weekday__4',\n",
       "       'weekday__5', 'weekday__6'],\n",
       "      dtype='object')"
      ]
     },
     "execution_count": 19,
     "metadata": {},
     "output_type": "execute_result"
    }
   ],
   "source": [
    "train.columns"
   ]
  },
  {
   "cell_type": "code",
   "execution_count": 20,
   "metadata": {
    "collapsed": false
   },
   "outputs": [],
   "source": [
    "train['siteid'] = train['siteid'].fillna(-1)"
   ]
  },
  {
   "cell_type": "code",
   "execution_count": 21,
   "metadata": {
    "collapsed": false
   },
   "outputs": [
    {
     "data": {
      "text/plain": [
       "0"
      ]
     },
     "execution_count": 21,
     "metadata": {},
     "output_type": "execute_result"
    }
   ],
   "source": [
    "train['siteid'].isnull().sum()"
   ]
  },
  {
   "cell_type": "code",
   "execution_count": 22,
   "metadata": {
    "collapsed": false
   },
   "outputs": [
    {
     "data": {
      "text/plain": [
       "0"
      ]
     },
     "execution_count": 22,
     "metadata": {},
     "output_type": "execute_result"
    }
   ],
   "source": [
    "train['offerid'].isnull().sum()"
   ]
  },
  {
   "cell_type": "code",
   "execution_count": 23,
   "metadata": {
    "collapsed": false
   },
   "outputs": [
    {
     "data": {
      "text/plain": [
       "0"
      ]
     },
     "execution_count": 23,
     "metadata": {},
     "output_type": "execute_result"
    }
   ],
   "source": [
    "train['category'].isnull().sum()"
   ]
  },
  {
   "cell_type": "code",
   "execution_count": 24,
   "metadata": {
    "collapsed": false
   },
   "outputs": [
    {
     "data": {
      "text/plain": [
       "Index(['ID', 'datetime', 'siteid', 'offerid', 'category', 'merchant',\n",
       "       'countrycode', 'browserid', 'devid', 'click', 'weekday', 'hour',\n",
       "       'hour__0', 'hour__1', 'hour__2', 'hour__3', 'hour__4', 'hour__5',\n",
       "       'hour__6', 'hour__7', 'hour__8', 'hour__9', 'hour__10', 'hour__11',\n",
       "       'hour__12', 'hour__13', 'hour__14', 'hour__15', 'hour__16', 'hour__17',\n",
       "       'hour__18', 'hour__19', 'hour__20', 'hour__21', 'hour__22', 'hour__23',\n",
       "       'weekday__0', 'weekday__1', 'weekday__2', 'weekday__3', 'weekday__4',\n",
       "       'weekday__5', 'weekday__6'],\n",
       "      dtype='object')"
      ]
     },
     "execution_count": 24,
     "metadata": {},
     "output_type": "execute_result"
    }
   ],
   "source": [
    "train.columns"
   ]
  },
  {
   "cell_type": "code",
   "execution_count": 26,
   "metadata": {
    "collapsed": false
   },
   "outputs": [
    {
     "data": {
      "text/plain": [
       "0"
      ]
     },
     "execution_count": 26,
     "metadata": {},
     "output_type": "execute_result"
    }
   ],
   "source": [
    "train['merchant'].isnull().sum()"
   ]
  },
  {
   "cell_type": "code",
   "execution_count": 28,
   "metadata": {
    "collapsed": false
   },
   "outputs": [
    {
     "data": {
      "text/plain": [
       "b    529106\n",
       "a    294740\n",
       "e    119334\n",
       "f    118811\n",
       "c     80358\n",
       "d     71432\n",
       "Name: countrycode, dtype: int64"
      ]
     },
     "execution_count": 28,
     "metadata": {},
     "output_type": "execute_result"
    }
   ],
   "source": [
    "train['countrycode'].value_counts()"
   ]
  },
  {
   "cell_type": "code",
   "execution_count": 29,
   "metadata": {
    "collapsed": false
   },
   "outputs": [
    {
     "data": {
      "text/html": [
       "<div>\n",
       "<style>\n",
       "    .dataframe thead tr:only-child th {\n",
       "        text-align: right;\n",
       "    }\n",
       "\n",
       "    .dataframe thead th {\n",
       "        text-align: left;\n",
       "    }\n",
       "\n",
       "    .dataframe tbody tr th {\n",
       "        vertical-align: top;\n",
       "    }\n",
       "</style>\n",
       "<table border=\"1\" class=\"dataframe\">\n",
       "  <thead>\n",
       "    <tr style=\"text-align: right;\">\n",
       "      <th></th>\n",
       "      <th>a</th>\n",
       "      <th>b</th>\n",
       "      <th>c</th>\n",
       "      <th>d</th>\n",
       "      <th>e</th>\n",
       "      <th>f</th>\n",
       "    </tr>\n",
       "  </thead>\n",
       "  <tbody>\n",
       "    <tr>\n",
       "      <th>0</th>\n",
       "      <td>0</td>\n",
       "      <td>0</td>\n",
       "      <td>1</td>\n",
       "      <td>0</td>\n",
       "      <td>0</td>\n",
       "      <td>0</td>\n",
       "    </tr>\n",
       "    <tr>\n",
       "      <th>1</th>\n",
       "      <td>0</td>\n",
       "      <td>1</td>\n",
       "      <td>0</td>\n",
       "      <td>0</td>\n",
       "      <td>0</td>\n",
       "      <td>0</td>\n",
       "    </tr>\n",
       "    <tr>\n",
       "      <th>2</th>\n",
       "      <td>0</td>\n",
       "      <td>1</td>\n",
       "      <td>0</td>\n",
       "      <td>0</td>\n",
       "      <td>0</td>\n",
       "      <td>0</td>\n",
       "    </tr>\n",
       "    <tr>\n",
       "      <th>3</th>\n",
       "      <td>0</td>\n",
       "      <td>0</td>\n",
       "      <td>0</td>\n",
       "      <td>0</td>\n",
       "      <td>0</td>\n",
       "      <td>1</td>\n",
       "    </tr>\n",
       "    <tr>\n",
       "      <th>4</th>\n",
       "      <td>0</td>\n",
       "      <td>1</td>\n",
       "      <td>0</td>\n",
       "      <td>0</td>\n",
       "      <td>0</td>\n",
       "      <td>0</td>\n",
       "    </tr>\n",
       "  </tbody>\n",
       "</table>\n",
       "</div>"
      ],
      "text/plain": [
       "   a  b  c  d  e  f\n",
       "0  0  0  1  0  0  0\n",
       "1  0  1  0  0  0  0\n",
       "2  0  1  0  0  0  0\n",
       "3  0  0  0  0  0  1\n",
       "4  0  1  0  0  0  0"
      ]
     },
     "execution_count": 29,
     "metadata": {},
     "output_type": "execute_result"
    }
   ],
   "source": [
    "dum_coun = pd.get_dummies(train['countrycode'])\n",
    "dum_coun.head()"
   ]
  },
  {
   "cell_type": "code",
   "execution_count": 31,
   "metadata": {
    "collapsed": false
   },
   "outputs": [
    {
     "data": {
      "text/html": [
       "<div>\n",
       "<style>\n",
       "    .dataframe thead tr:only-child th {\n",
       "        text-align: right;\n",
       "    }\n",
       "\n",
       "    .dataframe thead th {\n",
       "        text-align: left;\n",
       "    }\n",
       "\n",
       "    .dataframe tbody tr th {\n",
       "        vertical-align: top;\n",
       "    }\n",
       "</style>\n",
       "<table border=\"1\" class=\"dataframe\">\n",
       "  <thead>\n",
       "    <tr style=\"text-align: right;\">\n",
       "      <th></th>\n",
       "      <th>ID</th>\n",
       "      <th>datetime</th>\n",
       "      <th>siteid</th>\n",
       "      <th>offerid</th>\n",
       "      <th>category</th>\n",
       "      <th>merchant</th>\n",
       "      <th>browserid</th>\n",
       "      <th>devid</th>\n",
       "      <th>click</th>\n",
       "      <th>hour__0</th>\n",
       "      <th>...</th>\n",
       "      <th>hour__21</th>\n",
       "      <th>hour__22</th>\n",
       "      <th>hour__23</th>\n",
       "      <th>weekday__0</th>\n",
       "      <th>weekday__1</th>\n",
       "      <th>weekday__2</th>\n",
       "      <th>weekday__3</th>\n",
       "      <th>weekday__4</th>\n",
       "      <th>weekday__5</th>\n",
       "      <th>weekday__6</th>\n",
       "    </tr>\n",
       "  </thead>\n",
       "  <tbody>\n",
       "    <tr>\n",
       "      <th>0</th>\n",
       "      <td>IDMUUBNwz</td>\n",
       "      <td>2017-01-20 21:48:49</td>\n",
       "      <td>7615567.0</td>\n",
       "      <td>138618</td>\n",
       "      <td>11837</td>\n",
       "      <td>79474990</td>\n",
       "      <td>InternetExplorer</td>\n",
       "      <td>NaN</td>\n",
       "      <td>1</td>\n",
       "      <td>0</td>\n",
       "      <td>...</td>\n",
       "      <td>1</td>\n",
       "      <td>0</td>\n",
       "      <td>0</td>\n",
       "      <td>0</td>\n",
       "      <td>0</td>\n",
       "      <td>0</td>\n",
       "      <td>0</td>\n",
       "      <td>1</td>\n",
       "      <td>0</td>\n",
       "      <td>0</td>\n",
       "    </tr>\n",
       "    <tr>\n",
       "      <th>1</th>\n",
       "      <td>IDCLNGRY0</td>\n",
       "      <td>2017-01-20 11:23:06</td>\n",
       "      <td>-1.0</td>\n",
       "      <td>239178</td>\n",
       "      <td>40339</td>\n",
       "      <td>71040875</td>\n",
       "      <td>Edge</td>\n",
       "      <td>Tablet</td>\n",
       "      <td>0</td>\n",
       "      <td>0</td>\n",
       "      <td>...</td>\n",
       "      <td>0</td>\n",
       "      <td>0</td>\n",
       "      <td>0</td>\n",
       "      <td>0</td>\n",
       "      <td>0</td>\n",
       "      <td>0</td>\n",
       "      <td>0</td>\n",
       "      <td>1</td>\n",
       "      <td>0</td>\n",
       "      <td>0</td>\n",
       "    </tr>\n",
       "    <tr>\n",
       "      <th>2</th>\n",
       "      <td>IDnxGiOqx</td>\n",
       "      <td>2017-01-13 12:44:48</td>\n",
       "      <td>1512420.0</td>\n",
       "      <td>185903</td>\n",
       "      <td>34670</td>\n",
       "      <td>48615529</td>\n",
       "      <td>Firefox</td>\n",
       "      <td>Mobile</td>\n",
       "      <td>0</td>\n",
       "      <td>0</td>\n",
       "      <td>...</td>\n",
       "      <td>0</td>\n",
       "      <td>0</td>\n",
       "      <td>0</td>\n",
       "      <td>0</td>\n",
       "      <td>0</td>\n",
       "      <td>0</td>\n",
       "      <td>0</td>\n",
       "      <td>1</td>\n",
       "      <td>0</td>\n",
       "      <td>0</td>\n",
       "    </tr>\n",
       "    <tr>\n",
       "      <th>3</th>\n",
       "      <td>IDV8WvGu0</td>\n",
       "      <td>2017-01-11 19:47:32</td>\n",
       "      <td>6389661.0</td>\n",
       "      <td>393187</td>\n",
       "      <td>42227</td>\n",
       "      <td>30860214</td>\n",
       "      <td>InternetExplorer</td>\n",
       "      <td>Desktop</td>\n",
       "      <td>0</td>\n",
       "      <td>0</td>\n",
       "      <td>...</td>\n",
       "      <td>0</td>\n",
       "      <td>0</td>\n",
       "      <td>0</td>\n",
       "      <td>0</td>\n",
       "      <td>0</td>\n",
       "      <td>1</td>\n",
       "      <td>0</td>\n",
       "      <td>0</td>\n",
       "      <td>0</td>\n",
       "      <td>0</td>\n",
       "    </tr>\n",
       "    <tr>\n",
       "      <th>4</th>\n",
       "      <td>IDQVAl6RK</td>\n",
       "      <td>2017-01-16 11:54:41</td>\n",
       "      <td>2352540.0</td>\n",
       "      <td>117949</td>\n",
       "      <td>14960</td>\n",
       "      <td>555603</td>\n",
       "      <td>InternetExplorer</td>\n",
       "      <td>Desktop</td>\n",
       "      <td>0</td>\n",
       "      <td>0</td>\n",
       "      <td>...</td>\n",
       "      <td>0</td>\n",
       "      <td>0</td>\n",
       "      <td>0</td>\n",
       "      <td>1</td>\n",
       "      <td>0</td>\n",
       "      <td>0</td>\n",
       "      <td>0</td>\n",
       "      <td>0</td>\n",
       "      <td>0</td>\n",
       "      <td>0</td>\n",
       "    </tr>\n",
       "  </tbody>\n",
       "</table>\n",
       "<p>5 rows × 40 columns</p>\n",
       "</div>"
      ],
      "text/plain": [
       "          ID            datetime     siteid  offerid  category  merchant  \\\n",
       "0  IDMUUBNwz 2017-01-20 21:48:49  7615567.0   138618     11837  79474990   \n",
       "1  IDCLNGRY0 2017-01-20 11:23:06       -1.0   239178     40339  71040875   \n",
       "2  IDnxGiOqx 2017-01-13 12:44:48  1512420.0   185903     34670  48615529   \n",
       "3  IDV8WvGu0 2017-01-11 19:47:32  6389661.0   393187     42227  30860214   \n",
       "4  IDQVAl6RK 2017-01-16 11:54:41  2352540.0   117949     14960    555603   \n",
       "\n",
       "          browserid    devid  click  hour__0     ...      hour__21  hour__22  \\\n",
       "0  InternetExplorer      NaN      1        0     ...             1         0   \n",
       "1              Edge   Tablet      0        0     ...             0         0   \n",
       "2           Firefox   Mobile      0        0     ...             0         0   \n",
       "3  InternetExplorer  Desktop      0        0     ...             0         0   \n",
       "4  InternetExplorer  Desktop      0        0     ...             0         0   \n",
       "\n",
       "   hour__23  weekday__0  weekday__1  weekday__2  weekday__3  weekday__4  \\\n",
       "0         0           0           0           0           0           1   \n",
       "1         0           0           0           0           0           1   \n",
       "2         0           0           0           0           0           1   \n",
       "3         0           0           0           1           0           0   \n",
       "4         0           1           0           0           0           0   \n",
       "\n",
       "   weekday__5  weekday__6  \n",
       "0           0           0  \n",
       "1           0           0  \n",
       "2           0           0  \n",
       "3           0           0  \n",
       "4           0           0  \n",
       "\n",
       "[5 rows x 40 columns]"
      ]
     },
     "execution_count": 31,
     "metadata": {},
     "output_type": "execute_result"
    }
   ],
   "source": [
    "train = train.drop(['weekday','hour'],axis=1)\n",
    "train.head()"
   ]
  },
  {
   "cell_type": "code",
   "execution_count": 33,
   "metadata": {
    "collapsed": false
   },
   "outputs": [
    {
     "data": {
      "text/html": [
       "<div>\n",
       "<style>\n",
       "    .dataframe thead tr:only-child th {\n",
       "        text-align: right;\n",
       "    }\n",
       "\n",
       "    .dataframe thead th {\n",
       "        text-align: left;\n",
       "    }\n",
       "\n",
       "    .dataframe tbody tr th {\n",
       "        vertical-align: top;\n",
       "    }\n",
       "</style>\n",
       "<table border=\"1\" class=\"dataframe\">\n",
       "  <thead>\n",
       "    <tr style=\"text-align: right;\">\n",
       "      <th></th>\n",
       "      <th>ID</th>\n",
       "      <th>datetime</th>\n",
       "      <th>siteid</th>\n",
       "      <th>offerid</th>\n",
       "      <th>category</th>\n",
       "      <th>merchant</th>\n",
       "      <th>browserid</th>\n",
       "      <th>devid</th>\n",
       "      <th>click</th>\n",
       "      <th>hour__0</th>\n",
       "      <th>...</th>\n",
       "      <th>weekday__3</th>\n",
       "      <th>weekday__4</th>\n",
       "      <th>weekday__5</th>\n",
       "      <th>weekday__6</th>\n",
       "      <th>a</th>\n",
       "      <th>b</th>\n",
       "      <th>c</th>\n",
       "      <th>d</th>\n",
       "      <th>e</th>\n",
       "      <th>f</th>\n",
       "    </tr>\n",
       "  </thead>\n",
       "  <tbody>\n",
       "    <tr>\n",
       "      <th>0</th>\n",
       "      <td>IDMUUBNwz</td>\n",
       "      <td>2017-01-20 21:48:49</td>\n",
       "      <td>7615567.0</td>\n",
       "      <td>138618</td>\n",
       "      <td>11837</td>\n",
       "      <td>79474990</td>\n",
       "      <td>InternetExplorer</td>\n",
       "      <td>NaN</td>\n",
       "      <td>1</td>\n",
       "      <td>0</td>\n",
       "      <td>...</td>\n",
       "      <td>0</td>\n",
       "      <td>1</td>\n",
       "      <td>0</td>\n",
       "      <td>0</td>\n",
       "      <td>0</td>\n",
       "      <td>0</td>\n",
       "      <td>1</td>\n",
       "      <td>0</td>\n",
       "      <td>0</td>\n",
       "      <td>0</td>\n",
       "    </tr>\n",
       "    <tr>\n",
       "      <th>1</th>\n",
       "      <td>IDCLNGRY0</td>\n",
       "      <td>2017-01-20 11:23:06</td>\n",
       "      <td>-1.0</td>\n",
       "      <td>239178</td>\n",
       "      <td>40339</td>\n",
       "      <td>71040875</td>\n",
       "      <td>Edge</td>\n",
       "      <td>Tablet</td>\n",
       "      <td>0</td>\n",
       "      <td>0</td>\n",
       "      <td>...</td>\n",
       "      <td>0</td>\n",
       "      <td>1</td>\n",
       "      <td>0</td>\n",
       "      <td>0</td>\n",
       "      <td>0</td>\n",
       "      <td>1</td>\n",
       "      <td>0</td>\n",
       "      <td>0</td>\n",
       "      <td>0</td>\n",
       "      <td>0</td>\n",
       "    </tr>\n",
       "    <tr>\n",
       "      <th>2</th>\n",
       "      <td>IDnxGiOqx</td>\n",
       "      <td>2017-01-13 12:44:48</td>\n",
       "      <td>1512420.0</td>\n",
       "      <td>185903</td>\n",
       "      <td>34670</td>\n",
       "      <td>48615529</td>\n",
       "      <td>Firefox</td>\n",
       "      <td>Mobile</td>\n",
       "      <td>0</td>\n",
       "      <td>0</td>\n",
       "      <td>...</td>\n",
       "      <td>0</td>\n",
       "      <td>1</td>\n",
       "      <td>0</td>\n",
       "      <td>0</td>\n",
       "      <td>0</td>\n",
       "      <td>1</td>\n",
       "      <td>0</td>\n",
       "      <td>0</td>\n",
       "      <td>0</td>\n",
       "      <td>0</td>\n",
       "    </tr>\n",
       "    <tr>\n",
       "      <th>3</th>\n",
       "      <td>IDV8WvGu0</td>\n",
       "      <td>2017-01-11 19:47:32</td>\n",
       "      <td>6389661.0</td>\n",
       "      <td>393187</td>\n",
       "      <td>42227</td>\n",
       "      <td>30860214</td>\n",
       "      <td>InternetExplorer</td>\n",
       "      <td>Desktop</td>\n",
       "      <td>0</td>\n",
       "      <td>0</td>\n",
       "      <td>...</td>\n",
       "      <td>0</td>\n",
       "      <td>0</td>\n",
       "      <td>0</td>\n",
       "      <td>0</td>\n",
       "      <td>0</td>\n",
       "      <td>0</td>\n",
       "      <td>0</td>\n",
       "      <td>0</td>\n",
       "      <td>0</td>\n",
       "      <td>1</td>\n",
       "    </tr>\n",
       "    <tr>\n",
       "      <th>4</th>\n",
       "      <td>IDQVAl6RK</td>\n",
       "      <td>2017-01-16 11:54:41</td>\n",
       "      <td>2352540.0</td>\n",
       "      <td>117949</td>\n",
       "      <td>14960</td>\n",
       "      <td>555603</td>\n",
       "      <td>InternetExplorer</td>\n",
       "      <td>Desktop</td>\n",
       "      <td>0</td>\n",
       "      <td>0</td>\n",
       "      <td>...</td>\n",
       "      <td>0</td>\n",
       "      <td>0</td>\n",
       "      <td>0</td>\n",
       "      <td>0</td>\n",
       "      <td>0</td>\n",
       "      <td>1</td>\n",
       "      <td>0</td>\n",
       "      <td>0</td>\n",
       "      <td>0</td>\n",
       "      <td>0</td>\n",
       "    </tr>\n",
       "  </tbody>\n",
       "</table>\n",
       "<p>5 rows × 46 columns</p>\n",
       "</div>"
      ],
      "text/plain": [
       "          ID            datetime     siteid  offerid  category  merchant  \\\n",
       "0  IDMUUBNwz 2017-01-20 21:48:49  7615567.0   138618     11837  79474990   \n",
       "1  IDCLNGRY0 2017-01-20 11:23:06       -1.0   239178     40339  71040875   \n",
       "2  IDnxGiOqx 2017-01-13 12:44:48  1512420.0   185903     34670  48615529   \n",
       "3  IDV8WvGu0 2017-01-11 19:47:32  6389661.0   393187     42227  30860214   \n",
       "4  IDQVAl6RK 2017-01-16 11:54:41  2352540.0   117949     14960    555603   \n",
       "\n",
       "          browserid    devid  click  hour__0 ...  weekday__3  weekday__4  \\\n",
       "0  InternetExplorer      NaN      1        0 ...           0           1   \n",
       "1              Edge   Tablet      0        0 ...           0           1   \n",
       "2           Firefox   Mobile      0        0 ...           0           1   \n",
       "3  InternetExplorer  Desktop      0        0 ...           0           0   \n",
       "4  InternetExplorer  Desktop      0        0 ...           0           0   \n",
       "\n",
       "   weekday__5  weekday__6  a  b  c  d  e  f  \n",
       "0           0           0  0  0  1  0  0  0  \n",
       "1           0           0  0  1  0  0  0  0  \n",
       "2           0           0  0  1  0  0  0  0  \n",
       "3           0           0  0  0  0  0  0  1  \n",
       "4           0           0  0  1  0  0  0  0  \n",
       "\n",
       "[5 rows x 46 columns]"
      ]
     },
     "execution_count": 33,
     "metadata": {},
     "output_type": "execute_result"
    }
   ],
   "source": [
    "train = pd.concat([train,dum_coun],axis=1)\n",
    "train.head()"
   ]
  },
  {
   "cell_type": "code",
   "execution_count": 34,
   "metadata": {
    "collapsed": false
   },
   "outputs": [
    {
     "data": {
      "text/plain": [
       "Index(['ID', 'datetime', 'siteid', 'offerid', 'category', 'merchant',\n",
       "       'browserid', 'devid', 'click', 'hour__0', 'hour__1', 'hour__2',\n",
       "       'hour__3', 'hour__4', 'hour__5', 'hour__6', 'hour__7', 'hour__8',\n",
       "       'hour__9', 'hour__10', 'hour__11', 'hour__12', 'hour__13', 'hour__14',\n",
       "       'hour__15', 'hour__16', 'hour__17', 'hour__18', 'hour__19', 'hour__20',\n",
       "       'hour__21', 'hour__22', 'hour__23', 'weekday__0', 'weekday__1',\n",
       "       'weekday__2', 'weekday__3', 'weekday__4', 'weekday__5', 'weekday__6',\n",
       "       'a', 'b', 'c', 'd', 'e', 'f'],\n",
       "      dtype='object')"
      ]
     },
     "execution_count": 34,
     "metadata": {},
     "output_type": "execute_result"
    }
   ],
   "source": [
    "train.columns"
   ]
  },
  {
   "cell_type": "code",
   "execution_count": 36,
   "metadata": {
    "collapsed": false
   },
   "outputs": [
    {
     "data": {
      "text/plain": [
       "Edge                 345873\n",
       "Firefox              334829\n",
       "Mozilla              111869\n",
       "Mozilla Firefox      100978\n",
       "InternetExplorer      74501\n",
       "Google Chrome         69567\n",
       "IE                    34647\n",
       "Chrome                34486\n",
       "Internet Explorer     23247\n",
       "Safari                11521\n",
       "Opera                 11514\n",
       "Name: browserid, dtype: int64"
      ]
     },
     "execution_count": 36,
     "metadata": {},
     "output_type": "execute_result"
    }
   ],
   "source": [
    "train['browserid'].value_counts()"
   ]
  },
  {
   "cell_type": "code",
   "execution_count": 38,
   "metadata": {
    "collapsed": true
   },
   "outputs": [],
   "source": [
    "firefox_list = ['Firefox','Mozilla','Mozilla Firefox']\n",
    "chrome_list = ['Google Chrome','Chrome']\n",
    "ie_list = ['IE','InternetExplorer','Internet Explorer']"
   ]
  },
  {
   "cell_type": "code",
   "execution_count": 39,
   "metadata": {
    "collapsed": true
   },
   "outputs": [],
   "source": [
    "def update_browser_id(x):\n",
    "    if x in firefox_list:\n",
    "        return 'ff'\n",
    "    if x in chrome_list:\n",
    "        return 'gc'\n",
    "    if x in ie_list:\n",
    "        return 'ie'\n",
    "    return x"
   ]
  },
  {
   "cell_type": "code",
   "execution_count": 41,
   "metadata": {
    "collapsed": false
   },
   "outputs": [],
   "source": [
    "train['browserid'] = train['browserid'].apply(lambda x:update_browser_id(x))"
   ]
  },
  {
   "cell_type": "code",
   "execution_count": 45,
   "metadata": {
    "collapsed": false
   },
   "outputs": [
    {
     "data": {
      "text/plain": [
       "ff        608425\n",
       "Edge      345873\n",
       "ie        132395\n",
       "gc        104053\n",
       "Safari     11521\n",
       "Opera      11514\n",
       "Name: browserid, dtype: int64"
      ]
     },
     "execution_count": 45,
     "metadata": {},
     "output_type": "execute_result"
    }
   ],
   "source": [
    "train['browserid'].value_counts()"
   ]
  },
  {
   "cell_type": "code",
   "execution_count": 44,
   "metadata": {
    "collapsed": false
   },
   "outputs": [
    {
     "data": {
      "text/plain": [
       "0"
      ]
     },
     "execution_count": 44,
     "metadata": {},
     "output_type": "execute_result"
    }
   ],
   "source": [
    "train['browserid'] = train['browserid'].fillna('ff')\n",
    "train['browserid'].isnull().sum()"
   ]
  },
  {
   "cell_type": "code",
   "execution_count": 46,
   "metadata": {
    "collapsed": false
   },
   "outputs": [
    {
     "data": {
      "text/plain": [
       "Index(['ID', 'datetime', 'siteid', 'offerid', 'category', 'merchant',\n",
       "       'browserid', 'devid', 'click', 'hour__0', 'hour__1', 'hour__2',\n",
       "       'hour__3', 'hour__4', 'hour__5', 'hour__6', 'hour__7', 'hour__8',\n",
       "       'hour__9', 'hour__10', 'hour__11', 'hour__12', 'hour__13', 'hour__14',\n",
       "       'hour__15', 'hour__16', 'hour__17', 'hour__18', 'hour__19', 'hour__20',\n",
       "       'hour__21', 'hour__22', 'hour__23', 'weekday__0', 'weekday__1',\n",
       "       'weekday__2', 'weekday__3', 'weekday__4', 'weekday__5', 'weekday__6',\n",
       "       'a', 'b', 'c', 'd', 'e', 'f'],\n",
       "      dtype='object')"
      ]
     },
     "execution_count": 46,
     "metadata": {},
     "output_type": "execute_result"
    }
   ],
   "source": [
    "train.columns"
   ]
  },
  {
   "cell_type": "code",
   "execution_count": 47,
   "metadata": {
    "collapsed": false
   },
   "outputs": [
    {
     "data": {
      "text/html": [
       "<div>\n",
       "<style>\n",
       "    .dataframe thead tr:only-child th {\n",
       "        text-align: right;\n",
       "    }\n",
       "\n",
       "    .dataframe thead th {\n",
       "        text-align: left;\n",
       "    }\n",
       "\n",
       "    .dataframe tbody tr th {\n",
       "        vertical-align: top;\n",
       "    }\n",
       "</style>\n",
       "<table border=\"1\" class=\"dataframe\">\n",
       "  <thead>\n",
       "    <tr style=\"text-align: right;\">\n",
       "      <th></th>\n",
       "      <th>brow__Edge</th>\n",
       "      <th>brow__Opera</th>\n",
       "      <th>brow__Safari</th>\n",
       "      <th>brow__ff</th>\n",
       "      <th>brow__gc</th>\n",
       "      <th>brow__ie</th>\n",
       "    </tr>\n",
       "  </thead>\n",
       "  <tbody>\n",
       "    <tr>\n",
       "      <th>0</th>\n",
       "      <td>0</td>\n",
       "      <td>0</td>\n",
       "      <td>0</td>\n",
       "      <td>0</td>\n",
       "      <td>0</td>\n",
       "      <td>1</td>\n",
       "    </tr>\n",
       "    <tr>\n",
       "      <th>1</th>\n",
       "      <td>1</td>\n",
       "      <td>0</td>\n",
       "      <td>0</td>\n",
       "      <td>0</td>\n",
       "      <td>0</td>\n",
       "      <td>0</td>\n",
       "    </tr>\n",
       "    <tr>\n",
       "      <th>2</th>\n",
       "      <td>0</td>\n",
       "      <td>0</td>\n",
       "      <td>0</td>\n",
       "      <td>1</td>\n",
       "      <td>0</td>\n",
       "      <td>0</td>\n",
       "    </tr>\n",
       "    <tr>\n",
       "      <th>3</th>\n",
       "      <td>0</td>\n",
       "      <td>0</td>\n",
       "      <td>0</td>\n",
       "      <td>0</td>\n",
       "      <td>0</td>\n",
       "      <td>1</td>\n",
       "    </tr>\n",
       "    <tr>\n",
       "      <th>4</th>\n",
       "      <td>0</td>\n",
       "      <td>0</td>\n",
       "      <td>0</td>\n",
       "      <td>0</td>\n",
       "      <td>0</td>\n",
       "      <td>1</td>\n",
       "    </tr>\n",
       "  </tbody>\n",
       "</table>\n",
       "</div>"
      ],
      "text/plain": [
       "   brow__Edge  brow__Opera  brow__Safari  brow__ff  brow__gc  brow__ie\n",
       "0           0            0             0         0         0         1\n",
       "1           1            0             0         0         0         0\n",
       "2           0            0             0         1         0         0\n",
       "3           0            0             0         0         0         1\n",
       "4           0            0             0         0         0         1"
      ]
     },
     "execution_count": 47,
     "metadata": {},
     "output_type": "execute_result"
    }
   ],
   "source": [
    "dum_browser = pd.get_dummies(train['browserid'],prefix='brow_')\n",
    "dum_browser.head()"
   ]
  },
  {
   "cell_type": "code",
   "execution_count": 48,
   "metadata": {
    "collapsed": false
   },
   "outputs": [
    {
     "data": {
      "text/html": [
       "<div>\n",
       "<style>\n",
       "    .dataframe thead tr:only-child th {\n",
       "        text-align: right;\n",
       "    }\n",
       "\n",
       "    .dataframe thead th {\n",
       "        text-align: left;\n",
       "    }\n",
       "\n",
       "    .dataframe tbody tr th {\n",
       "        vertical-align: top;\n",
       "    }\n",
       "</style>\n",
       "<table border=\"1\" class=\"dataframe\">\n",
       "  <thead>\n",
       "    <tr style=\"text-align: right;\">\n",
       "      <th></th>\n",
       "      <th>ID</th>\n",
       "      <th>datetime</th>\n",
       "      <th>siteid</th>\n",
       "      <th>offerid</th>\n",
       "      <th>category</th>\n",
       "      <th>merchant</th>\n",
       "      <th>devid</th>\n",
       "      <th>click</th>\n",
       "      <th>hour__0</th>\n",
       "      <th>hour__1</th>\n",
       "      <th>...</th>\n",
       "      <th>weekday__3</th>\n",
       "      <th>weekday__4</th>\n",
       "      <th>weekday__5</th>\n",
       "      <th>weekday__6</th>\n",
       "      <th>a</th>\n",
       "      <th>b</th>\n",
       "      <th>c</th>\n",
       "      <th>d</th>\n",
       "      <th>e</th>\n",
       "      <th>f</th>\n",
       "    </tr>\n",
       "  </thead>\n",
       "  <tbody>\n",
       "    <tr>\n",
       "      <th>0</th>\n",
       "      <td>IDMUUBNwz</td>\n",
       "      <td>2017-01-20 21:48:49</td>\n",
       "      <td>7615567.0</td>\n",
       "      <td>138618</td>\n",
       "      <td>11837</td>\n",
       "      <td>79474990</td>\n",
       "      <td>NaN</td>\n",
       "      <td>1</td>\n",
       "      <td>0</td>\n",
       "      <td>0</td>\n",
       "      <td>...</td>\n",
       "      <td>0</td>\n",
       "      <td>1</td>\n",
       "      <td>0</td>\n",
       "      <td>0</td>\n",
       "      <td>0</td>\n",
       "      <td>0</td>\n",
       "      <td>1</td>\n",
       "      <td>0</td>\n",
       "      <td>0</td>\n",
       "      <td>0</td>\n",
       "    </tr>\n",
       "    <tr>\n",
       "      <th>1</th>\n",
       "      <td>IDCLNGRY0</td>\n",
       "      <td>2017-01-20 11:23:06</td>\n",
       "      <td>-1.0</td>\n",
       "      <td>239178</td>\n",
       "      <td>40339</td>\n",
       "      <td>71040875</td>\n",
       "      <td>Tablet</td>\n",
       "      <td>0</td>\n",
       "      <td>0</td>\n",
       "      <td>0</td>\n",
       "      <td>...</td>\n",
       "      <td>0</td>\n",
       "      <td>1</td>\n",
       "      <td>0</td>\n",
       "      <td>0</td>\n",
       "      <td>0</td>\n",
       "      <td>1</td>\n",
       "      <td>0</td>\n",
       "      <td>0</td>\n",
       "      <td>0</td>\n",
       "      <td>0</td>\n",
       "    </tr>\n",
       "    <tr>\n",
       "      <th>2</th>\n",
       "      <td>IDnxGiOqx</td>\n",
       "      <td>2017-01-13 12:44:48</td>\n",
       "      <td>1512420.0</td>\n",
       "      <td>185903</td>\n",
       "      <td>34670</td>\n",
       "      <td>48615529</td>\n",
       "      <td>Mobile</td>\n",
       "      <td>0</td>\n",
       "      <td>0</td>\n",
       "      <td>0</td>\n",
       "      <td>...</td>\n",
       "      <td>0</td>\n",
       "      <td>1</td>\n",
       "      <td>0</td>\n",
       "      <td>0</td>\n",
       "      <td>0</td>\n",
       "      <td>1</td>\n",
       "      <td>0</td>\n",
       "      <td>0</td>\n",
       "      <td>0</td>\n",
       "      <td>0</td>\n",
       "    </tr>\n",
       "    <tr>\n",
       "      <th>3</th>\n",
       "      <td>IDV8WvGu0</td>\n",
       "      <td>2017-01-11 19:47:32</td>\n",
       "      <td>6389661.0</td>\n",
       "      <td>393187</td>\n",
       "      <td>42227</td>\n",
       "      <td>30860214</td>\n",
       "      <td>Desktop</td>\n",
       "      <td>0</td>\n",
       "      <td>0</td>\n",
       "      <td>0</td>\n",
       "      <td>...</td>\n",
       "      <td>0</td>\n",
       "      <td>0</td>\n",
       "      <td>0</td>\n",
       "      <td>0</td>\n",
       "      <td>0</td>\n",
       "      <td>0</td>\n",
       "      <td>0</td>\n",
       "      <td>0</td>\n",
       "      <td>0</td>\n",
       "      <td>1</td>\n",
       "    </tr>\n",
       "    <tr>\n",
       "      <th>4</th>\n",
       "      <td>IDQVAl6RK</td>\n",
       "      <td>2017-01-16 11:54:41</td>\n",
       "      <td>2352540.0</td>\n",
       "      <td>117949</td>\n",
       "      <td>14960</td>\n",
       "      <td>555603</td>\n",
       "      <td>Desktop</td>\n",
       "      <td>0</td>\n",
       "      <td>0</td>\n",
       "      <td>0</td>\n",
       "      <td>...</td>\n",
       "      <td>0</td>\n",
       "      <td>0</td>\n",
       "      <td>0</td>\n",
       "      <td>0</td>\n",
       "      <td>0</td>\n",
       "      <td>1</td>\n",
       "      <td>0</td>\n",
       "      <td>0</td>\n",
       "      <td>0</td>\n",
       "      <td>0</td>\n",
       "    </tr>\n",
       "  </tbody>\n",
       "</table>\n",
       "<p>5 rows × 45 columns</p>\n",
       "</div>"
      ],
      "text/plain": [
       "          ID            datetime     siteid  offerid  category  merchant  \\\n",
       "0  IDMUUBNwz 2017-01-20 21:48:49  7615567.0   138618     11837  79474990   \n",
       "1  IDCLNGRY0 2017-01-20 11:23:06       -1.0   239178     40339  71040875   \n",
       "2  IDnxGiOqx 2017-01-13 12:44:48  1512420.0   185903     34670  48615529   \n",
       "3  IDV8WvGu0 2017-01-11 19:47:32  6389661.0   393187     42227  30860214   \n",
       "4  IDQVAl6RK 2017-01-16 11:54:41  2352540.0   117949     14960    555603   \n",
       "\n",
       "     devid  click  hour__0  hour__1 ...  weekday__3  weekday__4  weekday__5  \\\n",
       "0      NaN      1        0        0 ...           0           1           0   \n",
       "1   Tablet      0        0        0 ...           0           1           0   \n",
       "2   Mobile      0        0        0 ...           0           1           0   \n",
       "3  Desktop      0        0        0 ...           0           0           0   \n",
       "4  Desktop      0        0        0 ...           0           0           0   \n",
       "\n",
       "   weekday__6  a  b  c  d  e  f  \n",
       "0           0  0  0  1  0  0  0  \n",
       "1           0  0  1  0  0  0  0  \n",
       "2           0  0  1  0  0  0  0  \n",
       "3           0  0  0  0  0  0  1  \n",
       "4           0  0  1  0  0  0  0  \n",
       "\n",
       "[5 rows x 45 columns]"
      ]
     },
     "execution_count": 48,
     "metadata": {},
     "output_type": "execute_result"
    }
   ],
   "source": [
    "train = train.drop(['browserid'],axis=1)\n",
    "train.head()"
   ]
  },
  {
   "cell_type": "code",
   "execution_count": 49,
   "metadata": {
    "collapsed": false
   },
   "outputs": [
    {
     "data": {
      "text/html": [
       "<div>\n",
       "<style>\n",
       "    .dataframe thead tr:only-child th {\n",
       "        text-align: right;\n",
       "    }\n",
       "\n",
       "    .dataframe thead th {\n",
       "        text-align: left;\n",
       "    }\n",
       "\n",
       "    .dataframe tbody tr th {\n",
       "        vertical-align: top;\n",
       "    }\n",
       "</style>\n",
       "<table border=\"1\" class=\"dataframe\">\n",
       "  <thead>\n",
       "    <tr style=\"text-align: right;\">\n",
       "      <th></th>\n",
       "      <th>ID</th>\n",
       "      <th>datetime</th>\n",
       "      <th>siteid</th>\n",
       "      <th>offerid</th>\n",
       "      <th>category</th>\n",
       "      <th>merchant</th>\n",
       "      <th>devid</th>\n",
       "      <th>click</th>\n",
       "      <th>hour__0</th>\n",
       "      <th>hour__1</th>\n",
       "      <th>...</th>\n",
       "      <th>c</th>\n",
       "      <th>d</th>\n",
       "      <th>e</th>\n",
       "      <th>f</th>\n",
       "      <th>brow__Edge</th>\n",
       "      <th>brow__Opera</th>\n",
       "      <th>brow__Safari</th>\n",
       "      <th>brow__ff</th>\n",
       "      <th>brow__gc</th>\n",
       "      <th>brow__ie</th>\n",
       "    </tr>\n",
       "  </thead>\n",
       "  <tbody>\n",
       "    <tr>\n",
       "      <th>0</th>\n",
       "      <td>IDMUUBNwz</td>\n",
       "      <td>2017-01-20 21:48:49</td>\n",
       "      <td>7615567.0</td>\n",
       "      <td>138618</td>\n",
       "      <td>11837</td>\n",
       "      <td>79474990</td>\n",
       "      <td>NaN</td>\n",
       "      <td>1</td>\n",
       "      <td>0</td>\n",
       "      <td>0</td>\n",
       "      <td>...</td>\n",
       "      <td>1</td>\n",
       "      <td>0</td>\n",
       "      <td>0</td>\n",
       "      <td>0</td>\n",
       "      <td>0</td>\n",
       "      <td>0</td>\n",
       "      <td>0</td>\n",
       "      <td>0</td>\n",
       "      <td>0</td>\n",
       "      <td>1</td>\n",
       "    </tr>\n",
       "    <tr>\n",
       "      <th>1</th>\n",
       "      <td>IDCLNGRY0</td>\n",
       "      <td>2017-01-20 11:23:06</td>\n",
       "      <td>-1.0</td>\n",
       "      <td>239178</td>\n",
       "      <td>40339</td>\n",
       "      <td>71040875</td>\n",
       "      <td>Tablet</td>\n",
       "      <td>0</td>\n",
       "      <td>0</td>\n",
       "      <td>0</td>\n",
       "      <td>...</td>\n",
       "      <td>0</td>\n",
       "      <td>0</td>\n",
       "      <td>0</td>\n",
       "      <td>0</td>\n",
       "      <td>1</td>\n",
       "      <td>0</td>\n",
       "      <td>0</td>\n",
       "      <td>0</td>\n",
       "      <td>0</td>\n",
       "      <td>0</td>\n",
       "    </tr>\n",
       "    <tr>\n",
       "      <th>2</th>\n",
       "      <td>IDnxGiOqx</td>\n",
       "      <td>2017-01-13 12:44:48</td>\n",
       "      <td>1512420.0</td>\n",
       "      <td>185903</td>\n",
       "      <td>34670</td>\n",
       "      <td>48615529</td>\n",
       "      <td>Mobile</td>\n",
       "      <td>0</td>\n",
       "      <td>0</td>\n",
       "      <td>0</td>\n",
       "      <td>...</td>\n",
       "      <td>0</td>\n",
       "      <td>0</td>\n",
       "      <td>0</td>\n",
       "      <td>0</td>\n",
       "      <td>0</td>\n",
       "      <td>0</td>\n",
       "      <td>0</td>\n",
       "      <td>1</td>\n",
       "      <td>0</td>\n",
       "      <td>0</td>\n",
       "    </tr>\n",
       "    <tr>\n",
       "      <th>3</th>\n",
       "      <td>IDV8WvGu0</td>\n",
       "      <td>2017-01-11 19:47:32</td>\n",
       "      <td>6389661.0</td>\n",
       "      <td>393187</td>\n",
       "      <td>42227</td>\n",
       "      <td>30860214</td>\n",
       "      <td>Desktop</td>\n",
       "      <td>0</td>\n",
       "      <td>0</td>\n",
       "      <td>0</td>\n",
       "      <td>...</td>\n",
       "      <td>0</td>\n",
       "      <td>0</td>\n",
       "      <td>0</td>\n",
       "      <td>1</td>\n",
       "      <td>0</td>\n",
       "      <td>0</td>\n",
       "      <td>0</td>\n",
       "      <td>0</td>\n",
       "      <td>0</td>\n",
       "      <td>1</td>\n",
       "    </tr>\n",
       "    <tr>\n",
       "      <th>4</th>\n",
       "      <td>IDQVAl6RK</td>\n",
       "      <td>2017-01-16 11:54:41</td>\n",
       "      <td>2352540.0</td>\n",
       "      <td>117949</td>\n",
       "      <td>14960</td>\n",
       "      <td>555603</td>\n",
       "      <td>Desktop</td>\n",
       "      <td>0</td>\n",
       "      <td>0</td>\n",
       "      <td>0</td>\n",
       "      <td>...</td>\n",
       "      <td>0</td>\n",
       "      <td>0</td>\n",
       "      <td>0</td>\n",
       "      <td>0</td>\n",
       "      <td>0</td>\n",
       "      <td>0</td>\n",
       "      <td>0</td>\n",
       "      <td>0</td>\n",
       "      <td>0</td>\n",
       "      <td>1</td>\n",
       "    </tr>\n",
       "  </tbody>\n",
       "</table>\n",
       "<p>5 rows × 51 columns</p>\n",
       "</div>"
      ],
      "text/plain": [
       "          ID            datetime     siteid  offerid  category  merchant  \\\n",
       "0  IDMUUBNwz 2017-01-20 21:48:49  7615567.0   138618     11837  79474990   \n",
       "1  IDCLNGRY0 2017-01-20 11:23:06       -1.0   239178     40339  71040875   \n",
       "2  IDnxGiOqx 2017-01-13 12:44:48  1512420.0   185903     34670  48615529   \n",
       "3  IDV8WvGu0 2017-01-11 19:47:32  6389661.0   393187     42227  30860214   \n",
       "4  IDQVAl6RK 2017-01-16 11:54:41  2352540.0   117949     14960    555603   \n",
       "\n",
       "     devid  click  hour__0  hour__1    ...     c  d  e  f  brow__Edge  \\\n",
       "0      NaN      1        0        0    ...     1  0  0  0           0   \n",
       "1   Tablet      0        0        0    ...     0  0  0  0           1   \n",
       "2   Mobile      0        0        0    ...     0  0  0  0           0   \n",
       "3  Desktop      0        0        0    ...     0  0  0  1           0   \n",
       "4  Desktop      0        0        0    ...     0  0  0  0           0   \n",
       "\n",
       "   brow__Opera  brow__Safari  brow__ff  brow__gc  brow__ie  \n",
       "0            0             0         0         0         1  \n",
       "1            0             0         0         0         0  \n",
       "2            0             0         1         0         0  \n",
       "3            0             0         0         0         1  \n",
       "4            0             0         0         0         1  \n",
       "\n",
       "[5 rows x 51 columns]"
      ]
     },
     "execution_count": 49,
     "metadata": {},
     "output_type": "execute_result"
    }
   ],
   "source": [
    "train = pd.concat([train,dum_browser],axis=1)\n",
    "train.head()"
   ]
  },
  {
   "cell_type": "code",
   "execution_count": 50,
   "metadata": {
    "collapsed": false
   },
   "outputs": [
    {
     "data": {
      "text/plain": [
       "Index(['ID', 'datetime', 'siteid', 'offerid', 'category', 'merchant', 'devid',\n",
       "       'click', 'hour__0', 'hour__1', 'hour__2', 'hour__3', 'hour__4',\n",
       "       'hour__5', 'hour__6', 'hour__7', 'hour__8', 'hour__9', 'hour__10',\n",
       "       'hour__11', 'hour__12', 'hour__13', 'hour__14', 'hour__15', 'hour__16',\n",
       "       'hour__17', 'hour__18', 'hour__19', 'hour__20', 'hour__21', 'hour__22',\n",
       "       'hour__23', 'weekday__0', 'weekday__1', 'weekday__2', 'weekday__3',\n",
       "       'weekday__4', 'weekday__5', 'weekday__6', 'a', 'b', 'c', 'd', 'e', 'f',\n",
       "       'brow__Edge', 'brow__Opera', 'brow__Safari', 'brow__ff', 'brow__gc',\n",
       "       'brow__ie'],\n",
       "      dtype='object')"
      ]
     },
     "execution_count": 50,
     "metadata": {},
     "output_type": "execute_result"
    }
   ],
   "source": [
    "train.columns"
   ]
  },
  {
   "cell_type": "code",
   "execution_count": 52,
   "metadata": {
    "collapsed": false
   },
   "outputs": [
    {
     "data": {
      "text/plain": [
       "Mobile     403305\n",
       "Tablet     340856\n",
       "Desktop    287550\n",
       "Name: devid, dtype: int64"
      ]
     },
     "execution_count": 52,
     "metadata": {},
     "output_type": "execute_result"
    }
   ],
   "source": [
    "train['devid'].value_counts()"
   ]
  },
  {
   "cell_type": "code",
   "execution_count": 55,
   "metadata": {
    "collapsed": false
   },
   "outputs": [
    {
     "data": {
      "text/plain": [
       "0"
      ]
     },
     "execution_count": 55,
     "metadata": {},
     "output_type": "execute_result"
    }
   ],
   "source": [
    "train['devid'].isnull().sum()"
   ]
  },
  {
   "cell_type": "code",
   "execution_count": 54,
   "metadata": {
    "collapsed": true
   },
   "outputs": [],
   "source": [
    "train['devid'] = train['devid'].fillna('Mobile')"
   ]
  },
  {
   "cell_type": "code",
   "execution_count": 56,
   "metadata": {
    "collapsed": false
   },
   "outputs": [
    {
     "data": {
      "text/html": [
       "<div>\n",
       "<style>\n",
       "    .dataframe thead tr:only-child th {\n",
       "        text-align: right;\n",
       "    }\n",
       "\n",
       "    .dataframe thead th {\n",
       "        text-align: left;\n",
       "    }\n",
       "\n",
       "    .dataframe tbody tr th {\n",
       "        vertical-align: top;\n",
       "    }\n",
       "</style>\n",
       "<table border=\"1\" class=\"dataframe\">\n",
       "  <thead>\n",
       "    <tr style=\"text-align: right;\">\n",
       "      <th></th>\n",
       "      <th>Desktop</th>\n",
       "      <th>Mobile</th>\n",
       "      <th>Tablet</th>\n",
       "    </tr>\n",
       "  </thead>\n",
       "  <tbody>\n",
       "    <tr>\n",
       "      <th>0</th>\n",
       "      <td>0</td>\n",
       "      <td>1</td>\n",
       "      <td>0</td>\n",
       "    </tr>\n",
       "    <tr>\n",
       "      <th>1</th>\n",
       "      <td>0</td>\n",
       "      <td>0</td>\n",
       "      <td>1</td>\n",
       "    </tr>\n",
       "    <tr>\n",
       "      <th>2</th>\n",
       "      <td>0</td>\n",
       "      <td>1</td>\n",
       "      <td>0</td>\n",
       "    </tr>\n",
       "    <tr>\n",
       "      <th>3</th>\n",
       "      <td>1</td>\n",
       "      <td>0</td>\n",
       "      <td>0</td>\n",
       "    </tr>\n",
       "    <tr>\n",
       "      <th>4</th>\n",
       "      <td>1</td>\n",
       "      <td>0</td>\n",
       "      <td>0</td>\n",
       "    </tr>\n",
       "  </tbody>\n",
       "</table>\n",
       "</div>"
      ],
      "text/plain": [
       "   Desktop  Mobile  Tablet\n",
       "0        0       1       0\n",
       "1        0       0       1\n",
       "2        0       1       0\n",
       "3        1       0       0\n",
       "4        1       0       0"
      ]
     },
     "execution_count": 56,
     "metadata": {},
     "output_type": "execute_result"
    }
   ],
   "source": [
    "dum_device = pd.get_dummies(train['devid'])\n",
    "dum_device.head()"
   ]
  },
  {
   "cell_type": "code",
   "execution_count": null,
   "metadata": {
    "collapsed": true
   },
   "outputs": [],
   "source": [
    "# create aggregate features\n",
    "site_offer_count = train.groupby(['siteid','offerid']).size().reset_index()\n",
    "site_offer_count.columns = ['siteid','offerid','site_offer_count']\n",
    "\n",
    "site_offer_count_test = test.groupby(['siteid','offerid']).size().reset_index()\n",
    "site_offer_count_test.columns = ['siteid','offerid','site_offer_count']\n",
    "\n",
    "site_cat_count = train.groupby(['siteid','category']).size().reset_index()\n",
    "site_cat_count.columns = ['siteid','category','site_cat_count']\n",
    "\n",
    "site_cat_count_test = test.groupby(['siteid','category']).size().reset_index()\n",
    "site_cat_count_test.columns = ['siteid','category','site_cat_count']\n",
    "\n",
    "site_mcht_count = train.groupby(['siteid','merchant']).size().reset_index()\n",
    "site_mcht_count.columns = ['siteid','merchant','site_mcht_count']"
   ]
  },
  {
   "cell_type": "code",
   "execution_count": null,
   "metadata": {
    "collapsed": true
   },
   "outputs": [],
   "source": [
    "# joining all files\n",
    "agg_df = [site_offer_count,site_cat_count,site_mcht_count]\n",
    "agg_df_test = [site_offer_count_test,site_cat_count_test,site_mcht_count_test]\n",
    "\n",
    "for x in agg_df:\n",
    "    train = train.merge(x)\n",
    "    \n",
    "for x in agg_df_test:\n",
    "    test = test.merge(x)"
   ]
  },
  {
   "cell_type": "code",
   "execution_count": 57,
   "metadata": {
    "collapsed": false
   },
   "outputs": [
    {
     "data": {
      "text/html": [
       "<div>\n",
       "<style>\n",
       "    .dataframe thead tr:only-child th {\n",
       "        text-align: right;\n",
       "    }\n",
       "\n",
       "    .dataframe thead th {\n",
       "        text-align: left;\n",
       "    }\n",
       "\n",
       "    .dataframe tbody tr th {\n",
       "        vertical-align: top;\n",
       "    }\n",
       "</style>\n",
       "<table border=\"1\" class=\"dataframe\">\n",
       "  <thead>\n",
       "    <tr style=\"text-align: right;\">\n",
       "      <th></th>\n",
       "      <th>ID</th>\n",
       "      <th>datetime</th>\n",
       "      <th>siteid</th>\n",
       "      <th>offerid</th>\n",
       "      <th>category</th>\n",
       "      <th>merchant</th>\n",
       "      <th>click</th>\n",
       "      <th>hour__0</th>\n",
       "      <th>hour__1</th>\n",
       "      <th>hour__2</th>\n",
       "      <th>...</th>\n",
       "      <th>f</th>\n",
       "      <th>brow__Edge</th>\n",
       "      <th>brow__Opera</th>\n",
       "      <th>brow__Safari</th>\n",
       "      <th>brow__ff</th>\n",
       "      <th>brow__gc</th>\n",
       "      <th>brow__ie</th>\n",
       "      <th>Desktop</th>\n",
       "      <th>Mobile</th>\n",
       "      <th>Tablet</th>\n",
       "    </tr>\n",
       "  </thead>\n",
       "  <tbody>\n",
       "    <tr>\n",
       "      <th>0</th>\n",
       "      <td>IDMUUBNwz</td>\n",
       "      <td>2017-01-20 21:48:49</td>\n",
       "      <td>7615567.0</td>\n",
       "      <td>138618</td>\n",
       "      <td>11837</td>\n",
       "      <td>79474990</td>\n",
       "      <td>1</td>\n",
       "      <td>0</td>\n",
       "      <td>0</td>\n",
       "      <td>0</td>\n",
       "      <td>...</td>\n",
       "      <td>0</td>\n",
       "      <td>0</td>\n",
       "      <td>0</td>\n",
       "      <td>0</td>\n",
       "      <td>0</td>\n",
       "      <td>0</td>\n",
       "      <td>1</td>\n",
       "      <td>0</td>\n",
       "      <td>1</td>\n",
       "      <td>0</td>\n",
       "    </tr>\n",
       "    <tr>\n",
       "      <th>1</th>\n",
       "      <td>IDCLNGRY0</td>\n",
       "      <td>2017-01-20 11:23:06</td>\n",
       "      <td>-1.0</td>\n",
       "      <td>239178</td>\n",
       "      <td>40339</td>\n",
       "      <td>71040875</td>\n",
       "      <td>0</td>\n",
       "      <td>0</td>\n",
       "      <td>0</td>\n",
       "      <td>0</td>\n",
       "      <td>...</td>\n",
       "      <td>0</td>\n",
       "      <td>1</td>\n",
       "      <td>0</td>\n",
       "      <td>0</td>\n",
       "      <td>0</td>\n",
       "      <td>0</td>\n",
       "      <td>0</td>\n",
       "      <td>0</td>\n",
       "      <td>0</td>\n",
       "      <td>1</td>\n",
       "    </tr>\n",
       "    <tr>\n",
       "      <th>2</th>\n",
       "      <td>IDnxGiOqx</td>\n",
       "      <td>2017-01-13 12:44:48</td>\n",
       "      <td>1512420.0</td>\n",
       "      <td>185903</td>\n",
       "      <td>34670</td>\n",
       "      <td>48615529</td>\n",
       "      <td>0</td>\n",
       "      <td>0</td>\n",
       "      <td>0</td>\n",
       "      <td>0</td>\n",
       "      <td>...</td>\n",
       "      <td>0</td>\n",
       "      <td>0</td>\n",
       "      <td>0</td>\n",
       "      <td>0</td>\n",
       "      <td>1</td>\n",
       "      <td>0</td>\n",
       "      <td>0</td>\n",
       "      <td>0</td>\n",
       "      <td>1</td>\n",
       "      <td>0</td>\n",
       "    </tr>\n",
       "    <tr>\n",
       "      <th>3</th>\n",
       "      <td>IDV8WvGu0</td>\n",
       "      <td>2017-01-11 19:47:32</td>\n",
       "      <td>6389661.0</td>\n",
       "      <td>393187</td>\n",
       "      <td>42227</td>\n",
       "      <td>30860214</td>\n",
       "      <td>0</td>\n",
       "      <td>0</td>\n",
       "      <td>0</td>\n",
       "      <td>0</td>\n",
       "      <td>...</td>\n",
       "      <td>1</td>\n",
       "      <td>0</td>\n",
       "      <td>0</td>\n",
       "      <td>0</td>\n",
       "      <td>0</td>\n",
       "      <td>0</td>\n",
       "      <td>1</td>\n",
       "      <td>1</td>\n",
       "      <td>0</td>\n",
       "      <td>0</td>\n",
       "    </tr>\n",
       "    <tr>\n",
       "      <th>4</th>\n",
       "      <td>IDQVAl6RK</td>\n",
       "      <td>2017-01-16 11:54:41</td>\n",
       "      <td>2352540.0</td>\n",
       "      <td>117949</td>\n",
       "      <td>14960</td>\n",
       "      <td>555603</td>\n",
       "      <td>0</td>\n",
       "      <td>0</td>\n",
       "      <td>0</td>\n",
       "      <td>0</td>\n",
       "      <td>...</td>\n",
       "      <td>0</td>\n",
       "      <td>0</td>\n",
       "      <td>0</td>\n",
       "      <td>0</td>\n",
       "      <td>0</td>\n",
       "      <td>0</td>\n",
       "      <td>1</td>\n",
       "      <td>1</td>\n",
       "      <td>0</td>\n",
       "      <td>0</td>\n",
       "    </tr>\n",
       "  </tbody>\n",
       "</table>\n",
       "<p>5 rows × 53 columns</p>\n",
       "</div>"
      ],
      "text/plain": [
       "          ID            datetime     siteid  offerid  category  merchant  \\\n",
       "0  IDMUUBNwz 2017-01-20 21:48:49  7615567.0   138618     11837  79474990   \n",
       "1  IDCLNGRY0 2017-01-20 11:23:06       -1.0   239178     40339  71040875   \n",
       "2  IDnxGiOqx 2017-01-13 12:44:48  1512420.0   185903     34670  48615529   \n",
       "3  IDV8WvGu0 2017-01-11 19:47:32  6389661.0   393187     42227  30860214   \n",
       "4  IDQVAl6RK 2017-01-16 11:54:41  2352540.0   117949     14960    555603   \n",
       "\n",
       "   click  hour__0  hour__1  hour__2   ...    f  brow__Edge  brow__Opera  \\\n",
       "0      1        0        0        0   ...    0           0            0   \n",
       "1      0        0        0        0   ...    0           1            0   \n",
       "2      0        0        0        0   ...    0           0            0   \n",
       "3      0        0        0        0   ...    1           0            0   \n",
       "4      0        0        0        0   ...    0           0            0   \n",
       "\n",
       "   brow__Safari  brow__ff  brow__gc  brow__ie  Desktop  Mobile  Tablet  \n",
       "0             0         0         0         1        0       1       0  \n",
       "1             0         0         0         0        0       0       1  \n",
       "2             0         1         0         0        0       1       0  \n",
       "3             0         0         0         1        1       0       0  \n",
       "4             0         0         0         1        1       0       0  \n",
       "\n",
       "[5 rows x 53 columns]"
      ]
     },
     "execution_count": 57,
     "metadata": {},
     "output_type": "execute_result"
    }
   ],
   "source": [
    "train = train.drop(['devid'],axis=1)\n",
    "train = pd.concat([train,dum_device],axis=1)\n",
    "train.head()"
   ]
  },
  {
   "cell_type": "code",
   "execution_count": 64,
   "metadata": {
    "collapsed": false
   },
   "outputs": [
    {
     "data": {
      "text/plain": [
       "Index(['ID', 'datetime', 'siteid', 'offerid', 'category', 'merchant', 'click',\n",
       "       'hour__0', 'hour__1', 'hour__2', 'hour__3', 'hour__4', 'hour__5',\n",
       "       'hour__6', 'hour__7', 'hour__8', 'hour__9', 'hour__10', 'hour__11',\n",
       "       'hour__12', 'hour__13', 'hour__14', 'hour__15', 'hour__16', 'hour__17',\n",
       "       'hour__18', 'hour__19', 'hour__20', 'hour__21', 'hour__22', 'hour__23',\n",
       "       'weekday__0', 'weekday__1', 'weekday__2', 'weekday__3', 'weekday__4',\n",
       "       'weekday__5', 'weekday__6', 'a', 'b', 'c', 'd', 'e', 'f', 'brow__Edge',\n",
       "       'brow__Opera', 'brow__Safari', 'brow__ff', 'brow__gc', 'brow__ie',\n",
       "       'Desktop', 'Mobile', 'Tablet'],\n",
       "      dtype='object')"
      ]
     },
     "execution_count": 64,
     "metadata": {},
     "output_type": "execute_result"
    }
   ],
   "source": [
    "train.columns"
   ]
  },
  {
   "cell_type": "code",
   "execution_count": 58,
   "metadata": {
    "collapsed": false
   },
   "outputs": [
    {
     "data": {
      "text/plain": [
       "Index(['ID', 'datetime', 'siteid', 'offerid', 'category', 'merchant',\n",
       "       'countrycode', 'browserid', 'devid', 'weekday', 'hour'],\n",
       "      dtype='object')"
      ]
     },
     "execution_count": 58,
     "metadata": {},
     "output_type": "execute_result"
    }
   ],
   "source": [
    "test.columns"
   ]
  },
  {
   "cell_type": "code",
   "execution_count": 60,
   "metadata": {
    "collapsed": true
   },
   "outputs": [],
   "source": [
    "dum_week = pd.get_dummies(test['weekday'],prefix='weekday_')\n",
    "dum_hour = pd.get_dummies(test['hour'],prefix='hour_')\n",
    "test['siteid'] = test['siteid'].fillna(-1)\n",
    "dum_coun = pd.get_dummies(test['countrycode'])\n",
    "test['browserid'] = test['browserid'].apply(lambda x:update_browser_id(x))\n",
    "test['browserid'] = test['browserid'].fillna('ff')\n",
    "dum_browser = pd.get_dummies(test['browserid'],prefix='brow_')\n",
    "test['devid'] = test['devid'].fillna('Mobile')\n",
    "dum_device = pd.get_dummies(test['devid'])\n",
    "test = test.drop(['weekday','hour','countrycode','browserid','devid'],axis=1)\n",
    "test = pd.concat([test,dum_coun,dum_week,dum_hour,dum_browser,dum_device],axis=1)"
   ]
  },
  {
   "cell_type": "code",
   "execution_count": 69,
   "metadata": {
    "collapsed": true
   },
   "outputs": [],
   "source": [
    "#train.to_csv('updated_train.csv',index=False)\n",
    "test.to_csv('updated_test.csv',index=False)"
   ]
  },
  {
   "cell_type": "code",
   "execution_count": 68,
   "metadata": {
    "collapsed": false
   },
   "outputs": [
    {
     "data": {
      "text/html": [
       "<div>\n",
       "<style>\n",
       "    .dataframe thead tr:only-child th {\n",
       "        text-align: right;\n",
       "    }\n",
       "\n",
       "    .dataframe thead th {\n",
       "        text-align: left;\n",
       "    }\n",
       "\n",
       "    .dataframe tbody tr th {\n",
       "        vertical-align: top;\n",
       "    }\n",
       "</style>\n",
       "<table border=\"1\" class=\"dataframe\">\n",
       "  <thead>\n",
       "    <tr style=\"text-align: right;\">\n",
       "      <th></th>\n",
       "      <th>ID</th>\n",
       "      <th>datetime</th>\n",
       "      <th>siteid</th>\n",
       "      <th>offerid</th>\n",
       "      <th>category</th>\n",
       "      <th>merchant</th>\n",
       "      <th>a</th>\n",
       "      <th>b</th>\n",
       "      <th>c</th>\n",
       "      <th>d</th>\n",
       "      <th>...</th>\n",
       "      <th>brow__ff</th>\n",
       "      <th>brow__gc</th>\n",
       "      <th>brow__ie</th>\n",
       "      <th>Desktop</th>\n",
       "      <th>Mobile</th>\n",
       "      <th>Tablet</th>\n",
       "      <th>weekday_1</th>\n",
       "      <th>weekday_2</th>\n",
       "      <th>weekday_3</th>\n",
       "      <th>weekday_4</th>\n",
       "    </tr>\n",
       "  </thead>\n",
       "  <tbody>\n",
       "    <tr>\n",
       "      <th>0</th>\n",
       "      <td>IDFDJVI</td>\n",
       "      <td>2017-01-22 09:55:48</td>\n",
       "      <td>755610.0</td>\n",
       "      <td>808980</td>\n",
       "      <td>17714</td>\n",
       "      <td>26391770</td>\n",
       "      <td>0</td>\n",
       "      <td>1</td>\n",
       "      <td>0</td>\n",
       "      <td>0</td>\n",
       "      <td>...</td>\n",
       "      <td>1</td>\n",
       "      <td>0</td>\n",
       "      <td>0</td>\n",
       "      <td>1</td>\n",
       "      <td>0</td>\n",
       "      <td>0</td>\n",
       "      <td>0</td>\n",
       "      <td>0</td>\n",
       "      <td>0</td>\n",
       "      <td>0</td>\n",
       "    </tr>\n",
       "    <tr>\n",
       "      <th>1</th>\n",
       "      <td>IDNWkTQ</td>\n",
       "      <td>2017-01-22 03:54:39</td>\n",
       "      <td>3714899.0</td>\n",
       "      <td>280355</td>\n",
       "      <td>12052</td>\n",
       "      <td>39507200</td>\n",
       "      <td>0</td>\n",
       "      <td>1</td>\n",
       "      <td>0</td>\n",
       "      <td>0</td>\n",
       "      <td>...</td>\n",
       "      <td>0</td>\n",
       "      <td>0</td>\n",
       "      <td>0</td>\n",
       "      <td>0</td>\n",
       "      <td>0</td>\n",
       "      <td>1</td>\n",
       "      <td>0</td>\n",
       "      <td>0</td>\n",
       "      <td>0</td>\n",
       "      <td>0</td>\n",
       "    </tr>\n",
       "    <tr>\n",
       "      <th>2</th>\n",
       "      <td>ID9pRmM</td>\n",
       "      <td>2017-01-21 10:25:50</td>\n",
       "      <td>4378333.0</td>\n",
       "      <td>930819</td>\n",
       "      <td>30580</td>\n",
       "      <td>46148550</td>\n",
       "      <td>0</td>\n",
       "      <td>0</td>\n",
       "      <td>0</td>\n",
       "      <td>0</td>\n",
       "      <td>...</td>\n",
       "      <td>1</td>\n",
       "      <td>0</td>\n",
       "      <td>0</td>\n",
       "      <td>0</td>\n",
       "      <td>1</td>\n",
       "      <td>0</td>\n",
       "      <td>0</td>\n",
       "      <td>0</td>\n",
       "      <td>0</td>\n",
       "      <td>0</td>\n",
       "    </tr>\n",
       "    <tr>\n",
       "      <th>3</th>\n",
       "      <td>IDHaQaj</td>\n",
       "      <td>2017-01-22 14:45:53</td>\n",
       "      <td>1754730.0</td>\n",
       "      <td>612234</td>\n",
       "      <td>11837</td>\n",
       "      <td>8837581</td>\n",
       "      <td>0</td>\n",
       "      <td>1</td>\n",
       "      <td>0</td>\n",
       "      <td>0</td>\n",
       "      <td>...</td>\n",
       "      <td>0</td>\n",
       "      <td>0</td>\n",
       "      <td>0</td>\n",
       "      <td>0</td>\n",
       "      <td>0</td>\n",
       "      <td>1</td>\n",
       "      <td>0</td>\n",
       "      <td>0</td>\n",
       "      <td>0</td>\n",
       "      <td>0</td>\n",
       "    </tr>\n",
       "    <tr>\n",
       "      <th>4</th>\n",
       "      <td>IDT2CrF</td>\n",
       "      <td>2017-01-22 09:34:07</td>\n",
       "      <td>5299909.0</td>\n",
       "      <td>524289</td>\n",
       "      <td>45620</td>\n",
       "      <td>31388981</td>\n",
       "      <td>0</td>\n",
       "      <td>1</td>\n",
       "      <td>0</td>\n",
       "      <td>0</td>\n",
       "      <td>...</td>\n",
       "      <td>1</td>\n",
       "      <td>0</td>\n",
       "      <td>0</td>\n",
       "      <td>0</td>\n",
       "      <td>1</td>\n",
       "      <td>0</td>\n",
       "      <td>0</td>\n",
       "      <td>0</td>\n",
       "      <td>0</td>\n",
       "      <td>0</td>\n",
       "    </tr>\n",
       "  </tbody>\n",
       "</table>\n",
       "<p>5 rows × 52 columns</p>\n",
       "</div>"
      ],
      "text/plain": [
       "        ID            datetime     siteid  offerid  category  merchant  a  b  \\\n",
       "0  IDFDJVI 2017-01-22 09:55:48   755610.0   808980     17714  26391770  0  1   \n",
       "1  IDNWkTQ 2017-01-22 03:54:39  3714899.0   280355     12052  39507200  0  1   \n",
       "2  ID9pRmM 2017-01-21 10:25:50  4378333.0   930819     30580  46148550  0  0   \n",
       "3  IDHaQaj 2017-01-22 14:45:53  1754730.0   612234     11837   8837581  0  1   \n",
       "4  IDT2CrF 2017-01-22 09:34:07  5299909.0   524289     45620  31388981  0  1   \n",
       "\n",
       "   c  d    ...      brow__ff  brow__gc  brow__ie  Desktop  Mobile  Tablet  \\\n",
       "0  0  0    ...             1         0         0        1       0       0   \n",
       "1  0  0    ...             0         0         0        0       0       1   \n",
       "2  0  0    ...             1         0         0        0       1       0   \n",
       "3  0  0    ...             0         0         0        0       0       1   \n",
       "4  0  0    ...             1         0         0        0       1       0   \n",
       "\n",
       "   weekday_1  weekday_2  weekday_3  weekday_4  \n",
       "0          0          0          0          0  \n",
       "1          0          0          0          0  \n",
       "2          0          0          0          0  \n",
       "3          0          0          0          0  \n",
       "4          0          0          0          0  \n",
       "\n",
       "[5 rows x 52 columns]"
      ]
     },
     "execution_count": 68,
     "metadata": {},
     "output_type": "execute_result"
    }
   ],
   "source": [
    "test.head()"
   ]
  },
  {
   "cell_type": "code",
   "execution_count": 66,
   "metadata": {
    "collapsed": true
   },
   "outputs": [],
   "source": [
    "for i in range(1,5):\n",
    "    test['weekday_'+str(i)]=0"
   ]
  },
  {
   "cell_type": "code",
   "execution_count": 74,
   "metadata": {
    "collapsed": false
   },
   "outputs": [
    {
     "data": {
      "text/plain": [
       "Index(['ID', 'datetime', 'siteid', 'offerid', 'category', 'merchant', 'a', 'b',\n",
       "       'c', 'd', 'e', 'f', 'weekday__0', 'weekday__5', 'weekday__6', 'hour__0',\n",
       "       'hour__1', 'hour__2', 'hour__3', 'hour__4', 'hour__5', 'hour__6',\n",
       "       'hour__7', 'hour__8', 'hour__9', 'hour__10', 'hour__11', 'hour__12',\n",
       "       'hour__13', 'hour__14', 'hour__15', 'hour__16', 'hour__17', 'hour__18',\n",
       "       'hour__19', 'hour__20', 'hour__21', 'hour__22', 'hour__23',\n",
       "       'brow__Edge', 'brow__Opera', 'brow__Safari', 'brow__ff', 'brow__gc',\n",
       "       'brow__ie', 'Desktop', 'Mobile', 'Tablet', 'weekday_1', 'weekday_2',\n",
       "       'weekday_3', 'weekday_4'],\n",
       "      dtype='object')"
      ]
     },
     "execution_count": 74,
     "metadata": {},
     "output_type": "execute_result"
    }
   ],
   "source": [
    "test.columns"
   ]
  },
  {
   "cell_type": "code",
   "execution_count": 76,
   "metadata": {
    "collapsed": false
   },
   "outputs": [
    {
     "data": {
      "text/html": [
       "<div>\n",
       "<style>\n",
       "    .dataframe thead tr:only-child th {\n",
       "        text-align: right;\n",
       "    }\n",
       "\n",
       "    .dataframe thead th {\n",
       "        text-align: left;\n",
       "    }\n",
       "\n",
       "    .dataframe tbody tr th {\n",
       "        vertical-align: top;\n",
       "    }\n",
       "</style>\n",
       "<table border=\"1\" class=\"dataframe\">\n",
       "  <thead>\n",
       "    <tr style=\"text-align: right;\">\n",
       "      <th></th>\n",
       "      <th>ID</th>\n",
       "      <th>datetime</th>\n",
       "      <th>siteid</th>\n",
       "      <th>offerid</th>\n",
       "      <th>category</th>\n",
       "      <th>merchant</th>\n",
       "      <th>a</th>\n",
       "      <th>b</th>\n",
       "      <th>c</th>\n",
       "      <th>d</th>\n",
       "      <th>...</th>\n",
       "      <th>brow__ff</th>\n",
       "      <th>brow__gc</th>\n",
       "      <th>brow__ie</th>\n",
       "      <th>Desktop</th>\n",
       "      <th>Mobile</th>\n",
       "      <th>Tablet</th>\n",
       "      <th>weekday_1</th>\n",
       "      <th>weekday_2</th>\n",
       "      <th>weekday_3</th>\n",
       "      <th>weekday_4</th>\n",
       "    </tr>\n",
       "  </thead>\n",
       "  <tbody>\n",
       "    <tr>\n",
       "      <th>0</th>\n",
       "      <td>IDFDJVI</td>\n",
       "      <td>2017-01-22 09:55:48</td>\n",
       "      <td>755610.0</td>\n",
       "      <td>808980</td>\n",
       "      <td>17714</td>\n",
       "      <td>26391770</td>\n",
       "      <td>0</td>\n",
       "      <td>1</td>\n",
       "      <td>0</td>\n",
       "      <td>0</td>\n",
       "      <td>...</td>\n",
       "      <td>1</td>\n",
       "      <td>0</td>\n",
       "      <td>0</td>\n",
       "      <td>1</td>\n",
       "      <td>0</td>\n",
       "      <td>0</td>\n",
       "      <td>0</td>\n",
       "      <td>0</td>\n",
       "      <td>0</td>\n",
       "      <td>0</td>\n",
       "    </tr>\n",
       "    <tr>\n",
       "      <th>1</th>\n",
       "      <td>IDNWkTQ</td>\n",
       "      <td>2017-01-22 03:54:39</td>\n",
       "      <td>3714899.0</td>\n",
       "      <td>280355</td>\n",
       "      <td>12052</td>\n",
       "      <td>39507200</td>\n",
       "      <td>0</td>\n",
       "      <td>1</td>\n",
       "      <td>0</td>\n",
       "      <td>0</td>\n",
       "      <td>...</td>\n",
       "      <td>0</td>\n",
       "      <td>0</td>\n",
       "      <td>0</td>\n",
       "      <td>0</td>\n",
       "      <td>0</td>\n",
       "      <td>1</td>\n",
       "      <td>0</td>\n",
       "      <td>0</td>\n",
       "      <td>0</td>\n",
       "      <td>0</td>\n",
       "    </tr>\n",
       "    <tr>\n",
       "      <th>2</th>\n",
       "      <td>ID9pRmM</td>\n",
       "      <td>2017-01-21 10:25:50</td>\n",
       "      <td>4378333.0</td>\n",
       "      <td>930819</td>\n",
       "      <td>30580</td>\n",
       "      <td>46148550</td>\n",
       "      <td>0</td>\n",
       "      <td>0</td>\n",
       "      <td>0</td>\n",
       "      <td>0</td>\n",
       "      <td>...</td>\n",
       "      <td>1</td>\n",
       "      <td>0</td>\n",
       "      <td>0</td>\n",
       "      <td>0</td>\n",
       "      <td>1</td>\n",
       "      <td>0</td>\n",
       "      <td>0</td>\n",
       "      <td>0</td>\n",
       "      <td>0</td>\n",
       "      <td>0</td>\n",
       "    </tr>\n",
       "    <tr>\n",
       "      <th>3</th>\n",
       "      <td>IDHaQaj</td>\n",
       "      <td>2017-01-22 14:45:53</td>\n",
       "      <td>1754730.0</td>\n",
       "      <td>612234</td>\n",
       "      <td>11837</td>\n",
       "      <td>8837581</td>\n",
       "      <td>0</td>\n",
       "      <td>1</td>\n",
       "      <td>0</td>\n",
       "      <td>0</td>\n",
       "      <td>...</td>\n",
       "      <td>0</td>\n",
       "      <td>0</td>\n",
       "      <td>0</td>\n",
       "      <td>0</td>\n",
       "      <td>0</td>\n",
       "      <td>1</td>\n",
       "      <td>0</td>\n",
       "      <td>0</td>\n",
       "      <td>0</td>\n",
       "      <td>0</td>\n",
       "    </tr>\n",
       "    <tr>\n",
       "      <th>4</th>\n",
       "      <td>IDT2CrF</td>\n",
       "      <td>2017-01-22 09:34:07</td>\n",
       "      <td>5299909.0</td>\n",
       "      <td>524289</td>\n",
       "      <td>45620</td>\n",
       "      <td>31388981</td>\n",
       "      <td>0</td>\n",
       "      <td>1</td>\n",
       "      <td>0</td>\n",
       "      <td>0</td>\n",
       "      <td>...</td>\n",
       "      <td>1</td>\n",
       "      <td>0</td>\n",
       "      <td>0</td>\n",
       "      <td>0</td>\n",
       "      <td>1</td>\n",
       "      <td>0</td>\n",
       "      <td>0</td>\n",
       "      <td>0</td>\n",
       "      <td>0</td>\n",
       "      <td>0</td>\n",
       "    </tr>\n",
       "  </tbody>\n",
       "</table>\n",
       "<p>5 rows × 52 columns</p>\n",
       "</div>"
      ],
      "text/plain": [
       "        ID            datetime     siteid  offerid  category  merchant  a  b  \\\n",
       "0  IDFDJVI 2017-01-22 09:55:48   755610.0   808980     17714  26391770  0  1   \n",
       "1  IDNWkTQ 2017-01-22 03:54:39  3714899.0   280355     12052  39507200  0  1   \n",
       "2  ID9pRmM 2017-01-21 10:25:50  4378333.0   930819     30580  46148550  0  0   \n",
       "3  IDHaQaj 2017-01-22 14:45:53  1754730.0   612234     11837   8837581  0  1   \n",
       "4  IDT2CrF 2017-01-22 09:34:07  5299909.0   524289     45620  31388981  0  1   \n",
       "\n",
       "   c  d    ...      brow__ff  brow__gc  brow__ie  Desktop  Mobile  Tablet  \\\n",
       "0  0  0    ...             1         0         0        1       0       0   \n",
       "1  0  0    ...             0         0         0        0       0       1   \n",
       "2  0  0    ...             1         0         0        0       1       0   \n",
       "3  0  0    ...             0         0         0        0       0       1   \n",
       "4  0  0    ...             1         0         0        0       1       0   \n",
       "\n",
       "   weekday_1  weekday_2  weekday_3  weekday_4  \n",
       "0          0          0          0          0  \n",
       "1          0          0          0          0  \n",
       "2          0          0          0          0  \n",
       "3          0          0          0          0  \n",
       "4          0          0          0          0  \n",
       "\n",
       "[5 rows x 52 columns]"
      ]
     },
     "execution_count": 76,
     "metadata": {},
     "output_type": "execute_result"
    }
   ],
   "source": [
    "test.head()"
   ]
  },
  {
   "cell_type": "code",
   "execution_count": 77,
   "metadata": {
    "collapsed": false
   },
   "outputs": [
    {
     "data": {
      "text/plain": [
       "Index(['ID', 'datetime', 'siteid', 'offerid', 'category', 'merchant', 'a', 'b',\n",
       "       'c', 'd', 'e', 'f', 'weekday__0', 'weekday__5', 'weekday__6', 'hour__0',\n",
       "       'hour__1', 'hour__2', 'hour__3', 'hour__4', 'hour__5', 'hour__6',\n",
       "       'hour__7', 'hour__8', 'hour__9', 'hour__10', 'hour__11', 'hour__12',\n",
       "       'hour__13', 'hour__14', 'hour__15', 'hour__16', 'hour__17', 'hour__18',\n",
       "       'hour__19', 'hour__20', 'hour__21', 'hour__22', 'hour__23',\n",
       "       'brow__Edge', 'brow__Opera', 'brow__Safari', 'brow__ff', 'brow__gc',\n",
       "       'brow__ie', 'Desktop', 'Mobile', 'Tablet', 'weekday_1', 'weekday_2',\n",
       "       'weekday_3', 'weekday_4'],\n",
       "      dtype='object')"
      ]
     },
     "execution_count": 77,
     "metadata": {},
     "output_type": "execute_result"
    }
   ],
   "source": [
    "test.columns"
   ]
  },
  {
   "cell_type": "code",
   "execution_count": 70,
   "metadata": {
    "collapsed": false
   },
   "outputs": [],
   "source": [
    "xgb = XGBClassifier(learning_rate =0.01, n_estimators=1000, max_depth=6,\n",
    "                    min_child_weight=7, gamma=0.01, subsample=0.8, colsample_bytree=0.8,\n",
    "                    objective= 'binary:logistic', nthread=4, seed=2017)"
   ]
  },
  {
   "cell_type": "code",
   "execution_count": 88,
   "metadata": {
    "collapsed": false
   },
   "outputs": [],
   "source": [
    "features = ['siteid', 'offerid', 'category', 'merchant', 'a', 'b',\n",
    "       'c', 'd', 'e', 'f', 'weekday__0', 'weekday__5', 'weekday__6', 'hour__0',\n",
    "       'hour__1', 'hour__2', 'hour__3', 'hour__4', 'hour__5', 'hour__6',\n",
    "       'hour__7', 'hour__8', 'hour__9', 'hour__10', 'hour__11', 'hour__12',\n",
    "       'hour__13', 'hour__14', 'hour__15', 'hour__16', 'hour__17', 'hour__18',\n",
    "       'hour__19', 'hour__20', 'hour__21', 'hour__22', 'hour__23',\n",
    "       'brow__Edge', 'brow__Opera', 'brow__Safari', 'brow__ff', 'brow__gc',\n",
    "       'brow__ie', 'Desktop', 'Mobile', 'Tablet']"
   ]
  },
  {
   "cell_type": "code",
   "execution_count": null,
   "metadata": {
    "collapsed": false
   },
   "outputs": [
    {
     "data": {
      "text/plain": [
       "XGBClassifier(base_score=0.5, booster='gbtree', colsample_bylevel=1,\n",
       "       colsample_bytree=0.8, gamma=0.01, learning_rate=0.01,\n",
       "       max_delta_step=0, max_depth=6, min_child_weight=7, missing=None,\n",
       "       n_estimators=1000, nthread=4, objective='binary:logistic',\n",
       "       reg_alpha=0, reg_lambda=1, scale_pos_weight=1, seed=2017,\n",
       "       silent=True, subsample=0.8)"
      ]
     },
     "execution_count": 90,
     "metadata": {},
     "output_type": "execute_result"
    }
   ],
   "source": [
    "xgb.fit(train[features],train['click'])"
   ]
  },
  {
   "cell_type": "code",
   "execution_count": null,
   "metadata": {
    "collapsed": false
   },
   "outputs": [],
   "source": [
    "pred = xgb.predict_proba(test[features])"
   ]
  },
  {
   "cell_type": "code",
   "execution_count": null,
   "metadata": {
    "collapsed": false
   },
   "outputs": [],
   "source": [
    "sub = pd.DataFrame({'ID':test['ID'], 'click':pred[:,1]})\n",
    "sub.to_csv('xgb.csv', index=False)"
   ]
  },
  {
   "cell_type": "code",
   "execution_count": 93,
   "metadata": {
    "collapsed": false
   },
   "outputs": [
    {
     "name": "stdout",
     "output_type": "stream",
     "text": [
      "3706907\n"
     ]
    }
   ],
   "source": [
    "print(len(sub))"
   ]
  },
  {
   "cell_type": "code",
   "execution_count": 95,
   "metadata": {
    "collapsed": true
   },
   "outputs": [],
   "source": [
    "dtrain = lgb.Dataset(train[features],train['click'])"
   ]
  },
  {
   "cell_type": "code",
   "execution_count": 96,
   "metadata": {
    "collapsed": true
   },
   "outputs": [],
   "source": [
    "params = {\n",
    "    'num_leaves' : 256,\n",
    "    'learning_rate':0.03,\n",
    "    'metric':'auc',\n",
    "    'objective':'binary',\n",
    "    'early_stopping_round': 40,\n",
    "    'max_depth':10,\n",
    "    'bagging_fraction':0.5,\n",
    "    'feature_fraction':0.6,\n",
    "    'bagging_seed':2017,\n",
    "    'feature_fraction_seed':2017,\n",
    "    'verbose' : 1   \n",
    "}"
   ]
  },
  {
   "cell_type": "code",
   "execution_count": null,
   "metadata": {
    "collapsed": true
   },
   "outputs": [],
   "source": [
    "lgbm =lgb.train(params, dtrain,num_boost_round=500,verbose_eval=20)"
   ]
  },
  {
   "cell_type": "code",
   "execution_count": null,
   "metadata": {
    "collapsed": true
   },
   "outputs": [],
   "source": [
    "pred_lgb = lgbm.predict(test[features])"
   ]
  },
  {
   "cell_type": "code",
   "execution_count": 103,
   "metadata": {
    "collapsed": false
   },
   "outputs": [],
   "source": [
    "sub = pd.DataFrame({'ID':test['ID'], 'click':pred_lgb})\n",
    "sub.to_csv('lgb.csv', index=False)"
   ]
  },
  {
   "cell_type": "code",
   "execution_count": 104,
   "metadata": {
    "collapsed": true
   },
   "outputs": [],
   "source": [
    "from catboost import CatBoostClassifier"
   ]
  },
  {
   "cell_type": "code",
   "execution_count": 105,
   "metadata": {
    "collapsed": true
   },
   "outputs": [],
   "source": [
    "cb = CatBoostClassifier(depth=10, iterations=10, learning_rate=0.1, eval_metric='AUC', random_seed=1)"
   ]
  },
  {
   "cell_type": "code",
   "execution_count": 107,
   "metadata": {
    "collapsed": false
   },
   "outputs": [
    {
     "data": {
      "text/plain": [
       "<catboost.core.CatBoostClassifier at 0x22a72856828>"
      ]
     },
     "execution_count": 107,
     "metadata": {},
     "output_type": "execute_result"
    }
   ],
   "source": [
    "cb.fit(train[features],train['click'])"
   ]
  },
  {
   "cell_type": "code",
   "execution_count": 108,
   "metadata": {
    "collapsed": true
   },
   "outputs": [],
   "source": [
    "pred_cb = cb.predict_proba(test[features])\n",
    "sub = pd.DataFrame({'ID':test['ID'], 'click':pred_cb[:,1]})\n",
    "sub.to_csv('cb.csv', index=False)"
   ]
  },
  {
   "cell_type": "code",
   "execution_count": null,
   "metadata": {
    "collapsed": true
   },
   "outputs": [],
   "source": []
  },
  {
   "cell_type": "code",
   "execution_count": 15,
   "metadata": {
    "collapsed": true
   },
   "outputs": [],
   "source": [
    "rfc = RandomForestClassifier()"
   ]
  },
  {
   "cell_type": "code",
   "execution_count": 16,
   "metadata": {
    "collapsed": true
   },
   "outputs": [],
   "source": [
    "rfc.fit(train[features],train['click'])\n",
    "pred = rfc.predict_proba(test[features])\n",
    "sub = pd.DataFrame({'ID':test['ID'], 'click':pred[:,1]})\n",
    "sub.to_csv('rfc.csv', index=False)"
   ]
  }
 ],
 "metadata": {
  "anaconda-cloud": {},
  "kernelspec": {
   "display_name": "Python [conda root]",
   "language": "python",
   "name": "conda-root-py"
  },
  "language_info": {
   "codemirror_mode": {
    "name": "ipython",
    "version": 3
   },
   "file_extension": ".py",
   "mimetype": "text/x-python",
   "name": "python",
   "nbconvert_exporter": "python",
   "pygments_lexer": "ipython3",
   "version": "3.5.2"
  }
 },
 "nbformat": 4,
 "nbformat_minor": 1
}
