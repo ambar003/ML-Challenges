{
 "cells": [
  {
   "cell_type": "code",
   "execution_count": 1,
   "metadata": {
    "collapsed": true
   },
   "outputs": [],
   "source": [
    "import os\n",
    "mingw_path = 'C:\\\\Program Files\\\\mingw-w64\\\\x86_64-6.3.0-posix-seh-rt_v5-rev1\\\\mingw64\\\\bin'\n",
    "os.environ['PATH'] = mingw_path + ';' + os.environ['PATH']"
   ]
  },
  {
   "cell_type": "code",
   "execution_count": 2,
   "metadata": {
    "collapsed": false
   },
   "outputs": [
    {
     "name": "stdout",
     "output_type": "stream",
     "text": [
      "Populating the interactive namespace from numpy and matplotlib\n"
     ]
    },
    {
     "name": "stderr",
     "output_type": "stream",
     "text": [
      "C:\\Users\\Ambar Gupta\\Anaconda3\\lib\\site-packages\\sklearn\\cross_validation.py:44: DeprecationWarning: This module was deprecated in version 0.18 in favor of the model_selection module into which all the refactored classes and functions are moved. Also note that the interface of the new CV iterators are different from that of this module. This module will be removed in 0.20.\n",
      "  \"This module will be removed in 0.20.\", DeprecationWarning)\n",
      "C:\\Users\\Ambar Gupta\\Anaconda3\\lib\\site-packages\\sklearn\\grid_search.py:43: DeprecationWarning: This module was deprecated in version 0.18 in favor of the model_selection module into which all the refactored classes and functions are moved. This module will be removed in 0.20.\n",
      "  DeprecationWarning)\n"
     ]
    }
   ],
   "source": [
    "% pylab inline\n",
    "import numpy as np\n",
    "import pandas as pd\n",
    "import matplotlib.pyplot as plt\n",
    "from datetime import datetime\n",
    "from xgboost.sklearn import XGBRegressor\n",
    "from sklearn import cross_validation,metrics\n",
    "from sklearn.grid_search import GridSearchCV"
   ]
  },
  {
   "cell_type": "code",
   "execution_count": 3,
   "metadata": {
    "collapsed": false
   },
   "outputs": [],
   "source": [
    "train = pd.read_csv('train.csv')"
   ]
  },
  {
   "cell_type": "code",
   "execution_count": 4,
   "metadata": {
    "collapsed": true
   },
   "outputs": [],
   "source": [
    "test = pd.read_csv('test.csv')"
   ]
  },
  {
   "cell_type": "code",
   "execution_count": 5,
   "metadata": {
    "collapsed": false
   },
   "outputs": [
    {
     "data": {
      "text/html": [
       "<div>\n",
       "<table border=\"1\" class=\"dataframe\">\n",
       "  <thead>\n",
       "    <tr style=\"text-align: right;\">\n",
       "      <th></th>\n",
       "      <th>TID</th>\n",
       "      <th>vendor_id</th>\n",
       "      <th>new_user</th>\n",
       "      <th>tolls_amount</th>\n",
       "      <th>tip_amount</th>\n",
       "      <th>mta_tax</th>\n",
       "      <th>pickup_datetime</th>\n",
       "      <th>dropoff_datetime</th>\n",
       "      <th>passenger_count</th>\n",
       "      <th>pickup_longitude</th>\n",
       "      <th>pickup_latitude</th>\n",
       "      <th>rate_code</th>\n",
       "      <th>store_and_fwd_flag</th>\n",
       "      <th>dropoff_longitude</th>\n",
       "      <th>dropoff_latitude</th>\n",
       "      <th>payment_type</th>\n",
       "      <th>surcharge</th>\n",
       "      <th>fare_amount</th>\n",
       "    </tr>\n",
       "  </thead>\n",
       "  <tbody>\n",
       "    <tr>\n",
       "      <th>0</th>\n",
       "      <td>AIX000345001</td>\n",
       "      <td>DST000401</td>\n",
       "      <td>NO</td>\n",
       "      <td>0.0</td>\n",
       "      <td>1.4</td>\n",
       "      <td>0.5</td>\n",
       "      <td>2015-04-20 04:18:25</td>\n",
       "      <td>2015-04-20 04:24:20</td>\n",
       "      <td>1</td>\n",
       "      <td>-74.003939</td>\n",
       "      <td>40.742894</td>\n",
       "      <td>1</td>\n",
       "      <td>N</td>\n",
       "      <td>-73.993369</td>\n",
       "      <td>40.734247</td>\n",
       "      <td>CRD</td>\n",
       "      <td>0.5</td>\n",
       "      <td>8.4</td>\n",
       "    </tr>\n",
       "    <tr>\n",
       "      <th>1</th>\n",
       "      <td>AIX000345002</td>\n",
       "      <td>DST000401</td>\n",
       "      <td>NO</td>\n",
       "      <td>0.0</td>\n",
       "      <td>1.0</td>\n",
       "      <td>0.5</td>\n",
       "      <td>2015-04-19 18:16:07</td>\n",
       "      <td>2015-04-19 18:22:06</td>\n",
       "      <td>3</td>\n",
       "      <td>-73.973864</td>\n",
       "      <td>40.752194</td>\n",
       "      <td>1</td>\n",
       "      <td>N</td>\n",
       "      <td>-73.958701</td>\n",
       "      <td>40.772533</td>\n",
       "      <td>CRD</td>\n",
       "      <td>0.0</td>\n",
       "      <td>8.5</td>\n",
       "    </tr>\n",
       "    <tr>\n",
       "      <th>2</th>\n",
       "      <td>AIX000345003</td>\n",
       "      <td>DST000401</td>\n",
       "      <td>NO</td>\n",
       "      <td>0.0</td>\n",
       "      <td>0.0</td>\n",
       "      <td>0.5</td>\n",
       "      <td>2015-04-06 08:04:32</td>\n",
       "      <td>2015-04-06 08:10:05</td>\n",
       "      <td>2</td>\n",
       "      <td>-73.954406</td>\n",
       "      <td>40.764420</td>\n",
       "      <td>1</td>\n",
       "      <td>N</td>\n",
       "      <td>-73.970780</td>\n",
       "      <td>40.758350</td>\n",
       "      <td>CSH</td>\n",
       "      <td>0.0</td>\n",
       "      <td>7.0</td>\n",
       "    </tr>\n",
       "    <tr>\n",
       "      <th>3</th>\n",
       "      <td>AIX000345004</td>\n",
       "      <td>DST000532</td>\n",
       "      <td>NO</td>\n",
       "      <td>0.0</td>\n",
       "      <td>1.8</td>\n",
       "      <td>0.5</td>\n",
       "      <td>2015-04-10 09:48:00</td>\n",
       "      <td>2015-04-10 10:00:00</td>\n",
       "      <td>2</td>\n",
       "      <td>-73.962345</td>\n",
       "      <td>40.767215</td>\n",
       "      <td>1</td>\n",
       "      <td>NaN</td>\n",
       "      <td>-73.975512</td>\n",
       "      <td>40.756867</td>\n",
       "      <td>CRD</td>\n",
       "      <td>0.0</td>\n",
       "      <td>11.3</td>\n",
       "    </tr>\n",
       "    <tr>\n",
       "      <th>4</th>\n",
       "      <td>AIX000345005</td>\n",
       "      <td>DST000401</td>\n",
       "      <td>NO</td>\n",
       "      <td>0.0</td>\n",
       "      <td>0.0</td>\n",
       "      <td>0.5</td>\n",
       "      <td>2015-04-15 13:12:48</td>\n",
       "      <td>2015-04-15 13:26:30</td>\n",
       "      <td>1</td>\n",
       "      <td>-74.004657</td>\n",
       "      <td>40.707434</td>\n",
       "      <td>1</td>\n",
       "      <td>N</td>\n",
       "      <td>-73.999369</td>\n",
       "      <td>40.721517</td>\n",
       "      <td>CSH</td>\n",
       "      <td>0.0</td>\n",
       "      <td>10.0</td>\n",
       "    </tr>\n",
       "  </tbody>\n",
       "</table>\n",
       "</div>"
      ],
      "text/plain": [
       "            TID  vendor_id new_user  tolls_amount  tip_amount  mta_tax  \\\n",
       "0  AIX000345001  DST000401       NO           0.0         1.4      0.5   \n",
       "1  AIX000345002  DST000401       NO           0.0         1.0      0.5   \n",
       "2  AIX000345003  DST000401       NO           0.0         0.0      0.5   \n",
       "3  AIX000345004  DST000532       NO           0.0         1.8      0.5   \n",
       "4  AIX000345005  DST000401       NO           0.0         0.0      0.5   \n",
       "\n",
       "       pickup_datetime     dropoff_datetime  passenger_count  \\\n",
       "0  2015-04-20 04:18:25  2015-04-20 04:24:20                1   \n",
       "1  2015-04-19 18:16:07  2015-04-19 18:22:06                3   \n",
       "2  2015-04-06 08:04:32  2015-04-06 08:10:05                2   \n",
       "3  2015-04-10 09:48:00  2015-04-10 10:00:00                2   \n",
       "4  2015-04-15 13:12:48  2015-04-15 13:26:30                1   \n",
       "\n",
       "   pickup_longitude  pickup_latitude  rate_code store_and_fwd_flag  \\\n",
       "0        -74.003939        40.742894          1                  N   \n",
       "1        -73.973864        40.752194          1                  N   \n",
       "2        -73.954406        40.764420          1                  N   \n",
       "3        -73.962345        40.767215          1                NaN   \n",
       "4        -74.004657        40.707434          1                  N   \n",
       "\n",
       "   dropoff_longitude  dropoff_latitude payment_type  surcharge  fare_amount  \n",
       "0         -73.993369         40.734247          CRD        0.5          8.4  \n",
       "1         -73.958701         40.772533          CRD        0.0          8.5  \n",
       "2         -73.970780         40.758350          CSH        0.0          7.0  \n",
       "3         -73.975512         40.756867          CRD        0.0         11.3  \n",
       "4         -73.999369         40.721517          CSH        0.0         10.0  "
      ]
     },
     "execution_count": 5,
     "metadata": {},
     "output_type": "execute_result"
    }
   ],
   "source": [
    "train.head()"
   ]
  },
  {
   "cell_type": "code",
   "execution_count": 6,
   "metadata": {
    "collapsed": false
   },
   "outputs": [
    {
     "name": "stderr",
     "output_type": "stream",
     "text": [
      "C:\\Users\\Ambar Gupta\\Anaconda3\\lib\\site-packages\\numpy\\lib\\function_base.py:3834: RuntimeWarning: Invalid value encountered in percentile\n",
      "  RuntimeWarning)\n"
     ]
    },
    {
     "data": {
      "text/html": [
       "<div>\n",
       "<table border=\"1\" class=\"dataframe\">\n",
       "  <thead>\n",
       "    <tr style=\"text-align: right;\">\n",
       "      <th></th>\n",
       "      <th>tolls_amount</th>\n",
       "      <th>tip_amount</th>\n",
       "      <th>mta_tax</th>\n",
       "      <th>passenger_count</th>\n",
       "      <th>pickup_longitude</th>\n",
       "      <th>pickup_latitude</th>\n",
       "      <th>rate_code</th>\n",
       "      <th>dropoff_longitude</th>\n",
       "      <th>dropoff_latitude</th>\n",
       "      <th>surcharge</th>\n",
       "      <th>fare_amount</th>\n",
       "    </tr>\n",
       "  </thead>\n",
       "  <tbody>\n",
       "    <tr>\n",
       "      <th>count</th>\n",
       "      <td>1.658099e+06</td>\n",
       "      <td>1.492903e+06</td>\n",
       "      <td>1.658099e+06</td>\n",
       "      <td>1.658099e+06</td>\n",
       "      <td>1.608290e+06</td>\n",
       "      <td>1.624998e+06</td>\n",
       "      <td>1.658099e+06</td>\n",
       "      <td>1.653112e+06</td>\n",
       "      <td>1.649937e+06</td>\n",
       "      <td>1.558926e+06</td>\n",
       "      <td>1.658099e+06</td>\n",
       "    </tr>\n",
       "    <tr>\n",
       "      <th>mean</th>\n",
       "      <td>2.770844e-01</td>\n",
       "      <td>1.554779e+00</td>\n",
       "      <td>4.980460e-01</td>\n",
       "      <td>1.722504e+00</td>\n",
       "      <td>-7.258480e+01</td>\n",
       "      <td>3.998628e+01</td>\n",
       "      <td>1.035918e+00</td>\n",
       "      <td>-7.258127e+01</td>\n",
       "      <td>3.998414e+01</td>\n",
       "      <td>3.177296e-01</td>\n",
       "      <td>1.531551e+01</td>\n",
       "    </tr>\n",
       "    <tr>\n",
       "      <th>std</th>\n",
       "      <td>1.890095e+00</td>\n",
       "      <td>2.356677e+00</td>\n",
       "      <td>3.194602e-02</td>\n",
       "      <td>1.384761e+00</td>\n",
       "      <td>1.004539e+01</td>\n",
       "      <td>5.528833e+00</td>\n",
       "      <td>4.683282e-01</td>\n",
       "      <td>1.005460e+01</td>\n",
       "      <td>5.538230e+00</td>\n",
       "      <td>3.623541e-01</td>\n",
       "      <td>1.272185e+01</td>\n",
       "    </tr>\n",
       "    <tr>\n",
       "      <th>min</th>\n",
       "      <td>-1.175000e+01</td>\n",
       "      <td>0.000000e+00</td>\n",
       "      <td>-5.000000e-01</td>\n",
       "      <td>0.000000e+00</td>\n",
       "      <td>-9.908311e+01</td>\n",
       "      <td>-1.355188e+01</td>\n",
       "      <td>0.000000e+00</td>\n",
       "      <td>-1.190126e+02</td>\n",
       "      <td>-1.355188e+01</td>\n",
       "      <td>-1.000000e+00</td>\n",
       "      <td>0.000000e+00</td>\n",
       "    </tr>\n",
       "    <tr>\n",
       "      <th>25%</th>\n",
       "      <td>0.000000e+00</td>\n",
       "      <td>NaN</td>\n",
       "      <td>5.000000e-01</td>\n",
       "      <td>1.000000e+00</td>\n",
       "      <td>NaN</td>\n",
       "      <td>NaN</td>\n",
       "      <td>1.000000e+00</td>\n",
       "      <td>NaN</td>\n",
       "      <td>NaN</td>\n",
       "      <td>NaN</td>\n",
       "      <td>8.300000e+00</td>\n",
       "    </tr>\n",
       "    <tr>\n",
       "      <th>50%</th>\n",
       "      <td>0.000000e+00</td>\n",
       "      <td>NaN</td>\n",
       "      <td>5.000000e-01</td>\n",
       "      <td>1.000000e+00</td>\n",
       "      <td>NaN</td>\n",
       "      <td>NaN</td>\n",
       "      <td>1.000000e+00</td>\n",
       "      <td>NaN</td>\n",
       "      <td>NaN</td>\n",
       "      <td>NaN</td>\n",
       "      <td>1.150000e+01</td>\n",
       "    </tr>\n",
       "    <tr>\n",
       "      <th>75%</th>\n",
       "      <td>0.000000e+00</td>\n",
       "      <td>NaN</td>\n",
       "      <td>5.000000e-01</td>\n",
       "      <td>2.000000e+00</td>\n",
       "      <td>NaN</td>\n",
       "      <td>NaN</td>\n",
       "      <td>1.000000e+00</td>\n",
       "      <td>NaN</td>\n",
       "      <td>NaN</td>\n",
       "      <td>NaN</td>\n",
       "      <td>1.700000e+01</td>\n",
       "    </tr>\n",
       "    <tr>\n",
       "      <th>max</th>\n",
       "      <td>1.450090e+03</td>\n",
       "      <td>2.312000e+02</td>\n",
       "      <td>5.000000e-01</td>\n",
       "      <td>9.000000e+00</td>\n",
       "      <td>7.945679e+01</td>\n",
       "      <td>6.798689e+01</td>\n",
       "      <td>2.100000e+02</td>\n",
       "      <td>0.000000e+00</td>\n",
       "      <td>6.343189e+01</td>\n",
       "      <td>2.050000e+01</td>\n",
       "      <td>1.502890e+03</td>\n",
       "    </tr>\n",
       "  </tbody>\n",
       "</table>\n",
       "</div>"
      ],
      "text/plain": [
       "       tolls_amount    tip_amount       mta_tax  passenger_count  \\\n",
       "count  1.658099e+06  1.492903e+06  1.658099e+06     1.658099e+06   \n",
       "mean   2.770844e-01  1.554779e+00  4.980460e-01     1.722504e+00   \n",
       "std    1.890095e+00  2.356677e+00  3.194602e-02     1.384761e+00   \n",
       "min   -1.175000e+01  0.000000e+00 -5.000000e-01     0.000000e+00   \n",
       "25%    0.000000e+00           NaN  5.000000e-01     1.000000e+00   \n",
       "50%    0.000000e+00           NaN  5.000000e-01     1.000000e+00   \n",
       "75%    0.000000e+00           NaN  5.000000e-01     2.000000e+00   \n",
       "max    1.450090e+03  2.312000e+02  5.000000e-01     9.000000e+00   \n",
       "\n",
       "       pickup_longitude  pickup_latitude     rate_code  dropoff_longitude  \\\n",
       "count      1.608290e+06     1.624998e+06  1.658099e+06       1.653112e+06   \n",
       "mean      -7.258480e+01     3.998628e+01  1.035918e+00      -7.258127e+01   \n",
       "std        1.004539e+01     5.528833e+00  4.683282e-01       1.005460e+01   \n",
       "min       -9.908311e+01    -1.355188e+01  0.000000e+00      -1.190126e+02   \n",
       "25%                 NaN              NaN  1.000000e+00                NaN   \n",
       "50%                 NaN              NaN  1.000000e+00                NaN   \n",
       "75%                 NaN              NaN  1.000000e+00                NaN   \n",
       "max        7.945679e+01     6.798689e+01  2.100000e+02       0.000000e+00   \n",
       "\n",
       "       dropoff_latitude     surcharge   fare_amount  \n",
       "count      1.649937e+06  1.558926e+06  1.658099e+06  \n",
       "mean       3.998414e+01  3.177296e-01  1.531551e+01  \n",
       "std        5.538230e+00  3.623541e-01  1.272185e+01  \n",
       "min       -1.355188e+01 -1.000000e+00  0.000000e+00  \n",
       "25%                 NaN           NaN  8.300000e+00  \n",
       "50%                 NaN           NaN  1.150000e+01  \n",
       "75%                 NaN           NaN  1.700000e+01  \n",
       "max        6.343189e+01  2.050000e+01  1.502890e+03  "
      ]
     },
     "execution_count": 6,
     "metadata": {},
     "output_type": "execute_result"
    }
   ],
   "source": [
    "train.describe()"
   ]
  },
  {
   "cell_type": "code",
   "execution_count": 7,
   "metadata": {
    "collapsed": false
   },
   "outputs": [],
   "source": [
    "train['new_user'] = train['new_user'].fillna('NO')"
   ]
  },
  {
   "cell_type": "code",
   "execution_count": 8,
   "metadata": {
    "collapsed": false
   },
   "outputs": [
    {
     "data": {
      "text/plain": [
       "0"
      ]
     },
     "execution_count": 8,
     "metadata": {},
     "output_type": "execute_result"
    }
   ],
   "source": [
    "train['new_user'].isnull().sum()"
   ]
  },
  {
   "cell_type": "code",
   "execution_count": 9,
   "metadata": {
    "collapsed": false
   },
   "outputs": [
    {
     "data": {
      "text/plain": [
       "NO     1657936\n",
       "YES        163\n",
       "Name: new_user, dtype: int64"
      ]
     },
     "execution_count": 9,
     "metadata": {},
     "output_type": "execute_result"
    }
   ],
   "source": [
    "train['new_user'].value_counts()"
   ]
  },
  {
   "cell_type": "code",
   "execution_count": 10,
   "metadata": {
    "collapsed": true
   },
   "outputs": [],
   "source": [
    "train['new_user'] = pd.Series(np.where(train.new_user.values=='YES',1,0),train.index)"
   ]
  },
  {
   "cell_type": "code",
   "execution_count": 11,
   "metadata": {
    "collapsed": false
   },
   "outputs": [
    {
     "data": {
      "text/plain": [
       "0    1657936\n",
       "1        163\n",
       "Name: new_user, dtype: int64"
      ]
     },
     "execution_count": 11,
     "metadata": {},
     "output_type": "execute_result"
    }
   ],
   "source": [
    "train['new_user'].value_counts()"
   ]
  },
  {
   "cell_type": "code",
   "execution_count": 12,
   "metadata": {
    "collapsed": false
   },
   "outputs": [
    {
     "data": {
      "text/plain": [
       "163"
      ]
     },
     "execution_count": 12,
     "metadata": {},
     "output_type": "execute_result"
    }
   ],
   "source": [
    "train['new_user'].sum()"
   ]
  },
  {
   "cell_type": "code",
   "execution_count": 13,
   "metadata": {
    "collapsed": false
   },
   "outputs": [
    {
     "data": {
      "text/plain": [
       "Index(['TID', 'vendor_id', 'new_user', 'tolls_amount', 'tip_amount', 'mta_tax',\n",
       "       'pickup_datetime', 'dropoff_datetime', 'passenger_count',\n",
       "       'pickup_longitude', 'pickup_latitude', 'rate_code',\n",
       "       'store_and_fwd_flag', 'dropoff_longitude', 'dropoff_latitude',\n",
       "       'payment_type', 'surcharge', 'fare_amount'],\n",
       "      dtype='object')"
      ]
     },
     "execution_count": 13,
     "metadata": {},
     "output_type": "execute_result"
    }
   ],
   "source": [
    "train.columns"
   ]
  },
  {
   "cell_type": "code",
   "execution_count": 14,
   "metadata": {
    "collapsed": false
   },
   "outputs": [
    {
     "data": {
      "text/plain": [
       "0"
      ]
     },
     "execution_count": 14,
     "metadata": {},
     "output_type": "execute_result"
    }
   ],
   "source": [
    "train['vendor_id'].isnull().sum()"
   ]
  },
  {
   "cell_type": "code",
   "execution_count": 15,
   "metadata": {
    "collapsed": false
   },
   "outputs": [
    {
     "data": {
      "text/plain": [
       "0"
      ]
     },
     "execution_count": 15,
     "metadata": {},
     "output_type": "execute_result"
    }
   ],
   "source": [
    "train['tolls_amount'].isnull().sum()"
   ]
  },
  {
   "cell_type": "code",
   "execution_count": 16,
   "metadata": {
    "collapsed": false
   },
   "outputs": [
    {
     "data": {
      "text/plain": [
       "165196"
      ]
     },
     "execution_count": 16,
     "metadata": {},
     "output_type": "execute_result"
    }
   ],
   "source": [
    "train['tip_amount'].isnull().sum()"
   ]
  },
  {
   "cell_type": "code",
   "execution_count": 17,
   "metadata": {
    "collapsed": false
   },
   "outputs": [
    {
     "data": {
      "text/plain": [
       "2321133.8700004644"
      ]
     },
     "execution_count": 17,
     "metadata": {},
     "output_type": "execute_result"
    }
   ],
   "source": [
    "train['tip_amount'].sum()"
   ]
  },
  {
   "cell_type": "code",
   "execution_count": 18,
   "metadata": {
    "collapsed": false
   },
   "outputs": [
    {
     "data": {
      "text/plain": [
       "794436.4699998912"
      ]
     },
     "execution_count": 18,
     "metadata": {},
     "output_type": "execute_result"
    }
   ],
   "source": [
    "test['tip_amount'].sum()"
   ]
  },
  {
   "cell_type": "code",
   "execution_count": 19,
   "metadata": {
    "collapsed": true
   },
   "outputs": [],
   "source": [
    "me = (2321133.8700004644+2321133.8700004644)/(len(train)+len(test))"
   ]
  },
  {
   "cell_type": "code",
   "execution_count": 20,
   "metadata": {
    "collapsed": false
   },
   "outputs": [
    {
     "name": "stdout",
     "output_type": "stream",
     "text": [
      "2.141359264950447\n"
     ]
    }
   ],
   "source": [
    "print(me)"
   ]
  },
  {
   "cell_type": "code",
   "execution_count": 21,
   "metadata": {
    "collapsed": true
   },
   "outputs": [],
   "source": [
    "train['tip_amount'] = train['tip_amount'].fillna(me)\n",
    "test['tip_amount'] = test['tip_amount'].fillna(me)"
   ]
  },
  {
   "cell_type": "code",
   "execution_count": 22,
   "metadata": {
    "collapsed": false
   },
   "outputs": [
    {
     "data": {
      "text/plain": [
       "0"
      ]
     },
     "execution_count": 22,
     "metadata": {},
     "output_type": "execute_result"
    }
   ],
   "source": [
    "test['vendor_id'].isnull().sum()\n",
    "test['tolls_amount'].isnull().sum()"
   ]
  },
  {
   "cell_type": "code",
   "execution_count": 23,
   "metadata": {
    "collapsed": true
   },
   "outputs": [],
   "source": [
    "test['new_user'] = test['new_user'].fillna('NO')"
   ]
  },
  {
   "cell_type": "code",
   "execution_count": 24,
   "metadata": {
    "collapsed": false
   },
   "outputs": [
    {
     "data": {
      "text/plain": [
       "0"
      ]
     },
     "execution_count": 24,
     "metadata": {},
     "output_type": "execute_result"
    }
   ],
   "source": [
    "test['new_user'].isnull().sum()"
   ]
  },
  {
   "cell_type": "code",
   "execution_count": 25,
   "metadata": {
    "collapsed": false
   },
   "outputs": [
    {
     "data": {
      "text/plain": [
       "509808"
      ]
     },
     "execution_count": 25,
     "metadata": {},
     "output_type": "execute_result"
    }
   ],
   "source": [
    "len(test)"
   ]
  },
  {
   "cell_type": "code",
   "execution_count": 26,
   "metadata": {
    "collapsed": true
   },
   "outputs": [],
   "source": [
    "test['new_user'] = pd.Series(np.where(test.new_user.values=='YES',1,0),test.index)"
   ]
  },
  {
   "cell_type": "code",
   "execution_count": 27,
   "metadata": {
    "collapsed": false
   },
   "outputs": [
    {
     "data": {
      "text/plain": [
       "0    509633\n",
       "1       175\n",
       "Name: new_user, dtype: int64"
      ]
     },
     "execution_count": 27,
     "metadata": {},
     "output_type": "execute_result"
    }
   ],
   "source": [
    "test['new_user'].value_counts()"
   ]
  },
  {
   "cell_type": "code",
   "execution_count": 28,
   "metadata": {
    "collapsed": false
   },
   "outputs": [
    {
     "data": {
      "text/plain": [
       "0    1657936\n",
       "1        163\n",
       "Name: new_user, dtype: int64"
      ]
     },
     "execution_count": 28,
     "metadata": {},
     "output_type": "execute_result"
    }
   ],
   "source": [
    "train['new_user'].value_counts()"
   ]
  },
  {
   "cell_type": "code",
   "execution_count": 29,
   "metadata": {
    "collapsed": false
   },
   "outputs": [
    {
     "data": {
      "text/plain": [
       "Index(['TID', 'vendor_id', 'new_user', 'tolls_amount', 'tip_amount', 'mta_tax',\n",
       "       'pickup_datetime', 'dropoff_datetime', 'passenger_count',\n",
       "       'pickup_longitude', 'pickup_latitude', 'rate_code',\n",
       "       'store_and_fwd_flag', 'dropoff_longitude', 'dropoff_latitude',\n",
       "       'payment_type', 'surcharge', 'fare_amount'],\n",
       "      dtype='object')"
      ]
     },
     "execution_count": 29,
     "metadata": {},
     "output_type": "execute_result"
    }
   ],
   "source": [
    "train.columns"
   ]
  },
  {
   "cell_type": "code",
   "execution_count": 30,
   "metadata": {
    "collapsed": false
   },
   "outputs": [
    {
     "data": {
      "text/plain": [
       "0"
      ]
     },
     "execution_count": 30,
     "metadata": {},
     "output_type": "execute_result"
    }
   ],
   "source": [
    "train['mta_tax'].isnull().sum()"
   ]
  },
  {
   "cell_type": "code",
   "execution_count": 31,
   "metadata": {
    "collapsed": false
   },
   "outputs": [
    {
     "data": {
      "text/plain": [
       "0"
      ]
     },
     "execution_count": 31,
     "metadata": {},
     "output_type": "execute_result"
    }
   ],
   "source": [
    "test['mta_tax'].isnull().sum()"
   ]
  },
  {
   "cell_type": "code",
   "execution_count": 32,
   "metadata": {
    "collapsed": false
   },
   "outputs": [
    {
     "data": {
      "text/plain": [
       "0"
      ]
     },
     "execution_count": 32,
     "metadata": {},
     "output_type": "execute_result"
    }
   ],
   "source": [
    "train['dropoff_datetime'].isnull().sum()"
   ]
  },
  {
   "cell_type": "code",
   "execution_count": 33,
   "metadata": {
    "collapsed": false
   },
   "outputs": [
    {
     "data": {
      "text/plain": [
       "0"
      ]
     },
     "execution_count": 33,
     "metadata": {},
     "output_type": "execute_result"
    }
   ],
   "source": [
    "test['dropoff_datetime'].isnull().sum()"
   ]
  },
  {
   "cell_type": "code",
   "execution_count": 34,
   "metadata": {
    "collapsed": false
   },
   "outputs": [
    {
     "data": {
      "text/plain": [
       "0"
      ]
     },
     "execution_count": 34,
     "metadata": {},
     "output_type": "execute_result"
    }
   ],
   "source": [
    "test['passenger_count'].isnull().sum()"
   ]
  },
  {
   "cell_type": "code",
   "execution_count": 35,
   "metadata": {
    "collapsed": false
   },
   "outputs": [
    {
     "data": {
      "text/plain": [
       "0"
      ]
     },
     "execution_count": 35,
     "metadata": {},
     "output_type": "execute_result"
    }
   ],
   "source": [
    "test['rate_code'].isnull().sum()"
   ]
  },
  {
   "cell_type": "code",
   "execution_count": 36,
   "metadata": {
    "collapsed": false
   },
   "outputs": [
    {
     "data": {
      "text/plain": [
       "N    993926\n",
       "Y     16051\n",
       "Name: store_and_fwd_flag, dtype: int64"
      ]
     },
     "execution_count": 36,
     "metadata": {},
     "output_type": "execute_result"
    }
   ],
   "source": [
    "train['store_and_fwd_flag'].value_counts()"
   ]
  },
  {
   "cell_type": "code",
   "execution_count": 37,
   "metadata": {
    "collapsed": false
   },
   "outputs": [
    {
     "data": {
      "text/plain": [
       "N    323708\n",
       "     181953\n",
       "Y      4147\n",
       "Name: store_and_fwd_flag, dtype: int64"
      ]
     },
     "execution_count": 37,
     "metadata": {},
     "output_type": "execute_result"
    }
   ],
   "source": [
    "test['store_and_fwd_flag'].value_counts()"
   ]
  },
  {
   "cell_type": "code",
   "execution_count": 38,
   "metadata": {
    "collapsed": false
   },
   "outputs": [
    {
     "data": {
      "text/plain": [
       "Index(['TID', 'vendor_id', 'new_user', 'tolls_amount', 'tip_amount', 'mta_tax',\n",
       "       'pickup_datetime', 'dropoff_datetime', 'passenger_count',\n",
       "       'pickup_longitude', 'pickup_latitude', 'rate_code',\n",
       "       'store_and_fwd_flag', 'dropoff_longitude', 'dropoff_latitude',\n",
       "       'payment_type', 'surcharge', 'fare_amount'],\n",
       "      dtype='object')"
      ]
     },
     "execution_count": 38,
     "metadata": {},
     "output_type": "execute_result"
    }
   ],
   "source": [
    "train.columns"
   ]
  },
  {
   "cell_type": "code",
   "execution_count": 39,
   "metadata": {
    "collapsed": false
   },
   "outputs": [
    {
     "data": {
      "text/plain": [
       "0"
      ]
     },
     "execution_count": 39,
     "metadata": {},
     "output_type": "execute_result"
    }
   ],
   "source": [
    "test['payment_type'].isnull().sum()"
   ]
  },
  {
   "cell_type": "code",
   "execution_count": 40,
   "metadata": {
    "collapsed": false
   },
   "outputs": [
    {
     "data": {
      "text/plain": [
       "99173"
      ]
     },
     "execution_count": 40,
     "metadata": {},
     "output_type": "execute_result"
    }
   ],
   "source": [
    "train['surcharge'].isnull().sum()"
   ]
  },
  {
   "cell_type": "code",
   "execution_count": 41,
   "metadata": {
    "collapsed": false
   },
   "outputs": [
    {
     "data": {
      "text/plain": [
       "30727"
      ]
     },
     "execution_count": 41,
     "metadata": {},
     "output_type": "execute_result"
    }
   ],
   "source": [
    "test['surcharge'].isnull().sum()"
   ]
  },
  {
   "cell_type": "code",
   "execution_count": 42,
   "metadata": {
    "collapsed": false
   },
   "outputs": [
    {
     "data": {
      "text/plain": [
       "495316.95"
      ]
     },
     "execution_count": 42,
     "metadata": {},
     "output_type": "execute_result"
    }
   ],
   "source": [
    "train['surcharge'].sum()"
   ]
  },
  {
   "cell_type": "code",
   "execution_count": 43,
   "metadata": {
    "collapsed": false
   },
   "outputs": [
    {
     "data": {
      "text/plain": [
       "151321.69"
      ]
     },
     "execution_count": 43,
     "metadata": {},
     "output_type": "execute_result"
    }
   ],
   "source": [
    "test['surcharge'].sum()"
   ]
  },
  {
   "cell_type": "code",
   "execution_count": 44,
   "metadata": {
    "collapsed": true
   },
   "outputs": [],
   "source": [
    "me = (495316.95+151321.69)/(len(train)+len(test))"
   ]
  },
  {
   "cell_type": "code",
   "execution_count": 45,
   "metadata": {
    "collapsed": false
   },
   "outputs": [
    {
     "name": "stdout",
     "output_type": "stream",
     "text": [
      "0.2982778504797484\n"
     ]
    }
   ],
   "source": [
    "print(me)"
   ]
  },
  {
   "cell_type": "code",
   "execution_count": 46,
   "metadata": {
    "collapsed": true
   },
   "outputs": [],
   "source": [
    "train['surcharge'] = train['surcharge'].fillna(me)\n",
    "test['surcharge'] = test['surcharge'].fillna(me)"
   ]
  },
  {
   "cell_type": "code",
   "execution_count": 47,
   "metadata": {
    "collapsed": false
   },
   "outputs": [
    {
     "data": {
      "text/plain": [
       "0"
      ]
     },
     "execution_count": 47,
     "metadata": {},
     "output_type": "execute_result"
    }
   ],
   "source": [
    "train['surcharge'].isnull().sum()\n",
    "test['surcharge'].isnull().sum()"
   ]
  },
  {
   "cell_type": "code",
   "execution_count": 48,
   "metadata": {
    "collapsed": false
   },
   "outputs": [
    {
     "data": {
      "text/plain": [
       "Index(['TID', 'vendor_id', 'new_user', 'tolls_amount', 'tip_amount', 'mta_tax',\n",
       "       'pickup_datetime', 'dropoff_datetime', 'passenger_count',\n",
       "       'pickup_longitude', 'pickup_latitude', 'rate_code',\n",
       "       'store_and_fwd_flag', 'dropoff_longitude', 'dropoff_latitude',\n",
       "       'payment_type', 'surcharge', 'fare_amount'],\n",
       "      dtype='object')"
      ]
     },
     "execution_count": 48,
     "metadata": {},
     "output_type": "execute_result"
    }
   ],
   "source": [
    "train.columns"
   ]
  },
  {
   "cell_type": "code",
   "execution_count": 49,
   "metadata": {
    "collapsed": false
   },
   "outputs": [],
   "source": [
    "df = pd.DataFrame()"
   ]
  },
  {
   "cell_type": "code",
   "execution_count": 50,
   "metadata": {
    "collapsed": true
   },
   "outputs": [],
   "source": [
    "df = train['payment_type']"
   ]
  },
  {
   "cell_type": "code",
   "execution_count": 51,
   "metadata": {
    "collapsed": false
   },
   "outputs": [
    {
     "data": {
      "text/html": [
       "<div>\n",
       "<table border=\"1\" class=\"dataframe\">\n",
       "  <thead>\n",
       "    <tr style=\"text-align: right;\">\n",
       "      <th></th>\n",
       "      <th>CRD</th>\n",
       "      <th>CSH</th>\n",
       "      <th>DIS</th>\n",
       "      <th>NOC</th>\n",
       "      <th>UNK</th>\n",
       "    </tr>\n",
       "  </thead>\n",
       "  <tbody>\n",
       "    <tr>\n",
       "      <th>0</th>\n",
       "      <td>1.0</td>\n",
       "      <td>0.0</td>\n",
       "      <td>0.0</td>\n",
       "      <td>0.0</td>\n",
       "      <td>0.0</td>\n",
       "    </tr>\n",
       "    <tr>\n",
       "      <th>1</th>\n",
       "      <td>1.0</td>\n",
       "      <td>0.0</td>\n",
       "      <td>0.0</td>\n",
       "      <td>0.0</td>\n",
       "      <td>0.0</td>\n",
       "    </tr>\n",
       "    <tr>\n",
       "      <th>2</th>\n",
       "      <td>0.0</td>\n",
       "      <td>1.0</td>\n",
       "      <td>0.0</td>\n",
       "      <td>0.0</td>\n",
       "      <td>0.0</td>\n",
       "    </tr>\n",
       "    <tr>\n",
       "      <th>3</th>\n",
       "      <td>1.0</td>\n",
       "      <td>0.0</td>\n",
       "      <td>0.0</td>\n",
       "      <td>0.0</td>\n",
       "      <td>0.0</td>\n",
       "    </tr>\n",
       "    <tr>\n",
       "      <th>4</th>\n",
       "      <td>0.0</td>\n",
       "      <td>1.0</td>\n",
       "      <td>0.0</td>\n",
       "      <td>0.0</td>\n",
       "      <td>0.0</td>\n",
       "    </tr>\n",
       "  </tbody>\n",
       "</table>\n",
       "</div>"
      ],
      "text/plain": [
       "   CRD  CSH  DIS  NOC  UNK\n",
       "0  1.0  0.0  0.0  0.0  0.0\n",
       "1  1.0  0.0  0.0  0.0  0.0\n",
       "2  0.0  1.0  0.0  0.0  0.0\n",
       "3  1.0  0.0  0.0  0.0  0.0\n",
       "4  0.0  1.0  0.0  0.0  0.0"
      ]
     },
     "execution_count": 51,
     "metadata": {},
     "output_type": "execute_result"
    }
   ],
   "source": [
    "df = pd.get_dummies(df)\n",
    "df.head()"
   ]
  },
  {
   "cell_type": "code",
   "execution_count": 52,
   "metadata": {
    "collapsed": true
   },
   "outputs": [],
   "source": [
    "train = train.drop('payment_type',axis=1)"
   ]
  },
  {
   "cell_type": "code",
   "execution_count": 53,
   "metadata": {
    "collapsed": true
   },
   "outputs": [],
   "source": [
    "train = pd.concat([train,df],axis=1)"
   ]
  },
  {
   "cell_type": "code",
   "execution_count": 54,
   "metadata": {
    "collapsed": false
   },
   "outputs": [
    {
     "data": {
      "text/html": [
       "<div>\n",
       "<table border=\"1\" class=\"dataframe\">\n",
       "  <thead>\n",
       "    <tr style=\"text-align: right;\">\n",
       "      <th></th>\n",
       "      <th>TID</th>\n",
       "      <th>vendor_id</th>\n",
       "      <th>new_user</th>\n",
       "      <th>tolls_amount</th>\n",
       "      <th>tip_amount</th>\n",
       "      <th>mta_tax</th>\n",
       "      <th>pickup_datetime</th>\n",
       "      <th>dropoff_datetime</th>\n",
       "      <th>passenger_count</th>\n",
       "      <th>pickup_longitude</th>\n",
       "      <th>...</th>\n",
       "      <th>store_and_fwd_flag</th>\n",
       "      <th>dropoff_longitude</th>\n",
       "      <th>dropoff_latitude</th>\n",
       "      <th>surcharge</th>\n",
       "      <th>fare_amount</th>\n",
       "      <th>CRD</th>\n",
       "      <th>CSH</th>\n",
       "      <th>DIS</th>\n",
       "      <th>NOC</th>\n",
       "      <th>UNK</th>\n",
       "    </tr>\n",
       "  </thead>\n",
       "  <tbody>\n",
       "    <tr>\n",
       "      <th>0</th>\n",
       "      <td>AIX000345001</td>\n",
       "      <td>DST000401</td>\n",
       "      <td>0</td>\n",
       "      <td>0.0</td>\n",
       "      <td>1.4</td>\n",
       "      <td>0.5</td>\n",
       "      <td>2015-04-20 04:18:25</td>\n",
       "      <td>2015-04-20 04:24:20</td>\n",
       "      <td>1</td>\n",
       "      <td>-74.003939</td>\n",
       "      <td>...</td>\n",
       "      <td>N</td>\n",
       "      <td>-73.993369</td>\n",
       "      <td>40.734247</td>\n",
       "      <td>0.5</td>\n",
       "      <td>8.4</td>\n",
       "      <td>1.0</td>\n",
       "      <td>0.0</td>\n",
       "      <td>0.0</td>\n",
       "      <td>0.0</td>\n",
       "      <td>0.0</td>\n",
       "    </tr>\n",
       "    <tr>\n",
       "      <th>1</th>\n",
       "      <td>AIX000345002</td>\n",
       "      <td>DST000401</td>\n",
       "      <td>0</td>\n",
       "      <td>0.0</td>\n",
       "      <td>1.0</td>\n",
       "      <td>0.5</td>\n",
       "      <td>2015-04-19 18:16:07</td>\n",
       "      <td>2015-04-19 18:22:06</td>\n",
       "      <td>3</td>\n",
       "      <td>-73.973864</td>\n",
       "      <td>...</td>\n",
       "      <td>N</td>\n",
       "      <td>-73.958701</td>\n",
       "      <td>40.772533</td>\n",
       "      <td>0.0</td>\n",
       "      <td>8.5</td>\n",
       "      <td>1.0</td>\n",
       "      <td>0.0</td>\n",
       "      <td>0.0</td>\n",
       "      <td>0.0</td>\n",
       "      <td>0.0</td>\n",
       "    </tr>\n",
       "    <tr>\n",
       "      <th>2</th>\n",
       "      <td>AIX000345003</td>\n",
       "      <td>DST000401</td>\n",
       "      <td>0</td>\n",
       "      <td>0.0</td>\n",
       "      <td>0.0</td>\n",
       "      <td>0.5</td>\n",
       "      <td>2015-04-06 08:04:32</td>\n",
       "      <td>2015-04-06 08:10:05</td>\n",
       "      <td>2</td>\n",
       "      <td>-73.954406</td>\n",
       "      <td>...</td>\n",
       "      <td>N</td>\n",
       "      <td>-73.970780</td>\n",
       "      <td>40.758350</td>\n",
       "      <td>0.0</td>\n",
       "      <td>7.0</td>\n",
       "      <td>0.0</td>\n",
       "      <td>1.0</td>\n",
       "      <td>0.0</td>\n",
       "      <td>0.0</td>\n",
       "      <td>0.0</td>\n",
       "    </tr>\n",
       "    <tr>\n",
       "      <th>3</th>\n",
       "      <td>AIX000345004</td>\n",
       "      <td>DST000532</td>\n",
       "      <td>0</td>\n",
       "      <td>0.0</td>\n",
       "      <td>1.8</td>\n",
       "      <td>0.5</td>\n",
       "      <td>2015-04-10 09:48:00</td>\n",
       "      <td>2015-04-10 10:00:00</td>\n",
       "      <td>2</td>\n",
       "      <td>-73.962345</td>\n",
       "      <td>...</td>\n",
       "      <td>NaN</td>\n",
       "      <td>-73.975512</td>\n",
       "      <td>40.756867</td>\n",
       "      <td>0.0</td>\n",
       "      <td>11.3</td>\n",
       "      <td>1.0</td>\n",
       "      <td>0.0</td>\n",
       "      <td>0.0</td>\n",
       "      <td>0.0</td>\n",
       "      <td>0.0</td>\n",
       "    </tr>\n",
       "    <tr>\n",
       "      <th>4</th>\n",
       "      <td>AIX000345005</td>\n",
       "      <td>DST000401</td>\n",
       "      <td>0</td>\n",
       "      <td>0.0</td>\n",
       "      <td>0.0</td>\n",
       "      <td>0.5</td>\n",
       "      <td>2015-04-15 13:12:48</td>\n",
       "      <td>2015-04-15 13:26:30</td>\n",
       "      <td>1</td>\n",
       "      <td>-74.004657</td>\n",
       "      <td>...</td>\n",
       "      <td>N</td>\n",
       "      <td>-73.999369</td>\n",
       "      <td>40.721517</td>\n",
       "      <td>0.0</td>\n",
       "      <td>10.0</td>\n",
       "      <td>0.0</td>\n",
       "      <td>1.0</td>\n",
       "      <td>0.0</td>\n",
       "      <td>0.0</td>\n",
       "      <td>0.0</td>\n",
       "    </tr>\n",
       "  </tbody>\n",
       "</table>\n",
       "<p>5 rows × 22 columns</p>\n",
       "</div>"
      ],
      "text/plain": [
       "            TID  vendor_id  new_user  tolls_amount  tip_amount  mta_tax  \\\n",
       "0  AIX000345001  DST000401         0           0.0         1.4      0.5   \n",
       "1  AIX000345002  DST000401         0           0.0         1.0      0.5   \n",
       "2  AIX000345003  DST000401         0           0.0         0.0      0.5   \n",
       "3  AIX000345004  DST000532         0           0.0         1.8      0.5   \n",
       "4  AIX000345005  DST000401         0           0.0         0.0      0.5   \n",
       "\n",
       "       pickup_datetime     dropoff_datetime  passenger_count  \\\n",
       "0  2015-04-20 04:18:25  2015-04-20 04:24:20                1   \n",
       "1  2015-04-19 18:16:07  2015-04-19 18:22:06                3   \n",
       "2  2015-04-06 08:04:32  2015-04-06 08:10:05                2   \n",
       "3  2015-04-10 09:48:00  2015-04-10 10:00:00                2   \n",
       "4  2015-04-15 13:12:48  2015-04-15 13:26:30                1   \n",
       "\n",
       "   pickup_longitude ...   store_and_fwd_flag  dropoff_longitude  \\\n",
       "0        -74.003939 ...                    N         -73.993369   \n",
       "1        -73.973864 ...                    N         -73.958701   \n",
       "2        -73.954406 ...                    N         -73.970780   \n",
       "3        -73.962345 ...                  NaN         -73.975512   \n",
       "4        -74.004657 ...                    N         -73.999369   \n",
       "\n",
       "  dropoff_latitude  surcharge  fare_amount  CRD  CSH  DIS  NOC  UNK  \n",
       "0        40.734247        0.5          8.4  1.0  0.0  0.0  0.0  0.0  \n",
       "1        40.772533        0.0          8.5  1.0  0.0  0.0  0.0  0.0  \n",
       "2        40.758350        0.0          7.0  0.0  1.0  0.0  0.0  0.0  \n",
       "3        40.756867        0.0         11.3  1.0  0.0  0.0  0.0  0.0  \n",
       "4        40.721517        0.0         10.0  0.0  1.0  0.0  0.0  0.0  \n",
       "\n",
       "[5 rows x 22 columns]"
      ]
     },
     "execution_count": 54,
     "metadata": {},
     "output_type": "execute_result"
    }
   ],
   "source": [
    "train.head()"
   ]
  },
  {
   "cell_type": "code",
   "execution_count": 55,
   "metadata": {
    "collapsed": false
   },
   "outputs": [
    {
     "data": {
      "text/html": [
       "<div>\n",
       "<table border=\"1\" class=\"dataframe\">\n",
       "  <thead>\n",
       "    <tr style=\"text-align: right;\">\n",
       "      <th></th>\n",
       "      <th>CRD</th>\n",
       "      <th>CSH</th>\n",
       "      <th>DIS</th>\n",
       "      <th>NOC</th>\n",
       "      <th>UNK</th>\n",
       "    </tr>\n",
       "  </thead>\n",
       "  <tbody>\n",
       "    <tr>\n",
       "      <th>0</th>\n",
       "      <td>0.0</td>\n",
       "      <td>1.0</td>\n",
       "      <td>0.0</td>\n",
       "      <td>0.0</td>\n",
       "      <td>0.0</td>\n",
       "    </tr>\n",
       "    <tr>\n",
       "      <th>1</th>\n",
       "      <td>1.0</td>\n",
       "      <td>0.0</td>\n",
       "      <td>0.0</td>\n",
       "      <td>0.0</td>\n",
       "      <td>0.0</td>\n",
       "    </tr>\n",
       "    <tr>\n",
       "      <th>2</th>\n",
       "      <td>0.0</td>\n",
       "      <td>1.0</td>\n",
       "      <td>0.0</td>\n",
       "      <td>0.0</td>\n",
       "      <td>0.0</td>\n",
       "    </tr>\n",
       "    <tr>\n",
       "      <th>3</th>\n",
       "      <td>0.0</td>\n",
       "      <td>1.0</td>\n",
       "      <td>0.0</td>\n",
       "      <td>0.0</td>\n",
       "      <td>0.0</td>\n",
       "    </tr>\n",
       "    <tr>\n",
       "      <th>4</th>\n",
       "      <td>0.0</td>\n",
       "      <td>1.0</td>\n",
       "      <td>0.0</td>\n",
       "      <td>0.0</td>\n",
       "      <td>0.0</td>\n",
       "    </tr>\n",
       "  </tbody>\n",
       "</table>\n",
       "</div>"
      ],
      "text/plain": [
       "   CRD  CSH  DIS  NOC  UNK\n",
       "0  0.0  1.0  0.0  0.0  0.0\n",
       "1  1.0  0.0  0.0  0.0  0.0\n",
       "2  0.0  1.0  0.0  0.0  0.0\n",
       "3  0.0  1.0  0.0  0.0  0.0\n",
       "4  0.0  1.0  0.0  0.0  0.0"
      ]
     },
     "execution_count": 55,
     "metadata": {},
     "output_type": "execute_result"
    }
   ],
   "source": [
    "df = pd.DataFrame()\n",
    "df = test['payment_type']\n",
    "df = pd.get_dummies(df)\n",
    "df.head()"
   ]
  },
  {
   "cell_type": "code",
   "execution_count": 56,
   "metadata": {
    "collapsed": false
   },
   "outputs": [
    {
     "data": {
      "text/html": [
       "<div>\n",
       "<table border=\"1\" class=\"dataframe\">\n",
       "  <thead>\n",
       "    <tr style=\"text-align: right;\">\n",
       "      <th></th>\n",
       "      <th>TID</th>\n",
       "      <th>vendor_id</th>\n",
       "      <th>new_user</th>\n",
       "      <th>tolls_amount</th>\n",
       "      <th>tip_amount</th>\n",
       "      <th>mta_tax</th>\n",
       "      <th>pickup_datetime</th>\n",
       "      <th>dropoff_datetime</th>\n",
       "      <th>passenger_count</th>\n",
       "      <th>pickup_longitude</th>\n",
       "      <th>...</th>\n",
       "      <th>rate_code</th>\n",
       "      <th>store_and_fwd_flag</th>\n",
       "      <th>dropoff_longitude</th>\n",
       "      <th>dropoff_latitude</th>\n",
       "      <th>surcharge</th>\n",
       "      <th>CRD</th>\n",
       "      <th>CSH</th>\n",
       "      <th>DIS</th>\n",
       "      <th>NOC</th>\n",
       "      <th>UNK</th>\n",
       "    </tr>\n",
       "  </thead>\n",
       "  <tbody>\n",
       "    <tr>\n",
       "      <th>0</th>\n",
       "      <td>AJX000119871</td>\n",
       "      <td>DST000481</td>\n",
       "      <td>0</td>\n",
       "      <td>0.0</td>\n",
       "      <td>0.00</td>\n",
       "      <td>0.5</td>\n",
       "      <td>2016-05-14 13:42:33</td>\n",
       "      <td>2016-05-14 13:45:43</td>\n",
       "      <td>1</td>\n",
       "      <td>-73.971794</td>\n",
       "      <td>...</td>\n",
       "      <td>1</td>\n",
       "      <td>Y</td>\n",
       "      <td>-73.972488</td>\n",
       "      <td>40.791576</td>\n",
       "      <td>0.0</td>\n",
       "      <td>0.0</td>\n",
       "      <td>1.0</td>\n",
       "      <td>0.0</td>\n",
       "      <td>0.0</td>\n",
       "      <td>0.0</td>\n",
       "    </tr>\n",
       "    <tr>\n",
       "      <th>1</th>\n",
       "      <td>AJX000119872</td>\n",
       "      <td>DST000543</td>\n",
       "      <td>0</td>\n",
       "      <td>0.0</td>\n",
       "      <td>1.26</td>\n",
       "      <td>0.5</td>\n",
       "      <td>2016-05-04 01:24:39</td>\n",
       "      <td>2016-05-04 01:29:21</td>\n",
       "      <td>2</td>\n",
       "      <td>-73.992210</td>\n",
       "      <td>...</td>\n",
       "      <td>1</td>\n",
       "      <td></td>\n",
       "      <td>-73.987244</td>\n",
       "      <td>40.720276</td>\n",
       "      <td>0.5</td>\n",
       "      <td>1.0</td>\n",
       "      <td>0.0</td>\n",
       "      <td>0.0</td>\n",
       "      <td>0.0</td>\n",
       "      <td>0.0</td>\n",
       "    </tr>\n",
       "    <tr>\n",
       "      <th>2</th>\n",
       "      <td>AJX000119873</td>\n",
       "      <td>DST000543</td>\n",
       "      <td>0</td>\n",
       "      <td>0.0</td>\n",
       "      <td>0.00</td>\n",
       "      <td>0.5</td>\n",
       "      <td>2016-05-28 15:12:21</td>\n",
       "      <td>2016-05-28 15:25:02</td>\n",
       "      <td>6</td>\n",
       "      <td>-73.991753</td>\n",
       "      <td>...</td>\n",
       "      <td>1</td>\n",
       "      <td>N</td>\n",
       "      <td>-73.979828</td>\n",
       "      <td>40.761417</td>\n",
       "      <td>0.0</td>\n",
       "      <td>0.0</td>\n",
       "      <td>1.0</td>\n",
       "      <td>0.0</td>\n",
       "      <td>0.0</td>\n",
       "      <td>0.0</td>\n",
       "    </tr>\n",
       "    <tr>\n",
       "      <th>3</th>\n",
       "      <td>AJX000119874</td>\n",
       "      <td>DST000543</td>\n",
       "      <td>0</td>\n",
       "      <td>0.0</td>\n",
       "      <td>0.00</td>\n",
       "      <td>0.5</td>\n",
       "      <td>2016-05-02 21:08:40</td>\n",
       "      <td>2016-05-02 21:34:24</td>\n",
       "      <td>4</td>\n",
       "      <td>-73.957588</td>\n",
       "      <td>...</td>\n",
       "      <td>1</td>\n",
       "      <td>N</td>\n",
       "      <td>-73.919868</td>\n",
       "      <td>40.695366</td>\n",
       "      <td>0.5</td>\n",
       "      <td>0.0</td>\n",
       "      <td>1.0</td>\n",
       "      <td>0.0</td>\n",
       "      <td>0.0</td>\n",
       "      <td>0.0</td>\n",
       "    </tr>\n",
       "    <tr>\n",
       "      <th>4</th>\n",
       "      <td>AJX000119875</td>\n",
       "      <td>DST000543</td>\n",
       "      <td>0</td>\n",
       "      <td>0.0</td>\n",
       "      <td>0.00</td>\n",
       "      <td>0.5</td>\n",
       "      <td>2016-05-09 17:00:33</td>\n",
       "      <td>2016-05-09 17:18:45</td>\n",
       "      <td>1</td>\n",
       "      <td>-73.970985</td>\n",
       "      <td>...</td>\n",
       "      <td>1</td>\n",
       "      <td>N</td>\n",
       "      <td>-73.991409</td>\n",
       "      <td>40.731861</td>\n",
       "      <td>0.0</td>\n",
       "      <td>0.0</td>\n",
       "      <td>1.0</td>\n",
       "      <td>0.0</td>\n",
       "      <td>0.0</td>\n",
       "      <td>0.0</td>\n",
       "    </tr>\n",
       "  </tbody>\n",
       "</table>\n",
       "<p>5 rows × 21 columns</p>\n",
       "</div>"
      ],
      "text/plain": [
       "            TID  vendor_id  new_user  tolls_amount  tip_amount  mta_tax  \\\n",
       "0  AJX000119871  DST000481         0           0.0        0.00      0.5   \n",
       "1  AJX000119872  DST000543         0           0.0        1.26      0.5   \n",
       "2  AJX000119873  DST000543         0           0.0        0.00      0.5   \n",
       "3  AJX000119874  DST000543         0           0.0        0.00      0.5   \n",
       "4  AJX000119875  DST000543         0           0.0        0.00      0.5   \n",
       "\n",
       "       pickup_datetime     dropoff_datetime  passenger_count  \\\n",
       "0  2016-05-14 13:42:33  2016-05-14 13:45:43                1   \n",
       "1  2016-05-04 01:24:39  2016-05-04 01:29:21                2   \n",
       "2  2016-05-28 15:12:21  2016-05-28 15:25:02                6   \n",
       "3  2016-05-02 21:08:40  2016-05-02 21:34:24                4   \n",
       "4  2016-05-09 17:00:33  2016-05-09 17:18:45                1   \n",
       "\n",
       "   pickup_longitude ...   rate_code  store_and_fwd_flag dropoff_longitude  \\\n",
       "0        -73.971794 ...           1                   Y        -73.972488   \n",
       "1        -73.992210 ...           1                            -73.987244   \n",
       "2        -73.991753 ...           1                   N        -73.979828   \n",
       "3        -73.957588 ...           1                   N        -73.919868   \n",
       "4        -73.970985 ...           1                   N        -73.991409   \n",
       "\n",
       "   dropoff_latitude  surcharge  CRD  CSH  DIS  NOC  UNK  \n",
       "0         40.791576        0.0  0.0  1.0  0.0  0.0  0.0  \n",
       "1         40.720276        0.5  1.0  0.0  0.0  0.0  0.0  \n",
       "2         40.761417        0.0  0.0  1.0  0.0  0.0  0.0  \n",
       "3         40.695366        0.5  0.0  1.0  0.0  0.0  0.0  \n",
       "4         40.731861        0.0  0.0  1.0  0.0  0.0  0.0  \n",
       "\n",
       "[5 rows x 21 columns]"
      ]
     },
     "execution_count": 56,
     "metadata": {},
     "output_type": "execute_result"
    }
   ],
   "source": [
    "test = test.drop('payment_type',axis=1)\n",
    "test = pd.concat([test,df],axis=1)\n",
    "test.head()"
   ]
  },
  {
   "cell_type": "code",
   "execution_count": 57,
   "metadata": {
    "collapsed": false
   },
   "outputs": [
    {
     "data": {
      "text/plain": [
       "TID                        0\n",
       "vendor_id                  0\n",
       "new_user                   0\n",
       "tolls_amount               0\n",
       "tip_amount                 0\n",
       "mta_tax                    0\n",
       "pickup_datetime            0\n",
       "dropoff_datetime           0\n",
       "passenger_count            0\n",
       "pickup_longitude       49809\n",
       "pickup_latitude        33101\n",
       "rate_code                  0\n",
       "store_and_fwd_flag    648122\n",
       "dropoff_longitude       4987\n",
       "dropoff_latitude        8162\n",
       "surcharge                  0\n",
       "fare_amount                0\n",
       "CRD                        0\n",
       "CSH                        0\n",
       "DIS                        0\n",
       "NOC                        0\n",
       "UNK                        0\n",
       "dtype: int64"
      ]
     },
     "execution_count": 57,
     "metadata": {},
     "output_type": "execute_result"
    }
   ],
   "source": [
    "train.isnull().sum()"
   ]
  },
  {
   "cell_type": "code",
   "execution_count": 58,
   "metadata": {
    "collapsed": false
   },
   "outputs": [
    {
     "data": {
      "text/plain": [
       "TID                       0\n",
       "vendor_id                 0\n",
       "new_user                  0\n",
       "tolls_amount              0\n",
       "tip_amount                0\n",
       "mta_tax                   0\n",
       "pickup_datetime           0\n",
       "dropoff_datetime          0\n",
       "passenger_count           0\n",
       "pickup_longitude      15339\n",
       "pickup_latitude       10095\n",
       "rate_code                 0\n",
       "store_and_fwd_flag        0\n",
       "dropoff_longitude      1584\n",
       "dropoff_latitude       2563\n",
       "surcharge                 0\n",
       "CRD                       0\n",
       "CSH                       0\n",
       "DIS                       0\n",
       "NOC                       0\n",
       "UNK                       0\n",
       "dtype: int64"
      ]
     },
     "execution_count": 58,
     "metadata": {},
     "output_type": "execute_result"
    }
   ],
   "source": [
    "test.isnull().sum()"
   ]
  },
  {
   "cell_type": "code",
   "execution_count": 59,
   "metadata": {
    "collapsed": true
   },
   "outputs": [],
   "source": [
    "train = train.drop('store_and_fwd_flag',axis=1)"
   ]
  },
  {
   "cell_type": "code",
   "execution_count": 60,
   "metadata": {
    "collapsed": false
   },
   "outputs": [
    {
     "data": {
      "text/plain": [
       "TID                      0\n",
       "vendor_id                0\n",
       "new_user                 0\n",
       "tolls_amount             0\n",
       "tip_amount               0\n",
       "mta_tax                  0\n",
       "pickup_datetime          0\n",
       "dropoff_datetime         0\n",
       "passenger_count          0\n",
       "pickup_longitude     49809\n",
       "pickup_latitude      33101\n",
       "rate_code                0\n",
       "dropoff_longitude     4987\n",
       "dropoff_latitude      8162\n",
       "surcharge                0\n",
       "fare_amount              0\n",
       "CRD                      0\n",
       "CSH                      0\n",
       "DIS                      0\n",
       "NOC                      0\n",
       "UNK                      0\n",
       "dtype: int64"
      ]
     },
     "execution_count": 60,
     "metadata": {},
     "output_type": "execute_result"
    }
   ],
   "source": [
    "train.isnull().sum()"
   ]
  },
  {
   "cell_type": "code",
   "execution_count": 61,
   "metadata": {
    "collapsed": true
   },
   "outputs": [],
   "source": [
    "def convert_vendorid(s):\n",
    "    if '401' in s:\n",
    "        return 0\n",
    "    else:\n",
    "        return int(s[-1])"
   ]
  },
  {
   "cell_type": "code",
   "execution_count": 62,
   "metadata": {
    "collapsed": true
   },
   "outputs": [],
   "source": [
    "train['vendor_id'] = train['vendor_id'].apply(lambda x:convert_vendorid(x))\n",
    "test['vendor_id'] = test['vendor_id'].apply(lambda x:convert_vendorid(x))"
   ]
  },
  {
   "cell_type": "code",
   "execution_count": 63,
   "metadata": {
    "collapsed": false
   },
   "outputs": [
    {
     "data": {
      "text/html": [
       "<div>\n",
       "<table border=\"1\" class=\"dataframe\">\n",
       "  <thead>\n",
       "    <tr style=\"text-align: right;\">\n",
       "      <th></th>\n",
       "      <th>TID</th>\n",
       "      <th>vendor_id</th>\n",
       "      <th>new_user</th>\n",
       "      <th>tolls_amount</th>\n",
       "      <th>tip_amount</th>\n",
       "      <th>mta_tax</th>\n",
       "      <th>pickup_datetime</th>\n",
       "      <th>dropoff_datetime</th>\n",
       "      <th>passenger_count</th>\n",
       "      <th>pickup_longitude</th>\n",
       "      <th>...</th>\n",
       "      <th>rate_code</th>\n",
       "      <th>dropoff_longitude</th>\n",
       "      <th>dropoff_latitude</th>\n",
       "      <th>surcharge</th>\n",
       "      <th>fare_amount</th>\n",
       "      <th>CRD</th>\n",
       "      <th>CSH</th>\n",
       "      <th>DIS</th>\n",
       "      <th>NOC</th>\n",
       "      <th>UNK</th>\n",
       "    </tr>\n",
       "  </thead>\n",
       "  <tbody>\n",
       "    <tr>\n",
       "      <th>0</th>\n",
       "      <td>AIX000345001</td>\n",
       "      <td>0</td>\n",
       "      <td>0</td>\n",
       "      <td>0.0</td>\n",
       "      <td>1.4</td>\n",
       "      <td>0.5</td>\n",
       "      <td>2015-04-20 04:18:25</td>\n",
       "      <td>2015-04-20 04:24:20</td>\n",
       "      <td>1</td>\n",
       "      <td>-74.003939</td>\n",
       "      <td>...</td>\n",
       "      <td>1</td>\n",
       "      <td>-73.993369</td>\n",
       "      <td>40.734247</td>\n",
       "      <td>0.5</td>\n",
       "      <td>8.4</td>\n",
       "      <td>1.0</td>\n",
       "      <td>0.0</td>\n",
       "      <td>0.0</td>\n",
       "      <td>0.0</td>\n",
       "      <td>0.0</td>\n",
       "    </tr>\n",
       "    <tr>\n",
       "      <th>1</th>\n",
       "      <td>AIX000345002</td>\n",
       "      <td>0</td>\n",
       "      <td>0</td>\n",
       "      <td>0.0</td>\n",
       "      <td>1.0</td>\n",
       "      <td>0.5</td>\n",
       "      <td>2015-04-19 18:16:07</td>\n",
       "      <td>2015-04-19 18:22:06</td>\n",
       "      <td>3</td>\n",
       "      <td>-73.973864</td>\n",
       "      <td>...</td>\n",
       "      <td>1</td>\n",
       "      <td>-73.958701</td>\n",
       "      <td>40.772533</td>\n",
       "      <td>0.0</td>\n",
       "      <td>8.5</td>\n",
       "      <td>1.0</td>\n",
       "      <td>0.0</td>\n",
       "      <td>0.0</td>\n",
       "      <td>0.0</td>\n",
       "      <td>0.0</td>\n",
       "    </tr>\n",
       "    <tr>\n",
       "      <th>2</th>\n",
       "      <td>AIX000345003</td>\n",
       "      <td>0</td>\n",
       "      <td>0</td>\n",
       "      <td>0.0</td>\n",
       "      <td>0.0</td>\n",
       "      <td>0.5</td>\n",
       "      <td>2015-04-06 08:04:32</td>\n",
       "      <td>2015-04-06 08:10:05</td>\n",
       "      <td>2</td>\n",
       "      <td>-73.954406</td>\n",
       "      <td>...</td>\n",
       "      <td>1</td>\n",
       "      <td>-73.970780</td>\n",
       "      <td>40.758350</td>\n",
       "      <td>0.0</td>\n",
       "      <td>7.0</td>\n",
       "      <td>0.0</td>\n",
       "      <td>1.0</td>\n",
       "      <td>0.0</td>\n",
       "      <td>0.0</td>\n",
       "      <td>0.0</td>\n",
       "    </tr>\n",
       "    <tr>\n",
       "      <th>3</th>\n",
       "      <td>AIX000345004</td>\n",
       "      <td>2</td>\n",
       "      <td>0</td>\n",
       "      <td>0.0</td>\n",
       "      <td>1.8</td>\n",
       "      <td>0.5</td>\n",
       "      <td>2015-04-10 09:48:00</td>\n",
       "      <td>2015-04-10 10:00:00</td>\n",
       "      <td>2</td>\n",
       "      <td>-73.962345</td>\n",
       "      <td>...</td>\n",
       "      <td>1</td>\n",
       "      <td>-73.975512</td>\n",
       "      <td>40.756867</td>\n",
       "      <td>0.0</td>\n",
       "      <td>11.3</td>\n",
       "      <td>1.0</td>\n",
       "      <td>0.0</td>\n",
       "      <td>0.0</td>\n",
       "      <td>0.0</td>\n",
       "      <td>0.0</td>\n",
       "    </tr>\n",
       "    <tr>\n",
       "      <th>4</th>\n",
       "      <td>AIX000345005</td>\n",
       "      <td>0</td>\n",
       "      <td>0</td>\n",
       "      <td>0.0</td>\n",
       "      <td>0.0</td>\n",
       "      <td>0.5</td>\n",
       "      <td>2015-04-15 13:12:48</td>\n",
       "      <td>2015-04-15 13:26:30</td>\n",
       "      <td>1</td>\n",
       "      <td>-74.004657</td>\n",
       "      <td>...</td>\n",
       "      <td>1</td>\n",
       "      <td>-73.999369</td>\n",
       "      <td>40.721517</td>\n",
       "      <td>0.0</td>\n",
       "      <td>10.0</td>\n",
       "      <td>0.0</td>\n",
       "      <td>1.0</td>\n",
       "      <td>0.0</td>\n",
       "      <td>0.0</td>\n",
       "      <td>0.0</td>\n",
       "    </tr>\n",
       "  </tbody>\n",
       "</table>\n",
       "<p>5 rows × 21 columns</p>\n",
       "</div>"
      ],
      "text/plain": [
       "            TID  vendor_id  new_user  tolls_amount  tip_amount  mta_tax  \\\n",
       "0  AIX000345001          0         0           0.0         1.4      0.5   \n",
       "1  AIX000345002          0         0           0.0         1.0      0.5   \n",
       "2  AIX000345003          0         0           0.0         0.0      0.5   \n",
       "3  AIX000345004          2         0           0.0         1.8      0.5   \n",
       "4  AIX000345005          0         0           0.0         0.0      0.5   \n",
       "\n",
       "       pickup_datetime     dropoff_datetime  passenger_count  \\\n",
       "0  2015-04-20 04:18:25  2015-04-20 04:24:20                1   \n",
       "1  2015-04-19 18:16:07  2015-04-19 18:22:06                3   \n",
       "2  2015-04-06 08:04:32  2015-04-06 08:10:05                2   \n",
       "3  2015-04-10 09:48:00  2015-04-10 10:00:00                2   \n",
       "4  2015-04-15 13:12:48  2015-04-15 13:26:30                1   \n",
       "\n",
       "   pickup_longitude ...   rate_code  dropoff_longitude  dropoff_latitude  \\\n",
       "0        -74.003939 ...           1         -73.993369         40.734247   \n",
       "1        -73.973864 ...           1         -73.958701         40.772533   \n",
       "2        -73.954406 ...           1         -73.970780         40.758350   \n",
       "3        -73.962345 ...           1         -73.975512         40.756867   \n",
       "4        -74.004657 ...           1         -73.999369         40.721517   \n",
       "\n",
       "   surcharge  fare_amount  CRD  CSH  DIS  NOC  UNK  \n",
       "0        0.5          8.4  1.0  0.0  0.0  0.0  0.0  \n",
       "1        0.0          8.5  1.0  0.0  0.0  0.0  0.0  \n",
       "2        0.0          7.0  0.0  1.0  0.0  0.0  0.0  \n",
       "3        0.0         11.3  1.0  0.0  0.0  0.0  0.0  \n",
       "4        0.0         10.0  0.0  1.0  0.0  0.0  0.0  \n",
       "\n",
       "[5 rows x 21 columns]"
      ]
     },
     "execution_count": 63,
     "metadata": {},
     "output_type": "execute_result"
    }
   ],
   "source": [
    "train.head()"
   ]
  },
  {
   "cell_type": "code",
   "execution_count": 64,
   "metadata": {
    "collapsed": false
   },
   "outputs": [
    {
     "data": {
      "text/plain": [
       "Index(['TID', 'vendor_id', 'new_user', 'tolls_amount', 'tip_amount', 'mta_tax',\n",
       "       'pickup_datetime', 'dropoff_datetime', 'passenger_count',\n",
       "       'pickup_longitude', 'pickup_latitude', 'rate_code',\n",
       "       'store_and_fwd_flag', 'dropoff_longitude', 'dropoff_latitude',\n",
       "       'surcharge', 'CRD', 'CSH', 'DIS', 'NOC', 'UNK'],\n",
       "      dtype='object')"
      ]
     },
     "execution_count": 64,
     "metadata": {},
     "output_type": "execute_result"
    }
   ],
   "source": [
    "test.columns"
   ]
  },
  {
   "cell_type": "code",
   "execution_count": 65,
   "metadata": {
    "collapsed": true
   },
   "outputs": [],
   "source": [
    "test = test.drop('store_and_fwd_flag',axis=1)"
   ]
  },
  {
   "cell_type": "code",
   "execution_count": 66,
   "metadata": {
    "collapsed": false
   },
   "outputs": [
    {
     "data": {
      "text/plain": [
       "Index(['TID', 'vendor_id', 'new_user', 'tolls_amount', 'tip_amount', 'mta_tax',\n",
       "       'pickup_datetime', 'dropoff_datetime', 'passenger_count',\n",
       "       'pickup_longitude', 'pickup_latitude', 'rate_code', 'dropoff_longitude',\n",
       "       'dropoff_latitude', 'surcharge', 'fare_amount', 'CRD', 'CSH', 'DIS',\n",
       "       'NOC', 'UNK'],\n",
       "      dtype='object')"
      ]
     },
     "execution_count": 66,
     "metadata": {},
     "output_type": "execute_result"
    }
   ],
   "source": [
    "train.columns"
   ]
  },
  {
   "cell_type": "code",
   "execution_count": 67,
   "metadata": {
    "collapsed": true
   },
   "outputs": [],
   "source": [
    "def convert_datetime(X):\n",
    "    X['pickup_datetime'] = X['pickup_datetime'].apply(lambda x:datetime.strptime(x,'%Y-%m-%d %H:%M:%S'))\n",
    "    X['dropoff_datetime'] = X['dropoff_datetime'].apply(lambda x:datetime.strptime(x,'%Y-%m-%d %H:%M:%S'))\n",
    "    return X"
   ]
  },
  {
   "cell_type": "code",
   "execution_count": 68,
   "metadata": {
    "collapsed": true
   },
   "outputs": [],
   "source": [
    "train = convert_datetime(train)\n",
    "test = convert_datetime(test)"
   ]
  },
  {
   "cell_type": "code",
   "execution_count": 69,
   "metadata": {
    "collapsed": false
   },
   "outputs": [
    {
     "data": {
      "text/html": [
       "<div>\n",
       "<table border=\"1\" class=\"dataframe\">\n",
       "  <thead>\n",
       "    <tr style=\"text-align: right;\">\n",
       "      <th></th>\n",
       "      <th>TID</th>\n",
       "      <th>vendor_id</th>\n",
       "      <th>new_user</th>\n",
       "      <th>tolls_amount</th>\n",
       "      <th>tip_amount</th>\n",
       "      <th>mta_tax</th>\n",
       "      <th>pickup_datetime</th>\n",
       "      <th>dropoff_datetime</th>\n",
       "      <th>passenger_count</th>\n",
       "      <th>pickup_longitude</th>\n",
       "      <th>...</th>\n",
       "      <th>rate_code</th>\n",
       "      <th>dropoff_longitude</th>\n",
       "      <th>dropoff_latitude</th>\n",
       "      <th>surcharge</th>\n",
       "      <th>fare_amount</th>\n",
       "      <th>CRD</th>\n",
       "      <th>CSH</th>\n",
       "      <th>DIS</th>\n",
       "      <th>NOC</th>\n",
       "      <th>UNK</th>\n",
       "    </tr>\n",
       "  </thead>\n",
       "  <tbody>\n",
       "    <tr>\n",
       "      <th>0</th>\n",
       "      <td>AIX000345001</td>\n",
       "      <td>0</td>\n",
       "      <td>0</td>\n",
       "      <td>0.0</td>\n",
       "      <td>1.4</td>\n",
       "      <td>0.5</td>\n",
       "      <td>2015-04-20 04:18:25</td>\n",
       "      <td>2015-04-20 04:24:20</td>\n",
       "      <td>1</td>\n",
       "      <td>-74.003939</td>\n",
       "      <td>...</td>\n",
       "      <td>1</td>\n",
       "      <td>-73.993369</td>\n",
       "      <td>40.734247</td>\n",
       "      <td>0.5</td>\n",
       "      <td>8.4</td>\n",
       "      <td>1.0</td>\n",
       "      <td>0.0</td>\n",
       "      <td>0.0</td>\n",
       "      <td>0.0</td>\n",
       "      <td>0.0</td>\n",
       "    </tr>\n",
       "    <tr>\n",
       "      <th>1</th>\n",
       "      <td>AIX000345002</td>\n",
       "      <td>0</td>\n",
       "      <td>0</td>\n",
       "      <td>0.0</td>\n",
       "      <td>1.0</td>\n",
       "      <td>0.5</td>\n",
       "      <td>2015-04-19 18:16:07</td>\n",
       "      <td>2015-04-19 18:22:06</td>\n",
       "      <td>3</td>\n",
       "      <td>-73.973864</td>\n",
       "      <td>...</td>\n",
       "      <td>1</td>\n",
       "      <td>-73.958701</td>\n",
       "      <td>40.772533</td>\n",
       "      <td>0.0</td>\n",
       "      <td>8.5</td>\n",
       "      <td>1.0</td>\n",
       "      <td>0.0</td>\n",
       "      <td>0.0</td>\n",
       "      <td>0.0</td>\n",
       "      <td>0.0</td>\n",
       "    </tr>\n",
       "    <tr>\n",
       "      <th>2</th>\n",
       "      <td>AIX000345003</td>\n",
       "      <td>0</td>\n",
       "      <td>0</td>\n",
       "      <td>0.0</td>\n",
       "      <td>0.0</td>\n",
       "      <td>0.5</td>\n",
       "      <td>2015-04-06 08:04:32</td>\n",
       "      <td>2015-04-06 08:10:05</td>\n",
       "      <td>2</td>\n",
       "      <td>-73.954406</td>\n",
       "      <td>...</td>\n",
       "      <td>1</td>\n",
       "      <td>-73.970780</td>\n",
       "      <td>40.758350</td>\n",
       "      <td>0.0</td>\n",
       "      <td>7.0</td>\n",
       "      <td>0.0</td>\n",
       "      <td>1.0</td>\n",
       "      <td>0.0</td>\n",
       "      <td>0.0</td>\n",
       "      <td>0.0</td>\n",
       "    </tr>\n",
       "    <tr>\n",
       "      <th>3</th>\n",
       "      <td>AIX000345004</td>\n",
       "      <td>2</td>\n",
       "      <td>0</td>\n",
       "      <td>0.0</td>\n",
       "      <td>1.8</td>\n",
       "      <td>0.5</td>\n",
       "      <td>2015-04-10 09:48:00</td>\n",
       "      <td>2015-04-10 10:00:00</td>\n",
       "      <td>2</td>\n",
       "      <td>-73.962345</td>\n",
       "      <td>...</td>\n",
       "      <td>1</td>\n",
       "      <td>-73.975512</td>\n",
       "      <td>40.756867</td>\n",
       "      <td>0.0</td>\n",
       "      <td>11.3</td>\n",
       "      <td>1.0</td>\n",
       "      <td>0.0</td>\n",
       "      <td>0.0</td>\n",
       "      <td>0.0</td>\n",
       "      <td>0.0</td>\n",
       "    </tr>\n",
       "    <tr>\n",
       "      <th>4</th>\n",
       "      <td>AIX000345005</td>\n",
       "      <td>0</td>\n",
       "      <td>0</td>\n",
       "      <td>0.0</td>\n",
       "      <td>0.0</td>\n",
       "      <td>0.5</td>\n",
       "      <td>2015-04-15 13:12:48</td>\n",
       "      <td>2015-04-15 13:26:30</td>\n",
       "      <td>1</td>\n",
       "      <td>-74.004657</td>\n",
       "      <td>...</td>\n",
       "      <td>1</td>\n",
       "      <td>-73.999369</td>\n",
       "      <td>40.721517</td>\n",
       "      <td>0.0</td>\n",
       "      <td>10.0</td>\n",
       "      <td>0.0</td>\n",
       "      <td>1.0</td>\n",
       "      <td>0.0</td>\n",
       "      <td>0.0</td>\n",
       "      <td>0.0</td>\n",
       "    </tr>\n",
       "  </tbody>\n",
       "</table>\n",
       "<p>5 rows × 21 columns</p>\n",
       "</div>"
      ],
      "text/plain": [
       "            TID  vendor_id  new_user  tolls_amount  tip_amount  mta_tax  \\\n",
       "0  AIX000345001          0         0           0.0         1.4      0.5   \n",
       "1  AIX000345002          0         0           0.0         1.0      0.5   \n",
       "2  AIX000345003          0         0           0.0         0.0      0.5   \n",
       "3  AIX000345004          2         0           0.0         1.8      0.5   \n",
       "4  AIX000345005          0         0           0.0         0.0      0.5   \n",
       "\n",
       "      pickup_datetime    dropoff_datetime  passenger_count  pickup_longitude  \\\n",
       "0 2015-04-20 04:18:25 2015-04-20 04:24:20                1        -74.003939   \n",
       "1 2015-04-19 18:16:07 2015-04-19 18:22:06                3        -73.973864   \n",
       "2 2015-04-06 08:04:32 2015-04-06 08:10:05                2        -73.954406   \n",
       "3 2015-04-10 09:48:00 2015-04-10 10:00:00                2        -73.962345   \n",
       "4 2015-04-15 13:12:48 2015-04-15 13:26:30                1        -74.004657   \n",
       "\n",
       "  ...   rate_code  dropoff_longitude  dropoff_latitude  surcharge  \\\n",
       "0 ...           1         -73.993369         40.734247        0.5   \n",
       "1 ...           1         -73.958701         40.772533        0.0   \n",
       "2 ...           1         -73.970780         40.758350        0.0   \n",
       "3 ...           1         -73.975512         40.756867        0.0   \n",
       "4 ...           1         -73.999369         40.721517        0.0   \n",
       "\n",
       "   fare_amount  CRD  CSH  DIS  NOC  UNK  \n",
       "0          8.4  1.0  0.0  0.0  0.0  0.0  \n",
       "1          8.5  1.0  0.0  0.0  0.0  0.0  \n",
       "2          7.0  0.0  1.0  0.0  0.0  0.0  \n",
       "3         11.3  1.0  0.0  0.0  0.0  0.0  \n",
       "4         10.0  0.0  1.0  0.0  0.0  0.0  \n",
       "\n",
       "[5 rows x 21 columns]"
      ]
     },
     "execution_count": 69,
     "metadata": {},
     "output_type": "execute_result"
    }
   ],
   "source": [
    "train.head()"
   ]
  },
  {
   "cell_type": "code",
   "execution_count": 71,
   "metadata": {
    "collapsed": true
   },
   "outputs": [],
   "source": [
    "def cal(X):\n",
    "    df = pd.DataFrame()\n",
    "    df['diff'] = X['dropoff_datetime'] - X['pickup_datetime']\n",
    "    df['diff'] = df['diff'].apply(lambda x:divmod(x.days * 86400 + x.seconds, 60))\n",
    "    df['diff'] = df['diff'].apply(lambda x:abs(x[0]+(x[1]/60)))\n",
    "    return df['diff']"
   ]
  },
  {
   "cell_type": "code",
   "execution_count": 72,
   "metadata": {
    "collapsed": false
   },
   "outputs": [],
   "source": [
    "train['total_jrny'] = cal(train)"
   ]
  },
  {
   "cell_type": "code",
   "execution_count": 73,
   "metadata": {
    "collapsed": false
   },
   "outputs": [
    {
     "data": {
      "text/html": [
       "<div>\n",
       "<table border=\"1\" class=\"dataframe\">\n",
       "  <thead>\n",
       "    <tr style=\"text-align: right;\">\n",
       "      <th></th>\n",
       "      <th>TID</th>\n",
       "      <th>vendor_id</th>\n",
       "      <th>new_user</th>\n",
       "      <th>tolls_amount</th>\n",
       "      <th>tip_amount</th>\n",
       "      <th>mta_tax</th>\n",
       "      <th>pickup_datetime</th>\n",
       "      <th>dropoff_datetime</th>\n",
       "      <th>passenger_count</th>\n",
       "      <th>pickup_longitude</th>\n",
       "      <th>...</th>\n",
       "      <th>dropoff_longitude</th>\n",
       "      <th>dropoff_latitude</th>\n",
       "      <th>surcharge</th>\n",
       "      <th>fare_amount</th>\n",
       "      <th>CRD</th>\n",
       "      <th>CSH</th>\n",
       "      <th>DIS</th>\n",
       "      <th>NOC</th>\n",
       "      <th>UNK</th>\n",
       "      <th>total_jrny</th>\n",
       "    </tr>\n",
       "  </thead>\n",
       "  <tbody>\n",
       "  </tbody>\n",
       "</table>\n",
       "<p>0 rows × 22 columns</p>\n",
       "</div>"
      ],
      "text/plain": [
       "Empty DataFrame\n",
       "Columns: [TID, vendor_id, new_user, tolls_amount, tip_amount, mta_tax, pickup_datetime, dropoff_datetime, passenger_count, pickup_longitude, pickup_latitude, rate_code, dropoff_longitude, dropoff_latitude, surcharge, fare_amount, CRD, CSH, DIS, NOC, UNK, total_jrny]\n",
       "Index: []\n",
       "\n",
       "[0 rows x 22 columns]"
      ]
     },
     "execution_count": 73,
     "metadata": {},
     "output_type": "execute_result"
    }
   ],
   "source": [
    "train[train['total_jrny']<0]"
   ]
  },
  {
   "cell_type": "code",
   "execution_count": 74,
   "metadata": {
    "collapsed": true
   },
   "outputs": [],
   "source": [
    "test['total_jrny'] = cal(test)"
   ]
  },
  {
   "cell_type": "code",
   "execution_count": 76,
   "metadata": {
    "collapsed": false
   },
   "outputs": [
    {
     "data": {
      "text/html": [
       "<div>\n",
       "<table border=\"1\" class=\"dataframe\">\n",
       "  <thead>\n",
       "    <tr style=\"text-align: right;\">\n",
       "      <th></th>\n",
       "      <th>TID</th>\n",
       "      <th>vendor_id</th>\n",
       "      <th>new_user</th>\n",
       "      <th>tolls_amount</th>\n",
       "      <th>tip_amount</th>\n",
       "      <th>mta_tax</th>\n",
       "      <th>pickup_datetime</th>\n",
       "      <th>dropoff_datetime</th>\n",
       "      <th>passenger_count</th>\n",
       "      <th>pickup_longitude</th>\n",
       "      <th>...</th>\n",
       "      <th>dropoff_longitude</th>\n",
       "      <th>dropoff_latitude</th>\n",
       "      <th>surcharge</th>\n",
       "      <th>fare_amount</th>\n",
       "      <th>CRD</th>\n",
       "      <th>CSH</th>\n",
       "      <th>DIS</th>\n",
       "      <th>NOC</th>\n",
       "      <th>UNK</th>\n",
       "      <th>total_jrny</th>\n",
       "    </tr>\n",
       "  </thead>\n",
       "  <tbody>\n",
       "    <tr>\n",
       "      <th>0</th>\n",
       "      <td>AIX000345001</td>\n",
       "      <td>0</td>\n",
       "      <td>0</td>\n",
       "      <td>0.0</td>\n",
       "      <td>1.4</td>\n",
       "      <td>0.5</td>\n",
       "      <td>2015-04-20 04:18:25</td>\n",
       "      <td>2015-04-20 04:24:20</td>\n",
       "      <td>1</td>\n",
       "      <td>-74.003939</td>\n",
       "      <td>...</td>\n",
       "      <td>-73.993369</td>\n",
       "      <td>40.734247</td>\n",
       "      <td>0.5</td>\n",
       "      <td>8.4</td>\n",
       "      <td>1.0</td>\n",
       "      <td>0.0</td>\n",
       "      <td>0.0</td>\n",
       "      <td>0.0</td>\n",
       "      <td>0.0</td>\n",
       "      <td>5.916667</td>\n",
       "    </tr>\n",
       "    <tr>\n",
       "      <th>1</th>\n",
       "      <td>AIX000345002</td>\n",
       "      <td>0</td>\n",
       "      <td>0</td>\n",
       "      <td>0.0</td>\n",
       "      <td>1.0</td>\n",
       "      <td>0.5</td>\n",
       "      <td>2015-04-19 18:16:07</td>\n",
       "      <td>2015-04-19 18:22:06</td>\n",
       "      <td>3</td>\n",
       "      <td>-73.973864</td>\n",
       "      <td>...</td>\n",
       "      <td>-73.958701</td>\n",
       "      <td>40.772533</td>\n",
       "      <td>0.0</td>\n",
       "      <td>8.5</td>\n",
       "      <td>1.0</td>\n",
       "      <td>0.0</td>\n",
       "      <td>0.0</td>\n",
       "      <td>0.0</td>\n",
       "      <td>0.0</td>\n",
       "      <td>5.983333</td>\n",
       "    </tr>\n",
       "    <tr>\n",
       "      <th>2</th>\n",
       "      <td>AIX000345003</td>\n",
       "      <td>0</td>\n",
       "      <td>0</td>\n",
       "      <td>0.0</td>\n",
       "      <td>0.0</td>\n",
       "      <td>0.5</td>\n",
       "      <td>2015-04-06 08:04:32</td>\n",
       "      <td>2015-04-06 08:10:05</td>\n",
       "      <td>2</td>\n",
       "      <td>-73.954406</td>\n",
       "      <td>...</td>\n",
       "      <td>-73.970780</td>\n",
       "      <td>40.758350</td>\n",
       "      <td>0.0</td>\n",
       "      <td>7.0</td>\n",
       "      <td>0.0</td>\n",
       "      <td>1.0</td>\n",
       "      <td>0.0</td>\n",
       "      <td>0.0</td>\n",
       "      <td>0.0</td>\n",
       "      <td>5.550000</td>\n",
       "    </tr>\n",
       "    <tr>\n",
       "      <th>3</th>\n",
       "      <td>AIX000345004</td>\n",
       "      <td>2</td>\n",
       "      <td>0</td>\n",
       "      <td>0.0</td>\n",
       "      <td>1.8</td>\n",
       "      <td>0.5</td>\n",
       "      <td>2015-04-10 09:48:00</td>\n",
       "      <td>2015-04-10 10:00:00</td>\n",
       "      <td>2</td>\n",
       "      <td>-73.962345</td>\n",
       "      <td>...</td>\n",
       "      <td>-73.975512</td>\n",
       "      <td>40.756867</td>\n",
       "      <td>0.0</td>\n",
       "      <td>11.3</td>\n",
       "      <td>1.0</td>\n",
       "      <td>0.0</td>\n",
       "      <td>0.0</td>\n",
       "      <td>0.0</td>\n",
       "      <td>0.0</td>\n",
       "      <td>12.000000</td>\n",
       "    </tr>\n",
       "    <tr>\n",
       "      <th>4</th>\n",
       "      <td>AIX000345005</td>\n",
       "      <td>0</td>\n",
       "      <td>0</td>\n",
       "      <td>0.0</td>\n",
       "      <td>0.0</td>\n",
       "      <td>0.5</td>\n",
       "      <td>2015-04-15 13:12:48</td>\n",
       "      <td>2015-04-15 13:26:30</td>\n",
       "      <td>1</td>\n",
       "      <td>-74.004657</td>\n",
       "      <td>...</td>\n",
       "      <td>-73.999369</td>\n",
       "      <td>40.721517</td>\n",
       "      <td>0.0</td>\n",
       "      <td>10.0</td>\n",
       "      <td>0.0</td>\n",
       "      <td>1.0</td>\n",
       "      <td>0.0</td>\n",
       "      <td>0.0</td>\n",
       "      <td>0.0</td>\n",
       "      <td>13.700000</td>\n",
       "    </tr>\n",
       "  </tbody>\n",
       "</table>\n",
       "<p>5 rows × 22 columns</p>\n",
       "</div>"
      ],
      "text/plain": [
       "            TID  vendor_id  new_user  tolls_amount  tip_amount  mta_tax  \\\n",
       "0  AIX000345001          0         0           0.0         1.4      0.5   \n",
       "1  AIX000345002          0         0           0.0         1.0      0.5   \n",
       "2  AIX000345003          0         0           0.0         0.0      0.5   \n",
       "3  AIX000345004          2         0           0.0         1.8      0.5   \n",
       "4  AIX000345005          0         0           0.0         0.0      0.5   \n",
       "\n",
       "      pickup_datetime    dropoff_datetime  passenger_count  pickup_longitude  \\\n",
       "0 2015-04-20 04:18:25 2015-04-20 04:24:20                1        -74.003939   \n",
       "1 2015-04-19 18:16:07 2015-04-19 18:22:06                3        -73.973864   \n",
       "2 2015-04-06 08:04:32 2015-04-06 08:10:05                2        -73.954406   \n",
       "3 2015-04-10 09:48:00 2015-04-10 10:00:00                2        -73.962345   \n",
       "4 2015-04-15 13:12:48 2015-04-15 13:26:30                1        -74.004657   \n",
       "\n",
       "      ...      dropoff_longitude  dropoff_latitude  surcharge  fare_amount  \\\n",
       "0     ...             -73.993369         40.734247        0.5          8.4   \n",
       "1     ...             -73.958701         40.772533        0.0          8.5   \n",
       "2     ...             -73.970780         40.758350        0.0          7.0   \n",
       "3     ...             -73.975512         40.756867        0.0         11.3   \n",
       "4     ...             -73.999369         40.721517        0.0         10.0   \n",
       "\n",
       "   CRD  CSH  DIS  NOC  UNK  total_jrny  \n",
       "0  1.0  0.0  0.0  0.0  0.0    5.916667  \n",
       "1  1.0  0.0  0.0  0.0  0.0    5.983333  \n",
       "2  0.0  1.0  0.0  0.0  0.0    5.550000  \n",
       "3  1.0  0.0  0.0  0.0  0.0   12.000000  \n",
       "4  0.0  1.0  0.0  0.0  0.0   13.700000  \n",
       "\n",
       "[5 rows x 22 columns]"
      ]
     },
     "execution_count": 76,
     "metadata": {},
     "output_type": "execute_result"
    }
   ],
   "source": [
    "train.head()"
   ]
  },
  {
   "cell_type": "code",
   "execution_count": 75,
   "metadata": {
    "collapsed": false
   },
   "outputs": [
    {
     "data": {
      "text/html": [
       "<div>\n",
       "<table border=\"1\" class=\"dataframe\">\n",
       "  <thead>\n",
       "    <tr style=\"text-align: right;\">\n",
       "      <th></th>\n",
       "      <th>TID</th>\n",
       "      <th>vendor_id</th>\n",
       "      <th>new_user</th>\n",
       "      <th>tolls_amount</th>\n",
       "      <th>tip_amount</th>\n",
       "      <th>mta_tax</th>\n",
       "      <th>pickup_datetime</th>\n",
       "      <th>dropoff_datetime</th>\n",
       "      <th>passenger_count</th>\n",
       "      <th>pickup_longitude</th>\n",
       "      <th>...</th>\n",
       "      <th>rate_code</th>\n",
       "      <th>dropoff_longitude</th>\n",
       "      <th>dropoff_latitude</th>\n",
       "      <th>surcharge</th>\n",
       "      <th>CRD</th>\n",
       "      <th>CSH</th>\n",
       "      <th>DIS</th>\n",
       "      <th>NOC</th>\n",
       "      <th>UNK</th>\n",
       "      <th>total_jrny</th>\n",
       "    </tr>\n",
       "  </thead>\n",
       "  <tbody>\n",
       "    <tr>\n",
       "      <th>0</th>\n",
       "      <td>AJX000119871</td>\n",
       "      <td>1</td>\n",
       "      <td>0</td>\n",
       "      <td>0.0</td>\n",
       "      <td>0.00</td>\n",
       "      <td>0.5</td>\n",
       "      <td>2016-05-14 13:42:33</td>\n",
       "      <td>2016-05-14 13:45:43</td>\n",
       "      <td>1</td>\n",
       "      <td>-73.971794</td>\n",
       "      <td>...</td>\n",
       "      <td>1</td>\n",
       "      <td>-73.972488</td>\n",
       "      <td>40.791576</td>\n",
       "      <td>0.0</td>\n",
       "      <td>0.0</td>\n",
       "      <td>1.0</td>\n",
       "      <td>0.0</td>\n",
       "      <td>0.0</td>\n",
       "      <td>0.0</td>\n",
       "      <td>3.166667</td>\n",
       "    </tr>\n",
       "    <tr>\n",
       "      <th>1</th>\n",
       "      <td>AJX000119872</td>\n",
       "      <td>3</td>\n",
       "      <td>0</td>\n",
       "      <td>0.0</td>\n",
       "      <td>1.26</td>\n",
       "      <td>0.5</td>\n",
       "      <td>2016-05-04 01:24:39</td>\n",
       "      <td>2016-05-04 01:29:21</td>\n",
       "      <td>2</td>\n",
       "      <td>-73.992210</td>\n",
       "      <td>...</td>\n",
       "      <td>1</td>\n",
       "      <td>-73.987244</td>\n",
       "      <td>40.720276</td>\n",
       "      <td>0.5</td>\n",
       "      <td>1.0</td>\n",
       "      <td>0.0</td>\n",
       "      <td>0.0</td>\n",
       "      <td>0.0</td>\n",
       "      <td>0.0</td>\n",
       "      <td>4.700000</td>\n",
       "    </tr>\n",
       "    <tr>\n",
       "      <th>2</th>\n",
       "      <td>AJX000119873</td>\n",
       "      <td>3</td>\n",
       "      <td>0</td>\n",
       "      <td>0.0</td>\n",
       "      <td>0.00</td>\n",
       "      <td>0.5</td>\n",
       "      <td>2016-05-28 15:12:21</td>\n",
       "      <td>2016-05-28 15:25:02</td>\n",
       "      <td>6</td>\n",
       "      <td>-73.991753</td>\n",
       "      <td>...</td>\n",
       "      <td>1</td>\n",
       "      <td>-73.979828</td>\n",
       "      <td>40.761417</td>\n",
       "      <td>0.0</td>\n",
       "      <td>0.0</td>\n",
       "      <td>1.0</td>\n",
       "      <td>0.0</td>\n",
       "      <td>0.0</td>\n",
       "      <td>0.0</td>\n",
       "      <td>12.683333</td>\n",
       "    </tr>\n",
       "    <tr>\n",
       "      <th>3</th>\n",
       "      <td>AJX000119874</td>\n",
       "      <td>3</td>\n",
       "      <td>0</td>\n",
       "      <td>0.0</td>\n",
       "      <td>0.00</td>\n",
       "      <td>0.5</td>\n",
       "      <td>2016-05-02 21:08:40</td>\n",
       "      <td>2016-05-02 21:34:24</td>\n",
       "      <td>4</td>\n",
       "      <td>-73.957588</td>\n",
       "      <td>...</td>\n",
       "      <td>1</td>\n",
       "      <td>-73.919868</td>\n",
       "      <td>40.695366</td>\n",
       "      <td>0.5</td>\n",
       "      <td>0.0</td>\n",
       "      <td>1.0</td>\n",
       "      <td>0.0</td>\n",
       "      <td>0.0</td>\n",
       "      <td>0.0</td>\n",
       "      <td>25.733333</td>\n",
       "    </tr>\n",
       "    <tr>\n",
       "      <th>4</th>\n",
       "      <td>AJX000119875</td>\n",
       "      <td>3</td>\n",
       "      <td>0</td>\n",
       "      <td>0.0</td>\n",
       "      <td>0.00</td>\n",
       "      <td>0.5</td>\n",
       "      <td>2016-05-09 17:00:33</td>\n",
       "      <td>2016-05-09 17:18:45</td>\n",
       "      <td>1</td>\n",
       "      <td>-73.970985</td>\n",
       "      <td>...</td>\n",
       "      <td>1</td>\n",
       "      <td>-73.991409</td>\n",
       "      <td>40.731861</td>\n",
       "      <td>0.0</td>\n",
       "      <td>0.0</td>\n",
       "      <td>1.0</td>\n",
       "      <td>0.0</td>\n",
       "      <td>0.0</td>\n",
       "      <td>0.0</td>\n",
       "      <td>18.200000</td>\n",
       "    </tr>\n",
       "  </tbody>\n",
       "</table>\n",
       "<p>5 rows × 21 columns</p>\n",
       "</div>"
      ],
      "text/plain": [
       "            TID  vendor_id  new_user  tolls_amount  tip_amount  mta_tax  \\\n",
       "0  AJX000119871          1         0           0.0        0.00      0.5   \n",
       "1  AJX000119872          3         0           0.0        1.26      0.5   \n",
       "2  AJX000119873          3         0           0.0        0.00      0.5   \n",
       "3  AJX000119874          3         0           0.0        0.00      0.5   \n",
       "4  AJX000119875          3         0           0.0        0.00      0.5   \n",
       "\n",
       "      pickup_datetime    dropoff_datetime  passenger_count  pickup_longitude  \\\n",
       "0 2016-05-14 13:42:33 2016-05-14 13:45:43                1        -73.971794   \n",
       "1 2016-05-04 01:24:39 2016-05-04 01:29:21                2        -73.992210   \n",
       "2 2016-05-28 15:12:21 2016-05-28 15:25:02                6        -73.991753   \n",
       "3 2016-05-02 21:08:40 2016-05-02 21:34:24                4        -73.957588   \n",
       "4 2016-05-09 17:00:33 2016-05-09 17:18:45                1        -73.970985   \n",
       "\n",
       "      ...      rate_code  dropoff_longitude  dropoff_latitude  surcharge  CRD  \\\n",
       "0     ...              1         -73.972488         40.791576        0.0  0.0   \n",
       "1     ...              1         -73.987244         40.720276        0.5  1.0   \n",
       "2     ...              1         -73.979828         40.761417        0.0  0.0   \n",
       "3     ...              1         -73.919868         40.695366        0.5  0.0   \n",
       "4     ...              1         -73.991409         40.731861        0.0  0.0   \n",
       "\n",
       "   CSH  DIS  NOC  UNK  total_jrny  \n",
       "0  1.0  0.0  0.0  0.0    3.166667  \n",
       "1  0.0  0.0  0.0  0.0    4.700000  \n",
       "2  1.0  0.0  0.0  0.0   12.683333  \n",
       "3  1.0  0.0  0.0  0.0   25.733333  \n",
       "4  1.0  0.0  0.0  0.0   18.200000  \n",
       "\n",
       "[5 rows x 21 columns]"
      ]
     },
     "execution_count": 75,
     "metadata": {},
     "output_type": "execute_result"
    }
   ],
   "source": [
    "test.head()"
   ]
  },
  {
   "cell_type": "code",
   "execution_count": 77,
   "metadata": {
    "collapsed": true
   },
   "outputs": [],
   "source": [
    "train = train.drop(['pickup_datetime','dropoff_datetime'],axis=1)"
   ]
  },
  {
   "cell_type": "code",
   "execution_count": 78,
   "metadata": {
    "collapsed": false
   },
   "outputs": [
    {
     "data": {
      "text/html": [
       "<div>\n",
       "<table border=\"1\" class=\"dataframe\">\n",
       "  <thead>\n",
       "    <tr style=\"text-align: right;\">\n",
       "      <th></th>\n",
       "      <th>TID</th>\n",
       "      <th>vendor_id</th>\n",
       "      <th>new_user</th>\n",
       "      <th>tolls_amount</th>\n",
       "      <th>tip_amount</th>\n",
       "      <th>mta_tax</th>\n",
       "      <th>passenger_count</th>\n",
       "      <th>pickup_longitude</th>\n",
       "      <th>pickup_latitude</th>\n",
       "      <th>rate_code</th>\n",
       "      <th>dropoff_longitude</th>\n",
       "      <th>dropoff_latitude</th>\n",
       "      <th>surcharge</th>\n",
       "      <th>fare_amount</th>\n",
       "      <th>CRD</th>\n",
       "      <th>CSH</th>\n",
       "      <th>DIS</th>\n",
       "      <th>NOC</th>\n",
       "      <th>UNK</th>\n",
       "      <th>total_jrny</th>\n",
       "    </tr>\n",
       "  </thead>\n",
       "  <tbody>\n",
       "    <tr>\n",
       "      <th>0</th>\n",
       "      <td>AIX000345001</td>\n",
       "      <td>0</td>\n",
       "      <td>0</td>\n",
       "      <td>0.0</td>\n",
       "      <td>1.4</td>\n",
       "      <td>0.5</td>\n",
       "      <td>1</td>\n",
       "      <td>-74.003939</td>\n",
       "      <td>40.742894</td>\n",
       "      <td>1</td>\n",
       "      <td>-73.993369</td>\n",
       "      <td>40.734247</td>\n",
       "      <td>0.5</td>\n",
       "      <td>8.4</td>\n",
       "      <td>1.0</td>\n",
       "      <td>0.0</td>\n",
       "      <td>0.0</td>\n",
       "      <td>0.0</td>\n",
       "      <td>0.0</td>\n",
       "      <td>5.916667</td>\n",
       "    </tr>\n",
       "    <tr>\n",
       "      <th>1</th>\n",
       "      <td>AIX000345002</td>\n",
       "      <td>0</td>\n",
       "      <td>0</td>\n",
       "      <td>0.0</td>\n",
       "      <td>1.0</td>\n",
       "      <td>0.5</td>\n",
       "      <td>3</td>\n",
       "      <td>-73.973864</td>\n",
       "      <td>40.752194</td>\n",
       "      <td>1</td>\n",
       "      <td>-73.958701</td>\n",
       "      <td>40.772533</td>\n",
       "      <td>0.0</td>\n",
       "      <td>8.5</td>\n",
       "      <td>1.0</td>\n",
       "      <td>0.0</td>\n",
       "      <td>0.0</td>\n",
       "      <td>0.0</td>\n",
       "      <td>0.0</td>\n",
       "      <td>5.983333</td>\n",
       "    </tr>\n",
       "    <tr>\n",
       "      <th>2</th>\n",
       "      <td>AIX000345003</td>\n",
       "      <td>0</td>\n",
       "      <td>0</td>\n",
       "      <td>0.0</td>\n",
       "      <td>0.0</td>\n",
       "      <td>0.5</td>\n",
       "      <td>2</td>\n",
       "      <td>-73.954406</td>\n",
       "      <td>40.764420</td>\n",
       "      <td>1</td>\n",
       "      <td>-73.970780</td>\n",
       "      <td>40.758350</td>\n",
       "      <td>0.0</td>\n",
       "      <td>7.0</td>\n",
       "      <td>0.0</td>\n",
       "      <td>1.0</td>\n",
       "      <td>0.0</td>\n",
       "      <td>0.0</td>\n",
       "      <td>0.0</td>\n",
       "      <td>5.550000</td>\n",
       "    </tr>\n",
       "    <tr>\n",
       "      <th>3</th>\n",
       "      <td>AIX000345004</td>\n",
       "      <td>2</td>\n",
       "      <td>0</td>\n",
       "      <td>0.0</td>\n",
       "      <td>1.8</td>\n",
       "      <td>0.5</td>\n",
       "      <td>2</td>\n",
       "      <td>-73.962345</td>\n",
       "      <td>40.767215</td>\n",
       "      <td>1</td>\n",
       "      <td>-73.975512</td>\n",
       "      <td>40.756867</td>\n",
       "      <td>0.0</td>\n",
       "      <td>11.3</td>\n",
       "      <td>1.0</td>\n",
       "      <td>0.0</td>\n",
       "      <td>0.0</td>\n",
       "      <td>0.0</td>\n",
       "      <td>0.0</td>\n",
       "      <td>12.000000</td>\n",
       "    </tr>\n",
       "    <tr>\n",
       "      <th>4</th>\n",
       "      <td>AIX000345005</td>\n",
       "      <td>0</td>\n",
       "      <td>0</td>\n",
       "      <td>0.0</td>\n",
       "      <td>0.0</td>\n",
       "      <td>0.5</td>\n",
       "      <td>1</td>\n",
       "      <td>-74.004657</td>\n",
       "      <td>40.707434</td>\n",
       "      <td>1</td>\n",
       "      <td>-73.999369</td>\n",
       "      <td>40.721517</td>\n",
       "      <td>0.0</td>\n",
       "      <td>10.0</td>\n",
       "      <td>0.0</td>\n",
       "      <td>1.0</td>\n",
       "      <td>0.0</td>\n",
       "      <td>0.0</td>\n",
       "      <td>0.0</td>\n",
       "      <td>13.700000</td>\n",
       "    </tr>\n",
       "  </tbody>\n",
       "</table>\n",
       "</div>"
      ],
      "text/plain": [
       "            TID  vendor_id  new_user  tolls_amount  tip_amount  mta_tax  \\\n",
       "0  AIX000345001          0         0           0.0         1.4      0.5   \n",
       "1  AIX000345002          0         0           0.0         1.0      0.5   \n",
       "2  AIX000345003          0         0           0.0         0.0      0.5   \n",
       "3  AIX000345004          2         0           0.0         1.8      0.5   \n",
       "4  AIX000345005          0         0           0.0         0.0      0.5   \n",
       "\n",
       "   passenger_count  pickup_longitude  pickup_latitude  rate_code  \\\n",
       "0                1        -74.003939        40.742894          1   \n",
       "1                3        -73.973864        40.752194          1   \n",
       "2                2        -73.954406        40.764420          1   \n",
       "3                2        -73.962345        40.767215          1   \n",
       "4                1        -74.004657        40.707434          1   \n",
       "\n",
       "   dropoff_longitude  dropoff_latitude  surcharge  fare_amount  CRD  CSH  DIS  \\\n",
       "0         -73.993369         40.734247        0.5          8.4  1.0  0.0  0.0   \n",
       "1         -73.958701         40.772533        0.0          8.5  1.0  0.0  0.0   \n",
       "2         -73.970780         40.758350        0.0          7.0  0.0  1.0  0.0   \n",
       "3         -73.975512         40.756867        0.0         11.3  1.0  0.0  0.0   \n",
       "4         -73.999369         40.721517        0.0         10.0  0.0  1.0  0.0   \n",
       "\n",
       "   NOC  UNK  total_jrny  \n",
       "0  0.0  0.0    5.916667  \n",
       "1  0.0  0.0    5.983333  \n",
       "2  0.0  0.0    5.550000  \n",
       "3  0.0  0.0   12.000000  \n",
       "4  0.0  0.0   13.700000  "
      ]
     },
     "execution_count": 78,
     "metadata": {},
     "output_type": "execute_result"
    }
   ],
   "source": [
    "train.head()"
   ]
  },
  {
   "cell_type": "code",
   "execution_count": 79,
   "metadata": {
    "collapsed": false
   },
   "outputs": [
    {
     "data": {
      "text/html": [
       "<div>\n",
       "<table border=\"1\" class=\"dataframe\">\n",
       "  <thead>\n",
       "    <tr style=\"text-align: right;\">\n",
       "      <th></th>\n",
       "      <th>TID</th>\n",
       "      <th>vendor_id</th>\n",
       "      <th>new_user</th>\n",
       "      <th>tolls_amount</th>\n",
       "      <th>tip_amount</th>\n",
       "      <th>mta_tax</th>\n",
       "      <th>passenger_count</th>\n",
       "      <th>pickup_longitude</th>\n",
       "      <th>pickup_latitude</th>\n",
       "      <th>rate_code</th>\n",
       "      <th>dropoff_longitude</th>\n",
       "      <th>dropoff_latitude</th>\n",
       "      <th>surcharge</th>\n",
       "      <th>CRD</th>\n",
       "      <th>CSH</th>\n",
       "      <th>DIS</th>\n",
       "      <th>NOC</th>\n",
       "      <th>UNK</th>\n",
       "      <th>total_jrny</th>\n",
       "    </tr>\n",
       "  </thead>\n",
       "  <tbody>\n",
       "    <tr>\n",
       "      <th>0</th>\n",
       "      <td>AJX000119871</td>\n",
       "      <td>1</td>\n",
       "      <td>0</td>\n",
       "      <td>0.0</td>\n",
       "      <td>0.00</td>\n",
       "      <td>0.5</td>\n",
       "      <td>1</td>\n",
       "      <td>-73.971794</td>\n",
       "      <td>40.797230</td>\n",
       "      <td>1</td>\n",
       "      <td>-73.972488</td>\n",
       "      <td>40.791576</td>\n",
       "      <td>0.0</td>\n",
       "      <td>0.0</td>\n",
       "      <td>1.0</td>\n",
       "      <td>0.0</td>\n",
       "      <td>0.0</td>\n",
       "      <td>0.0</td>\n",
       "      <td>3.166667</td>\n",
       "    </tr>\n",
       "    <tr>\n",
       "      <th>1</th>\n",
       "      <td>AJX000119872</td>\n",
       "      <td>3</td>\n",
       "      <td>0</td>\n",
       "      <td>0.0</td>\n",
       "      <td>1.26</td>\n",
       "      <td>0.5</td>\n",
       "      <td>2</td>\n",
       "      <td>-73.992210</td>\n",
       "      <td>40.713123</td>\n",
       "      <td>1</td>\n",
       "      <td>-73.987244</td>\n",
       "      <td>40.720276</td>\n",
       "      <td>0.5</td>\n",
       "      <td>1.0</td>\n",
       "      <td>0.0</td>\n",
       "      <td>0.0</td>\n",
       "      <td>0.0</td>\n",
       "      <td>0.0</td>\n",
       "      <td>4.700000</td>\n",
       "    </tr>\n",
       "    <tr>\n",
       "      <th>2</th>\n",
       "      <td>AJX000119873</td>\n",
       "      <td>3</td>\n",
       "      <td>0</td>\n",
       "      <td>0.0</td>\n",
       "      <td>0.00</td>\n",
       "      <td>0.5</td>\n",
       "      <td>6</td>\n",
       "      <td>-73.991753</td>\n",
       "      <td>40.744305</td>\n",
       "      <td>1</td>\n",
       "      <td>-73.979828</td>\n",
       "      <td>40.761417</td>\n",
       "      <td>0.0</td>\n",
       "      <td>0.0</td>\n",
       "      <td>1.0</td>\n",
       "      <td>0.0</td>\n",
       "      <td>0.0</td>\n",
       "      <td>0.0</td>\n",
       "      <td>12.683333</td>\n",
       "    </tr>\n",
       "    <tr>\n",
       "      <th>3</th>\n",
       "      <td>AJX000119874</td>\n",
       "      <td>3</td>\n",
       "      <td>0</td>\n",
       "      <td>0.0</td>\n",
       "      <td>0.00</td>\n",
       "      <td>0.5</td>\n",
       "      <td>4</td>\n",
       "      <td>-73.957588</td>\n",
       "      <td>40.717602</td>\n",
       "      <td>1</td>\n",
       "      <td>-73.919868</td>\n",
       "      <td>40.695366</td>\n",
       "      <td>0.5</td>\n",
       "      <td>0.0</td>\n",
       "      <td>1.0</td>\n",
       "      <td>0.0</td>\n",
       "      <td>0.0</td>\n",
       "      <td>0.0</td>\n",
       "      <td>25.733333</td>\n",
       "    </tr>\n",
       "    <tr>\n",
       "      <th>4</th>\n",
       "      <td>AJX000119875</td>\n",
       "      <td>3</td>\n",
       "      <td>0</td>\n",
       "      <td>0.0</td>\n",
       "      <td>0.00</td>\n",
       "      <td>0.5</td>\n",
       "      <td>1</td>\n",
       "      <td>-73.970985</td>\n",
       "      <td>40.763931</td>\n",
       "      <td>1</td>\n",
       "      <td>-73.991409</td>\n",
       "      <td>40.731861</td>\n",
       "      <td>0.0</td>\n",
       "      <td>0.0</td>\n",
       "      <td>1.0</td>\n",
       "      <td>0.0</td>\n",
       "      <td>0.0</td>\n",
       "      <td>0.0</td>\n",
       "      <td>18.200000</td>\n",
       "    </tr>\n",
       "  </tbody>\n",
       "</table>\n",
       "</div>"
      ],
      "text/plain": [
       "            TID  vendor_id  new_user  tolls_amount  tip_amount  mta_tax  \\\n",
       "0  AJX000119871          1         0           0.0        0.00      0.5   \n",
       "1  AJX000119872          3         0           0.0        1.26      0.5   \n",
       "2  AJX000119873          3         0           0.0        0.00      0.5   \n",
       "3  AJX000119874          3         0           0.0        0.00      0.5   \n",
       "4  AJX000119875          3         0           0.0        0.00      0.5   \n",
       "\n",
       "   passenger_count  pickup_longitude  pickup_latitude  rate_code  \\\n",
       "0                1        -73.971794        40.797230          1   \n",
       "1                2        -73.992210        40.713123          1   \n",
       "2                6        -73.991753        40.744305          1   \n",
       "3                4        -73.957588        40.717602          1   \n",
       "4                1        -73.970985        40.763931          1   \n",
       "\n",
       "   dropoff_longitude  dropoff_latitude  surcharge  CRD  CSH  DIS  NOC  UNK  \\\n",
       "0         -73.972488         40.791576        0.0  0.0  1.0  0.0  0.0  0.0   \n",
       "1         -73.987244         40.720276        0.5  1.0  0.0  0.0  0.0  0.0   \n",
       "2         -73.979828         40.761417        0.0  0.0  1.0  0.0  0.0  0.0   \n",
       "3         -73.919868         40.695366        0.5  0.0  1.0  0.0  0.0  0.0   \n",
       "4         -73.991409         40.731861        0.0  0.0  1.0  0.0  0.0  0.0   \n",
       "\n",
       "   total_jrny  \n",
       "0    3.166667  \n",
       "1    4.700000  \n",
       "2   12.683333  \n",
       "3   25.733333  \n",
       "4   18.200000  "
      ]
     },
     "execution_count": 79,
     "metadata": {},
     "output_type": "execute_result"
    }
   ],
   "source": [
    "test = test.drop(['pickup_datetime','dropoff_datetime'],axis=1)\n",
    "test.head()"
   ]
  },
  {
   "cell_type": "code",
   "execution_count": 80,
   "metadata": {
    "collapsed": false
   },
   "outputs": [
    {
     "data": {
      "text/plain": [
       "TID                      0\n",
       "vendor_id                0\n",
       "new_user                 0\n",
       "tolls_amount             0\n",
       "tip_amount               0\n",
       "mta_tax                  0\n",
       "passenger_count          0\n",
       "pickup_longitude     49809\n",
       "pickup_latitude      33101\n",
       "rate_code                0\n",
       "dropoff_longitude     4987\n",
       "dropoff_latitude      8162\n",
       "surcharge                0\n",
       "fare_amount              0\n",
       "CRD                      0\n",
       "CSH                      0\n",
       "DIS                      0\n",
       "NOC                      0\n",
       "UNK                      0\n",
       "total_jrny               0\n",
       "dtype: int64"
      ]
     },
     "execution_count": 80,
     "metadata": {},
     "output_type": "execute_result"
    }
   ],
   "source": [
    "train.isnull().sum()"
   ]
  },
  {
   "cell_type": "code",
   "execution_count": 81,
   "metadata": {
    "collapsed": false
   },
   "outputs": [
    {
     "data": {
      "text/plain": [
       "TID                      0\n",
       "vendor_id                0\n",
       "new_user                 0\n",
       "tolls_amount             0\n",
       "tip_amount               0\n",
       "mta_tax                  0\n",
       "passenger_count          0\n",
       "pickup_longitude     15339\n",
       "pickup_latitude      10095\n",
       "rate_code                0\n",
       "dropoff_longitude     1584\n",
       "dropoff_latitude      2563\n",
       "surcharge                0\n",
       "CRD                      0\n",
       "CSH                      0\n",
       "DIS                      0\n",
       "NOC                      0\n",
       "UNK                      0\n",
       "total_jrny               0\n",
       "dtype: int64"
      ]
     },
     "execution_count": 81,
     "metadata": {},
     "output_type": "execute_result"
    }
   ],
   "source": [
    "test.isnull().sum()"
   ]
  },
  {
   "cell_type": "code",
   "execution_count": 82,
   "metadata": {
    "collapsed": true
   },
   "outputs": [],
   "source": [
    "from math import cos, asin, sqrt\n",
    "def distance(lat1, lon1, lat2, lon2):\n",
    "    if(np.isnan(lat1) or np.isnan(lon1) or np.isnan(lat2) or np.isnan(lon2)):\n",
    "        return 0\n",
    "    else:\n",
    "        p = 0.017453292519943295     #Pi/180\n",
    "        a = 0.5 - cos((lat2 - lat1) * p)/2 + cos(lat1 * p) * cos(lat2 * p) * (1 - cos((lon2 - lon1) * p)) / 2\n",
    "        return 12742 * asin(sqrt(a))"
   ]
  },
  {
   "cell_type": "code",
   "execution_count": 83,
   "metadata": {
    "collapsed": true
   },
   "outputs": [],
   "source": [
    "train['distance'] = train.apply(lambda row:distance(row['pickup_latitude'],row['pickup_longitude'],row['dropoff_latitude'],row['dropoff_longitude']),axis=1)"
   ]
  },
  {
   "cell_type": "code",
   "execution_count": 84,
   "metadata": {
    "collapsed": false
   },
   "outputs": [
    {
     "data": {
      "text/plain": [
       "54214293.659065835"
      ]
     },
     "execution_count": 84,
     "metadata": {},
     "output_type": "execute_result"
    }
   ],
   "source": [
    "train['distance'].sum()"
   ]
  },
  {
   "cell_type": "code",
   "execution_count": 85,
   "metadata": {
    "collapsed": true
   },
   "outputs": [],
   "source": [
    "test['distance'] = test.apply(lambda row:distance(row['pickup_latitude'],row['pickup_longitude'],row['dropoff_latitude'],row['dropoff_longitude']),axis=1)"
   ]
  },
  {
   "cell_type": "code",
   "execution_count": 86,
   "metadata": {
    "collapsed": false
   },
   "outputs": [
    {
     "data": {
      "text/plain": [
       "17819280.67577609"
      ]
     },
     "execution_count": 86,
     "metadata": {},
     "output_type": "execute_result"
    }
   ],
   "source": [
    "test['distance'].sum()"
   ]
  },
  {
   "cell_type": "code",
   "execution_count": 87,
   "metadata": {
    "collapsed": false
   },
   "outputs": [
    {
     "name": "stdout",
     "output_type": "stream",
     "text": [
      "33.2272437585385\n"
     ]
    }
   ],
   "source": [
    "me = (54214293.659065835+17819280.67577609)/(len(train)+len(test))\n",
    "print(me)"
   ]
  },
  {
   "cell_type": "code",
   "execution_count": 88,
   "metadata": {
    "collapsed": false
   },
   "outputs": [
    {
     "data": {
      "text/plain": [
       "33.2272437585385"
      ]
     },
     "execution_count": 88,
     "metadata": {},
     "output_type": "execute_result"
    }
   ],
   "source": [
    "me"
   ]
  },
  {
   "cell_type": "code",
   "execution_count": 89,
   "metadata": {
    "collapsed": true
   },
   "outputs": [],
   "source": [
    "def update_distance(x,me):\n",
    "    if x==0:\n",
    "        return me\n",
    "    else:\n",
    "        return x"
   ]
  },
  {
   "cell_type": "code",
   "execution_count": 90,
   "metadata": {
    "collapsed": true
   },
   "outputs": [],
   "source": [
    "train['distance'] = train['distance'].apply(lambda x:update_distance(x,me))"
   ]
  },
  {
   "cell_type": "code",
   "execution_count": 91,
   "metadata": {
    "collapsed": true
   },
   "outputs": [],
   "source": [
    "test['distance'] = test['distance'].apply(lambda x:update_distance(x,me))"
   ]
  },
  {
   "cell_type": "code",
   "execution_count": 92,
   "metadata": {
    "collapsed": false
   },
   "outputs": [
    {
     "data": {
      "text/plain": [
       "TID                      0\n",
       "vendor_id                0\n",
       "new_user                 0\n",
       "tolls_amount             0\n",
       "tip_amount               0\n",
       "mta_tax                  0\n",
       "passenger_count          0\n",
       "pickup_longitude     49809\n",
       "pickup_latitude      33101\n",
       "rate_code                0\n",
       "dropoff_longitude     4987\n",
       "dropoff_latitude      8162\n",
       "surcharge                0\n",
       "fare_amount              0\n",
       "CRD                      0\n",
       "CSH                      0\n",
       "DIS                      0\n",
       "NOC                      0\n",
       "UNK                      0\n",
       "total_jrny               0\n",
       "distance                 0\n",
       "dtype: int64"
      ]
     },
     "execution_count": 92,
     "metadata": {},
     "output_type": "execute_result"
    }
   ],
   "source": [
    "train.isnull().sum()"
   ]
  },
  {
   "cell_type": "code",
   "execution_count": 93,
   "metadata": {
    "collapsed": false
   },
   "outputs": [
    {
     "data": {
      "text/html": [
       "<div>\n",
       "<table border=\"1\" class=\"dataframe\">\n",
       "  <thead>\n",
       "    <tr style=\"text-align: right;\">\n",
       "      <th></th>\n",
       "      <th>TID</th>\n",
       "      <th>vendor_id</th>\n",
       "      <th>new_user</th>\n",
       "      <th>tolls_amount</th>\n",
       "      <th>tip_amount</th>\n",
       "      <th>mta_tax</th>\n",
       "      <th>passenger_count</th>\n",
       "      <th>pickup_longitude</th>\n",
       "      <th>pickup_latitude</th>\n",
       "      <th>rate_code</th>\n",
       "      <th>...</th>\n",
       "      <th>dropoff_latitude</th>\n",
       "      <th>surcharge</th>\n",
       "      <th>fare_amount</th>\n",
       "      <th>CRD</th>\n",
       "      <th>CSH</th>\n",
       "      <th>DIS</th>\n",
       "      <th>NOC</th>\n",
       "      <th>UNK</th>\n",
       "      <th>total_jrny</th>\n",
       "      <th>distance</th>\n",
       "    </tr>\n",
       "  </thead>\n",
       "  <tbody>\n",
       "    <tr>\n",
       "      <th>0</th>\n",
       "      <td>AIX000345001</td>\n",
       "      <td>0</td>\n",
       "      <td>0</td>\n",
       "      <td>0.0</td>\n",
       "      <td>1.4</td>\n",
       "      <td>0.5</td>\n",
       "      <td>1</td>\n",
       "      <td>-74.003939</td>\n",
       "      <td>40.742894</td>\n",
       "      <td>1</td>\n",
       "      <td>...</td>\n",
       "      <td>40.734247</td>\n",
       "      <td>0.5</td>\n",
       "      <td>8.4</td>\n",
       "      <td>1.0</td>\n",
       "      <td>0.0</td>\n",
       "      <td>0.0</td>\n",
       "      <td>0.0</td>\n",
       "      <td>0.0</td>\n",
       "      <td>5.916667</td>\n",
       "      <td>1.310554</td>\n",
       "    </tr>\n",
       "    <tr>\n",
       "      <th>1</th>\n",
       "      <td>AIX000345002</td>\n",
       "      <td>0</td>\n",
       "      <td>0</td>\n",
       "      <td>0.0</td>\n",
       "      <td>1.0</td>\n",
       "      <td>0.5</td>\n",
       "      <td>3</td>\n",
       "      <td>-73.973864</td>\n",
       "      <td>40.752194</td>\n",
       "      <td>1</td>\n",
       "      <td>...</td>\n",
       "      <td>40.772533</td>\n",
       "      <td>0.0</td>\n",
       "      <td>8.5</td>\n",
       "      <td>1.0</td>\n",
       "      <td>0.0</td>\n",
       "      <td>0.0</td>\n",
       "      <td>0.0</td>\n",
       "      <td>0.0</td>\n",
       "      <td>5.983333</td>\n",
       "      <td>2.597243</td>\n",
       "    </tr>\n",
       "    <tr>\n",
       "      <th>2</th>\n",
       "      <td>AIX000345003</td>\n",
       "      <td>0</td>\n",
       "      <td>0</td>\n",
       "      <td>0.0</td>\n",
       "      <td>0.0</td>\n",
       "      <td>0.5</td>\n",
       "      <td>2</td>\n",
       "      <td>-73.954406</td>\n",
       "      <td>40.764420</td>\n",
       "      <td>1</td>\n",
       "      <td>...</td>\n",
       "      <td>40.758350</td>\n",
       "      <td>0.0</td>\n",
       "      <td>7.0</td>\n",
       "      <td>0.0</td>\n",
       "      <td>1.0</td>\n",
       "      <td>0.0</td>\n",
       "      <td>0.0</td>\n",
       "      <td>0.0</td>\n",
       "      <td>5.550000</td>\n",
       "      <td>1.535378</td>\n",
       "    </tr>\n",
       "    <tr>\n",
       "      <th>3</th>\n",
       "      <td>AIX000345004</td>\n",
       "      <td>2</td>\n",
       "      <td>0</td>\n",
       "      <td>0.0</td>\n",
       "      <td>1.8</td>\n",
       "      <td>0.5</td>\n",
       "      <td>2</td>\n",
       "      <td>-73.962345</td>\n",
       "      <td>40.767215</td>\n",
       "      <td>1</td>\n",
       "      <td>...</td>\n",
       "      <td>40.756867</td>\n",
       "      <td>0.0</td>\n",
       "      <td>11.3</td>\n",
       "      <td>1.0</td>\n",
       "      <td>0.0</td>\n",
       "      <td>0.0</td>\n",
       "      <td>0.0</td>\n",
       "      <td>0.0</td>\n",
       "      <td>12.000000</td>\n",
       "      <td>1.598049</td>\n",
       "    </tr>\n",
       "    <tr>\n",
       "      <th>4</th>\n",
       "      <td>AIX000345005</td>\n",
       "      <td>0</td>\n",
       "      <td>0</td>\n",
       "      <td>0.0</td>\n",
       "      <td>0.0</td>\n",
       "      <td>0.5</td>\n",
       "      <td>1</td>\n",
       "      <td>-74.004657</td>\n",
       "      <td>40.707434</td>\n",
       "      <td>1</td>\n",
       "      <td>...</td>\n",
       "      <td>40.721517</td>\n",
       "      <td>0.0</td>\n",
       "      <td>10.0</td>\n",
       "      <td>0.0</td>\n",
       "      <td>1.0</td>\n",
       "      <td>0.0</td>\n",
       "      <td>0.0</td>\n",
       "      <td>0.0</td>\n",
       "      <td>13.700000</td>\n",
       "      <td>1.628146</td>\n",
       "    </tr>\n",
       "  </tbody>\n",
       "</table>\n",
       "<p>5 rows × 21 columns</p>\n",
       "</div>"
      ],
      "text/plain": [
       "            TID  vendor_id  new_user  tolls_amount  tip_amount  mta_tax  \\\n",
       "0  AIX000345001          0         0           0.0         1.4      0.5   \n",
       "1  AIX000345002          0         0           0.0         1.0      0.5   \n",
       "2  AIX000345003          0         0           0.0         0.0      0.5   \n",
       "3  AIX000345004          2         0           0.0         1.8      0.5   \n",
       "4  AIX000345005          0         0           0.0         0.0      0.5   \n",
       "\n",
       "   passenger_count  pickup_longitude  pickup_latitude  rate_code    ...     \\\n",
       "0                1        -74.003939        40.742894          1    ...      \n",
       "1                3        -73.973864        40.752194          1    ...      \n",
       "2                2        -73.954406        40.764420          1    ...      \n",
       "3                2        -73.962345        40.767215          1    ...      \n",
       "4                1        -74.004657        40.707434          1    ...      \n",
       "\n",
       "   dropoff_latitude  surcharge  fare_amount  CRD  CSH  DIS  NOC  UNK  \\\n",
       "0         40.734247        0.5          8.4  1.0  0.0  0.0  0.0  0.0   \n",
       "1         40.772533        0.0          8.5  1.0  0.0  0.0  0.0  0.0   \n",
       "2         40.758350        0.0          7.0  0.0  1.0  0.0  0.0  0.0   \n",
       "3         40.756867        0.0         11.3  1.0  0.0  0.0  0.0  0.0   \n",
       "4         40.721517        0.0         10.0  0.0  1.0  0.0  0.0  0.0   \n",
       "\n",
       "   total_jrny  distance  \n",
       "0    5.916667  1.310554  \n",
       "1    5.983333  2.597243  \n",
       "2    5.550000  1.535378  \n",
       "3   12.000000  1.598049  \n",
       "4   13.700000  1.628146  \n",
       "\n",
       "[5 rows x 21 columns]"
      ]
     },
     "execution_count": 93,
     "metadata": {},
     "output_type": "execute_result"
    }
   ],
   "source": [
    "train.head()"
   ]
  },
  {
   "cell_type": "code",
   "execution_count": 94,
   "metadata": {
    "collapsed": false
   },
   "outputs": [
    {
     "data": {
      "text/html": [
       "<div>\n",
       "<table border=\"1\" class=\"dataframe\">\n",
       "  <thead>\n",
       "    <tr style=\"text-align: right;\">\n",
       "      <th></th>\n",
       "      <th>TID</th>\n",
       "      <th>vendor_id</th>\n",
       "      <th>new_user</th>\n",
       "      <th>tolls_amount</th>\n",
       "      <th>tip_amount</th>\n",
       "      <th>mta_tax</th>\n",
       "      <th>passenger_count</th>\n",
       "      <th>pickup_longitude</th>\n",
       "      <th>pickup_latitude</th>\n",
       "      <th>rate_code</th>\n",
       "      <th>dropoff_longitude</th>\n",
       "      <th>dropoff_latitude</th>\n",
       "      <th>surcharge</th>\n",
       "      <th>CRD</th>\n",
       "      <th>CSH</th>\n",
       "      <th>DIS</th>\n",
       "      <th>NOC</th>\n",
       "      <th>UNK</th>\n",
       "      <th>total_jrny</th>\n",
       "      <th>distance</th>\n",
       "    </tr>\n",
       "  </thead>\n",
       "  <tbody>\n",
       "    <tr>\n",
       "      <th>0</th>\n",
       "      <td>AJX000119871</td>\n",
       "      <td>1</td>\n",
       "      <td>0</td>\n",
       "      <td>0.0</td>\n",
       "      <td>0.00</td>\n",
       "      <td>0.5</td>\n",
       "      <td>1</td>\n",
       "      <td>-73.971794</td>\n",
       "      <td>40.797230</td>\n",
       "      <td>1</td>\n",
       "      <td>-73.972488</td>\n",
       "      <td>40.791576</td>\n",
       "      <td>0.0</td>\n",
       "      <td>0.0</td>\n",
       "      <td>1.0</td>\n",
       "      <td>0.0</td>\n",
       "      <td>0.0</td>\n",
       "      <td>0.0</td>\n",
       "      <td>3.166667</td>\n",
       "      <td>0.631338</td>\n",
       "    </tr>\n",
       "    <tr>\n",
       "      <th>1</th>\n",
       "      <td>AJX000119872</td>\n",
       "      <td>3</td>\n",
       "      <td>0</td>\n",
       "      <td>0.0</td>\n",
       "      <td>1.26</td>\n",
       "      <td>0.5</td>\n",
       "      <td>2</td>\n",
       "      <td>-73.992210</td>\n",
       "      <td>40.713123</td>\n",
       "      <td>1</td>\n",
       "      <td>-73.987244</td>\n",
       "      <td>40.720276</td>\n",
       "      <td>0.5</td>\n",
       "      <td>1.0</td>\n",
       "      <td>0.0</td>\n",
       "      <td>0.0</td>\n",
       "      <td>0.0</td>\n",
       "      <td>0.0</td>\n",
       "      <td>4.700000</td>\n",
       "      <td>0.898759</td>\n",
       "    </tr>\n",
       "    <tr>\n",
       "      <th>2</th>\n",
       "      <td>AJX000119873</td>\n",
       "      <td>3</td>\n",
       "      <td>0</td>\n",
       "      <td>0.0</td>\n",
       "      <td>0.00</td>\n",
       "      <td>0.5</td>\n",
       "      <td>6</td>\n",
       "      <td>-73.991753</td>\n",
       "      <td>40.744305</td>\n",
       "      <td>1</td>\n",
       "      <td>-73.979828</td>\n",
       "      <td>40.761417</td>\n",
       "      <td>0.0</td>\n",
       "      <td>0.0</td>\n",
       "      <td>1.0</td>\n",
       "      <td>0.0</td>\n",
       "      <td>0.0</td>\n",
       "      <td>0.0</td>\n",
       "      <td>12.683333</td>\n",
       "      <td>2.151694</td>\n",
       "    </tr>\n",
       "    <tr>\n",
       "      <th>3</th>\n",
       "      <td>AJX000119874</td>\n",
       "      <td>3</td>\n",
       "      <td>0</td>\n",
       "      <td>0.0</td>\n",
       "      <td>0.00</td>\n",
       "      <td>0.5</td>\n",
       "      <td>4</td>\n",
       "      <td>-73.957588</td>\n",
       "      <td>40.717602</td>\n",
       "      <td>1</td>\n",
       "      <td>-73.919868</td>\n",
       "      <td>40.695366</td>\n",
       "      <td>0.5</td>\n",
       "      <td>0.0</td>\n",
       "      <td>1.0</td>\n",
       "      <td>0.0</td>\n",
       "      <td>0.0</td>\n",
       "      <td>0.0</td>\n",
       "      <td>25.733333</td>\n",
       "      <td>4.027715</td>\n",
       "    </tr>\n",
       "    <tr>\n",
       "      <th>4</th>\n",
       "      <td>AJX000119875</td>\n",
       "      <td>3</td>\n",
       "      <td>0</td>\n",
       "      <td>0.0</td>\n",
       "      <td>0.00</td>\n",
       "      <td>0.5</td>\n",
       "      <td>1</td>\n",
       "      <td>-73.970985</td>\n",
       "      <td>40.763931</td>\n",
       "      <td>1</td>\n",
       "      <td>-73.991409</td>\n",
       "      <td>40.731861</td>\n",
       "      <td>0.0</td>\n",
       "      <td>0.0</td>\n",
       "      <td>1.0</td>\n",
       "      <td>0.0</td>\n",
       "      <td>0.0</td>\n",
       "      <td>0.0</td>\n",
       "      <td>18.200000</td>\n",
       "      <td>3.959392</td>\n",
       "    </tr>\n",
       "  </tbody>\n",
       "</table>\n",
       "</div>"
      ],
      "text/plain": [
       "            TID  vendor_id  new_user  tolls_amount  tip_amount  mta_tax  \\\n",
       "0  AJX000119871          1         0           0.0        0.00      0.5   \n",
       "1  AJX000119872          3         0           0.0        1.26      0.5   \n",
       "2  AJX000119873          3         0           0.0        0.00      0.5   \n",
       "3  AJX000119874          3         0           0.0        0.00      0.5   \n",
       "4  AJX000119875          3         0           0.0        0.00      0.5   \n",
       "\n",
       "   passenger_count  pickup_longitude  pickup_latitude  rate_code  \\\n",
       "0                1        -73.971794        40.797230          1   \n",
       "1                2        -73.992210        40.713123          1   \n",
       "2                6        -73.991753        40.744305          1   \n",
       "3                4        -73.957588        40.717602          1   \n",
       "4                1        -73.970985        40.763931          1   \n",
       "\n",
       "   dropoff_longitude  dropoff_latitude  surcharge  CRD  CSH  DIS  NOC  UNK  \\\n",
       "0         -73.972488         40.791576        0.0  0.0  1.0  0.0  0.0  0.0   \n",
       "1         -73.987244         40.720276        0.5  1.0  0.0  0.0  0.0  0.0   \n",
       "2         -73.979828         40.761417        0.0  0.0  1.0  0.0  0.0  0.0   \n",
       "3         -73.919868         40.695366        0.5  0.0  1.0  0.0  0.0  0.0   \n",
       "4         -73.991409         40.731861        0.0  0.0  1.0  0.0  0.0  0.0   \n",
       "\n",
       "   total_jrny  distance  \n",
       "0    3.166667  0.631338  \n",
       "1    4.700000  0.898759  \n",
       "2   12.683333  2.151694  \n",
       "3   25.733333  4.027715  \n",
       "4   18.200000  3.959392  "
      ]
     },
     "execution_count": 94,
     "metadata": {},
     "output_type": "execute_result"
    }
   ],
   "source": [
    "test.head()"
   ]
  },
  {
   "cell_type": "code",
   "execution_count": 95,
   "metadata": {
    "collapsed": true
   },
   "outputs": [],
   "source": [
    "train = train.drop(['pickup_longitude','pickup_latitude','dropoff_longitude',\n",
    "                   'dropoff_latitude'],axis=1)"
   ]
  },
  {
   "cell_type": "code",
   "execution_count": 96,
   "metadata": {
    "collapsed": false
   },
   "outputs": [
    {
     "data": {
      "text/html": [
       "<div>\n",
       "<table border=\"1\" class=\"dataframe\">\n",
       "  <thead>\n",
       "    <tr style=\"text-align: right;\">\n",
       "      <th></th>\n",
       "      <th>TID</th>\n",
       "      <th>vendor_id</th>\n",
       "      <th>new_user</th>\n",
       "      <th>tolls_amount</th>\n",
       "      <th>tip_amount</th>\n",
       "      <th>mta_tax</th>\n",
       "      <th>passenger_count</th>\n",
       "      <th>rate_code</th>\n",
       "      <th>surcharge</th>\n",
       "      <th>fare_amount</th>\n",
       "      <th>CRD</th>\n",
       "      <th>CSH</th>\n",
       "      <th>DIS</th>\n",
       "      <th>NOC</th>\n",
       "      <th>UNK</th>\n",
       "      <th>total_jrny</th>\n",
       "      <th>distance</th>\n",
       "    </tr>\n",
       "  </thead>\n",
       "  <tbody>\n",
       "    <tr>\n",
       "      <th>0</th>\n",
       "      <td>AIX000345001</td>\n",
       "      <td>0</td>\n",
       "      <td>0</td>\n",
       "      <td>0.0</td>\n",
       "      <td>1.4</td>\n",
       "      <td>0.5</td>\n",
       "      <td>1</td>\n",
       "      <td>1</td>\n",
       "      <td>0.5</td>\n",
       "      <td>8.4</td>\n",
       "      <td>1.0</td>\n",
       "      <td>0.0</td>\n",
       "      <td>0.0</td>\n",
       "      <td>0.0</td>\n",
       "      <td>0.0</td>\n",
       "      <td>5.916667</td>\n",
       "      <td>1.310554</td>\n",
       "    </tr>\n",
       "    <tr>\n",
       "      <th>1</th>\n",
       "      <td>AIX000345002</td>\n",
       "      <td>0</td>\n",
       "      <td>0</td>\n",
       "      <td>0.0</td>\n",
       "      <td>1.0</td>\n",
       "      <td>0.5</td>\n",
       "      <td>3</td>\n",
       "      <td>1</td>\n",
       "      <td>0.0</td>\n",
       "      <td>8.5</td>\n",
       "      <td>1.0</td>\n",
       "      <td>0.0</td>\n",
       "      <td>0.0</td>\n",
       "      <td>0.0</td>\n",
       "      <td>0.0</td>\n",
       "      <td>5.983333</td>\n",
       "      <td>2.597243</td>\n",
       "    </tr>\n",
       "    <tr>\n",
       "      <th>2</th>\n",
       "      <td>AIX000345003</td>\n",
       "      <td>0</td>\n",
       "      <td>0</td>\n",
       "      <td>0.0</td>\n",
       "      <td>0.0</td>\n",
       "      <td>0.5</td>\n",
       "      <td>2</td>\n",
       "      <td>1</td>\n",
       "      <td>0.0</td>\n",
       "      <td>7.0</td>\n",
       "      <td>0.0</td>\n",
       "      <td>1.0</td>\n",
       "      <td>0.0</td>\n",
       "      <td>0.0</td>\n",
       "      <td>0.0</td>\n",
       "      <td>5.550000</td>\n",
       "      <td>1.535378</td>\n",
       "    </tr>\n",
       "    <tr>\n",
       "      <th>3</th>\n",
       "      <td>AIX000345004</td>\n",
       "      <td>2</td>\n",
       "      <td>0</td>\n",
       "      <td>0.0</td>\n",
       "      <td>1.8</td>\n",
       "      <td>0.5</td>\n",
       "      <td>2</td>\n",
       "      <td>1</td>\n",
       "      <td>0.0</td>\n",
       "      <td>11.3</td>\n",
       "      <td>1.0</td>\n",
       "      <td>0.0</td>\n",
       "      <td>0.0</td>\n",
       "      <td>0.0</td>\n",
       "      <td>0.0</td>\n",
       "      <td>12.000000</td>\n",
       "      <td>1.598049</td>\n",
       "    </tr>\n",
       "    <tr>\n",
       "      <th>4</th>\n",
       "      <td>AIX000345005</td>\n",
       "      <td>0</td>\n",
       "      <td>0</td>\n",
       "      <td>0.0</td>\n",
       "      <td>0.0</td>\n",
       "      <td>0.5</td>\n",
       "      <td>1</td>\n",
       "      <td>1</td>\n",
       "      <td>0.0</td>\n",
       "      <td>10.0</td>\n",
       "      <td>0.0</td>\n",
       "      <td>1.0</td>\n",
       "      <td>0.0</td>\n",
       "      <td>0.0</td>\n",
       "      <td>0.0</td>\n",
       "      <td>13.700000</td>\n",
       "      <td>1.628146</td>\n",
       "    </tr>\n",
       "  </tbody>\n",
       "</table>\n",
       "</div>"
      ],
      "text/plain": [
       "            TID  vendor_id  new_user  tolls_amount  tip_amount  mta_tax  \\\n",
       "0  AIX000345001          0         0           0.0         1.4      0.5   \n",
       "1  AIX000345002          0         0           0.0         1.0      0.5   \n",
       "2  AIX000345003          0         0           0.0         0.0      0.5   \n",
       "3  AIX000345004          2         0           0.0         1.8      0.5   \n",
       "4  AIX000345005          0         0           0.0         0.0      0.5   \n",
       "\n",
       "   passenger_count  rate_code  surcharge  fare_amount  CRD  CSH  DIS  NOC  \\\n",
       "0                1          1        0.5          8.4  1.0  0.0  0.0  0.0   \n",
       "1                3          1        0.0          8.5  1.0  0.0  0.0  0.0   \n",
       "2                2          1        0.0          7.0  0.0  1.0  0.0  0.0   \n",
       "3                2          1        0.0         11.3  1.0  0.0  0.0  0.0   \n",
       "4                1          1        0.0         10.0  0.0  1.0  0.0  0.0   \n",
       "\n",
       "   UNK  total_jrny  distance  \n",
       "0  0.0    5.916667  1.310554  \n",
       "1  0.0    5.983333  2.597243  \n",
       "2  0.0    5.550000  1.535378  \n",
       "3  0.0   12.000000  1.598049  \n",
       "4  0.0   13.700000  1.628146  "
      ]
     },
     "execution_count": 96,
     "metadata": {},
     "output_type": "execute_result"
    }
   ],
   "source": [
    "train.head()"
   ]
  },
  {
   "cell_type": "code",
   "execution_count": 97,
   "metadata": {
    "collapsed": false
   },
   "outputs": [
    {
     "data": {
      "text/html": [
       "<div>\n",
       "<table border=\"1\" class=\"dataframe\">\n",
       "  <thead>\n",
       "    <tr style=\"text-align: right;\">\n",
       "      <th></th>\n",
       "      <th>TID</th>\n",
       "      <th>vendor_id</th>\n",
       "      <th>new_user</th>\n",
       "      <th>tolls_amount</th>\n",
       "      <th>tip_amount</th>\n",
       "      <th>mta_tax</th>\n",
       "      <th>passenger_count</th>\n",
       "      <th>rate_code</th>\n",
       "      <th>surcharge</th>\n",
       "      <th>CRD</th>\n",
       "      <th>CSH</th>\n",
       "      <th>DIS</th>\n",
       "      <th>NOC</th>\n",
       "      <th>UNK</th>\n",
       "      <th>total_jrny</th>\n",
       "      <th>distance</th>\n",
       "    </tr>\n",
       "  </thead>\n",
       "  <tbody>\n",
       "    <tr>\n",
       "      <th>0</th>\n",
       "      <td>AJX000119871</td>\n",
       "      <td>1</td>\n",
       "      <td>0</td>\n",
       "      <td>0.0</td>\n",
       "      <td>0.00</td>\n",
       "      <td>0.5</td>\n",
       "      <td>1</td>\n",
       "      <td>1</td>\n",
       "      <td>0.0</td>\n",
       "      <td>0.0</td>\n",
       "      <td>1.0</td>\n",
       "      <td>0.0</td>\n",
       "      <td>0.0</td>\n",
       "      <td>0.0</td>\n",
       "      <td>3.166667</td>\n",
       "      <td>0.631338</td>\n",
       "    </tr>\n",
       "    <tr>\n",
       "      <th>1</th>\n",
       "      <td>AJX000119872</td>\n",
       "      <td>3</td>\n",
       "      <td>0</td>\n",
       "      <td>0.0</td>\n",
       "      <td>1.26</td>\n",
       "      <td>0.5</td>\n",
       "      <td>2</td>\n",
       "      <td>1</td>\n",
       "      <td>0.5</td>\n",
       "      <td>1.0</td>\n",
       "      <td>0.0</td>\n",
       "      <td>0.0</td>\n",
       "      <td>0.0</td>\n",
       "      <td>0.0</td>\n",
       "      <td>4.700000</td>\n",
       "      <td>0.898759</td>\n",
       "    </tr>\n",
       "    <tr>\n",
       "      <th>2</th>\n",
       "      <td>AJX000119873</td>\n",
       "      <td>3</td>\n",
       "      <td>0</td>\n",
       "      <td>0.0</td>\n",
       "      <td>0.00</td>\n",
       "      <td>0.5</td>\n",
       "      <td>6</td>\n",
       "      <td>1</td>\n",
       "      <td>0.0</td>\n",
       "      <td>0.0</td>\n",
       "      <td>1.0</td>\n",
       "      <td>0.0</td>\n",
       "      <td>0.0</td>\n",
       "      <td>0.0</td>\n",
       "      <td>12.683333</td>\n",
       "      <td>2.151694</td>\n",
       "    </tr>\n",
       "    <tr>\n",
       "      <th>3</th>\n",
       "      <td>AJX000119874</td>\n",
       "      <td>3</td>\n",
       "      <td>0</td>\n",
       "      <td>0.0</td>\n",
       "      <td>0.00</td>\n",
       "      <td>0.5</td>\n",
       "      <td>4</td>\n",
       "      <td>1</td>\n",
       "      <td>0.5</td>\n",
       "      <td>0.0</td>\n",
       "      <td>1.0</td>\n",
       "      <td>0.0</td>\n",
       "      <td>0.0</td>\n",
       "      <td>0.0</td>\n",
       "      <td>25.733333</td>\n",
       "      <td>4.027715</td>\n",
       "    </tr>\n",
       "    <tr>\n",
       "      <th>4</th>\n",
       "      <td>AJX000119875</td>\n",
       "      <td>3</td>\n",
       "      <td>0</td>\n",
       "      <td>0.0</td>\n",
       "      <td>0.00</td>\n",
       "      <td>0.5</td>\n",
       "      <td>1</td>\n",
       "      <td>1</td>\n",
       "      <td>0.0</td>\n",
       "      <td>0.0</td>\n",
       "      <td>1.0</td>\n",
       "      <td>0.0</td>\n",
       "      <td>0.0</td>\n",
       "      <td>0.0</td>\n",
       "      <td>18.200000</td>\n",
       "      <td>3.959392</td>\n",
       "    </tr>\n",
       "  </tbody>\n",
       "</table>\n",
       "</div>"
      ],
      "text/plain": [
       "            TID  vendor_id  new_user  tolls_amount  tip_amount  mta_tax  \\\n",
       "0  AJX000119871          1         0           0.0        0.00      0.5   \n",
       "1  AJX000119872          3         0           0.0        1.26      0.5   \n",
       "2  AJX000119873          3         0           0.0        0.00      0.5   \n",
       "3  AJX000119874          3         0           0.0        0.00      0.5   \n",
       "4  AJX000119875          3         0           0.0        0.00      0.5   \n",
       "\n",
       "   passenger_count  rate_code  surcharge  CRD  CSH  DIS  NOC  UNK  total_jrny  \\\n",
       "0                1          1        0.0  0.0  1.0  0.0  0.0  0.0    3.166667   \n",
       "1                2          1        0.5  1.0  0.0  0.0  0.0  0.0    4.700000   \n",
       "2                6          1        0.0  0.0  1.0  0.0  0.0  0.0   12.683333   \n",
       "3                4          1        0.5  0.0  1.0  0.0  0.0  0.0   25.733333   \n",
       "4                1          1        0.0  0.0  1.0  0.0  0.0  0.0   18.200000   \n",
       "\n",
       "   distance  \n",
       "0  0.631338  \n",
       "1  0.898759  \n",
       "2  2.151694  \n",
       "3  4.027715  \n",
       "4  3.959392  "
      ]
     },
     "execution_count": 97,
     "metadata": {},
     "output_type": "execute_result"
    }
   ],
   "source": [
    "test = test.drop(['pickup_longitude','pickup_latitude','dropoff_longitude',\n",
    "                   'dropoff_latitude'],axis=1)\n",
    "test.head()"
   ]
  },
  {
   "cell_type": "code",
   "execution_count": 168,
   "metadata": {
    "collapsed": true
   },
   "outputs": [],
   "source": [
    "train.to_csv('updated_train.csv',index=False)\n",
    "test.to_csv('updated_test.csv',index=False)"
   ]
  },
  {
   "cell_type": "code",
   "execution_count": 99,
   "metadata": {
    "collapsed": true
   },
   "outputs": [],
   "source": [
    "features = ['vendor_id','tolls_amount', 'tip_amount', 'mta_tax','passenger_count','rate_code','surcharge',\n",
    "            'total_jrny', 'CRD','CSH', 'DIS', 'NOC', 'UNK', 'distance']"
   ]
  },
  {
   "cell_type": "code",
   "execution_count": 115,
   "metadata": {
    "collapsed": true
   },
   "outputs": [],
   "source": [
    "df1 = train.sample(frac=0.01)"
   ]
  },
  {
   "cell_type": "code",
   "execution_count": 116,
   "metadata": {
    "collapsed": false
   },
   "outputs": [
    {
     "data": {
      "text/plain": [
       "16581"
      ]
     },
     "execution_count": 116,
     "metadata": {},
     "output_type": "execute_result"
    }
   ],
   "source": [
    "len(df1)"
   ]
  },
  {
   "cell_type": "code",
   "execution_count": 129,
   "metadata": {
    "collapsed": true
   },
   "outputs": [],
   "source": [
    "X_new = df1[features]\n",
    "y_new = np.sqrt(df1['fare_amount'])"
   ]
  },
  {
   "cell_type": "code",
   "execution_count": 130,
   "metadata": {
    "collapsed": false
   },
   "outputs": [
    {
     "data": {
      "text/plain": [
       "({'max_depth': 9, 'min_child_weight': 3}, 0.9726829952875035)"
      ]
     },
     "execution_count": 130,
     "metadata": {},
     "output_type": "execute_result"
    }
   ],
   "source": [
    "# parameter testing first\n",
    "param_test1 = {\n",
    " 'max_depth':[3,5,7,9],\n",
    " 'min_child_weight':[1,3,5]\n",
    "}\n",
    "gsearch1 = GridSearchCV(estimator = XGBRegressor(learning_rate =0.1, n_estimators=100, max_depth=2,\n",
    " min_child_weight=1, gamma=0.0, colsample_bylevel=0.85 , colsample_bytree=0.85,max_delta_step=0,\n",
    " objective= 'reg:linear', nthread=4, scale_pos_weight=1, seed=27,subsample=1,reg_alpha=0,reg_lambda=1),\n",
    " param_grid = param_test1,n_jobs=4,iid=False, cv=10)\n",
    "gsearch1.fit(X_new,y_new)\n",
    "gsearch1.best_params_, gsearch1.best_score_"
   ]
  },
  {
   "cell_type": "code",
   "execution_count": 131,
   "metadata": {
    "collapsed": false
   },
   "outputs": [
    {
     "data": {
      "text/plain": [
       "({'max_depth': 9, 'min_child_weight': 3}, 0.9726829952875035)"
      ]
     },
     "execution_count": 131,
     "metadata": {},
     "output_type": "execute_result"
    }
   ],
   "source": [
    "param_test2 = {\n",
    " 'max_depth':[9,10,11,12],\n",
    " 'min_child_weight':[2,3,4]\n",
    "}\n",
    "gsearch2 = GridSearchCV(estimator = XGBRegressor(learning_rate =0.1, n_estimators=100, max_depth=2,\n",
    " min_child_weight=1, gamma=0.0, colsample_bylevel=0.85 , colsample_bytree=0.85,max_delta_step=0,\n",
    " objective= 'reg:linear', nthread=4, scale_pos_weight=1, seed=27,subsample=1,reg_alpha=0,reg_lambda=1),\n",
    " param_grid = param_test2,n_jobs=4,iid=False, cv=10)\n",
    "gsearch2.fit(X_new,y_new)\n",
    "gsearch2.best_params_, gsearch2.best_score_"
   ]
  },
  {
   "cell_type": "code",
   "execution_count": 133,
   "metadata": {
    "collapsed": false
   },
   "outputs": [
    {
     "data": {
      "text/plain": [
       "({'gamma': 0.005}, 0.9727370540281546)"
      ]
     },
     "execution_count": 133,
     "metadata": {},
     "output_type": "execute_result"
    }
   ],
   "source": [
    "param_test3 = {\n",
    " 'gamma':[0.0,0.003,0.005,0.007]\n",
    "}\n",
    "gsearch3 = GridSearchCV(estimator = XGBRegressor(learning_rate =0.1, n_estimators=100, max_depth=9,\n",
    " min_child_weight=3, gamma=0.0, colsample_bylevel=0.85 , colsample_bytree=0.85,max_delta_step=0,\n",
    " objective= 'reg:linear', nthread=4, scale_pos_weight=1, seed=27,subsample=1,reg_alpha=0,reg_lambda=1),\n",
    " param_grid = param_test3,n_jobs=4,iid=False, cv=10)\n",
    "gsearch3.fit(X_new,y_new)\n",
    "gsearch3.best_params_, gsearch3.best_score_"
   ]
  },
  {
   "cell_type": "code",
   "execution_count": 135,
   "metadata": {
    "collapsed": false
   },
   "outputs": [
    {
     "data": {
      "text/plain": [
       "({'colsample_bytree': 0.6, 'subsample': 0.7}, 0.9725523449120909)"
      ]
     },
     "execution_count": 135,
     "metadata": {},
     "output_type": "execute_result"
    }
   ],
   "source": [
    "param_test4 = {\n",
    " 'subsample':[i/10.0 for i in range(6,10)],\n",
    " 'colsample_bytree':[i/10.0 for i in range(6,10)]\n",
    "}\n",
    "gsearch4 = GridSearchCV(estimator = XGBRegressor(learning_rate =0.1, n_estimators=100, max_depth=9,\n",
    " min_child_weight=3, gamma=0.005, colsample_bylevel=0.85 , colsample_bytree=0.85,max_delta_step=0,\n",
    " objective= 'reg:linear', nthread=4, scale_pos_weight=1, seed=27,subsample=1,reg_alpha=0,reg_lambda=1),\n",
    " param_grid = param_test4,n_jobs=4,iid=False, cv=10)\n",
    "gsearch4.fit(X_new,y_new)\n",
    "gsearch4.best_params_, gsearch4.best_score_"
   ]
  },
  {
   "cell_type": "code",
   "execution_count": 136,
   "metadata": {
    "collapsed": false
   },
   "outputs": [
    {
     "data": {
      "text/plain": [
       "({'colsample_bytree': 0.6, 'subsample': 0.7}, 0.9725523449120909)"
      ]
     },
     "execution_count": 136,
     "metadata": {},
     "output_type": "execute_result"
    }
   ],
   "source": [
    "param_test4 = {\n",
    " 'subsample':[0.65,0.70,0.75],\n",
    " 'colsample_bytree':[0.55,0.60,0.65]\n",
    "}\n",
    "gsearch4 = GridSearchCV(estimator = XGBRegressor(learning_rate =0.1, n_estimators=100, max_depth=9,\n",
    " min_child_weight=3, gamma=0.005, colsample_bylevel=0.85 , colsample_bytree=0.85,max_delta_step=0,\n",
    " objective= 'reg:linear', nthread=4, scale_pos_weight=1, seed=27,subsample=1,reg_alpha=0,reg_lambda=1),\n",
    " param_grid = param_test4,n_jobs=4,iid=False, cv=10)\n",
    "gsearch4.fit(X_new,y_new)\n",
    "gsearch4.best_params_, gsearch4.best_score_"
   ]
  },
  {
   "cell_type": "code",
   "execution_count": 137,
   "metadata": {
    "collapsed": false
   },
   "outputs": [
    {
     "data": {
      "text/plain": [
       "({'reg_alpha': 0.01}, 0.9728233652127208)"
      ]
     },
     "execution_count": 137,
     "metadata": {},
     "output_type": "execute_result"
    }
   ],
   "source": [
    "param_test5 = {\n",
    " 'reg_alpha':[1e-5, 1e-2, 0.1, 1, 100]\n",
    "}\n",
    "gsearch5 = GridSearchCV(estimator = XGBRegressor(learning_rate =0.1, n_estimators=100, max_depth=9,\n",
    " min_child_weight=3, gamma=0.005, colsample_bylevel=0.85 , colsample_bytree=0.6,max_delta_step=0,\n",
    " objective= 'reg:linear', nthread=4, scale_pos_weight=1, seed=27,subsample=0.7,reg_alpha=0,reg_lambda=1),\n",
    " param_grid = param_test5,n_jobs=4,iid=False, cv=10)\n",
    "gsearch5.fit(X_new,y_new)\n",
    "gsearch5.best_params_, gsearch5.best_score_"
   ]
  },
  {
   "cell_type": "code",
   "execution_count": 138,
   "metadata": {
    "collapsed": false
   },
   "outputs": [
    {
     "data": {
      "text/plain": [
       "({'reg_alpha': 0.01}, 0.9728233652127208)"
      ]
     },
     "execution_count": 138,
     "metadata": {},
     "output_type": "execute_result"
    }
   ],
   "source": [
    "param_test6 = {\n",
    " 'reg_alpha':[0, 0.001, 0.005, 0.01, 0.05]\n",
    "}\n",
    "gsearch6 = GridSearchCV(estimator = XGBRegressor(learning_rate =0.1, n_estimators=100, max_depth=9,\n",
    " min_child_weight=3, gamma=0.005, colsample_bylevel=0.85 , colsample_bytree=0.6,max_delta_step=0,\n",
    " objective= 'reg:linear', nthread=4, scale_pos_weight=1, seed=27,subsample=0.7,reg_alpha=0,reg_lambda=1),\n",
    " param_grid = param_test6,n_jobs=4,iid=False, cv=10)\n",
    "gsearch6.fit(X_new,y_new)\n",
    "gsearch6.best_params_, gsearch6.best_score_"
   ]
  },
  {
   "cell_type": "code",
   "execution_count": 141,
   "metadata": {
    "collapsed": false
   },
   "outputs": [
    {
     "data": {
      "text/plain": [
       "({'colsample_bytree': 0.6}, 0.9728233652127208)"
      ]
     },
     "execution_count": 141,
     "metadata": {},
     "output_type": "execute_result"
    }
   ],
   "source": [
    "param_test7 = {\n",
    " 'colsample_bytree':[0.5,0.6,0.7]\n",
    "}\n",
    "gsearch7 = GridSearchCV(estimator = XGBRegressor(learning_rate =0.1, n_estimators=100, max_depth=9,\n",
    " min_child_weight=3, gamma=0.005, colsample_bylevel=0.85 , colsample_bytree=0.6,max_delta_step=0,\n",
    " objective= 'reg:linear', nthread=4, scale_pos_weight=1, seed=27,subsample=0.7,reg_alpha=0.01,reg_lambda=1),\n",
    " param_grid = param_test7,n_jobs=4,iid=False, cv=10)\n",
    "gsearch7.fit(X_new,y_new)\n",
    "gsearch7.best_params_, gsearch7.best_score_"
   ]
  },
  {
   "cell_type": "code",
   "execution_count": 154,
   "metadata": {
    "collapsed": true
   },
   "outputs": [],
   "source": [
    "xgbmodel = XGBRegressor(learning_rate =0.01, n_estimators=500, max_depth=9,\n",
    " min_child_weight=3, gamma=0.005, colsample_bylevel=0.60 , colsample_bytree=0.6,\n",
    " objective= 'reg:linear', nthread=4, scale_pos_weight=1, seed=27,subsample=0.7,reg_alpha=0.01)"
   ]
  },
  {
   "cell_type": "code",
   "execution_count": 155,
   "metadata": {
    "collapsed": true
   },
   "outputs": [],
   "source": [
    "X = train[features]\n",
    "y = np.sqrt(train['fare_amount'])"
   ]
  },
  {
   "cell_type": "code",
   "execution_count": 145,
   "metadata": {
    "collapsed": true
   },
   "outputs": [],
   "source": [
    "from sklearn import linear_model\n",
    "from sklearn.metrics import mean_squared_error, r2_score\n",
    "from sklearn.linear_model import LinearRegression"
   ]
  },
  {
   "cell_type": "code",
   "execution_count": 156,
   "metadata": {
    "collapsed": false
   },
   "outputs": [
    {
     "data": {
      "text/plain": [
       "XGBRegressor(base_score=0.5, colsample_bylevel=0.6, colsample_bytree=0.6,\n",
       "       gamma=0.005, learning_rate=0.01, max_delta_step=0, max_depth=9,\n",
       "       min_child_weight=3, missing=None, n_estimators=500, nthread=4,\n",
       "       objective='reg:linear', reg_alpha=0.01, reg_lambda=1,\n",
       "       scale_pos_weight=1, seed=27, silent=True, subsample=0.7)"
      ]
     },
     "execution_count": 156,
     "metadata": {},
     "output_type": "execute_result"
    }
   ],
   "source": [
    "xgbmodel.fit(X,y)"
   ]
  },
  {
   "cell_type": "code",
   "execution_count": 146,
   "metadata": {
    "collapsed": true
   },
   "outputs": [],
   "source": [
    "linmodel = LinearRegression(normalize=True)"
   ]
  },
  {
   "cell_type": "code",
   "execution_count": 147,
   "metadata": {
    "collapsed": false
   },
   "outputs": [
    {
     "data": {
      "text/plain": [
       "LinearRegression(copy_X=True, fit_intercept=True, n_jobs=1, normalize=True)"
      ]
     },
     "execution_count": 147,
     "metadata": {},
     "output_type": "execute_result"
    }
   ],
   "source": [
    "linmodel.fit(X,y)"
   ]
  },
  {
   "cell_type": "code",
   "execution_count": 157,
   "metadata": {
    "collapsed": false
   },
   "outputs": [
    {
     "data": {
      "text/plain": [
       "array([ 0.0591002 ,  0.07340491,  0.17585714,  0.03237212,  0.03537254,\n",
       "        0.05266957,  0.07478348,  0.22665347,  0.02620098,  0.02504136,\n",
       "        0.00718479,  0.01979467,  0.00672257,  0.1848422 ], dtype=float32)"
      ]
     },
     "execution_count": 157,
     "metadata": {},
     "output_type": "execute_result"
    }
   ],
   "source": [
    "arr = xgbmodel.feature_importances_\n",
    "arr"
   ]
  },
  {
   "cell_type": "code",
   "execution_count": 149,
   "metadata": {
    "collapsed": true
   },
   "outputs": [],
   "source": [
    "X_test = test[features]"
   ]
  },
  {
   "cell_type": "code",
   "execution_count": 158,
   "metadata": {
    "collapsed": true
   },
   "outputs": [],
   "source": [
    "pred = xgbmodel.predict(X_test)\n",
    "pred = np.square(pred)"
   ]
  },
  {
   "cell_type": "code",
   "execution_count": 151,
   "metadata": {
    "collapsed": true
   },
   "outputs": [],
   "source": [
    "pred_lin = linmodel.predict(X_test)\n",
    "pred_lin = np.square(pred_lin)"
   ]
  },
  {
   "cell_type": "code",
   "execution_count": 152,
   "metadata": {
    "collapsed": false
   },
   "outputs": [
    {
     "data": {
      "text/plain": [
       "(4.9146967, 10.397367579920683)"
      ]
     },
     "execution_count": 152,
     "metadata": {},
     "output_type": "execute_result"
    }
   ],
   "source": [
    "pred[0],pred_lin[0]"
   ]
  },
  {
   "cell_type": "code",
   "execution_count": 167,
   "metadata": {
    "collapsed": false
   },
   "outputs": [
    {
     "data": {
      "text/html": [
       "<div>\n",
       "<table border=\"1\" class=\"dataframe\">\n",
       "  <thead>\n",
       "    <tr style=\"text-align: right;\">\n",
       "      <th></th>\n",
       "      <th>TID</th>\n",
       "      <th>fare_amount</th>\n",
       "    </tr>\n",
       "  </thead>\n",
       "  <tbody>\n",
       "    <tr>\n",
       "      <th>0</th>\n",
       "      <td>AJX000119871</td>\n",
       "      <td>4.921615</td>\n",
       "    </tr>\n",
       "    <tr>\n",
       "      <th>1</th>\n",
       "      <td>AJX000119872</td>\n",
       "      <td>7.663007</td>\n",
       "    </tr>\n",
       "    <tr>\n",
       "      <th>2</th>\n",
       "      <td>AJX000119873</td>\n",
       "      <td>10.636740</td>\n",
       "    </tr>\n",
       "    <tr>\n",
       "      <th>3</th>\n",
       "      <td>AJX000119874</td>\n",
       "      <td>19.708366</td>\n",
       "    </tr>\n",
       "    <tr>\n",
       "      <th>4</th>\n",
       "      <td>AJX000119875</td>\n",
       "      <td>15.345366</td>\n",
       "    </tr>\n",
       "  </tbody>\n",
       "</table>\n",
       "</div>"
      ],
      "text/plain": [
       "            TID  fare_amount\n",
       "0  AJX000119871     4.921615\n",
       "1  AJX000119872     7.663007\n",
       "2  AJX000119873    10.636740\n",
       "3  AJX000119874    19.708366\n",
       "4  AJX000119875    15.345366"
      ]
     },
     "execution_count": 167,
     "metadata": {},
     "output_type": "execute_result"
    }
   ],
   "source": [
    "submission = pd.DataFrame(data=[], columns=['TID', 'fare_amount'])\n",
    "submission.TID = test.TID; submission.fare_amount = x\n",
    "submission.to_csv('combined1.csv', index=False)\n",
    "submission.head()"
   ]
  },
  {
   "cell_type": "code",
   "execution_count": 160,
   "metadata": {
    "collapsed": true
   },
   "outputs": [],
   "source": [
    "a = pd.read_csv('xgboost.csv')"
   ]
  },
  {
   "cell_type": "code",
   "execution_count": 161,
   "metadata": {
    "collapsed": true
   },
   "outputs": [],
   "source": [
    "a = a['fare_amount']"
   ]
  },
  {
   "cell_type": "code",
   "execution_count": 162,
   "metadata": {
    "collapsed": true
   },
   "outputs": [],
   "source": [
    "b = pd.read_csv('xgboost1.csv')"
   ]
  },
  {
   "cell_type": "code",
   "execution_count": 163,
   "metadata": {
    "collapsed": true
   },
   "outputs": [],
   "source": [
    "b = b['fare_amount']"
   ]
  },
  {
   "cell_type": "code",
   "execution_count": 164,
   "metadata": {
    "collapsed": true
   },
   "outputs": [],
   "source": [
    "x = (a*0.8)+(b*0.2)"
   ]
  },
  {
   "cell_type": "code",
   "execution_count": 165,
   "metadata": {
    "collapsed": false
   },
   "outputs": [
    {
     "data": {
      "text/plain": [
       "0     4.921615\n",
       "1     7.663007\n",
       "2    10.636740\n",
       "3    19.708366\n",
       "4    15.345366\n",
       "Name: fare_amount, dtype: float64"
      ]
     },
     "execution_count": 165,
     "metadata": {},
     "output_type": "execute_result"
    }
   ],
   "source": [
    "x.head()"
   ]
  }
 ],
 "metadata": {
  "anaconda-cloud": {},
  "kernelspec": {
   "display_name": "Python [conda root]",
   "language": "python",
   "name": "conda-root-py"
  },
  "language_info": {
   "codemirror_mode": {
    "name": "ipython",
    "version": 3
   },
   "file_extension": ".py",
   "mimetype": "text/x-python",
   "name": "python",
   "nbconvert_exporter": "python",
   "pygments_lexer": "ipython3",
   "version": "3.5.2"
  }
 },
 "nbformat": 4,
 "nbformat_minor": 1
}
