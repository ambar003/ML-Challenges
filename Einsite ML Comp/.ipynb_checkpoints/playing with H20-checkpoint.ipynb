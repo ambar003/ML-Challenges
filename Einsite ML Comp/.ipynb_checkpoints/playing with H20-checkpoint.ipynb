{
 "cells": [
  {
   "cell_type": "code",
   "execution_count": 1,
   "metadata": {
    "collapsed": true
   },
   "outputs": [],
   "source": [
    "import h2o\n",
    "from h2o.estimators.random_forest import H2ORandomForestEstimator\n",
    "from h2o.estimators.gbm import H2OGradientBoostingEstimator\n",
    "from h2o.grid.grid_search import H2OGridSearch\n",
    "from __future__ import print_function"
   ]
  },
  {
   "cell_type": "code",
   "execution_count": 2,
   "metadata": {
    "collapsed": false
   },
   "outputs": [
    {
     "name": "stdout",
     "output_type": "stream",
     "text": [
      "Checking whether there is an H2O instance running at http://localhost:54321..... not found.\n",
      "Attempting to start a local H2O server...\n",
      "; OpenJDK 64-Bit Server VM (Zulu 8.20.0.5-win64) (build 25.121-b15, mixed mode)\n",
      "  Starting server from D:\\anaconda\\lib\\site-packages\\h2o\\backend\\bin\\h2o.jar\n",
      "  Ice root: C:\\Users\\AMBARG~1\\AppData\\Local\\Temp\\tmp3mqj8my4\n",
      "  JVM stdout: C:\\Users\\AMBARG~1\\AppData\\Local\\Temp\\tmp3mqj8my4\\h2o_Ambar_Gupta_started_from_python.out\n",
      "  JVM stderr: C:\\Users\\AMBARG~1\\AppData\\Local\\Temp\\tmp3mqj8my4\\h2o_Ambar_Gupta_started_from_python.err\n",
      "  Server is running at http://127.0.0.1:54321\n",
      "Connecting to H2O server at http://127.0.0.1:54321... successful.\n"
     ]
    },
    {
     "data": {
      "text/html": [
       "<div style=\"overflow:auto\"><table style=\"width:50%\"><tr><td>H2O cluster uptime:</td>\n",
       "<td>05 secs</td></tr>\n",
       "<tr><td>H2O cluster version:</td>\n",
       "<td>3.11.0.3895</td></tr>\n",
       "<tr><td>H2O cluster version age:</td>\n",
       "<td>23 hours and 6 minutes </td></tr>\n",
       "<tr><td>H2O cluster name:</td>\n",
       "<td>H2O_from_python_Ambar_Gupta_ckeher</td></tr>\n",
       "<tr><td>H2O cluster total nodes:</td>\n",
       "<td>1</td></tr>\n",
       "<tr><td>H2O cluster free memory:</td>\n",
       "<td>7.111 Gb</td></tr>\n",
       "<tr><td>H2O cluster total cores:</td>\n",
       "<td>4</td></tr>\n",
       "<tr><td>H2O cluster allowed cores:</td>\n",
       "<td>4</td></tr>\n",
       "<tr><td>H2O cluster status:</td>\n",
       "<td>accepting new members, healthy</td></tr>\n",
       "<tr><td>H2O connection url:</td>\n",
       "<td>http://127.0.0.1:54321</td></tr>\n",
       "<tr><td>H2O connection proxy:</td>\n",
       "<td>None</td></tr>\n",
       "<tr><td>H2O internal security:</td>\n",
       "<td>False</td></tr>\n",
       "<tr><td>Python version:</td>\n",
       "<td>3.5.2 final</td></tr></table></div>"
      ],
      "text/plain": [
       "--------------------------  ----------------------------------\n",
       "H2O cluster uptime:         05 secs\n",
       "H2O cluster version:        3.11.0.3895\n",
       "H2O cluster version age:    23 hours and 6 minutes\n",
       "H2O cluster name:           H2O_from_python_Ambar_Gupta_ckeher\n",
       "H2O cluster total nodes:    1\n",
       "H2O cluster free memory:    7.111 Gb\n",
       "H2O cluster total cores:    4\n",
       "H2O cluster allowed cores:  4\n",
       "H2O cluster status:         accepting new members, healthy\n",
       "H2O connection url:         http://127.0.0.1:54321\n",
       "H2O connection proxy:\n",
       "H2O internal security:      False\n",
       "Python version:             3.5.2 final\n",
       "--------------------------  ----------------------------------"
      ]
     },
     "metadata": {},
     "output_type": "display_data"
    }
   ],
   "source": [
    "h2o.init(nthreads = -1, max_mem_size = 8)"
   ]
  },
  {
   "cell_type": "code",
   "execution_count": 3,
   "metadata": {
    "collapsed": true
   },
   "outputs": [],
   "source": [
    "features = ['vendor_id','tolls_amount', 'tip_amount', 'mta_tax','passenger_count','rate_code','surcharge',\n",
    "            'total_jrny', 'CRD','CSH', 'DIS', 'NOC', 'UNK', 'distance']"
   ]
  },
  {
   "cell_type": "code",
   "execution_count": 4,
   "metadata": {
    "collapsed": false
   },
   "outputs": [
    {
     "name": "stdout",
     "output_type": "stream",
     "text": [
      "Parse progress: |█████████████████████████████████████████████████████████| 100%\n"
     ]
    }
   ],
   "source": [
    "train = h2o.import_file('updated_train.csv')"
   ]
  },
  {
   "cell_type": "code",
   "execution_count": 5,
   "metadata": {
    "collapsed": false
   },
   "outputs": [
    {
     "name": "stdout",
     "output_type": "stream",
     "text": [
      "Parse progress: |█████████████████████████████████████████████████████████| 100%\n"
     ]
    }
   ],
   "source": [
    "test = h2o.import_file('updated_test.csv')"
   ]
  },
  {
   "cell_type": "code",
   "execution_count": 6,
   "metadata": {
    "collapsed": true
   },
   "outputs": [],
   "source": [
    "train,valid = train.split_frame(ratios=[0.8])"
   ]
  },
  {
   "cell_type": "code",
   "execution_count": 12,
   "metadata": {
    "collapsed": false
   },
   "outputs": [],
   "source": [
    "gbm_params1 = {'learn_rate': [0.15], \n",
    "                'max_depth': [25],\n",
    "                'sample_rate': [0.8],\n",
    "                'col_sample_rate': [0.5]}"
   ]
  },
  {
   "cell_type": "code",
   "execution_count": 13,
   "metadata": {
    "collapsed": false
   },
   "outputs": [
    {
     "data": {
      "text/plain": [
       "{'col_sample_rate': [0.5],\n",
       " 'learn_rate': [0.15],\n",
       " 'max_depth': [25],\n",
       " 'sample_rate': [0.8]}"
      ]
     },
     "execution_count": 13,
     "metadata": {},
     "output_type": "execute_result"
    }
   ],
   "source": [
    "gbm_params1"
   ]
  },
  {
   "cell_type": "code",
   "execution_count": 14,
   "metadata": {
    "collapsed": false
   },
   "outputs": [
    {
     "name": "stdout",
     "output_type": "stream",
     "text": [
      "gbm Grid Build progress: |████████████████████████████████████████████████| 100%\n"
     ]
    }
   ],
   "source": [
    "gbm_grid1 = H2OGridSearch(model=H2OGradientBoostingEstimator,\n",
    "                          grid_id='gbm_grid1',\n",
    "                          hyper_params=gbm_params1)\n",
    "gbm_grid1.train(x=features, y='fare_amount', \n",
    "                training_frame=train, \n",
    "                validation_frame=valid, \n",
    "                ntrees=300,\n",
    "                seed=1)"
   ]
  },
  {
   "cell_type": "code",
   "execution_count": 15,
   "metadata": {
    "collapsed": false
   },
   "outputs": [],
   "source": [
    "gbm_gridperf1 = gbm_grid1.get_grid(sort_by='mae', decreasing=True)"
   ]
  },
  {
   "cell_type": "code",
   "execution_count": 16,
   "metadata": {
    "collapsed": false
   },
   "outputs": [
    {
     "name": "stdout",
     "output_type": "stream",
     "text": [
      "    col_sample_rate learn_rate max_depth sample_rate          model_ids  \\\n",
      "0               0.5       0.15        30         0.8  gbm_grid1_model_2   \n",
      "1               0.5       0.15        20         0.8  gbm_grid1_model_0   \n",
      "2               0.5       0.15        25         0.8  gbm_grid1_model_3   \n",
      "3               0.5       0.15        25         0.8  gbm_grid1_model_1   \n",
      "\n",
      "                  mae  \n",
      "0  0.7890249166516417  \n",
      "1  0.7887893188119821  \n",
      "2  0.7868302805103682  \n",
      "3  0.7834530686665961  \n"
     ]
    },
    {
     "data": {
      "text/plain": []
     },
     "execution_count": 16,
     "metadata": {},
     "output_type": "execute_result"
    }
   ],
   "source": [
    "gbm_gridperf1"
   ]
  },
  {
   "cell_type": "code",
   "execution_count": 7,
   "metadata": {
    "collapsed": true
   },
   "outputs": [],
   "source": [
    "model = H2OGradientBoostingEstimator(ntrees=300,learn_rate=0.15,max_depth=25,sample_rate=0.8,col_sample_rate=0.5)"
   ]
  },
  {
   "cell_type": "code",
   "execution_count": 8,
   "metadata": {
    "collapsed": false
   },
   "outputs": [
    {
     "name": "stdout",
     "output_type": "stream",
     "text": [
      "gbm Model Build progress: |███████████████████████████████████████████████| 100%\n"
     ]
    }
   ],
   "source": [
    "model.train(x=features,y='fare_amount',training_frame=train,validation_frame=valid)"
   ]
  },
  {
   "cell_type": "code",
   "execution_count": 9,
   "metadata": {
    "collapsed": false
   },
   "outputs": [
    {
     "name": "stdout",
     "output_type": "stream",
     "text": [
      "gbm prediction progress: |████████████████████████████████████████████████| 100%\n"
     ]
    }
   ],
   "source": [
    "pred = model.predict(test[features])"
   ]
  },
  {
   "cell_type": "code",
   "execution_count": 10,
   "metadata": {
    "collapsed": false
   },
   "outputs": [
    {
     "name": "stdout",
     "output_type": "stream",
     "text": [
      "Parse progress: |█████████████████████████████████████████████████████████| 100%\n"
     ]
    }
   ],
   "source": [
    "df = h2o.H2OFrame({'TID':list(range(1,len(test)+1))}).cbind(pred)"
   ]
  },
  {
   "cell_type": "code",
   "execution_count": 11,
   "metadata": {
    "collapsed": false
   },
   "outputs": [],
   "source": [
    "df['TID'] = test['TID']"
   ]
  },
  {
   "cell_type": "code",
   "execution_count": 12,
   "metadata": {
    "collapsed": false
   },
   "outputs": [
    {
     "data": {
      "text/html": [
       "<table>\n",
       "<tr><th>TID         </th><th style=\"text-align: right;\">  predict</th></tr>\n",
       "<tr><td>AJX000119871</td><td style=\"text-align: right;\">  4.93473</td></tr>\n",
       "<tr><td>AJX000119872</td><td style=\"text-align: right;\">  7.56034</td></tr>\n",
       "<tr><td>AJX000119873</td><td style=\"text-align: right;\"> 10.879  </td></tr>\n",
       "<tr><td>AJX000119874</td><td style=\"text-align: right;\"> 19.4301 </td></tr>\n",
       "<tr><td>AJX000119875</td><td style=\"text-align: right;\"> 15.0328 </td></tr>\n",
       "<tr><td>AJX000119876</td><td style=\"text-align: right;\">  6.75248</td></tr>\n",
       "<tr><td>AJX000119877</td><td style=\"text-align: right;\">  8.75965</td></tr>\n",
       "<tr><td>AJX000119878</td><td style=\"text-align: right;\">  8.18186</td></tr>\n",
       "<tr><td>AJX000119879</td><td style=\"text-align: right;\"> 11.1316 </td></tr>\n",
       "<tr><td>AJX000119880</td><td style=\"text-align: right;\">  9.90693</td></tr>\n",
       "</table>"
      ]
     },
     "metadata": {},
     "output_type": "display_data"
    },
    {
     "data": {
      "text/plain": []
     },
     "execution_count": 12,
     "metadata": {},
     "output_type": "execute_result"
    }
   ],
   "source": [
    "df"
   ]
  },
  {
   "cell_type": "code",
   "execution_count": 13,
   "metadata": {
    "collapsed": true
   },
   "outputs": [],
   "source": [
    "df.set_name(1,'fare_amount')"
   ]
  },
  {
   "cell_type": "code",
   "execution_count": 14,
   "metadata": {
    "collapsed": false
   },
   "outputs": [
    {
     "data": {
      "text/html": [
       "<table>\n",
       "<tr><th>TID         </th><th style=\"text-align: right;\">  fare_amount</th></tr>\n",
       "<tr><td>AJX000119871</td><td style=\"text-align: right;\">      4.93473</td></tr>\n",
       "<tr><td>AJX000119872</td><td style=\"text-align: right;\">      7.56034</td></tr>\n",
       "<tr><td>AJX000119873</td><td style=\"text-align: right;\">     10.879  </td></tr>\n",
       "<tr><td>AJX000119874</td><td style=\"text-align: right;\">     19.4301 </td></tr>\n",
       "<tr><td>AJX000119875</td><td style=\"text-align: right;\">     15.0328 </td></tr>\n",
       "<tr><td>AJX000119876</td><td style=\"text-align: right;\">      6.75248</td></tr>\n",
       "<tr><td>AJX000119877</td><td style=\"text-align: right;\">      8.75965</td></tr>\n",
       "<tr><td>AJX000119878</td><td style=\"text-align: right;\">      8.18186</td></tr>\n",
       "<tr><td>AJX000119879</td><td style=\"text-align: right;\">     11.1316 </td></tr>\n",
       "<tr><td>AJX000119880</td><td style=\"text-align: right;\">      9.90693</td></tr>\n",
       "</table>"
      ]
     },
     "metadata": {},
     "output_type": "display_data"
    },
    {
     "data": {
      "text/plain": []
     },
     "execution_count": 14,
     "metadata": {},
     "output_type": "execute_result"
    }
   ],
   "source": [
    "df"
   ]
  },
  {
   "cell_type": "code",
   "execution_count": 16,
   "metadata": {
    "collapsed": false
   },
   "outputs": [
    {
     "name": "stdout",
     "output_type": "stream",
     "text": [
      "Export File progress: |███████████████████████████████████████████████████| 100%\n"
     ]
    }
   ],
   "source": [
    "h2o.export_file(df,'h2ogbmtuned.csv')"
   ]
  },
  {
   "cell_type": "code",
   "execution_count": 3,
   "metadata": {
    "collapsed": true
   },
   "outputs": [],
   "source": [
    "from h2o.estimators import H2OStackedEnsembleEstimator"
   ]
  },
  {
   "cell_type": "code",
   "execution_count": 4,
   "metadata": {
    "collapsed": true
   },
   "outputs": [],
   "source": [
    "my_gbm = H2OGradientBoostingEstimator(ntrees=100,learn_rate=0.15,max_depth=25,sample_rate=0.8,col_sample_rate=0.5,fold_assignment=\"Modulo\",\n",
    "                                      keep_cross_validation_predictions=True,nfolds=5)"
   ]
  },
  {
   "cell_type": "code",
   "execution_count": null,
   "metadata": {
    "collapsed": false
   },
   "outputs": [
    {
     "name": "stdout",
     "output_type": "stream",
     "text": [
      "gbm Model Build progress: |██████████████████████████████████████████████"
     ]
    }
   ],
   "source": [
    "my_gbm.train(x=features, y='fare_amount', training_frame=train)"
   ]
  },
  {
   "cell_type": "code",
   "execution_count": 7,
   "metadata": {
    "collapsed": true
   },
   "outputs": [],
   "source": [
    "rf_params = {'max_depth': [10,15,20,25],\n",
    "                'mtries': [2,3,4]\n",
    "            }"
   ]
  },
  {
   "cell_type": "code",
   "execution_count": null,
   "metadata": {
    "collapsed": false
   },
   "outputs": [
    {
     "name": "stdout",
     "output_type": "stream",
     "text": [
      "drf Grid Build progress: |███████████████████████████████████████████████"
     ]
    }
   ],
   "source": [
    "rf_grid = H2OGridSearch(model=H2ORandomForestEstimator,\n",
    "                          grid_id='rf_grid',\n",
    "                          hyper_params=rf_params)\n",
    "rf_grid.train(x=features, y='fare_amount', \n",
    "                training_frame=train, \n",
    "                validation_frame=valid, \n",
    "                ntrees=100,\n",
    "                seed=1)"
   ]
  },
  {
   "cell_type": "code",
   "execution_count": null,
   "metadata": {
    "collapsed": true
   },
   "outputs": [],
   "source": [
    "rf_gridperf1 = rf_grid.get_grid(sort_by='mae', decreasing=True)"
   ]
  },
  {
   "cell_type": "code",
   "execution_count": null,
   "metadata": {
    "collapsed": true
   },
   "outputs": [],
   "source": [
    "rf_gridperf1"
   ]
  }
 ],
 "metadata": {
  "anaconda-cloud": {},
  "kernelspec": {
   "display_name": "Python [conda root]",
   "language": "python",
   "name": "conda-root-py"
  },
  "language_info": {
   "codemirror_mode": {
    "name": "ipython",
    "version": 3
   },
   "file_extension": ".py",
   "mimetype": "text/x-python",
   "name": "python",
   "nbconvert_exporter": "python",
   "pygments_lexer": "ipython3",
   "version": "3.5.2"
  }
 },
 "nbformat": 4,
 "nbformat_minor": 1
}
