{
 "cells": [
  {
   "cell_type": "code",
   "execution_count": 1,
   "metadata": {
    "collapsed": false
   },
   "outputs": [
    {
     "name": "stdout",
     "output_type": "stream",
     "text": [
      "Populating the interactive namespace from numpy and matplotlib\n"
     ]
    }
   ],
   "source": [
    "% pylab inline\n",
    "import numpy as np\n",
    "import pandas as pd\n",
    "import matplotlib.pyplot as plt\n",
    "from datetime import datetime"
   ]
  },
  {
   "cell_type": "code",
   "execution_count": 2,
   "metadata": {
    "collapsed": true
   },
   "outputs": [],
   "source": [
    "train = pd.read_csv('train.csv')"
   ]
  },
  {
   "cell_type": "code",
   "execution_count": 3,
   "metadata": {
    "collapsed": false
   },
   "outputs": [
    {
     "data": {
      "text/html": [
       "<div>\n",
       "<table border=\"1\" class=\"dataframe\">\n",
       "  <thead>\n",
       "    <tr style=\"text-align: right;\">\n",
       "      <th></th>\n",
       "      <th>TID</th>\n",
       "      <th>vendor_id</th>\n",
       "      <th>new_user</th>\n",
       "      <th>tolls_amount</th>\n",
       "      <th>tip_amount</th>\n",
       "      <th>mta_tax</th>\n",
       "      <th>pickup_datetime</th>\n",
       "      <th>dropoff_datetime</th>\n",
       "      <th>passenger_count</th>\n",
       "      <th>pickup_longitude</th>\n",
       "      <th>pickup_latitude</th>\n",
       "      <th>rate_code</th>\n",
       "      <th>store_and_fwd_flag</th>\n",
       "      <th>dropoff_longitude</th>\n",
       "      <th>dropoff_latitude</th>\n",
       "      <th>payment_type</th>\n",
       "      <th>surcharge</th>\n",
       "      <th>fare_amount</th>\n",
       "    </tr>\n",
       "  </thead>\n",
       "  <tbody>\n",
       "    <tr>\n",
       "      <th>0</th>\n",
       "      <td>AIX000345001</td>\n",
       "      <td>DST000401</td>\n",
       "      <td>NO</td>\n",
       "      <td>0.0</td>\n",
       "      <td>1.4</td>\n",
       "      <td>0.5</td>\n",
       "      <td>2015-04-20 04:18:25</td>\n",
       "      <td>2015-04-20 04:24:20</td>\n",
       "      <td>1</td>\n",
       "      <td>-74.003939</td>\n",
       "      <td>40.742894</td>\n",
       "      <td>1</td>\n",
       "      <td>N</td>\n",
       "      <td>-73.993369</td>\n",
       "      <td>40.734247</td>\n",
       "      <td>CRD</td>\n",
       "      <td>0.5</td>\n",
       "      <td>8.4</td>\n",
       "    </tr>\n",
       "    <tr>\n",
       "      <th>1</th>\n",
       "      <td>AIX000345002</td>\n",
       "      <td>DST000401</td>\n",
       "      <td>NO</td>\n",
       "      <td>0.0</td>\n",
       "      <td>1.0</td>\n",
       "      <td>0.5</td>\n",
       "      <td>2015-04-19 18:16:07</td>\n",
       "      <td>2015-04-19 18:22:06</td>\n",
       "      <td>3</td>\n",
       "      <td>-73.973864</td>\n",
       "      <td>40.752194</td>\n",
       "      <td>1</td>\n",
       "      <td>N</td>\n",
       "      <td>-73.958701</td>\n",
       "      <td>40.772533</td>\n",
       "      <td>CRD</td>\n",
       "      <td>0.0</td>\n",
       "      <td>8.5</td>\n",
       "    </tr>\n",
       "    <tr>\n",
       "      <th>2</th>\n",
       "      <td>AIX000345003</td>\n",
       "      <td>DST000401</td>\n",
       "      <td>NO</td>\n",
       "      <td>0.0</td>\n",
       "      <td>0.0</td>\n",
       "      <td>0.5</td>\n",
       "      <td>2015-04-06 08:04:32</td>\n",
       "      <td>2015-04-06 08:10:05</td>\n",
       "      <td>2</td>\n",
       "      <td>-73.954406</td>\n",
       "      <td>40.764420</td>\n",
       "      <td>1</td>\n",
       "      <td>N</td>\n",
       "      <td>-73.970780</td>\n",
       "      <td>40.758350</td>\n",
       "      <td>CSH</td>\n",
       "      <td>0.0</td>\n",
       "      <td>7.0</td>\n",
       "    </tr>\n",
       "    <tr>\n",
       "      <th>3</th>\n",
       "      <td>AIX000345004</td>\n",
       "      <td>DST000532</td>\n",
       "      <td>NO</td>\n",
       "      <td>0.0</td>\n",
       "      <td>1.8</td>\n",
       "      <td>0.5</td>\n",
       "      <td>2015-04-10 09:48:00</td>\n",
       "      <td>2015-04-10 10:00:00</td>\n",
       "      <td>2</td>\n",
       "      <td>-73.962345</td>\n",
       "      <td>40.767215</td>\n",
       "      <td>1</td>\n",
       "      <td>NaN</td>\n",
       "      <td>-73.975512</td>\n",
       "      <td>40.756867</td>\n",
       "      <td>CRD</td>\n",
       "      <td>0.0</td>\n",
       "      <td>11.3</td>\n",
       "    </tr>\n",
       "    <tr>\n",
       "      <th>4</th>\n",
       "      <td>AIX000345005</td>\n",
       "      <td>DST000401</td>\n",
       "      <td>NO</td>\n",
       "      <td>0.0</td>\n",
       "      <td>0.0</td>\n",
       "      <td>0.5</td>\n",
       "      <td>2015-04-15 13:12:48</td>\n",
       "      <td>2015-04-15 13:26:30</td>\n",
       "      <td>1</td>\n",
       "      <td>-74.004657</td>\n",
       "      <td>40.707434</td>\n",
       "      <td>1</td>\n",
       "      <td>N</td>\n",
       "      <td>-73.999369</td>\n",
       "      <td>40.721517</td>\n",
       "      <td>CSH</td>\n",
       "      <td>0.0</td>\n",
       "      <td>10.0</td>\n",
       "    </tr>\n",
       "  </tbody>\n",
       "</table>\n",
       "</div>"
      ],
      "text/plain": [
       "            TID  vendor_id new_user  tolls_amount  tip_amount  mta_tax  \\\n",
       "0  AIX000345001  DST000401       NO           0.0         1.4      0.5   \n",
       "1  AIX000345002  DST000401       NO           0.0         1.0      0.5   \n",
       "2  AIX000345003  DST000401       NO           0.0         0.0      0.5   \n",
       "3  AIX000345004  DST000532       NO           0.0         1.8      0.5   \n",
       "4  AIX000345005  DST000401       NO           0.0         0.0      0.5   \n",
       "\n",
       "       pickup_datetime     dropoff_datetime  passenger_count  \\\n",
       "0  2015-04-20 04:18:25  2015-04-20 04:24:20                1   \n",
       "1  2015-04-19 18:16:07  2015-04-19 18:22:06                3   \n",
       "2  2015-04-06 08:04:32  2015-04-06 08:10:05                2   \n",
       "3  2015-04-10 09:48:00  2015-04-10 10:00:00                2   \n",
       "4  2015-04-15 13:12:48  2015-04-15 13:26:30                1   \n",
       "\n",
       "   pickup_longitude  pickup_latitude  rate_code store_and_fwd_flag  \\\n",
       "0        -74.003939        40.742894          1                  N   \n",
       "1        -73.973864        40.752194          1                  N   \n",
       "2        -73.954406        40.764420          1                  N   \n",
       "3        -73.962345        40.767215          1                NaN   \n",
       "4        -74.004657        40.707434          1                  N   \n",
       "\n",
       "   dropoff_longitude  dropoff_latitude payment_type  surcharge  fare_amount  \n",
       "0         -73.993369         40.734247          CRD        0.5          8.4  \n",
       "1         -73.958701         40.772533          CRD        0.0          8.5  \n",
       "2         -73.970780         40.758350          CSH        0.0          7.0  \n",
       "3         -73.975512         40.756867          CRD        0.0         11.3  \n",
       "4         -73.999369         40.721517          CSH        0.0         10.0  "
      ]
     },
     "execution_count": 3,
     "metadata": {},
     "output_type": "execute_result"
    }
   ],
   "source": [
    "train.head()"
   ]
  },
  {
   "cell_type": "code",
   "execution_count": 4,
   "metadata": {
    "collapsed": false
   },
   "outputs": [
    {
     "name": "stderr",
     "output_type": "stream",
     "text": [
      "C:\\Users\\Ambar Gupta\\Anaconda3\\lib\\site-packages\\numpy\\lib\\function_base.py:3834: RuntimeWarning: Invalid value encountered in percentile\n",
      "  RuntimeWarning)\n"
     ]
    },
    {
     "data": {
      "text/html": [
       "<div>\n",
       "<table border=\"1\" class=\"dataframe\">\n",
       "  <thead>\n",
       "    <tr style=\"text-align: right;\">\n",
       "      <th></th>\n",
       "      <th>tolls_amount</th>\n",
       "      <th>tip_amount</th>\n",
       "      <th>mta_tax</th>\n",
       "      <th>passenger_count</th>\n",
       "      <th>pickup_longitude</th>\n",
       "      <th>pickup_latitude</th>\n",
       "      <th>rate_code</th>\n",
       "      <th>dropoff_longitude</th>\n",
       "      <th>dropoff_latitude</th>\n",
       "      <th>surcharge</th>\n",
       "      <th>fare_amount</th>\n",
       "    </tr>\n",
       "  </thead>\n",
       "  <tbody>\n",
       "    <tr>\n",
       "      <th>count</th>\n",
       "      <td>1.658099e+06</td>\n",
       "      <td>1.492903e+06</td>\n",
       "      <td>1.658099e+06</td>\n",
       "      <td>1.658099e+06</td>\n",
       "      <td>1.608290e+06</td>\n",
       "      <td>1.624998e+06</td>\n",
       "      <td>1.658099e+06</td>\n",
       "      <td>1.653112e+06</td>\n",
       "      <td>1.649937e+06</td>\n",
       "      <td>1.558926e+06</td>\n",
       "      <td>1.658099e+06</td>\n",
       "    </tr>\n",
       "    <tr>\n",
       "      <th>mean</th>\n",
       "      <td>2.770844e-01</td>\n",
       "      <td>1.554779e+00</td>\n",
       "      <td>4.980460e-01</td>\n",
       "      <td>1.722504e+00</td>\n",
       "      <td>-7.258480e+01</td>\n",
       "      <td>3.998628e+01</td>\n",
       "      <td>1.035918e+00</td>\n",
       "      <td>-7.258127e+01</td>\n",
       "      <td>3.998414e+01</td>\n",
       "      <td>3.177296e-01</td>\n",
       "      <td>1.531551e+01</td>\n",
       "    </tr>\n",
       "    <tr>\n",
       "      <th>std</th>\n",
       "      <td>1.890095e+00</td>\n",
       "      <td>2.356677e+00</td>\n",
       "      <td>3.194602e-02</td>\n",
       "      <td>1.384761e+00</td>\n",
       "      <td>1.004539e+01</td>\n",
       "      <td>5.528833e+00</td>\n",
       "      <td>4.683282e-01</td>\n",
       "      <td>1.005460e+01</td>\n",
       "      <td>5.538230e+00</td>\n",
       "      <td>3.623541e-01</td>\n",
       "      <td>1.272185e+01</td>\n",
       "    </tr>\n",
       "    <tr>\n",
       "      <th>min</th>\n",
       "      <td>-1.175000e+01</td>\n",
       "      <td>0.000000e+00</td>\n",
       "      <td>-5.000000e-01</td>\n",
       "      <td>0.000000e+00</td>\n",
       "      <td>-9.908311e+01</td>\n",
       "      <td>-1.355188e+01</td>\n",
       "      <td>0.000000e+00</td>\n",
       "      <td>-1.190126e+02</td>\n",
       "      <td>-1.355188e+01</td>\n",
       "      <td>-1.000000e+00</td>\n",
       "      <td>0.000000e+00</td>\n",
       "    </tr>\n",
       "    <tr>\n",
       "      <th>25%</th>\n",
       "      <td>0.000000e+00</td>\n",
       "      <td>NaN</td>\n",
       "      <td>5.000000e-01</td>\n",
       "      <td>1.000000e+00</td>\n",
       "      <td>NaN</td>\n",
       "      <td>NaN</td>\n",
       "      <td>1.000000e+00</td>\n",
       "      <td>NaN</td>\n",
       "      <td>NaN</td>\n",
       "      <td>NaN</td>\n",
       "      <td>8.300000e+00</td>\n",
       "    </tr>\n",
       "    <tr>\n",
       "      <th>50%</th>\n",
       "      <td>0.000000e+00</td>\n",
       "      <td>NaN</td>\n",
       "      <td>5.000000e-01</td>\n",
       "      <td>1.000000e+00</td>\n",
       "      <td>NaN</td>\n",
       "      <td>NaN</td>\n",
       "      <td>1.000000e+00</td>\n",
       "      <td>NaN</td>\n",
       "      <td>NaN</td>\n",
       "      <td>NaN</td>\n",
       "      <td>1.150000e+01</td>\n",
       "    </tr>\n",
       "    <tr>\n",
       "      <th>75%</th>\n",
       "      <td>0.000000e+00</td>\n",
       "      <td>NaN</td>\n",
       "      <td>5.000000e-01</td>\n",
       "      <td>2.000000e+00</td>\n",
       "      <td>NaN</td>\n",
       "      <td>NaN</td>\n",
       "      <td>1.000000e+00</td>\n",
       "      <td>NaN</td>\n",
       "      <td>NaN</td>\n",
       "      <td>NaN</td>\n",
       "      <td>1.700000e+01</td>\n",
       "    </tr>\n",
       "    <tr>\n",
       "      <th>max</th>\n",
       "      <td>1.450090e+03</td>\n",
       "      <td>2.312000e+02</td>\n",
       "      <td>5.000000e-01</td>\n",
       "      <td>9.000000e+00</td>\n",
       "      <td>7.945679e+01</td>\n",
       "      <td>6.798689e+01</td>\n",
       "      <td>2.100000e+02</td>\n",
       "      <td>0.000000e+00</td>\n",
       "      <td>6.343189e+01</td>\n",
       "      <td>2.050000e+01</td>\n",
       "      <td>1.502890e+03</td>\n",
       "    </tr>\n",
       "  </tbody>\n",
       "</table>\n",
       "</div>"
      ],
      "text/plain": [
       "       tolls_amount    tip_amount       mta_tax  passenger_count  \\\n",
       "count  1.658099e+06  1.492903e+06  1.658099e+06     1.658099e+06   \n",
       "mean   2.770844e-01  1.554779e+00  4.980460e-01     1.722504e+00   \n",
       "std    1.890095e+00  2.356677e+00  3.194602e-02     1.384761e+00   \n",
       "min   -1.175000e+01  0.000000e+00 -5.000000e-01     0.000000e+00   \n",
       "25%    0.000000e+00           NaN  5.000000e-01     1.000000e+00   \n",
       "50%    0.000000e+00           NaN  5.000000e-01     1.000000e+00   \n",
       "75%    0.000000e+00           NaN  5.000000e-01     2.000000e+00   \n",
       "max    1.450090e+03  2.312000e+02  5.000000e-01     9.000000e+00   \n",
       "\n",
       "       pickup_longitude  pickup_latitude     rate_code  dropoff_longitude  \\\n",
       "count      1.608290e+06     1.624998e+06  1.658099e+06       1.653112e+06   \n",
       "mean      -7.258480e+01     3.998628e+01  1.035918e+00      -7.258127e+01   \n",
       "std        1.004539e+01     5.528833e+00  4.683282e-01       1.005460e+01   \n",
       "min       -9.908311e+01    -1.355188e+01  0.000000e+00      -1.190126e+02   \n",
       "25%                 NaN              NaN  1.000000e+00                NaN   \n",
       "50%                 NaN              NaN  1.000000e+00                NaN   \n",
       "75%                 NaN              NaN  1.000000e+00                NaN   \n",
       "max        7.945679e+01     6.798689e+01  2.100000e+02       0.000000e+00   \n",
       "\n",
       "       dropoff_latitude     surcharge   fare_amount  \n",
       "count      1.649937e+06  1.558926e+06  1.658099e+06  \n",
       "mean       3.998414e+01  3.177296e-01  1.531551e+01  \n",
       "std        5.538230e+00  3.623541e-01  1.272185e+01  \n",
       "min       -1.355188e+01 -1.000000e+00  0.000000e+00  \n",
       "25%                 NaN           NaN  8.300000e+00  \n",
       "50%                 NaN           NaN  1.150000e+01  \n",
       "75%                 NaN           NaN  1.700000e+01  \n",
       "max        6.343189e+01  2.050000e+01  1.502890e+03  "
      ]
     },
     "execution_count": 4,
     "metadata": {},
     "output_type": "execute_result"
    }
   ],
   "source": [
    "train.describe()"
   ]
  },
  {
   "cell_type": "code",
   "execution_count": 5,
   "metadata": {
    "collapsed": false
   },
   "outputs": [
    {
     "data": {
      "text/plain": [
       "Index(['TID', 'vendor_id', 'new_user', 'tolls_amount', 'tip_amount', 'mta_tax',\n",
       "       'pickup_datetime', 'dropoff_datetime', 'passenger_count',\n",
       "       'pickup_longitude', 'pickup_latitude', 'rate_code',\n",
       "       'store_and_fwd_flag', 'dropoff_longitude', 'dropoff_latitude',\n",
       "       'payment_type', 'surcharge', 'fare_amount'],\n",
       "      dtype='object')"
      ]
     },
     "execution_count": 5,
     "metadata": {},
     "output_type": "execute_result"
    }
   ],
   "source": [
    "train.columns"
   ]
  },
  {
   "cell_type": "code",
   "execution_count": 6,
   "metadata": {
    "collapsed": false
   },
   "outputs": [
    {
     "data": {
      "text/plain": [
       "NO     1657917\n",
       "YES        163\n",
       "Name: new_user, dtype: int64"
      ]
     },
     "execution_count": 6,
     "metadata": {},
     "output_type": "execute_result"
    }
   ],
   "source": [
    "train['new_user'].value_counts()"
   ]
  },
  {
   "cell_type": "code",
   "execution_count": 7,
   "metadata": {
    "collapsed": false
   },
   "outputs": [
    {
     "data": {
      "text/plain": [
       "N    993926\n",
       "Y     16051\n",
       "Name: store_and_fwd_flag, dtype: int64"
      ]
     },
     "execution_count": 7,
     "metadata": {},
     "output_type": "execute_result"
    }
   ],
   "source": [
    "train['store_and_fwd_flag'].value_counts()"
   ]
  },
  {
   "cell_type": "code",
   "execution_count": 8,
   "metadata": {
    "collapsed": true
   },
   "outputs": [],
   "source": [
    "def convert_datetime(X):\n",
    "    X['pickup_datetime'] = X['pickup_datetime'].apply(lambda x:datetime.strptime(x,'%Y-%m-%d %H:%M:%S'))\n",
    "    X['dropoff_datetime'] = X['dropoff_datetime'].apply(lambda x:datetime.strptime(x,'%Y-%m-%d %H:%M:%S'))\n",
    "    return X"
   ]
  },
  {
   "cell_type": "code",
   "execution_count": 9,
   "metadata": {
    "collapsed": true
   },
   "outputs": [],
   "source": [
    "train = convert_datetime(train)"
   ]
  },
  {
   "cell_type": "code",
   "execution_count": 10,
   "metadata": {
    "collapsed": false
   },
   "outputs": [],
   "source": [
    "def cal(X):\n",
    "    df = pd.DataFrame()\n",
    "    df['diff'] = X['dropoff_datetime'] - X['pickup_datetime']\n",
    "    df['diff'] = df['diff'].apply(lambda x:divmod(x.days * 86400 + x.seconds, 60))\n",
    "    df['diff'] = df['diff'].apply(lambda x:x[0]+(x[1]/60))\n",
    "    return df['diff']"
   ]
  },
  {
   "cell_type": "code",
   "execution_count": 11,
   "metadata": {
    "collapsed": false
   },
   "outputs": [],
   "source": [
    "train['total_jrny'] = cal(train)"
   ]
  },
  {
   "cell_type": "code",
   "execution_count": 12,
   "metadata": {
    "collapsed": false
   },
   "outputs": [
    {
     "data": {
      "text/plain": [
       "TID                        0\n",
       "vendor_id                  0\n",
       "new_user                  19\n",
       "tolls_amount               0\n",
       "tip_amount            165196\n",
       "mta_tax                    0\n",
       "pickup_datetime            0\n",
       "dropoff_datetime           0\n",
       "passenger_count            0\n",
       "pickup_longitude       49809\n",
       "pickup_latitude        33101\n",
       "rate_code                  0\n",
       "store_and_fwd_flag    648122\n",
       "dropoff_longitude       4987\n",
       "dropoff_latitude        8162\n",
       "payment_type               0\n",
       "surcharge              99173\n",
       "fare_amount                0\n",
       "total_jrny                 0\n",
       "dtype: int64"
      ]
     },
     "execution_count": 12,
     "metadata": {},
     "output_type": "execute_result"
    }
   ],
   "source": [
    "train.isnull().sum()"
   ]
  },
  {
   "cell_type": "code",
   "execution_count": 13,
   "metadata": {
    "collapsed": false
   },
   "outputs": [
    {
     "data": {
      "text/html": [
       "<div>\n",
       "<table border=\"1\" class=\"dataframe\">\n",
       "  <thead>\n",
       "    <tr style=\"text-align: right;\">\n",
       "      <th></th>\n",
       "      <th>tolls_amount</th>\n",
       "      <th>tip_amount</th>\n",
       "      <th>mta_tax</th>\n",
       "      <th>passenger_count</th>\n",
       "      <th>pickup_longitude</th>\n",
       "      <th>pickup_latitude</th>\n",
       "      <th>rate_code</th>\n",
       "      <th>dropoff_longitude</th>\n",
       "      <th>dropoff_latitude</th>\n",
       "      <th>surcharge</th>\n",
       "      <th>fare_amount</th>\n",
       "      <th>total_jrny</th>\n",
       "    </tr>\n",
       "  </thead>\n",
       "  <tbody>\n",
       "    <tr>\n",
       "      <th>tolls_amount</th>\n",
       "      <td>NaN</td>\n",
       "      <td>NaN</td>\n",
       "      <td>NaN</td>\n",
       "      <td>NaN</td>\n",
       "      <td>NaN</td>\n",
       "      <td>NaN</td>\n",
       "      <td>NaN</td>\n",
       "      <td>NaN</td>\n",
       "      <td>NaN</td>\n",
       "      <td>NaN</td>\n",
       "      <td>NaN</td>\n",
       "      <td>NaN</td>\n",
       "    </tr>\n",
       "    <tr>\n",
       "      <th>tip_amount</th>\n",
       "      <td>NaN</td>\n",
       "      <td>NaN</td>\n",
       "      <td>NaN</td>\n",
       "      <td>NaN</td>\n",
       "      <td>NaN</td>\n",
       "      <td>NaN</td>\n",
       "      <td>NaN</td>\n",
       "      <td>NaN</td>\n",
       "      <td>NaN</td>\n",
       "      <td>NaN</td>\n",
       "      <td>NaN</td>\n",
       "      <td>NaN</td>\n",
       "    </tr>\n",
       "    <tr>\n",
       "      <th>mta_tax</th>\n",
       "      <td>NaN</td>\n",
       "      <td>NaN</td>\n",
       "      <td>NaN</td>\n",
       "      <td>NaN</td>\n",
       "      <td>NaN</td>\n",
       "      <td>NaN</td>\n",
       "      <td>NaN</td>\n",
       "      <td>NaN</td>\n",
       "      <td>NaN</td>\n",
       "      <td>NaN</td>\n",
       "      <td>NaN</td>\n",
       "      <td>NaN</td>\n",
       "    </tr>\n",
       "    <tr>\n",
       "      <th>passenger_count</th>\n",
       "      <td>NaN</td>\n",
       "      <td>NaN</td>\n",
       "      <td>NaN</td>\n",
       "      <td>NaN</td>\n",
       "      <td>NaN</td>\n",
       "      <td>NaN</td>\n",
       "      <td>NaN</td>\n",
       "      <td>NaN</td>\n",
       "      <td>NaN</td>\n",
       "      <td>NaN</td>\n",
       "      <td>NaN</td>\n",
       "      <td>NaN</td>\n",
       "    </tr>\n",
       "    <tr>\n",
       "      <th>pickup_longitude</th>\n",
       "      <td>NaN</td>\n",
       "      <td>NaN</td>\n",
       "      <td>NaN</td>\n",
       "      <td>NaN</td>\n",
       "      <td>NaN</td>\n",
       "      <td>-0.999818</td>\n",
       "      <td>NaN</td>\n",
       "      <td>0.902054</td>\n",
       "      <td>-0.901793</td>\n",
       "      <td>NaN</td>\n",
       "      <td>NaN</td>\n",
       "      <td>NaN</td>\n",
       "    </tr>\n",
       "    <tr>\n",
       "      <th>pickup_latitude</th>\n",
       "      <td>NaN</td>\n",
       "      <td>NaN</td>\n",
       "      <td>NaN</td>\n",
       "      <td>NaN</td>\n",
       "      <td>-0.999818</td>\n",
       "      <td>NaN</td>\n",
       "      <td>NaN</td>\n",
       "      <td>-0.902017</td>\n",
       "      <td>0.901948</td>\n",
       "      <td>NaN</td>\n",
       "      <td>NaN</td>\n",
       "      <td>NaN</td>\n",
       "    </tr>\n",
       "    <tr>\n",
       "      <th>rate_code</th>\n",
       "      <td>NaN</td>\n",
       "      <td>NaN</td>\n",
       "      <td>NaN</td>\n",
       "      <td>NaN</td>\n",
       "      <td>NaN</td>\n",
       "      <td>NaN</td>\n",
       "      <td>NaN</td>\n",
       "      <td>NaN</td>\n",
       "      <td>NaN</td>\n",
       "      <td>NaN</td>\n",
       "      <td>NaN</td>\n",
       "      <td>NaN</td>\n",
       "    </tr>\n",
       "    <tr>\n",
       "      <th>dropoff_longitude</th>\n",
       "      <td>NaN</td>\n",
       "      <td>NaN</td>\n",
       "      <td>NaN</td>\n",
       "      <td>NaN</td>\n",
       "      <td>0.902054</td>\n",
       "      <td>-0.902017</td>\n",
       "      <td>NaN</td>\n",
       "      <td>NaN</td>\n",
       "      <td>-0.999824</td>\n",
       "      <td>NaN</td>\n",
       "      <td>NaN</td>\n",
       "      <td>NaN</td>\n",
       "    </tr>\n",
       "    <tr>\n",
       "      <th>dropoff_latitude</th>\n",
       "      <td>NaN</td>\n",
       "      <td>NaN</td>\n",
       "      <td>NaN</td>\n",
       "      <td>NaN</td>\n",
       "      <td>-0.901793</td>\n",
       "      <td>0.901948</td>\n",
       "      <td>NaN</td>\n",
       "      <td>-0.999824</td>\n",
       "      <td>NaN</td>\n",
       "      <td>NaN</td>\n",
       "      <td>NaN</td>\n",
       "      <td>NaN</td>\n",
       "    </tr>\n",
       "    <tr>\n",
       "      <th>surcharge</th>\n",
       "      <td>NaN</td>\n",
       "      <td>NaN</td>\n",
       "      <td>NaN</td>\n",
       "      <td>NaN</td>\n",
       "      <td>NaN</td>\n",
       "      <td>NaN</td>\n",
       "      <td>NaN</td>\n",
       "      <td>NaN</td>\n",
       "      <td>NaN</td>\n",
       "      <td>NaN</td>\n",
       "      <td>NaN</td>\n",
       "      <td>NaN</td>\n",
       "    </tr>\n",
       "    <tr>\n",
       "      <th>fare_amount</th>\n",
       "      <td>NaN</td>\n",
       "      <td>NaN</td>\n",
       "      <td>NaN</td>\n",
       "      <td>NaN</td>\n",
       "      <td>NaN</td>\n",
       "      <td>NaN</td>\n",
       "      <td>NaN</td>\n",
       "      <td>NaN</td>\n",
       "      <td>NaN</td>\n",
       "      <td>NaN</td>\n",
       "      <td>NaN</td>\n",
       "      <td>NaN</td>\n",
       "    </tr>\n",
       "    <tr>\n",
       "      <th>total_jrny</th>\n",
       "      <td>NaN</td>\n",
       "      <td>NaN</td>\n",
       "      <td>NaN</td>\n",
       "      <td>NaN</td>\n",
       "      <td>NaN</td>\n",
       "      <td>NaN</td>\n",
       "      <td>NaN</td>\n",
       "      <td>NaN</td>\n",
       "      <td>NaN</td>\n",
       "      <td>NaN</td>\n",
       "      <td>NaN</td>\n",
       "      <td>NaN</td>\n",
       "    </tr>\n",
       "  </tbody>\n",
       "</table>\n",
       "</div>"
      ],
      "text/plain": [
       "                   tolls_amount  tip_amount  mta_tax  passenger_count  \\\n",
       "tolls_amount                NaN         NaN      NaN              NaN   \n",
       "tip_amount                  NaN         NaN      NaN              NaN   \n",
       "mta_tax                     NaN         NaN      NaN              NaN   \n",
       "passenger_count             NaN         NaN      NaN              NaN   \n",
       "pickup_longitude            NaN         NaN      NaN              NaN   \n",
       "pickup_latitude             NaN         NaN      NaN              NaN   \n",
       "rate_code                   NaN         NaN      NaN              NaN   \n",
       "dropoff_longitude           NaN         NaN      NaN              NaN   \n",
       "dropoff_latitude            NaN         NaN      NaN              NaN   \n",
       "surcharge                   NaN         NaN      NaN              NaN   \n",
       "fare_amount                 NaN         NaN      NaN              NaN   \n",
       "total_jrny                  NaN         NaN      NaN              NaN   \n",
       "\n",
       "                   pickup_longitude  pickup_latitude  rate_code  \\\n",
       "tolls_amount                    NaN              NaN        NaN   \n",
       "tip_amount                      NaN              NaN        NaN   \n",
       "mta_tax                         NaN              NaN        NaN   \n",
       "passenger_count                 NaN              NaN        NaN   \n",
       "pickup_longitude                NaN        -0.999818        NaN   \n",
       "pickup_latitude           -0.999818              NaN        NaN   \n",
       "rate_code                       NaN              NaN        NaN   \n",
       "dropoff_longitude          0.902054        -0.902017        NaN   \n",
       "dropoff_latitude          -0.901793         0.901948        NaN   \n",
       "surcharge                       NaN              NaN        NaN   \n",
       "fare_amount                     NaN              NaN        NaN   \n",
       "total_jrny                      NaN              NaN        NaN   \n",
       "\n",
       "                   dropoff_longitude  dropoff_latitude  surcharge  \\\n",
       "tolls_amount                     NaN               NaN        NaN   \n",
       "tip_amount                       NaN               NaN        NaN   \n",
       "mta_tax                          NaN               NaN        NaN   \n",
       "passenger_count                  NaN               NaN        NaN   \n",
       "pickup_longitude            0.902054         -0.901793        NaN   \n",
       "pickup_latitude            -0.902017          0.901948        NaN   \n",
       "rate_code                        NaN               NaN        NaN   \n",
       "dropoff_longitude                NaN         -0.999824        NaN   \n",
       "dropoff_latitude           -0.999824               NaN        NaN   \n",
       "surcharge                        NaN               NaN        NaN   \n",
       "fare_amount                      NaN               NaN        NaN   \n",
       "total_jrny                       NaN               NaN        NaN   \n",
       "\n",
       "                   fare_amount  total_jrny  \n",
       "tolls_amount               NaN         NaN  \n",
       "tip_amount                 NaN         NaN  \n",
       "mta_tax                    NaN         NaN  \n",
       "passenger_count            NaN         NaN  \n",
       "pickup_longitude           NaN         NaN  \n",
       "pickup_latitude            NaN         NaN  \n",
       "rate_code                  NaN         NaN  \n",
       "dropoff_longitude          NaN         NaN  \n",
       "dropoff_latitude           NaN         NaN  \n",
       "surcharge                  NaN         NaN  \n",
       "fare_amount                NaN         NaN  \n",
       "total_jrny                 NaN         NaN  "
      ]
     },
     "execution_count": 13,
     "metadata": {},
     "output_type": "execute_result"
    }
   ],
   "source": [
    "train.corr()[((train.corr() < -0.85) | (train.corr() > 0.85)) & (train.corr() != 1)]"
   ]
  },
  {
   "cell_type": "markdown",
   "metadata": {},
   "source": [
    "# Lets Build simple linear Model"
   ]
  },
  {
   "cell_type": "code",
   "execution_count": 37,
   "metadata": {
    "collapsed": true
   },
   "outputs": [],
   "source": [
    "from sklearn import linear_model\n",
    "from sklearn.metrics import mean_squared_error, r2_score\n",
    "from sklearn.linear_model import LinearRegression"
   ]
  },
  {
   "cell_type": "code",
   "execution_count": 38,
   "metadata": {
    "collapsed": true
   },
   "outputs": [],
   "source": [
    "lin_model = LinearRegression(normalize=True)"
   ]
  },
  {
   "cell_type": "code",
   "execution_count": 39,
   "metadata": {
    "collapsed": false
   },
   "outputs": [],
   "source": [
    "X = train['total_jrny']"
   ]
  },
  {
   "cell_type": "code",
   "execution_count": 40,
   "metadata": {
    "collapsed": true
   },
   "outputs": [],
   "source": [
    "X = X.reshape(-1,1)"
   ]
  },
  {
   "cell_type": "code",
   "execution_count": 41,
   "metadata": {
    "collapsed": true
   },
   "outputs": [],
   "source": [
    "y = train['fare_amount']"
   ]
  },
  {
   "cell_type": "code",
   "execution_count": 42,
   "metadata": {
    "collapsed": true
   },
   "outputs": [],
   "source": [
    "y = y.reshape(-1,1)"
   ]
  },
  {
   "cell_type": "code",
   "execution_count": 43,
   "metadata": {
    "collapsed": false
   },
   "outputs": [
    {
     "data": {
      "text/plain": [
       "LinearRegression(copy_X=True, fit_intercept=True, n_jobs=1, normalize=True)"
      ]
     },
     "execution_count": 43,
     "metadata": {},
     "output_type": "execute_result"
    }
   ],
   "source": [
    "lin_model.fit(X,y)"
   ]
  },
  {
   "cell_type": "code",
   "execution_count": 44,
   "metadata": {
    "collapsed": true
   },
   "outputs": [],
   "source": [
    "test = pd.read_csv('test.csv')"
   ]
  },
  {
   "cell_type": "code",
   "execution_count": 45,
   "metadata": {
    "collapsed": true
   },
   "outputs": [],
   "source": [
    "test = convert_datetime(test)"
   ]
  },
  {
   "cell_type": "code",
   "execution_count": 46,
   "metadata": {
    "collapsed": true
   },
   "outputs": [],
   "source": [
    "test['total_jrny'] = cal(test)"
   ]
  },
  {
   "cell_type": "code",
   "execution_count": 47,
   "metadata": {
    "collapsed": false
   },
   "outputs": [
    {
     "data": {
      "text/plain": [
       "0     3.166667\n",
       "1     4.700000\n",
       "2    12.683333\n",
       "3    25.733333\n",
       "4    18.200000\n",
       "Name: total_jrny, dtype: float64"
      ]
     },
     "execution_count": 47,
     "metadata": {},
     "output_type": "execute_result"
    }
   ],
   "source": [
    "test['total_jrny'].head()"
   ]
  },
  {
   "cell_type": "code",
   "execution_count": 48,
   "metadata": {
    "collapsed": false
   },
   "outputs": [
    {
     "data": {
      "text/html": [
       "<div>\n",
       "<table border=\"1\" class=\"dataframe\">\n",
       "  <thead>\n",
       "    <tr style=\"text-align: right;\">\n",
       "      <th></th>\n",
       "      <th>TID</th>\n",
       "      <th>vendor_id</th>\n",
       "      <th>new_user</th>\n",
       "      <th>tolls_amount</th>\n",
       "      <th>tip_amount</th>\n",
       "      <th>mta_tax</th>\n",
       "      <th>pickup_datetime</th>\n",
       "      <th>dropoff_datetime</th>\n",
       "      <th>passenger_count</th>\n",
       "      <th>pickup_longitude</th>\n",
       "      <th>pickup_latitude</th>\n",
       "      <th>rate_code</th>\n",
       "      <th>store_and_fwd_flag</th>\n",
       "      <th>dropoff_longitude</th>\n",
       "      <th>dropoff_latitude</th>\n",
       "      <th>payment_type</th>\n",
       "      <th>surcharge</th>\n",
       "      <th>total_jrny</th>\n",
       "    </tr>\n",
       "  </thead>\n",
       "  <tbody>\n",
       "    <tr>\n",
       "      <th>0</th>\n",
       "      <td>AJX000119871</td>\n",
       "      <td>DST000481</td>\n",
       "      <td>NO</td>\n",
       "      <td>0.0</td>\n",
       "      <td>0.00</td>\n",
       "      <td>0.5</td>\n",
       "      <td>2016-05-14 13:42:33</td>\n",
       "      <td>2016-05-14 13:45:43</td>\n",
       "      <td>1</td>\n",
       "      <td>-73.971794</td>\n",
       "      <td>40.797230</td>\n",
       "      <td>1</td>\n",
       "      <td>Y</td>\n",
       "      <td>-73.972488</td>\n",
       "      <td>40.791576</td>\n",
       "      <td>CSH</td>\n",
       "      <td>0.0</td>\n",
       "      <td>3.166667</td>\n",
       "    </tr>\n",
       "    <tr>\n",
       "      <th>1</th>\n",
       "      <td>AJX000119872</td>\n",
       "      <td>DST000543</td>\n",
       "      <td>NO</td>\n",
       "      <td>0.0</td>\n",
       "      <td>1.26</td>\n",
       "      <td>0.5</td>\n",
       "      <td>2016-05-04 01:24:39</td>\n",
       "      <td>2016-05-04 01:29:21</td>\n",
       "      <td>2</td>\n",
       "      <td>-73.992210</td>\n",
       "      <td>40.713123</td>\n",
       "      <td>1</td>\n",
       "      <td></td>\n",
       "      <td>-73.987244</td>\n",
       "      <td>40.720276</td>\n",
       "      <td>CRD</td>\n",
       "      <td>0.5</td>\n",
       "      <td>4.700000</td>\n",
       "    </tr>\n",
       "    <tr>\n",
       "      <th>2</th>\n",
       "      <td>AJX000119873</td>\n",
       "      <td>DST000543</td>\n",
       "      <td>NO</td>\n",
       "      <td>0.0</td>\n",
       "      <td>0.00</td>\n",
       "      <td>0.5</td>\n",
       "      <td>2016-05-28 15:12:21</td>\n",
       "      <td>2016-05-28 15:25:02</td>\n",
       "      <td>6</td>\n",
       "      <td>-73.991753</td>\n",
       "      <td>40.744305</td>\n",
       "      <td>1</td>\n",
       "      <td>N</td>\n",
       "      <td>-73.979828</td>\n",
       "      <td>40.761417</td>\n",
       "      <td>CSH</td>\n",
       "      <td>0.0</td>\n",
       "      <td>12.683333</td>\n",
       "    </tr>\n",
       "    <tr>\n",
       "      <th>3</th>\n",
       "      <td>AJX000119874</td>\n",
       "      <td>DST000543</td>\n",
       "      <td>NO</td>\n",
       "      <td>0.0</td>\n",
       "      <td>0.00</td>\n",
       "      <td>0.5</td>\n",
       "      <td>2016-05-02 21:08:40</td>\n",
       "      <td>2016-05-02 21:34:24</td>\n",
       "      <td>4</td>\n",
       "      <td>-73.957588</td>\n",
       "      <td>40.717602</td>\n",
       "      <td>1</td>\n",
       "      <td>N</td>\n",
       "      <td>-73.919868</td>\n",
       "      <td>40.695366</td>\n",
       "      <td>CSH</td>\n",
       "      <td>0.5</td>\n",
       "      <td>25.733333</td>\n",
       "    </tr>\n",
       "    <tr>\n",
       "      <th>4</th>\n",
       "      <td>AJX000119875</td>\n",
       "      <td>DST000543</td>\n",
       "      <td>NO</td>\n",
       "      <td>0.0</td>\n",
       "      <td>0.00</td>\n",
       "      <td>0.5</td>\n",
       "      <td>2016-05-09 17:00:33</td>\n",
       "      <td>2016-05-09 17:18:45</td>\n",
       "      <td>1</td>\n",
       "      <td>-73.970985</td>\n",
       "      <td>40.763931</td>\n",
       "      <td>1</td>\n",
       "      <td>N</td>\n",
       "      <td>-73.991409</td>\n",
       "      <td>40.731861</td>\n",
       "      <td>CSH</td>\n",
       "      <td>0.0</td>\n",
       "      <td>18.200000</td>\n",
       "    </tr>\n",
       "  </tbody>\n",
       "</table>\n",
       "</div>"
      ],
      "text/plain": [
       "            TID  vendor_id new_user  tolls_amount  tip_amount  mta_tax  \\\n",
       "0  AJX000119871  DST000481       NO           0.0        0.00      0.5   \n",
       "1  AJX000119872  DST000543       NO           0.0        1.26      0.5   \n",
       "2  AJX000119873  DST000543       NO           0.0        0.00      0.5   \n",
       "3  AJX000119874  DST000543       NO           0.0        0.00      0.5   \n",
       "4  AJX000119875  DST000543       NO           0.0        0.00      0.5   \n",
       "\n",
       "      pickup_datetime    dropoff_datetime  passenger_count  pickup_longitude  \\\n",
       "0 2016-05-14 13:42:33 2016-05-14 13:45:43                1        -73.971794   \n",
       "1 2016-05-04 01:24:39 2016-05-04 01:29:21                2        -73.992210   \n",
       "2 2016-05-28 15:12:21 2016-05-28 15:25:02                6        -73.991753   \n",
       "3 2016-05-02 21:08:40 2016-05-02 21:34:24                4        -73.957588   \n",
       "4 2016-05-09 17:00:33 2016-05-09 17:18:45                1        -73.970985   \n",
       "\n",
       "   pickup_latitude  rate_code store_and_fwd_flag  dropoff_longitude  \\\n",
       "0        40.797230          1                  Y         -73.972488   \n",
       "1        40.713123          1                            -73.987244   \n",
       "2        40.744305          1                  N         -73.979828   \n",
       "3        40.717602          1                  N         -73.919868   \n",
       "4        40.763931          1                  N         -73.991409   \n",
       "\n",
       "   dropoff_latitude payment_type  surcharge  total_jrny  \n",
       "0         40.791576          CSH        0.0    3.166667  \n",
       "1         40.720276          CRD        0.5    4.700000  \n",
       "2         40.761417          CSH        0.0   12.683333  \n",
       "3         40.695366          CSH        0.5   25.733333  \n",
       "4         40.731861          CSH        0.0   18.200000  "
      ]
     },
     "execution_count": 48,
     "metadata": {},
     "output_type": "execute_result"
    }
   ],
   "source": [
    "test.head()"
   ]
  },
  {
   "cell_type": "code",
   "execution_count": 49,
   "metadata": {
    "collapsed": true
   },
   "outputs": [],
   "source": [
    "X_test = test['total_jrny']"
   ]
  },
  {
   "cell_type": "code",
   "execution_count": 50,
   "metadata": {
    "collapsed": true
   },
   "outputs": [],
   "source": [
    "X_test = X_test.reshape(-1,1)"
   ]
  },
  {
   "cell_type": "code",
   "execution_count": 51,
   "metadata": {
    "collapsed": false
   },
   "outputs": [],
   "source": [
    "pred = lin_model.predict(X_test)"
   ]
  },
  {
   "cell_type": "code",
   "execution_count": 52,
   "metadata": {
    "collapsed": false
   },
   "outputs": [
    {
     "data": {
      "text/html": [
       "<div>\n",
       "<table border=\"1\" class=\"dataframe\">\n",
       "  <thead>\n",
       "    <tr style=\"text-align: right;\">\n",
       "      <th></th>\n",
       "      <th>TID</th>\n",
       "      <th>fare_amount</th>\n",
       "    </tr>\n",
       "  </thead>\n",
       "  <tbody>\n",
       "    <tr>\n",
       "      <th>0</th>\n",
       "      <td>AJX000119871</td>\n",
       "      <td>15.213918</td>\n",
       "    </tr>\n",
       "    <tr>\n",
       "      <th>1</th>\n",
       "      <td>AJX000119872</td>\n",
       "      <td>15.228628</td>\n",
       "    </tr>\n",
       "    <tr>\n",
       "      <th>2</th>\n",
       "      <td>AJX000119873</td>\n",
       "      <td>15.305217</td>\n",
       "    </tr>\n",
       "    <tr>\n",
       "      <th>3</th>\n",
       "      <td>AJX000119874</td>\n",
       "      <td>15.430414</td>\n",
       "    </tr>\n",
       "    <tr>\n",
       "      <th>4</th>\n",
       "      <td>AJX000119875</td>\n",
       "      <td>15.358142</td>\n",
       "    </tr>\n",
       "  </tbody>\n",
       "</table>\n",
       "</div>"
      ],
      "text/plain": [
       "            TID  fare_amount\n",
       "0  AJX000119871    15.213918\n",
       "1  AJX000119872    15.228628\n",
       "2  AJX000119873    15.305217\n",
       "3  AJX000119874    15.430414\n",
       "4  AJX000119875    15.358142"
      ]
     },
     "execution_count": 52,
     "metadata": {},
     "output_type": "execute_result"
    }
   ],
   "source": [
    "# create submission file\n",
    "submission = pd.DataFrame(data=[], columns=['TID', 'fare_amount'])\n",
    "submission.TID = test.TID; submission.fare_amount = pred\n",
    "submission.to_csv('submission.csv', index=False)\n",
    "submission.head()"
   ]
  }
 ],
 "metadata": {
  "anaconda-cloud": {},
  "kernelspec": {
   "display_name": "Python [conda root]",
   "language": "python",
   "name": "conda-root-py"
  },
  "language_info": {
   "codemirror_mode": {
    "name": "ipython",
    "version": 3
   },
   "file_extension": ".py",
   "mimetype": "text/x-python",
   "name": "python",
   "nbconvert_exporter": "python",
   "pygments_lexer": "ipython3",
   "version": "3.5.2"
  }
 },
 "nbformat": 4,
 "nbformat_minor": 1
}
