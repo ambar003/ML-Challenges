{
 "cells": [
  {
   "cell_type": "code",
   "execution_count": 1,
   "metadata": {
    "collapsed": true
   },
   "outputs": [],
   "source": [
    "import os\n",
    "mingw_path = 'C:\\\\Program Files\\\\mingw-w64\\\\x86_64-6.3.0-posix-seh-rt_v5-rev1\\\\mingw64\\\\bin'\n",
    "os.environ['PATH'] = mingw_path + ';' + os.environ['PATH']"
   ]
  },
  {
   "cell_type": "code",
   "execution_count": 2,
   "metadata": {
    "collapsed": false
   },
   "outputs": [],
   "source": [
    "from xgboost.sklearn import XGBRegressor"
   ]
  },
  {
   "cell_type": "code",
   "execution_count": 3,
   "metadata": {
    "collapsed": true
   },
   "outputs": [],
   "source": [
    "import numpy as np\n",
    "import pandas as pd"
   ]
  },
  {
   "cell_type": "code",
   "execution_count": 4,
   "metadata": {
    "collapsed": false
   },
   "outputs": [],
   "source": [
    "from sklearn.linear_model import LinearRegression\n",
    "from sklearn import cross_validation,metrics\n",
    "from sklearn.grid_search import GridSearchCV\n",
    "from sklearn.ensemble import RandomForestRegressor\n",
    "from sklearn.ensemble import ExtraTreesRegressor"
   ]
  },
  {
   "cell_type": "code",
   "execution_count": 5,
   "metadata": {
    "collapsed": true
   },
   "outputs": [],
   "source": [
    "train = pd.read_csv('updated_train.csv')\n",
    "test = pd.read_csv('updated_test.csv')"
   ]
  },
  {
   "cell_type": "code",
   "execution_count": 6,
   "metadata": {
    "collapsed": true
   },
   "outputs": [],
   "source": [
    "df = pd.read_csv('fraction.csv')"
   ]
  },
  {
   "cell_type": "code",
   "execution_count": 7,
   "metadata": {
    "collapsed": true
   },
   "outputs": [],
   "source": [
    "features = ['vendor_id','tolls_amount', 'tip_amount', 'mta_tax','passenger_count','rate_code','surcharge',\n",
    "            'total_jrny', 'CRD','CSH', 'DIS', 'NOC', 'UNK', 'distance']"
   ]
  },
  {
   "cell_type": "code",
   "execution_count": 8,
   "metadata": {
    "collapsed": true
   },
   "outputs": [],
   "source": [
    "X = df[features]\n",
    "y = df['fare_amount']"
   ]
  },
  {
   "cell_type": "markdown",
   "metadata": {},
   "source": [
    "# Model 1:- Random Forest"
   ]
  },
  {
   "cell_type": "code",
   "execution_count": 17,
   "metadata": {
    "collapsed": false
   },
   "outputs": [
    {
     "data": {
      "text/plain": [
       "({'max_depth': 40, 'min_samples_split': 20}, 0.96108700642583234)"
      ]
     },
     "execution_count": 17,
     "metadata": {},
     "output_type": "execute_result"
    }
   ],
   "source": [
    "param_test1 = {\n",
    " 'max_depth':[1,5,10,20,40,80],\n",
    "  'min_samples_split':[2,10,20,50,100]  \n",
    "}\n",
    "gsearch1 = GridSearchCV(estimator = RandomForestRegressor(n_estimators=100, max_depth=2,min_samples_split=2,\n",
    "                                                          min_samples_leaf=1,bootstrap=True,n_jobs=-1,random_state=111),\n",
    "                        param_grid = param_test1,n_jobs=4,iid=False, cv=5)\n",
    "gsearch1.fit(X,y)\n",
    "gsearch1.best_params_, gsearch1.best_score_"
   ]
  },
  {
   "cell_type": "code",
   "execution_count": 18,
   "metadata": {
    "collapsed": false
   },
   "outputs": [
    {
     "data": {
      "text/plain": [
       "({'max_depth': 30, 'min_samples_split': 15}, 0.96123270370460379)"
      ]
     },
     "execution_count": 18,
     "metadata": {},
     "output_type": "execute_result"
    }
   ],
   "source": [
    "param_test2 = {\n",
    " 'max_depth':[30,40,50,60],\n",
    "  'min_samples_split':[15,20,25,30,50]  \n",
    "}\n",
    "gsearch2 = GridSearchCV(estimator = RandomForestRegressor(n_estimators=100, max_depth=2,min_samples_split=2,\n",
    "                                                          min_samples_leaf=1,bootstrap=True,n_jobs=-1,random_state=111),\n",
    "                        param_grid = param_test2,n_jobs=4,iid=False, cv=5)\n",
    "gsearch2.fit(X,y)\n",
    "gsearch2.best_params_, gsearch2.best_score_"
   ]
  },
  {
   "cell_type": "code",
   "execution_count": 19,
   "metadata": {
    "collapsed": false
   },
   "outputs": [
    {
     "data": {
      "text/plain": [
       "({'min_samples_split': 15}, 0.96123270370460379)"
      ]
     },
     "execution_count": 19,
     "metadata": {},
     "output_type": "execute_result"
    }
   ],
   "source": [
    "param_test3 ={\n",
    "    'min_samples_split':[11,12,13,14,15]\n",
    "}\n",
    "gsearch3 = GridSearchCV(estimator = RandomForestRegressor(n_estimators=100, max_depth=30,min_samples_split=2,\n",
    "                                                          min_samples_leaf=1,bootstrap=True,n_jobs=-1,random_state=111),\n",
    "                        param_grid = param_test3,n_jobs=4,iid=False, cv=5)\n",
    "gsearch3.fit(X,y)\n",
    "gsearch3.best_params_, gsearch3.best_score_"
   ]
  },
  {
   "cell_type": "code",
   "execution_count": 20,
   "metadata": {
    "collapsed": false
   },
   "outputs": [
    {
     "data": {
      "text/plain": [
       "({'min_samples_leaf': 1}, 0.96123270370460379)"
      ]
     },
     "execution_count": 20,
     "metadata": {},
     "output_type": "execute_result"
    }
   ],
   "source": [
    "param_test4 ={\n",
    "    'min_samples_leaf':[1,2,5,10,15]\n",
    "}\n",
    "gsearch4 = GridSearchCV(estimator = RandomForestRegressor(n_estimators=100, max_depth=30,min_samples_split=15,\n",
    "                                                          min_samples_leaf=1,bootstrap=True,n_jobs=-1,random_state=111),\n",
    "                        param_grid = param_test4,n_jobs=4,iid=False, cv=5)\n",
    "gsearch4.fit(X,y)\n",
    "gsearch4.best_params_, gsearch4.best_score_"
   ]
  },
  {
   "cell_type": "code",
   "execution_count": 21,
   "metadata": {
    "collapsed": false
   },
   "outputs": [
    {
     "data": {
      "text/plain": [
       "({'n_estimators': 1000}, 0.96163183634812444)"
      ]
     },
     "execution_count": 21,
     "metadata": {},
     "output_type": "execute_result"
    }
   ],
   "source": [
    "param_test5 ={\n",
    "    'n_estimators':[100,200,300,400,500,1000]\n",
    "}\n",
    "gsearch5 = GridSearchCV(estimator = RandomForestRegressor(n_estimators=100, max_depth=30,min_samples_split=15,\n",
    "                                                          min_samples_leaf=1,bootstrap=True,n_jobs=-1,random_state=111),\n",
    "                        param_grid = param_test5,n_jobs=4,iid=False, cv=5)\n",
    "gsearch5.fit(X,y)\n",
    "gsearch5.best_params_, gsearch5.best_score_"
   ]
  },
  {
   "cell_type": "code",
   "execution_count": 25,
   "metadata": {
    "collapsed": false
   },
   "outputs": [],
   "source": [
    "rfr = RandomForestRegressor(n_estimators=500,max_depth=30, min_samples_split=15, min_samples_leaf=1, \n",
    "                            bootstrap=True,n_jobs=-1, random_state=111)"
   ]
  },
  {
   "cell_type": "code",
   "execution_count": 26,
   "metadata": {
    "collapsed": false
   },
   "outputs": [
    {
     "data": {
      "text/plain": [
       "RandomForestRegressor(bootstrap=True, criterion='mse', max_depth=30,\n",
       "           max_features='auto', max_leaf_nodes=None, min_samples_leaf=1,\n",
       "           min_samples_split=15, min_weight_fraction_leaf=0.0,\n",
       "           n_estimators=500, n_jobs=-1, oob_score=False, random_state=111,\n",
       "           verbose=0, warm_start=False)"
      ]
     },
     "execution_count": 26,
     "metadata": {},
     "output_type": "execute_result"
    }
   ],
   "source": [
    "rfr.fit(X,y)"
   ]
  },
  {
   "cell_type": "code",
   "execution_count": 27,
   "metadata": {
    "collapsed": true
   },
   "outputs": [],
   "source": [
    "rfrpred = rfr.predict(test[features])"
   ]
  },
  {
   "cell_type": "code",
   "execution_count": 28,
   "metadata": {
    "collapsed": true
   },
   "outputs": [],
   "source": [
    "rfrpred = np.square(rfrpred)"
   ]
  },
  {
   "cell_type": "code",
   "execution_count": 29,
   "metadata": {
    "collapsed": false
   },
   "outputs": [
    {
     "data": {
      "text/html": [
       "<div>\n",
       "<table border=\"1\" class=\"dataframe\">\n",
       "  <thead>\n",
       "    <tr style=\"text-align: right;\">\n",
       "      <th></th>\n",
       "      <th>TID</th>\n",
       "      <th>fare_amount</th>\n",
       "    </tr>\n",
       "  </thead>\n",
       "  <tbody>\n",
       "    <tr>\n",
       "      <th>0</th>\n",
       "      <td>AJX000119871</td>\n",
       "      <td>4.799960</td>\n",
       "    </tr>\n",
       "    <tr>\n",
       "      <th>1</th>\n",
       "      <td>AJX000119872</td>\n",
       "      <td>7.579528</td>\n",
       "    </tr>\n",
       "    <tr>\n",
       "      <th>2</th>\n",
       "      <td>AJX000119873</td>\n",
       "      <td>10.521470</td>\n",
       "    </tr>\n",
       "    <tr>\n",
       "      <th>3</th>\n",
       "      <td>AJX000119874</td>\n",
       "      <td>19.113546</td>\n",
       "    </tr>\n",
       "    <tr>\n",
       "      <th>4</th>\n",
       "      <td>AJX000119875</td>\n",
       "      <td>15.979919</td>\n",
       "    </tr>\n",
       "  </tbody>\n",
       "</table>\n",
       "</div>"
      ],
      "text/plain": [
       "            TID  fare_amount\n",
       "0  AJX000119871     4.799960\n",
       "1  AJX000119872     7.579528\n",
       "2  AJX000119873    10.521470\n",
       "3  AJX000119874    19.113546\n",
       "4  AJX000119875    15.979919"
      ]
     },
     "execution_count": 29,
     "metadata": {},
     "output_type": "execute_result"
    }
   ],
   "source": [
    "submission = pd.DataFrame(data=[], columns=['TID', 'fare_amount'])\n",
    "submission.TID = test.TID; submission.fare_amount = rfrpred\n",
    "submission.to_csv('rfr.csv', index=False)\n",
    "submission.head()"
   ]
  },
  {
   "cell_type": "markdown",
   "metadata": {},
   "source": [
    "# Model 2:- XgBoost"
   ]
  },
  {
   "cell_type": "code",
   "execution_count": 39,
   "metadata": {
    "collapsed": false
   },
   "outputs": [
    {
     "data": {
      "text/plain": [
       "({'max_depth': 7, 'min_child_weight': 3}, 0.96516659102429025)"
      ]
     },
     "execution_count": 39,
     "metadata": {},
     "output_type": "execute_result"
    }
   ],
   "source": [
    "param_test1 = {\n",
    " 'max_depth':[3,5,7,9],\n",
    " 'min_child_weight':[1,3,5]\n",
    "}\n",
    "gsearch1 = GridSearchCV(estimator = XGBRegressor(learning_rate =0.1, n_estimators=100, max_depth=2,\n",
    " min_child_weight=1, gamma=0.0, colsample_bylevel=0.85 , colsample_bytree=0.85,max_delta_step=0,\n",
    " objective= 'reg:linear', nthread=4, scale_pos_weight=1, seed=27,subsample=1,reg_alpha=0,reg_lambda=1),\n",
    " param_grid = param_test1,n_jobs=4,iid=False, cv=10)\n",
    "gsearch1.fit(X,y)\n",
    "gsearch1.best_params_, gsearch1.best_score_"
   ]
  },
  {
   "cell_type": "code",
   "execution_count": 40,
   "metadata": {
    "collapsed": false
   },
   "outputs": [
    {
     "data": {
      "text/plain": [
       "({'max_depth': 7, 'min_child_weight': 3}, 0.96516659102429025)"
      ]
     },
     "execution_count": 40,
     "metadata": {},
     "output_type": "execute_result"
    }
   ],
   "source": [
    "# parameter testing first\n",
    "param_test2 = {\n",
    " 'max_depth':[6,7,8],\n",
    " 'min_child_weight':[3,4,5]\n",
    "}\n",
    "gsearch2 = GridSearchCV(estimator = XGBRegressor(learning_rate =0.1, n_estimators=100, max_depth=2,\n",
    " min_child_weight=1, gamma=0.0, colsample_bylevel=0.85 , colsample_bytree=0.85,max_delta_step=0,\n",
    " objective= 'reg:linear', nthread=4, scale_pos_weight=1, seed=27,subsample=1,reg_alpha=0,reg_lambda=1),\n",
    " param_grid = param_test2,n_jobs=4,iid=False, cv=10)\n",
    "gsearch2.fit(X,y)\n",
    "gsearch2.best_params_, gsearch2.best_score_"
   ]
  },
  {
   "cell_type": "code",
   "execution_count": 41,
   "metadata": {
    "collapsed": false
   },
   "outputs": [
    {
     "data": {
      "text/plain": [
       "({'gamma': 0.4}, 0.96532949710224225)"
      ]
     },
     "execution_count": 41,
     "metadata": {},
     "output_type": "execute_result"
    }
   ],
   "source": [
    "param_test3 = {\n",
    " 'gamma':[i/10.0 for i in range(0,5)]\n",
    "}\n",
    "gsearch3 = GridSearchCV(estimator = XGBRegressor(learning_rate =0.1, n_estimators=100, max_depth=7,\n",
    " min_child_weight=3, gamma=0.0, colsample_bylevel=0.85 , colsample_bytree=0.85,max_delta_step=0,\n",
    " objective= 'reg:linear', nthread=4, scale_pos_weight=1, seed=27,subsample=1,reg_alpha=0,reg_lambda=1),\n",
    " param_grid = param_test3,n_jobs=4,iid=False, cv=10)\n",
    "gsearch3.fit(X,y)\n",
    "gsearch3.best_params_, gsearch3.best_score_"
   ]
  },
  {
   "cell_type": "code",
   "execution_count": 42,
   "metadata": {
    "collapsed": false
   },
   "outputs": [
    {
     "data": {
      "text/plain": [
       "({'colsample_bytree': 0.6, 'subsample': 0.9}, 0.96532035017636986)"
      ]
     },
     "execution_count": 42,
     "metadata": {},
     "output_type": "execute_result"
    }
   ],
   "source": [
    "param_test4 = {\n",
    " 'subsample':[i/10.0 for i in range(6,10)],\n",
    " 'colsample_bytree':[i/10.0 for i in range(6,10)]\n",
    "}\n",
    "gsearch4 = GridSearchCV(estimator = XGBRegressor(learning_rate =0.1, n_estimators=100, max_depth=7,\n",
    " min_child_weight=3, gamma=0.4, colsample_bylevel=0.85, colsample_bytree=0.85,max_delta_step=0,\n",
    " objective= 'reg:linear', nthread=4, scale_pos_weight=1, seed=27,subsample=1,reg_alpha=0,reg_lambda=1),\n",
    " param_grid = param_test4,n_jobs=4,iid=False, cv=10)\n",
    "gsearch4.fit(X,y)\n",
    "gsearch4.best_params_, gsearch4.best_score_"
   ]
  },
  {
   "cell_type": "code",
   "execution_count": 44,
   "metadata": {
    "collapsed": false
   },
   "outputs": [
    {
     "data": {
      "text/plain": [
       "({'colsample_bytree': 0.65, 'subsample': 0.95}, 0.9653611413901324)"
      ]
     },
     "execution_count": 44,
     "metadata": {},
     "output_type": "execute_result"
    }
   ],
   "source": [
    "param_test4 = {\n",
    " 'subsample':[0.85,0.9,0.95],\n",
    " 'colsample_bytree':[0.55,0.6,0.65]\n",
    "}\n",
    "gsearch4 = GridSearchCV(estimator = XGBRegressor(learning_rate =0.1, n_estimators=100, max_depth=7,\n",
    " min_child_weight=3, gamma=0.4, colsample_bylevel=0.85, colsample_bytree=0.85,max_delta_step=0,\n",
    " objective= 'reg:linear', nthread=4, scale_pos_weight=1, seed=27,subsample=1,reg_alpha=0,reg_lambda=1),\n",
    " param_grid = param_test4,n_jobs=4,iid=False, cv=10)\n",
    "gsearch4.fit(X,y)\n",
    "gsearch4.best_params_, gsearch4.best_score_"
   ]
  },
  {
   "cell_type": "code",
   "execution_count": 45,
   "metadata": {
    "collapsed": false
   },
   "outputs": [
    {
     "data": {
      "text/plain": [
       "({'reg_alpha': 1e-05}, 0.9654499416727369)"
      ]
     },
     "execution_count": 45,
     "metadata": {},
     "output_type": "execute_result"
    }
   ],
   "source": [
    "param_test = {\n",
    " 'reg_alpha':[1e-5, 1e-2, 0.1, 1, 100]\n",
    "}\n",
    "gsearch = GridSearchCV(estimator = XGBRegressor(learning_rate =0.1, n_estimators=100, max_depth=7,\n",
    " min_child_weight=3, gamma=0.4, colsample_bylevel=0.85, colsample_bytree=0.65,max_delta_step=0,\n",
    " objective= 'reg:linear', nthread=4, scale_pos_weight=1, seed=27,subsample=0.95,reg_alpha=0,reg_lambda=1),\n",
    " param_grid = param_test,n_jobs=4,iid=False, cv=10)\n",
    "gsearch.fit(X,y)\n",
    "gsearch.best_params_, gsearch.best_score_"
   ]
  },
  {
   "cell_type": "code",
   "execution_count": 46,
   "metadata": {
    "collapsed": false
   },
   "outputs": [
    {
     "data": {
      "text/plain": [
       "({'reg_alpha': 1e-05}, 0.9654499416727369)"
      ]
     },
     "execution_count": 46,
     "metadata": {},
     "output_type": "execute_result"
    }
   ],
   "source": [
    "param_test = {\n",
    " 'reg_alpha':[1e-5,0, 0.001, 0.005, 0.01, 0.05]\n",
    "}\n",
    "gsearch = GridSearchCV(estimator = XGBRegressor(learning_rate =0.1, n_estimators=100, max_depth=7,\n",
    " min_child_weight=3, gamma=0.4, colsample_bylevel=0.85, colsample_bytree=0.65,max_delta_step=0,\n",
    " objective= 'reg:linear', nthread=4, scale_pos_weight=1, seed=27,subsample=0.95,reg_alpha=0,reg_lambda=1),\n",
    " param_grid = param_test,n_jobs=4,iid=False, cv=10)\n",
    "gsearch.fit(X,y)\n",
    "gsearch.best_params_, gsearch.best_score_"
   ]
  },
  {
   "cell_type": "code",
   "execution_count": 47,
   "metadata": {
    "collapsed": false
   },
   "outputs": [
    {
     "data": {
      "text/plain": [
       "({'colsample_bylevel': 0.8}, 0.9654499416727369)"
      ]
     },
     "execution_count": 47,
     "metadata": {},
     "output_type": "execute_result"
    }
   ],
   "source": [
    "param_test = {\n",
    " 'colsample_bylevel':[i/10.0 for i in range(6,10)]\n",
    "}\n",
    "gsearch = GridSearchCV(estimator = XGBRegressor(learning_rate =0.1, n_estimators=100, max_depth=7,\n",
    " min_child_weight=3, gamma=0.4, colsample_bylevel=0.85, colsample_bytree=0.65,max_delta_step=0,\n",
    " objective= 'reg:linear', nthread=4, scale_pos_weight=1, seed=27,subsample=0.95,reg_alpha=1e-5,reg_lambda=1),\n",
    " param_grid = param_test,n_jobs=4,iid=False, cv=10)\n",
    "gsearch.fit(X,y)\n",
    "gsearch.best_params_, gsearch.best_score_"
   ]
  },
  {
   "cell_type": "code",
   "execution_count": 121,
   "metadata": {
    "collapsed": true
   },
   "outputs": [],
   "source": [
    "xgb = XGBRegressor(learning_rate =0.01, n_estimators=500, max_depth=7,\n",
    " min_child_weight=5, gamma=0.005, colsample_bylevel=0.85 , colsample_bytree=0.65,\n",
    " objective= 'reg:linear', nthread=4, scale_pos_weight=1, seed=27,subsample=0.95,reg_alpha=1e-5)"
   ]
  },
  {
   "cell_type": "code",
   "execution_count": 122,
   "metadata": {
    "collapsed": false
   },
   "outputs": [
    {
     "data": {
      "text/plain": [
       "XGBRegressor(base_score=0.5, booster='gbtree', colsample_bylevel=0.85,\n",
       "       colsample_bytree=0.65, gamma=0.005, learning_rate=0.01,\n",
       "       max_delta_step=0, max_depth=7, min_child_weight=5, missing=None,\n",
       "       n_estimators=500, nthread=4, objective='reg:linear',\n",
       "       reg_alpha=1e-05, reg_lambda=1, scale_pos_weight=1, seed=27,\n",
       "       silent=True, subsample=0.95)"
      ]
     },
     "execution_count": 122,
     "metadata": {},
     "output_type": "execute_result"
    }
   ],
   "source": [
    "xgb.fit(X,y)"
   ]
  },
  {
   "cell_type": "code",
   "execution_count": 123,
   "metadata": {
    "collapsed": true
   },
   "outputs": [],
   "source": [
    "xgbpred = xgb.predict(test[features])"
   ]
  },
  {
   "cell_type": "code",
   "execution_count": 124,
   "metadata": {
    "collapsed": true
   },
   "outputs": [],
   "source": [
    "xgbpred = np.square(xgbpred)"
   ]
  },
  {
   "cell_type": "code",
   "execution_count": 126,
   "metadata": {
    "collapsed": false
   },
   "outputs": [
    {
     "data": {
      "text/html": [
       "<div>\n",
       "<table border=\"1\" class=\"dataframe\">\n",
       "  <thead>\n",
       "    <tr style=\"text-align: right;\">\n",
       "      <th></th>\n",
       "      <th>TID</th>\n",
       "      <th>fare_amount</th>\n",
       "    </tr>\n",
       "  </thead>\n",
       "  <tbody>\n",
       "    <tr>\n",
       "      <th>0</th>\n",
       "      <td>AJX000119871</td>\n",
       "      <td>4.948950</td>\n",
       "    </tr>\n",
       "    <tr>\n",
       "      <th>1</th>\n",
       "      <td>AJX000119872</td>\n",
       "      <td>7.616688</td>\n",
       "    </tr>\n",
       "    <tr>\n",
       "      <th>2</th>\n",
       "      <td>AJX000119873</td>\n",
       "      <td>10.464274</td>\n",
       "    </tr>\n",
       "    <tr>\n",
       "      <th>3</th>\n",
       "      <td>AJX000119874</td>\n",
       "      <td>19.255938</td>\n",
       "    </tr>\n",
       "    <tr>\n",
       "      <th>4</th>\n",
       "      <td>AJX000119875</td>\n",
       "      <td>15.102335</td>\n",
       "    </tr>\n",
       "  </tbody>\n",
       "</table>\n",
       "</div>"
      ],
      "text/plain": [
       "            TID  fare_amount\n",
       "0  AJX000119871     4.948950\n",
       "1  AJX000119872     7.616688\n",
       "2  AJX000119873    10.464274\n",
       "3  AJX000119874    19.255938\n",
       "4  AJX000119875    15.102335"
      ]
     },
     "execution_count": 126,
     "metadata": {},
     "output_type": "execute_result"
    }
   ],
   "source": [
    "submission = pd.DataFrame(data=[], columns=['TID', 'fare_amount'])\n",
    "submission.TID = test.TID; submission.fare_amount = xgbpred\n",
    "submission.to_csv('xgb.csv', index=False)\n",
    "submission.head()"
   ]
  },
  {
   "cell_type": "markdown",
   "metadata": {},
   "source": [
    "# Model 3:- KNN Model"
   ]
  },
  {
   "cell_type": "code",
   "execution_count": 129,
   "metadata": {
    "collapsed": true
   },
   "outputs": [],
   "source": [
    "from sklearn.neighbors import KNeighborsRegressor"
   ]
  },
  {
   "cell_type": "code",
   "execution_count": 131,
   "metadata": {
    "collapsed": false
   },
   "outputs": [
    {
     "data": {
      "text/plain": [
       "({'n_neighbors': 6}, 0.94422661142786635)"
      ]
     },
     "execution_count": 131,
     "metadata": {},
     "output_type": "execute_result"
    }
   ],
   "source": [
    "param_test={\n",
    "    'n_neighbors':list(range(1,31,1))\n",
    "}\n",
    "gsearch = GridSearchCV(estimator = KNeighborsRegressor(n_neighbors=5, weights='uniform', algorithm='auto', leaf_size=30, p=2, \n",
    "                       metric='minkowski', n_jobs=-1),\n",
    "param_grid = param_test,n_jobs=4,iid=False, cv=10)\n",
    "gsearch.fit(X,y)\n",
    "gsearch.best_params_, gsearch.best_score_"
   ]
  },
  {
   "cell_type": "code",
   "execution_count": 132,
   "metadata": {
    "collapsed": false
   },
   "outputs": [
    {
     "data": {
      "text/plain": [
       "({'weights': 'distance'}, 0.94430016501764968)"
      ]
     },
     "execution_count": 132,
     "metadata": {},
     "output_type": "execute_result"
    }
   ],
   "source": [
    "param_test={\n",
    "    'weights':['uniform','distance']\n",
    "}\n",
    "gsearch = GridSearchCV(estimator = KNeighborsRegressor(n_neighbors=6, weights='uniform', algorithm='auto', leaf_size=30, p=2, \n",
    "                       metric='minkowski', n_jobs=-1),\n",
    "param_grid = param_test,n_jobs=4,iid=False, cv=10)\n",
    "gsearch.fit(X,y)\n",
    "gsearch.best_params_, gsearch.best_score_"
   ]
  },
  {
   "cell_type": "code",
   "execution_count": 134,
   "metadata": {
    "collapsed": false
   },
   "outputs": [
    {
     "data": {
      "text/plain": [
       "({'leaf_size': 10}, 0.94431646022403748)"
      ]
     },
     "execution_count": 134,
     "metadata": {},
     "output_type": "execute_result"
    }
   ],
   "source": [
    "param_test={\n",
    "    'leaf_size':[10,20,30,40,50,60,70,80,90,100]\n",
    "}\n",
    "gsearch = GridSearchCV(estimator = KNeighborsRegressor(n_neighbors=6, weights='distance', algorithm='auto', leaf_size=30, p=2, \n",
    "                       metric='minkowski', n_jobs=-1),\n",
    "param_grid = param_test,n_jobs=4,iid=False, cv=10)\n",
    "gsearch.fit(X,y)\n",
    "gsearch.best_params_, gsearch.best_score_"
   ]
  },
  {
   "cell_type": "code",
   "execution_count": 135,
   "metadata": {
    "collapsed": false
   },
   "outputs": [
    {
     "data": {
      "text/plain": [
       "({'p': 1}, 0.94675829071020079)"
      ]
     },
     "execution_count": 135,
     "metadata": {},
     "output_type": "execute_result"
    }
   ],
   "source": [
    "param_test={\n",
    "    'p':[1,2]\n",
    "}\n",
    "gsearch = GridSearchCV(estimator = KNeighborsRegressor(n_neighbors=6, weights='distance', algorithm='auto', leaf_size=10, p=2, \n",
    "                       metric='minkowski', n_jobs=-1),\n",
    "param_grid = param_test,n_jobs=4,iid=False, cv=10)\n",
    "gsearch.fit(X,y)\n",
    "gsearch.best_params_, gsearch.best_score_"
   ]
  },
  {
   "cell_type": "code",
   "execution_count": 181,
   "metadata": {
    "collapsed": true
   },
   "outputs": [],
   "source": [
    "knn = KNeighborsRegressor(n_neighbors=12, weights='uniform', algorithm='auto', leaf_size=10, p=1, \n",
    "                       metric='minkowski', n_jobs=-1)"
   ]
  },
  {
   "cell_type": "code",
   "execution_count": 182,
   "metadata": {
    "collapsed": false
   },
   "outputs": [
    {
     "data": {
      "text/plain": [
       "KNeighborsRegressor(algorithm='auto', leaf_size=10, metric='minkowski',\n",
       "          metric_params=None, n_jobs=-1, n_neighbors=12, p=1,\n",
       "          weights='uniform')"
      ]
     },
     "execution_count": 182,
     "metadata": {},
     "output_type": "execute_result"
    }
   ],
   "source": [
    "knn.fit(X,y)"
   ]
  },
  {
   "cell_type": "code",
   "execution_count": 183,
   "metadata": {
    "collapsed": true
   },
   "outputs": [],
   "source": [
    "knnpred = knn.predict(test[features])"
   ]
  },
  {
   "cell_type": "code",
   "execution_count": 184,
   "metadata": {
    "collapsed": true
   },
   "outputs": [],
   "source": [
    "knnpred = np.square(knnpred)"
   ]
  },
  {
   "cell_type": "code",
   "execution_count": 185,
   "metadata": {
    "collapsed": false
   },
   "outputs": [
    {
     "data": {
      "text/html": [
       "<div>\n",
       "<table border=\"1\" class=\"dataframe\">\n",
       "  <thead>\n",
       "    <tr style=\"text-align: right;\">\n",
       "      <th></th>\n",
       "      <th>TID</th>\n",
       "      <th>fare_amount</th>\n",
       "    </tr>\n",
       "  </thead>\n",
       "  <tbody>\n",
       "    <tr>\n",
       "      <th>0</th>\n",
       "      <td>AJX000119871</td>\n",
       "      <td>4.963915</td>\n",
       "    </tr>\n",
       "    <tr>\n",
       "      <th>1</th>\n",
       "      <td>AJX000119872</td>\n",
       "      <td>7.803792</td>\n",
       "    </tr>\n",
       "    <tr>\n",
       "      <th>2</th>\n",
       "      <td>AJX000119873</td>\n",
       "      <td>10.579403</td>\n",
       "    </tr>\n",
       "    <tr>\n",
       "      <th>3</th>\n",
       "      <td>AJX000119874</td>\n",
       "      <td>18.611164</td>\n",
       "    </tr>\n",
       "    <tr>\n",
       "      <th>4</th>\n",
       "      <td>AJX000119875</td>\n",
       "      <td>15.123788</td>\n",
       "    </tr>\n",
       "  </tbody>\n",
       "</table>\n",
       "</div>"
      ],
      "text/plain": [
       "            TID  fare_amount\n",
       "0  AJX000119871     4.963915\n",
       "1  AJX000119872     7.803792\n",
       "2  AJX000119873    10.579403\n",
       "3  AJX000119874    18.611164\n",
       "4  AJX000119875    15.123788"
      ]
     },
     "execution_count": 185,
     "metadata": {},
     "output_type": "execute_result"
    }
   ],
   "source": [
    "submission = pd.DataFrame(data=[], columns=['TID', 'fare_amount'])\n",
    "submission.TID = test.TID; submission.fare_amount = knnpred\n",
    "submission.to_csv('knn.csv', index=False)\n",
    "submission.head()"
   ]
  },
  {
   "cell_type": "markdown",
   "metadata": {},
   "source": [
    "# Model 4:- ExtraTree Regressor"
   ]
  },
  {
   "cell_type": "code",
   "execution_count": 193,
   "metadata": {
    "collapsed": false
   },
   "outputs": [
    {
     "data": {
      "text/plain": [
       "({'max_depth': 80, 'min_samples_split': 10}, 0.95880477389779306)"
      ]
     },
     "execution_count": 193,
     "metadata": {},
     "output_type": "execute_result"
    }
   ],
   "source": [
    "param_test = {\n",
    " 'max_depth':[1,5,10,20,40,80],\n",
    "  'min_samples_split':[2,10,20,50,100]  \n",
    "}\n",
    "gsearch = GridSearchCV(estimator = ExtraTreesRegressor(n_estimators=10, max_depth=10, min_samples_split=2, \n",
    "                                                       min_samples_leaf=1,max_features='auto',max_leaf_nodes=None,\n",
    "                                                       bootstrap=True, n_jobs=-1, random_state=111),\n",
    "                       param_grid = param_test,n_jobs=4,iid=False, cv=10)\n",
    "gsearch.fit(X,y)\n",
    "gsearch.best_params_, gsearch.best_score_"
   ]
  },
  {
   "cell_type": "code",
   "execution_count": 194,
   "metadata": {
    "collapsed": false
   },
   "outputs": [
    {
     "data": {
      "text/plain": [
       "({'max_depth': 80, 'min_samples_split': 10}, 0.95880477389779306)"
      ]
     },
     "execution_count": 194,
     "metadata": {},
     "output_type": "execute_result"
    }
   ],
   "source": [
    "param_test = {\n",
    " 'max_depth':[80,100,120,140,160,200],\n",
    "  'min_samples_split':[2,10,20,50,100]  \n",
    "}\n",
    "gsearch = GridSearchCV(estimator = ExtraTreesRegressor(n_estimators=10, max_depth=10, min_samples_split=2, \n",
    "                                                       min_samples_leaf=1,max_features='auto',max_leaf_nodes=None,\n",
    "                                                       bootstrap=True, n_jobs=-1, random_state=111),\n",
    "                       param_grid = param_test,n_jobs=4,iid=False, cv=10)\n",
    "gsearch.fit(X,y)\n",
    "gsearch.best_params_, gsearch.best_score_"
   ]
  },
  {
   "cell_type": "code",
   "execution_count": 195,
   "metadata": {
    "collapsed": false
   },
   "outputs": [
    {
     "data": {
      "text/plain": [
       "({'min_samples_leaf': 1}, 0.95880477389779306)"
      ]
     },
     "execution_count": 195,
     "metadata": {},
     "output_type": "execute_result"
    }
   ],
   "source": [
    "param_test = {\n",
    " 'min_samples_leaf':[1,5,10,15,20,25,50,100]\n",
    "}\n",
    "gsearch = GridSearchCV(estimator = ExtraTreesRegressor(n_estimators=10, max_depth=80, min_samples_split=10, \n",
    "                                                       min_samples_leaf=1,max_features='auto',\n",
    "                                                       bootstrap=True, n_jobs=-1, random_state=111),\n",
    "                       param_grid = param_test,n_jobs=4,iid=False, cv=10)\n",
    "gsearch.fit(X,y)\n",
    "gsearch.best_params_, gsearch.best_score_"
   ]
  },
  {
   "cell_type": "code",
   "execution_count": 196,
   "metadata": {
    "collapsed": false
   },
   "outputs": [
    {
     "data": {
      "text/plain": [
       "({'max_features': 'auto'}, 0.95880477389779306)"
      ]
     },
     "execution_count": 196,
     "metadata": {},
     "output_type": "execute_result"
    }
   ],
   "source": [
    "param_test = {\n",
    " 'max_features':['auto','sqrt','log2']\n",
    "}\n",
    "gsearch = GridSearchCV(estimator = ExtraTreesRegressor(n_estimators=10, max_depth=80, min_samples_split=10, \n",
    "                                                       min_samples_leaf=1,max_features='auto',\n",
    "                                                       bootstrap=True, n_jobs=-1, random_state=111),\n",
    "                       param_grid = param_test,n_jobs=4,iid=False, cv=10)\n",
    "gsearch.fit(X,y)\n",
    "gsearch.best_params_, gsearch.best_score_"
   ]
  },
  {
   "cell_type": "code",
   "execution_count": 227,
   "metadata": {
    "collapsed": true
   },
   "outputs": [],
   "source": [
    "ext = ExtraTreesRegressor(n_estimators=300, max_depth=100, min_samples_split=10, min_samples_leaf=1,max_features='auto',\n",
    "                          bootstrap=True, n_jobs=-1, random_state=111)"
   ]
  },
  {
   "cell_type": "code",
   "execution_count": 228,
   "metadata": {
    "collapsed": false
   },
   "outputs": [
    {
     "data": {
      "text/plain": [
       "ExtraTreesRegressor(bootstrap=True, criterion='mse', max_depth=100,\n",
       "          max_features='auto', max_leaf_nodes=None, min_samples_leaf=1,\n",
       "          min_samples_split=10, min_weight_fraction_leaf=0.0,\n",
       "          n_estimators=300, n_jobs=-1, oob_score=False, random_state=111,\n",
       "          verbose=0, warm_start=False)"
      ]
     },
     "execution_count": 228,
     "metadata": {},
     "output_type": "execute_result"
    }
   ],
   "source": [
    "ext.fit(X,y)"
   ]
  },
  {
   "cell_type": "code",
   "execution_count": 229,
   "metadata": {
    "collapsed": true
   },
   "outputs": [],
   "source": [
    "extpred = ext.predict(test[features])"
   ]
  },
  {
   "cell_type": "code",
   "execution_count": 230,
   "metadata": {
    "collapsed": true
   },
   "outputs": [],
   "source": [
    "extpred = np.square(extpred)"
   ]
  },
  {
   "cell_type": "code",
   "execution_count": 231,
   "metadata": {
    "collapsed": false
   },
   "outputs": [
    {
     "data": {
      "text/html": [
       "<div>\n",
       "<table border=\"1\" class=\"dataframe\">\n",
       "  <thead>\n",
       "    <tr style=\"text-align: right;\">\n",
       "      <th></th>\n",
       "      <th>TID</th>\n",
       "      <th>fare_amount</th>\n",
       "    </tr>\n",
       "  </thead>\n",
       "  <tbody>\n",
       "    <tr>\n",
       "      <th>0</th>\n",
       "      <td>AJX000119871</td>\n",
       "      <td>4.862577</td>\n",
       "    </tr>\n",
       "    <tr>\n",
       "      <th>1</th>\n",
       "      <td>AJX000119872</td>\n",
       "      <td>7.603246</td>\n",
       "    </tr>\n",
       "    <tr>\n",
       "      <th>2</th>\n",
       "      <td>AJX000119873</td>\n",
       "      <td>10.502739</td>\n",
       "    </tr>\n",
       "    <tr>\n",
       "      <th>3</th>\n",
       "      <td>AJX000119874</td>\n",
       "      <td>19.053924</td>\n",
       "    </tr>\n",
       "    <tr>\n",
       "      <th>4</th>\n",
       "      <td>AJX000119875</td>\n",
       "      <td>15.331628</td>\n",
       "    </tr>\n",
       "  </tbody>\n",
       "</table>\n",
       "</div>"
      ],
      "text/plain": [
       "            TID  fare_amount\n",
       "0  AJX000119871     4.862577\n",
       "1  AJX000119872     7.603246\n",
       "2  AJX000119873    10.502739\n",
       "3  AJX000119874    19.053924\n",
       "4  AJX000119875    15.331628"
      ]
     },
     "execution_count": 231,
     "metadata": {},
     "output_type": "execute_result"
    }
   ],
   "source": [
    "submission = pd.DataFrame(data=[], columns=['TID', 'fare_amount'])\n",
    "submission.TID = test.TID; submission.fare_amount = extpred\n",
    "submission.to_csv('general.csv', index=False)\n",
    "submission.head()"
   ]
  },
  {
   "cell_type": "markdown",
   "metadata": {},
   "source": [
    "# stacking or blending"
   ]
  },
  {
   "cell_type": "code",
   "execution_count": 232,
   "metadata": {
    "collapsed": true
   },
   "outputs": [],
   "source": [
    "ext = ExtraTreesRegressor(n_estimators=500, max_depth=80, min_samples_split=10, min_samples_leaf=1,max_features='auto',\n",
    "                          bootstrap=True, n_jobs=-1, random_state=111)"
   ]
  },
  {
   "cell_type": "code",
   "execution_count": 233,
   "metadata": {
    "collapsed": true
   },
   "outputs": [],
   "source": [
    "xgb = XGBRegressor(learning_rate =0.01, n_estimators=500, max_depth=7,\n",
    " min_child_weight=5, gamma=0.005, colsample_bylevel=0.85 , colsample_bytree=0.65,\n",
    " objective= 'reg:linear', nthread=4, scale_pos_weight=1, seed=27,subsample=0.95,reg_alpha=1e-5)"
   ]
  },
  {
   "cell_type": "code",
   "execution_count": 234,
   "metadata": {
    "collapsed": true
   },
   "outputs": [],
   "source": [
    "rfr = RandomForestRegressor(n_estimators=500,max_depth=30, min_samples_split=15, min_samples_leaf=1, \n",
    "                            bootstrap=True,n_jobs=-1, random_state=111)"
   ]
  },
  {
   "cell_type": "code",
   "execution_count": 235,
   "metadata": {
    "collapsed": true
   },
   "outputs": [],
   "source": [
    "new_df = train.sample(frac=0.03)"
   ]
  },
  {
   "cell_type": "code",
   "execution_count": 242,
   "metadata": {
    "collapsed": false
   },
   "outputs": [],
   "source": [
    "X_test = new_df[features]\n",
    "y_test = np.sqrt(new_df['fare_amount'])"
   ]
  },
  {
   "cell_type": "code",
   "execution_count": 243,
   "metadata": {
    "collapsed": false
   },
   "outputs": [],
   "source": [
    "a = ext.predict(X_test)"
   ]
  },
  {
   "cell_type": "code",
   "execution_count": 244,
   "metadata": {
    "collapsed": false
   },
   "outputs": [],
   "source": [
    "b = rfr.predict(X_test)"
   ]
  },
  {
   "cell_type": "code",
   "execution_count": 245,
   "metadata": {
    "collapsed": false
   },
   "outputs": [],
   "source": [
    "c = xgb.predict(X_test)"
   ]
  },
  {
   "cell_type": "code",
   "execution_count": 252,
   "metadata": {
    "collapsed": true
   },
   "outputs": [],
   "source": [
    "X = pd.DataFrame(index = new_df.index)"
   ]
  },
  {
   "cell_type": "code",
   "execution_count": 253,
   "metadata": {
    "collapsed": true
   },
   "outputs": [],
   "source": [
    "X['extfare'] = a\n",
    "X['rfrfare'] = b\n",
    "X['xgbfare'] = c"
   ]
  },
  {
   "cell_type": "code",
   "execution_count": 256,
   "metadata": {
    "collapsed": false
   },
   "outputs": [
    {
     "data": {
      "text/html": [
       "<div>\n",
       "<table border=\"1\" class=\"dataframe\">\n",
       "  <thead>\n",
       "    <tr style=\"text-align: right;\">\n",
       "      <th></th>\n",
       "      <th>extfare</th>\n",
       "      <th>rfrfare</th>\n",
       "      <th>xgbfare</th>\n",
       "      <th>fare_amount</th>\n",
       "    </tr>\n",
       "  </thead>\n",
       "  <tbody>\n",
       "    <tr>\n",
       "      <th>1528714</th>\n",
       "      <td>2.960485</td>\n",
       "      <td>2.940240</td>\n",
       "      <td>2.863404</td>\n",
       "      <td>2.966479</td>\n",
       "    </tr>\n",
       "    <tr>\n",
       "      <th>1656227</th>\n",
       "      <td>3.807225</td>\n",
       "      <td>3.886794</td>\n",
       "      <td>3.863960</td>\n",
       "      <td>3.974921</td>\n",
       "    </tr>\n",
       "    <tr>\n",
       "      <th>189704</th>\n",
       "      <td>3.623491</td>\n",
       "      <td>3.529215</td>\n",
       "      <td>3.576431</td>\n",
       "      <td>3.464102</td>\n",
       "    </tr>\n",
       "    <tr>\n",
       "      <th>540034</th>\n",
       "      <td>3.743166</td>\n",
       "      <td>3.756355</td>\n",
       "      <td>3.781459</td>\n",
       "      <td>3.741657</td>\n",
       "    </tr>\n",
       "    <tr>\n",
       "      <th>169033</th>\n",
       "      <td>2.723346</td>\n",
       "      <td>2.698345</td>\n",
       "      <td>2.779093</td>\n",
       "      <td>2.645751</td>\n",
       "    </tr>\n",
       "  </tbody>\n",
       "</table>\n",
       "</div>"
      ],
      "text/plain": [
       "          extfare   rfrfare   xgbfare  fare_amount\n",
       "1528714  2.960485  2.940240  2.863404     2.966479\n",
       "1656227  3.807225  3.886794  3.863960     3.974921\n",
       "189704   3.623491  3.529215  3.576431     3.464102\n",
       "540034   3.743166  3.756355  3.781459     3.741657\n",
       "169033   2.723346  2.698345  2.779093     2.645751"
      ]
     },
     "execution_count": 256,
     "metadata": {},
     "output_type": "execute_result"
    }
   ],
   "source": [
    "X.head()"
   ]
  },
  {
   "cell_type": "code",
   "execution_count": 255,
   "metadata": {
    "collapsed": true
   },
   "outputs": [],
   "source": [
    "X['fare_amount'] = y_test"
   ]
  },
  {
   "cell_type": "code",
   "execution_count": 257,
   "metadata": {
    "collapsed": true
   },
   "outputs": [],
   "source": [
    "lin = LinearRegression()"
   ]
  },
  {
   "cell_type": "code",
   "execution_count": 258,
   "metadata": {
    "collapsed": true
   },
   "outputs": [],
   "source": [
    "features1 = ['extfare','rfrfare','xgbfare']"
   ]
  },
  {
   "cell_type": "code",
   "execution_count": 259,
   "metadata": {
    "collapsed": false
   },
   "outputs": [
    {
     "data": {
      "text/plain": [
       "LinearRegression(copy_X=True, fit_intercept=True, n_jobs=1, normalize=False)"
      ]
     },
     "execution_count": 259,
     "metadata": {},
     "output_type": "execute_result"
    }
   ],
   "source": [
    "lin.fit(X[features1],X['fare_amount'])"
   ]
  },
  {
   "cell_type": "code",
   "execution_count": 260,
   "metadata": {
    "collapsed": true
   },
   "outputs": [],
   "source": [
    "u = ext.predict(test[features])"
   ]
  },
  {
   "cell_type": "code",
   "execution_count": 261,
   "metadata": {
    "collapsed": true
   },
   "outputs": [],
   "source": [
    "v = rfr.predict(test[features])"
   ]
  },
  {
   "cell_type": "code",
   "execution_count": 262,
   "metadata": {
    "collapsed": true
   },
   "outputs": [],
   "source": [
    "w = xgb.predict(test[features])"
   ]
  },
  {
   "cell_type": "code",
   "execution_count": 263,
   "metadata": {
    "collapsed": true
   },
   "outputs": [],
   "source": [
    "Y = pd.DataFrame()"
   ]
  },
  {
   "cell_type": "code",
   "execution_count": 264,
   "metadata": {
    "collapsed": true
   },
   "outputs": [],
   "source": [
    "Y['extfare'] = u\n",
    "Y['rfrfare'] = v\n",
    "Y['xgbfare'] = w"
   ]
  },
  {
   "cell_type": "code",
   "execution_count": 266,
   "metadata": {
    "collapsed": false
   },
   "outputs": [],
   "source": [
    "pred = lin.predict(Y[features1])"
   ]
  },
  {
   "cell_type": "code",
   "execution_count": 267,
   "metadata": {
    "collapsed": true
   },
   "outputs": [],
   "source": [
    "pred = np.square(pred)"
   ]
  },
  {
   "cell_type": "code",
   "execution_count": 268,
   "metadata": {
    "collapsed": false
   },
   "outputs": [
    {
     "data": {
      "text/html": [
       "<div>\n",
       "<table border=\"1\" class=\"dataframe\">\n",
       "  <thead>\n",
       "    <tr style=\"text-align: right;\">\n",
       "      <th></th>\n",
       "      <th>TID</th>\n",
       "      <th>fare_amount</th>\n",
       "    </tr>\n",
       "  </thead>\n",
       "  <tbody>\n",
       "    <tr>\n",
       "      <th>0</th>\n",
       "      <td>AJX000119871</td>\n",
       "      <td>4.722882</td>\n",
       "    </tr>\n",
       "    <tr>\n",
       "      <th>1</th>\n",
       "      <td>AJX000119872</td>\n",
       "      <td>7.529343</td>\n",
       "    </tr>\n",
       "    <tr>\n",
       "      <th>2</th>\n",
       "      <td>AJX000119873</td>\n",
       "      <td>10.952937</td>\n",
       "    </tr>\n",
       "    <tr>\n",
       "      <th>3</th>\n",
       "      <td>AJX000119874</td>\n",
       "      <td>19.500471</td>\n",
       "    </tr>\n",
       "    <tr>\n",
       "      <th>4</th>\n",
       "      <td>AJX000119875</td>\n",
       "      <td>15.749650</td>\n",
       "    </tr>\n",
       "  </tbody>\n",
       "</table>\n",
       "</div>"
      ],
      "text/plain": [
       "            TID  fare_amount\n",
       "0  AJX000119871     4.722882\n",
       "1  AJX000119872     7.529343\n",
       "2  AJX000119873    10.952937\n",
       "3  AJX000119874    19.500471\n",
       "4  AJX000119875    15.749650"
      ]
     },
     "execution_count": 268,
     "metadata": {},
     "output_type": "execute_result"
    }
   ],
   "source": [
    "submission = pd.DataFrame(data=[], columns=['TID', 'fare_amount'])\n",
    "submission.TID = test.TID; submission.fare_amount = pred\n",
    "submission.to_csv('stacking.csv', index=False)\n",
    "submission.head()"
   ]
  }
 ],
 "metadata": {
  "anaconda-cloud": {},
  "kernelspec": {
   "display_name": "Python [default]",
   "language": "python",
   "name": "python3"
  },
  "language_info": {
   "codemirror_mode": {
    "name": "ipython",
    "version": 3
   },
   "file_extension": ".py",
   "mimetype": "text/x-python",
   "name": "python",
   "nbconvert_exporter": "python",
   "pygments_lexer": "ipython3",
   "version": "3.5.2"
  }
 },
 "nbformat": 4,
 "nbformat_minor": 1
}
