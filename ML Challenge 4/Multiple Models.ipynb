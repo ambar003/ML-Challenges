{
 "cells": [
  {
   "cell_type": "code",
   "execution_count": 30,
   "metadata": {
    "collapsed": true
   },
   "outputs": [],
   "source": [
    "import pandas as pd\n",
    "import numpy as np\n",
    "import matplotlib.pyplot as plt\n",
    "% matplotlib inline\n",
    "\n",
    "from sklearn.model_selection import train_test_split\n",
    "from sklearn.model_selection import GridSearchCV\n",
    "from sklearn.ensemble import RandomForestClassifier\n",
    "from sklearn.decomposition import PCA\n",
    "from sklearn.preprocessing import scale\n",
    "from xgboost import XGBClassifier\n",
    "from lightgbm import LGBMClassifier\n",
    "from sklearn.ensemble import RandomForestClassifier\n",
    "from sklearn.neighbors import KNeighborsClassifier\n",
    "from sklearn.linear_model import LogisticRegression\n",
    "from sklearn.naive_bayes import GaussianNB\n",
    "from sklearn.naive_bayes import MultinomialNB\n",
    "from sklearn.naive_bayes import BernoulliNB\n",
    "from sklearn.tree import DecisionTreeClassifier\n",
    "from sklearn.ensemble import RandomForestClassifier, AdaBoostClassifier, GradientBoostingClassifier, ExtraTreesClassifier\n",
    "from sklearn.svm import SVC"
   ]
  },
  {
   "cell_type": "code",
   "execution_count": 31,
   "metadata": {},
   "outputs": [
    {
     "data": {
      "text/html": [
       "<div>\n",
       "<style>\n",
       "    .dataframe thead tr:only-child th {\n",
       "        text-align: right;\n",
       "    }\n",
       "\n",
       "    .dataframe thead th {\n",
       "        text-align: left;\n",
       "    }\n",
       "\n",
       "    .dataframe tbody tr th {\n",
       "        vertical-align: top;\n",
       "    }\n",
       "</style>\n",
       "<table border=\"1\" class=\"dataframe\">\n",
       "  <thead>\n",
       "    <tr style=\"text-align: right;\">\n",
       "      <th></th>\n",
       "      <th>cont_1</th>\n",
       "      <th>cont_2</th>\n",
       "      <th>cont_3</th>\n",
       "      <th>cont_4</th>\n",
       "      <th>cont_5</th>\n",
       "      <th>cont_6</th>\n",
       "      <th>cont_7</th>\n",
       "      <th>cont_8</th>\n",
       "      <th>cont_9</th>\n",
       "      <th>cont_10</th>\n",
       "      <th>...</th>\n",
       "      <th>cat_15</th>\n",
       "      <th>cat_16</th>\n",
       "      <th>cat_17</th>\n",
       "      <th>cat_18</th>\n",
       "      <th>cat_19</th>\n",
       "      <th>cat_20</th>\n",
       "      <th>cat_21</th>\n",
       "      <th>cat_22</th>\n",
       "      <th>cat_23</th>\n",
       "      <th>target</th>\n",
       "    </tr>\n",
       "  </thead>\n",
       "  <tbody>\n",
       "    <tr>\n",
       "      <th>count</th>\n",
       "      <td>169307.000000</td>\n",
       "      <td>1.693070e+05</td>\n",
       "      <td>1.693070e+05</td>\n",
       "      <td>169307.000000</td>\n",
       "      <td>169307.000000</td>\n",
       "      <td>169307.000000</td>\n",
       "      <td>169307.000000</td>\n",
       "      <td>169307.000000</td>\n",
       "      <td>169307.000000</td>\n",
       "      <td>169307.000000</td>\n",
       "      <td>...</td>\n",
       "      <td>169307.000000</td>\n",
       "      <td>169307.000000</td>\n",
       "      <td>169307.0</td>\n",
       "      <td>169307.000000</td>\n",
       "      <td>169307.000000</td>\n",
       "      <td>169307.000000</td>\n",
       "      <td>169307.000000</td>\n",
       "      <td>169307.00000</td>\n",
       "      <td>169307.000000</td>\n",
       "      <td>169307.000000</td>\n",
       "    </tr>\n",
       "    <tr>\n",
       "      <th>mean</th>\n",
       "      <td>44.136722</td>\n",
       "      <td>1.077011e+03</td>\n",
       "      <td>7.501477e+02</td>\n",
       "      <td>0.171399</td>\n",
       "      <td>0.171479</td>\n",
       "      <td>0.062442</td>\n",
       "      <td>0.062478</td>\n",
       "      <td>0.791319</td>\n",
       "      <td>0.021317</td>\n",
       "      <td>0.028090</td>\n",
       "      <td>...</td>\n",
       "      <td>0.000077</td>\n",
       "      <td>0.001057</td>\n",
       "      <td>0.0</td>\n",
       "      <td>0.000006</td>\n",
       "      <td>0.000868</td>\n",
       "      <td>330.966203</td>\n",
       "      <td>291.598014</td>\n",
       "      <td>232.98837</td>\n",
       "      <td>189.733508</td>\n",
       "      <td>0.633719</td>\n",
       "    </tr>\n",
       "    <tr>\n",
       "      <th>std</th>\n",
       "      <td>659.337783</td>\n",
       "      <td>4.302746e+04</td>\n",
       "      <td>3.527929e+04</td>\n",
       "      <td>0.376214</td>\n",
       "      <td>0.376593</td>\n",
       "      <td>0.241000</td>\n",
       "      <td>0.241354</td>\n",
       "      <td>0.388389</td>\n",
       "      <td>0.084299</td>\n",
       "      <td>0.139745</td>\n",
       "      <td>...</td>\n",
       "      <td>0.009412</td>\n",
       "      <td>0.036762</td>\n",
       "      <td>0.0</td>\n",
       "      <td>0.002430</td>\n",
       "      <td>0.029453</td>\n",
       "      <td>213.028182</td>\n",
       "      <td>246.012392</td>\n",
       "      <td>63.94995</td>\n",
       "      <td>105.631984</td>\n",
       "      <td>0.816991</td>\n",
       "    </tr>\n",
       "    <tr>\n",
       "      <th>min</th>\n",
       "      <td>0.000000</td>\n",
       "      <td>0.000000e+00</td>\n",
       "      <td>0.000000e+00</td>\n",
       "      <td>0.000000</td>\n",
       "      <td>0.000000</td>\n",
       "      <td>0.000000</td>\n",
       "      <td>0.000000</td>\n",
       "      <td>0.000000</td>\n",
       "      <td>0.000000</td>\n",
       "      <td>0.000000</td>\n",
       "      <td>...</td>\n",
       "      <td>0.000000</td>\n",
       "      <td>0.000000</td>\n",
       "      <td>0.0</td>\n",
       "      <td>0.000000</td>\n",
       "      <td>0.000000</td>\n",
       "      <td>0.000000</td>\n",
       "      <td>0.000000</td>\n",
       "      <td>0.00000</td>\n",
       "      <td>0.000000</td>\n",
       "      <td>0.000000</td>\n",
       "    </tr>\n",
       "    <tr>\n",
       "      <th>25%</th>\n",
       "      <td>0.000000</td>\n",
       "      <td>4.500000e+01</td>\n",
       "      <td>0.000000e+00</td>\n",
       "      <td>0.000000</td>\n",
       "      <td>0.000000</td>\n",
       "      <td>0.000000</td>\n",
       "      <td>0.000000</td>\n",
       "      <td>1.000000</td>\n",
       "      <td>0.000000</td>\n",
       "      <td>0.000000</td>\n",
       "      <td>...</td>\n",
       "      <td>0.000000</td>\n",
       "      <td>0.000000</td>\n",
       "      <td>0.0</td>\n",
       "      <td>0.000000</td>\n",
       "      <td>0.000000</td>\n",
       "      <td>118.000000</td>\n",
       "      <td>10.000000</td>\n",
       "      <td>255.00000</td>\n",
       "      <td>58.000000</td>\n",
       "      <td>0.000000</td>\n",
       "    </tr>\n",
       "    <tr>\n",
       "      <th>50%</th>\n",
       "      <td>0.000000</td>\n",
       "      <td>5.200000e+02</td>\n",
       "      <td>0.000000e+00</td>\n",
       "      <td>0.000000</td>\n",
       "      <td>0.000000</td>\n",
       "      <td>0.000000</td>\n",
       "      <td>0.000000</td>\n",
       "      <td>1.000000</td>\n",
       "      <td>0.000000</td>\n",
       "      <td>0.000000</td>\n",
       "      <td>...</td>\n",
       "      <td>0.000000</td>\n",
       "      <td>0.000000</td>\n",
       "      <td>0.0</td>\n",
       "      <td>0.000000</td>\n",
       "      <td>0.000000</td>\n",
       "      <td>510.000000</td>\n",
       "      <td>510.000000</td>\n",
       "      <td>255.00000</td>\n",
       "      <td>255.000000</td>\n",
       "      <td>0.000000</td>\n",
       "    </tr>\n",
       "    <tr>\n",
       "      <th>75%</th>\n",
       "      <td>0.000000</td>\n",
       "      <td>1.032000e+03</td>\n",
       "      <td>0.000000e+00</td>\n",
       "      <td>0.000000</td>\n",
       "      <td>0.000000</td>\n",
       "      <td>0.000000</td>\n",
       "      <td>0.000000</td>\n",
       "      <td>1.000000</td>\n",
       "      <td>0.000000</td>\n",
       "      <td>0.000000</td>\n",
       "      <td>...</td>\n",
       "      <td>0.000000</td>\n",
       "      <td>0.000000</td>\n",
       "      <td>0.0</td>\n",
       "      <td>0.000000</td>\n",
       "      <td>0.000000</td>\n",
       "      <td>511.000000</td>\n",
       "      <td>511.000000</td>\n",
       "      <td>255.00000</td>\n",
       "      <td>255.000000</td>\n",
       "      <td>1.000000</td>\n",
       "    </tr>\n",
       "    <tr>\n",
       "      <th>max</th>\n",
       "      <td>42596.000000</td>\n",
       "      <td>1.139690e+07</td>\n",
       "      <td>1.173059e+07</td>\n",
       "      <td>1.000000</td>\n",
       "      <td>1.000000</td>\n",
       "      <td>1.000000</td>\n",
       "      <td>1.000000</td>\n",
       "      <td>1.000000</td>\n",
       "      <td>1.000000</td>\n",
       "      <td>1.000000</td>\n",
       "      <td>...</td>\n",
       "      <td>2.000000</td>\n",
       "      <td>5.000000</td>\n",
       "      <td>0.0</td>\n",
       "      <td>1.000000</td>\n",
       "      <td>1.000000</td>\n",
       "      <td>511.000000</td>\n",
       "      <td>511.000000</td>\n",
       "      <td>255.00000</td>\n",
       "      <td>255.000000</td>\n",
       "      <td>2.000000</td>\n",
       "    </tr>\n",
       "  </tbody>\n",
       "</table>\n",
       "<p>8 rows × 42 columns</p>\n",
       "</div>"
      ],
      "text/plain": [
       "              cont_1        cont_2        cont_3         cont_4  \\\n",
       "count  169307.000000  1.693070e+05  1.693070e+05  169307.000000   \n",
       "mean       44.136722  1.077011e+03  7.501477e+02       0.171399   \n",
       "std       659.337783  4.302746e+04  3.527929e+04       0.376214   \n",
       "min         0.000000  0.000000e+00  0.000000e+00       0.000000   \n",
       "25%         0.000000  4.500000e+01  0.000000e+00       0.000000   \n",
       "50%         0.000000  5.200000e+02  0.000000e+00       0.000000   \n",
       "75%         0.000000  1.032000e+03  0.000000e+00       0.000000   \n",
       "max     42596.000000  1.139690e+07  1.173059e+07       1.000000   \n",
       "\n",
       "              cont_5         cont_6         cont_7         cont_8  \\\n",
       "count  169307.000000  169307.000000  169307.000000  169307.000000   \n",
       "mean        0.171479       0.062442       0.062478       0.791319   \n",
       "std         0.376593       0.241000       0.241354       0.388389   \n",
       "min         0.000000       0.000000       0.000000       0.000000   \n",
       "25%         0.000000       0.000000       0.000000       1.000000   \n",
       "50%         0.000000       0.000000       0.000000       1.000000   \n",
       "75%         0.000000       0.000000       0.000000       1.000000   \n",
       "max         1.000000       1.000000       1.000000       1.000000   \n",
       "\n",
       "              cont_9        cont_10      ...               cat_15  \\\n",
       "count  169307.000000  169307.000000      ...        169307.000000   \n",
       "mean        0.021317       0.028090      ...             0.000077   \n",
       "std         0.084299       0.139745      ...             0.009412   \n",
       "min         0.000000       0.000000      ...             0.000000   \n",
       "25%         0.000000       0.000000      ...             0.000000   \n",
       "50%         0.000000       0.000000      ...             0.000000   \n",
       "75%         0.000000       0.000000      ...             0.000000   \n",
       "max         1.000000       1.000000      ...             2.000000   \n",
       "\n",
       "              cat_16    cat_17         cat_18         cat_19         cat_20  \\\n",
       "count  169307.000000  169307.0  169307.000000  169307.000000  169307.000000   \n",
       "mean        0.001057       0.0       0.000006       0.000868     330.966203   \n",
       "std         0.036762       0.0       0.002430       0.029453     213.028182   \n",
       "min         0.000000       0.0       0.000000       0.000000       0.000000   \n",
       "25%         0.000000       0.0       0.000000       0.000000     118.000000   \n",
       "50%         0.000000       0.0       0.000000       0.000000     510.000000   \n",
       "75%         0.000000       0.0       0.000000       0.000000     511.000000   \n",
       "max         5.000000       0.0       1.000000       1.000000     511.000000   \n",
       "\n",
       "              cat_21        cat_22         cat_23         target  \n",
       "count  169307.000000  169307.00000  169307.000000  169307.000000  \n",
       "mean      291.598014     232.98837     189.733508       0.633719  \n",
       "std       246.012392      63.94995     105.631984       0.816991  \n",
       "min         0.000000       0.00000       0.000000       0.000000  \n",
       "25%        10.000000     255.00000      58.000000       0.000000  \n",
       "50%       510.000000     255.00000     255.000000       0.000000  \n",
       "75%       511.000000     255.00000     255.000000       1.000000  \n",
       "max       511.000000     255.00000     255.000000       2.000000  \n",
       "\n",
       "[8 rows x 42 columns]"
      ]
     },
     "execution_count": 31,
     "metadata": {},
     "output_type": "execute_result"
    }
   ],
   "source": [
    "train = pd.read_csv('train_data.csv')\n",
    "train.describe()"
   ]
  },
  {
   "cell_type": "code",
   "execution_count": 32,
   "metadata": {},
   "outputs": [
    {
     "data": {
      "text/html": [
       "<div>\n",
       "<style>\n",
       "    .dataframe thead tr:only-child th {\n",
       "        text-align: right;\n",
       "    }\n",
       "\n",
       "    .dataframe thead th {\n",
       "        text-align: left;\n",
       "    }\n",
       "\n",
       "    .dataframe tbody tr th {\n",
       "        vertical-align: top;\n",
       "    }\n",
       "</style>\n",
       "<table border=\"1\" class=\"dataframe\">\n",
       "  <thead>\n",
       "    <tr style=\"text-align: right;\">\n",
       "      <th></th>\n",
       "      <th>cont_1</th>\n",
       "      <th>cont_2</th>\n",
       "      <th>cont_3</th>\n",
       "      <th>cont_4</th>\n",
       "      <th>cont_5</th>\n",
       "      <th>cont_6</th>\n",
       "      <th>cont_7</th>\n",
       "      <th>cont_8</th>\n",
       "      <th>cont_9</th>\n",
       "      <th>cont_10</th>\n",
       "      <th>...</th>\n",
       "      <th>cat_14</th>\n",
       "      <th>cat_15</th>\n",
       "      <th>cat_16</th>\n",
       "      <th>cat_17</th>\n",
       "      <th>cat_18</th>\n",
       "      <th>cat_19</th>\n",
       "      <th>cat_20</th>\n",
       "      <th>cat_21</th>\n",
       "      <th>cat_22</th>\n",
       "      <th>cat_23</th>\n",
       "    </tr>\n",
       "  </thead>\n",
       "  <tbody>\n",
       "    <tr>\n",
       "      <th>count</th>\n",
       "      <td>91166.000000</td>\n",
       "      <td>9.116600e+04</td>\n",
       "      <td>9.116600e+04</td>\n",
       "      <td>91166.000000</td>\n",
       "      <td>91166.000000</td>\n",
       "      <td>91166.000000</td>\n",
       "      <td>91166.000000</td>\n",
       "      <td>91166.000000</td>\n",
       "      <td>91166.000000</td>\n",
       "      <td>91166.000000</td>\n",
       "      <td>...</td>\n",
       "      <td>91166.000000</td>\n",
       "      <td>91166.000000</td>\n",
       "      <td>91166.000000</td>\n",
       "      <td>91166.0</td>\n",
       "      <td>91166.0</td>\n",
       "      <td>91166.000000</td>\n",
       "      <td>91166.000000</td>\n",
       "      <td>91166.000000</td>\n",
       "      <td>91166.000000</td>\n",
       "      <td>91166.000000</td>\n",
       "    </tr>\n",
       "    <tr>\n",
       "      <th>mean</th>\n",
       "      <td>44.499583</td>\n",
       "      <td>1.861971e+03</td>\n",
       "      <td>6.885151e+02</td>\n",
       "      <td>0.169543</td>\n",
       "      <td>0.169616</td>\n",
       "      <td>0.064301</td>\n",
       "      <td>0.064299</td>\n",
       "      <td>0.791855</td>\n",
       "      <td>0.021109</td>\n",
       "      <td>0.027920</td>\n",
       "      <td>...</td>\n",
       "      <td>0.000570</td>\n",
       "      <td>0.000088</td>\n",
       "      <td>0.001020</td>\n",
       "      <td>0.0</td>\n",
       "      <td>0.0</td>\n",
       "      <td>0.001053</td>\n",
       "      <td>331.381217</td>\n",
       "      <td>292.098951</td>\n",
       "      <td>233.063971</td>\n",
       "      <td>189.831714</td>\n",
       "    </tr>\n",
       "    <tr>\n",
       "      <th>std</th>\n",
       "      <td>676.749529</td>\n",
       "      <td>2.977819e+05</td>\n",
       "      <td>2.522652e+04</td>\n",
       "      <td>0.374541</td>\n",
       "      <td>0.374968</td>\n",
       "      <td>0.244362</td>\n",
       "      <td>0.244723</td>\n",
       "      <td>0.388186</td>\n",
       "      <td>0.083526</td>\n",
       "      <td>0.139383</td>\n",
       "      <td>...</td>\n",
       "      <td>0.054216</td>\n",
       "      <td>0.009367</td>\n",
       "      <td>0.040685</td>\n",
       "      <td>0.0</td>\n",
       "      <td>0.0</td>\n",
       "      <td>0.032433</td>\n",
       "      <td>212.975581</td>\n",
       "      <td>245.983207</td>\n",
       "      <td>63.960845</td>\n",
       "      <td>105.601719</td>\n",
       "    </tr>\n",
       "    <tr>\n",
       "      <th>min</th>\n",
       "      <td>0.000000</td>\n",
       "      <td>0.000000e+00</td>\n",
       "      <td>0.000000e+00</td>\n",
       "      <td>0.000000</td>\n",
       "      <td>0.000000</td>\n",
       "      <td>0.000000</td>\n",
       "      <td>0.000000</td>\n",
       "      <td>0.000000</td>\n",
       "      <td>0.000000</td>\n",
       "      <td>0.000000</td>\n",
       "      <td>...</td>\n",
       "      <td>0.000000</td>\n",
       "      <td>0.000000</td>\n",
       "      <td>0.000000</td>\n",
       "      <td>0.0</td>\n",
       "      <td>0.0</td>\n",
       "      <td>0.000000</td>\n",
       "      <td>1.000000</td>\n",
       "      <td>1.000000</td>\n",
       "      <td>0.000000</td>\n",
       "      <td>0.000000</td>\n",
       "    </tr>\n",
       "    <tr>\n",
       "      <th>25%</th>\n",
       "      <td>0.000000</td>\n",
       "      <td>4.500000e+01</td>\n",
       "      <td>0.000000e+00</td>\n",
       "      <td>0.000000</td>\n",
       "      <td>0.000000</td>\n",
       "      <td>0.000000</td>\n",
       "      <td>0.000000</td>\n",
       "      <td>1.000000</td>\n",
       "      <td>0.000000</td>\n",
       "      <td>0.000000</td>\n",
       "      <td>...</td>\n",
       "      <td>0.000000</td>\n",
       "      <td>0.000000</td>\n",
       "      <td>0.000000</td>\n",
       "      <td>0.0</td>\n",
       "      <td>0.0</td>\n",
       "      <td>0.000000</td>\n",
       "      <td>118.000000</td>\n",
       "      <td>10.000000</td>\n",
       "      <td>255.000000</td>\n",
       "      <td>59.000000</td>\n",
       "    </tr>\n",
       "    <tr>\n",
       "      <th>50%</th>\n",
       "      <td>0.000000</td>\n",
       "      <td>5.200000e+02</td>\n",
       "      <td>0.000000e+00</td>\n",
       "      <td>0.000000</td>\n",
       "      <td>0.000000</td>\n",
       "      <td>0.000000</td>\n",
       "      <td>0.000000</td>\n",
       "      <td>1.000000</td>\n",
       "      <td>0.000000</td>\n",
       "      <td>0.000000</td>\n",
       "      <td>...</td>\n",
       "      <td>0.000000</td>\n",
       "      <td>0.000000</td>\n",
       "      <td>0.000000</td>\n",
       "      <td>0.0</td>\n",
       "      <td>0.0</td>\n",
       "      <td>0.000000</td>\n",
       "      <td>510.000000</td>\n",
       "      <td>510.000000</td>\n",
       "      <td>255.000000</td>\n",
       "      <td>255.000000</td>\n",
       "    </tr>\n",
       "    <tr>\n",
       "      <th>75%</th>\n",
       "      <td>0.000000</td>\n",
       "      <td>1.032000e+03</td>\n",
       "      <td>0.000000e+00</td>\n",
       "      <td>0.000000</td>\n",
       "      <td>0.000000</td>\n",
       "      <td>0.000000</td>\n",
       "      <td>0.000000</td>\n",
       "      <td>1.000000</td>\n",
       "      <td>0.000000</td>\n",
       "      <td>0.000000</td>\n",
       "      <td>...</td>\n",
       "      <td>0.000000</td>\n",
       "      <td>0.000000</td>\n",
       "      <td>0.000000</td>\n",
       "      <td>0.0</td>\n",
       "      <td>0.0</td>\n",
       "      <td>0.000000</td>\n",
       "      <td>511.000000</td>\n",
       "      <td>511.000000</td>\n",
       "      <td>255.000000</td>\n",
       "      <td>255.000000</td>\n",
       "    </tr>\n",
       "    <tr>\n",
       "      <th>max</th>\n",
       "      <td>39910.000000</td>\n",
       "      <td>8.958152e+07</td>\n",
       "      <td>7.028652e+06</td>\n",
       "      <td>1.000000</td>\n",
       "      <td>1.000000</td>\n",
       "      <td>1.000000</td>\n",
       "      <td>1.000000</td>\n",
       "      <td>1.000000</td>\n",
       "      <td>1.000000</td>\n",
       "      <td>1.000000</td>\n",
       "      <td>...</td>\n",
       "      <td>15.000000</td>\n",
       "      <td>1.000000</td>\n",
       "      <td>8.000000</td>\n",
       "      <td>0.0</td>\n",
       "      <td>0.0</td>\n",
       "      <td>1.000000</td>\n",
       "      <td>511.000000</td>\n",
       "      <td>511.000000</td>\n",
       "      <td>255.000000</td>\n",
       "      <td>255.000000</td>\n",
       "    </tr>\n",
       "  </tbody>\n",
       "</table>\n",
       "<p>8 rows × 41 columns</p>\n",
       "</div>"
      ],
      "text/plain": [
       "             cont_1        cont_2        cont_3        cont_4        cont_5  \\\n",
       "count  91166.000000  9.116600e+04  9.116600e+04  91166.000000  91166.000000   \n",
       "mean      44.499583  1.861971e+03  6.885151e+02      0.169543      0.169616   \n",
       "std      676.749529  2.977819e+05  2.522652e+04      0.374541      0.374968   \n",
       "min        0.000000  0.000000e+00  0.000000e+00      0.000000      0.000000   \n",
       "25%        0.000000  4.500000e+01  0.000000e+00      0.000000      0.000000   \n",
       "50%        0.000000  5.200000e+02  0.000000e+00      0.000000      0.000000   \n",
       "75%        0.000000  1.032000e+03  0.000000e+00      0.000000      0.000000   \n",
       "max    39910.000000  8.958152e+07  7.028652e+06      1.000000      1.000000   \n",
       "\n",
       "             cont_6        cont_7        cont_8        cont_9       cont_10  \\\n",
       "count  91166.000000  91166.000000  91166.000000  91166.000000  91166.000000   \n",
       "mean       0.064301      0.064299      0.791855      0.021109      0.027920   \n",
       "std        0.244362      0.244723      0.388186      0.083526      0.139383   \n",
       "min        0.000000      0.000000      0.000000      0.000000      0.000000   \n",
       "25%        0.000000      0.000000      1.000000      0.000000      0.000000   \n",
       "50%        0.000000      0.000000      1.000000      0.000000      0.000000   \n",
       "75%        0.000000      0.000000      1.000000      0.000000      0.000000   \n",
       "max        1.000000      1.000000      1.000000      1.000000      1.000000   \n",
       "\n",
       "           ...             cat_14        cat_15        cat_16   cat_17  \\\n",
       "count      ...       91166.000000  91166.000000  91166.000000  91166.0   \n",
       "mean       ...           0.000570      0.000088      0.001020      0.0   \n",
       "std        ...           0.054216      0.009367      0.040685      0.0   \n",
       "min        ...           0.000000      0.000000      0.000000      0.0   \n",
       "25%        ...           0.000000      0.000000      0.000000      0.0   \n",
       "50%        ...           0.000000      0.000000      0.000000      0.0   \n",
       "75%        ...           0.000000      0.000000      0.000000      0.0   \n",
       "max        ...          15.000000      1.000000      8.000000      0.0   \n",
       "\n",
       "        cat_18        cat_19        cat_20        cat_21        cat_22  \\\n",
       "count  91166.0  91166.000000  91166.000000  91166.000000  91166.000000   \n",
       "mean       0.0      0.001053    331.381217    292.098951    233.063971   \n",
       "std        0.0      0.032433    212.975581    245.983207     63.960845   \n",
       "min        0.0      0.000000      1.000000      1.000000      0.000000   \n",
       "25%        0.0      0.000000    118.000000     10.000000    255.000000   \n",
       "50%        0.0      0.000000    510.000000    510.000000    255.000000   \n",
       "75%        0.0      0.000000    511.000000    511.000000    255.000000   \n",
       "max        0.0      1.000000    511.000000    511.000000    255.000000   \n",
       "\n",
       "             cat_23  \n",
       "count  91166.000000  \n",
       "mean     189.831714  \n",
       "std      105.601719  \n",
       "min        0.000000  \n",
       "25%       59.000000  \n",
       "50%      255.000000  \n",
       "75%      255.000000  \n",
       "max      255.000000  \n",
       "\n",
       "[8 rows x 41 columns]"
      ]
     },
     "execution_count": 32,
     "metadata": {},
     "output_type": "execute_result"
    }
   ],
   "source": [
    "test = pd.read_csv('test_data.csv')\n",
    "test.describe()"
   ]
  },
  {
   "cell_type": "code",
   "execution_count": 33,
   "metadata": {
    "collapsed": true
   },
   "outputs": [],
   "source": [
    "test_id = test['connection_id']"
   ]
  },
  {
   "cell_type": "code",
   "execution_count": 34,
   "metadata": {},
   "outputs": [
    {
     "data": {
      "text/plain": [
       "0    135722\n",
       "1     33585\n",
       "Name: target, dtype: int64"
      ]
     },
     "execution_count": 34,
     "metadata": {},
     "output_type": "execute_result"
    }
   ],
   "source": [
    "train['target'] = train['target'].replace({2:0})\n",
    "train['target'].value_counts()"
   ]
  },
  {
   "cell_type": "code",
   "execution_count": 35,
   "metadata": {
    "collapsed": true
   },
   "outputs": [],
   "source": [
    "## function for multi-accuracy\n",
    "from sklearn.metrics import accuracy_score\n",
    "def multAcc(pred,y_valid):\n",
    "    acc = accuracy_score(y_valid, pred)\n",
    "    return 'maccuracy', acc"
   ]
  },
  {
   "cell_type": "markdown",
   "metadata": {},
   "source": [
    "## XGB Model"
   ]
  },
  {
   "cell_type": "code",
   "execution_count": 48,
   "metadata": {},
   "outputs": [
    {
     "data": {
      "text/plain": [
       "('maccuracy', 0.99838560431555534)"
      ]
     },
     "execution_count": 48,
     "metadata": {},
     "output_type": "execute_result"
    }
   ],
   "source": [
    "features = ['cont_1','cont_2', 'cont_3', 'cont_4', 'cont_5',\n",
    "            'cont_6', 'cont_7','cont_8','cont_9', 'cont_10','cont_11','cont_12',\n",
    "            'cont_13', 'cont_14', 'cont_15', 'cont_16', 'cont_17', 'cont_18',\n",
    "            'cat_1', 'cat_2','cat_3','cat_7','cat_9','cat_10','cat_13','cat_20', 'cat_21', 'cat_22','cat_23']\n",
    "X_train = train[features]\n",
    "target = train['target']\n",
    "x_train, X_valid, y_train, y_valid = train_test_split(X_train, target, train_size = 0.7, stratify = target, random_state = 2017)\n",
    "model = XGBClassifier(learning_rate =0.10,n_estimators=1000,max_depth=3,min_child_weight=2,gamma=0.1,subsample=0.70,\n",
    "                          colsample_bytree=0.60,reg_alpha=0.15,objective= 'binary:logistic',nthread=4,seed=27)\n",
    "model.fit(x_train,y_train)\n",
    "pred_test_xgb = model.predict(X_valid)\n",
    "multAcc(pred_test_xgb,y_valid)"
   ]
  },
  {
   "cell_type": "markdown",
   "metadata": {},
   "source": [
    "## RF Model"
   ]
  },
  {
   "cell_type": "code",
   "execution_count": 78,
   "metadata": {
    "collapsed": true
   },
   "outputs": [],
   "source": [
    "from sklearn.model_selection import cross_val_score"
   ]
  },
  {
   "cell_type": "code",
   "execution_count": 79,
   "metadata": {},
   "outputs": [
    {
     "data": {
      "text/plain": [
       "-0.0039260107399764176"
      ]
     },
     "execution_count": 79,
     "metadata": {},
     "output_type": "execute_result"
    }
   ],
   "source": [
    "model = RandomForestClassifier(n_estimators=1000, max_depth=15,min_samples_split=4,criterion='entropy',\n",
    "                               min_samples_leaf=1,n_jobs=-1,random_state=2017,oob_score=True)\n",
    "scores = cross_val_score(rf, train[features],train['target'], cv=5,scoring='neg_log_loss')\n",
    "scores.mean()"
   ]
  },
  {
   "cell_type": "code",
   "execution_count": 58,
   "metadata": {},
   "outputs": [
    {
     "data": {
      "text/html": [
       "<div>\n",
       "<style>\n",
       "    .dataframe thead tr:only-child th {\n",
       "        text-align: right;\n",
       "    }\n",
       "\n",
       "    .dataframe thead th {\n",
       "        text-align: left;\n",
       "    }\n",
       "\n",
       "    .dataframe tbody tr th {\n",
       "        vertical-align: top;\n",
       "    }\n",
       "</style>\n",
       "<table border=\"1\" class=\"dataframe\">\n",
       "  <thead>\n",
       "    <tr style=\"text-align: right;\">\n",
       "      <th></th>\n",
       "      <th>connection_id</th>\n",
       "      <th>cont_1</th>\n",
       "      <th>cont_2</th>\n",
       "      <th>cont_3</th>\n",
       "      <th>cont_4</th>\n",
       "      <th>cont_5</th>\n",
       "      <th>cont_6</th>\n",
       "      <th>cont_7</th>\n",
       "      <th>cont_8</th>\n",
       "      <th>cont_9</th>\n",
       "      <th>...</th>\n",
       "      <th>cat_15</th>\n",
       "      <th>cat_16</th>\n",
       "      <th>cat_17</th>\n",
       "      <th>cat_18</th>\n",
       "      <th>cat_19</th>\n",
       "      <th>cat_20</th>\n",
       "      <th>cat_21</th>\n",
       "      <th>cat_22</th>\n",
       "      <th>cat_23</th>\n",
       "      <th>target</th>\n",
       "    </tr>\n",
       "  </thead>\n",
       "  <tbody>\n",
       "    <tr>\n",
       "      <th>0</th>\n",
       "      <td>cxcon_1</td>\n",
       "      <td>0</td>\n",
       "      <td>1032</td>\n",
       "      <td>0</td>\n",
       "      <td>0.0</td>\n",
       "      <td>0.0</td>\n",
       "      <td>0.0</td>\n",
       "      <td>0.0</td>\n",
       "      <td>1.0</td>\n",
       "      <td>0.0</td>\n",
       "      <td>...</td>\n",
       "      <td>0</td>\n",
       "      <td>0</td>\n",
       "      <td>0</td>\n",
       "      <td>0</td>\n",
       "      <td>0</td>\n",
       "      <td>511</td>\n",
       "      <td>511</td>\n",
       "      <td>255</td>\n",
       "      <td>255</td>\n",
       "      <td>0</td>\n",
       "    </tr>\n",
       "    <tr>\n",
       "      <th>1</th>\n",
       "      <td>cxcon_4</td>\n",
       "      <td>0</td>\n",
       "      <td>520</td>\n",
       "      <td>0</td>\n",
       "      <td>0.0</td>\n",
       "      <td>0.0</td>\n",
       "      <td>0.0</td>\n",
       "      <td>0.0</td>\n",
       "      <td>1.0</td>\n",
       "      <td>0.0</td>\n",
       "      <td>...</td>\n",
       "      <td>0</td>\n",
       "      <td>0</td>\n",
       "      <td>0</td>\n",
       "      <td>0</td>\n",
       "      <td>0</td>\n",
       "      <td>511</td>\n",
       "      <td>511</td>\n",
       "      <td>255</td>\n",
       "      <td>255</td>\n",
       "      <td>0</td>\n",
       "    </tr>\n",
       "    <tr>\n",
       "      <th>2</th>\n",
       "      <td>cxcon_7</td>\n",
       "      <td>0</td>\n",
       "      <td>1032</td>\n",
       "      <td>0</td>\n",
       "      <td>0.0</td>\n",
       "      <td>0.0</td>\n",
       "      <td>0.0</td>\n",
       "      <td>0.0</td>\n",
       "      <td>1.0</td>\n",
       "      <td>0.0</td>\n",
       "      <td>...</td>\n",
       "      <td>0</td>\n",
       "      <td>0</td>\n",
       "      <td>0</td>\n",
       "      <td>0</td>\n",
       "      <td>0</td>\n",
       "      <td>511</td>\n",
       "      <td>511</td>\n",
       "      <td>255</td>\n",
       "      <td>255</td>\n",
       "      <td>0</td>\n",
       "    </tr>\n",
       "    <tr>\n",
       "      <th>3</th>\n",
       "      <td>cxcon_10</td>\n",
       "      <td>0</td>\n",
       "      <td>1032</td>\n",
       "      <td>0</td>\n",
       "      <td>0.0</td>\n",
       "      <td>0.0</td>\n",
       "      <td>0.0</td>\n",
       "      <td>0.0</td>\n",
       "      <td>1.0</td>\n",
       "      <td>0.0</td>\n",
       "      <td>...</td>\n",
       "      <td>0</td>\n",
       "      <td>0</td>\n",
       "      <td>0</td>\n",
       "      <td>0</td>\n",
       "      <td>0</td>\n",
       "      <td>511</td>\n",
       "      <td>511</td>\n",
       "      <td>255</td>\n",
       "      <td>255</td>\n",
       "      <td>0</td>\n",
       "    </tr>\n",
       "    <tr>\n",
       "      <th>4</th>\n",
       "      <td>cxcon_13</td>\n",
       "      <td>0</td>\n",
       "      <td>1032</td>\n",
       "      <td>0</td>\n",
       "      <td>0.0</td>\n",
       "      <td>0.0</td>\n",
       "      <td>0.0</td>\n",
       "      <td>0.0</td>\n",
       "      <td>1.0</td>\n",
       "      <td>0.0</td>\n",
       "      <td>...</td>\n",
       "      <td>0</td>\n",
       "      <td>0</td>\n",
       "      <td>0</td>\n",
       "      <td>0</td>\n",
       "      <td>0</td>\n",
       "      <td>511</td>\n",
       "      <td>511</td>\n",
       "      <td>255</td>\n",
       "      <td>255</td>\n",
       "      <td>0</td>\n",
       "    </tr>\n",
       "  </tbody>\n",
       "</table>\n",
       "<p>5 rows × 43 columns</p>\n",
       "</div>"
      ],
      "text/plain": [
       "  connection_id  cont_1  cont_2  cont_3  cont_4  cont_5  cont_6  cont_7  \\\n",
       "0       cxcon_1       0    1032       0     0.0     0.0     0.0     0.0   \n",
       "1       cxcon_4       0     520       0     0.0     0.0     0.0     0.0   \n",
       "2       cxcon_7       0    1032       0     0.0     0.0     0.0     0.0   \n",
       "3      cxcon_10       0    1032       0     0.0     0.0     0.0     0.0   \n",
       "4      cxcon_13       0    1032       0     0.0     0.0     0.0     0.0   \n",
       "\n",
       "   cont_8  cont_9   ...    cat_15  cat_16  cat_17  cat_18  cat_19  cat_20  \\\n",
       "0     1.0     0.0   ...         0       0       0       0       0     511   \n",
       "1     1.0     0.0   ...         0       0       0       0       0     511   \n",
       "2     1.0     0.0   ...         0       0       0       0       0     511   \n",
       "3     1.0     0.0   ...         0       0       0       0       0     511   \n",
       "4     1.0     0.0   ...         0       0       0       0       0     511   \n",
       "\n",
       "   cat_21  cat_22  cat_23  target  \n",
       "0     511     255     255       0  \n",
       "1     511     255     255       0  \n",
       "2     511     255     255       0  \n",
       "3     511     255     255       0  \n",
       "4     511     255     255       0  \n",
       "\n",
       "[5 rows x 43 columns]"
      ]
     },
     "execution_count": 58,
     "metadata": {},
     "output_type": "execute_result"
    }
   ],
   "source": [
    "train.head()"
   ]
  },
  {
   "cell_type": "code",
   "execution_count": 40,
   "metadata": {
    "collapsed": true
   },
   "outputs": [],
   "source": [
    "lis = ['cat_20', 'cat_21', 'cat_22','cat_23']"
   ]
  },
  {
   "cell_type": "code",
   "execution_count": 53,
   "metadata": {
    "collapsed": true
   },
   "outputs": [],
   "source": [
    "def update(x):\n",
    "    count = 0\n",
    "    for i in lis:\n",
    "        if(x.i=='255'):\n",
    "            count+=1\n",
    "    return count        "
   ]
  },
  {
   "cell_type": "code",
   "execution_count": 64,
   "metadata": {},
   "outputs": [
    {
     "data": {
      "text/plain": [
       "511"
      ]
     },
     "execution_count": 64,
     "metadata": {},
     "output_type": "execute_result"
    }
   ],
   "source": [
    "train.loc[0,'cat_20']"
   ]
  },
  {
   "cell_type": "code",
   "execution_count": 70,
   "metadata": {},
   "outputs": [
    {
     "data": {
      "text/html": [
       "<div>\n",
       "<style>\n",
       "    .dataframe thead tr:only-child th {\n",
       "        text-align: right;\n",
       "    }\n",
       "\n",
       "    .dataframe thead th {\n",
       "        text-align: left;\n",
       "    }\n",
       "\n",
       "    .dataframe tbody tr th {\n",
       "        vertical-align: top;\n",
       "    }\n",
       "</style>\n",
       "<table border=\"1\" class=\"dataframe\">\n",
       "  <thead>\n",
       "    <tr style=\"text-align: right;\">\n",
       "      <th></th>\n",
       "      <th>cat_20</th>\n",
       "      <th>cat_21</th>\n",
       "      <th>cat_22</th>\n",
       "      <th>cat_23</th>\n",
       "      <th>count_255</th>\n",
       "    </tr>\n",
       "  </thead>\n",
       "  <tbody>\n",
       "    <tr>\n",
       "      <th>0</th>\n",
       "      <td>False</td>\n",
       "      <td>False</td>\n",
       "      <td>True</td>\n",
       "      <td>True</td>\n",
       "      <td>2</td>\n",
       "    </tr>\n",
       "    <tr>\n",
       "      <th>1</th>\n",
       "      <td>False</td>\n",
       "      <td>False</td>\n",
       "      <td>True</td>\n",
       "      <td>True</td>\n",
       "      <td>2</td>\n",
       "    </tr>\n",
       "    <tr>\n",
       "      <th>2</th>\n",
       "      <td>False</td>\n",
       "      <td>False</td>\n",
       "      <td>True</td>\n",
       "      <td>True</td>\n",
       "      <td>2</td>\n",
       "    </tr>\n",
       "    <tr>\n",
       "      <th>3</th>\n",
       "      <td>False</td>\n",
       "      <td>False</td>\n",
       "      <td>True</td>\n",
       "      <td>True</td>\n",
       "      <td>2</td>\n",
       "    </tr>\n",
       "    <tr>\n",
       "      <th>4</th>\n",
       "      <td>False</td>\n",
       "      <td>False</td>\n",
       "      <td>True</td>\n",
       "      <td>True</td>\n",
       "      <td>2</td>\n",
       "    </tr>\n",
       "  </tbody>\n",
       "</table>\n",
       "</div>"
      ],
      "text/plain": [
       "   cat_20  cat_21  cat_22  cat_23  count_255\n",
       "0   False   False    True    True          2\n",
       "1   False   False    True    True          2\n",
       "2   False   False    True    True          2\n",
       "3   False   False    True    True          2\n",
       "4   False   False    True    True          2"
      ]
     },
     "execution_count": 70,
     "metadata": {},
     "output_type": "execute_result"
    }
   ],
   "source": [
    "def update(train,n):\n",
    "    data = pd.DataFrame()\n",
    "    for i in lis:\n",
    "        data[i] = train[i]==n\n",
    "    data['count_'+str(n)] = data.sum(axis=1)\n",
    "    return data['count_'+str(n)]\n",
    "data.head()"
   ]
  },
  {
   "cell_type": "code",
   "execution_count": 71,
   "metadata": {
    "collapsed": true
   },
   "outputs": [],
   "source": [
    "train['count_255'] = update(train,255)"
   ]
  },
  {
   "cell_type": "code",
   "execution_count": 72,
   "metadata": {
    "collapsed": true
   },
   "outputs": [],
   "source": [
    "train['count_511'] = update(train,511)"
   ]
  },
  {
   "cell_type": "code",
   "execution_count": 73,
   "metadata": {},
   "outputs": [
    {
     "data": {
      "text/html": [
       "<div>\n",
       "<style>\n",
       "    .dataframe thead tr:only-child th {\n",
       "        text-align: right;\n",
       "    }\n",
       "\n",
       "    .dataframe thead th {\n",
       "        text-align: left;\n",
       "    }\n",
       "\n",
       "    .dataframe tbody tr th {\n",
       "        vertical-align: top;\n",
       "    }\n",
       "</style>\n",
       "<table border=\"1\" class=\"dataframe\">\n",
       "  <thead>\n",
       "    <tr style=\"text-align: right;\">\n",
       "      <th></th>\n",
       "      <th>connection_id</th>\n",
       "      <th>cont_1</th>\n",
       "      <th>cont_2</th>\n",
       "      <th>cont_3</th>\n",
       "      <th>cont_4</th>\n",
       "      <th>cont_5</th>\n",
       "      <th>cont_6</th>\n",
       "      <th>cont_7</th>\n",
       "      <th>cont_8</th>\n",
       "      <th>cont_9</th>\n",
       "      <th>...</th>\n",
       "      <th>cat_17</th>\n",
       "      <th>cat_18</th>\n",
       "      <th>cat_19</th>\n",
       "      <th>cat_20</th>\n",
       "      <th>cat_21</th>\n",
       "      <th>cat_22</th>\n",
       "      <th>cat_23</th>\n",
       "      <th>target</th>\n",
       "      <th>count_255</th>\n",
       "      <th>count_511</th>\n",
       "    </tr>\n",
       "  </thead>\n",
       "  <tbody>\n",
       "    <tr>\n",
       "      <th>0</th>\n",
       "      <td>cxcon_1</td>\n",
       "      <td>0</td>\n",
       "      <td>1032</td>\n",
       "      <td>0</td>\n",
       "      <td>0.0</td>\n",
       "      <td>0.0</td>\n",
       "      <td>0.0</td>\n",
       "      <td>0.0</td>\n",
       "      <td>1.0</td>\n",
       "      <td>0.0</td>\n",
       "      <td>...</td>\n",
       "      <td>0</td>\n",
       "      <td>0</td>\n",
       "      <td>0</td>\n",
       "      <td>511</td>\n",
       "      <td>511</td>\n",
       "      <td>255</td>\n",
       "      <td>255</td>\n",
       "      <td>0</td>\n",
       "      <td>2</td>\n",
       "      <td>2</td>\n",
       "    </tr>\n",
       "    <tr>\n",
       "      <th>1</th>\n",
       "      <td>cxcon_4</td>\n",
       "      <td>0</td>\n",
       "      <td>520</td>\n",
       "      <td>0</td>\n",
       "      <td>0.0</td>\n",
       "      <td>0.0</td>\n",
       "      <td>0.0</td>\n",
       "      <td>0.0</td>\n",
       "      <td>1.0</td>\n",
       "      <td>0.0</td>\n",
       "      <td>...</td>\n",
       "      <td>0</td>\n",
       "      <td>0</td>\n",
       "      <td>0</td>\n",
       "      <td>511</td>\n",
       "      <td>511</td>\n",
       "      <td>255</td>\n",
       "      <td>255</td>\n",
       "      <td>0</td>\n",
       "      <td>2</td>\n",
       "      <td>2</td>\n",
       "    </tr>\n",
       "    <tr>\n",
       "      <th>2</th>\n",
       "      <td>cxcon_7</td>\n",
       "      <td>0</td>\n",
       "      <td>1032</td>\n",
       "      <td>0</td>\n",
       "      <td>0.0</td>\n",
       "      <td>0.0</td>\n",
       "      <td>0.0</td>\n",
       "      <td>0.0</td>\n",
       "      <td>1.0</td>\n",
       "      <td>0.0</td>\n",
       "      <td>...</td>\n",
       "      <td>0</td>\n",
       "      <td>0</td>\n",
       "      <td>0</td>\n",
       "      <td>511</td>\n",
       "      <td>511</td>\n",
       "      <td>255</td>\n",
       "      <td>255</td>\n",
       "      <td>0</td>\n",
       "      <td>2</td>\n",
       "      <td>2</td>\n",
       "    </tr>\n",
       "    <tr>\n",
       "      <th>3</th>\n",
       "      <td>cxcon_10</td>\n",
       "      <td>0</td>\n",
       "      <td>1032</td>\n",
       "      <td>0</td>\n",
       "      <td>0.0</td>\n",
       "      <td>0.0</td>\n",
       "      <td>0.0</td>\n",
       "      <td>0.0</td>\n",
       "      <td>1.0</td>\n",
       "      <td>0.0</td>\n",
       "      <td>...</td>\n",
       "      <td>0</td>\n",
       "      <td>0</td>\n",
       "      <td>0</td>\n",
       "      <td>511</td>\n",
       "      <td>511</td>\n",
       "      <td>255</td>\n",
       "      <td>255</td>\n",
       "      <td>0</td>\n",
       "      <td>2</td>\n",
       "      <td>2</td>\n",
       "    </tr>\n",
       "    <tr>\n",
       "      <th>4</th>\n",
       "      <td>cxcon_13</td>\n",
       "      <td>0</td>\n",
       "      <td>1032</td>\n",
       "      <td>0</td>\n",
       "      <td>0.0</td>\n",
       "      <td>0.0</td>\n",
       "      <td>0.0</td>\n",
       "      <td>0.0</td>\n",
       "      <td>1.0</td>\n",
       "      <td>0.0</td>\n",
       "      <td>...</td>\n",
       "      <td>0</td>\n",
       "      <td>0</td>\n",
       "      <td>0</td>\n",
       "      <td>511</td>\n",
       "      <td>511</td>\n",
       "      <td>255</td>\n",
       "      <td>255</td>\n",
       "      <td>0</td>\n",
       "      <td>2</td>\n",
       "      <td>2</td>\n",
       "    </tr>\n",
       "  </tbody>\n",
       "</table>\n",
       "<p>5 rows × 45 columns</p>\n",
       "</div>"
      ],
      "text/plain": [
       "  connection_id  cont_1  cont_2  cont_3  cont_4  cont_5  cont_6  cont_7  \\\n",
       "0       cxcon_1       0    1032       0     0.0     0.0     0.0     0.0   \n",
       "1       cxcon_4       0     520       0     0.0     0.0     0.0     0.0   \n",
       "2       cxcon_7       0    1032       0     0.0     0.0     0.0     0.0   \n",
       "3      cxcon_10       0    1032       0     0.0     0.0     0.0     0.0   \n",
       "4      cxcon_13       0    1032       0     0.0     0.0     0.0     0.0   \n",
       "\n",
       "   cont_8  cont_9    ...      cat_17  cat_18  cat_19  cat_20  cat_21  cat_22  \\\n",
       "0     1.0     0.0    ...           0       0       0     511     511     255   \n",
       "1     1.0     0.0    ...           0       0       0     511     511     255   \n",
       "2     1.0     0.0    ...           0       0       0     511     511     255   \n",
       "3     1.0     0.0    ...           0       0       0     511     511     255   \n",
       "4     1.0     0.0    ...           0       0       0     511     511     255   \n",
       "\n",
       "   cat_23  target  count_255  count_511  \n",
       "0     255       0          2          2  \n",
       "1     255       0          2          2  \n",
       "2     255       0          2          2  \n",
       "3     255       0          2          2  \n",
       "4     255       0          2          2  \n",
       "\n",
       "[5 rows x 45 columns]"
      ]
     },
     "execution_count": 73,
     "metadata": {},
     "output_type": "execute_result"
    }
   ],
   "source": [
    "train.head()"
   ]
  },
  {
   "cell_type": "code",
   "execution_count": 74,
   "metadata": {},
   "outputs": [
    {
     "data": {
      "text/plain": [
       "Index(['connection_id', 'cont_1', 'cont_2', 'cont_3', 'cont_4', 'cont_5',\n",
       "       'cont_6', 'cont_7', 'cont_8', 'cont_9', 'cont_10', 'cont_11', 'cont_12',\n",
       "       'cont_13', 'cont_14', 'cont_15', 'cont_16', 'cont_17', 'cont_18',\n",
       "       'cat_1', 'cat_2', 'cat_3', 'cat_4', 'cat_5', 'cat_6', 'cat_7', 'cat_8',\n",
       "       'cat_9', 'cat_10', 'cat_11', 'cat_12', 'cat_13', 'cat_14', 'cat_15',\n",
       "       'cat_16', 'cat_17', 'cat_18', 'cat_19', 'cat_20', 'cat_21', 'cat_22',\n",
       "       'cat_23', 'target', 'count_255', 'count_511'],\n",
       "      dtype='object')"
      ]
     },
     "execution_count": 74,
     "metadata": {},
     "output_type": "execute_result"
    }
   ],
   "source": [
    "train.columns"
   ]
  },
  {
   "cell_type": "code",
   "execution_count": 76,
   "metadata": {},
   "outputs": [
    {
     "data": {
      "text/plain": [
       "('maccuracy', 0.99850373082905119)"
      ]
     },
     "execution_count": 76,
     "metadata": {},
     "output_type": "execute_result"
    }
   ],
   "source": [
    "features = ['cont_2', 'cont_3', 'cont_4', 'cont_5',\n",
    "            'cont_6', 'cont_7','cont_8','cont_9', 'cont_10','cont_11','cont_12',\n",
    "            'cont_13', 'cont_14', 'cont_15', 'cont_16', 'cont_17', 'cont_18',\n",
    "            'cat_1', 'cat_2','cat_3','cat_7','cat_9','cat_10','cat_13','cat_20','cat_21', 'cat_22','cat_23']\n",
    "X_train = train[features]\n",
    "target = train['target']\n",
    "x_train, X_valid, y_train, y_valid = train_test_split(X_train, target, train_size = 0.7, stratify = target, random_state = 2017)\n",
    "model = RandomForestClassifier(n_estimators=1000, max_depth=15,min_samples_split=4,criterion='entropy',\n",
    "                               min_samples_leaf=1,n_jobs=-1,random_state=2017,oob_score=True)\n",
    "model.fit(x_train,y_train)\n",
    "pred_test_rf = model.predict(X_valid)\n",
    "multAcc(pred_test_rf,y_valid)"
   ]
  },
  {
   "cell_type": "code",
   "execution_count": 28,
   "metadata": {},
   "outputs": [
    {
     "data": {
      "text/plain": [
       "array([[39712,    25],\n",
       "       [11047,     9]])"
      ]
     },
     "execution_count": 28,
     "metadata": {},
     "output_type": "execute_result"
    }
   ],
   "source": [
    "from sklearn.metrics import confusion_matrix\n",
    "confusion_matrix(y_valid,pred_test_rf)"
   ]
  },
  {
   "cell_type": "code",
   "execution_count": 37,
   "metadata": {},
   "outputs": [],
   "source": [
    "from random import randint"
   ]
  },
  {
   "cell_type": "code",
   "execution_count": 38,
   "metadata": {},
   "outputs": [
    {
     "name": "stdout",
     "output_type": "stream",
     "text": [
      "writting is done.\n"
     ]
    }
   ],
   "source": [
    "rf  = RandomForestClassifier(n_estimators=1000, max_depth=15,min_samples_split=4,\n",
    "                               min_samples_leaf=1,n_jobs=-1,random_state=2017,oob_score=True)\n",
    "rf.fit(train[features],train['target'])\n",
    "\n",
    "pred = rf.predict(test[features])\n",
    "index = randint(0,len(pred))\n",
    "pred[index] = 2\n",
    "\n",
    "sub = pd.DataFrame()\n",
    "sub['connection_id'] = test_id\n",
    "sub['target'] = pred\n",
    "sub.to_csv('rf.csv', index=False)\n",
    "print('writting is done.')"
   ]
  },
  {
   "cell_type": "markdown",
   "metadata": {},
   "source": [
    "## KNN Model"
   ]
  },
  {
   "cell_type": "code",
   "execution_count": 9,
   "metadata": {},
   "outputs": [
    {
     "data": {
      "text/plain": [
       "('maccuracy', 0.99742090445533838)"
      ]
     },
     "execution_count": 9,
     "metadata": {},
     "output_type": "execute_result"
    }
   ],
   "source": [
    "features = ['cont_1', 'cont_2', 'cont_3', 'cont_4', 'cont_5',\n",
    "            'cont_6', 'cont_7','cont_8','cont_9', 'cont_10','cont_11','cont_12',\n",
    "            'cont_13', 'cont_14', 'cont_15', 'cont_16', 'cont_17', 'cont_18',\n",
    "            'cat_1', 'cat_2','cat_3','cat_9','cat_20', 'cat_21', 'cat_22','cat_23']\n",
    "X_train = train[features]\n",
    "target = train['target']\n",
    "x_train, X_valid, y_train, y_valid = train_test_split(X_train, target, train_size = 0.7, stratify = target, random_state = 2017)\n",
    "model = KNeighborsClassifier(n_neighbors=5,weights='uniform',algorithm='auto',n_jobs=-1)\n",
    "model.fit(x_train,y_train)\n",
    "pred_test_knn = model.predict(X_valid)\n",
    "multAcc(pred_test_knn,y_valid)"
   ]
  },
  {
   "cell_type": "markdown",
   "metadata": {},
   "source": [
    "## LGB Model"
   ]
  },
  {
   "cell_type": "code",
   "execution_count": 10,
   "metadata": {},
   "outputs": [
    {
     "data": {
      "text/plain": [
       "('maccuracy', 0.99836591656330598)"
      ]
     },
     "execution_count": 10,
     "metadata": {},
     "output_type": "execute_result"
    }
   ],
   "source": [
    "features = ['cont_1', 'cont_2', 'cont_3', 'cont_4', 'cont_5',\n",
    "            'cont_6', 'cont_7','cont_8','cont_9', 'cont_10','cont_11','cont_12',\n",
    "            'cont_13', 'cont_14', 'cont_15', 'cont_16', 'cont_17', 'cont_18',\n",
    "            'cat_1', 'cat_2','cat_3','cat_9','cat_20', 'cat_21', 'cat_22','cat_23']\n",
    "X_train = train[features]\n",
    "target = train['target']\n",
    "x_train, X_valid, y_train, y_valid = train_test_split(X_train, target, train_size = 0.7, stratify = target, random_state = 2017)\n",
    "model = LGBMClassifier(learning_rate =0.10,n_estimators=1000,max_depth=3,min_child_weight=2,subsample=0.70,\n",
    "                       colsample_bytree=0.60,reg_alpha=0.15,n_jobs=4,random_state=2017)\n",
    "model.fit(x_train,y_train)\n",
    "pred_test = model.predict(X_valid)\n",
    "multAcc(pred_test,y_valid)"
   ]
  },
  {
   "cell_type": "markdown",
   "metadata": {},
   "source": [
    "## Logistic Regression"
   ]
  },
  {
   "cell_type": "code",
   "execution_count": 11,
   "metadata": {},
   "outputs": [
    {
     "data": {
      "text/plain": [
       "('maccuracy', 0.98482074301576994)"
      ]
     },
     "execution_count": 11,
     "metadata": {},
     "output_type": "execute_result"
    }
   ],
   "source": [
    "features = ['cont_1', 'cont_2', 'cont_3', 'cont_4', 'cont_5',\n",
    "            'cont_6', 'cont_7','cont_8','cont_9', 'cont_10','cont_11','cont_12',\n",
    "            'cont_13', 'cont_14', 'cont_15', 'cont_16', 'cont_17', 'cont_18',\n",
    "            'cat_1', 'cat_2','cat_3','cat_9','cat_20', 'cat_21', 'cat_22','cat_23']\n",
    "X_train = train[features]\n",
    "target = train['target']\n",
    "x_train, X_valid, y_train, y_valid = train_test_split(X_train, target, train_size = 0.7, stratify = target, random_state = 2017)\n",
    "model = LogisticRegression(class_weight='balanced',n_jobs=4,max_iter=1000,random_state=2017,C=0.5)\n",
    "model.fit(x_train,y_train)\n",
    "pred_test = model.predict(X_valid)\n",
    "multAcc(pred_test,y_valid)"
   ]
  },
  {
   "cell_type": "markdown",
   "metadata": {},
   "source": [
    "## Gausian Naive Bayes"
   ]
  },
  {
   "cell_type": "code",
   "execution_count": 12,
   "metadata": {},
   "outputs": [
    {
     "data": {
      "text/plain": [
       "('maccuracy', 0.98779359360541807)"
      ]
     },
     "execution_count": 12,
     "metadata": {},
     "output_type": "execute_result"
    }
   ],
   "source": [
    "features = ['cont_1', 'cont_2', 'cont_3', 'cont_4', 'cont_5',\n",
    "            'cont_6', 'cont_7','cont_8','cont_9', 'cont_10','cont_11','cont_12',\n",
    "            'cont_13', 'cont_14', 'cont_15', 'cont_16', 'cont_17', 'cont_18',\n",
    "            'cat_1', 'cat_2','cat_3','cat_9','cat_20', 'cat_21', 'cat_22','cat_23']\n",
    "X_train = train[features]\n",
    "target = train['target']\n",
    "x_train, X_valid, y_train, y_valid = train_test_split(X_train, target, train_size = 0.7, stratify = target, random_state = 2017)\n",
    "model = GaussianNB()\n",
    "model.fit(x_train,y_train)\n",
    "pred_test = model.predict(X_valid)\n",
    "multAcc(pred_test,y_valid)"
   ]
  },
  {
   "cell_type": "markdown",
   "metadata": {},
   "source": [
    "## Bernaulli Naive Bayes"
   ]
  },
  {
   "cell_type": "code",
   "execution_count": 13,
   "metadata": {},
   "outputs": [
    {
     "data": {
      "text/plain": [
       "('maccuracy', 0.97430748331463002)"
      ]
     },
     "execution_count": 13,
     "metadata": {},
     "output_type": "execute_result"
    }
   ],
   "source": [
    "features = ['cont_1', 'cont_2', 'cont_3', 'cont_4', 'cont_5',\n",
    "            'cont_6', 'cont_7','cont_8','cont_9', 'cont_10','cont_11','cont_12',\n",
    "            'cont_13', 'cont_14', 'cont_15', 'cont_16', 'cont_17', 'cont_18',\n",
    "            'cat_1', 'cat_2','cat_3','cat_9','cat_20', 'cat_21', 'cat_22','cat_23']\n",
    "X_train = train[features]\n",
    "target = train['target']\n",
    "x_train, X_valid, y_train, y_valid = train_test_split(X_train, target, train_size = 0.7, stratify = target, random_state = 2017)\n",
    "model = BernoulliNB()\n",
    "model.fit(x_train,y_train)\n",
    "pred_test = model.predict(X_valid)\n",
    "multAcc(pred_test,y_valid)"
   ]
  },
  {
   "cell_type": "markdown",
   "metadata": {},
   "source": [
    "## Decision Tree Model"
   ]
  },
  {
   "cell_type": "code",
   "execution_count": 14,
   "metadata": {},
   "outputs": [
    {
     "data": {
      "text/plain": [
       "('maccuracy', 0.99803122477506745)"
      ]
     },
     "execution_count": 14,
     "metadata": {},
     "output_type": "execute_result"
    }
   ],
   "source": [
    "features = ['cont_1', 'cont_2', 'cont_3', 'cont_4', 'cont_5',\n",
    "            'cont_6', 'cont_7','cont_8','cont_9', 'cont_10','cont_11','cont_12',\n",
    "            'cont_13', 'cont_14', 'cont_15', 'cont_16', 'cont_17', 'cont_18',\n",
    "            'cat_1', 'cat_2','cat_3','cat_9','cat_20', 'cat_21', 'cat_22','cat_23']\n",
    "X_train = train[features]\n",
    "target = train['target']\n",
    "x_train, X_valid, y_train, y_valid = train_test_split(X_train, target, train_size = 0.7, stratify = target, random_state = 2017)\n",
    "model = DecisionTreeClassifier(max_depth=15,min_samples_split=4,random_state=2017)\n",
    "model.fit(x_train,y_train)\n",
    "pred_test = model.predict(X_valid)\n",
    "multAcc(pred_test,y_valid)"
   ]
  },
  {
   "cell_type": "raw",
   "metadata": {},
   "source": [
    "Model                Accuracy\n",
    "XGBoost              0.99842497982005396\n",
    "Random Forest        0.99844466757230332\n",
    "Decision Tree        0.99803122477506745\n",
    "LGB Model            0.99836591656330598\n",
    "Logistic Regression  0.98482074301576994\n",
    "Gaussian Naive       0.98779359360541807\n",
    "Bernaulli Naive      0.97430748331463002\n",
    "KNN Model            0.99742090445533838"
   ]
  },
  {
   "cell_type": "raw",
   "metadata": {},
   "source": [
    "tried uncorrelated model prediction and majority voting"
   ]
  },
  {
   "cell_type": "code",
   "execution_count": 21,
   "metadata": {},
   "outputs": [
    {
     "data": {
      "text/plain": [
       "('maccuracy', 0.99285334593349472)"
      ]
     },
     "execution_count": 21,
     "metadata": {},
     "output_type": "execute_result"
    }
   ],
   "source": [
    "features = ['cont_1', 'cont_2', 'cont_3', 'cont_4', 'cont_5',\n",
    "            'cont_6', 'cont_7','cont_8','cont_9', 'cont_10','cont_11','cont_12',\n",
    "            'cont_13', 'cont_14', 'cont_15', 'cont_16', 'cont_17', 'cont_18',\n",
    "            'cat_1', 'cat_2','cat_3','cat_9','cat_20', 'cat_21', 'cat_22','cat_23']\n",
    "X_train = train[features]\n",
    "target = train['target']\n",
    "x_train, X_valid, y_train, y_valid = train_test_split(X_train, target, train_size = 0.7, stratify = target, random_state = 2017)\n",
    "\n",
    "rf = RandomForestClassifier(n_estimators=1000, max_depth=15,min_samples_split=4,\n",
    "                               min_samples_leaf=1,n_jobs=-1,random_state=2017,oob_score=True)\n",
    "lr = LogisticRegression(class_weight='balanced',n_jobs=4,max_iter=1000,random_state=2017,C=0.5)\n",
    "gn = BernoulliNB()\n",
    "\n",
    "df = pd.DataFrame()\n",
    "\n",
    "rf.fit(x_train,y_train)\n",
    "df['pred_rf'] = rf.predict(X_valid)\n",
    "\n",
    "lr.fit(x_train,y_train)\n",
    "df['pred_lr'] = lr.predict(X_valid)\n",
    "\n",
    "gn.fit(x_train,y_train)\n",
    "df['pred_gn'] = gn.predict(X_valid)\n",
    "\n",
    "pred_test = df.mode(axis=1)[0]\n",
    "multAcc(pred_test,y_valid)"
   ]
  },
  {
   "cell_type": "code",
   "execution_count": 22,
   "metadata": {},
   "outputs": [
    {
     "name": "stdout",
     "output_type": "stream",
     "text": [
      "writting is done.\n"
     ]
    }
   ],
   "source": [
    "df = pd.DataFrame()\n",
    "df['pred_rf'] = rf.predict(test[features])\n",
    "df['pred_lr'] = lr.predict(test[features])\n",
    "df['pred_gn'] = gn.predict(test[features])\n",
    "\n",
    "pred = df.mode(axis=1)[0]\n",
    "\n",
    "\n",
    "sub = pd.DataFrame()\n",
    "sub['connection_id'] = test_id\n",
    "sub['target'] = pred\n",
    "sub.to_csv('combine.csv', index=False)\n",
    "print('writting is done.')"
   ]
  },
  {
   "cell_type": "code",
   "execution_count": 23,
   "metadata": {
    "collapsed": true
   },
   "outputs": [],
   "source": [
    "from sklearn.ensemble import ExtraTreesClassifier"
   ]
  },
  {
   "cell_type": "code",
   "execution_count": 45,
   "metadata": {},
   "outputs": [
    {
     "data": {
      "text/plain": [
       "('maccuracy', 0.99507806193766857)"
      ]
     },
     "execution_count": 45,
     "metadata": {},
     "output_type": "execute_result"
    }
   ],
   "source": [
    "features = ['cont_1', 'cont_2', 'cont_3', 'cont_4', 'cont_5',\n",
    "            'cont_6', 'cont_7','cont_8','cont_9', 'cont_10','cont_11','cont_12',\n",
    "            'cont_13', 'cont_14', 'cont_15', 'cont_16', 'cont_17', 'cont_18',\n",
    "            'cat_1', 'cat_2','cat_3','cat_9','cat_20', 'cat_21', 'cat_22','cat_23']\n",
    "X_train = train[features]\n",
    "target = train['target']\n",
    "x_train, X_valid, y_train, y_valid = train_test_split(X_train, target, train_size = 0.7, stratify = target, random_state = 2017)\n",
    "model = ExtraTreesClassifier(n_estimators=500, max_depth=25,min_samples_split=4,\n",
    "                               min_samples_leaf=1,n_jobs=-1,random_state=2017,oob_score=True,bootstrap=True)\n",
    "model.fit(x_train,y_train)\n",
    "pred_test_rf = model.predict(X_valid)\n",
    "multAcc(pred_test_rf,y_valid)"
   ]
  },
  {
   "cell_type": "code",
   "execution_count": 44,
   "metadata": {},
   "outputs": [
    {
     "name": "stdout",
     "output_type": "stream",
     "text": [
      "fiiting is done\n",
      "writting is done.\n"
     ]
    }
   ],
   "source": [
    "model = ExtraTreesClassifier(n_estimators=500, max_depth=25,min_samples_split=4,\n",
    "                               min_samples_leaf=1,n_jobs=-1,random_state=2017,oob_score=True,bootstrap=True)\n",
    "model.fit(train[features],train['target'])\n",
    "\n",
    "print('fiiting is done')\n",
    "\n",
    "pred = model.predict(test[features])\n",
    "sub = pd.DataFrame()\n",
    "sub['connection_id'] = test_id\n",
    "sub['target'] = pred\n",
    "sub.to_csv('ext.csv', index=False)\n",
    "print('writting is done.')"
   ]
  },
  {
   "cell_type": "code",
   "execution_count": 32,
   "metadata": {},
   "outputs": [
    {
     "data": {
      "text/plain": [
       "LGBMClassifier(boosting_type='gbdt', colsample_bytree=0.6, learning_rate=0.1,\n",
       "        max_bin=255, max_depth=3, min_child_samples=10, min_child_weight=2,\n",
       "        min_split_gain=0.0, n_estimators=1000, n_jobs=4, num_leaves=31,\n",
       "        objective=None, random_state=2017, reg_alpha=0.15, reg_lambda=0.0,\n",
       "        silent=True, subsample=0.7, subsample_for_bin=50000,\n",
       "        subsample_freq=1)"
      ]
     },
     "execution_count": 32,
     "metadata": {},
     "output_type": "execute_result"
    }
   ],
   "source": [
    "model"
   ]
  },
  {
   "cell_type": "raw",
   "metadata": {},
   "source": [
    ":train of full dataset\n",
    "xgb = 0.78145\n",
    "rf  = 0.78147\n",
    "ext = 0.78136\n",
    "lgb = 0.78139"
   ]
  },
  {
   "cell_type": "raw",
   "metadata": {},
   "source": [
    "5*rf + 3*xgb + 2*lgb + 1*ext"
   ]
  },
  {
   "cell_type": "code",
   "execution_count": 46,
   "metadata": {},
   "outputs": [
    {
     "name": "stdout",
     "output_type": "stream",
     "text": [
      "models defined\n",
      "xgb fiiting done\n",
      "rf fiiting done\n",
      "lgb fiiting done\n",
      "ext fiiting done\n",
      "prediction done\n"
     ]
    },
    {
     "data": {
      "text/html": [
       "<div>\n",
       "<style>\n",
       "    .dataframe thead tr:only-child th {\n",
       "        text-align: right;\n",
       "    }\n",
       "\n",
       "    .dataframe thead th {\n",
       "        text-align: left;\n",
       "    }\n",
       "\n",
       "    .dataframe tbody tr th {\n",
       "        vertical-align: top;\n",
       "    }\n",
       "</style>\n",
       "<table border=\"1\" class=\"dataframe\">\n",
       "  <thead>\n",
       "    <tr style=\"text-align: right;\">\n",
       "      <th></th>\n",
       "      <th>pred_xgb</th>\n",
       "      <th>pred_rf</th>\n",
       "      <th>pred_lgb</th>\n",
       "      <th>pred_ext</th>\n",
       "      <th>count_1</th>\n",
       "    </tr>\n",
       "  </thead>\n",
       "  <tbody>\n",
       "    <tr>\n",
       "      <th>0</th>\n",
       "      <td>1</td>\n",
       "      <td>1</td>\n",
       "      <td>1</td>\n",
       "      <td>1</td>\n",
       "      <td>11</td>\n",
       "    </tr>\n",
       "    <tr>\n",
       "      <th>1</th>\n",
       "      <td>0</td>\n",
       "      <td>0</td>\n",
       "      <td>0</td>\n",
       "      <td>0</td>\n",
       "      <td>0</td>\n",
       "    </tr>\n",
       "    <tr>\n",
       "      <th>2</th>\n",
       "      <td>0</td>\n",
       "      <td>0</td>\n",
       "      <td>0</td>\n",
       "      <td>0</td>\n",
       "      <td>0</td>\n",
       "    </tr>\n",
       "    <tr>\n",
       "      <th>3</th>\n",
       "      <td>0</td>\n",
       "      <td>0</td>\n",
       "      <td>0</td>\n",
       "      <td>0</td>\n",
       "      <td>0</td>\n",
       "    </tr>\n",
       "    <tr>\n",
       "      <th>4</th>\n",
       "      <td>0</td>\n",
       "      <td>0</td>\n",
       "      <td>0</td>\n",
       "      <td>0</td>\n",
       "      <td>0</td>\n",
       "    </tr>\n",
       "  </tbody>\n",
       "</table>\n",
       "</div>"
      ],
      "text/plain": [
       "   pred_xgb  pred_rf  pred_lgb  pred_ext  count_1\n",
       "0         1        1         1         1       11\n",
       "1         0        0         0         0        0\n",
       "2         0        0         0         0        0\n",
       "3         0        0         0         0        0\n",
       "4         0        0         0         0        0"
      ]
     },
     "execution_count": 46,
     "metadata": {},
     "output_type": "execute_result"
    }
   ],
   "source": [
    "features = ['cont_1', 'cont_2', 'cont_3', 'cont_4', 'cont_5',\n",
    "            'cont_6', 'cont_7','cont_8','cont_9', 'cont_10','cont_11','cont_12',\n",
    "            'cont_13', 'cont_14', 'cont_15', 'cont_16', 'cont_17', 'cont_18',\n",
    "            'cat_1', 'cat_2','cat_3','cat_9','cat_20', 'cat_21', 'cat_22','cat_23']\n",
    "\n",
    "xgb = XGBClassifier(learning_rate =0.10,n_estimators=1000,max_depth=3,min_child_weight=2,gamma=0.1,subsample=0.70,\n",
    "                          colsample_bytree=0.60,reg_alpha=0.15,objective= 'binary:logistic',nthread=4,seed=27)\n",
    "rf  = RandomForestClassifier(n_estimators=1000, max_depth=15,min_samples_split=4,\n",
    "                               min_samples_leaf=1,n_jobs=-1,random_state=2017,oob_score=True)\n",
    "lgb = LGBMClassifier(learning_rate =0.10,n_estimators=1000,max_depth=3,min_child_weight=2,subsample=0.70,\n",
    "                       colsample_bytree=0.60,reg_alpha=0.15,n_jobs=4,random_state=2017)\n",
    "ext = ExtraTreesClassifier(n_estimators=500, max_depth=25,min_samples_split=4,\n",
    "                               min_samples_leaf=1,n_jobs=-1,random_state=2017,oob_score=True,bootstrap=True)\n",
    "print('models defined')\n",
    "\n",
    "xgb.fit(train[features],train['target'])\n",
    "print('xgb fiiting done')\n",
    "\n",
    "rf.fit(train[features],train['target'])\n",
    "print('rf fiiting done')\n",
    "\n",
    "lgb.fit(train[features],train['target'])\n",
    "print('lgb fiiting done')\n",
    "\n",
    "ext.fit(train[features],train['target'])\n",
    "print('ext fiiting done')\n",
    "\n",
    "df = pd.DataFrame()\n",
    "\n",
    "df['pred_xgb'] = xgb.predict(test[features])\n",
    "df['pred_rf'] = rf.predict(test[features])\n",
    "df['pred_lgb'] = lgb.predict(test[features])\n",
    "df['pred_ext'] = ext.predict(test[features])\n",
    "\n",
    "print('prediction done')\n",
    "\n",
    "df['count_1'] = 3*df['pred_xgb'] + 5*df['pred_rf'] + 2*df['pred_lgb'] + 1*df['pred_ext']\n",
    "df.head()"
   ]
  },
  {
   "cell_type": "code",
   "execution_count": 63,
   "metadata": {},
   "outputs": [
    {
     "data": {
      "text/plain": [
       "0     72949\n",
       "11    18117\n",
       "1        48\n",
       "6        21\n",
       "9        15\n",
       "5         9\n",
       "10        4\n",
       "8         2\n",
       "2         1\n",
       "Name: count_1, dtype: int64"
      ]
     },
     "execution_count": 63,
     "metadata": {},
     "output_type": "execute_result"
    }
   ],
   "source": [
    "df['count_1'] = 3*df['pred_xgb'] + 5*df['pred_rf'] + 2*df['pred_lgb'] + 1*df['pred_ext']\n",
    "df['count_1'].value_counts()"
   ]
  },
  {
   "cell_type": "code",
   "execution_count": 58,
   "metadata": {
    "collapsed": true
   },
   "outputs": [],
   "source": [
    "df['class'] = df['count_1'].apply(lambda x: int(x>=6))"
   ]
  },
  {
   "cell_type": "code",
   "execution_count": 59,
   "metadata": {},
   "outputs": [
    {
     "data": {
      "text/html": [
       "<div>\n",
       "<style>\n",
       "    .dataframe thead tr:only-child th {\n",
       "        text-align: right;\n",
       "    }\n",
       "\n",
       "    .dataframe thead th {\n",
       "        text-align: left;\n",
       "    }\n",
       "\n",
       "    .dataframe tbody tr th {\n",
       "        vertical-align: top;\n",
       "    }\n",
       "</style>\n",
       "<table border=\"1\" class=\"dataframe\">\n",
       "  <thead>\n",
       "    <tr style=\"text-align: right;\">\n",
       "      <th></th>\n",
       "      <th>pred_xgb</th>\n",
       "      <th>pred_rf</th>\n",
       "      <th>pred_lgb</th>\n",
       "      <th>pred_ext</th>\n",
       "      <th>count_1</th>\n",
       "      <th>class</th>\n",
       "    </tr>\n",
       "  </thead>\n",
       "  <tbody>\n",
       "    <tr>\n",
       "      <th>0</th>\n",
       "      <td>1</td>\n",
       "      <td>1</td>\n",
       "      <td>1</td>\n",
       "      <td>1</td>\n",
       "      <td>11</td>\n",
       "      <td>1</td>\n",
       "    </tr>\n",
       "    <tr>\n",
       "      <th>1</th>\n",
       "      <td>0</td>\n",
       "      <td>0</td>\n",
       "      <td>0</td>\n",
       "      <td>0</td>\n",
       "      <td>0</td>\n",
       "      <td>0</td>\n",
       "    </tr>\n",
       "    <tr>\n",
       "      <th>2</th>\n",
       "      <td>0</td>\n",
       "      <td>0</td>\n",
       "      <td>0</td>\n",
       "      <td>0</td>\n",
       "      <td>0</td>\n",
       "      <td>0</td>\n",
       "    </tr>\n",
       "    <tr>\n",
       "      <th>3</th>\n",
       "      <td>0</td>\n",
       "      <td>0</td>\n",
       "      <td>0</td>\n",
       "      <td>0</td>\n",
       "      <td>0</td>\n",
       "      <td>0</td>\n",
       "    </tr>\n",
       "    <tr>\n",
       "      <th>4</th>\n",
       "      <td>0</td>\n",
       "      <td>0</td>\n",
       "      <td>0</td>\n",
       "      <td>0</td>\n",
       "      <td>0</td>\n",
       "      <td>0</td>\n",
       "    </tr>\n",
       "  </tbody>\n",
       "</table>\n",
       "</div>"
      ],
      "text/plain": [
       "   pred_xgb  pred_rf  pred_lgb  pred_ext  count_1  class\n",
       "0         1        1         1         1       11      1\n",
       "1         0        0         0         0        0      0\n",
       "2         0        0         0         0        0      0\n",
       "3         0        0         0         0        0      0\n",
       "4         0        0         0         0        0      0"
      ]
     },
     "execution_count": 59,
     "metadata": {},
     "output_type": "execute_result"
    }
   ],
   "source": [
    "df.head()"
   ]
  },
  {
   "cell_type": "code",
   "execution_count": 60,
   "metadata": {},
   "outputs": [
    {
     "name": "stdout",
     "output_type": "stream",
     "text": [
      "writting is done.\n"
     ]
    }
   ],
   "source": [
    "sub = pd.DataFrame()\n",
    "sub['connection_id'] = test_id\n",
    "sub['target'] = df['class']\n",
    "sub.to_csv('weighted.csv', index=False)\n",
    "print('writting is done.')\n",
    "#0.78147"
   ]
  },
  {
   "cell_type": "code",
   "execution_count": 7,
   "metadata": {
    "collapsed": true
   },
   "outputs": [],
   "source": [
    "features = ['cont_1', 'cont_2', 'cont_3', 'cont_4', 'cont_5',\n",
    "            'cont_6', 'cont_7','cont_8','cont_9', 'cont_10','cont_11','cont_12',\n",
    "            'cont_13', 'cont_14', 'cont_15', 'cont_16', 'cont_17', 'cont_18',\n",
    "            'cat_1', 'cat_2','cat_3','cat_9','cat_20', 'cat_21', 'cat_22','cat_23']\n",
    "X_train = train[features]\n",
    "target = train['target']\n",
    "x_train, X_valid, y_train, y_valid = train_test_split(X_train, target, train_size = 0.7, stratify = target, random_state = 2017)"
   ]
  },
  {
   "cell_type": "code",
   "execution_count": 8,
   "metadata": {},
   "outputs": [
    {
     "name": "stderr",
     "output_type": "stream",
     "text": [
      "/anaconda/lib/python3.6/site-packages/sklearn/cross_validation.py:44: DeprecationWarning: This module was deprecated in version 0.18 in favor of the model_selection module into which all the refactored classes and functions are moved. Also note that the interface of the new CV iterators are different from that of this module. This module will be removed in 0.20.\n",
      "  \"This module will be removed in 0.20.\", DeprecationWarning)\n"
     ]
    }
   ],
   "source": [
    "from sklearn.cross_validation import KFold"
   ]
  },
  {
   "cell_type": "code",
   "execution_count": 9,
   "metadata": {
    "collapsed": true
   },
   "outputs": [],
   "source": [
    "features = ['cont_1','cont_2', 'cont_3', 'cont_4', 'cont_5',\n",
    "            'cont_6', 'cont_7','cont_8','cont_9', 'cont_10','cont_11','cont_12',\n",
    "            'cont_13', 'cont_14', 'cont_15', 'cont_16', 'cont_17', 'cont_18',\n",
    "            'cat_1', 'cat_2','cat_3','cat_7','cat_9','cat_10','cat_13','cat_20', 'cat_21', 'cat_22','cat_23']"
   ]
  },
  {
   "cell_type": "code",
   "execution_count": 10,
   "metadata": {
    "collapsed": true
   },
   "outputs": [],
   "source": [
    "# Some useful parameters which will come in handy later on\n",
    "ntrain = train.shape[0]\n",
    "ntest = test.shape[0]\n",
    "SEED = 0 # for reproducibility\n",
    "NFOLDS = 5 # set folds for out-of-fold prediction\n",
    "kf = KFold(ntrain, n_folds= NFOLDS, random_state=SEED)\n",
    "\n",
    "# Class to extend the Sklearn classifier\n",
    "class SklearnHelper(object):\n",
    "    def __init__(self, clf, seed=0, params=None):\n",
    "        params['random_state'] = seed\n",
    "        self.clf = clf(**params)\n",
    "\n",
    "    def train(self, x_train, y_train):\n",
    "        self.clf.fit(x_train, y_train)\n",
    "\n",
    "    def predict(self, x):\n",
    "        return self.clf.predict(x)\n",
    "    \n",
    "    def fit(self,x,y):\n",
    "        return self.clf.fit(x,y)\n",
    "    \n",
    "    def feature_importances(self,x,y):\n",
    "        print(self.clf.fit(x,y).feature_importances_)\n",
    "    \n",
    "# Class to extend XGboost classifer"
   ]
  },
  {
   "cell_type": "code",
   "execution_count": 11,
   "metadata": {
    "collapsed": true
   },
   "outputs": [],
   "source": [
    "def get_oof(clf, x_train, y_train, x_test):\n",
    "    oof_train = np.zeros((ntrain,))\n",
    "    oof_test = np.zeros((ntest,))\n",
    "    oof_test_skf = np.empty((NFOLDS, ntest))\n",
    "\n",
    "    for i, (train_index, test_index) in enumerate(kf):\n",
    "        x_tr = x_train[train_index]\n",
    "        y_tr = y_train[train_index]\n",
    "        x_te = x_train[test_index]\n",
    "\n",
    "        clf.train(x_tr, y_tr)\n",
    "\n",
    "        oof_train[test_index] = clf.predict(x_te)\n",
    "        oof_test_skf[i, :] = clf.predict(x_test)\n",
    "\n",
    "    oof_test[:] = oof_test_skf.mean(axis=0)\n",
    "    return oof_train.reshape(-1, 1), oof_test.reshape(-1, 1)"
   ]
  },
  {
   "cell_type": "code",
   "execution_count": 12,
   "metadata": {
    "collapsed": true
   },
   "outputs": [],
   "source": [
    "# Put in our parameters for said classifiers\n",
    "# Random Forest parameters\n",
    "rf_params = {\n",
    "    'n_jobs': -1,\n",
    "    'n_estimators': 500,\n",
    "     'warm_start': True, \n",
    "     #'max_features': 0.2,\n",
    "    'max_depth': 6,\n",
    "    'min_samples_leaf': 2,\n",
    "    'max_features' : 'sqrt',\n",
    "    'verbose': 0\n",
    "}\n",
    "\n",
    "# Extra Trees Parameters\n",
    "et_params = {\n",
    "    'n_jobs': -1,\n",
    "    'n_estimators':500,\n",
    "    #'max_features': 0.5,\n",
    "    'max_depth': 8,\n",
    "    'min_samples_leaf': 2,\n",
    "    'verbose': 0\n",
    "}\n",
    "\n",
    "# AdaBoost parameters\n",
    "ada_params = {\n",
    "    'n_estimators': 500,\n",
    "    'learning_rate' : 0.75\n",
    "}\n",
    "\n",
    "# Gradient Boosting parameters\n",
    "gb_params = {\n",
    "    'n_estimators': 500,\n",
    "     #'max_features': 0.2,\n",
    "    'max_depth': 5,\n",
    "    'min_samples_leaf': 2,\n",
    "    'verbose': 0\n",
    "}"
   ]
  },
  {
   "cell_type": "code",
   "execution_count": 13,
   "metadata": {},
   "outputs": [
    {
     "name": "stdout",
     "output_type": "stream",
     "text": [
      "rf done\n",
      "et done\n",
      "ada done\n",
      "gb done\n"
     ]
    }
   ],
   "source": [
    "# Create 5 objects that represent our 4 models\n",
    "rf = SklearnHelper(clf=RandomForestClassifier, seed=SEED, params=rf_params)\n",
    "print('rf done')\n",
    "et = SklearnHelper(clf=ExtraTreesClassifier, seed=SEED, params=et_params)\n",
    "print('et done')\n",
    "ada = SklearnHelper(clf=AdaBoostClassifier, seed=SEED, params=ada_params)\n",
    "print('ada done')\n",
    "gb = SklearnHelper(clf=GradientBoostingClassifier, seed=SEED, params=gb_params)\n",
    "print('gb done')"
   ]
  },
  {
   "cell_type": "code",
   "execution_count": 14,
   "metadata": {
    "collapsed": true
   },
   "outputs": [],
   "source": [
    "# Create Numpy arrays of train, test and target ( Survived) dataframes to feed into our models\n",
    "y_train = train['target'].ravel()\n",
    "train = train.drop(['target'], axis=1)\n",
    "x_train = train[features].values # Creates an array of the train data\n",
    "x_test = test[features].values # Creats an array of the test data"
   ]
  },
  {
   "cell_type": "code",
   "execution_count": 15,
   "metadata": {},
   "outputs": [
    {
     "name": "stdout",
     "output_type": "stream",
     "text": [
      "et done\n"
     ]
    },
    {
     "name": "stderr",
     "output_type": "stream",
     "text": [
      "/anaconda/lib/python3.6/site-packages/sklearn/ensemble/forest.py:303: UserWarning: Warm-start fitting without increasing n_estimators does not fit new trees.\n",
      "  warn(\"Warm-start fitting without increasing n_estimators does not \"\n"
     ]
    },
    {
     "name": "stdout",
     "output_type": "stream",
     "text": [
      "rf done\n",
      "ada done\n",
      "gb done\n",
      "Training is complete\n"
     ]
    }
   ],
   "source": [
    "# Create our OOF train and test predictions. These base results will be used as new features\n",
    "et_oof_train, et_oof_test = get_oof(et, x_train, y_train, x_test) # Extra Trees\n",
    "print('et done')\n",
    "rf_oof_train, rf_oof_test = get_oof(rf,x_train, y_train, x_test) # Random Forest\n",
    "print('rf done')\n",
    "ada_oof_train, ada_oof_test = get_oof(ada, x_train, y_train, x_test) # AdaBoost \n",
    "print('ada done')\n",
    "gb_oof_train, gb_oof_test = get_oof(gb,x_train, y_train, x_test) # Gradient Boost\n",
    "print('gb done')\n",
    "print(\"Training is complete\")"
   ]
  },
  {
   "cell_type": "code",
   "execution_count": 16,
   "metadata": {},
   "outputs": [
    {
     "name": "stdout",
     "output_type": "stream",
     "text": [
      "[  5.26205300e-03   4.08984942e-02   1.68063877e-01   5.40751556e-03\n",
      "   2.73360777e-03   1.25496207e-03   8.77502905e-04   2.24443702e-02\n",
      "   2.42878948e-02   1.26914939e-02   1.97540425e-02   9.45234464e-03\n",
      "   1.98123027e-02   5.08166424e-02   2.79973340e-03   4.88903268e-03\n",
      "   3.15036313e-03   2.39308205e-03   3.81610713e-02   1.18549111e-01\n",
      "   2.39829234e-02   7.46837229e-04   6.47404095e-02   1.02278721e-03\n",
      "   5.65460170e-06   2.52899280e-01   3.97744921e-02   4.87876966e-02\n",
      "   1.43404223e-02]\n"
     ]
    },
    {
     "name": "stderr",
     "output_type": "stream",
     "text": [
      "/anaconda/lib/python3.6/site-packages/sklearn/ensemble/forest.py:303: UserWarning: Warm-start fitting without increasing n_estimators does not fit new trees.\n",
      "  warn(\"Warm-start fitting without increasing n_estimators does not \"\n"
     ]
    },
    {
     "name": "stdout",
     "output_type": "stream",
     "text": [
      "[  9.29008978e-04   4.30370109e-03   2.80712831e-03   1.71913657e-02\n",
      "   2.10777915e-02   7.37767987e-03   1.18410101e-02   5.83253585e-02\n",
      "   4.83581749e-03   1.14111196e-02   4.92099926e-02   5.85264506e-03\n",
      "   6.45194262e-02   8.01272313e-03   1.50496677e-02   2.21994387e-02\n",
      "   9.81278342e-03   1.06700823e-02   7.26432793e-02   3.89585753e-02\n",
      "   3.44664579e-02   3.17036199e-04   1.86934894e-01   3.30122603e-04\n",
      "   8.35802505e-06   1.52583159e-01   8.68780095e-02   6.74896702e-02\n",
      "   3.39636975e-02]\n",
      "[ 0.034  0.248  0.084  0.     0.006  0.     0.     0.02   0.03   0.008\n",
      "  0.04   0.048  0.052  0.02   0.006  0.004  0.03   0.     0.01   0.118\n",
      "  0.012  0.056  0.     0.008  0.002  0.026  0.014  0.05   0.074]\n",
      "[ 0.03162751  0.10245557  0.10489069  0.00043378  0.00021882  0.00138297\n",
      "  0.00025808  0.00681752  0.02288258  0.00115564  0.03885864  0.03783797\n",
      "  0.08951629  0.00932868  0.0236037   0.0026029   0.01969116  0.00997595\n",
      "  0.03676135  0.08375048  0.00446483  0.00635932  0.0093902   0.00454237\n",
      "  0.00231331  0.10942327  0.04513022  0.02931711  0.16500909]\n"
     ]
    }
   ],
   "source": [
    "rf_feature = rf.feature_importances(x_train,y_train)\n",
    "et_feature = et.feature_importances(x_train, y_train)\n",
    "ada_feature = ada.feature_importances(x_train, y_train)\n",
    "gb_feature = gb.feature_importances(x_train,y_train)"
   ]
  },
  {
   "cell_type": "code",
   "execution_count": 17,
   "metadata": {},
   "outputs": [
    {
     "data": {
      "text/html": [
       "<div>\n",
       "<style>\n",
       "    .dataframe thead tr:only-child th {\n",
       "        text-align: right;\n",
       "    }\n",
       "\n",
       "    .dataframe thead th {\n",
       "        text-align: left;\n",
       "    }\n",
       "\n",
       "    .dataframe tbody tr th {\n",
       "        vertical-align: top;\n",
       "    }\n",
       "</style>\n",
       "<table border=\"1\" class=\"dataframe\">\n",
       "  <thead>\n",
       "    <tr style=\"text-align: right;\">\n",
       "      <th></th>\n",
       "      <th>AdaBoost</th>\n",
       "      <th>ExtraTrees</th>\n",
       "      <th>GradientBoost</th>\n",
       "      <th>RandomForest</th>\n",
       "    </tr>\n",
       "  </thead>\n",
       "  <tbody>\n",
       "    <tr>\n",
       "      <th>0</th>\n",
       "      <td>0.0</td>\n",
       "      <td>0.0</td>\n",
       "      <td>0.0</td>\n",
       "      <td>0.0</td>\n",
       "    </tr>\n",
       "    <tr>\n",
       "      <th>1</th>\n",
       "      <td>0.0</td>\n",
       "      <td>0.0</td>\n",
       "      <td>0.0</td>\n",
       "      <td>0.0</td>\n",
       "    </tr>\n",
       "    <tr>\n",
       "      <th>2</th>\n",
       "      <td>0.0</td>\n",
       "      <td>0.0</td>\n",
       "      <td>0.0</td>\n",
       "      <td>0.0</td>\n",
       "    </tr>\n",
       "    <tr>\n",
       "      <th>3</th>\n",
       "      <td>0.0</td>\n",
       "      <td>0.0</td>\n",
       "      <td>0.0</td>\n",
       "      <td>0.0</td>\n",
       "    </tr>\n",
       "    <tr>\n",
       "      <th>4</th>\n",
       "      <td>0.0</td>\n",
       "      <td>0.0</td>\n",
       "      <td>0.0</td>\n",
       "      <td>0.0</td>\n",
       "    </tr>\n",
       "  </tbody>\n",
       "</table>\n",
       "</div>"
      ],
      "text/plain": [
       "   AdaBoost  ExtraTrees  GradientBoost  RandomForest\n",
       "0       0.0         0.0            0.0           0.0\n",
       "1       0.0         0.0            0.0           0.0\n",
       "2       0.0         0.0            0.0           0.0\n",
       "3       0.0         0.0            0.0           0.0\n",
       "4       0.0         0.0            0.0           0.0"
      ]
     },
     "execution_count": 17,
     "metadata": {},
     "output_type": "execute_result"
    }
   ],
   "source": [
    "base_predictions_train = pd.DataFrame( {'RandomForest': rf_oof_train.ravel(),\n",
    "     'ExtraTrees': et_oof_train.ravel(),\n",
    "     'AdaBoost': ada_oof_train.ravel(),\n",
    "      'GradientBoost': gb_oof_train.ravel()\n",
    "    })\n",
    "base_predictions_train.head()"
   ]
  },
  {
   "cell_type": "code",
   "execution_count": 18,
   "metadata": {
    "collapsed": true
   },
   "outputs": [],
   "source": [
    "x_train = np.concatenate(( et_oof_train, rf_oof_train, ada_oof_train, gb_oof_train), axis=1)\n",
    "x_test = np.concatenate(( et_oof_test, rf_oof_test, ada_oof_test, gb_oof_test), axis=1)"
   ]
  },
  {
   "cell_type": "code",
   "execution_count": 19,
   "metadata": {
    "collapsed": true
   },
   "outputs": [],
   "source": [
    "gbm = XGBClassifier(\n",
    " learning_rate = 0.1,\n",
    " n_estimators= 1000,\n",
    " max_depth= 3,\n",
    " min_child_weight= 2,\n",
    " #gamma=1,\n",
    " gamma=0.9,                        \n",
    " subsample=0.7,\n",
    " colsample_bytree=0.6,\n",
    " objective= 'binary:logistic',\n",
    " nthread= -1,\n",
    " scale_pos_weight=1).fit(x_train, y_train)\n",
    "predictions = gbm.predict(x_test)"
   ]
  },
  {
   "cell_type": "code",
   "execution_count": 20,
   "metadata": {},
   "outputs": [
    {
     "name": "stdout",
     "output_type": "stream",
     "text": [
      "writting is done.\n"
     ]
    }
   ],
   "source": [
    "sub = pd.DataFrame()\n",
    "sub['connection_id'] = test_id\n",
    "sub['target'] = predictions\n",
    "sub.to_csv('stacked.csv', index=False)\n",
    "print('writting is done.')"
   ]
  }
 ],
 "metadata": {
  "kernelspec": {
   "display_name": "Python 3",
   "language": "python",
   "name": "python3"
  },
  "language_info": {
   "codemirror_mode": {
    "name": "ipython",
    "version": 3
   },
   "file_extension": ".py",
   "mimetype": "text/x-python",
   "name": "python",
   "nbconvert_exporter": "python",
   "pygments_lexer": "ipython3",
   "version": "3.6.1"
  }
 },
 "nbformat": 4,
 "nbformat_minor": 2
}
