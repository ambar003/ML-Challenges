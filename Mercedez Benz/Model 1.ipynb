{
 "cells": [
  {
   "cell_type": "code",
   "execution_count": 1,
   "metadata": {
    "collapsed": true
   },
   "outputs": [],
   "source": [
    "import pandas as pd\n",
    "import numpy as np"
   ]
  },
  {
   "cell_type": "code",
   "execution_count": 2,
   "metadata": {
    "collapsed": false
   },
   "outputs": [
    {
     "data": {
      "text/html": [
       "<div>\n",
       "<table border=\"1\" class=\"dataframe\">\n",
       "  <thead>\n",
       "    <tr style=\"text-align: right;\">\n",
       "      <th></th>\n",
       "      <th>ID</th>\n",
       "      <th>y</th>\n",
       "      <th>X0</th>\n",
       "      <th>X1</th>\n",
       "      <th>X2</th>\n",
       "      <th>X3</th>\n",
       "      <th>X4</th>\n",
       "      <th>X5</th>\n",
       "      <th>X6</th>\n",
       "      <th>X8</th>\n",
       "      <th>...</th>\n",
       "      <th>X375</th>\n",
       "      <th>X376</th>\n",
       "      <th>X377</th>\n",
       "      <th>X378</th>\n",
       "      <th>X379</th>\n",
       "      <th>X380</th>\n",
       "      <th>X382</th>\n",
       "      <th>X383</th>\n",
       "      <th>X384</th>\n",
       "      <th>X385</th>\n",
       "    </tr>\n",
       "  </thead>\n",
       "  <tbody>\n",
       "    <tr>\n",
       "      <th>0</th>\n",
       "      <td>0</td>\n",
       "      <td>130.81</td>\n",
       "      <td>32</td>\n",
       "      <td>23</td>\n",
       "      <td>17</td>\n",
       "      <td>0</td>\n",
       "      <td>3</td>\n",
       "      <td>24</td>\n",
       "      <td>9</td>\n",
       "      <td>14</td>\n",
       "      <td>...</td>\n",
       "      <td>0</td>\n",
       "      <td>0</td>\n",
       "      <td>1</td>\n",
       "      <td>0</td>\n",
       "      <td>0</td>\n",
       "      <td>0</td>\n",
       "      <td>0</td>\n",
       "      <td>0</td>\n",
       "      <td>0</td>\n",
       "      <td>0</td>\n",
       "    </tr>\n",
       "    <tr>\n",
       "      <th>1</th>\n",
       "      <td>6</td>\n",
       "      <td>88.53</td>\n",
       "      <td>32</td>\n",
       "      <td>21</td>\n",
       "      <td>19</td>\n",
       "      <td>4</td>\n",
       "      <td>3</td>\n",
       "      <td>28</td>\n",
       "      <td>11</td>\n",
       "      <td>14</td>\n",
       "      <td>...</td>\n",
       "      <td>1</td>\n",
       "      <td>0</td>\n",
       "      <td>0</td>\n",
       "      <td>0</td>\n",
       "      <td>0</td>\n",
       "      <td>0</td>\n",
       "      <td>0</td>\n",
       "      <td>0</td>\n",
       "      <td>0</td>\n",
       "      <td>0</td>\n",
       "    </tr>\n",
       "    <tr>\n",
       "      <th>2</th>\n",
       "      <td>7</td>\n",
       "      <td>76.26</td>\n",
       "      <td>20</td>\n",
       "      <td>24</td>\n",
       "      <td>34</td>\n",
       "      <td>2</td>\n",
       "      <td>3</td>\n",
       "      <td>27</td>\n",
       "      <td>9</td>\n",
       "      <td>23</td>\n",
       "      <td>...</td>\n",
       "      <td>0</td>\n",
       "      <td>0</td>\n",
       "      <td>0</td>\n",
       "      <td>0</td>\n",
       "      <td>0</td>\n",
       "      <td>0</td>\n",
       "      <td>1</td>\n",
       "      <td>0</td>\n",
       "      <td>0</td>\n",
       "      <td>0</td>\n",
       "    </tr>\n",
       "    <tr>\n",
       "      <th>3</th>\n",
       "      <td>9</td>\n",
       "      <td>80.62</td>\n",
       "      <td>20</td>\n",
       "      <td>21</td>\n",
       "      <td>34</td>\n",
       "      <td>5</td>\n",
       "      <td>3</td>\n",
       "      <td>27</td>\n",
       "      <td>11</td>\n",
       "      <td>4</td>\n",
       "      <td>...</td>\n",
       "      <td>0</td>\n",
       "      <td>0</td>\n",
       "      <td>0</td>\n",
       "      <td>0</td>\n",
       "      <td>0</td>\n",
       "      <td>0</td>\n",
       "      <td>0</td>\n",
       "      <td>0</td>\n",
       "      <td>0</td>\n",
       "      <td>0</td>\n",
       "    </tr>\n",
       "    <tr>\n",
       "      <th>4</th>\n",
       "      <td>13</td>\n",
       "      <td>78.02</td>\n",
       "      <td>20</td>\n",
       "      <td>23</td>\n",
       "      <td>34</td>\n",
       "      <td>5</td>\n",
       "      <td>3</td>\n",
       "      <td>12</td>\n",
       "      <td>3</td>\n",
       "      <td>13</td>\n",
       "      <td>...</td>\n",
       "      <td>0</td>\n",
       "      <td>0</td>\n",
       "      <td>0</td>\n",
       "      <td>0</td>\n",
       "      <td>0</td>\n",
       "      <td>0</td>\n",
       "      <td>0</td>\n",
       "      <td>0</td>\n",
       "      <td>0</td>\n",
       "      <td>0</td>\n",
       "    </tr>\n",
       "  </tbody>\n",
       "</table>\n",
       "<p>5 rows × 378 columns</p>\n",
       "</div>"
      ],
      "text/plain": [
       "   ID       y  X0  X1  X2  X3  X4  X5  X6  X8  ...   X375  X376  X377  X378  \\\n",
       "0   0  130.81  32  23  17   0   3  24   9  14  ...      0     0     1     0   \n",
       "1   6   88.53  32  21  19   4   3  28  11  14  ...      1     0     0     0   \n",
       "2   7   76.26  20  24  34   2   3  27   9  23  ...      0     0     0     0   \n",
       "3   9   80.62  20  21  34   5   3  27  11   4  ...      0     0     0     0   \n",
       "4  13   78.02  20  23  34   5   3  12   3  13  ...      0     0     0     0   \n",
       "\n",
       "   X379  X380  X382  X383  X384  X385  \n",
       "0     0     0     0     0     0     0  \n",
       "1     0     0     0     0     0     0  \n",
       "2     0     0     1     0     0     0  \n",
       "3     0     0     0     0     0     0  \n",
       "4     0     0     0     0     0     0  \n",
       "\n",
       "[5 rows x 378 columns]"
      ]
     },
     "execution_count": 2,
     "metadata": {},
     "output_type": "execute_result"
    }
   ],
   "source": [
    "train = pd.read_csv('updated_train.csv')\n",
    "train.head()"
   ]
  },
  {
   "cell_type": "code",
   "execution_count": 30,
   "metadata": {
    "collapsed": false
   },
   "outputs": [
    {
     "data": {
      "text/html": [
       "<div>\n",
       "<table border=\"1\" class=\"dataframe\">\n",
       "  <thead>\n",
       "    <tr style=\"text-align: right;\">\n",
       "      <th></th>\n",
       "      <th>ID</th>\n",
       "      <th>X0</th>\n",
       "      <th>X1</th>\n",
       "      <th>X2</th>\n",
       "      <th>X3</th>\n",
       "      <th>X4</th>\n",
       "      <th>X5</th>\n",
       "      <th>X6</th>\n",
       "      <th>X8</th>\n",
       "      <th>X10</th>\n",
       "      <th>...</th>\n",
       "      <th>X375</th>\n",
       "      <th>X376</th>\n",
       "      <th>X377</th>\n",
       "      <th>X378</th>\n",
       "      <th>X379</th>\n",
       "      <th>X380</th>\n",
       "      <th>X382</th>\n",
       "      <th>X383</th>\n",
       "      <th>X384</th>\n",
       "      <th>X385</th>\n",
       "    </tr>\n",
       "  </thead>\n",
       "  <tbody>\n",
       "    <tr>\n",
       "      <th>0</th>\n",
       "      <td>1</td>\n",
       "      <td>21</td>\n",
       "      <td>23</td>\n",
       "      <td>34</td>\n",
       "      <td>5</td>\n",
       "      <td>3</td>\n",
       "      <td>26</td>\n",
       "      <td>0</td>\n",
       "      <td>22</td>\n",
       "      <td>0</td>\n",
       "      <td>...</td>\n",
       "      <td>0</td>\n",
       "      <td>0</td>\n",
       "      <td>0</td>\n",
       "      <td>1</td>\n",
       "      <td>0</td>\n",
       "      <td>0</td>\n",
       "      <td>0</td>\n",
       "      <td>0</td>\n",
       "      <td>0</td>\n",
       "      <td>0</td>\n",
       "    </tr>\n",
       "    <tr>\n",
       "      <th>1</th>\n",
       "      <td>2</td>\n",
       "      <td>42</td>\n",
       "      <td>3</td>\n",
       "      <td>8</td>\n",
       "      <td>0</td>\n",
       "      <td>3</td>\n",
       "      <td>9</td>\n",
       "      <td>6</td>\n",
       "      <td>24</td>\n",
       "      <td>0</td>\n",
       "      <td>...</td>\n",
       "      <td>0</td>\n",
       "      <td>0</td>\n",
       "      <td>1</td>\n",
       "      <td>0</td>\n",
       "      <td>0</td>\n",
       "      <td>0</td>\n",
       "      <td>0</td>\n",
       "      <td>0</td>\n",
       "      <td>0</td>\n",
       "      <td>0</td>\n",
       "    </tr>\n",
       "    <tr>\n",
       "      <th>2</th>\n",
       "      <td>3</td>\n",
       "      <td>21</td>\n",
       "      <td>23</td>\n",
       "      <td>17</td>\n",
       "      <td>5</td>\n",
       "      <td>3</td>\n",
       "      <td>0</td>\n",
       "      <td>9</td>\n",
       "      <td>9</td>\n",
       "      <td>0</td>\n",
       "      <td>...</td>\n",
       "      <td>0</td>\n",
       "      <td>0</td>\n",
       "      <td>0</td>\n",
       "      <td>1</td>\n",
       "      <td>0</td>\n",
       "      <td>0</td>\n",
       "      <td>0</td>\n",
       "      <td>0</td>\n",
       "      <td>0</td>\n",
       "      <td>0</td>\n",
       "    </tr>\n",
       "    <tr>\n",
       "      <th>3</th>\n",
       "      <td>4</td>\n",
       "      <td>21</td>\n",
       "      <td>13</td>\n",
       "      <td>34</td>\n",
       "      <td>5</td>\n",
       "      <td>3</td>\n",
       "      <td>31</td>\n",
       "      <td>11</td>\n",
       "      <td>13</td>\n",
       "      <td>0</td>\n",
       "      <td>...</td>\n",
       "      <td>0</td>\n",
       "      <td>0</td>\n",
       "      <td>0</td>\n",
       "      <td>1</td>\n",
       "      <td>0</td>\n",
       "      <td>0</td>\n",
       "      <td>0</td>\n",
       "      <td>0</td>\n",
       "      <td>0</td>\n",
       "      <td>0</td>\n",
       "    </tr>\n",
       "    <tr>\n",
       "      <th>4</th>\n",
       "      <td>5</td>\n",
       "      <td>45</td>\n",
       "      <td>20</td>\n",
       "      <td>17</td>\n",
       "      <td>2</td>\n",
       "      <td>3</td>\n",
       "      <td>30</td>\n",
       "      <td>8</td>\n",
       "      <td>12</td>\n",
       "      <td>0</td>\n",
       "      <td>...</td>\n",
       "      <td>1</td>\n",
       "      <td>0</td>\n",
       "      <td>0</td>\n",
       "      <td>0</td>\n",
       "      <td>0</td>\n",
       "      <td>0</td>\n",
       "      <td>0</td>\n",
       "      <td>0</td>\n",
       "      <td>0</td>\n",
       "      <td>0</td>\n",
       "    </tr>\n",
       "  </tbody>\n",
       "</table>\n",
       "<p>5 rows × 377 columns</p>\n",
       "</div>"
      ],
      "text/plain": [
       "   ID  X0  X1  X2  X3  X4  X5  X6  X8  X10  ...   X375  X376  X377  X378  \\\n",
       "0   1  21  23  34   5   3  26   0  22    0  ...      0     0     0     1   \n",
       "1   2  42   3   8   0   3   9   6  24    0  ...      0     0     1     0   \n",
       "2   3  21  23  17   5   3   0   9   9    0  ...      0     0     0     1   \n",
       "3   4  21  13  34   5   3  31  11  13    0  ...      0     0     0     1   \n",
       "4   5  45  20  17   2   3  30   8  12    0  ...      1     0     0     0   \n",
       "\n",
       "   X379  X380  X382  X383  X384  X385  \n",
       "0     0     0     0     0     0     0  \n",
       "1     0     0     0     0     0     0  \n",
       "2     0     0     0     0     0     0  \n",
       "3     0     0     0     0     0     0  \n",
       "4     0     0     0     0     0     0  \n",
       "\n",
       "[5 rows x 377 columns]"
      ]
     },
     "execution_count": 30,
     "metadata": {},
     "output_type": "execute_result"
    }
   ],
   "source": [
    "test = pd.read_csv('updated_test.csv')\n",
    "test.head()"
   ]
  },
  {
   "cell_type": "code",
   "execution_count": 3,
   "metadata": {
    "collapsed": true
   },
   "outputs": [],
   "source": [
    "import scipy.stats as sp"
   ]
  },
  {
   "cell_type": "code",
   "execution_count": 6,
   "metadata": {
    "collapsed": true
   },
   "outputs": [],
   "source": [
    "col = list(train.ix[:,'X10':].columns)"
   ]
  },
  {
   "cell_type": "code",
   "execution_count": 12,
   "metadata": {
    "collapsed": false
   },
   "outputs": [],
   "source": [
    "lis=[]\n",
    "for i in range(len(col)):\n",
    "    for j in range(i+1,len(col)):\n",
    "        corr = sp.pearsonr(train[col[i]],train[col[j]])\n",
    "        if(corr[0]>=0.85 or corr[0]<=-0.85):\n",
    "            temp=[]\n",
    "            temp.append(col[i])\n",
    "            temp.append(col[j])\n",
    "            lis.append(temp)"
   ]
  },
  {
   "cell_type": "code",
   "execution_count": 13,
   "metadata": {
    "collapsed": false
   },
   "outputs": [
    {
     "data": {
      "text/plain": [
       "[['X14', 'X251'],\n",
       " ['X17', 'X325'],\n",
       " ['X17', 'X382'],\n",
       " ['X19', 'X215'],\n",
       " ['X29', 'X54'],\n",
       " ['X29', 'X76'],\n",
       " ['X29', 'X136'],\n",
       " ['X29', 'X162'],\n",
       " ['X29', 'X166'],\n",
       " ['X29', 'X232'],\n",
       " ['X29', 'X263'],\n",
       " ['X29', 'X272'],\n",
       " ['X29', 'X276'],\n",
       " ['X29', 'X279'],\n",
       " ['X29', 'X328'],\n",
       " ['X31', 'X35'],\n",
       " ['X31', 'X37'],\n",
       " ['X33', 'X39'],\n",
       " ['X35', 'X37'],\n",
       " ['X44', 'X302'],\n",
       " ['X45', 'X132'],\n",
       " ['X45', 'X161'],\n",
       " ['X45', 'X202'],\n",
       " ['X45', 'X247'],\n",
       " ['X48', 'X66'],\n",
       " ['X48', 'X111'],\n",
       " ['X48', 'X113'],\n",
       " ['X48', 'X134'],\n",
       " ['X48', 'X147'],\n",
       " ['X48', 'X198'],\n",
       " ['X48', 'X222'],\n",
       " ['X49', 'X129'],\n",
       " ['X52', 'X61'],\n",
       " ['X52', 'X120'],\n",
       " ['X53', 'X102'],\n",
       " ['X53', 'X214'],\n",
       " ['X53', 'X239'],\n",
       " ['X53', 'X308'],\n",
       " ['X53', 'X370'],\n",
       " ['X54', 'X76'],\n",
       " ['X54', 'X136'],\n",
       " ['X54', 'X162'],\n",
       " ['X54', 'X166'],\n",
       " ['X54', 'X232'],\n",
       " ['X54', 'X263'],\n",
       " ['X54', 'X272'],\n",
       " ['X54', 'X276'],\n",
       " ['X54', 'X279'],\n",
       " ['X54', 'X328'],\n",
       " ['X58', 'X137'],\n",
       " ['X58', 'X324'],\n",
       " ['X60', 'X248'],\n",
       " ['X60', 'X253'],\n",
       " ['X60', 'X385'],\n",
       " ['X61', 'X120'],\n",
       " ['X62', 'X172'],\n",
       " ['X62', 'X216'],\n",
       " ['X63', 'X379'],\n",
       " ['X66', 'X111'],\n",
       " ['X66', 'X113'],\n",
       " ['X66', 'X134'],\n",
       " ['X66', 'X147'],\n",
       " ['X66', 'X198'],\n",
       " ['X66', 'X222'],\n",
       " ['X67', 'X213'],\n",
       " ['X71', 'X84'],\n",
       " ['X71', 'X241'],\n",
       " ['X71', 'X244'],\n",
       " ['X76', 'X136'],\n",
       " ['X76', 'X162'],\n",
       " ['X76', 'X166'],\n",
       " ['X76', 'X232'],\n",
       " ['X76', 'X263'],\n",
       " ['X76', 'X272'],\n",
       " ['X76', 'X276'],\n",
       " ['X76', 'X279'],\n",
       " ['X76', 'X328'],\n",
       " ['X80', 'X101'],\n",
       " ['X80', 'X126'],\n",
       " ['X80', 'X128'],\n",
       " ['X80', 'X130'],\n",
       " ['X80', 'X179'],\n",
       " ['X80', 'X264'],\n",
       " ['X80', 'X348'],\n",
       " ['X84', 'X241'],\n",
       " ['X84', 'X244'],\n",
       " ['X85', 'X186'],\n",
       " ['X85', 'X187'],\n",
       " ['X85', 'X194'],\n",
       " ['X85', 'X362'],\n",
       " ['X87', 'X89'],\n",
       " ['X87', 'X245'],\n",
       " ['X87', 'X357'],\n",
       " ['X88', 'X90'],\n",
       " ['X88', 'X94'],\n",
       " ['X88', 'X99'],\n",
       " ['X88', 'X122'],\n",
       " ['X88', 'X217'],\n",
       " ['X88', 'X242'],\n",
       " ['X88', 'X243'],\n",
       " ['X88', 'X249'],\n",
       " ['X88', 'X320'],\n",
       " ['X89', 'X245'],\n",
       " ['X90', 'X94'],\n",
       " ['X90', 'X99'],\n",
       " ['X90', 'X122'],\n",
       " ['X90', 'X217'],\n",
       " ['X90', 'X242'],\n",
       " ['X90', 'X243'],\n",
       " ['X90', 'X249'],\n",
       " ['X90', 'X320'],\n",
       " ['X94', 'X99'],\n",
       " ['X94', 'X122'],\n",
       " ['X94', 'X217'],\n",
       " ['X94', 'X242'],\n",
       " ['X94', 'X243'],\n",
       " ['X94', 'X249'],\n",
       " ['X94', 'X320'],\n",
       " ['X96', 'X150'],\n",
       " ['X96', 'X363'],\n",
       " ['X98', 'X101'],\n",
       " ['X99', 'X122'],\n",
       " ['X99', 'X217'],\n",
       " ['X99', 'X242'],\n",
       " ['X99', 'X243'],\n",
       " ['X99', 'X249'],\n",
       " ['X99', 'X320'],\n",
       " ['X101', 'X348'],\n",
       " ['X102', 'X214'],\n",
       " ['X102', 'X239'],\n",
       " ['X102', 'X308'],\n",
       " ['X102', 'X370'],\n",
       " ['X108', 'X371'],\n",
       " ['X111', 'X113'],\n",
       " ['X111', 'X134'],\n",
       " ['X111', 'X147'],\n",
       " ['X111', 'X198'],\n",
       " ['X111', 'X222'],\n",
       " ['X112', 'X199'],\n",
       " ['X113', 'X134'],\n",
       " ['X113', 'X147'],\n",
       " ['X113', 'X198'],\n",
       " ['X113', 'X222'],\n",
       " ['X118', 'X119'],\n",
       " ['X118', 'X311'],\n",
       " ['X119', 'X311'],\n",
       " ['X122', 'X217'],\n",
       " ['X122', 'X242'],\n",
       " ['X122', 'X243'],\n",
       " ['X122', 'X249'],\n",
       " ['X122', 'X320'],\n",
       " ['X125', 'X227'],\n",
       " ['X126', 'X264'],\n",
       " ['X126', 'X348'],\n",
       " ['X127', 'X314'],\n",
       " ['X128', 'X130'],\n",
       " ['X128', 'X348'],\n",
       " ['X130', 'X348'],\n",
       " ['X134', 'X147'],\n",
       " ['X134', 'X198'],\n",
       " ['X134', 'X222'],\n",
       " ['X136', 'X162'],\n",
       " ['X136', 'X166'],\n",
       " ['X136', 'X232'],\n",
       " ['X136', 'X263'],\n",
       " ['X136', 'X272'],\n",
       " ['X136', 'X276'],\n",
       " ['X136', 'X279'],\n",
       " ['X136', 'X328'],\n",
       " ['X137', 'X324'],\n",
       " ['X138', 'X140'],\n",
       " ['X138', 'X146'],\n",
       " ['X140', 'X146'],\n",
       " ['X142', 'X158'],\n",
       " ['X147', 'X198'],\n",
       " ['X147', 'X222'],\n",
       " ['X150', 'X363'],\n",
       " ['X152', 'X226'],\n",
       " ['X152', 'X326'],\n",
       " ['X154', 'X321'],\n",
       " ['X154', 'X374'],\n",
       " ['X155', 'X219'],\n",
       " ['X155', 'X360'],\n",
       " ['X156', 'X157'],\n",
       " ['X161', 'X202'],\n",
       " ['X161', 'X247'],\n",
       " ['X162', 'X166'],\n",
       " ['X162', 'X232'],\n",
       " ['X162', 'X263'],\n",
       " ['X162', 'X272'],\n",
       " ['X162', 'X276'],\n",
       " ['X162', 'X279'],\n",
       " ['X162', 'X328'],\n",
       " ['X166', 'X232'],\n",
       " ['X166', 'X263'],\n",
       " ['X166', 'X272'],\n",
       " ['X166', 'X276'],\n",
       " ['X166', 'X279'],\n",
       " ['X166', 'X328'],\n",
       " ['X170', 'X198'],\n",
       " ['X172', 'X216'],\n",
       " ['X178', 'X250'],\n",
       " ['X178', 'X251'],\n",
       " ['X179', 'X348'],\n",
       " ['X184', 'X262'],\n",
       " ['X184', 'X266'],\n",
       " ['X185', 'X378'],\n",
       " ['X186', 'X187'],\n",
       " ['X186', 'X194'],\n",
       " ['X186', 'X246'],\n",
       " ['X186', 'X358'],\n",
       " ['X186', 'X362'],\n",
       " ['X187', 'X194'],\n",
       " ['X187', 'X362'],\n",
       " ['X189', 'X238'],\n",
       " ['X189', 'X265'],\n",
       " ['X191', 'X251'],\n",
       " ['X194', 'X246'],\n",
       " ['X194', 'X358'],\n",
       " ['X194', 'X362'],\n",
       " ['X198', 'X222'],\n",
       " ['X202', 'X247'],\n",
       " ['X204', 'X205'],\n",
       " ['X208', 'X368'],\n",
       " ['X214', 'X239'],\n",
       " ['X214', 'X308'],\n",
       " ['X214', 'X370'],\n",
       " ['X217', 'X242'],\n",
       " ['X217', 'X243'],\n",
       " ['X217', 'X249'],\n",
       " ['X217', 'X320'],\n",
       " ['X219', 'X360'],\n",
       " ['X226', 'X326'],\n",
       " ['X228', 'X229'],\n",
       " ['X230', 'X254'],\n",
       " ['X232', 'X263'],\n",
       " ['X232', 'X272'],\n",
       " ['X232', 'X276'],\n",
       " ['X232', 'X279'],\n",
       " ['X232', 'X328'],\n",
       " ['X238', 'X265'],\n",
       " ['X239', 'X308'],\n",
       " ['X239', 'X370'],\n",
       " ['X240', 'X364'],\n",
       " ['X240', 'X365'],\n",
       " ['X241', 'X244'],\n",
       " ['X242', 'X243'],\n",
       " ['X242', 'X249'],\n",
       " ['X242', 'X320'],\n",
       " ['X243', 'X249'],\n",
       " ['X243', 'X320'],\n",
       " ['X246', 'X358'],\n",
       " ['X246', 'X362'],\n",
       " ['X248', 'X253'],\n",
       " ['X248', 'X385'],\n",
       " ['X249', 'X320'],\n",
       " ['X250', 'X251'],\n",
       " ['X253', 'X385'],\n",
       " ['X261', 'X314'],\n",
       " ['X262', 'X266'],\n",
       " ['X263', 'X272'],\n",
       " ['X263', 'X276'],\n",
       " ['X263', 'X279'],\n",
       " ['X263', 'X328'],\n",
       " ['X264', 'X348'],\n",
       " ['X272', 'X276'],\n",
       " ['X272', 'X279'],\n",
       " ['X272', 'X328'],\n",
       " ['X276', 'X279'],\n",
       " ['X276', 'X328'],\n",
       " ['X279', 'X328'],\n",
       " ['X295', 'X296'],\n",
       " ['X298', 'X299'],\n",
       " ['X325', 'X382'],\n",
       " ['X331', 'X346'],\n",
       " ['X331', 'X349'],\n",
       " ['X331', 'X352'],\n",
       " ['X331', 'X367'],\n",
       " ['X333', 'X373'],\n",
       " ['X334', 'X337'],\n",
       " ['X346', 'X352'],\n",
       " ['X346', 'X367'],\n",
       " ['X349', 'X352'],\n",
       " ['X349', 'X367'],\n",
       " ['X352', 'X367'],\n",
       " ['X364', 'X365']]"
      ]
     },
     "execution_count": 13,
     "metadata": {},
     "output_type": "execute_result"
    }
   ],
   "source": [
    "lis"
   ]
  },
  {
   "cell_type": "code",
   "execution_count": 16,
   "metadata": {
    "collapsed": true
   },
   "outputs": [],
   "source": [
    "most_corr = []\n",
    "for i in range(len(lis)):\n",
    "    a = lis[i][0]\n",
    "    b = lis[i][1]\n",
    "    x = sp.pearsonr(train[a],train['y'])\n",
    "    y = sp.pearsonr(train[b],train['y'])\n",
    "    if(x>y):\n",
    "        most_corr.append(a)\n",
    "    else:\n",
    "        most_corr.append(b)        "
   ]
  },
  {
   "cell_type": "code",
   "execution_count": 19,
   "metadata": {
    "collapsed": false
   },
   "outputs": [],
   "source": [
    "most = list(set(most_corr))"
   ]
  },
  {
   "cell_type": "code",
   "execution_count": 23,
   "metadata": {
    "collapsed": false
   },
   "outputs": [],
   "source": [
    "dic={}\n",
    "for i in most_corr:\n",
    "    x = dic.get(i,0)\n",
    "    dic[i] = x+1"
   ]
  },
  {
   "cell_type": "code",
   "execution_count": 25,
   "metadata": {
    "collapsed": false
   },
   "outputs": [
    {
     "data": {
      "text/plain": [
       "111"
      ]
     },
     "execution_count": 25,
     "metadata": {},
     "output_type": "execute_result"
    }
   ],
   "source": [
    "len(dic)"
   ]
  },
  {
   "cell_type": "code",
   "execution_count": 35,
   "metadata": {
    "collapsed": false
   },
   "outputs": [
    {
     "data": {
      "text/plain": [
       "['X334',\n",
       " 'X276',\n",
       " 'X194',\n",
       " 'X129',\n",
       " 'X246',\n",
       " 'X179',\n",
       " 'X247',\n",
       " 'X19',\n",
       " 'X320',\n",
       " 'X249',\n",
       " 'X243',\n",
       " 'X279',\n",
       " 'X120',\n",
       " 'X364',\n",
       " 'X155',\n",
       " 'X137',\n",
       " 'X187',\n",
       " 'X217',\n",
       " 'X71',\n",
       " 'X204',\n",
       " 'X263',\n",
       " 'X130',\n",
       " 'X262',\n",
       " 'X264',\n",
       " 'X253',\n",
       " 'X85',\n",
       " 'X84',\n",
       " 'X101',\n",
       " 'X254',\n",
       " 'X242',\n",
       " 'X185',\n",
       " 'X296',\n",
       " 'X154',\n",
       " 'X122',\n",
       " 'X371',\n",
       " 'X302',\n",
       " 'X232',\n",
       " 'X324',\n",
       " 'X360',\n",
       " 'X189',\n",
       " 'X98',\n",
       " 'X251',\n",
       " 'X118',\n",
       " 'X138',\n",
       " 'X226',\n",
       " 'X37',\n",
       " 'X35',\n",
       " 'X96',\n",
       " 'X314',\n",
       " 'X326',\n",
       " 'X134',\n",
       " 'X150',\n",
       " 'X80',\n",
       " 'X333',\n",
       " 'X367',\n",
       " 'X382',\n",
       " 'X365',\n",
       " 'X162',\n",
       " 'X102',\n",
       " 'X166',\n",
       " 'X90',\n",
       " 'X119',\n",
       " 'X199',\n",
       " 'X52',\n",
       " 'X331',\n",
       " 'X202',\n",
       " 'X136',\n",
       " 'X172',\n",
       " 'X325',\n",
       " 'X126',\n",
       " 'X239',\n",
       " 'X146',\n",
       " 'X94',\n",
       " 'X245',\n",
       " 'X54',\n",
       " 'X272',\n",
       " 'X216',\n",
       " 'X39',\n",
       " 'X349',\n",
       " 'X213',\n",
       " 'X198',\n",
       " 'X147',\n",
       " 'X358',\n",
       " 'X113',\n",
       " 'X48',\n",
       " 'X66',\n",
       " 'X228',\n",
       " 'X208',\n",
       " 'X142',\n",
       " 'X128',\n",
       " 'X156',\n",
       " 'X214',\n",
       " 'X178',\n",
       " 'X222',\n",
       " 'X227',\n",
       " 'X238',\n",
       " 'X88',\n",
       " 'X244',\n",
       " 'X385',\n",
       " 'X89',\n",
       " 'X76',\n",
       " 'X53',\n",
       " 'X379',\n",
       " 'X352',\n",
       " 'X248',\n",
       " 'X328',\n",
       " 'X45',\n",
       " 'X266',\n",
       " 'X186',\n",
       " 'X299',\n",
       " 'X87',\n",
       " 'X0',\n",
       " 'X1',\n",
       " 'X2',\n",
       " 'X3',\n",
       " 'X4',\n",
       " 'X5',\n",
       " 'X6',\n",
       " 'X8']"
      ]
     },
     "execution_count": 35,
     "metadata": {},
     "output_type": "execute_result"
    }
   ],
   "source": [
    "most"
   ]
  },
  {
   "cell_type": "code",
   "execution_count": 44,
   "metadata": {
    "collapsed": true
   },
   "outputs": [],
   "source": [
    "features = list(train.columns)\n",
    "features.remove('y')"
   ]
  },
  {
   "cell_type": "code",
   "execution_count": 42,
   "metadata": {
    "collapsed": true
   },
   "outputs": [],
   "source": [
    "from sklearn.decomposition import PCA"
   ]
  },
  {
   "cell_type": "code",
   "execution_count": 43,
   "metadata": {
    "collapsed": true
   },
   "outputs": [],
   "source": [
    "pca = PCA(n_components=10)"
   ]
  },
  {
   "cell_type": "code",
   "execution_count": 45,
   "metadata": {
    "collapsed": false
   },
   "outputs": [
    {
     "data": {
      "text/plain": [
       "PCA(copy=True, n_components=10, whiten=False)"
      ]
     },
     "execution_count": 45,
     "metadata": {},
     "output_type": "execute_result"
    }
   ],
   "source": [
    "pca.fit(train[features])"
   ]
  },
  {
   "cell_type": "code",
   "execution_count": 46,
   "metadata": {
    "collapsed": false
   },
   "outputs": [
    {
     "data": {
      "text/plain": [
       "array([  9.99915408e-01,   3.43250074e-05,   1.91351988e-05,\n",
       "         1.09402163e-05,   8.24910539e-06,   6.58920898e-06,\n",
       "         1.42452645e-06,   6.65804820e-07,   3.88293669e-07,\n",
       "         2.63001372e-07])"
      ]
     },
     "execution_count": 46,
     "metadata": {},
     "output_type": "execute_result"
    }
   ],
   "source": [
    "pca.explained_variance_ratio_"
   ]
  },
  {
   "cell_type": "code",
   "execution_count": 47,
   "metadata": {
    "collapsed": true
   },
   "outputs": [],
   "source": [
    "df = pca.transform(train[features])"
   ]
  },
  {
   "cell_type": "code",
   "execution_count": 49,
   "metadata": {
    "collapsed": false
   },
   "outputs": [
    {
     "data": {
      "text/plain": [
       "array([[ -4.20592342e+03,  -8.62445717e-01,  -1.81561482e-01, ...,\n",
       "          4.09724307e+00,  -1.64400243e+00,  -4.96510930e-01],\n",
       "       [ -4.19991545e+03,  -7.84413747e-01,   1.63011816e+00, ...,\n",
       "         -4.81383296e-01,  -9.25189442e-01,  -6.20208832e-01],\n",
       "       [ -4.19891713e+03,  -1.64352698e+01,   1.23288155e+01, ...,\n",
       "          1.13434140e+00,  -1.69368964e+00,  -4.29674006e-01],\n",
       "       ..., \n",
       "       [  4.20600246e+03,  -2.87666675e+01,   1.49177538e+01, ...,\n",
       "          3.10609980e+00,   3.55174015e-01,   1.04880788e-01],\n",
       "       [  4.20900251e+03,  -2.27275339e+01,   1.72755516e+00, ...,\n",
       "         -2.99926057e+00,  -1.60471406e+00,   2.07101996e+00],\n",
       "       [  4.21100221e+03,   1.75459746e+01,  -9.82916582e+00, ...,\n",
       "          9.53200526e-01,  -6.89987745e-01,   6.34151398e-01]])"
      ]
     },
     "execution_count": 49,
     "metadata": {},
     "output_type": "execute_result"
    }
   ],
   "source": [
    "df"
   ]
  },
  {
   "cell_type": "code",
   "execution_count": 34,
   "metadata": {
    "collapsed": true
   },
   "outputs": [],
   "source": [
    "for i in range(0,9):\n",
    "    if i!=7:\n",
    "        most.append(\"X\"+str(i))"
   ]
  },
  {
   "cell_type": "code",
   "execution_count": 26,
   "metadata": {
    "collapsed": true
   },
   "outputs": [],
   "source": [
    "from sklearn.ensemble import RandomForestRegressor\n",
    "from sklearn import cross_validation,metrics\n",
    "from sklearn.grid_search import GridSearchCV"
   ]
  },
  {
   "cell_type": "code",
   "execution_count": 36,
   "metadata": {
    "collapsed": true
   },
   "outputs": [],
   "source": [
    "rfr = RandomForestRegressor(n_estimators=100, max_depth=6,min_samples_split=450,\n",
    "                            min_samples_leaf=5,n_jobs=-1,random_state=2017,oob_score = True)"
   ]
  },
  {
   "cell_type": "code",
   "execution_count": 37,
   "metadata": {
    "collapsed": true
   },
   "outputs": [],
   "source": [
    "X = train[most]\n",
    "y = train['y']"
   ]
  },
  {
   "cell_type": "code",
   "execution_count": 38,
   "metadata": {
    "collapsed": false
   },
   "outputs": [
    {
     "data": {
      "text/plain": [
       "RandomForestRegressor(bootstrap=True, criterion='mse', max_depth=6,\n",
       "           max_features='auto', max_leaf_nodes=None, min_samples_leaf=5,\n",
       "           min_samples_split=450, min_weight_fraction_leaf=0.0,\n",
       "           n_estimators=100, n_jobs=-1, oob_score=True, random_state=2017,\n",
       "           verbose=0, warm_start=False)"
      ]
     },
     "execution_count": 38,
     "metadata": {},
     "output_type": "execute_result"
    }
   ],
   "source": [
    "rfr.fit(X,y)"
   ]
  },
  {
   "cell_type": "code",
   "execution_count": 39,
   "metadata": {
    "collapsed": true
   },
   "outputs": [],
   "source": [
    "pred = rfr.predict(test[most])"
   ]
  },
  {
   "cell_type": "code",
   "execution_count": 40,
   "metadata": {
    "collapsed": false
   },
   "outputs": [
    {
     "data": {
      "text/html": [
       "<div>\n",
       "<table border=\"1\" class=\"dataframe\">\n",
       "  <thead>\n",
       "    <tr style=\"text-align: right;\">\n",
       "      <th></th>\n",
       "      <th>y</th>\n",
       "    </tr>\n",
       "    <tr>\n",
       "      <th>ID</th>\n",
       "      <th></th>\n",
       "    </tr>\n",
       "  </thead>\n",
       "  <tbody>\n",
       "    <tr>\n",
       "      <th>1</th>\n",
       "      <td>77.965721</td>\n",
       "    </tr>\n",
       "    <tr>\n",
       "      <th>2</th>\n",
       "      <td>94.612336</td>\n",
       "    </tr>\n",
       "    <tr>\n",
       "      <th>3</th>\n",
       "      <td>77.965721</td>\n",
       "    </tr>\n",
       "    <tr>\n",
       "      <th>4</th>\n",
       "      <td>77.965721</td>\n",
       "    </tr>\n",
       "    <tr>\n",
       "      <th>5</th>\n",
       "      <td>111.055869</td>\n",
       "    </tr>\n",
       "  </tbody>\n",
       "</table>\n",
       "</div>"
      ],
      "text/plain": [
       "             y\n",
       "ID            \n",
       "1    77.965721\n",
       "2    94.612336\n",
       "3    77.965721\n",
       "4    77.965721\n",
       "5   111.055869"
      ]
     },
     "execution_count": 40,
     "metadata": {},
     "output_type": "execute_result"
    }
   ],
   "source": [
    "submission = pd.DataFrame(data=pred,index=test.ID,columns=['y'])\n",
    "submission.head()"
   ]
  },
  {
   "cell_type": "code",
   "execution_count": 41,
   "metadata": {
    "collapsed": true
   },
   "outputs": [],
   "source": [
    "submission.to_csv('rfr.csv')"
   ]
  }
 ],
 "metadata": {
  "anaconda-cloud": {},
  "kernelspec": {
   "display_name": "Python [conda root]",
   "language": "python",
   "name": "conda-root-py"
  },
  "language_info": {
   "codemirror_mode": {
    "name": "ipython",
    "version": 3
   },
   "file_extension": ".py",
   "mimetype": "text/x-python",
   "name": "python",
   "nbconvert_exporter": "python",
   "pygments_lexer": "ipython3",
   "version": "3.5.2"
  }
 },
 "nbformat": 4,
 "nbformat_minor": 1
}
