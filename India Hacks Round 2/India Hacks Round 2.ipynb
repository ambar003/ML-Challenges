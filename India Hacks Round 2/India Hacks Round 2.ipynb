{
 "cells": [
  {
   "cell_type": "code",
   "execution_count": 1,
   "metadata": {
    "collapsed": true
   },
   "outputs": [],
   "source": [
    "import pandas as pd\n",
    "import numpy as np"
   ]
  },
  {
   "cell_type": "code",
   "execution_count": 2,
   "metadata": {
    "collapsed": false
   },
   "outputs": [
    {
     "name": "stdout",
     "output_type": "stream",
     "text": [
      "Populating the interactive namespace from numpy and matplotlib\n"
     ]
    }
   ],
   "source": [
    "% pylab inline"
   ]
  },
  {
   "cell_type": "code",
   "execution_count": 3,
   "metadata": {
    "collapsed": false
   },
   "outputs": [
    {
     "data": {
      "text/html": [
       "<div>\n",
       "<style>\n",
       "    .dataframe thead tr:only-child th {\n",
       "        text-align: right;\n",
       "    }\n",
       "\n",
       "    .dataframe thead th {\n",
       "        text-align: left;\n",
       "    }\n",
       "\n",
       "    .dataframe tbody tr th {\n",
       "        vertical-align: top;\n",
       "    }\n",
       "</style>\n",
       "<table border=\"1\" class=\"dataframe\">\n",
       "  <thead>\n",
       "    <tr style=\"text-align: right;\">\n",
       "      <th></th>\n",
       "      <th>roadId</th>\n",
       "      <th>totalLaneLines</th>\n",
       "      <th>laneLineId</th>\n",
       "      <th>laneLineCoordinates</th>\n",
       "      <th>totalLinesOnLeft</th>\n",
       "      <th>totalLaneLinesOnRight</th>\n",
       "      <th>distFromLaneLineOnLeft</th>\n",
       "      <th>distFromLaneLineOnRight</th>\n",
       "      <th>laneLineLength</th>\n",
       "      <th>roadLength</th>\n",
       "      <th>noOfIntersectingLaneLinesLeft</th>\n",
       "      <th>noOfIntersectingLaneLinesRight</th>\n",
       "      <th>isIntersectingWithRoadGeometry</th>\n",
       "      <th>roadCategory</th>\n",
       "    </tr>\n",
       "  </thead>\n",
       "  <tbody>\n",
       "    <tr>\n",
       "      <th>0</th>\n",
       "      <td>3177248677</td>\n",
       "      <td>3</td>\n",
       "      <td>X3177248677</td>\n",
       "      <td>11.117636626741222 49.43799310961545|11.11761...</td>\n",
       "      <td>2</td>\n",
       "      <td>0</td>\n",
       "      <td>3.863433276</td>\n",
       "      <td></td>\n",
       "      <td>4.396337</td>\n",
       "      <td>40.570710</td>\n",
       "      <td>0</td>\n",
       "      <td>0</td>\n",
       "      <td>false</td>\n",
       "      <td>2</td>\n",
       "    </tr>\n",
       "    <tr>\n",
       "      <th>1</th>\n",
       "      <td>3177248677</td>\n",
       "      <td>3</td>\n",
       "      <td>13177248677</td>\n",
       "      <td>11.11771009862968 49.43794191822495|11.117697...</td>\n",
       "      <td>0</td>\n",
       "      <td>2</td>\n",
       "      <td></td>\n",
       "      <td>3.740901458</td>\n",
       "      <td>37.316844</td>\n",
       "      <td>40.570710</td>\n",
       "      <td>0</td>\n",
       "      <td>0</td>\n",
       "      <td>false</td>\n",
       "      <td>2</td>\n",
       "    </tr>\n",
       "    <tr>\n",
       "      <th>2</th>\n",
       "      <td>3177248677</td>\n",
       "      <td>3</td>\n",
       "      <td>23177248677</td>\n",
       "      <td>11.117673197144772 49.43796782435575|11.11765...</td>\n",
       "      <td>1</td>\n",
       "      <td>1</td>\n",
       "      <td>3.740901458</td>\n",
       "      <td>3.863433276</td>\n",
       "      <td>40.365319</td>\n",
       "      <td>40.570710</td>\n",
       "      <td>0</td>\n",
       "      <td>0</td>\n",
       "      <td>true</td>\n",
       "      <td>2</td>\n",
       "    </tr>\n",
       "    <tr>\n",
       "      <th>3</th>\n",
       "      <td>3177248676</td>\n",
       "      <td>9</td>\n",
       "      <td>X3177248676</td>\n",
       "      <td>11.11742645905593 49.437419830658655|11.11740...</td>\n",
       "      <td>3</td>\n",
       "      <td>5</td>\n",
       "      <td>4.634520764</td>\n",
       "      <td>1.727115052</td>\n",
       "      <td>18.177112</td>\n",
       "      <td>207.655745</td>\n",
       "      <td>0</td>\n",
       "      <td>0</td>\n",
       "      <td>false</td>\n",
       "      <td>2</td>\n",
       "    </tr>\n",
       "    <tr>\n",
       "      <th>4</th>\n",
       "      <td>3177248676</td>\n",
       "      <td>9</td>\n",
       "      <td>13177248676</td>\n",
       "      <td>11.117117406584201 49.43662220739599|11.11710...</td>\n",
       "      <td>1</td>\n",
       "      <td>7</td>\n",
       "      <td>5.783676541</td>\n",
       "      <td>1.727115052</td>\n",
       "      <td>95.552747</td>\n",
       "      <td>207.655745</td>\n",
       "      <td>0</td>\n",
       "      <td>0</td>\n",
       "      <td>false</td>\n",
       "      <td>2</td>\n",
       "    </tr>\n",
       "  </tbody>\n",
       "</table>\n",
       "</div>"
      ],
      "text/plain": [
       "       roadId   totalLaneLines   laneLineId  \\\n",
       "0  3177248677                3  X3177248677   \n",
       "1  3177248677                3  13177248677   \n",
       "2  3177248677                3  23177248677   \n",
       "3  3177248676                9  X3177248676   \n",
       "4  3177248676                9  13177248676   \n",
       "\n",
       "                                 laneLineCoordinates   totalLinesOnLeft  \\\n",
       "0   11.117636626741222 49.43799310961545|11.11761...                  2   \n",
       "1   11.11771009862968 49.43794191822495|11.117697...                  0   \n",
       "2   11.117673197144772 49.43796782435575|11.11765...                  1   \n",
       "3   11.11742645905593 49.437419830658655|11.11740...                  3   \n",
       "4   11.117117406584201 49.43662220739599|11.11710...                  1   \n",
       "\n",
       "    totalLaneLinesOnRight  distFromLaneLineOnLeft  distFromLaneLineOnRight  \\\n",
       "0                       0             3.863433276                            \n",
       "1                       2                                      3.740901458   \n",
       "2                       1             3.740901458              3.863433276   \n",
       "3                       5             4.634520764              1.727115052   \n",
       "4                       7             5.783676541              1.727115052   \n",
       "\n",
       "    laneLineLength   roadLength   noOfIntersectingLaneLinesLeft  \\\n",
       "0         4.396337    40.570710                               0   \n",
       "1        37.316844    40.570710                               0   \n",
       "2        40.365319    40.570710                               0   \n",
       "3        18.177112   207.655745                               0   \n",
       "4        95.552747   207.655745                               0   \n",
       "\n",
       "    noOfIntersectingLaneLinesRight  isIntersectingWithRoadGeometry  \\\n",
       "0                                0                           false   \n",
       "1                                0                           false   \n",
       "2                                0                            true   \n",
       "3                                0                           false   \n",
       "4                                0                           false   \n",
       "\n",
       "    roadCategory  \n",
       "0              2  \n",
       "1              2  \n",
       "2              2  \n",
       "3              2  \n",
       "4              2  "
      ]
     },
     "execution_count": 3,
     "metadata": {},
     "output_type": "execute_result"
    }
   ],
   "source": [
    "train = pd.read_csv('train.csv')\n",
    "train.head()"
   ]
  },
  {
   "cell_type": "code",
   "execution_count": 4,
   "metadata": {
    "collapsed": false
   },
   "outputs": [
    {
     "data": {
      "text/plain": [
       "Index(['roadId', ' totalLaneLines', ' laneLineId', ' laneLineCoordinates',\n",
       "       ' totalLinesOnLeft', ' totalLaneLinesOnRight',\n",
       "       ' distFromLaneLineOnLeft', ' distFromLaneLineOnRight',\n",
       "       ' laneLineLength', ' roadLength', ' noOfIntersectingLaneLinesLeft',\n",
       "       ' noOfIntersectingLaneLinesRight', ' isIntersectingWithRoadGeometry',\n",
       "       ' roadCategory'],\n",
       "      dtype='object')"
      ]
     },
     "execution_count": 4,
     "metadata": {},
     "output_type": "execute_result"
    }
   ],
   "source": [
    "train.columns"
   ]
  },
  {
   "cell_type": "code",
   "execution_count": 8,
   "metadata": {
    "collapsed": false
   },
   "outputs": [
    {
     "data": {
      "text/plain": [
       "['roadId',\n",
       " 'totalLaneLines',\n",
       " 'laneLineId',\n",
       " 'laneLineCoordinates',\n",
       " 'totalLinesOnLeft',\n",
       " 'totalLaneLinesOnRight',\n",
       " 'distFromLaneLineOnLeft',\n",
       " 'distFromLaneLineOnRight',\n",
       " 'laneLineLength',\n",
       " 'roadLength',\n",
       " 'noOfIntersectingLaneLinesLeft',\n",
       " 'noOfIntersectingLaneLinesRight',\n",
       " 'isIntersectingWithRoadGeometry',\n",
       " 'roadCategory']"
      ]
     },
     "execution_count": 8,
     "metadata": {},
     "output_type": "execute_result"
    }
   ],
   "source": [
    "lis = ['roadId', ' totalLaneLines', ' laneLineId', ' laneLineCoordinates',\n",
    "       ' totalLinesOnLeft', ' totalLaneLinesOnRight',\n",
    "       ' distFromLaneLineOnLeft', ' distFromLaneLineOnRight',\n",
    "       ' laneLineLength', ' roadLength', ' noOfIntersectingLaneLinesLeft',\n",
    "       ' noOfIntersectingLaneLinesRight', ' isIntersectingWithRoadGeometry',\n",
    "       ' roadCategory']\n",
    "temp=[]\n",
    "for i in lis:\n",
    "    temp.append(i.strip())\n",
    "temp    "
   ]
  },
  {
   "cell_type": "code",
   "execution_count": 9,
   "metadata": {
    "collapsed": false
   },
   "outputs": [],
   "source": [
    "train.columns = temp"
   ]
  },
  {
   "cell_type": "code",
   "execution_count": 11,
   "metadata": {
    "collapsed": false
   },
   "outputs": [
    {
     "data": {
      "text/plain": [
       "' '"
      ]
     },
     "execution_count": 11,
     "metadata": {},
     "output_type": "execute_result"
    }
   ],
   "source": [
    "train['distFromLaneLineOnLeft']"
   ]
  },
  {
   "cell_type": "code",
   "execution_count": 3,
   "metadata": {
    "collapsed": false
   },
   "outputs": [
    {
     "data": {
      "text/html": [
       "<div>\n",
       "<style>\n",
       "    .dataframe thead tr:only-child th {\n",
       "        text-align: right;\n",
       "    }\n",
       "\n",
       "    .dataframe thead th {\n",
       "        text-align: left;\n",
       "    }\n",
       "\n",
       "    .dataframe tbody tr th {\n",
       "        vertical-align: top;\n",
       "    }\n",
       "</style>\n",
       "<table border=\"1\" class=\"dataframe\">\n",
       "  <thead>\n",
       "    <tr style=\"text-align: right;\">\n",
       "      <th></th>\n",
       "      <th>roadId</th>\n",
       "      <th>roadCoordinates</th>\n",
       "      <th>noOfLanes</th>\n",
       "    </tr>\n",
       "  </thead>\n",
       "  <tbody>\n",
       "    <tr>\n",
       "      <th>0</th>\n",
       "      <td>6515927525</td>\n",
       "      <td>9.23293 48.99365|9.23295 48.99401|9.23298 48....</td>\n",
       "      <td>4</td>\n",
       "    </tr>\n",
       "    <tr>\n",
       "      <th>1</th>\n",
       "      <td>155088079</td>\n",
       "      <td>11.11117 49.43418|11.11175 49.43436</td>\n",
       "      <td>3</td>\n",
       "    </tr>\n",
       "    <tr>\n",
       "      <th>2</th>\n",
       "      <td>5943976193</td>\n",
       "      <td>11.00016 49.46831|10.9994 49.46849</td>\n",
       "      <td>2</td>\n",
       "    </tr>\n",
       "    <tr>\n",
       "      <th>3</th>\n",
       "      <td>4646422329</td>\n",
       "      <td>12.4417 55.62205|12.44144 55.62233</td>\n",
       "      <td>3</td>\n",
       "    </tr>\n",
       "    <tr>\n",
       "      <th>4</th>\n",
       "      <td>3059986881</td>\n",
       "      <td>11.10363 49.47368|11.10367 49.47377|11.10374 ...</td>\n",
       "      <td>3</td>\n",
       "    </tr>\n",
       "  </tbody>\n",
       "</table>\n",
       "</div>"
      ],
      "text/plain": [
       "       roadId                                    roadCoordinates   noOfLanes\n",
       "0  6515927525   9.23293 48.99365|9.23295 48.99401|9.23298 48....           4\n",
       "1   155088079                11.11117 49.43418|11.11175 49.43436           3\n",
       "2  5943976193                 11.00016 49.46831|10.9994 49.46849           2\n",
       "3  4646422329                 12.4417 55.62205|12.44144 55.62233           3\n",
       "4  3059986881   11.10363 49.47368|11.10367 49.47377|11.10374 ...           3"
      ]
     },
     "execution_count": 3,
     "metadata": {},
     "output_type": "execute_result"
    }
   ],
   "source": [
    "labels = pd.read_csv('labels.csv')\n",
    "labels.head()"
   ]
  },
  {
   "cell_type": "code",
   "execution_count": 13,
   "metadata": {
    "collapsed": false
   },
   "outputs": [],
   "source": [
    "train = pd.merge(train,labels,on='roadId')"
   ]
  },
  {
   "cell_type": "code",
   "execution_count": 14,
   "metadata": {
    "collapsed": false
   },
   "outputs": [
    {
     "data": {
      "text/html": [
       "<div>\n",
       "<style>\n",
       "    .dataframe thead tr:only-child th {\n",
       "        text-align: right;\n",
       "    }\n",
       "\n",
       "    .dataframe thead th {\n",
       "        text-align: left;\n",
       "    }\n",
       "\n",
       "    .dataframe tbody tr th {\n",
       "        vertical-align: top;\n",
       "    }\n",
       "</style>\n",
       "<table border=\"1\" class=\"dataframe\">\n",
       "  <thead>\n",
       "    <tr style=\"text-align: right;\">\n",
       "      <th></th>\n",
       "      <th>roadId</th>\n",
       "      <th>totalLaneLines</th>\n",
       "      <th>laneLineId</th>\n",
       "      <th>laneLineCoordinates</th>\n",
       "      <th>totalLinesOnLeft</th>\n",
       "      <th>totalLaneLinesOnRight</th>\n",
       "      <th>distFromLaneLineOnLeft</th>\n",
       "      <th>distFromLaneLineOnRight</th>\n",
       "      <th>laneLineLength</th>\n",
       "      <th>roadLength</th>\n",
       "      <th>noOfIntersectingLaneLinesLeft</th>\n",
       "      <th>noOfIntersectingLaneLinesRight</th>\n",
       "      <th>isIntersectingWithRoadGeometry</th>\n",
       "      <th>roadCategory</th>\n",
       "      <th>roadCoordinates</th>\n",
       "      <th>noOfLanes</th>\n",
       "    </tr>\n",
       "  </thead>\n",
       "  <tbody>\n",
       "    <tr>\n",
       "      <th>0</th>\n",
       "      <td>3177248677</td>\n",
       "      <td>3</td>\n",
       "      <td>X3177248677</td>\n",
       "      <td>11.117636626741222 49.43799310961545|11.11761...</td>\n",
       "      <td>2</td>\n",
       "      <td>0</td>\n",
       "      <td>3.863433276</td>\n",
       "      <td></td>\n",
       "      <td>4.396337</td>\n",
       "      <td>40.57071</td>\n",
       "      <td>0</td>\n",
       "      <td>0</td>\n",
       "      <td>false</td>\n",
       "      <td>2</td>\n",
       "      <td>11.11747 49.43763|11.11753 49.43776|11.11761 ...</td>\n",
       "      <td>2</td>\n",
       "    </tr>\n",
       "    <tr>\n",
       "      <th>1</th>\n",
       "      <td>3177248677</td>\n",
       "      <td>3</td>\n",
       "      <td>13177248677</td>\n",
       "      <td>11.11771009862968 49.43794191822495|11.117697...</td>\n",
       "      <td>0</td>\n",
       "      <td>2</td>\n",
       "      <td></td>\n",
       "      <td>3.740901458</td>\n",
       "      <td>37.316844</td>\n",
       "      <td>40.57071</td>\n",
       "      <td>0</td>\n",
       "      <td>0</td>\n",
       "      <td>false</td>\n",
       "      <td>2</td>\n",
       "      <td>11.11747 49.43763|11.11753 49.43776|11.11761 ...</td>\n",
       "      <td>2</td>\n",
       "    </tr>\n",
       "    <tr>\n",
       "      <th>2</th>\n",
       "      <td>3177248677</td>\n",
       "      <td>3</td>\n",
       "      <td>23177248677</td>\n",
       "      <td>11.117673197144772 49.43796782435575|11.11765...</td>\n",
       "      <td>1</td>\n",
       "      <td>1</td>\n",
       "      <td>3.740901458</td>\n",
       "      <td>3.863433276</td>\n",
       "      <td>40.365319</td>\n",
       "      <td>40.57071</td>\n",
       "      <td>0</td>\n",
       "      <td>0</td>\n",
       "      <td>true</td>\n",
       "      <td>2</td>\n",
       "      <td>11.11747 49.43763|11.11753 49.43776|11.11761 ...</td>\n",
       "      <td>2</td>\n",
       "    </tr>\n",
       "    <tr>\n",
       "      <th>3</th>\n",
       "      <td>3177248677</td>\n",
       "      <td>2</td>\n",
       "      <td>X3177248677</td>\n",
       "      <td>11.117480629929192 49.43781578147865|11.11742...</td>\n",
       "      <td>1</td>\n",
       "      <td>0</td>\n",
       "      <td>3.376377772</td>\n",
       "      <td></td>\n",
       "      <td>19.342362</td>\n",
       "      <td>40.57071</td>\n",
       "      <td>0</td>\n",
       "      <td>0</td>\n",
       "      <td>false</td>\n",
       "      <td>2</td>\n",
       "      <td>11.11747 49.43763|11.11753 49.43776|11.11761 ...</td>\n",
       "      <td>2</td>\n",
       "    </tr>\n",
       "    <tr>\n",
       "      <th>4</th>\n",
       "      <td>3177248677</td>\n",
       "      <td>2</td>\n",
       "      <td>13177248677</td>\n",
       "      <td>11.117587468615081 49.43799962846225|11.11751...</td>\n",
       "      <td>0</td>\n",
       "      <td>1</td>\n",
       "      <td></td>\n",
       "      <td>3.376377772</td>\n",
       "      <td>42.007669</td>\n",
       "      <td>40.57071</td>\n",
       "      <td>0</td>\n",
       "      <td>0</td>\n",
       "      <td>true</td>\n",
       "      <td>2</td>\n",
       "      <td>11.11747 49.43763|11.11753 49.43776|11.11761 ...</td>\n",
       "      <td>2</td>\n",
       "    </tr>\n",
       "  </tbody>\n",
       "</table>\n",
       "</div>"
      ],
      "text/plain": [
       "       roadId  totalLaneLines   laneLineId  \\\n",
       "0  3177248677               3  X3177248677   \n",
       "1  3177248677               3  13177248677   \n",
       "2  3177248677               3  23177248677   \n",
       "3  3177248677               2  X3177248677   \n",
       "4  3177248677               2  13177248677   \n",
       "\n",
       "                                 laneLineCoordinates  totalLinesOnLeft  \\\n",
       "0   11.117636626741222 49.43799310961545|11.11761...                 2   \n",
       "1   11.11771009862968 49.43794191822495|11.117697...                 0   \n",
       "2   11.117673197144772 49.43796782435575|11.11765...                 1   \n",
       "3   11.117480629929192 49.43781578147865|11.11742...                 1   \n",
       "4   11.117587468615081 49.43799962846225|11.11751...                 0   \n",
       "\n",
       "   totalLaneLinesOnRight distFromLaneLineOnLeft distFromLaneLineOnRight  \\\n",
       "0                      0            3.863433276                           \n",
       "1                      2                                    3.740901458   \n",
       "2                      1            3.740901458             3.863433276   \n",
       "3                      0            3.376377772                           \n",
       "4                      1                                    3.376377772   \n",
       "\n",
       "   laneLineLength  roadLength  noOfIntersectingLaneLinesLeft  \\\n",
       "0        4.396337    40.57071                              0   \n",
       "1       37.316844    40.57071                              0   \n",
       "2       40.365319    40.57071                              0   \n",
       "3       19.342362    40.57071                              0   \n",
       "4       42.007669    40.57071                              0   \n",
       "\n",
       "   noOfIntersectingLaneLinesRight isIntersectingWithRoadGeometry  \\\n",
       "0                               0                          false   \n",
       "1                               0                          false   \n",
       "2                               0                           true   \n",
       "3                               0                          false   \n",
       "4                               0                           true   \n",
       "\n",
       "   roadCategory                                    roadCoordinates   noOfLanes  \n",
       "0             2   11.11747 49.43763|11.11753 49.43776|11.11761 ...           2  \n",
       "1             2   11.11747 49.43763|11.11753 49.43776|11.11761 ...           2  \n",
       "2             2   11.11747 49.43763|11.11753 49.43776|11.11761 ...           2  \n",
       "3             2   11.11747 49.43763|11.11753 49.43776|11.11761 ...           2  \n",
       "4             2   11.11747 49.43763|11.11753 49.43776|11.11761 ...           2  "
      ]
     },
     "execution_count": 14,
     "metadata": {},
     "output_type": "execute_result"
    }
   ],
   "source": [
    "train.head()"
   ]
  },
  {
   "cell_type": "code",
   "execution_count": 15,
   "metadata": {
    "collapsed": false
   },
   "outputs": [
    {
     "data": {
      "text/plain": [
       "28914"
      ]
     },
     "execution_count": 15,
     "metadata": {},
     "output_type": "execute_result"
    }
   ],
   "source": [
    "len(train)"
   ]
  },
  {
   "cell_type": "code",
   "execution_count": 16,
   "metadata": {
    "collapsed": false
   },
   "outputs": [
    {
     "data": {
      "text/plain": [
       "Index(['roadId', 'totalLaneLines', 'laneLineId', 'laneLineCoordinates',\n",
       "       'totalLinesOnLeft', 'totalLaneLinesOnRight', 'distFromLaneLineOnLeft',\n",
       "       'distFromLaneLineOnRight', 'laneLineLength', 'roadLength',\n",
       "       'noOfIntersectingLaneLinesLeft', 'noOfIntersectingLaneLinesRight',\n",
       "       'isIntersectingWithRoadGeometry', 'roadCategory', ' roadCoordinates',\n",
       "       ' noOfLanes'],\n",
       "      dtype='object')"
      ]
     },
     "execution_count": 16,
     "metadata": {},
     "output_type": "execute_result"
    }
   ],
   "source": [
    "train.columns"
   ]
  },
  {
   "cell_type": "code",
   "execution_count": 19,
   "metadata": {
    "collapsed": false
   },
   "outputs": [
    {
     "data": {
      "text/plain": [
       "0"
      ]
     },
     "execution_count": 19,
     "metadata": {},
     "output_type": "execute_result"
    }
   ],
   "source": [
    "train['totalLaneLines'].isnull().sum()"
   ]
  },
  {
   "cell_type": "code",
   "execution_count": 39,
   "metadata": {
    "collapsed": false
   },
   "outputs": [
    {
     "data": {
      "text/plain": [
       "roadId                              int64\n",
       "totalLaneLines                      int64\n",
       "laneLineId                         object\n",
       "laneLineCoordinates                object\n",
       "totalLinesOnLeft                    int64\n",
       "totalLaneLinesOnRight               int64\n",
       "distFromLaneLineOnLeft            float64\n",
       "distFromLaneLineOnRight            object\n",
       "laneLineLength                    float64\n",
       "roadLength                        float64\n",
       "noOfIntersectingLaneLinesLeft       int64\n",
       "noOfIntersectingLaneLinesRight      int64\n",
       "isIntersectingWithRoadGeometry     object\n",
       "roadCategory                        int64\n",
       " roadCoordinates                   object\n",
       " noOfLanes                          int64\n",
       "dtype: object"
      ]
     },
     "execution_count": 39,
     "metadata": {},
     "output_type": "execute_result"
    }
   ],
   "source": [
    "train.dtypes"
   ]
  },
  {
   "cell_type": "code",
   "execution_count": 22,
   "metadata": {
    "collapsed": false
   },
   "outputs": [
    {
     "data": {
      "text/plain": [
       "0"
      ]
     },
     "execution_count": 22,
     "metadata": {},
     "output_type": "execute_result"
    }
   ],
   "source": [
    "train['laneLineId'].isnull().sum()"
   ]
  },
  {
   "cell_type": "code",
   "execution_count": 34,
   "metadata": {
    "collapsed": false
   },
   "outputs": [
    {
     "data": {
      "text/plain": [
       "''"
      ]
     },
     "execution_count": 34,
     "metadata": {},
     "output_type": "execute_result"
    }
   ],
   "source": [
    "train['distFromLaneLineOnLeft'][1]"
   ]
  },
  {
   "cell_type": "code",
   "execution_count": 32,
   "metadata": {
    "collapsed": false
   },
   "outputs": [],
   "source": [
    "train['distFromLaneLineOnLeft'] = train['distFromLaneLineOnLeft'].apply(lambda x:x.strip())"
   ]
  },
  {
   "cell_type": "code",
   "execution_count": 37,
   "metadata": {
    "collapsed": true
   },
   "outputs": [],
   "source": [
    "def update(x):\n",
    "    if(len(x)!=0):\n",
    "        return float(x)"
   ]
  },
  {
   "cell_type": "code",
   "execution_count": 38,
   "metadata": {
    "collapsed": false
   },
   "outputs": [],
   "source": [
    "train['distFromLaneLineOnLeft'] = train['distFromLaneLineOnLeft'].apply(lambda x:update(x))"
   ]
  },
  {
   "cell_type": "code",
   "execution_count": 42,
   "metadata": {
    "collapsed": false
   },
   "outputs": [
    {
     "data": {
      "text/plain": [
       "count    23259.000000\n",
       "mean         3.238623\n",
       "std          2.490129\n",
       "min          0.000000\n",
       "25%          1.734432\n",
       "50%          3.632457\n",
       "75%          4.029812\n",
       "max        120.956344\n",
       "Name: distFromLaneLineOnLeft, dtype: float64"
      ]
     },
     "execution_count": 42,
     "metadata": {},
     "output_type": "execute_result"
    }
   ],
   "source": [
    "train['distFromLaneLineOnLeft'].describe()"
   ]
  },
  {
   "cell_type": "code",
   "execution_count": 43,
   "metadata": {
    "collapsed": true
   },
   "outputs": [],
   "source": [
    "train['distFromLaneLineOnLeft'] = train['distFromLaneLineOnLeft'].fillna(3.238623)"
   ]
  },
  {
   "cell_type": "code",
   "execution_count": 44,
   "metadata": {
    "collapsed": false
   },
   "outputs": [
    {
     "data": {
      "text/plain": [
       "0"
      ]
     },
     "execution_count": 44,
     "metadata": {},
     "output_type": "execute_result"
    }
   ],
   "source": [
    "train['distFromLaneLineOnLeft'].isnull().sum()"
   ]
  },
  {
   "cell_type": "code",
   "execution_count": 45,
   "metadata": {
    "collapsed": false
   },
   "outputs": [
    {
     "data": {
      "text/plain": [
       "count    23433.000000\n",
       "mean         3.270934\n",
       "std          2.981502\n",
       "min          0.000000\n",
       "25%          1.636742\n",
       "50%          3.625344\n",
       "75%          4.025486\n",
       "max         98.775042\n",
       "Name: distFromLaneLineOnRight, dtype: float64"
      ]
     },
     "execution_count": 45,
     "metadata": {},
     "output_type": "execute_result"
    }
   ],
   "source": [
    "train['distFromLaneLineOnRight'] = train['distFromLaneLineOnRight'].apply(lambda x:x.strip())\n",
    "train['distFromLaneLineOnRight'] = train['distFromLaneLineOnRight'].apply(lambda x:update(x))\n",
    "train['distFromLaneLineOnRight'].describe()"
   ]
  },
  {
   "cell_type": "code",
   "execution_count": 47,
   "metadata": {
    "collapsed": false
   },
   "outputs": [],
   "source": [
    "train['distFromLaneLineOnRight'] = train['distFromLaneLineOnRight'].fillna(3.270934)"
   ]
  },
  {
   "cell_type": "code",
   "execution_count": 55,
   "metadata": {
    "collapsed": false
   },
   "outputs": [
    {
     "data": {
      "text/plain": [
       "roadId                              int64\n",
       "totalLaneLines                      int64\n",
       "laneLineId                         object\n",
       "laneLineCoordinates                object\n",
       "totalLinesOnLeft                    int64\n",
       "totalLaneLinesOnRight               int64\n",
       "distFromLaneLineOnLeft            float64\n",
       "distFromLaneLineOnRight           float64\n",
       "laneLineLength                    float64\n",
       "roadLength                        float64\n",
       "noOfIntersectingLaneLinesLeft       int64\n",
       "noOfIntersectingLaneLinesRight      int64\n",
       "isIntersectingWithRoadGeometry      int32\n",
       "roadCategory                        int64\n",
       " roadCoordinates                   object\n",
       " noOfLanes                          int64\n",
       "dtype: object"
      ]
     },
     "execution_count": 55,
     "metadata": {},
     "output_type": "execute_result"
    }
   ],
   "source": [
    "train.dtypes"
   ]
  },
  {
   "cell_type": "code",
   "execution_count": 53,
   "metadata": {
    "collapsed": false
   },
   "outputs": [
    {
     "data": {
      "text/plain": [
       "0"
      ]
     },
     "execution_count": 53,
     "metadata": {},
     "output_type": "execute_result"
    }
   ],
   "source": [
    "train['noOfIntersectingLaneLinesRight'].isnull().sum()"
   ]
  },
  {
   "cell_type": "code",
   "execution_count": 54,
   "metadata": {
    "collapsed": true
   },
   "outputs": [],
   "source": [
    "train['isIntersectingWithRoadGeometry'] = pd.Series(np.where(train.isIntersectingWithRoadGeometry.values == 'true', 1, 0),train.index)"
   ]
  },
  {
   "cell_type": "code",
   "execution_count": 56,
   "metadata": {
    "collapsed": false
   },
   "outputs": [
    {
     "data": {
      "text/plain": [
       "0"
      ]
     },
     "execution_count": 56,
     "metadata": {},
     "output_type": "execute_result"
    }
   ],
   "source": [
    "train['roadCategory'].isnull().sum()"
   ]
  },
  {
   "cell_type": "code",
   "execution_count": 86,
   "metadata": {
    "collapsed": true
   },
   "outputs": [],
   "source": [
    "test = pd.read_csv('test.csv')"
   ]
  },
  {
   "cell_type": "code",
   "execution_count": 87,
   "metadata": {
    "collapsed": false
   },
   "outputs": [
    {
     "data": {
      "text/html": [
       "<div>\n",
       "<style>\n",
       "    .dataframe thead tr:only-child th {\n",
       "        text-align: right;\n",
       "    }\n",
       "\n",
       "    .dataframe thead th {\n",
       "        text-align: left;\n",
       "    }\n",
       "\n",
       "    .dataframe tbody tr th {\n",
       "        vertical-align: top;\n",
       "    }\n",
       "</style>\n",
       "<table border=\"1\" class=\"dataframe\">\n",
       "  <thead>\n",
       "    <tr style=\"text-align: right;\">\n",
       "      <th></th>\n",
       "      <th>roadId</th>\n",
       "      <th>totalLaneLines</th>\n",
       "      <th>laneLineId</th>\n",
       "      <th>laneLineCoordinates</th>\n",
       "      <th>totalLinesOnLeft</th>\n",
       "      <th>totalLaneLinesOnRight</th>\n",
       "      <th>distFromLaneLineOnLeft</th>\n",
       "      <th>distFromLaneLineOnRight</th>\n",
       "      <th>laneLineLength</th>\n",
       "      <th>roadLength</th>\n",
       "      <th>noOfIntersectingLaneLinesLeft</th>\n",
       "      <th>noOfIntersectingLaneLinesRight</th>\n",
       "      <th>isIntersectingWithRoadGeometry</th>\n",
       "      <th>roadCategory</th>\n",
       "    </tr>\n",
       "  </thead>\n",
       "  <tbody>\n",
       "    <tr>\n",
       "      <th>0</th>\n",
       "      <td>291531296</td>\n",
       "      <td>5</td>\n",
       "      <td>X291531296</td>\n",
       "      <td>11.329899604343693 43.72956824243773|11.33004...</td>\n",
       "      <td>2</td>\n",
       "      <td>2</td>\n",
       "      <td>5.655398294</td>\n",
       "      <td>3.49899823</td>\n",
       "      <td>12.054597</td>\n",
       "      <td>12.056004</td>\n",
       "      <td>0</td>\n",
       "      <td>0</td>\n",
       "      <td>false</td>\n",
       "      <td>1</td>\n",
       "    </tr>\n",
       "    <tr>\n",
       "      <th>1</th>\n",
       "      <td>291531296</td>\n",
       "      <td>5</td>\n",
       "      <td>1291531296</td>\n",
       "      <td>11.329900151795446 43.729503478051974|11.3300...</td>\n",
       "      <td>4</td>\n",
       "      <td>0</td>\n",
       "      <td>3.685959755</td>\n",
       "      <td></td>\n",
       "      <td>12.060141</td>\n",
       "      <td>12.056004</td>\n",
       "      <td>0</td>\n",
       "      <td>0</td>\n",
       "      <td>false</td>\n",
       "      <td>1</td>\n",
       "    </tr>\n",
       "    <tr>\n",
       "      <th>2</th>\n",
       "      <td>291531296</td>\n",
       "      <td>5</td>\n",
       "      <td>2291531296</td>\n",
       "      <td>11.329899913660833 43.72953696742431|11.33004...</td>\n",
       "      <td>3</td>\n",
       "      <td>1</td>\n",
       "      <td>3.49899823</td>\n",
       "      <td>3.685959755</td>\n",
       "      <td>12.052468</td>\n",
       "      <td>12.056004</td>\n",
       "      <td>0</td>\n",
       "      <td>0</td>\n",
       "      <td>false</td>\n",
       "      <td>1</td>\n",
       "    </tr>\n",
       "    <tr>\n",
       "      <th>3</th>\n",
       "      <td>291531296</td>\n",
       "      <td>5</td>\n",
       "      <td>3291531296</td>\n",
       "      <td>11.329899175813209 43.72961906004278|11.33004...</td>\n",
       "      <td>1</td>\n",
       "      <td>3</td>\n",
       "      <td>3.481580911</td>\n",
       "      <td>5.655398294</td>\n",
       "      <td>12.046642</td>\n",
       "      <td>12.056004</td>\n",
       "      <td>0</td>\n",
       "      <td>0</td>\n",
       "      <td>false</td>\n",
       "      <td>1</td>\n",
       "    </tr>\n",
       "    <tr>\n",
       "      <th>4</th>\n",
       "      <td>291531296</td>\n",
       "      <td>5</td>\n",
       "      <td>4291531296</td>\n",
       "      <td>11.329899073264464 43.729650480155186|11.3300...</td>\n",
       "      <td>0</td>\n",
       "      <td>4</td>\n",
       "      <td></td>\n",
       "      <td>3.481580911</td>\n",
       "      <td>12.054345</td>\n",
       "      <td>12.056004</td>\n",
       "      <td>0</td>\n",
       "      <td>0</td>\n",
       "      <td>false</td>\n",
       "      <td>1</td>\n",
       "    </tr>\n",
       "  </tbody>\n",
       "</table>\n",
       "</div>"
      ],
      "text/plain": [
       "      roadId   totalLaneLines  laneLineId  \\\n",
       "0  291531296                5  X291531296   \n",
       "1  291531296                5  1291531296   \n",
       "2  291531296                5  2291531296   \n",
       "3  291531296                5  3291531296   \n",
       "4  291531296                5  4291531296   \n",
       "\n",
       "                                 laneLineCoordinates   totalLinesOnLeft  \\\n",
       "0   11.329899604343693 43.72956824243773|11.33004...                  2   \n",
       "1   11.329900151795446 43.729503478051974|11.3300...                  4   \n",
       "2   11.329899913660833 43.72953696742431|11.33004...                  3   \n",
       "3   11.329899175813209 43.72961906004278|11.33004...                  1   \n",
       "4   11.329899073264464 43.729650480155186|11.3300...                  0   \n",
       "\n",
       "    totalLaneLinesOnRight  distFromLaneLineOnLeft  distFromLaneLineOnRight  \\\n",
       "0                       2             5.655398294               3.49899823   \n",
       "1                       0             3.685959755                            \n",
       "2                       1              3.49899823              3.685959755   \n",
       "3                       3             3.481580911              5.655398294   \n",
       "4                       4                                      3.481580911   \n",
       "\n",
       "    laneLineLength   roadLength   noOfIntersectingLaneLinesLeft  \\\n",
       "0        12.054597    12.056004                               0   \n",
       "1        12.060141    12.056004                               0   \n",
       "2        12.052468    12.056004                               0   \n",
       "3        12.046642    12.056004                               0   \n",
       "4        12.054345    12.056004                               0   \n",
       "\n",
       "    noOfIntersectingLaneLinesRight  isIntersectingWithRoadGeometry  \\\n",
       "0                                0                           false   \n",
       "1                                0                           false   \n",
       "2                                0                           false   \n",
       "3                                0                           false   \n",
       "4                                0                           false   \n",
       "\n",
       "    roadCategory  \n",
       "0              1  \n",
       "1              1  \n",
       "2              1  \n",
       "3              1  \n",
       "4              1  "
      ]
     },
     "execution_count": 87,
     "metadata": {},
     "output_type": "execute_result"
    }
   ],
   "source": [
    "test.head()"
   ]
  },
  {
   "cell_type": "code",
   "execution_count": 88,
   "metadata": {
    "collapsed": false
   },
   "outputs": [
    {
     "data": {
      "text/plain": [
       "Index(['roadId', ' totalLaneLines', ' laneLineId', ' laneLineCoordinates',\n",
       "       ' totalLinesOnLeft', ' totalLaneLinesOnRight',\n",
       "       ' distFromLaneLineOnLeft', ' distFromLaneLineOnRight',\n",
       "       ' laneLineLength', ' roadLength', ' noOfIntersectingLaneLinesLeft',\n",
       "       ' noOfIntersectingLaneLinesRight', ' isIntersectingWithRoadGeometry',\n",
       "       ' roadCategory'],\n",
       "      dtype='object')"
      ]
     },
     "execution_count": 88,
     "metadata": {},
     "output_type": "execute_result"
    }
   ],
   "source": [
    "test.columns"
   ]
  },
  {
   "cell_type": "code",
   "execution_count": 89,
   "metadata": {
    "collapsed": true
   },
   "outputs": [],
   "source": [
    "test.columns = temp"
   ]
  },
  {
   "cell_type": "code",
   "execution_count": 90,
   "metadata": {
    "collapsed": false
   },
   "outputs": [
    {
     "data": {
      "text/plain": [
       "roadId                              int64\n",
       "totalLaneLines                      int64\n",
       "laneLineId                         object\n",
       "laneLineCoordinates                object\n",
       "totalLinesOnLeft                    int64\n",
       "totalLaneLinesOnRight               int64\n",
       "distFromLaneLineOnLeft             object\n",
       "distFromLaneLineOnRight            object\n",
       "laneLineLength                    float64\n",
       "roadLength                        float64\n",
       "noOfIntersectingLaneLinesLeft       int64\n",
       "noOfIntersectingLaneLinesRight      int64\n",
       "isIntersectingWithRoadGeometry     object\n",
       "roadCategory                        int64\n",
       "dtype: object"
      ]
     },
     "execution_count": 90,
     "metadata": {},
     "output_type": "execute_result"
    }
   ],
   "source": [
    "test.dtypes"
   ]
  },
  {
   "cell_type": "code",
   "execution_count": 91,
   "metadata": {
    "collapsed": false
   },
   "outputs": [
    {
     "data": {
      "text/plain": [
       "count    2078.000000\n",
       "mean        3.761568\n",
       "std        25.021110\n",
       "min         0.000725\n",
       "25%         0.570815\n",
       "50%         3.337434\n",
       "75%         3.732401\n",
       "max       845.963451\n",
       "Name: distFromLaneLineOnRight, dtype: float64"
      ]
     },
     "execution_count": 91,
     "metadata": {},
     "output_type": "execute_result"
    }
   ],
   "source": [
    "test['distFromLaneLineOnRight'] = test['distFromLaneLineOnRight'].apply(lambda x:x.strip())\n",
    "test['distFromLaneLineOnRight'] = test['distFromLaneLineOnRight'].apply(lambda x:update(x))\n",
    "test['distFromLaneLineOnRight'].describe()"
   ]
  },
  {
   "cell_type": "code",
   "execution_count": 92,
   "metadata": {
    "collapsed": true
   },
   "outputs": [],
   "source": [
    "test['distFromLaneLineOnRight'] = test['distFromLaneLineOnRight'].fillna(3.270934)"
   ]
  },
  {
   "cell_type": "code",
   "execution_count": 93,
   "metadata": {
    "collapsed": false
   },
   "outputs": [
    {
     "data": {
      "text/plain": [
       "count    2493.000000\n",
       "mean        3.216512\n",
       "std         9.383941\n",
       "min         0.000725\n",
       "25%         0.862652\n",
       "50%         3.238623\n",
       "75%         3.684561\n",
       "max       280.428126\n",
       "Name: distFromLaneLineOnLeft, dtype: float64"
      ]
     },
     "execution_count": 93,
     "metadata": {},
     "output_type": "execute_result"
    }
   ],
   "source": [
    "test['distFromLaneLineOnLeft'] = test['distFromLaneLineOnLeft'].apply(lambda x:x.strip())\n",
    "test['distFromLaneLineOnLeft'] = test['distFromLaneLineOnLeft'].apply(lambda x:update(x))\n",
    "test['distFromLaneLineOnLeft'] = test['distFromLaneLineOnLeft'].fillna(3.238623)\n",
    "test['distFromLaneLineOnLeft'].describe()"
   ]
  },
  {
   "cell_type": "code",
   "execution_count": 94,
   "metadata": {
    "collapsed": true
   },
   "outputs": [],
   "source": [
    "test['isIntersectingWithRoadGeometry'] = pd.Series(np.where(test.isIntersectingWithRoadGeometry.values == 'true', 1, 0),test.index)"
   ]
  },
  {
   "cell_type": "code",
   "execution_count": 95,
   "metadata": {
    "collapsed": false
   },
   "outputs": [
    {
     "data": {
      "text/plain": [
       "roadId                              int64\n",
       "totalLaneLines                      int64\n",
       "laneLineId                         object\n",
       "laneLineCoordinates                object\n",
       "totalLinesOnLeft                    int64\n",
       "totalLaneLinesOnRight               int64\n",
       "distFromLaneLineOnLeft            float64\n",
       "distFromLaneLineOnRight           float64\n",
       "laneLineLength                    float64\n",
       "roadLength                        float64\n",
       "noOfIntersectingLaneLinesLeft       int64\n",
       "noOfIntersectingLaneLinesRight      int64\n",
       "isIntersectingWithRoadGeometry      int32\n",
       "roadCategory                        int64\n",
       "dtype: object"
      ]
     },
     "execution_count": 95,
     "metadata": {},
     "output_type": "execute_result"
    }
   ],
   "source": [
    "test.dtypes"
   ]
  },
  {
   "cell_type": "code",
   "execution_count": 96,
   "metadata": {
    "collapsed": true
   },
   "outputs": [],
   "source": [
    "test.to_csv('updated_test.csv',index=False)\n",
    "train.to_csv('updated_train.csv',index=False)"
   ]
  },
  {
   "cell_type": "code",
   "execution_count": 71,
   "metadata": {
    "collapsed": false
   },
   "outputs": [],
   "source": [
    "train.columns = ['roadId', 'totalLaneLines', 'laneLineId', 'laneLineCoordinates',\n",
    "       'totalLinesOnLeft', 'totalLaneLinesOnRight', 'distFromLaneLineOnLeft',\n",
    "       'distFromLaneLineOnRight', 'laneLineLength', 'roadLength',\n",
    "       'noOfIntersectingLaneLinesLeft', 'noOfIntersectingLaneLinesRight',\n",
    "       'isIntersectingWithRoadGeometry', 'roadCategory', 'roadCoordinates',\n",
    "       'noOfLanes']"
   ]
  },
  {
   "cell_type": "code",
   "execution_count": 73,
   "metadata": {
    "collapsed": false
   },
   "outputs": [
    {
     "data": {
      "text/plain": [
       "count    28914.000000\n",
       "mean         2.782458\n",
       "std          1.062689\n",
       "min          1.000000\n",
       "25%          2.000000\n",
       "50%          3.000000\n",
       "75%          3.000000\n",
       "max          6.000000\n",
       "Name: noOfLanes, dtype: float64"
      ]
     },
     "execution_count": 73,
     "metadata": {},
     "output_type": "execute_result"
    }
   ],
   "source": [
    "train['noOfLanes'].describe()"
   ]
  },
  {
   "cell_type": "code",
   "execution_count": 68,
   "metadata": {
    "collapsed": true
   },
   "outputs": [],
   "source": [
    "import os\n",
    "mingw_path = 'C:\\\\Program Files\\\\mingw-w64\\\\x86_64-6.3.0-posix-seh-rt_v5-rev1\\\\mingw64\\\\bin'\n",
    "os.environ['PATH'] = mingw_path + ';' + os.environ['PATH']\n",
    "from xgboost.sklearn import XGBClassifier"
   ]
  },
  {
   "cell_type": "code",
   "execution_count": 77,
   "metadata": {
    "collapsed": false
   },
   "outputs": [
    {
     "data": {
      "text/plain": [
       "roadId                              int64\n",
       "totalLaneLines                      int64\n",
       "laneLineId                         object\n",
       "laneLineCoordinates                object\n",
       "totalLinesOnLeft                    int64\n",
       "totalLaneLinesOnRight               int64\n",
       "distFromLaneLineOnLeft            float64\n",
       "distFromLaneLineOnRight           float64\n",
       "laneLineLength                    float64\n",
       "roadLength                        float64\n",
       "noOfIntersectingLaneLinesLeft       int64\n",
       "noOfIntersectingLaneLinesRight      int64\n",
       "isIntersectingWithRoadGeometry      int32\n",
       "roadCategory                        int64\n",
       "roadCoordinates                    object\n",
       "noOfLanes                           int64\n",
       "dtype: object"
      ]
     },
     "execution_count": 77,
     "metadata": {},
     "output_type": "execute_result"
    }
   ],
   "source": [
    "train.dtypes"
   ]
  },
  {
   "cell_type": "code",
   "execution_count": 105,
   "metadata": {
    "collapsed": false
   },
   "outputs": [
    {
     "data": {
      "text/plain": [
       "0    X3177248677\n",
       "1    13177248677\n",
       "2    23177248677\n",
       "3    X3177248677\n",
       "4    13177248677\n",
       "Name: laneLineId, dtype: object"
      ]
     },
     "execution_count": 105,
     "metadata": {},
     "output_type": "execute_result"
    }
   ],
   "source": [
    "train['laneLineId'].head()"
   ]
  },
  {
   "cell_type": "code",
   "execution_count": 116,
   "metadata": {
    "collapsed": false
   },
   "outputs": [
    {
     "data": {
      "text/plain": [
       "23177248677"
      ]
     },
     "execution_count": 116,
     "metadata": {},
     "output_type": "execute_result"
    }
   ],
   "source": [
    "x = '23177248677'\n",
    "x = x.replace('X','1')\n",
    "int(x)"
   ]
  },
  {
   "cell_type": "code",
   "execution_count": 117,
   "metadata": {
    "collapsed": true
   },
   "outputs": [],
   "source": [
    "def upd(x):\n",
    "    x = x.replace('X','1')\n",
    "    return float(x)"
   ]
  },
  {
   "cell_type": "code",
   "execution_count": 118,
   "metadata": {
    "collapsed": false
   },
   "outputs": [],
   "source": [
    "train['laneLineId'] = train['laneLineId'].apply(lambda x:upd(x))"
   ]
  },
  {
   "cell_type": "code",
   "execution_count": 119,
   "metadata": {
    "collapsed": true
   },
   "outputs": [],
   "source": [
    "test['laneLineId'] = test['laneLineId'].apply(lambda x:upd(x))"
   ]
  },
  {
   "cell_type": "code",
   "execution_count": 120,
   "metadata": {
    "collapsed": false
   },
   "outputs": [
    {
     "data": {
      "text/plain": [
       "Index(['roadId', 'totalLaneLines', 'laneLineId', 'laneLineCoordinates',\n",
       "       'totalLinesOnLeft', 'totalLaneLinesOnRight', 'distFromLaneLineOnLeft',\n",
       "       'distFromLaneLineOnRight', 'laneLineLength', 'roadLength',\n",
       "       'noOfIntersectingLaneLinesLeft', 'noOfIntersectingLaneLinesRight',\n",
       "       'isIntersectingWithRoadGeometry', 'roadCategory', 'roadCoordinates',\n",
       "       'noOfLanes'],\n",
       "      dtype='object')"
      ]
     },
     "execution_count": 120,
     "metadata": {},
     "output_type": "execute_result"
    }
   ],
   "source": [
    "train.columns"
   ]
  },
  {
   "cell_type": "code",
   "execution_count": 121,
   "metadata": {
    "collapsed": false
   },
   "outputs": [
    {
     "data": {
      "text/plain": [
       "roadId                              int64\n",
       "totalLaneLines                      int64\n",
       "laneLineId                        float64\n",
       "laneLineCoordinates                object\n",
       "totalLinesOnLeft                    int64\n",
       "totalLaneLinesOnRight               int64\n",
       "distFromLaneLineOnLeft            float64\n",
       "distFromLaneLineOnRight           float64\n",
       "laneLineLength                    float64\n",
       "roadLength                        float64\n",
       "noOfIntersectingLaneLinesLeft       int64\n",
       "noOfIntersectingLaneLinesRight      int64\n",
       "isIntersectingWithRoadGeometry      int32\n",
       "roadCategory                        int64\n",
       "roadCoordinates                    object\n",
       "noOfLanes                           int64\n",
       "dtype: object"
      ]
     },
     "execution_count": 121,
     "metadata": {},
     "output_type": "execute_result"
    }
   ],
   "source": [
    "train.dtypes"
   ]
  },
  {
   "cell_type": "code",
   "execution_count": 140,
   "metadata": {
    "collapsed": false
   },
   "outputs": [
    {
     "data": {
      "text/plain": [
       "' 11.11747 49.43763|11.11753 49.43776|11.11761 49.43789|11.11767 49.43797'"
      ]
     },
     "execution_count": 140,
     "metadata": {},
     "output_type": "execute_result"
    }
   ],
   "source": [
    "x = train['roadCoordinates'][1]\n",
    "x"
   ]
  },
  {
   "cell_type": "code",
   "execution_count": 141,
   "metadata": {
    "collapsed": false
   },
   "outputs": [
    {
     "data": {
      "text/plain": [
       "4"
      ]
     },
     "execution_count": 141,
     "metadata": {},
     "output_type": "execute_result"
    }
   ],
   "source": [
    "x = train['roadCoordinates'][0]\n",
    "x = x.split('|')\n",
    "len(x)"
   ]
  },
  {
   "cell_type": "code",
   "execution_count": 138,
   "metadata": {
    "collapsed": true
   },
   "outputs": [],
   "source": [
    "def upd1(x):\n",
    "    x = x.split('|')\n",
    "    return len(x)"
   ]
  },
  {
   "cell_type": "code",
   "execution_count": 139,
   "metadata": {
    "collapsed": true
   },
   "outputs": [],
   "source": [
    "train['laneLineCoordinates'] = train['laneLineCoordinates'].apply(lambda x:upd1(x))"
   ]
  },
  {
   "cell_type": "code",
   "execution_count": 142,
   "metadata": {
    "collapsed": true
   },
   "outputs": [],
   "source": [
    "train['roadCoordinates'] = train['roadCoordinates'].apply(lambda x:upd1(x))"
   ]
  },
  {
   "cell_type": "code",
   "execution_count": 144,
   "metadata": {
    "collapsed": false
   },
   "outputs": [
    {
     "ename": "AttributeError",
     "evalue": "'int' object has no attribute 'split'",
     "output_type": "error",
     "traceback": [
      "\u001b[0;31m---------------------------------------------------------------------------\u001b[0m",
      "\u001b[0;31mAttributeError\u001b[0m                            Traceback (most recent call last)",
      "\u001b[0;32m<ipython-input-144-8f7d906e670a>\u001b[0m in \u001b[0;36m<module>\u001b[0;34m()\u001b[0m\n\u001b[0;32m----> 1\u001b[0;31m \u001b[0mtest\u001b[0m\u001b[1;33m[\u001b[0m\u001b[1;34m'laneLineCoordinates'\u001b[0m\u001b[1;33m]\u001b[0m \u001b[1;33m=\u001b[0m \u001b[0mtest\u001b[0m\u001b[1;33m[\u001b[0m\u001b[1;34m'laneLineCoordinates'\u001b[0m\u001b[1;33m]\u001b[0m\u001b[1;33m.\u001b[0m\u001b[0mapply\u001b[0m\u001b[1;33m(\u001b[0m\u001b[1;32mlambda\u001b[0m \u001b[0mx\u001b[0m\u001b[1;33m:\u001b[0m\u001b[0mupd1\u001b[0m\u001b[1;33m(\u001b[0m\u001b[0mx\u001b[0m\u001b[1;33m)\u001b[0m\u001b[1;33m)\u001b[0m\u001b[1;33m\u001b[0m\u001b[0m\n\u001b[0m",
      "\u001b[0;32mD:\\anaconda\\lib\\site-packages\\pandas\\core\\series.py\u001b[0m in \u001b[0;36mapply\u001b[0;34m(self, func, convert_dtype, args, **kwds)\u001b[0m\n\u001b[1;32m   2353\u001b[0m             \u001b[1;32melse\u001b[0m\u001b[1;33m:\u001b[0m\u001b[1;33m\u001b[0m\u001b[0m\n\u001b[1;32m   2354\u001b[0m                 \u001b[0mvalues\u001b[0m \u001b[1;33m=\u001b[0m \u001b[0mself\u001b[0m\u001b[1;33m.\u001b[0m\u001b[0masobject\u001b[0m\u001b[1;33m\u001b[0m\u001b[0m\n\u001b[0;32m-> 2355\u001b[0;31m                 \u001b[0mmapped\u001b[0m \u001b[1;33m=\u001b[0m \u001b[0mlib\u001b[0m\u001b[1;33m.\u001b[0m\u001b[0mmap_infer\u001b[0m\u001b[1;33m(\u001b[0m\u001b[0mvalues\u001b[0m\u001b[1;33m,\u001b[0m \u001b[0mf\u001b[0m\u001b[1;33m,\u001b[0m \u001b[0mconvert\u001b[0m\u001b[1;33m=\u001b[0m\u001b[0mconvert_dtype\u001b[0m\u001b[1;33m)\u001b[0m\u001b[1;33m\u001b[0m\u001b[0m\n\u001b[0m\u001b[1;32m   2356\u001b[0m \u001b[1;33m\u001b[0m\u001b[0m\n\u001b[1;32m   2357\u001b[0m         \u001b[1;32mif\u001b[0m \u001b[0mlen\u001b[0m\u001b[1;33m(\u001b[0m\u001b[0mmapped\u001b[0m\u001b[1;33m)\u001b[0m \u001b[1;32mand\u001b[0m \u001b[0misinstance\u001b[0m\u001b[1;33m(\u001b[0m\u001b[0mmapped\u001b[0m\u001b[1;33m[\u001b[0m\u001b[1;36m0\u001b[0m\u001b[1;33m]\u001b[0m\u001b[1;33m,\u001b[0m \u001b[0mSeries\u001b[0m\u001b[1;33m)\u001b[0m\u001b[1;33m:\u001b[0m\u001b[1;33m\u001b[0m\u001b[0m\n",
      "\u001b[0;32mpandas\\_libs\\src\\inference.pyx\u001b[0m in \u001b[0;36mpandas._libs.lib.map_infer (pandas\\_libs\\lib.c:66645)\u001b[0;34m()\u001b[0m\n",
      "\u001b[0;32m<ipython-input-144-8f7d906e670a>\u001b[0m in \u001b[0;36m<lambda>\u001b[0;34m(x)\u001b[0m\n\u001b[0;32m----> 1\u001b[0;31m \u001b[0mtest\u001b[0m\u001b[1;33m[\u001b[0m\u001b[1;34m'laneLineCoordinates'\u001b[0m\u001b[1;33m]\u001b[0m \u001b[1;33m=\u001b[0m \u001b[0mtest\u001b[0m\u001b[1;33m[\u001b[0m\u001b[1;34m'laneLineCoordinates'\u001b[0m\u001b[1;33m]\u001b[0m\u001b[1;33m.\u001b[0m\u001b[0mapply\u001b[0m\u001b[1;33m(\u001b[0m\u001b[1;32mlambda\u001b[0m \u001b[0mx\u001b[0m\u001b[1;33m:\u001b[0m\u001b[0mupd1\u001b[0m\u001b[1;33m(\u001b[0m\u001b[0mx\u001b[0m\u001b[1;33m)\u001b[0m\u001b[1;33m)\u001b[0m\u001b[1;33m\u001b[0m\u001b[0m\n\u001b[0m",
      "\u001b[0;32m<ipython-input-138-268e2ede429f>\u001b[0m in \u001b[0;36mupd1\u001b[0;34m(x)\u001b[0m\n\u001b[1;32m      1\u001b[0m \u001b[1;32mdef\u001b[0m \u001b[0mupd1\u001b[0m\u001b[1;33m(\u001b[0m\u001b[0mx\u001b[0m\u001b[1;33m)\u001b[0m\u001b[1;33m:\u001b[0m\u001b[1;33m\u001b[0m\u001b[0m\n\u001b[0;32m----> 2\u001b[0;31m     \u001b[0mx\u001b[0m \u001b[1;33m=\u001b[0m \u001b[0mx\u001b[0m\u001b[1;33m.\u001b[0m\u001b[0msplit\u001b[0m\u001b[1;33m(\u001b[0m\u001b[1;34m'|'\u001b[0m\u001b[1;33m)\u001b[0m\u001b[1;33m\u001b[0m\u001b[0m\n\u001b[0m\u001b[1;32m      3\u001b[0m     \u001b[1;32mreturn\u001b[0m \u001b[0mlen\u001b[0m\u001b[1;33m(\u001b[0m\u001b[0mx\u001b[0m\u001b[1;33m)\u001b[0m\u001b[1;33m\u001b[0m\u001b[0m\n",
      "\u001b[0;31mAttributeError\u001b[0m: 'int' object has no attribute 'split'"
     ]
    }
   ],
   "source": [
    "test['laneLineCoordinates'] = test['laneLineCoordinates'].apply(lambda x:upd1(x))"
   ]
  },
  {
   "cell_type": "code",
   "execution_count": 154,
   "metadata": {
    "collapsed": false
   },
   "outputs": [
    {
     "data": {
      "text/plain": [
       "roadId                              int64\n",
       "totalLaneLines                      int64\n",
       "laneLineId                        float64\n",
       "laneLineCoordinates                 int64\n",
       "totalLinesOnLeft                    int64\n",
       "totalLaneLinesOnRight               int64\n",
       "distFromLaneLineOnLeft            float64\n",
       "distFromLaneLineOnRight           float64\n",
       "laneLineLength                    float64\n",
       "roadLength                        float64\n",
       "noOfIntersectingLaneLinesLeft       int64\n",
       "noOfIntersectingLaneLinesRight      int64\n",
       "isIntersectingWithRoadGeometry      int32\n",
       "roadCategory                        int64\n",
       "dtype: object"
      ]
     },
     "execution_count": 154,
     "metadata": {},
     "output_type": "execute_result"
    }
   ],
   "source": [
    "test.dtypes"
   ]
  },
  {
   "cell_type": "code",
   "execution_count": 147,
   "metadata": {
    "collapsed": false
   },
   "outputs": [
    {
     "data": {
      "text/plain": [
       "Index(['roadId', 'totalLaneLines', 'laneLineId', 'laneLineCoordinates',\n",
       "       'totalLinesOnLeft', 'totalLaneLinesOnRight', 'distFromLaneLineOnLeft',\n",
       "       'distFromLaneLineOnRight', 'laneLineLength', 'roadLength',\n",
       "       'noOfIntersectingLaneLinesLeft', 'noOfIntersectingLaneLinesRight',\n",
       "       'isIntersectingWithRoadGeometry', 'roadCategory'],\n",
       "      dtype='object')"
      ]
     },
     "execution_count": 147,
     "metadata": {},
     "output_type": "execute_result"
    }
   ],
   "source": [
    "test.columns"
   ]
  },
  {
   "cell_type": "code",
   "execution_count": 155,
   "metadata": {
    "collapsed": false
   },
   "outputs": [
    {
     "data": {
      "text/plain": [
       "Index(['roadId', 'totalLaneLines', 'laneLineId', 'laneLineCoordinates',\n",
       "       'totalLinesOnLeft', 'totalLaneLinesOnRight', 'distFromLaneLineOnLeft',\n",
       "       'distFromLaneLineOnRight', 'laneLineLength', 'roadLength',\n",
       "       'noOfIntersectingLaneLinesLeft', 'noOfIntersectingLaneLinesRight',\n",
       "       'isIntersectingWithRoadGeometry', 'roadCategory', 'roadCoordinates',\n",
       "       'noOfLanes'],\n",
       "      dtype='object')"
      ]
     },
     "execution_count": 155,
     "metadata": {},
     "output_type": "execute_result"
    }
   ],
   "source": [
    "train.columns"
   ]
  },
  {
   "cell_type": "code",
   "execution_count": 156,
   "metadata": {
    "collapsed": true
   },
   "outputs": [],
   "source": [
    "features =  ['roadId', 'totalLaneLines', 'laneLineId',\n",
    "       'totalLinesOnLeft', 'totalLaneLinesOnRight', 'distFromLaneLineOnLeft',\n",
    "       'distFromLaneLineOnRight', 'laneLineLength', 'roadLength',\n",
    "       'noOfIntersectingLaneLinesLeft', 'noOfIntersectingLaneLinesRight',\n",
    "       'isIntersectingWithRoadGeometry', 'roadCategory']"
   ]
  },
  {
   "cell_type": "code",
   "execution_count": 157,
   "metadata": {
    "collapsed": true
   },
   "outputs": [],
   "source": [
    "xgb = XGBClassifier(learning_rate =0.01, n_estimators=1000, max_depth=6,\n",
    "                    min_child_weight=7, gamma=0.01, subsample=0.8, colsample_bytree=0.8,\n",
    "                    objective= 'multi:softmax', nthread=4, seed=2017)"
   ]
  },
  {
   "cell_type": "code",
   "execution_count": 158,
   "metadata": {
    "collapsed": false
   },
   "outputs": [
    {
     "data": {
      "text/plain": [
       "XGBClassifier(base_score=0.5, booster='gbtree', colsample_bylevel=1,\n",
       "       colsample_bytree=0.8, gamma=0.01, learning_rate=0.01,\n",
       "       max_delta_step=0, max_depth=6, min_child_weight=7, missing=None,\n",
       "       n_estimators=1000, nthread=4, objective='multi:softprob',\n",
       "       reg_alpha=0, reg_lambda=1, scale_pos_weight=1, seed=2017,\n",
       "       silent=True, subsample=0.8)"
      ]
     },
     "execution_count": 158,
     "metadata": {},
     "output_type": "execute_result"
    }
   ],
   "source": [
    "xgb.fit(train[features],train['noOfLanes'])"
   ]
  },
  {
   "cell_type": "code",
   "execution_count": 159,
   "metadata": {
    "collapsed": false
   },
   "outputs": [
    {
     "data": {
      "text/plain": [
       "<matplotlib.axes._subplots.AxesSubplot at 0x28480370438>"
      ]
     },
     "execution_count": 159,
     "metadata": {},
     "output_type": "execute_result"
    },
    {
     "data": {
      "image/png": "[encoded data removed]",
      "text/plain": [
       "<matplotlib.figure.Figure at 0x2848545c080>"
      ]
     },
     "metadata": {},
     "output_type": "display_data"
    }
   ],
   "source": [
    "feature_importance = pd.Series(xgb.feature_importances_)\n",
    "feature_ser = pd.Series(features)\n",
    "lis = pd.Series(feature_importance.values,index = feature_ser)\n",
    "lis = sorted(lis.items(),key =lambda x:(-x[1],x[0]))\n",
    "df = pd.DataFrame(lis, columns=['Feature', 'Importance'])\n",
    "df.plot(kind='bar',x='Feature',figsize=(15,10))"
   ]
  },
  {
   "cell_type": "code",
   "execution_count": 97,
   "metadata": {
    "collapsed": false
   },
   "outputs": [
    {
     "data": {
      "text/html": [
       "<div>\n",
       "<style>\n",
       "    .dataframe thead tr:only-child th {\n",
       "        text-align: right;\n",
       "    }\n",
       "\n",
       "    .dataframe thead th {\n",
       "        text-align: left;\n",
       "    }\n",
       "\n",
       "    .dataframe tbody tr th {\n",
       "        vertical-align: top;\n",
       "    }\n",
       "</style>\n",
       "<table border=\"1\" class=\"dataframe\">\n",
       "  <thead>\n",
       "    <tr style=\"text-align: right;\">\n",
       "      <th></th>\n",
       "      <th>roadId</th>\n",
       "      <th>totalLaneLines</th>\n",
       "      <th>laneLineId</th>\n",
       "      <th>laneLineCoordinates</th>\n",
       "      <th>totalLinesOnLeft</th>\n",
       "      <th>totalLaneLinesOnRight</th>\n",
       "      <th>distFromLaneLineOnLeft</th>\n",
       "      <th>distFromLaneLineOnRight</th>\n",
       "      <th>laneLineLength</th>\n",
       "      <th>roadLength</th>\n",
       "      <th>noOfIntersectingLaneLinesLeft</th>\n",
       "      <th>noOfIntersectingLaneLinesRight</th>\n",
       "      <th>isIntersectingWithRoadGeometry</th>\n",
       "      <th>roadCategory</th>\n",
       "    </tr>\n",
       "  </thead>\n",
       "  <tbody>\n",
       "    <tr>\n",
       "      <th>0</th>\n",
       "      <td>291531296</td>\n",
       "      <td>5</td>\n",
       "      <td>X291531296</td>\n",
       "      <td>11.329899604343693 43.72956824243773|11.33004...</td>\n",
       "      <td>2</td>\n",
       "      <td>2</td>\n",
       "      <td>5.655398</td>\n",
       "      <td>3.498998</td>\n",
       "      <td>12.054597</td>\n",
       "      <td>12.056004</td>\n",
       "      <td>0</td>\n",
       "      <td>0</td>\n",
       "      <td>0</td>\n",
       "      <td>1</td>\n",
       "    </tr>\n",
       "    <tr>\n",
       "      <th>1</th>\n",
       "      <td>291531296</td>\n",
       "      <td>5</td>\n",
       "      <td>1291531296</td>\n",
       "      <td>11.329900151795446 43.729503478051974|11.3300...</td>\n",
       "      <td>4</td>\n",
       "      <td>0</td>\n",
       "      <td>3.685960</td>\n",
       "      <td>3.270934</td>\n",
       "      <td>12.060141</td>\n",
       "      <td>12.056004</td>\n",
       "      <td>0</td>\n",
       "      <td>0</td>\n",
       "      <td>0</td>\n",
       "      <td>1</td>\n",
       "    </tr>\n",
       "    <tr>\n",
       "      <th>2</th>\n",
       "      <td>291531296</td>\n",
       "      <td>5</td>\n",
       "      <td>2291531296</td>\n",
       "      <td>11.329899913660833 43.72953696742431|11.33004...</td>\n",
       "      <td>3</td>\n",
       "      <td>1</td>\n",
       "      <td>3.498998</td>\n",
       "      <td>3.685960</td>\n",
       "      <td>12.052468</td>\n",
       "      <td>12.056004</td>\n",
       "      <td>0</td>\n",
       "      <td>0</td>\n",
       "      <td>0</td>\n",
       "      <td>1</td>\n",
       "    </tr>\n",
       "    <tr>\n",
       "      <th>3</th>\n",
       "      <td>291531296</td>\n",
       "      <td>5</td>\n",
       "      <td>3291531296</td>\n",
       "      <td>11.329899175813209 43.72961906004278|11.33004...</td>\n",
       "      <td>1</td>\n",
       "      <td>3</td>\n",
       "      <td>3.481581</td>\n",
       "      <td>5.655398</td>\n",
       "      <td>12.046642</td>\n",
       "      <td>12.056004</td>\n",
       "      <td>0</td>\n",
       "      <td>0</td>\n",
       "      <td>0</td>\n",
       "      <td>1</td>\n",
       "    </tr>\n",
       "    <tr>\n",
       "      <th>4</th>\n",
       "      <td>291531296</td>\n",
       "      <td>5</td>\n",
       "      <td>4291531296</td>\n",
       "      <td>11.329899073264464 43.729650480155186|11.3300...</td>\n",
       "      <td>0</td>\n",
       "      <td>4</td>\n",
       "      <td>3.238623</td>\n",
       "      <td>3.481581</td>\n",
       "      <td>12.054345</td>\n",
       "      <td>12.056004</td>\n",
       "      <td>0</td>\n",
       "      <td>0</td>\n",
       "      <td>0</td>\n",
       "      <td>1</td>\n",
       "    </tr>\n",
       "  </tbody>\n",
       "</table>\n",
       "</div>"
      ],
      "text/plain": [
       "      roadId  totalLaneLines  laneLineId  \\\n",
       "0  291531296               5  X291531296   \n",
       "1  291531296               5  1291531296   \n",
       "2  291531296               5  2291531296   \n",
       "3  291531296               5  3291531296   \n",
       "4  291531296               5  4291531296   \n",
       "\n",
       "                                 laneLineCoordinates  totalLinesOnLeft  \\\n",
       "0   11.329899604343693 43.72956824243773|11.33004...                 2   \n",
       "1   11.329900151795446 43.729503478051974|11.3300...                 4   \n",
       "2   11.329899913660833 43.72953696742431|11.33004...                 3   \n",
       "3   11.329899175813209 43.72961906004278|11.33004...                 1   \n",
       "4   11.329899073264464 43.729650480155186|11.3300...                 0   \n",
       "\n",
       "   totalLaneLinesOnRight  distFromLaneLineOnLeft  distFromLaneLineOnRight  \\\n",
       "0                      2                5.655398                 3.498998   \n",
       "1                      0                3.685960                 3.270934   \n",
       "2                      1                3.498998                 3.685960   \n",
       "3                      3                3.481581                 5.655398   \n",
       "4                      4                3.238623                 3.481581   \n",
       "\n",
       "   laneLineLength  roadLength  noOfIntersectingLaneLinesLeft  \\\n",
       "0       12.054597   12.056004                              0   \n",
       "1       12.060141   12.056004                              0   \n",
       "2       12.052468   12.056004                              0   \n",
       "3       12.046642   12.056004                              0   \n",
       "4       12.054345   12.056004                              0   \n",
       "\n",
       "   noOfIntersectingLaneLinesRight  isIntersectingWithRoadGeometry  \\\n",
       "0                               0                               0   \n",
       "1                               0                               0   \n",
       "2                               0                               0   \n",
       "3                               0                               0   \n",
       "4                               0                               0   \n",
       "\n",
       "   roadCategory  \n",
       "0             1  \n",
       "1             1  \n",
       "2             1  \n",
       "3             1  \n",
       "4             1  "
      ]
     },
     "execution_count": 97,
     "metadata": {},
     "output_type": "execute_result"
    }
   ],
   "source": [
    "test.head()"
   ]
  },
  {
   "cell_type": "code",
   "execution_count": 160,
   "metadata": {
    "collapsed": false
   },
   "outputs": [
    {
     "name": "stdout",
     "output_type": "stream",
     "text": [
      "prediction is done\n"
     ]
    }
   ],
   "source": [
    "pred = xgb.predict(test[features])\n",
    "print('prediction is done')"
   ]
  },
  {
   "cell_type": "code",
   "execution_count": 99,
   "metadata": {
    "collapsed": false
   },
   "outputs": [
    {
     "data": {
      "text/plain": [
       "array([4, 4, 4, ..., 3, 4, 2], dtype=int64)"
      ]
     },
     "execution_count": 99,
     "metadata": {},
     "output_type": "execute_result"
    }
   ],
   "source": [
    "pred"
   ]
  },
  {
   "cell_type": "code",
   "execution_count": 161,
   "metadata": {
    "collapsed": false
   },
   "outputs": [
    {
     "name": "stdout",
     "output_type": "stream",
     "text": [
      "writting is done.\n"
     ]
    }
   ],
   "source": [
    "sub = pd.DataFrame()\n",
    "sub['roadId'] = test['roadId']\n",
    "sub['noOfLanes'] = pred\n",
    "sub.to_csv('xgb.csv', index=False)\n",
    "print('writting is done.')"
   ]
  }
 ],
 "metadata": {
  "anaconda-cloud": {},
  "kernelspec": {
   "display_name": "Python [conda root]",
   "language": "python",
   "name": "conda-root-py"
  },
  "language_info": {
   "codemirror_mode": {
    "name": "ipython",
    "version": 3
   },
   "file_extension": ".py",
   "mimetype": "text/x-python",
   "name": "python",
   "nbconvert_exporter": "python",
   "pygments_lexer": "ipython3",
   "version": "3.5.2"
  }
 },
 "nbformat": 4,
 "nbformat_minor": 1
}
