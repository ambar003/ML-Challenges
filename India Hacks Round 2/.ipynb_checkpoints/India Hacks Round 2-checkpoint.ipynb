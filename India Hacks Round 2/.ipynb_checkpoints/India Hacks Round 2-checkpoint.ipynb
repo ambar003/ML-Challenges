{
 "cells": [
  {
   "cell_type": "code",
   "execution_count": 1,
   "metadata": {
    "collapsed": true
   },
   "outputs": [],
   "source": [
    "import pandas as pd\n",
    "import numpy as np"
   ]
  },
  {
   "cell_type": "code",
   "execution_count": 2,
   "metadata": {
    "collapsed": false
   },
   "outputs": [
    {
     "data": {
      "text/html": [
       "<div>\n",
       "<style>\n",
       "    .dataframe thead tr:only-child th {\n",
       "        text-align: right;\n",
       "    }\n",
       "\n",
       "    .dataframe thead th {\n",
       "        text-align: left;\n",
       "    }\n",
       "\n",
       "    .dataframe tbody tr th {\n",
       "        vertical-align: top;\n",
       "    }\n",
       "</style>\n",
       "<table border=\"1\" class=\"dataframe\">\n",
       "  <thead>\n",
       "    <tr style=\"text-align: right;\">\n",
       "      <th></th>\n",
       "      <th>roadId</th>\n",
       "      <th>totalLaneLines</th>\n",
       "      <th>laneLineId</th>\n",
       "      <th>laneLineCoordinates</th>\n",
       "      <th>totalLinesOnLeft</th>\n",
       "      <th>totalLaneLinesOnRight</th>\n",
       "      <th>distFromLaneLineOnLeft</th>\n",
       "      <th>distFromLaneLineOnRight</th>\n",
       "      <th>laneLineLength</th>\n",
       "      <th>roadLength</th>\n",
       "      <th>noOfIntersectingLaneLinesLeft</th>\n",
       "      <th>noOfIntersectingLaneLinesRight</th>\n",
       "      <th>isIntersectingWithRoadGeometry</th>\n",
       "      <th>roadCategory</th>\n",
       "    </tr>\n",
       "  </thead>\n",
       "  <tbody>\n",
       "    <tr>\n",
       "      <th>0</th>\n",
       "      <td>3177248677</td>\n",
       "      <td>3</td>\n",
       "      <td>X3177248677</td>\n",
       "      <td>11.117636626741222 49.43799310961545|11.11761...</td>\n",
       "      <td>2</td>\n",
       "      <td>0</td>\n",
       "      <td>3.863433276</td>\n",
       "      <td></td>\n",
       "      <td>4.396337</td>\n",
       "      <td>40.570710</td>\n",
       "      <td>0</td>\n",
       "      <td>0</td>\n",
       "      <td>false</td>\n",
       "      <td>2</td>\n",
       "    </tr>\n",
       "    <tr>\n",
       "      <th>1</th>\n",
       "      <td>3177248677</td>\n",
       "      <td>3</td>\n",
       "      <td>13177248677</td>\n",
       "      <td>11.11771009862968 49.43794191822495|11.117697...</td>\n",
       "      <td>0</td>\n",
       "      <td>2</td>\n",
       "      <td></td>\n",
       "      <td>3.740901458</td>\n",
       "      <td>37.316844</td>\n",
       "      <td>40.570710</td>\n",
       "      <td>0</td>\n",
       "      <td>0</td>\n",
       "      <td>false</td>\n",
       "      <td>2</td>\n",
       "    </tr>\n",
       "    <tr>\n",
       "      <th>2</th>\n",
       "      <td>3177248677</td>\n",
       "      <td>3</td>\n",
       "      <td>23177248677</td>\n",
       "      <td>11.117673197144772 49.43796782435575|11.11765...</td>\n",
       "      <td>1</td>\n",
       "      <td>1</td>\n",
       "      <td>3.740901458</td>\n",
       "      <td>3.863433276</td>\n",
       "      <td>40.365319</td>\n",
       "      <td>40.570710</td>\n",
       "      <td>0</td>\n",
       "      <td>0</td>\n",
       "      <td>true</td>\n",
       "      <td>2</td>\n",
       "    </tr>\n",
       "    <tr>\n",
       "      <th>3</th>\n",
       "      <td>3177248676</td>\n",
       "      <td>9</td>\n",
       "      <td>X3177248676</td>\n",
       "      <td>11.11742645905593 49.437419830658655|11.11740...</td>\n",
       "      <td>3</td>\n",
       "      <td>5</td>\n",
       "      <td>4.634520764</td>\n",
       "      <td>1.727115052</td>\n",
       "      <td>18.177112</td>\n",
       "      <td>207.655745</td>\n",
       "      <td>0</td>\n",
       "      <td>0</td>\n",
       "      <td>false</td>\n",
       "      <td>2</td>\n",
       "    </tr>\n",
       "    <tr>\n",
       "      <th>4</th>\n",
       "      <td>3177248676</td>\n",
       "      <td>9</td>\n",
       "      <td>13177248676</td>\n",
       "      <td>11.117117406584201 49.43662220739599|11.11710...</td>\n",
       "      <td>1</td>\n",
       "      <td>7</td>\n",
       "      <td>5.783676541</td>\n",
       "      <td>1.727115052</td>\n",
       "      <td>95.552747</td>\n",
       "      <td>207.655745</td>\n",
       "      <td>0</td>\n",
       "      <td>0</td>\n",
       "      <td>false</td>\n",
       "      <td>2</td>\n",
       "    </tr>\n",
       "  </tbody>\n",
       "</table>\n",
       "</div>"
      ],
      "text/plain": [
       "       roadId   totalLaneLines   laneLineId  \\\n",
       "0  3177248677                3  X3177248677   \n",
       "1  3177248677                3  13177248677   \n",
       "2  3177248677                3  23177248677   \n",
       "3  3177248676                9  X3177248676   \n",
       "4  3177248676                9  13177248676   \n",
       "\n",
       "                                 laneLineCoordinates   totalLinesOnLeft  \\\n",
       "0   11.117636626741222 49.43799310961545|11.11761...                  2   \n",
       "1   11.11771009862968 49.43794191822495|11.117697...                  0   \n",
       "2   11.117673197144772 49.43796782435575|11.11765...                  1   \n",
       "3   11.11742645905593 49.437419830658655|11.11740...                  3   \n",
       "4   11.117117406584201 49.43662220739599|11.11710...                  1   \n",
       "\n",
       "    totalLaneLinesOnRight  distFromLaneLineOnLeft  distFromLaneLineOnRight  \\\n",
       "0                       0             3.863433276                            \n",
       "1                       2                                      3.740901458   \n",
       "2                       1             3.740901458              3.863433276   \n",
       "3                       5             4.634520764              1.727115052   \n",
       "4                       7             5.783676541              1.727115052   \n",
       "\n",
       "    laneLineLength   roadLength   noOfIntersectingLaneLinesLeft  \\\n",
       "0         4.396337    40.570710                               0   \n",
       "1        37.316844    40.570710                               0   \n",
       "2        40.365319    40.570710                               0   \n",
       "3        18.177112   207.655745                               0   \n",
       "4        95.552747   207.655745                               0   \n",
       "\n",
       "    noOfIntersectingLaneLinesRight  isIntersectingWithRoadGeometry  \\\n",
       "0                                0                           false   \n",
       "1                                0                           false   \n",
       "2                                0                            true   \n",
       "3                                0                           false   \n",
       "4                                0                           false   \n",
       "\n",
       "    roadCategory  \n",
       "0              2  \n",
       "1              2  \n",
       "2              2  \n",
       "3              2  \n",
       "4              2  "
      ]
     },
     "execution_count": 2,
     "metadata": {},
     "output_type": "execute_result"
    }
   ],
   "source": [
    "train = pd.read_csv('train.csv')\n",
    "train.head()"
   ]
  },
  {
   "cell_type": "code",
   "execution_count": 8,
   "metadata": {
    "collapsed": false
   },
   "outputs": [
    {
     "data": {
      "text/plain": [
       "['roadId',\n",
       " 'totalLaneLines',\n",
       " 'laneLineId',\n",
       " 'laneLineCoordinates',\n",
       " 'totalLinesOnLeft',\n",
       " 'totalLaneLinesOnRight',\n",
       " 'distFromLaneLineOnLeft',\n",
       " 'distFromLaneLineOnRight',\n",
       " 'laneLineLength',\n",
       " 'roadLength',\n",
       " 'noOfIntersectingLaneLinesLeft',\n",
       " 'noOfIntersectingLaneLinesRight',\n",
       " 'isIntersectingWithRoadGeometry',\n",
       " 'roadCategory']"
      ]
     },
     "execution_count": 8,
     "metadata": {},
     "output_type": "execute_result"
    }
   ],
   "source": [
    "lis = ['roadId', ' totalLaneLines', ' laneLineId', ' laneLineCoordinates',\n",
    "       ' totalLinesOnLeft', ' totalLaneLinesOnRight',\n",
    "       ' distFromLaneLineOnLeft', ' distFromLaneLineOnRight',\n",
    "       ' laneLineLength', ' roadLength', ' noOfIntersectingLaneLinesLeft',\n",
    "       ' noOfIntersectingLaneLinesRight', ' isIntersectingWithRoadGeometry',\n",
    "       ' roadCategory']\n",
    "temp=[]\n",
    "for i in lis:\n",
    "    temp.append(i.strip())\n",
    "temp    "
   ]
  },
  {
   "cell_type": "code",
   "execution_count": 9,
   "metadata": {
    "collapsed": false
   },
   "outputs": [],
   "source": [
    "train.columns = temp"
   ]
  },
  {
   "cell_type": "code",
   "execution_count": 11,
   "metadata": {
    "collapsed": false
   },
   "outputs": [
    {
     "data": {
      "text/plain": [
       "' '"
      ]
     },
     "execution_count": 11,
     "metadata": {},
     "output_type": "execute_result"
    }
   ],
   "source": [
    "train['distFromLaneLineOnLeft']"
   ]
  },
  {
   "cell_type": "code",
   "execution_count": 3,
   "metadata": {
    "collapsed": false
   },
   "outputs": [
    {
     "data": {
      "text/html": [
       "<div>\n",
       "<style>\n",
       "    .dataframe thead tr:only-child th {\n",
       "        text-align: right;\n",
       "    }\n",
       "\n",
       "    .dataframe thead th {\n",
       "        text-align: left;\n",
       "    }\n",
       "\n",
       "    .dataframe tbody tr th {\n",
       "        vertical-align: top;\n",
       "    }\n",
       "</style>\n",
       "<table border=\"1\" class=\"dataframe\">\n",
       "  <thead>\n",
       "    <tr style=\"text-align: right;\">\n",
       "      <th></th>\n",
       "      <th>roadId</th>\n",
       "      <th>roadCoordinates</th>\n",
       "      <th>noOfLanes</th>\n",
       "    </tr>\n",
       "  </thead>\n",
       "  <tbody>\n",
       "    <tr>\n",
       "      <th>0</th>\n",
       "      <td>6515927525</td>\n",
       "      <td>9.23293 48.99365|9.23295 48.99401|9.23298 48....</td>\n",
       "      <td>4</td>\n",
       "    </tr>\n",
       "    <tr>\n",
       "      <th>1</th>\n",
       "      <td>155088079</td>\n",
       "      <td>11.11117 49.43418|11.11175 49.43436</td>\n",
       "      <td>3</td>\n",
       "    </tr>\n",
       "    <tr>\n",
       "      <th>2</th>\n",
       "      <td>5943976193</td>\n",
       "      <td>11.00016 49.46831|10.9994 49.46849</td>\n",
       "      <td>2</td>\n",
       "    </tr>\n",
       "    <tr>\n",
       "      <th>3</th>\n",
       "      <td>4646422329</td>\n",
       "      <td>12.4417 55.62205|12.44144 55.62233</td>\n",
       "      <td>3</td>\n",
       "    </tr>\n",
       "    <tr>\n",
       "      <th>4</th>\n",
       "      <td>3059986881</td>\n",
       "      <td>11.10363 49.47368|11.10367 49.47377|11.10374 ...</td>\n",
       "      <td>3</td>\n",
       "    </tr>\n",
       "  </tbody>\n",
       "</table>\n",
       "</div>"
      ],
      "text/plain": [
       "       roadId                                    roadCoordinates   noOfLanes\n",
       "0  6515927525   9.23293 48.99365|9.23295 48.99401|9.23298 48....           4\n",
       "1   155088079                11.11117 49.43418|11.11175 49.43436           3\n",
       "2  5943976193                 11.00016 49.46831|10.9994 49.46849           2\n",
       "3  4646422329                 12.4417 55.62205|12.44144 55.62233           3\n",
       "4  3059986881   11.10363 49.47368|11.10367 49.47377|11.10374 ...           3"
      ]
     },
     "execution_count": 3,
     "metadata": {},
     "output_type": "execute_result"
    }
   ],
   "source": [
    "labels = pd.read_csv('labels.csv')\n",
    "labels.head()"
   ]
  },
  {
   "cell_type": "code",
   "execution_count": 13,
   "metadata": {
    "collapsed": false
   },
   "outputs": [],
   "source": [
    "train = pd.merge(train,labels,on='roadId')"
   ]
  },
  {
   "cell_type": "code",
   "execution_count": 14,
   "metadata": {
    "collapsed": false
   },
   "outputs": [
    {
     "data": {
      "text/html": [
       "<div>\n",
       "<style>\n",
       "    .dataframe thead tr:only-child th {\n",
       "        text-align: right;\n",
       "    }\n",
       "\n",
       "    .dataframe thead th {\n",
       "        text-align: left;\n",
       "    }\n",
       "\n",
       "    .dataframe tbody tr th {\n",
       "        vertical-align: top;\n",
       "    }\n",
       "</style>\n",
       "<table border=\"1\" class=\"dataframe\">\n",
       "  <thead>\n",
       "    <tr style=\"text-align: right;\">\n",
       "      <th></th>\n",
       "      <th>roadId</th>\n",
       "      <th>totalLaneLines</th>\n",
       "      <th>laneLineId</th>\n",
       "      <th>laneLineCoordinates</th>\n",
       "      <th>totalLinesOnLeft</th>\n",
       "      <th>totalLaneLinesOnRight</th>\n",
       "      <th>distFromLaneLineOnLeft</th>\n",
       "      <th>distFromLaneLineOnRight</th>\n",
       "      <th>laneLineLength</th>\n",
       "      <th>roadLength</th>\n",
       "      <th>noOfIntersectingLaneLinesLeft</th>\n",
       "      <th>noOfIntersectingLaneLinesRight</th>\n",
       "      <th>isIntersectingWithRoadGeometry</th>\n",
       "      <th>roadCategory</th>\n",
       "      <th>roadCoordinates</th>\n",
       "      <th>noOfLanes</th>\n",
       "    </tr>\n",
       "  </thead>\n",
       "  <tbody>\n",
       "    <tr>\n",
       "      <th>0</th>\n",
       "      <td>3177248677</td>\n",
       "      <td>3</td>\n",
       "      <td>X3177248677</td>\n",
       "      <td>11.117636626741222 49.43799310961545|11.11761...</td>\n",
       "      <td>2</td>\n",
       "      <td>0</td>\n",
       "      <td>3.863433276</td>\n",
       "      <td></td>\n",
       "      <td>4.396337</td>\n",
       "      <td>40.57071</td>\n",
       "      <td>0</td>\n",
       "      <td>0</td>\n",
       "      <td>false</td>\n",
       "      <td>2</td>\n",
       "      <td>11.11747 49.43763|11.11753 49.43776|11.11761 ...</td>\n",
       "      <td>2</td>\n",
       "    </tr>\n",
       "    <tr>\n",
       "      <th>1</th>\n",
       "      <td>3177248677</td>\n",
       "      <td>3</td>\n",
       "      <td>13177248677</td>\n",
       "      <td>11.11771009862968 49.43794191822495|11.117697...</td>\n",
       "      <td>0</td>\n",
       "      <td>2</td>\n",
       "      <td></td>\n",
       "      <td>3.740901458</td>\n",
       "      <td>37.316844</td>\n",
       "      <td>40.57071</td>\n",
       "      <td>0</td>\n",
       "      <td>0</td>\n",
       "      <td>false</td>\n",
       "      <td>2</td>\n",
       "      <td>11.11747 49.43763|11.11753 49.43776|11.11761 ...</td>\n",
       "      <td>2</td>\n",
       "    </tr>\n",
       "    <tr>\n",
       "      <th>2</th>\n",
       "      <td>3177248677</td>\n",
       "      <td>3</td>\n",
       "      <td>23177248677</td>\n",
       "      <td>11.117673197144772 49.43796782435575|11.11765...</td>\n",
       "      <td>1</td>\n",
       "      <td>1</td>\n",
       "      <td>3.740901458</td>\n",
       "      <td>3.863433276</td>\n",
       "      <td>40.365319</td>\n",
       "      <td>40.57071</td>\n",
       "      <td>0</td>\n",
       "      <td>0</td>\n",
       "      <td>true</td>\n",
       "      <td>2</td>\n",
       "      <td>11.11747 49.43763|11.11753 49.43776|11.11761 ...</td>\n",
       "      <td>2</td>\n",
       "    </tr>\n",
       "    <tr>\n",
       "      <th>3</th>\n",
       "      <td>3177248677</td>\n",
       "      <td>2</td>\n",
       "      <td>X3177248677</td>\n",
       "      <td>11.117480629929192 49.43781578147865|11.11742...</td>\n",
       "      <td>1</td>\n",
       "      <td>0</td>\n",
       "      <td>3.376377772</td>\n",
       "      <td></td>\n",
       "      <td>19.342362</td>\n",
       "      <td>40.57071</td>\n",
       "      <td>0</td>\n",
       "      <td>0</td>\n",
       "      <td>false</td>\n",
       "      <td>2</td>\n",
       "      <td>11.11747 49.43763|11.11753 49.43776|11.11761 ...</td>\n",
       "      <td>2</td>\n",
       "    </tr>\n",
       "    <tr>\n",
       "      <th>4</th>\n",
       "      <td>3177248677</td>\n",
       "      <td>2</td>\n",
       "      <td>13177248677</td>\n",
       "      <td>11.117587468615081 49.43799962846225|11.11751...</td>\n",
       "      <td>0</td>\n",
       "      <td>1</td>\n",
       "      <td></td>\n",
       "      <td>3.376377772</td>\n",
       "      <td>42.007669</td>\n",
       "      <td>40.57071</td>\n",
       "      <td>0</td>\n",
       "      <td>0</td>\n",
       "      <td>true</td>\n",
       "      <td>2</td>\n",
       "      <td>11.11747 49.43763|11.11753 49.43776|11.11761 ...</td>\n",
       "      <td>2</td>\n",
       "    </tr>\n",
       "  </tbody>\n",
       "</table>\n",
       "</div>"
      ],
      "text/plain": [
       "       roadId  totalLaneLines   laneLineId  \\\n",
       "0  3177248677               3  X3177248677   \n",
       "1  3177248677               3  13177248677   \n",
       "2  3177248677               3  23177248677   \n",
       "3  3177248677               2  X3177248677   \n",
       "4  3177248677               2  13177248677   \n",
       "\n",
       "                                 laneLineCoordinates  totalLinesOnLeft  \\\n",
       "0   11.117636626741222 49.43799310961545|11.11761...                 2   \n",
       "1   11.11771009862968 49.43794191822495|11.117697...                 0   \n",
       "2   11.117673197144772 49.43796782435575|11.11765...                 1   \n",
       "3   11.117480629929192 49.43781578147865|11.11742...                 1   \n",
       "4   11.117587468615081 49.43799962846225|11.11751...                 0   \n",
       "\n",
       "   totalLaneLinesOnRight distFromLaneLineOnLeft distFromLaneLineOnRight  \\\n",
       "0                      0            3.863433276                           \n",
       "1                      2                                    3.740901458   \n",
       "2                      1            3.740901458             3.863433276   \n",
       "3                      0            3.376377772                           \n",
       "4                      1                                    3.376377772   \n",
       "\n",
       "   laneLineLength  roadLength  noOfIntersectingLaneLinesLeft  \\\n",
       "0        4.396337    40.57071                              0   \n",
       "1       37.316844    40.57071                              0   \n",
       "2       40.365319    40.57071                              0   \n",
       "3       19.342362    40.57071                              0   \n",
       "4       42.007669    40.57071                              0   \n",
       "\n",
       "   noOfIntersectingLaneLinesRight isIntersectingWithRoadGeometry  \\\n",
       "0                               0                          false   \n",
       "1                               0                          false   \n",
       "2                               0                           true   \n",
       "3                               0                          false   \n",
       "4                               0                           true   \n",
       "\n",
       "   roadCategory                                    roadCoordinates   noOfLanes  \n",
       "0             2   11.11747 49.43763|11.11753 49.43776|11.11761 ...           2  \n",
       "1             2   11.11747 49.43763|11.11753 49.43776|11.11761 ...           2  \n",
       "2             2   11.11747 49.43763|11.11753 49.43776|11.11761 ...           2  \n",
       "3             2   11.11747 49.43763|11.11753 49.43776|11.11761 ...           2  \n",
       "4             2   11.11747 49.43763|11.11753 49.43776|11.11761 ...           2  "
      ]
     },
     "execution_count": 14,
     "metadata": {},
     "output_type": "execute_result"
    }
   ],
   "source": [
    "train.head()"
   ]
  },
  {
   "cell_type": "code",
   "execution_count": 15,
   "metadata": {
    "collapsed": false
   },
   "outputs": [
    {
     "data": {
      "text/plain": [
       "28914"
      ]
     },
     "execution_count": 15,
     "metadata": {},
     "output_type": "execute_result"
    }
   ],
   "source": [
    "len(train)"
   ]
  },
  {
   "cell_type": "code",
   "execution_count": 16,
   "metadata": {
    "collapsed": false
   },
   "outputs": [
    {
     "data": {
      "text/plain": [
       "Index(['roadId', 'totalLaneLines', 'laneLineId', 'laneLineCoordinates',\n",
       "       'totalLinesOnLeft', 'totalLaneLinesOnRight', 'distFromLaneLineOnLeft',\n",
       "       'distFromLaneLineOnRight', 'laneLineLength', 'roadLength',\n",
       "       'noOfIntersectingLaneLinesLeft', 'noOfIntersectingLaneLinesRight',\n",
       "       'isIntersectingWithRoadGeometry', 'roadCategory', ' roadCoordinates',\n",
       "       ' noOfLanes'],\n",
       "      dtype='object')"
      ]
     },
     "execution_count": 16,
     "metadata": {},
     "output_type": "execute_result"
    }
   ],
   "source": [
    "train.columns"
   ]
  },
  {
   "cell_type": "code",
   "execution_count": 19,
   "metadata": {
    "collapsed": false
   },
   "outputs": [
    {
     "data": {
      "text/plain": [
       "0"
      ]
     },
     "execution_count": 19,
     "metadata": {},
     "output_type": "execute_result"
    }
   ],
   "source": [
    "train['totalLaneLines'].isnull().sum()"
   ]
  },
  {
   "cell_type": "code",
   "execution_count": 39,
   "metadata": {
    "collapsed": false
   },
   "outputs": [
    {
     "data": {
      "text/plain": [
       "roadId                              int64\n",
       "totalLaneLines                      int64\n",
       "laneLineId                         object\n",
       "laneLineCoordinates                object\n",
       "totalLinesOnLeft                    int64\n",
       "totalLaneLinesOnRight               int64\n",
       "distFromLaneLineOnLeft            float64\n",
       "distFromLaneLineOnRight            object\n",
       "laneLineLength                    float64\n",
       "roadLength                        float64\n",
       "noOfIntersectingLaneLinesLeft       int64\n",
       "noOfIntersectingLaneLinesRight      int64\n",
       "isIntersectingWithRoadGeometry     object\n",
       "roadCategory                        int64\n",
       " roadCoordinates                   object\n",
       " noOfLanes                          int64\n",
       "dtype: object"
      ]
     },
     "execution_count": 39,
     "metadata": {},
     "output_type": "execute_result"
    }
   ],
   "source": [
    "train.dtypes"
   ]
  },
  {
   "cell_type": "code",
   "execution_count": 22,
   "metadata": {
    "collapsed": false
   },
   "outputs": [
    {
     "data": {
      "text/plain": [
       "0"
      ]
     },
     "execution_count": 22,
     "metadata": {},
     "output_type": "execute_result"
    }
   ],
   "source": [
    "train['laneLineId'].isnull().sum()"
   ]
  },
  {
   "cell_type": "code",
   "execution_count": 34,
   "metadata": {
    "collapsed": false
   },
   "outputs": [
    {
     "data": {
      "text/plain": [
       "''"
      ]
     },
     "execution_count": 34,
     "metadata": {},
     "output_type": "execute_result"
    }
   ],
   "source": [
    "train['distFromLaneLineOnLeft'][1]"
   ]
  },
  {
   "cell_type": "code",
   "execution_count": 32,
   "metadata": {
    "collapsed": false
   },
   "outputs": [],
   "source": [
    "train['distFromLaneLineOnLeft'] = train['distFromLaneLineOnLeft'].apply(lambda x:x.strip())"
   ]
  },
  {
   "cell_type": "code",
   "execution_count": 37,
   "metadata": {
    "collapsed": true
   },
   "outputs": [],
   "source": [
    "def update(x):\n",
    "    if(len(x)!=0):\n",
    "        return float(x)"
   ]
  },
  {
   "cell_type": "code",
   "execution_count": 38,
   "metadata": {
    "collapsed": false
   },
   "outputs": [],
   "source": [
    "train['distFromLaneLineOnLeft'] = train['distFromLaneLineOnLeft'].apply(lambda x:update(x))"
   ]
  },
  {
   "cell_type": "code",
   "execution_count": 42,
   "metadata": {
    "collapsed": false
   },
   "outputs": [
    {
     "data": {
      "text/plain": [
       "count    23259.000000\n",
       "mean         3.238623\n",
       "std          2.490129\n",
       "min          0.000000\n",
       "25%          1.734432\n",
       "50%          3.632457\n",
       "75%          4.029812\n",
       "max        120.956344\n",
       "Name: distFromLaneLineOnLeft, dtype: float64"
      ]
     },
     "execution_count": 42,
     "metadata": {},
     "output_type": "execute_result"
    }
   ],
   "source": [
    "train['distFromLaneLineOnLeft'].describe()"
   ]
  },
  {
   "cell_type": "code",
   "execution_count": 43,
   "metadata": {
    "collapsed": true
   },
   "outputs": [],
   "source": [
    "train['distFromLaneLineOnLeft'] = train['distFromLaneLineOnLeft'].fillna(3.238623)"
   ]
  },
  {
   "cell_type": "code",
   "execution_count": 44,
   "metadata": {
    "collapsed": false
   },
   "outputs": [
    {
     "data": {
      "text/plain": [
       "0"
      ]
     },
     "execution_count": 44,
     "metadata": {},
     "output_type": "execute_result"
    }
   ],
   "source": [
    "train['distFromLaneLineOnLeft'].isnull().sum()"
   ]
  },
  {
   "cell_type": "code",
   "execution_count": 45,
   "metadata": {
    "collapsed": false
   },
   "outputs": [
    {
     "data": {
      "text/plain": [
       "count    23433.000000\n",
       "mean         3.270934\n",
       "std          2.981502\n",
       "min          0.000000\n",
       "25%          1.636742\n",
       "50%          3.625344\n",
       "75%          4.025486\n",
       "max         98.775042\n",
       "Name: distFromLaneLineOnRight, dtype: float64"
      ]
     },
     "execution_count": 45,
     "metadata": {},
     "output_type": "execute_result"
    }
   ],
   "source": [
    "train['distFromLaneLineOnRight'] = train['distFromLaneLineOnRight'].apply(lambda x:x.strip())\n",
    "train['distFromLaneLineOnRight'] = train['distFromLaneLineOnRight'].apply(lambda x:update(x))\n",
    "train['distFromLaneLineOnRight'].describe()"
   ]
  },
  {
   "cell_type": "code",
   "execution_count": 47,
   "metadata": {
    "collapsed": false
   },
   "outputs": [],
   "source": [
    "train['distFromLaneLineOnRight'] = train['distFromLaneLineOnRight'].fillna(3.270934)"
   ]
  },
  {
   "cell_type": "code",
   "execution_count": 55,
   "metadata": {
    "collapsed": false
   },
   "outputs": [
    {
     "data": {
      "text/plain": [
       "roadId                              int64\n",
       "totalLaneLines                      int64\n",
       "laneLineId                         object\n",
       "laneLineCoordinates                object\n",
       "totalLinesOnLeft                    int64\n",
       "totalLaneLinesOnRight               int64\n",
       "distFromLaneLineOnLeft            float64\n",
       "distFromLaneLineOnRight           float64\n",
       "laneLineLength                    float64\n",
       "roadLength                        float64\n",
       "noOfIntersectingLaneLinesLeft       int64\n",
       "noOfIntersectingLaneLinesRight      int64\n",
       "isIntersectingWithRoadGeometry      int32\n",
       "roadCategory                        int64\n",
       " roadCoordinates                   object\n",
       " noOfLanes                          int64\n",
       "dtype: object"
      ]
     },
     "execution_count": 55,
     "metadata": {},
     "output_type": "execute_result"
    }
   ],
   "source": [
    "train.dtypes"
   ]
  },
  {
   "cell_type": "code",
   "execution_count": 53,
   "metadata": {
    "collapsed": false
   },
   "outputs": [
    {
     "data": {
      "text/plain": [
       "0"
      ]
     },
     "execution_count": 53,
     "metadata": {},
     "output_type": "execute_result"
    }
   ],
   "source": [
    "train['noOfIntersectingLaneLinesRight'].isnull().sum()"
   ]
  },
  {
   "cell_type": "code",
   "execution_count": 54,
   "metadata": {
    "collapsed": true
   },
   "outputs": [],
   "source": [
    "train['isIntersectingWithRoadGeometry'] = pd.Series(np.where(train.isIntersectingWithRoadGeometry.values == 'true', 1, 0),train.index)"
   ]
  },
  {
   "cell_type": "code",
   "execution_count": 56,
   "metadata": {
    "collapsed": false
   },
   "outputs": [
    {
     "data": {
      "text/plain": [
       "0"
      ]
     },
     "execution_count": 56,
     "metadata": {},
     "output_type": "execute_result"
    }
   ],
   "source": [
    "train['roadCategory'].isnull().sum()"
   ]
  },
  {
   "cell_type": "code",
   "execution_count": null,
   "metadata": {
    "collapsed": true
   },
   "outputs": [],
   "source": []
  }
 ],
 "metadata": {
  "anaconda-cloud": {},
  "kernelspec": {
   "display_name": "Python [conda root]",
   "language": "python",
   "name": "conda-root-py"
  },
  "language_info": {
   "codemirror_mode": {
    "name": "ipython",
    "version": 3
   },
   "file_extension": ".py",
   "mimetype": "text/x-python",
   "name": "python",
   "nbconvert_exporter": "python",
   "pygments_lexer": "ipython3",
   "version": "3.5.2"
  }
 },
 "nbformat": 4,
 "nbformat_minor": 1
}
