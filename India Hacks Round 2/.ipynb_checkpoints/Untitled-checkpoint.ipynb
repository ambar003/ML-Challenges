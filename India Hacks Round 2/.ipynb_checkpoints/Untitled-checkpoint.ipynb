{
 "cells": [
  {
   "cell_type": "code",
   "execution_count": 1,
   "metadata": {
    "collapsed": true
   },
   "outputs": [],
   "source": [
    "import pandas as pd\n",
    "import numpy as np"
   ]
  },
  {
   "cell_type": "code",
   "execution_count": 2,
   "metadata": {
    "collapsed": false
   },
   "outputs": [
    {
     "name": "stdout",
     "output_type": "stream",
     "text": [
      "Populating the interactive namespace from numpy and matplotlib\n"
     ]
    }
   ],
   "source": [
    "% pylab inline"
   ]
  },
  {
   "cell_type": "code",
   "execution_count": 3,
   "metadata": {
    "collapsed": false
   },
   "outputs": [],
   "source": [
    "from sklearn.model_selection import GridSearchCV"
   ]
  },
  {
   "cell_type": "code",
   "execution_count": 132,
   "metadata": {
    "collapsed": false
   },
   "outputs": [
    {
     "data": {
      "text/html": [
       "<div>\n",
       "<style>\n",
       "    .dataframe thead tr:only-child th {\n",
       "        text-align: right;\n",
       "    }\n",
       "\n",
       "    .dataframe thead th {\n",
       "        text-align: left;\n",
       "    }\n",
       "\n",
       "    .dataframe tbody tr th {\n",
       "        vertical-align: top;\n",
       "    }\n",
       "</style>\n",
       "<table border=\"1\" class=\"dataframe\">\n",
       "  <thead>\n",
       "    <tr style=\"text-align: right;\">\n",
       "      <th></th>\n",
       "      <th>roadId</th>\n",
       "      <th>totalLaneLines</th>\n",
       "      <th>laneLineId</th>\n",
       "      <th>laneLineCoordinates</th>\n",
       "      <th>totalLinesOnLeft</th>\n",
       "      <th>totalLaneLinesOnRight</th>\n",
       "      <th>distFromLaneLineOnLeft</th>\n",
       "      <th>distFromLaneLineOnRight</th>\n",
       "      <th>laneLineLength</th>\n",
       "      <th>roadLength</th>\n",
       "      <th>...</th>\n",
       "      <th>roadCategory</th>\n",
       "      <th>roadCoordinates</th>\n",
       "      <th>noOfLanes</th>\n",
       "      <th>lane_sum</th>\n",
       "      <th>line_sum</th>\n",
       "      <th>Lines_sum</th>\n",
       "      <th>cat_len_count</th>\n",
       "      <th>cat_id_count</th>\n",
       "      <th>len_id_count</th>\n",
       "      <th>lane_cat_count</th>\n",
       "    </tr>\n",
       "  </thead>\n",
       "  <tbody>\n",
       "    <tr>\n",
       "      <th>0</th>\n",
       "      <td>3177248677</td>\n",
       "      <td>3</td>\n",
       "      <td>1.317725e+10</td>\n",
       "      <td>11.117636626741222 49.43799310961545|11.11761...</td>\n",
       "      <td>2</td>\n",
       "      <td>0</td>\n",
       "      <td>3.863433</td>\n",
       "      <td>3.270934</td>\n",
       "      <td>4.396337</td>\n",
       "      <td>40.57071</td>\n",
       "      <td>...</td>\n",
       "      <td>2</td>\n",
       "      <td>11.11747 49.43763|11.11753 49.43776|11.11761 ...</td>\n",
       "      <td>2</td>\n",
       "      <td>7.134367</td>\n",
       "      <td>0</td>\n",
       "      <td>2</td>\n",
       "      <td>5</td>\n",
       "      <td>5</td>\n",
       "      <td>5</td>\n",
       "      <td>3</td>\n",
       "    </tr>\n",
       "    <tr>\n",
       "      <th>1</th>\n",
       "      <td>3177248677</td>\n",
       "      <td>3</td>\n",
       "      <td>1.317725e+10</td>\n",
       "      <td>11.11771009862968 49.43794191822495|11.117697...</td>\n",
       "      <td>0</td>\n",
       "      <td>2</td>\n",
       "      <td>3.238623</td>\n",
       "      <td>3.740901</td>\n",
       "      <td>37.316844</td>\n",
       "      <td>40.57071</td>\n",
       "      <td>...</td>\n",
       "      <td>2</td>\n",
       "      <td>11.11747 49.43763|11.11753 49.43776|11.11761 ...</td>\n",
       "      <td>2</td>\n",
       "      <td>6.979524</td>\n",
       "      <td>0</td>\n",
       "      <td>2</td>\n",
       "      <td>5</td>\n",
       "      <td>5</td>\n",
       "      <td>5</td>\n",
       "      <td>3</td>\n",
       "    </tr>\n",
       "    <tr>\n",
       "      <th>2</th>\n",
       "      <td>3177248677</td>\n",
       "      <td>3</td>\n",
       "      <td>2.317725e+10</td>\n",
       "      <td>11.117673197144772 49.43796782435575|11.11765...</td>\n",
       "      <td>1</td>\n",
       "      <td>1</td>\n",
       "      <td>3.740901</td>\n",
       "      <td>3.863433</td>\n",
       "      <td>40.365319</td>\n",
       "      <td>40.57071</td>\n",
       "      <td>...</td>\n",
       "      <td>2</td>\n",
       "      <td>11.11747 49.43763|11.11753 49.43776|11.11761 ...</td>\n",
       "      <td>2</td>\n",
       "      <td>7.604335</td>\n",
       "      <td>0</td>\n",
       "      <td>2</td>\n",
       "      <td>5</td>\n",
       "      <td>5</td>\n",
       "      <td>5</td>\n",
       "      <td>3</td>\n",
       "    </tr>\n",
       "    <tr>\n",
       "      <th>3</th>\n",
       "      <td>3177248677</td>\n",
       "      <td>2</td>\n",
       "      <td>1.317725e+10</td>\n",
       "      <td>11.117480629929192 49.43781578147865|11.11742...</td>\n",
       "      <td>1</td>\n",
       "      <td>0</td>\n",
       "      <td>3.376378</td>\n",
       "      <td>3.270934</td>\n",
       "      <td>19.342362</td>\n",
       "      <td>40.57071</td>\n",
       "      <td>...</td>\n",
       "      <td>2</td>\n",
       "      <td>11.11747 49.43763|11.11753 49.43776|11.11761 ...</td>\n",
       "      <td>2</td>\n",
       "      <td>6.647312</td>\n",
       "      <td>0</td>\n",
       "      <td>1</td>\n",
       "      <td>5</td>\n",
       "      <td>5</td>\n",
       "      <td>5</td>\n",
       "      <td>2</td>\n",
       "    </tr>\n",
       "    <tr>\n",
       "      <th>4</th>\n",
       "      <td>3177248677</td>\n",
       "      <td>2</td>\n",
       "      <td>1.317725e+10</td>\n",
       "      <td>11.117587468615081 49.43799962846225|11.11751...</td>\n",
       "      <td>0</td>\n",
       "      <td>1</td>\n",
       "      <td>3.238623</td>\n",
       "      <td>3.376378</td>\n",
       "      <td>42.007669</td>\n",
       "      <td>40.57071</td>\n",
       "      <td>...</td>\n",
       "      <td>2</td>\n",
       "      <td>11.11747 49.43763|11.11753 49.43776|11.11761 ...</td>\n",
       "      <td>2</td>\n",
       "      <td>6.615001</td>\n",
       "      <td>0</td>\n",
       "      <td>1</td>\n",
       "      <td>5</td>\n",
       "      <td>5</td>\n",
       "      <td>5</td>\n",
       "      <td>2</td>\n",
       "    </tr>\n",
       "  </tbody>\n",
       "</table>\n",
       "<p>5 rows × 23 columns</p>\n",
       "</div>"
      ],
      "text/plain": [
       "       roadId  totalLaneLines    laneLineId  \\\n",
       "0  3177248677               3  1.317725e+10   \n",
       "1  3177248677               3  1.317725e+10   \n",
       "2  3177248677               3  2.317725e+10   \n",
       "3  3177248677               2  1.317725e+10   \n",
       "4  3177248677               2  1.317725e+10   \n",
       "\n",
       "                                 laneLineCoordinates  totalLinesOnLeft  \\\n",
       "0   11.117636626741222 49.43799310961545|11.11761...                 2   \n",
       "1   11.11771009862968 49.43794191822495|11.117697...                 0   \n",
       "2   11.117673197144772 49.43796782435575|11.11765...                 1   \n",
       "3   11.117480629929192 49.43781578147865|11.11742...                 1   \n",
       "4   11.117587468615081 49.43799962846225|11.11751...                 0   \n",
       "\n",
       "   totalLaneLinesOnRight  distFromLaneLineOnLeft  distFromLaneLineOnRight  \\\n",
       "0                      0                3.863433                 3.270934   \n",
       "1                      2                3.238623                 3.740901   \n",
       "2                      1                3.740901                 3.863433   \n",
       "3                      0                3.376378                 3.270934   \n",
       "4                      1                3.238623                 3.376378   \n",
       "\n",
       "   laneLineLength  roadLength       ...        roadCategory  \\\n",
       "0        4.396337    40.57071       ...                   2   \n",
       "1       37.316844    40.57071       ...                   2   \n",
       "2       40.365319    40.57071       ...                   2   \n",
       "3       19.342362    40.57071       ...                   2   \n",
       "4       42.007669    40.57071       ...                   2   \n",
       "\n",
       "                                     roadCoordinates  noOfLanes  lane_sum  \\\n",
       "0   11.11747 49.43763|11.11753 49.43776|11.11761 ...          2  7.134367   \n",
       "1   11.11747 49.43763|11.11753 49.43776|11.11761 ...          2  6.979524   \n",
       "2   11.11747 49.43763|11.11753 49.43776|11.11761 ...          2  7.604335   \n",
       "3   11.11747 49.43763|11.11753 49.43776|11.11761 ...          2  6.647312   \n",
       "4   11.11747 49.43763|11.11753 49.43776|11.11761 ...          2  6.615001   \n",
       "\n",
       "  line_sum  Lines_sum  cat_len_count  cat_id_count  len_id_count  \\\n",
       "0        0          2              5             5             5   \n",
       "1        0          2              5             5             5   \n",
       "2        0          2              5             5             5   \n",
       "3        0          1              5             5             5   \n",
       "4        0          1              5             5             5   \n",
       "\n",
       "   lane_cat_count  \n",
       "0               3  \n",
       "1               3  \n",
       "2               3  \n",
       "3               2  \n",
       "4               2  \n",
       "\n",
       "[5 rows x 23 columns]"
      ]
     },
     "execution_count": 132,
     "metadata": {},
     "output_type": "execute_result"
    }
   ],
   "source": [
    "train = pd.read_csv('updated_train.csv')\n",
    "test = pd.read_csv('updated_test.csv')\n",
    "train.head()"
   ]
  },
  {
   "cell_type": "code",
   "execution_count": 5,
   "metadata": {
    "collapsed": false
   },
   "outputs": [
    {
     "data": {
      "text/plain": [
       "roadId                              int64\n",
       "totalLaneLines                      int64\n",
       "laneLineId                        float64\n",
       "laneLineCoordinates                object\n",
       "totalLinesOnLeft                    int64\n",
       "totalLaneLinesOnRight               int64\n",
       "distFromLaneLineOnLeft            float64\n",
       "distFromLaneLineOnRight           float64\n",
       "laneLineLength                    float64\n",
       "roadLength                        float64\n",
       "noOfIntersectingLaneLinesLeft       int64\n",
       "noOfIntersectingLaneLinesRight      int64\n",
       "isIntersectingWithRoadGeometry      int64\n",
       "roadCategory                        int64\n",
       "roadCoordinates                    object\n",
       "noOfLanes                           int64\n",
       "lane_sum                          float64\n",
       "line_sum                            int64\n",
       "Lines_sum                           int64\n",
       "cat_len_count                       int64\n",
       "cat_id_count                        int64\n",
       "len_id_count                        int64\n",
       "lane_cat_count                      int64\n",
       "dtype: object"
      ]
     },
     "execution_count": 5,
     "metadata": {},
     "output_type": "execute_result"
    }
   ],
   "source": [
    "train.dtypes"
   ]
  },
  {
   "cell_type": "code",
   "execution_count": 6,
   "metadata": {
    "collapsed": false
   },
   "outputs": [
    {
     "data": {
      "text/plain": [
       "roadId                              int64\n",
       "totalLaneLines                      int64\n",
       "laneLineId                        float64\n",
       "laneLineCoordinates                object\n",
       "totalLinesOnLeft                    int64\n",
       "totalLaneLinesOnRight               int64\n",
       "distFromLaneLineOnLeft            float64\n",
       "distFromLaneLineOnRight           float64\n",
       "laneLineLength                    float64\n",
       "roadLength                        float64\n",
       "noOfIntersectingLaneLinesLeft       int64\n",
       "noOfIntersectingLaneLinesRight      int64\n",
       "isIntersectingWithRoadGeometry      int64\n",
       "roadCategory                        int64\n",
       "lane_sum                          float64\n",
       "line_sum                            int64\n",
       "Lines_sum                           int64\n",
       "cat_len_count                       int64\n",
       "cat_id_count                        int64\n",
       "len_id_count                        int64\n",
       "lane_cat_count                      int64\n",
       "dtype: object"
      ]
     },
     "execution_count": 6,
     "metadata": {},
     "output_type": "execute_result"
    }
   ],
   "source": [
    "test.dtypes"
   ]
  },
  {
   "cell_type": "code",
   "execution_count": 143,
   "metadata": {
    "collapsed": true
   },
   "outputs": [],
   "source": [
    "road_len_count = train.groupby(['roadId','laneLineLength']).size().reset_index()\n",
    "road_len_count.columns = ['roadId','laneLineLength','road_len_count']\n",
    "\n",
    "road_len_count_test = test.groupby(['roadId','laneLineLength']).size().reset_index()\n",
    "road_len_count_test.columns = ['roadId','laneLineLength','road_len_count']"
   ]
  },
  {
   "cell_type": "code",
   "execution_count": 195,
   "metadata": {
    "collapsed": true
   },
   "outputs": [],
   "source": [
    "def upd(x):\n",
    "    x = x.split('|')\n",
    "    return len(x)"
   ]
  },
  {
   "cell_type": "code",
   "execution_count": 196,
   "metadata": {
    "collapsed": true
   },
   "outputs": [],
   "source": [
    "train['lane_line_count'] = train['laneLineCoordinates'].apply(lambda x:upd(x))"
   ]
  },
  {
   "cell_type": "code",
   "execution_count": 204,
   "metadata": {
    "collapsed": true
   },
   "outputs": [],
   "source": [
    "test['lane_line_count'] = test['laneLineCoordinates'].apply(lambda x:upd(x))"
   ]
  },
  {
   "cell_type": "code",
   "execution_count": 147,
   "metadata": {
    "collapsed": false
   },
   "outputs": [],
   "source": [
    "train = train.merge(road_len_count)\n",
    "test  = test.merge(road_len_count_test)"
   ]
  },
  {
   "cell_type": "code",
   "execution_count": 197,
   "metadata": {
    "collapsed": false
   },
   "outputs": [
    {
     "data": {
      "text/plain": [
       "(28914, 2493)"
      ]
     },
     "execution_count": 197,
     "metadata": {},
     "output_type": "execute_result"
    }
   ],
   "source": [
    "len(train),len(test)"
   ]
  },
  {
   "cell_type": "code",
   "execution_count": 198,
   "metadata": {
    "collapsed": false
   },
   "outputs": [
    {
     "data": {
      "text/plain": [
       "Index(['roadId', 'totalLaneLines', 'laneLineId', 'laneLineCoordinates',\n",
       "       'totalLinesOnLeft', 'totalLaneLinesOnRight', 'distFromLaneLineOnLeft',\n",
       "       'distFromLaneLineOnRight', 'laneLineLength', 'roadLength',\n",
       "       'noOfIntersectingLaneLinesLeft', 'noOfIntersectingLaneLinesRight',\n",
       "       'isIntersectingWithRoadGeometry', 'roadCategory', 'roadCoordinates',\n",
       "       'noOfLanes', 'lane_sum', 'line_sum', 'Lines_sum', 'cat_len_count',\n",
       "       'cat_id_count', 'len_id_count', 'lane_cat_count', 'lane_len_count',\n",
       "       'road_len_count', 'lane_line_count'],\n",
       "      dtype='object')"
      ]
     },
     "execution_count": 198,
     "metadata": {},
     "output_type": "execute_result"
    }
   ],
   "source": [
    "train.columns"
   ]
  },
  {
   "cell_type": "code",
   "execution_count": 122,
   "metadata": {
    "collapsed": true
   },
   "outputs": [],
   "source": [
    "import os\n",
    "mingw_path = 'C:\\\\Program Files\\\\mingw-w64\\\\x86_64-6.3.0-posix-seh-rt_v5-rev1\\\\mingw64\\\\bin'\n",
    "os.environ['PATH'] = mingw_path + ';' + os.environ['PATH']\n",
    "from xgboost.sklearn import XGBClassifier"
   ]
  },
  {
   "cell_type": "code",
   "execution_count": 199,
   "metadata": {
    "collapsed": true
   },
   "outputs": [],
   "source": [
    "features =  ['roadId','totalLaneLines','laneLineId',\n",
    "           'totalLinesOnLeft', 'totalLaneLinesOnRight', 'distFromLaneLineOnLeft',\n",
    "           'distFromLaneLineOnRight', 'laneLineLength', 'roadLength',\n",
    "           'noOfIntersectingLaneLinesLeft', 'noOfIntersectingLaneLinesRight',\n",
    "           'roadCategory']"
   ]
  },
  {
   "cell_type": "code",
   "execution_count": 200,
   "metadata": {
    "collapsed": true
   },
   "outputs": [],
   "source": [
    "xgb = XGBClassifier(learning_rate =0.01, n_estimators=1000, max_depth=6,\n",
    "                    min_child_weight=3, gamma=0.01, subsample=0.8, colsample_bytree=0.8,\n",
    "                    objective= 'multi:softmax', nthread=4, seed=2017)"
   ]
  },
  {
   "cell_type": "code",
   "execution_count": 201,
   "metadata": {
    "collapsed": false
   },
   "outputs": [
    {
     "name": "stdout",
     "output_type": "stream",
     "text": [
      "fitting is done\n"
     ]
    }
   ],
   "source": [
    "xgb.fit(train[features],train['noOfLanes'])\n",
    "print('fitting is done')"
   ]
  },
  {
   "cell_type": "code",
   "execution_count": 202,
   "metadata": {
    "collapsed": false
   },
   "outputs": [
    {
     "data": {
      "text/plain": [
       "<matplotlib.axes._subplots.AxesSubplot at 0x26c058a7f28>"
      ]
     },
     "execution_count": 202,
     "metadata": {},
     "output_type": "execute_result"
    },
    {
     "data": {
      "image/png": "[encoded data removed]",
      "text/plain": [
       "<matplotlib.figure.Figure at 0x26c05804d68>"
      ]
     },
     "metadata": {},
     "output_type": "display_data"
    }
   ],
   "source": [
    "feature_importance = pd.Series(xgb.feature_importances_)\n",
    "feature_ser = pd.Series(features)\n",
    "lis = pd.Series(feature_importance.values,index = feature_ser)\n",
    "lis = sorted(lis.items(),key =lambda x:(-x[1],x[0]))\n",
    "df = pd.DataFrame(lis, columns=['Feature', 'Importance'])\n",
    "df.plot(kind='bar',x='Feature',figsize=(15,10))"
   ]
  },
  {
   "cell_type": "code",
   "execution_count": 205,
   "metadata": {
    "collapsed": false
   },
   "outputs": [
    {
     "name": "stdout",
     "output_type": "stream",
     "text": [
      "prediction is done\n"
     ]
    }
   ],
   "source": [
    "pred1 = xgb.predict(test[features])\n",
    "print('prediction is done')"
   ]
  },
  {
   "cell_type": "code",
   "execution_count": 206,
   "metadata": {
    "collapsed": false
   },
   "outputs": [
    {
     "name": "stdout",
     "output_type": "stream",
     "text": [
      "writting is done.\n"
     ]
    }
   ],
   "source": [
    "sub1 = pd.DataFrame()\n",
    "sub1['roadId'] = test['roadId']\n",
    "sub1['noOfLanes'] = pred1\n",
    "sub1.to_csv('xgb.csv', index=False)\n",
    "print('writting is done.')"
   ]
  },
  {
   "cell_type": "code",
   "execution_count": null,
   "metadata": {
    "collapsed": true
   },
   "outputs": [],
   "source": [
    "x = sub.drop_duplicates(subset=['roadId'],keep='last')\n",
    "x.to_csv('xgb.csv', index=False)\n",
    "print('writting is done.')"
   ]
  },
  {
   "cell_type": "code",
   "execution_count": null,
   "metadata": {
    "collapsed": true
   },
   "outputs": [],
   "source": [
    "x.head()"
   ]
  },
  {
   "cell_type": "code",
   "execution_count": 15,
   "metadata": {
    "collapsed": true
   },
   "outputs": [],
   "source": [
    "from sklearn.ensemble import RandomForestClassifier"
   ]
  },
  {
   "cell_type": "code",
   "execution_count": 189,
   "metadata": {
    "collapsed": true
   },
   "outputs": [],
   "source": [
    "rf = RandomForestClassifier(bootstrap=True,criterion='gini',\n",
    "            max_depth=None, max_features='auto', max_leaf_nodes=None,\n",
    "            min_samples_leaf=1, min_samples_split=2,\n",
    "            min_weight_fraction_leaf=0.0, n_estimators=100, n_jobs=-1,\n",
    "            oob_score=False, random_state=2017, verbose=0,\n",
    "            warm_start=False)"
   ]
  },
  {
   "cell_type": "code",
   "execution_count": 93,
   "metadata": {
    "collapsed": false
   },
   "outputs": [
    {
     "name": "stdout",
     "output_type": "stream",
     "text": [
      "fitting is done\n"
     ]
    }
   ],
   "source": [
    "rf.fit(train[features],train['noOfLanes'])\n",
    "print('fitting is done')"
   ]
  },
  {
   "cell_type": "code",
   "execution_count": 94,
   "metadata": {
    "collapsed": false
   },
   "outputs": [
    {
     "data": {
      "text/plain": [
       "<matplotlib.axes._subplots.AxesSubplot at 0x26c055b8ac8>"
      ]
     },
     "execution_count": 94,
     "metadata": {},
     "output_type": "execute_result"
    },
    {
     "data": {
      "image/png": "[encoded data removed]",
      "text/plain": [
       "<matplotlib.figure.Figure at 0x26c01445be0>"
      ]
     },
     "metadata": {},
     "output_type": "display_data"
    }
   ],
   "source": [
    "feature_importance = pd.Series(rf.feature_importances_)\n",
    "feature_ser = pd.Series(features)\n",
    "lis = pd.Series(feature_importance.values,index = feature_ser)\n",
    "lis = sorted(lis.items(),key =lambda x:(-x[1],x[0]))\n",
    "df = pd.DataFrame(lis, columns=['Feature', 'Importance'])\n",
    "df.plot(kind='bar',x='Feature',figsize=(15,10))"
   ]
  },
  {
   "cell_type": "code",
   "execution_count": 54,
   "metadata": {
    "collapsed": false
   },
   "outputs": [
    {
     "name": "stdout",
     "output_type": "stream",
     "text": [
      "prediction is done\n"
     ]
    }
   ],
   "source": [
    "pred2 = rf.predict(test[features])\n",
    "print('prediction is done')"
   ]
  },
  {
   "cell_type": "code",
   "execution_count": 55,
   "metadata": {
    "collapsed": false
   },
   "outputs": [
    {
     "name": "stdout",
     "output_type": "stream",
     "text": [
      "writting is done.\n"
     ]
    }
   ],
   "source": [
    "sub2 = pd.DataFrame()\n",
    "sub2['roadId'] = test['roadId']\n",
    "sub2['noOfLanes'] = pred2\n",
    "sub2.to_csv('xgb.csv', index=False)\n",
    "print('writting is done.')"
   ]
  },
  {
   "cell_type": "code",
   "execution_count": 232,
   "metadata": {
    "collapsed": false
   },
   "outputs": [],
   "source": [
    "sub['noOfLanes'] = (sub1['noOfLanes'] +sub2['noOfLanes'])//2"
   ]
  },
  {
   "cell_type": "code",
   "execution_count": 233,
   "metadata": {
    "collapsed": false
   },
   "outputs": [
    {
     "data": {
      "text/html": [
       "<div>\n",
       "<style>\n",
       "    .dataframe thead tr:only-child th {\n",
       "        text-align: right;\n",
       "    }\n",
       "\n",
       "    .dataframe thead th {\n",
       "        text-align: left;\n",
       "    }\n",
       "\n",
       "    .dataframe tbody tr th {\n",
       "        vertical-align: top;\n",
       "    }\n",
       "</style>\n",
       "<table border=\"1\" class=\"dataframe\">\n",
       "  <thead>\n",
       "    <tr style=\"text-align: right;\">\n",
       "      <th></th>\n",
       "      <th>roadId</th>\n",
       "      <th>noOfLanes</th>\n",
       "    </tr>\n",
       "  </thead>\n",
       "  <tbody>\n",
       "    <tr>\n",
       "      <th>0</th>\n",
       "      <td>291531296</td>\n",
       "      <td>3</td>\n",
       "    </tr>\n",
       "    <tr>\n",
       "      <th>1</th>\n",
       "      <td>291531296</td>\n",
       "      <td>4</td>\n",
       "    </tr>\n",
       "    <tr>\n",
       "      <th>2</th>\n",
       "      <td>291531296</td>\n",
       "      <td>4</td>\n",
       "    </tr>\n",
       "    <tr>\n",
       "      <th>3</th>\n",
       "      <td>291531296</td>\n",
       "      <td>3</td>\n",
       "    </tr>\n",
       "    <tr>\n",
       "      <th>4</th>\n",
       "      <td>291531296</td>\n",
       "      <td>3</td>\n",
       "    </tr>\n",
       "  </tbody>\n",
       "</table>\n",
       "</div>"
      ],
      "text/plain": [
       "      roadId  noOfLanes\n",
       "0  291531296          3\n",
       "1  291531296          4\n",
       "2  291531296          4\n",
       "3  291531296          3\n",
       "4  291531296          3"
      ]
     },
     "execution_count": 233,
     "metadata": {},
     "output_type": "execute_result"
    }
   ],
   "source": [
    "sub.head()"
   ]
  },
  {
   "cell_type": "code",
   "execution_count": 234,
   "metadata": {
    "collapsed": false
   },
   "outputs": [
    {
     "name": "stdout",
     "output_type": "stream",
     "text": [
      "writting is done.\n"
     ]
    }
   ],
   "source": [
    "sub.to_csv('xgb.csv', index=False)\n",
    "print('writting is done.')"
   ]
  },
  {
   "cell_type": "code",
   "execution_count": 235,
   "metadata": {
    "collapsed": false
   },
   "outputs": [
    {
     "name": "stdout",
     "output_type": "stream",
     "text": [
      "writting is done.\n"
     ]
    }
   ],
   "source": [
    "x = sub.drop_duplicates(subset=['roadId'],keep='last')\n",
    "x.to_csv('xgb.csv', index=False)\n",
    "print('writting is done.')"
   ]
  },
  {
   "cell_type": "code",
   "execution_count": 56,
   "metadata": {
    "collapsed": true
   },
   "outputs": [],
   "source": [
    "from sklearn.linear_model import LogisticRegression"
   ]
  },
  {
   "cell_type": "code",
   "execution_count": 82,
   "metadata": {
    "collapsed": false
   },
   "outputs": [],
   "source": [
    "lr = LogisticRegression(penalty='l2', dual=False, tol=0.0001, C= 1.0, fit_intercept=True, intercept_scaling=1, \n",
    "                        random_state=2017, solver='newton-cg', max_iter=1000, multi_class='multinomial', verbose=0,\n",
    "                        warm_start=True, n_jobs=-1)"
   ]
  },
  {
   "cell_type": "code",
   "execution_count": 83,
   "metadata": {
    "collapsed": false
   },
   "outputs": [
    {
     "name": "stdout",
     "output_type": "stream",
     "text": [
      "fitting is done\n"
     ]
    }
   ],
   "source": [
    "lr.fit(train[features],train['noOfLanes'])\n",
    "print('fitting is done')"
   ]
  },
  {
   "cell_type": "code",
   "execution_count": 84,
   "metadata": {
    "collapsed": false
   },
   "outputs": [
    {
     "name": "stdout",
     "output_type": "stream",
     "text": [
      "prediction is done\n"
     ]
    }
   ],
   "source": [
    "pred = lr.predict(test[features])\n",
    "print('prediction is done')"
   ]
  },
  {
   "cell_type": "code",
   "execution_count": 85,
   "metadata": {
    "collapsed": false
   },
   "outputs": [
    {
     "name": "stdout",
     "output_type": "stream",
     "text": [
      "writting is done.\n"
     ]
    }
   ],
   "source": [
    "sub = pd.DataFrame()\n",
    "sub['roadId'] = test['roadId']\n",
    "sub['noOfLanes'] = pred\n",
    "sub.to_csv('lr.csv', index=False)\n",
    "print('writting is done.')"
   ]
  },
  {
   "cell_type": "code",
   "execution_count": 17,
   "metadata": {
    "collapsed": true
   },
   "outputs": [],
   "source": [
    "from sklearn.ensemble import VotingClassifier"
   ]
  },
  {
   "cell_type": "code",
   "execution_count": 191,
   "metadata": {
    "collapsed": true
   },
   "outputs": [],
   "source": [
    "eclf = VotingClassifier(estimators=[('xgb',xgb), ('rf', rf)], voting='hard')"
   ]
  },
  {
   "cell_type": "code",
   "execution_count": 192,
   "metadata": {
    "collapsed": false
   },
   "outputs": [
    {
     "name": "stdout",
     "output_type": "stream",
     "text": [
      "fitting is done\n"
     ]
    }
   ],
   "source": [
    "eclf.fit(train[features],train['noOfLanes'])\n",
    "print('fitting is done')"
   ]
  },
  {
   "cell_type": "code",
   "execution_count": 193,
   "metadata": {
    "collapsed": false
   },
   "outputs": [
    {
     "name": "stdout",
     "output_type": "stream",
     "text": [
      "prediction is done\n"
     ]
    }
   ],
   "source": [
    "pred = eclf.predict(test[features])\n",
    "print('prediction is done')"
   ]
  },
  {
   "cell_type": "code",
   "execution_count": 194,
   "metadata": {
    "collapsed": false
   },
   "outputs": [
    {
     "name": "stdout",
     "output_type": "stream",
     "text": [
      "writting is done.\n"
     ]
    }
   ],
   "source": [
    "sub = pd.DataFrame()\n",
    "sub['roadId'] = test['roadId']\n",
    "sub['noOfLanes'] = pred\n",
    "sub.to_csv('xgb.csv', index=False)\n",
    "print('writting is done.')"
   ]
  }
 ],
 "metadata": {
  "anaconda-cloud": {},
  "kernelspec": {
   "display_name": "Python [conda root]",
   "language": "python",
   "name": "conda-root-py"
  },
  "language_info": {
   "codemirror_mode": {
    "name": "ipython",
    "version": 3
   },
   "file_extension": ".py",
   "mimetype": "text/x-python",
   "name": "python",
   "nbconvert_exporter": "python",
   "pygments_lexer": "ipython3",
   "version": "3.5.2"
  }
 },
 "nbformat": 4,
 "nbformat_minor": 1
}
