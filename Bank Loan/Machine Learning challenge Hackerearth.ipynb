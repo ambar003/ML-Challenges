{
 "cells": [
  {
   "cell_type": "code",
   "execution_count": 1,
   "metadata": {
    "collapsed": true
   },
   "outputs": [],
   "source": [
    "import os\n",
    "mingw_path = 'C:\\\\Program Files\\\\mingw-w64\\\\x86_64-6.3.0-posix-seh-rt_v5-rev1\\\\mingw64\\\\bin'\n",
    "os.environ['PATH'] = mingw_path + ';' + os.environ['PATH']"
   ]
  },
  {
   "cell_type": "code",
   "execution_count": 2,
   "metadata": {
    "collapsed": false
   },
   "outputs": [],
   "source": [
    "import warnings\n",
    "warnings.filterwarnings('ignore')\n",
    "import numpy as np\n",
    "import pandas as pd\n",
    "import xgboost as xgb\n",
    "\n",
    "# Modelling Algorithms\n",
    "from sklearn.tree import DecisionTreeClassifier\n",
    "from sklearn.linear_model import LogisticRegression\n",
    "from sklearn.neighbors import KNeighborsClassifier\n",
    "from sklearn.naive_bayes import GaussianNB\n",
    "from sklearn.svm import SVC, LinearSVC\n",
    "from sklearn.metrics import roc_auc_score\n",
    "from sklearn.ensemble import RandomForestClassifier , GradientBoostingClassifier\n",
    "from sklearn.model_selection import train_test_split\n",
    "from sklearn.metrics import confusion_matrix\n",
    "from sklearn.ensemble import AdaBoostClassifier\n",
    "\n",
    "import matplotlib.pyplot as plt"
   ]
  },
  {
   "cell_type": "code",
   "execution_count": 3,
   "metadata": {
    "collapsed": false
   },
   "outputs": [],
   "source": [
    "train_data = pd.read_csv('train_indessa.csv')\n",
    "test_data = pd.read_csv('test_indessa.csv')\n",
    "loans = pd.concat([train_data,test_data])"
   ]
  },
  {
   "cell_type": "code",
   "execution_count": 4,
   "metadata": {
    "collapsed": false
   },
   "outputs": [
    {
     "data": {
      "image/png": "[encoded data removed]",
      "text/plain": [
       "<matplotlib.figure.Figure at 0x2d12b8e4518>"
      ]
     },
     "metadata": {},
     "output_type": "display_data"
    }
   ],
   "source": [
    "plt.plot(loans['annual_inc'],loans['funded_amnt'],'.')\n",
    "plt.show()"
   ]
  },
  {
   "cell_type": "code",
   "execution_count": 5,
   "metadata": {
    "collapsed": false
   },
   "outputs": [
    {
     "data": {
      "text/plain": [
       "0.23632678972555915"
      ]
     },
     "execution_count": 5,
     "metadata": {},
     "output_type": "execute_result"
    }
   ],
   "source": [
    "safe = sum(loans['loan_status']==0)\n",
    "safe\n",
    "risky = sum(loans['loan_status']==1)\n",
    "perc = risky/(safe+risky)\n",
    "perc"
   ]
  },
  {
   "cell_type": "code",
   "execution_count": 6,
   "metadata": {
    "collapsed": false
   },
   "outputs": [
    {
     "data": {
      "text/plain": [
       "0.0"
      ]
     },
     "execution_count": 6,
     "metadata": {},
     "output_type": "execute_result"
    }
   ],
   "source": [
    "loans['loan_status'].iloc[532427]"
   ]
  },
  {
   "cell_type": "code",
   "execution_count": 7,
   "metadata": {
    "collapsed": false
   },
   "outputs": [],
   "source": [
    "loans['annual_inc'] = loans['annual_inc'].fillna(loans['annual_inc'].mean())"
   ]
  },
  {
   "cell_type": "code",
   "execution_count": 8,
   "metadata": {
    "collapsed": false
   },
   "outputs": [],
   "source": [
    "def update(item):\n",
    "    s = ''.join(x for x in item if x.isdigit())\n",
    "    if(len(s)!=0):\n",
    "        return int(s)\n",
    "    else:\n",
    "        return 0"
   ]
  },
  {
   "cell_type": "code",
   "execution_count": 9,
   "metadata": {
    "collapsed": false
   },
   "outputs": [],
   "source": [
    "loans['emp_length'] = loans['emp_length'].apply(lambda x:update(x))"
   ]
  },
  {
   "cell_type": "code",
   "execution_count": 10,
   "metadata": {
    "collapsed": false
   },
   "outputs": [
    {
     "name": "stdout",
     "output_type": "stream",
     "text": [
      "['acc_now_delinq' 'addr_state' 'annual_inc' 'application_type'\n",
      " 'batch_enrolled' 'collection_recovery_fee' 'collections_12_mths_ex_med'\n",
      " 'delinq_2yrs' 'desc' 'dti' 'emp_length' 'emp_title' 'funded_amnt'\n",
      " 'funded_amnt_inv' 'grade' 'home_ownership' 'initial_list_status'\n",
      " 'inq_last_6mths' 'int_rate' 'last_week_pay' 'loan_amnt' 'loan_status'\n",
      " 'member_id' 'mths_since_last_delinq' 'mths_since_last_major_derog'\n",
      " 'mths_since_last_record' 'open_acc' 'pub_rec' 'purpose' 'pymnt_plan'\n",
      " 'recoveries' 'revol_bal' 'revol_util' 'sub_grade' 'term' 'title'\n",
      " 'tot_coll_amt' 'tot_cur_bal' 'total_acc' 'total_rec_int'\n",
      " 'total_rec_late_fee' 'total_rev_hi_lim' 'verification_status'\n",
      " 'verification_status_joint' 'zip_code']\n"
     ]
    }
   ],
   "source": [
    "features = loans.columns.values\n",
    "print(features)"
   ]
  },
  {
   "cell_type": "code",
   "execution_count": 11,
   "metadata": {
    "collapsed": false
   },
   "outputs": [
    {
     "data": {
      "text/plain": [
       "['acc_now_delinq',\n",
       " 'batch_enrolled',\n",
       " 'collections_12_mths_ex_med',\n",
       " 'delinq_2yrs',\n",
       " 'desc',\n",
       " 'emp_title',\n",
       " 'inq_last_6mths',\n",
       " 'loan_status',\n",
       " 'mths_since_last_delinq',\n",
       " 'mths_since_last_major_derog',\n",
       " 'mths_since_last_record',\n",
       " 'open_acc',\n",
       " 'pub_rec',\n",
       " 'revol_util',\n",
       " 'title',\n",
       " 'tot_coll_amt',\n",
       " 'tot_cur_bal',\n",
       " 'total_acc',\n",
       " 'total_rev_hi_lim',\n",
       " 'verification_status_joint']"
      ]
     },
     "execution_count": 11,
     "metadata": {},
     "output_type": "execute_result"
    }
   ],
   "source": [
    "loans.columns[loans.isnull().any()].tolist()"
   ]
  },
  {
   "cell_type": "code",
   "execution_count": 12,
   "metadata": {
    "collapsed": false
   },
   "outputs": [
    {
     "data": {
      "text/plain": [
       "count    887379.000000\n",
       "mean          0.314432\n",
       "std           0.862232\n",
       "min           0.000000\n",
       "25%           0.000000\n",
       "50%           0.000000\n",
       "75%           0.000000\n",
       "max          39.000000\n",
       "Name: delinq_2yrs, dtype: float64"
      ]
     },
     "execution_count": 12,
     "metadata": {},
     "output_type": "execute_result"
    }
   ],
   "source": [
    "# delinquence_2 years no of times overdue in past 2 years\n",
    "loans['delinq_2yrs'] = loans['delinq_2yrs'].fillna(0)\n",
    "loans['delinq_2yrs'].describe()"
   ]
  },
  {
   "cell_type": "code",
   "execution_count": 13,
   "metadata": {
    "collapsed": false
   },
   "outputs": [
    {
     "data": {
      "text/plain": [
       "count    887379.000000\n",
       "mean          0.694633\n",
       "std           0.998433\n",
       "min           0.000000\n",
       "25%           0.000000\n",
       "50%           0.000000\n",
       "75%           1.000000\n",
       "max          33.000000\n",
       "Name: inq_last_6mths, dtype: float64"
      ]
     },
     "execution_count": 13,
     "metadata": {},
     "output_type": "execute_result"
    }
   ],
   "source": [
    "# number of inquiries in last 6 months\n",
    "loans['inq_last_6mths'] = loans['inq_last_6mths'].fillna(1)\n",
    "loans['inq_last_6mths'].describe()"
   ]
  },
  {
   "cell_type": "code",
   "execution_count": 14,
   "metadata": {
    "collapsed": false
   },
   "outputs": [
    {
     "data": {
      "text/plain": [
       "count    887379.000000\n",
       "mean         16.624134\n",
       "std          22.883648\n",
       "min           0.000000\n",
       "25%           0.000000\n",
       "50%           0.000000\n",
       "75%          30.000000\n",
       "max         188.000000\n",
       "Name: mths_since_last_delinq, dtype: float64"
      ]
     },
     "execution_count": 14,
     "metadata": {},
     "output_type": "execute_result"
    }
   ],
   "source": [
    "# months since last deliquency\n",
    "loans['mths_since_last_delinq'] = loans['mths_since_last_delinq'].fillna(0)\n",
    "loans['mths_since_last_delinq'].describe()"
   ]
  },
  {
   "cell_type": "code",
   "execution_count": 15,
   "metadata": {
    "collapsed": false
   },
   "outputs": [
    {
     "data": {
      "text/plain": [
       "0.84555302751135653"
      ]
     },
     "execution_count": 15,
     "metadata": {},
     "output_type": "execute_result"
    }
   ],
   "source": [
    "loans['mths_since_last_record'].describe()\n",
    "perc = sum(loans['mths_since_last_record'].isnull())\n",
    "perc = perc/len(loans)\n",
    "perc\n",
    "# we not taking this for modeling out model since it misses 84% of whole data which is very large"
   ]
  },
  {
   "cell_type": "code",
   "execution_count": 16,
   "metadata": {
    "collapsed": false
   },
   "outputs": [
    {
     "data": {
      "text/plain": [
       "count    887379.000000\n",
       "mean         11.548469\n",
       "std           5.317226\n",
       "min           0.000000\n",
       "25%           8.000000\n",
       "50%          11.000000\n",
       "75%          14.000000\n",
       "max          90.000000\n",
       "Name: open_acc, dtype: float64"
      ]
     },
     "execution_count": 16,
     "metadata": {},
     "output_type": "execute_result"
    }
   ],
   "source": [
    "# no of times borrowed money from credit line type loan \n",
    "loans['open_acc'] = loans['open_acc'].fillna(loans['open_acc'].mean())\n",
    "loans['open_acc'].describe()"
   ]
  },
  {
   "cell_type": "code",
   "execution_count": 17,
   "metadata": {
    "collapsed": false
   },
   "outputs": [
    {
     "data": {
      "text/plain": [
       "count    887379.000000\n",
       "mean          0.195301\n",
       "std           0.582082\n",
       "min           0.000000\n",
       "25%           0.000000\n",
       "50%           0.000000\n",
       "75%           0.000000\n",
       "max          86.000000\n",
       "Name: pub_rec, dtype: float64"
      ]
     },
     "execution_count": 17,
     "metadata": {},
     "output_type": "execute_result"
    }
   ],
   "source": [
    "#no of derogatory public records\n",
    "loans['pub_rec'] = loans['pub_rec'].fillna(0)\n",
    "loans['pub_rec'].describe()"
   ]
  },
  {
   "cell_type": "code",
   "execution_count": 18,
   "metadata": {
    "collapsed": true
   },
   "outputs": [],
   "source": [
    "# revolving utilization\n",
    "loans['revol_util'] = loans['revol_util'].fillna(loans['revol_util'].mean())"
   ]
  },
  {
   "cell_type": "code",
   "execution_count": 19,
   "metadata": {
    "collapsed": false
   },
   "outputs": [
    {
     "data": {
      "text/plain": [
       "count    887379.000000\n",
       "mean         25.268026\n",
       "std          11.840368\n",
       "min           1.000000\n",
       "25%          17.000000\n",
       "50%          24.000000\n",
       "75%          32.000000\n",
       "max         169.000000\n",
       "Name: total_acc, dtype: float64"
      ]
     },
     "execution_count": 19,
     "metadata": {},
     "output_type": "execute_result"
    }
   ],
   "source": [
    "# total credit lines available in member credit line\n",
    "loans['total_acc'] = loans['total_acc'].fillna(loans['total_acc'].mean())\n",
    "loans['total_acc'].describe()"
   ]
  },
  {
   "cell_type": "code",
   "execution_count": 20,
   "metadata": {
    "collapsed": false
   },
   "outputs": [
    {
     "data": {
      "text/plain": [
       "count    887379.000000\n",
       "mean          0.014377\n",
       "std           0.134180\n",
       "min           0.000000\n",
       "25%           0.000000\n",
       "50%           0.000000\n",
       "75%           0.000000\n",
       "max          20.000000\n",
       "Name: collections_12_mths_ex_med, dtype: float64"
      ]
     },
     "execution_count": 20,
     "metadata": {},
     "output_type": "execute_result"
    }
   ],
   "source": [
    "# collection items excluding medical \n",
    "# lower the collection item more the chance of approval\n",
    "loans['collections_12_mths_ex_med'] = loans['collections_12_mths_ex_med'].fillna(0)\n",
    "loans['collections_12_mths_ex_med'].describe()"
   ]
  },
  {
   "cell_type": "code",
   "execution_count": 21,
   "metadata": {
    "collapsed": false
   },
   "outputs": [
    {
     "data": {
      "text/plain": [
       "0.75015974008850783"
      ]
     },
     "execution_count": 21,
     "metadata": {},
     "output_type": "execute_result"
    }
   ],
   "source": [
    "loans['mths_since_last_major_derog'].describe()\n",
    "perc = sum(loans['mths_since_last_major_derog'].isnull())/len(loans)\n",
    "perc\n",
    "# as we see more than 75% data is missing so this feature is not useful in predicting model"
   ]
  },
  {
   "cell_type": "code",
   "execution_count": 22,
   "metadata": {
    "collapsed": false
   },
   "outputs": [
    {
     "data": {
      "text/plain": [
       "count              511\n",
       "unique               3\n",
       "top       Not Verified\n",
       "freq               283\n",
       "Name: verification_status_joint, dtype: object"
      ]
     },
     "execution_count": 22,
     "metadata": {},
     "output_type": "execute_result"
    }
   ],
   "source": [
    "loans['verification_status_joint'].describe()\n",
    "# leaving this also"
   ]
  },
  {
   "cell_type": "code",
   "execution_count": 23,
   "metadata": {
    "collapsed": false
   },
   "outputs": [
    {
     "data": {
      "text/plain": [
       "count    887379.000000\n",
       "mean          0.004991\n",
       "std           0.077624\n",
       "min           0.000000\n",
       "25%           0.000000\n",
       "50%           0.000000\n",
       "75%           0.000000\n",
       "max          14.000000\n",
       "Name: acc_now_delinq, dtype: float64"
      ]
     },
     "execution_count": 23,
     "metadata": {},
     "output_type": "execute_result"
    }
   ],
   "source": [
    "# no of deliquent account\n",
    "loans['acc_now_delinq'] = loans['acc_now_delinq'].fillna(0)\n",
    "loans['acc_now_delinq'].describe()"
   ]
  },
  {
   "cell_type": "code",
   "execution_count": 24,
   "metadata": {
    "collapsed": false
   },
   "outputs": [
    {
     "data": {
      "text/plain": [
       "count    8.873790e+05\n",
       "mean     2.257026e+02\n",
       "std      9.894641e+03\n",
       "min      0.000000e+00\n",
       "25%      0.000000e+00\n",
       "50%      0.000000e+00\n",
       "75%      0.000000e+00\n",
       "max      9.152545e+06\n",
       "Name: tot_coll_amt, dtype: float64"
      ]
     },
     "execution_count": 24,
     "metadata": {},
     "output_type": "execute_result"
    }
   ],
   "source": [
    "# total collection ammont we are considering to be mean for time being\n",
    "loans['tot_coll_amt'] = loans['tot_coll_amt'].fillna(loans['tot_coll_amt'].mean())\n",
    "loans['tot_coll_amt'].describe()"
   ]
  },
  {
   "cell_type": "code",
   "execution_count": 25,
   "metadata": {
    "collapsed": false
   },
   "outputs": [
    {
     "data": {
      "text/plain": [
       "count    8.873790e+05\n",
       "mean     1.394582e+05\n",
       "std      1.475363e+05\n",
       "min      0.000000e+00\n",
       "25%      3.224600e+04\n",
       "50%      1.000890e+05\n",
       "75%      1.957940e+05\n",
       "max      8.000078e+06\n",
       "Name: tot_cur_bal, dtype: float64"
      ]
     },
     "execution_count": 25,
     "metadata": {},
     "output_type": "execute_result"
    }
   ],
   "source": [
    "#total current balance of all accounts\n",
    "loans['tot_cur_bal'] = loans['tot_cur_bal'].fillna(loans['tot_cur_bal'].mean())\n",
    "loans['tot_cur_bal'].describe()"
   ]
  },
  {
   "cell_type": "code",
   "execution_count": 26,
   "metadata": {
    "collapsed": false
   },
   "outputs": [
    {
     "data": {
      "text/plain": [
       "count    8.873790e+05\n",
       "mean     3.206862e+04\n",
       "std      3.598280e+04\n",
       "min      0.000000e+00\n",
       "25%      1.470000e+04\n",
       "50%      2.580000e+04\n",
       "75%      3.780000e+04\n",
       "max      9.999999e+06\n",
       "Name: total_rev_hi_lim, dtype: float64"
      ]
     },
     "execution_count": 26,
     "metadata": {},
     "output_type": "execute_result"
    }
   ],
   "source": [
    "# revolving card limit\n",
    "loans['total_rev_hi_lim'] = loans['total_rev_hi_lim'].fillna(loans['total_rev_hi_lim'].mean())\n",
    "loans['total_rev_hi_lim'].describe()"
   ]
  },
  {
   "cell_type": "code",
   "execution_count": 27,
   "metadata": {
    "collapsed": false
   },
   "outputs": [
    {
     "data": {
      "text/html": [
       "<div>\n",
       "<table border=\"1\" class=\"dataframe\">\n",
       "  <thead>\n",
       "    <tr style=\"text-align: right;\">\n",
       "      <th></th>\n",
       "      <th>acc_now_delinq</th>\n",
       "      <th>addr_state</th>\n",
       "      <th>annual_inc</th>\n",
       "      <th>application_type</th>\n",
       "      <th>batch_enrolled</th>\n",
       "      <th>collection_recovery_fee</th>\n",
       "      <th>collections_12_mths_ex_med</th>\n",
       "      <th>delinq_2yrs</th>\n",
       "      <th>desc</th>\n",
       "      <th>dti</th>\n",
       "      <th>...</th>\n",
       "      <th>title</th>\n",
       "      <th>tot_coll_amt</th>\n",
       "      <th>tot_cur_bal</th>\n",
       "      <th>total_acc</th>\n",
       "      <th>total_rec_int</th>\n",
       "      <th>total_rec_late_fee</th>\n",
       "      <th>total_rev_hi_lim</th>\n",
       "      <th>verification_status</th>\n",
       "      <th>verification_status_joint</th>\n",
       "      <th>zip_code</th>\n",
       "    </tr>\n",
       "  </thead>\n",
       "  <tbody>\n",
       "    <tr>\n",
       "      <th>0</th>\n",
       "      <td>0.0</td>\n",
       "      <td>FL</td>\n",
       "      <td>28700.0</td>\n",
       "      <td>INDIVIDUAL</td>\n",
       "      <td></td>\n",
       "      <td>0.0</td>\n",
       "      <td>0.0</td>\n",
       "      <td>0.0</td>\n",
       "      <td>NaN</td>\n",
       "      <td>33.88</td>\n",
       "      <td>...</td>\n",
       "      <td>Debt consolidation</td>\n",
       "      <td>0.0</td>\n",
       "      <td>28699.0</td>\n",
       "      <td>28.0</td>\n",
       "      <td>1173.84</td>\n",
       "      <td>0.0</td>\n",
       "      <td>30800.0</td>\n",
       "      <td>Source Verified</td>\n",
       "      <td>NaN</td>\n",
       "      <td>349xx</td>\n",
       "    </tr>\n",
       "    <tr>\n",
       "      <th>1</th>\n",
       "      <td>0.0</td>\n",
       "      <td>MD</td>\n",
       "      <td>65000.0</td>\n",
       "      <td>INDIVIDUAL</td>\n",
       "      <td>BAT1586599</td>\n",
       "      <td>0.0</td>\n",
       "      <td>0.0</td>\n",
       "      <td>0.0</td>\n",
       "      <td>NaN</td>\n",
       "      <td>3.64</td>\n",
       "      <td>...</td>\n",
       "      <td>Home improvement</td>\n",
       "      <td>0.0</td>\n",
       "      <td>9974.0</td>\n",
       "      <td>13.0</td>\n",
       "      <td>83.95</td>\n",
       "      <td>0.0</td>\n",
       "      <td>32900.0</td>\n",
       "      <td>Source Verified</td>\n",
       "      <td>NaN</td>\n",
       "      <td>209xx</td>\n",
       "    </tr>\n",
       "    <tr>\n",
       "      <th>2</th>\n",
       "      <td>0.0</td>\n",
       "      <td>OH</td>\n",
       "      <td>45000.0</td>\n",
       "      <td>INDIVIDUAL</td>\n",
       "      <td>BAT1586599</td>\n",
       "      <td>0.0</td>\n",
       "      <td>0.0</td>\n",
       "      <td>0.0</td>\n",
       "      <td>NaN</td>\n",
       "      <td>18.42</td>\n",
       "      <td>...</td>\n",
       "      <td>Debt consolidation</td>\n",
       "      <td>65.0</td>\n",
       "      <td>38295.0</td>\n",
       "      <td>19.0</td>\n",
       "      <td>56.47</td>\n",
       "      <td>0.0</td>\n",
       "      <td>34900.0</td>\n",
       "      <td>Not Verified</td>\n",
       "      <td>NaN</td>\n",
       "      <td>447xx</td>\n",
       "    </tr>\n",
       "    <tr>\n",
       "      <th>3</th>\n",
       "      <td>0.0</td>\n",
       "      <td>VA</td>\n",
       "      <td>105000.0</td>\n",
       "      <td>INDIVIDUAL</td>\n",
       "      <td>BAT4808022</td>\n",
       "      <td>0.0</td>\n",
       "      <td>0.0</td>\n",
       "      <td>0.0</td>\n",
       "      <td>&gt; My goal is to obtain a loan to pay off my hi...</td>\n",
       "      <td>14.97</td>\n",
       "      <td>...</td>\n",
       "      <td>Debt consolidation</td>\n",
       "      <td>0.0</td>\n",
       "      <td>55564.0</td>\n",
       "      <td>21.0</td>\n",
       "      <td>4858.62</td>\n",
       "      <td>0.0</td>\n",
       "      <td>24700.0</td>\n",
       "      <td>Not Verified</td>\n",
       "      <td>NaN</td>\n",
       "      <td>221xx</td>\n",
       "    </tr>\n",
       "    <tr>\n",
       "      <th>4</th>\n",
       "      <td>0.0</td>\n",
       "      <td>CA</td>\n",
       "      <td>52000.0</td>\n",
       "      <td>INDIVIDUAL</td>\n",
       "      <td>BAT2833642</td>\n",
       "      <td>0.0</td>\n",
       "      <td>0.0</td>\n",
       "      <td>0.0</td>\n",
       "      <td>NaN</td>\n",
       "      <td>20.16</td>\n",
       "      <td>...</td>\n",
       "      <td>refi</td>\n",
       "      <td>0.0</td>\n",
       "      <td>47159.0</td>\n",
       "      <td>27.0</td>\n",
       "      <td>2296.41</td>\n",
       "      <td>0.0</td>\n",
       "      <td>47033.0</td>\n",
       "      <td>Verified</td>\n",
       "      <td>NaN</td>\n",
       "      <td>900xx</td>\n",
       "    </tr>\n",
       "  </tbody>\n",
       "</table>\n",
       "<p>5 rows × 45 columns</p>\n",
       "</div>"
      ],
      "text/plain": [
       "   acc_now_delinq addr_state  annual_inc application_type batch_enrolled  \\\n",
       "0             0.0         FL     28700.0       INDIVIDUAL                  \n",
       "1             0.0         MD     65000.0       INDIVIDUAL     BAT1586599   \n",
       "2             0.0         OH     45000.0       INDIVIDUAL     BAT1586599   \n",
       "3             0.0         VA    105000.0       INDIVIDUAL     BAT4808022   \n",
       "4             0.0         CA     52000.0       INDIVIDUAL     BAT2833642   \n",
       "\n",
       "   collection_recovery_fee  collections_12_mths_ex_med  delinq_2yrs  \\\n",
       "0                      0.0                         0.0          0.0   \n",
       "1                      0.0                         0.0          0.0   \n",
       "2                      0.0                         0.0          0.0   \n",
       "3                      0.0                         0.0          0.0   \n",
       "4                      0.0                         0.0          0.0   \n",
       "\n",
       "                                                desc    dti   ...     \\\n",
       "0                                                NaN  33.88   ...      \n",
       "1                                                NaN   3.64   ...      \n",
       "2                                                NaN  18.42   ...      \n",
       "3  > My goal is to obtain a loan to pay off my hi...  14.97   ...      \n",
       "4                                                NaN  20.16   ...      \n",
       "\n",
       "                title tot_coll_amt  tot_cur_bal  total_acc total_rec_int  \\\n",
       "0  Debt consolidation          0.0      28699.0       28.0       1173.84   \n",
       "1    Home improvement          0.0       9974.0       13.0         83.95   \n",
       "2  Debt consolidation         65.0      38295.0       19.0         56.47   \n",
       "3  Debt consolidation          0.0      55564.0       21.0       4858.62   \n",
       "4                refi          0.0      47159.0       27.0       2296.41   \n",
       "\n",
       "  total_rec_late_fee total_rev_hi_lim  verification_status  \\\n",
       "0                0.0          30800.0      Source Verified   \n",
       "1                0.0          32900.0      Source Verified   \n",
       "2                0.0          34900.0         Not Verified   \n",
       "3                0.0          24700.0         Not Verified   \n",
       "4                0.0          47033.0             Verified   \n",
       "\n",
       "   verification_status_joint zip_code  \n",
       "0                        NaN    349xx  \n",
       "1                        NaN    209xx  \n",
       "2                        NaN    447xx  \n",
       "3                        NaN    221xx  \n",
       "4                        NaN    900xx  \n",
       "\n",
       "[5 rows x 45 columns]"
      ]
     },
     "execution_count": 27,
     "metadata": {},
     "output_type": "execute_result"
    }
   ],
   "source": [
    "loans.head()"
   ]
  },
  {
   "cell_type": "code",
   "execution_count": 28,
   "metadata": {
    "collapsed": false
   },
   "outputs": [
    {
     "name": "stdout",
     "output_type": "stream",
     "text": [
      "Index(['acc_now_delinq', 'annual_inc', 'collection_recovery_fee',\n",
      "       'collections_12_mths_ex_med', 'delinq_2yrs', 'dti', 'emp_length',\n",
      "       'funded_amnt', 'funded_amnt_inv', 'inq_last_6mths', 'int_rate',\n",
      "       'loan_amnt', 'loan_status', 'member_id', 'mths_since_last_delinq',\n",
      "       'mths_since_last_major_derog', 'mths_since_last_record', 'open_acc',\n",
      "       'pub_rec', 'recoveries', 'revol_bal', 'revol_util', 'tot_coll_amt',\n",
      "       'tot_cur_bal', 'total_acc', 'total_rec_int', 'total_rec_late_fee',\n",
      "       'total_rev_hi_lim'],\n",
      "      dtype='object')\n",
      "Index(['addr_state', 'application_type', 'batch_enrolled', 'desc', 'emp_title',\n",
      "       'grade', 'home_ownership', 'initial_list_status', 'last_week_pay',\n",
      "       'purpose', 'pymnt_plan', 'sub_grade', 'term', 'title',\n",
      "       'verification_status', 'verification_status_joint', 'zip_code'],\n",
      "      dtype='object')\n"
     ]
    }
   ],
   "source": [
    "numerical_features = loans.select_dtypes(exclude=['object']).columns\n",
    "categorical_features = loans.select_dtypes(include=['object']).columns\n",
    "print(numerical_features)\n",
    "print(categorical_features)"
   ]
  },
  {
   "cell_type": "code",
   "execution_count": 29,
   "metadata": {
    "collapsed": true
   },
   "outputs": [],
   "source": [
    "numeric_important = ['loan_amnt','emp_length','annual_inc','dti','delinq_2yrs','inq_last_6mths','mths_since_last_delinq',\n",
    "                     'open_acc', 'pub_rec', 'revol_bal', 'revol_util', 'total_acc', 'total_rec_int',\n",
    "                     'total_rec_late_fee', 'recoveries', 'collection_recovery_fee','collections_12_mths_ex_med',\n",
    "                     'acc_now_delinq', 'tot_coll_amt', 'tot_cur_bal', 'total_rev_hi_lim'\n",
    "                    ]\n",
    "category_important = ['term','grade','home_ownership','verification_status','title']"
   ]
  },
  {
   "cell_type": "code",
   "execution_count": 30,
   "metadata": {
    "collapsed": false
   },
   "outputs": [
    {
     "name": "stdout",
     "output_type": "stream",
     "text": [
      "term :\n",
      "36 months    621125\n",
      "60 months    266254\n",
      "Name: term, dtype: int64 \n",
      "\n",
      "grade :\n",
      "B    254535\n",
      "C    245860\n",
      "A    148202\n",
      "D    139542\n",
      "E     70705\n",
      "F     23046\n",
      "G      5489\n",
      "Name: grade, dtype: int64 \n",
      "\n",
      "home_ownership :\n",
      "MORTGAGE    443557\n",
      "RENT        356117\n",
      "OWN          87470\n",
      "OTHER          182\n",
      "NONE            50\n",
      "ANY              3\n",
      "Name: home_ownership, dtype: int64 \n",
      "\n",
      "verification_status :\n",
      "Source Verified    329558\n",
      "Verified           291071\n",
      "Not Verified       266750\n",
      "Name: verification_status, dtype: int64 \n",
      "\n",
      "title :\n",
      "Debt consolidation                          414352\n",
      "Credit card refinancing                     164341\n",
      "Home improvement                             40170\n",
      "Other                                        31892\n",
      "Debt Consolidation                           16414\n",
      "Major purchase                               12051\n",
      "Business                                      6746\n",
      "Medical expenses                              6675\n",
      "Consolidation                                 5675\n",
      "Car financing                                 5565\n",
      "debt consolidation                            5082\n",
      "Moving and relocation                         3921\n",
      "Debt Consolidation Loan                       3867\n",
      "Vacation                                      3818\n",
      "Credit Card Consolidation                     2448\n",
      "Home buying                                   2366\n",
      "consolidation                                 2267\n",
      "Personal Loan                                 2192\n",
      "Home Improvement                              1863\n",
      "Consolidation Loan                            1829\n",
      "Credit Card Refinance                         1505\n",
      "Credit Card Payoff                            1402\n",
      "Consolidate                                   1331\n",
      "Personal                                      1272\n",
      "Loan                                          1082\n",
      "Debt                                           844\n",
      "Freedom                                        837\n",
      "personal                                       817\n",
      "Credit Card Loan                               789\n",
      "consolidate                                    788\n",
      "                                             ...  \n",
      "Would like to pay for some expenses now          1\n",
      "auto credit loan                                 1\n",
      "Replacement Fence Fund                           1\n",
      "Texas Loan Star                                  1\n",
      "Restaurant                                       1\n",
      "(!) Pls Help Me Rid My High-Interest CCs         1\n",
      "Adios Chase Card                                 1\n",
      "Business Growth / Debt Consolidation             1\n",
      "payoffquick                                      1\n",
      "Help me lower my monthly payments!               1\n",
      "repaymentplan                                    1\n",
      "Vacation & Credit Card Payoff                    1\n",
      "Consodidate credit card debts                    1\n",
      "PoolFund                                         1\n",
      "wedding and family gethering                     1\n",
      "Payoff of second mortgage                        1\n",
      "lending club deal                                1\n",
      "I'D RATHER PAY YOU                               1\n",
      "Trying to save money.                            1\n",
      "adil                                             1\n",
      "DC CAS                                           1\n",
      "Success in life                                  1\n",
      "consolated dept                                  1\n",
      "Help a Student in Need!                          1\n",
      "Get Rid Of Credit Cards                          1\n",
      "Pay off Chase Credit Card                        1\n",
      "no bills                                         1\n",
      "The Movement                                     1\n",
      "bundle debts into one payment                    1\n",
      "Payoff cabel                                     1\n",
      "Name: title, dtype: int64 \n",
      "\n"
     ]
    }
   ],
   "source": [
    "for col in category_important:\n",
    "    print(col,':')\n",
    "    print(loans[col].value_counts(),'\\n')"
   ]
  },
  {
   "cell_type": "code",
   "execution_count": 31,
   "metadata": {
    "collapsed": false
   },
   "outputs": [
    {
     "name": "stdout",
     "output_type": "stream",
     "text": [
      "['term', 'grade', 'home_ownership', 'verification_status']\n"
     ]
    }
   ],
   "source": [
    "# since title contains too many unique values drop it\n",
    "category_important.remove('title')\n",
    "print(category_important)"
   ]
  },
  {
   "cell_type": "code",
   "execution_count": 32,
   "metadata": {
    "collapsed": false
   },
   "outputs": [
    {
     "name": "stdout",
     "output_type": "stream",
     "text": [
      "['term', 'grade', 'home_ownership', 'verification_status', 'loan_amnt', 'emp_length', 'annual_inc', 'dti', 'delinq_2yrs', 'inq_last_6mths', 'mths_since_last_delinq', 'open_acc', 'pub_rec', 'revol_bal', 'revol_util', 'total_acc', 'total_rec_int', 'total_rec_late_fee', 'recoveries', 'collection_recovery_fee', 'collections_12_mths_ex_med', 'acc_now_delinq', 'tot_coll_amt', 'tot_cur_bal', 'total_rev_hi_lim']\n"
     ]
    },
    {
     "data": {
      "text/html": [
       "<div>\n",
       "<table border=\"1\" class=\"dataframe\">\n",
       "  <thead>\n",
       "    <tr style=\"text-align: right;\">\n",
       "      <th></th>\n",
       "      <th>term</th>\n",
       "      <th>grade</th>\n",
       "      <th>home_ownership</th>\n",
       "      <th>verification_status</th>\n",
       "      <th>loan_amnt</th>\n",
       "      <th>emp_length</th>\n",
       "      <th>annual_inc</th>\n",
       "      <th>dti</th>\n",
       "      <th>delinq_2yrs</th>\n",
       "      <th>inq_last_6mths</th>\n",
       "      <th>...</th>\n",
       "      <th>total_acc</th>\n",
       "      <th>total_rec_int</th>\n",
       "      <th>total_rec_late_fee</th>\n",
       "      <th>recoveries</th>\n",
       "      <th>collection_recovery_fee</th>\n",
       "      <th>collections_12_mths_ex_med</th>\n",
       "      <th>acc_now_delinq</th>\n",
       "      <th>tot_coll_amt</th>\n",
       "      <th>tot_cur_bal</th>\n",
       "      <th>total_rev_hi_lim</th>\n",
       "    </tr>\n",
       "  </thead>\n",
       "  <tbody>\n",
       "    <tr>\n",
       "      <th>0</th>\n",
       "      <td>36 months</td>\n",
       "      <td>E</td>\n",
       "      <td>OWN</td>\n",
       "      <td>Source Verified</td>\n",
       "      <td>14350</td>\n",
       "      <td>9</td>\n",
       "      <td>28700.0</td>\n",
       "      <td>33.88</td>\n",
       "      <td>0.0</td>\n",
       "      <td>1.0</td>\n",
       "      <td>...</td>\n",
       "      <td>28.0</td>\n",
       "      <td>1173.84</td>\n",
       "      <td>0.0</td>\n",
       "      <td>0.0</td>\n",
       "      <td>0.0</td>\n",
       "      <td>0.0</td>\n",
       "      <td>0.0</td>\n",
       "      <td>0.0</td>\n",
       "      <td>28699.0</td>\n",
       "      <td>30800.0</td>\n",
       "    </tr>\n",
       "    <tr>\n",
       "      <th>1</th>\n",
       "      <td>36 months</td>\n",
       "      <td>B</td>\n",
       "      <td>MORTGAGE</td>\n",
       "      <td>Source Verified</td>\n",
       "      <td>4800</td>\n",
       "      <td>1</td>\n",
       "      <td>65000.0</td>\n",
       "      <td>3.64</td>\n",
       "      <td>0.0</td>\n",
       "      <td>1.0</td>\n",
       "      <td>...</td>\n",
       "      <td>13.0</td>\n",
       "      <td>83.95</td>\n",
       "      <td>0.0</td>\n",
       "      <td>0.0</td>\n",
       "      <td>0.0</td>\n",
       "      <td>0.0</td>\n",
       "      <td>0.0</td>\n",
       "      <td>0.0</td>\n",
       "      <td>9974.0</td>\n",
       "      <td>32900.0</td>\n",
       "    </tr>\n",
       "    <tr>\n",
       "      <th>2</th>\n",
       "      <td>36 months</td>\n",
       "      <td>A</td>\n",
       "      <td>OWN</td>\n",
       "      <td>Not Verified</td>\n",
       "      <td>10000</td>\n",
       "      <td>2</td>\n",
       "      <td>45000.0</td>\n",
       "      <td>18.42</td>\n",
       "      <td>0.0</td>\n",
       "      <td>0.0</td>\n",
       "      <td>...</td>\n",
       "      <td>19.0</td>\n",
       "      <td>56.47</td>\n",
       "      <td>0.0</td>\n",
       "      <td>0.0</td>\n",
       "      <td>0.0</td>\n",
       "      <td>0.0</td>\n",
       "      <td>0.0</td>\n",
       "      <td>65.0</td>\n",
       "      <td>38295.0</td>\n",
       "      <td>34900.0</td>\n",
       "    </tr>\n",
       "    <tr>\n",
       "      <th>3</th>\n",
       "      <td>36 months</td>\n",
       "      <td>D</td>\n",
       "      <td>RENT</td>\n",
       "      <td>Not Verified</td>\n",
       "      <td>15000</td>\n",
       "      <td>10</td>\n",
       "      <td>105000.0</td>\n",
       "      <td>14.97</td>\n",
       "      <td>0.0</td>\n",
       "      <td>2.0</td>\n",
       "      <td>...</td>\n",
       "      <td>21.0</td>\n",
       "      <td>4858.62</td>\n",
       "      <td>0.0</td>\n",
       "      <td>0.0</td>\n",
       "      <td>0.0</td>\n",
       "      <td>0.0</td>\n",
       "      <td>0.0</td>\n",
       "      <td>0.0</td>\n",
       "      <td>55564.0</td>\n",
       "      <td>24700.0</td>\n",
       "    </tr>\n",
       "    <tr>\n",
       "      <th>4</th>\n",
       "      <td>36 months</td>\n",
       "      <td>B</td>\n",
       "      <td>RENT</td>\n",
       "      <td>Verified</td>\n",
       "      <td>16000</td>\n",
       "      <td>10</td>\n",
       "      <td>52000.0</td>\n",
       "      <td>20.16</td>\n",
       "      <td>0.0</td>\n",
       "      <td>0.0</td>\n",
       "      <td>...</td>\n",
       "      <td>27.0</td>\n",
       "      <td>2296.41</td>\n",
       "      <td>0.0</td>\n",
       "      <td>0.0</td>\n",
       "      <td>0.0</td>\n",
       "      <td>0.0</td>\n",
       "      <td>0.0</td>\n",
       "      <td>0.0</td>\n",
       "      <td>47159.0</td>\n",
       "      <td>47033.0</td>\n",
       "    </tr>\n",
       "  </tbody>\n",
       "</table>\n",
       "<p>5 rows × 25 columns</p>\n",
       "</div>"
      ],
      "text/plain": [
       "        term grade home_ownership verification_status  loan_amnt  emp_length  \\\n",
       "0  36 months     E            OWN     Source Verified      14350           9   \n",
       "1  36 months     B       MORTGAGE     Source Verified       4800           1   \n",
       "2  36 months     A            OWN        Not Verified      10000           2   \n",
       "3  36 months     D           RENT        Not Verified      15000          10   \n",
       "4  36 months     B           RENT            Verified      16000          10   \n",
       "\n",
       "   annual_inc    dti  delinq_2yrs  inq_last_6mths        ...         \\\n",
       "0     28700.0  33.88          0.0             1.0        ...          \n",
       "1     65000.0   3.64          0.0             1.0        ...          \n",
       "2     45000.0  18.42          0.0             0.0        ...          \n",
       "3    105000.0  14.97          0.0             2.0        ...          \n",
       "4     52000.0  20.16          0.0             0.0        ...          \n",
       "\n",
       "   total_acc  total_rec_int  total_rec_late_fee  recoveries  \\\n",
       "0       28.0        1173.84                 0.0         0.0   \n",
       "1       13.0          83.95                 0.0         0.0   \n",
       "2       19.0          56.47                 0.0         0.0   \n",
       "3       21.0        4858.62                 0.0         0.0   \n",
       "4       27.0        2296.41                 0.0         0.0   \n",
       "\n",
       "   collection_recovery_fee  collections_12_mths_ex_med  acc_now_delinq  \\\n",
       "0                      0.0                         0.0             0.0   \n",
       "1                      0.0                         0.0             0.0   \n",
       "2                      0.0                         0.0             0.0   \n",
       "3                      0.0                         0.0             0.0   \n",
       "4                      0.0                         0.0             0.0   \n",
       "\n",
       "   tot_coll_amt  tot_cur_bal  total_rev_hi_lim  \n",
       "0           0.0      28699.0           30800.0  \n",
       "1           0.0       9974.0           32900.0  \n",
       "2          65.0      38295.0           34900.0  \n",
       "3           0.0      55564.0           24700.0  \n",
       "4           0.0      47159.0           47033.0  \n",
       "\n",
       "[5 rows x 25 columns]"
      ]
     },
     "execution_count": 32,
     "metadata": {},
     "output_type": "execute_result"
    }
   ],
   "source": [
    "total = category_important+numeric_important\n",
    "print(total)\n",
    "df_imp = loans[total]\n",
    "df_imp.head()"
   ]
  },
  {
   "cell_type": "code",
   "execution_count": 33,
   "metadata": {
    "collapsed": false
   },
   "outputs": [
    {
     "data": {
      "text/html": [
       "<div>\n",
       "<table border=\"1\" class=\"dataframe\">\n",
       "  <thead>\n",
       "    <tr style=\"text-align: right;\">\n",
       "      <th></th>\n",
       "      <th>term</th>\n",
       "      <th>grade</th>\n",
       "      <th>home_ownership</th>\n",
       "      <th>verification_status</th>\n",
       "      <th>loan_amnt</th>\n",
       "      <th>emp_length</th>\n",
       "      <th>annual_inc</th>\n",
       "      <th>dti</th>\n",
       "      <th>delinq_2yrs</th>\n",
       "      <th>inq_last_6mths</th>\n",
       "      <th>...</th>\n",
       "      <th>total_acc</th>\n",
       "      <th>total_rec_int</th>\n",
       "      <th>total_rec_late_fee</th>\n",
       "      <th>recoveries</th>\n",
       "      <th>collection_recovery_fee</th>\n",
       "      <th>collections_12_mths_ex_med</th>\n",
       "      <th>acc_now_delinq</th>\n",
       "      <th>tot_coll_amt</th>\n",
       "      <th>tot_cur_bal</th>\n",
       "      <th>total_rev_hi_lim</th>\n",
       "    </tr>\n",
       "  </thead>\n",
       "  <tbody>\n",
       "    <tr>\n",
       "      <th>0</th>\n",
       "      <td>36 months</td>\n",
       "      <td>3</td>\n",
       "      <td>OWN</td>\n",
       "      <td>Source Verified</td>\n",
       "      <td>14350</td>\n",
       "      <td>9</td>\n",
       "      <td>28700.0</td>\n",
       "      <td>33.88</td>\n",
       "      <td>0.0</td>\n",
       "      <td>1.0</td>\n",
       "      <td>...</td>\n",
       "      <td>28.0</td>\n",
       "      <td>1173.84</td>\n",
       "      <td>0.0</td>\n",
       "      <td>0.0</td>\n",
       "      <td>0.0</td>\n",
       "      <td>0.0</td>\n",
       "      <td>0.0</td>\n",
       "      <td>0.0</td>\n",
       "      <td>28699.0</td>\n",
       "      <td>30800.0</td>\n",
       "    </tr>\n",
       "    <tr>\n",
       "      <th>1</th>\n",
       "      <td>36 months</td>\n",
       "      <td>6</td>\n",
       "      <td>MORTGAGE</td>\n",
       "      <td>Source Verified</td>\n",
       "      <td>4800</td>\n",
       "      <td>1</td>\n",
       "      <td>65000.0</td>\n",
       "      <td>3.64</td>\n",
       "      <td>0.0</td>\n",
       "      <td>1.0</td>\n",
       "      <td>...</td>\n",
       "      <td>13.0</td>\n",
       "      <td>83.95</td>\n",
       "      <td>0.0</td>\n",
       "      <td>0.0</td>\n",
       "      <td>0.0</td>\n",
       "      <td>0.0</td>\n",
       "      <td>0.0</td>\n",
       "      <td>0.0</td>\n",
       "      <td>9974.0</td>\n",
       "      <td>32900.0</td>\n",
       "    </tr>\n",
       "    <tr>\n",
       "      <th>2</th>\n",
       "      <td>36 months</td>\n",
       "      <td>7</td>\n",
       "      <td>OWN</td>\n",
       "      <td>Not Verified</td>\n",
       "      <td>10000</td>\n",
       "      <td>2</td>\n",
       "      <td>45000.0</td>\n",
       "      <td>18.42</td>\n",
       "      <td>0.0</td>\n",
       "      <td>0.0</td>\n",
       "      <td>...</td>\n",
       "      <td>19.0</td>\n",
       "      <td>56.47</td>\n",
       "      <td>0.0</td>\n",
       "      <td>0.0</td>\n",
       "      <td>0.0</td>\n",
       "      <td>0.0</td>\n",
       "      <td>0.0</td>\n",
       "      <td>65.0</td>\n",
       "      <td>38295.0</td>\n",
       "      <td>34900.0</td>\n",
       "    </tr>\n",
       "    <tr>\n",
       "      <th>3</th>\n",
       "      <td>36 months</td>\n",
       "      <td>4</td>\n",
       "      <td>RENT</td>\n",
       "      <td>Not Verified</td>\n",
       "      <td>15000</td>\n",
       "      <td>10</td>\n",
       "      <td>105000.0</td>\n",
       "      <td>14.97</td>\n",
       "      <td>0.0</td>\n",
       "      <td>2.0</td>\n",
       "      <td>...</td>\n",
       "      <td>21.0</td>\n",
       "      <td>4858.62</td>\n",
       "      <td>0.0</td>\n",
       "      <td>0.0</td>\n",
       "      <td>0.0</td>\n",
       "      <td>0.0</td>\n",
       "      <td>0.0</td>\n",
       "      <td>0.0</td>\n",
       "      <td>55564.0</td>\n",
       "      <td>24700.0</td>\n",
       "    </tr>\n",
       "    <tr>\n",
       "      <th>4</th>\n",
       "      <td>36 months</td>\n",
       "      <td>6</td>\n",
       "      <td>RENT</td>\n",
       "      <td>Verified</td>\n",
       "      <td>16000</td>\n",
       "      <td>10</td>\n",
       "      <td>52000.0</td>\n",
       "      <td>20.16</td>\n",
       "      <td>0.0</td>\n",
       "      <td>0.0</td>\n",
       "      <td>...</td>\n",
       "      <td>27.0</td>\n",
       "      <td>2296.41</td>\n",
       "      <td>0.0</td>\n",
       "      <td>0.0</td>\n",
       "      <td>0.0</td>\n",
       "      <td>0.0</td>\n",
       "      <td>0.0</td>\n",
       "      <td>0.0</td>\n",
       "      <td>47159.0</td>\n",
       "      <td>47033.0</td>\n",
       "    </tr>\n",
       "  </tbody>\n",
       "</table>\n",
       "<p>5 rows × 25 columns</p>\n",
       "</div>"
      ],
      "text/plain": [
       "        term  grade home_ownership verification_status  loan_amnt  emp_length  \\\n",
       "0  36 months      3            OWN     Source Verified      14350           9   \n",
       "1  36 months      6       MORTGAGE     Source Verified       4800           1   \n",
       "2  36 months      7            OWN        Not Verified      10000           2   \n",
       "3  36 months      4           RENT        Not Verified      15000          10   \n",
       "4  36 months      6           RENT            Verified      16000          10   \n",
       "\n",
       "   annual_inc    dti  delinq_2yrs  inq_last_6mths        ...         \\\n",
       "0     28700.0  33.88          0.0             1.0        ...          \n",
       "1     65000.0   3.64          0.0             1.0        ...          \n",
       "2     45000.0  18.42          0.0             0.0        ...          \n",
       "3    105000.0  14.97          0.0             2.0        ...          \n",
       "4     52000.0  20.16          0.0             0.0        ...          \n",
       "\n",
       "   total_acc  total_rec_int  total_rec_late_fee  recoveries  \\\n",
       "0       28.0        1173.84                 0.0         0.0   \n",
       "1       13.0          83.95                 0.0         0.0   \n",
       "2       19.0          56.47                 0.0         0.0   \n",
       "3       21.0        4858.62                 0.0         0.0   \n",
       "4       27.0        2296.41                 0.0         0.0   \n",
       "\n",
       "   collection_recovery_fee  collections_12_mths_ex_med  acc_now_delinq  \\\n",
       "0                      0.0                         0.0             0.0   \n",
       "1                      0.0                         0.0             0.0   \n",
       "2                      0.0                         0.0             0.0   \n",
       "3                      0.0                         0.0             0.0   \n",
       "4                      0.0                         0.0             0.0   \n",
       "\n",
       "   tot_coll_amt  tot_cur_bal  total_rev_hi_lim  \n",
       "0           0.0      28699.0           30800.0  \n",
       "1           0.0       9974.0           32900.0  \n",
       "2          65.0      38295.0           34900.0  \n",
       "3           0.0      55564.0           24700.0  \n",
       "4           0.0      47159.0           47033.0  \n",
       "\n",
       "[5 rows x 25 columns]"
      ]
     },
     "execution_count": 33,
     "metadata": {},
     "output_type": "execute_result"
    }
   ],
   "source": [
    "# A<B<C<D<E<F<G\n",
    "mapping_dict = {\n",
    "    \"grade\":{\n",
    "        \"A\": 7,\n",
    "        \"B\": 6,\n",
    "        \"C\": 5,\n",
    "        \"D\": 4,\n",
    "        \"E\": 3,\n",
    "        \"F\": 2,\n",
    "        \"G\": 1\n",
    "    }\n",
    "}\n",
    "df_imp = df_imp.replace(mapping_dict)\n",
    "df_imp.head()"
   ]
  },
  {
   "cell_type": "code",
   "execution_count": 34,
   "metadata": {
    "collapsed": false
   },
   "outputs": [
    {
     "data": {
      "text/html": [
       "<div>\n",
       "<table border=\"1\" class=\"dataframe\">\n",
       "  <thead>\n",
       "    <tr style=\"text-align: right;\">\n",
       "      <th></th>\n",
       "      <th>grade</th>\n",
       "      <th>loan_amnt</th>\n",
       "      <th>emp_length</th>\n",
       "      <th>annual_inc</th>\n",
       "      <th>dti</th>\n",
       "      <th>delinq_2yrs</th>\n",
       "      <th>inq_last_6mths</th>\n",
       "      <th>mths_since_last_delinq</th>\n",
       "      <th>open_acc</th>\n",
       "      <th>pub_rec</th>\n",
       "      <th>...</th>\n",
       "      <th>term_60 months</th>\n",
       "      <th>home_ownership_ANY</th>\n",
       "      <th>home_ownership_MORTGAGE</th>\n",
       "      <th>home_ownership_NONE</th>\n",
       "      <th>home_ownership_OTHER</th>\n",
       "      <th>home_ownership_OWN</th>\n",
       "      <th>home_ownership_RENT</th>\n",
       "      <th>verification_status_Not Verified</th>\n",
       "      <th>verification_status_Source Verified</th>\n",
       "      <th>verification_status_Verified</th>\n",
       "    </tr>\n",
       "  </thead>\n",
       "  <tbody>\n",
       "    <tr>\n",
       "      <th>0</th>\n",
       "      <td>3</td>\n",
       "      <td>14350</td>\n",
       "      <td>9</td>\n",
       "      <td>28700.0</td>\n",
       "      <td>33.88</td>\n",
       "      <td>0.0</td>\n",
       "      <td>1.0</td>\n",
       "      <td>50.0</td>\n",
       "      <td>14.0</td>\n",
       "      <td>1.0</td>\n",
       "      <td>...</td>\n",
       "      <td>0.0</td>\n",
       "      <td>0.0</td>\n",
       "      <td>0.0</td>\n",
       "      <td>0.0</td>\n",
       "      <td>0.0</td>\n",
       "      <td>1.0</td>\n",
       "      <td>0.0</td>\n",
       "      <td>0.0</td>\n",
       "      <td>1.0</td>\n",
       "      <td>0.0</td>\n",
       "    </tr>\n",
       "    <tr>\n",
       "      <th>1</th>\n",
       "      <td>6</td>\n",
       "      <td>4800</td>\n",
       "      <td>1</td>\n",
       "      <td>65000.0</td>\n",
       "      <td>3.64</td>\n",
       "      <td>0.0</td>\n",
       "      <td>1.0</td>\n",
       "      <td>0.0</td>\n",
       "      <td>6.0</td>\n",
       "      <td>0.0</td>\n",
       "      <td>...</td>\n",
       "      <td>0.0</td>\n",
       "      <td>0.0</td>\n",
       "      <td>1.0</td>\n",
       "      <td>0.0</td>\n",
       "      <td>0.0</td>\n",
       "      <td>0.0</td>\n",
       "      <td>0.0</td>\n",
       "      <td>0.0</td>\n",
       "      <td>1.0</td>\n",
       "      <td>0.0</td>\n",
       "    </tr>\n",
       "    <tr>\n",
       "      <th>2</th>\n",
       "      <td>7</td>\n",
       "      <td>10000</td>\n",
       "      <td>2</td>\n",
       "      <td>45000.0</td>\n",
       "      <td>18.42</td>\n",
       "      <td>0.0</td>\n",
       "      <td>0.0</td>\n",
       "      <td>0.0</td>\n",
       "      <td>5.0</td>\n",
       "      <td>0.0</td>\n",
       "      <td>...</td>\n",
       "      <td>0.0</td>\n",
       "      <td>0.0</td>\n",
       "      <td>0.0</td>\n",
       "      <td>0.0</td>\n",
       "      <td>0.0</td>\n",
       "      <td>1.0</td>\n",
       "      <td>0.0</td>\n",
       "      <td>1.0</td>\n",
       "      <td>0.0</td>\n",
       "      <td>0.0</td>\n",
       "    </tr>\n",
       "    <tr>\n",
       "      <th>3</th>\n",
       "      <td>4</td>\n",
       "      <td>15000</td>\n",
       "      <td>10</td>\n",
       "      <td>105000.0</td>\n",
       "      <td>14.97</td>\n",
       "      <td>0.0</td>\n",
       "      <td>2.0</td>\n",
       "      <td>46.0</td>\n",
       "      <td>10.0</td>\n",
       "      <td>0.0</td>\n",
       "      <td>...</td>\n",
       "      <td>0.0</td>\n",
       "      <td>0.0</td>\n",
       "      <td>0.0</td>\n",
       "      <td>0.0</td>\n",
       "      <td>0.0</td>\n",
       "      <td>0.0</td>\n",
       "      <td>1.0</td>\n",
       "      <td>1.0</td>\n",
       "      <td>0.0</td>\n",
       "      <td>0.0</td>\n",
       "    </tr>\n",
       "    <tr>\n",
       "      <th>4</th>\n",
       "      <td>6</td>\n",
       "      <td>16000</td>\n",
       "      <td>10</td>\n",
       "      <td>52000.0</td>\n",
       "      <td>20.16</td>\n",
       "      <td>0.0</td>\n",
       "      <td>0.0</td>\n",
       "      <td>0.0</td>\n",
       "      <td>11.0</td>\n",
       "      <td>0.0</td>\n",
       "      <td>...</td>\n",
       "      <td>0.0</td>\n",
       "      <td>0.0</td>\n",
       "      <td>0.0</td>\n",
       "      <td>0.0</td>\n",
       "      <td>0.0</td>\n",
       "      <td>0.0</td>\n",
       "      <td>1.0</td>\n",
       "      <td>0.0</td>\n",
       "      <td>0.0</td>\n",
       "      <td>1.0</td>\n",
       "    </tr>\n",
       "  </tbody>\n",
       "</table>\n",
       "<p>5 rows × 33 columns</p>\n",
       "</div>"
      ],
      "text/plain": [
       "   grade  loan_amnt  emp_length  annual_inc    dti  delinq_2yrs  \\\n",
       "0      3      14350           9     28700.0  33.88          0.0   \n",
       "1      6       4800           1     65000.0   3.64          0.0   \n",
       "2      7      10000           2     45000.0  18.42          0.0   \n",
       "3      4      15000          10    105000.0  14.97          0.0   \n",
       "4      6      16000          10     52000.0  20.16          0.0   \n",
       "\n",
       "   inq_last_6mths  mths_since_last_delinq  open_acc  pub_rec  \\\n",
       "0             1.0                    50.0      14.0      1.0   \n",
       "1             1.0                     0.0       6.0      0.0   \n",
       "2             0.0                     0.0       5.0      0.0   \n",
       "3             2.0                    46.0      10.0      0.0   \n",
       "4             0.0                     0.0      11.0      0.0   \n",
       "\n",
       "               ...               term_60 months  home_ownership_ANY  \\\n",
       "0              ...                          0.0                 0.0   \n",
       "1              ...                          0.0                 0.0   \n",
       "2              ...                          0.0                 0.0   \n",
       "3              ...                          0.0                 0.0   \n",
       "4              ...                          0.0                 0.0   \n",
       "\n",
       "   home_ownership_MORTGAGE  home_ownership_NONE  home_ownership_OTHER  \\\n",
       "0                      0.0                  0.0                   0.0   \n",
       "1                      1.0                  0.0                   0.0   \n",
       "2                      0.0                  0.0                   0.0   \n",
       "3                      0.0                  0.0                   0.0   \n",
       "4                      0.0                  0.0                   0.0   \n",
       "\n",
       "   home_ownership_OWN  home_ownership_RENT  verification_status_Not Verified  \\\n",
       "0                 1.0                  0.0                               0.0   \n",
       "1                 0.0                  0.0                               0.0   \n",
       "2                 1.0                  0.0                               1.0   \n",
       "3                 0.0                  1.0                               1.0   \n",
       "4                 0.0                  1.0                               0.0   \n",
       "\n",
       "   verification_status_Source Verified  verification_status_Verified  \n",
       "0                                  1.0                           0.0  \n",
       "1                                  1.0                           0.0  \n",
       "2                                  0.0                           0.0  \n",
       "3                                  0.0                           0.0  \n",
       "4                                  0.0                           1.0  \n",
       "\n",
       "[5 rows x 33 columns]"
      ]
     },
     "execution_count": 34,
     "metadata": {},
     "output_type": "execute_result"
    }
   ],
   "source": [
    "#convert nominal features to one hot encoded dummies\n",
    "df_imp = pd.get_dummies(df_imp)\n",
    "df_imp.head()"
   ]
  },
  {
   "cell_type": "code",
   "execution_count": 35,
   "metadata": {
    "collapsed": false
   },
   "outputs": [
    {
     "name": "stdout",
     "output_type": "stream",
     "text": [
      "grade                                  887379\n",
      "loan_amnt                              887379\n",
      "emp_length                             887379\n",
      "annual_inc                             887379\n",
      "dti                                    887379\n",
      "delinq_2yrs                            887379\n",
      "inq_last_6mths                         887379\n",
      "mths_since_last_delinq                 887379\n",
      "open_acc                               887379\n",
      "pub_rec                                887379\n",
      "revol_bal                              887379\n",
      "revol_util                             887379\n",
      "total_acc                              887379\n",
      "total_rec_int                          887379\n",
      "total_rec_late_fee                     887379\n",
      "recoveries                             887379\n",
      "collection_recovery_fee                887379\n",
      "collections_12_mths_ex_med             887379\n",
      "acc_now_delinq                         887379\n",
      "tot_coll_amt                           887379\n",
      "tot_cur_bal                            887379\n",
      "total_rev_hi_lim                       887379\n",
      "term_36 months                         887379\n",
      "term_60 months                         887379\n",
      "home_ownership_ANY                     887379\n",
      "home_ownership_MORTGAGE                887379\n",
      "home_ownership_NONE                    887379\n",
      "home_ownership_OTHER                   887379\n",
      "home_ownership_OWN                     887379\n",
      "home_ownership_RENT                    887379\n",
      "verification_status_Not Verified       887379\n",
      "verification_status_Source Verified    887379\n",
      "verification_status_Verified           887379\n",
      "dtype: int64\n"
     ]
    }
   ],
   "source": [
    "print(df_imp.count())"
   ]
  },
  {
   "cell_type": "code",
   "execution_count": 36,
   "metadata": {
    "collapsed": false
   },
   "outputs": [
    {
     "name": "stdout",
     "output_type": "stream",
     "text": [
      "(532428, 33) (354951, 33)\n"
     ]
    }
   ],
   "source": [
    "train_data = df_imp[:532428]\n",
    "test_data = df_imp[532428:]\n",
    "print(train_data.shape,test_data.shape)"
   ]
  },
  {
   "cell_type": "code",
   "execution_count": 37,
   "metadata": {
    "collapsed": false
   },
   "outputs": [
    {
     "name": "stdout",
     "output_type": "stream",
     "text": [
      "(532428, 34)\n"
     ]
    }
   ],
   "source": [
    "train_data['loan_status'] = (loans['loan_status'])[:532428]\n",
    "train_data = train_data.sample(frac=1.0)\n",
    "print(train_data.shape)"
   ]
  },
  {
   "cell_type": "code",
   "execution_count": 38,
   "metadata": {
    "collapsed": false
   },
   "outputs": [
    {
     "name": "stdout",
     "output_type": "stream",
     "text": [
      "0.3094606260191195\n",
      "safe_loans 0.5\n",
      "risky_loans 0.5\n",
      "251654\n",
      "(251654,)\n"
     ]
    }
   ],
   "source": [
    "safe_loans_raw = train_data[train_data['loan_status']==0]\n",
    "risky_loans_raw = train_data[train_data['loan_status']==1]\n",
    "per = len(risky_loans_raw)/(float(len(safe_loans_raw)))\n",
    "print(per)\n",
    "risky_loans = risky_loans_raw\n",
    "safe_loans = safe_loans_raw.sample(frac=per)\n",
    "train_data = pd.concat([safe_loans,risky_loans])\n",
    "train_data = train_data.sample(frac=1.0)\n",
    "print('safe_loans',len(safe_loans)/len(train_data))\n",
    "print('risky_loans',len(risky_loans)/len(train_data))\n",
    "print(len(train_data))\n",
    "train_target= train_data['loan_status']\n",
    "print(train_target.shape)"
   ]
  },
  {
   "cell_type": "code",
   "execution_count": 39,
   "metadata": {
    "collapsed": false
   },
   "outputs": [
    {
     "name": "stdout",
     "output_type": "stream",
     "text": [
      "0 25165\n",
      "25165 50330\n",
      "50330 75495\n",
      "75495 100660\n",
      "100660 125825\n",
      "125825 150990\n",
      "150990 176155\n",
      "176155 201320\n",
      "201320 226485\n",
      "226485 251650\n"
     ]
    }
   ],
   "source": [
    "dfs = []\n",
    "target = []\n",
    "j = 0\n",
    "x = 25165\n",
    "k = x;\n",
    "for i in range(1,11):\n",
    "    if(i!=10):\n",
    "        temp = train_data[j:k]\n",
    "        temp1 = train_target[j:k]\n",
    "    else:\n",
    "        temp = train_data[j:]\n",
    "        temp1 = train_target[j:]\n",
    "    dfs.append(temp)\n",
    "    target.append(temp1)\n",
    "    print(j,k)\n",
    "    j = k\n",
    "    k +=x    "
   ]
  },
  {
   "cell_type": "code",
   "execution_count": 40,
   "metadata": {
    "collapsed": true
   },
   "outputs": [],
   "source": [
    "params={\n",
    "    'objective':'binary:logistic',\n",
    "    'max_depth':2,\n",
    "    'silent':1,\n",
    "    'eta':1\n",
    "}\n",
    "num_rounds = 5"
   ]
  },
  {
   "cell_type": "code",
   "execution_count": 51,
   "metadata": {
    "collapsed": false
   },
   "outputs": [
    {
     "name": "stdout",
     "output_type": "stream",
     "text": [
      "(25165, 34) (25165,)\n"
     ]
    }
   ],
   "source": [
    "temp_data = dfs[0]\n",
    "# temp_data = temp_data.drop('loan_status',1)\n",
    "temp_target = train_target[:25165]\n",
    "print(temp_data.shape,temp_target.shape)"
   ]
  },
  {
   "cell_type": "code",
   "execution_count": 56,
   "metadata": {
    "collapsed": false
   },
   "outputs": [],
   "source": [
    "dtrain = xgb.DMatrix(temp_data)"
   ]
  },
  {
   "cell_type": "code",
   "execution_count": 55,
   "metadata": {
    "collapsed": false
   },
   "outputs": [
    {
     "name": "stdout",
     "output_type": "stream",
     "text": [
      "25165 34\n"
     ]
    }
   ],
   "source": [
    "print(dtrain.num_row(),dtrain.num_col())"
   ]
  },
  {
   "cell_type": "code",
   "execution_count": 57,
   "metadata": {
    "collapsed": false
   },
   "outputs": [
    {
     "ename": "XGBoostError",
     "evalue": "b'[11:00:00] src/objective/regression_obj.cc:89: Check failed: info.labels.size() != 0U (0 vs. 0) label set cannot be empty'",
     "output_type": "error",
     "traceback": [
      "\u001b[0;31m---------------------------------------------------------------------------\u001b[0m",
      "\u001b[0;31mXGBoostError\u001b[0m                              Traceback (most recent call last)",
      "\u001b[0;32m<ipython-input-57-b07c1e70f48c>\u001b[0m in \u001b[0;36m<module>\u001b[0;34m()\u001b[0m\n\u001b[0;32m----> 1\u001b[0;31m \u001b[0mmodel\u001b[0m \u001b[1;33m=\u001b[0m \u001b[0mxgb\u001b[0m\u001b[1;33m.\u001b[0m\u001b[0mtrain\u001b[0m\u001b[1;33m(\u001b[0m\u001b[0mparams\u001b[0m\u001b[1;33m,\u001b[0m\u001b[0mdtrain\u001b[0m\u001b[1;33m,\u001b[0m\u001b[0mnum_rounds\u001b[0m\u001b[1;33m)\u001b[0m\u001b[1;33m\u001b[0m\u001b[0m\n\u001b[0m",
      "\u001b[0;32mC:\\Users\\Ambar Gupta\\Anaconda3\\lib\\site-packages\\xgboost-0.6-py3.5.egg\\xgboost\\training.py\u001b[0m in \u001b[0;36mtrain\u001b[0;34m(params, dtrain, num_boost_round, evals, obj, feval, maximize, early_stopping_rounds, evals_result, verbose_eval, xgb_model, callbacks, learning_rates)\u001b[0m\n\u001b[1;32m    202\u001b[0m                            \u001b[0mevals\u001b[0m\u001b[1;33m=\u001b[0m\u001b[0mevals\u001b[0m\u001b[1;33m,\u001b[0m\u001b[1;33m\u001b[0m\u001b[0m\n\u001b[1;32m    203\u001b[0m                            \u001b[0mobj\u001b[0m\u001b[1;33m=\u001b[0m\u001b[0mobj\u001b[0m\u001b[1;33m,\u001b[0m \u001b[0mfeval\u001b[0m\u001b[1;33m=\u001b[0m\u001b[0mfeval\u001b[0m\u001b[1;33m,\u001b[0m\u001b[1;33m\u001b[0m\u001b[0m\n\u001b[0;32m--> 204\u001b[0;31m                            xgb_model=xgb_model, callbacks=callbacks)\n\u001b[0m\u001b[1;32m    205\u001b[0m \u001b[1;33m\u001b[0m\u001b[0m\n\u001b[1;32m    206\u001b[0m \u001b[1;33m\u001b[0m\u001b[0m\n",
      "\u001b[0;32mC:\\Users\\Ambar Gupta\\Anaconda3\\lib\\site-packages\\xgboost-0.6-py3.5.egg\\xgboost\\training.py\u001b[0m in \u001b[0;36m_train_internal\u001b[0;34m(params, dtrain, num_boost_round, evals, obj, feval, xgb_model, callbacks)\u001b[0m\n\u001b[1;32m     72\u001b[0m         \u001b[1;31m# Skip the first update if it is a recovery step.\u001b[0m\u001b[1;33m\u001b[0m\u001b[1;33m\u001b[0m\u001b[0m\n\u001b[1;32m     73\u001b[0m         \u001b[1;32mif\u001b[0m \u001b[0mversion\u001b[0m \u001b[1;33m%\u001b[0m \u001b[1;36m2\u001b[0m \u001b[1;33m==\u001b[0m \u001b[1;36m0\u001b[0m\u001b[1;33m:\u001b[0m\u001b[1;33m\u001b[0m\u001b[0m\n\u001b[0;32m---> 74\u001b[0;31m             \u001b[0mbst\u001b[0m\u001b[1;33m.\u001b[0m\u001b[0mupdate\u001b[0m\u001b[1;33m(\u001b[0m\u001b[0mdtrain\u001b[0m\u001b[1;33m,\u001b[0m \u001b[0mi\u001b[0m\u001b[1;33m,\u001b[0m \u001b[0mobj\u001b[0m\u001b[1;33m)\u001b[0m\u001b[1;33m\u001b[0m\u001b[0m\n\u001b[0m\u001b[1;32m     75\u001b[0m             \u001b[0mbst\u001b[0m\u001b[1;33m.\u001b[0m\u001b[0msave_rabit_checkpoint\u001b[0m\u001b[1;33m(\u001b[0m\u001b[1;33m)\u001b[0m\u001b[1;33m\u001b[0m\u001b[0m\n\u001b[1;32m     76\u001b[0m             \u001b[0mversion\u001b[0m \u001b[1;33m+=\u001b[0m \u001b[1;36m1\u001b[0m\u001b[1;33m\u001b[0m\u001b[0m\n",
      "\u001b[0;32mC:\\Users\\Ambar Gupta\\Anaconda3\\lib\\site-packages\\xgboost-0.6-py3.5.egg\\xgboost\\core.py\u001b[0m in \u001b[0;36mupdate\u001b[0;34m(self, dtrain, iteration, fobj)\u001b[0m\n\u001b[1;32m    817\u001b[0m \u001b[1;33m\u001b[0m\u001b[0m\n\u001b[1;32m    818\u001b[0m         \u001b[1;32mif\u001b[0m \u001b[0mfobj\u001b[0m \u001b[1;32mis\u001b[0m \u001b[1;32mNone\u001b[0m\u001b[1;33m:\u001b[0m\u001b[1;33m\u001b[0m\u001b[0m\n\u001b[0;32m--> 819\u001b[0;31m             \u001b[0m_check_call\u001b[0m\u001b[1;33m(\u001b[0m\u001b[0m_LIB\u001b[0m\u001b[1;33m.\u001b[0m\u001b[0mXGBoosterUpdateOneIter\u001b[0m\u001b[1;33m(\u001b[0m\u001b[0mself\u001b[0m\u001b[1;33m.\u001b[0m\u001b[0mhandle\u001b[0m\u001b[1;33m,\u001b[0m \u001b[0miteration\u001b[0m\u001b[1;33m,\u001b[0m \u001b[0mdtrain\u001b[0m\u001b[1;33m.\u001b[0m\u001b[0mhandle\u001b[0m\u001b[1;33m)\u001b[0m\u001b[1;33m)\u001b[0m\u001b[1;33m\u001b[0m\u001b[0m\n\u001b[0m\u001b[1;32m    820\u001b[0m         \u001b[1;32melse\u001b[0m\u001b[1;33m:\u001b[0m\u001b[1;33m\u001b[0m\u001b[0m\n\u001b[1;32m    821\u001b[0m             \u001b[0mpred\u001b[0m \u001b[1;33m=\u001b[0m \u001b[0mself\u001b[0m\u001b[1;33m.\u001b[0m\u001b[0mpredict\u001b[0m\u001b[1;33m(\u001b[0m\u001b[0mdtrain\u001b[0m\u001b[1;33m)\u001b[0m\u001b[1;33m\u001b[0m\u001b[0m\n",
      "\u001b[0;32mC:\\Users\\Ambar Gupta\\Anaconda3\\lib\\site-packages\\xgboost-0.6-py3.5.egg\\xgboost\\core.py\u001b[0m in \u001b[0;36m_check_call\u001b[0;34m(ret)\u001b[0m\n\u001b[1;32m    125\u001b[0m     \"\"\"\n\u001b[1;32m    126\u001b[0m     \u001b[1;32mif\u001b[0m \u001b[0mret\u001b[0m \u001b[1;33m!=\u001b[0m \u001b[1;36m0\u001b[0m\u001b[1;33m:\u001b[0m\u001b[1;33m\u001b[0m\u001b[0m\n\u001b[0;32m--> 127\u001b[0;31m         \u001b[1;32mraise\u001b[0m \u001b[0mXGBoostError\u001b[0m\u001b[1;33m(\u001b[0m\u001b[0m_LIB\u001b[0m\u001b[1;33m.\u001b[0m\u001b[0mXGBGetLastError\u001b[0m\u001b[1;33m(\u001b[0m\u001b[1;33m)\u001b[0m\u001b[1;33m)\u001b[0m\u001b[1;33m\u001b[0m\u001b[0m\n\u001b[0m\u001b[1;32m    128\u001b[0m \u001b[1;33m\u001b[0m\u001b[0m\n\u001b[1;32m    129\u001b[0m \u001b[1;33m\u001b[0m\u001b[0m\n",
      "\u001b[0;31mXGBoostError\u001b[0m: b'[11:00:00] src/objective/regression_obj.cc:89: Check failed: info.labels.size() != 0U (0 vs. 0) label set cannot be empty'"
     ]
    }
   ],
   "source": [
    "model = xgb.train(params,dtrain,num_rounds)"
   ]
  },
  {
   "cell_type": "code",
   "execution_count": 49,
   "metadata": {
    "collapsed": false
   },
   "outputs": [
    {
     "ename": "NameError",
     "evalue": "name 'model' is not defined",
     "output_type": "error",
     "traceback": [
      "\u001b[0;31m---------------------------------------------------------------------------\u001b[0m",
      "\u001b[0;31mNameError\u001b[0m                                 Traceback (most recent call last)",
      "\u001b[0;32m<ipython-input-49-c18098d2602f>\u001b[0m in \u001b[0;36m<module>\u001b[0;34m()\u001b[0m\n\u001b[0;32m----> 1\u001b[0;31m \u001b[0mpreds_prob\u001b[0m \u001b[1;33m=\u001b[0m \u001b[0mmodel\u001b[0m\u001b[1;33m.\u001b[0m\u001b[0mpredict\u001b[0m\u001b[1;33m(\u001b[0m\u001b[0mdfs\u001b[0m\u001b[1;33m[\u001b[0m\u001b[1;36m1\u001b[0m\u001b[1;33m]\u001b[0m\u001b[1;33m.\u001b[0m\u001b[0mdrop\u001b[0m\u001b[1;33m(\u001b[0m\u001b[1;34m'loan_status'\u001b[0m\u001b[1;33m,\u001b[0m\u001b[1;36m1\u001b[0m\u001b[1;33m)\u001b[0m\u001b[1;33m)\u001b[0m\u001b[1;33m\u001b[0m\u001b[0m\n\u001b[0m\u001b[1;32m      2\u001b[0m \u001b[0mpreds_prob\u001b[0m\u001b[1;33m\u001b[0m\u001b[0m\n",
      "\u001b[0;31mNameError\u001b[0m: name 'model' is not defined"
     ]
    }
   ],
   "source": [
    "preds_prob = model.predict(dfs[1].drop('loan_status',1))\n",
    "preds_prob"
   ]
  },
  {
   "cell_type": "code",
   "execution_count": 101,
   "metadata": {
    "collapsed": false
   },
   "outputs": [],
   "source": [
    "# model1 = GradientBoostingClassifier(learning_rate=0.1,n_estimators=100,max_depth=5,min_samples_split=2,min_samples_leaf=1)\n",
    "# model2 = RandomForestClassifier(n_estimators=100,max_depth=10,min_samples_split=2,min_samples_leaf=1,class_weight='balanced_subsample')\n",
    "# model = xgb.XGBClassifier(n_estimators=1000,max_depth=5)\n",
    "# model4 = AdaBoostClassifier(n_estimators=150,learning_rate=1)\n",
    "# model5 = DecisionTreeClassifier(max_depth=5,min_samples_split=2,min_samples_leaf=1)\n",
    "#model6 = SVC(probability=True,class_weight='balanced')"
   ]
  },
  {
   "cell_type": "code",
   "execution_count": 102,
   "metadata": {
    "collapsed": false
   },
   "outputs": [
    {
     "data": {
      "text/plain": [
       "SVC(C=1.0, cache_size=200, class_weight='balanced', coef0=0.0,\n",
       "  decision_function_shape=None, degree=3, gamma='auto', kernel='rbf',\n",
       "  max_iter=-1, probability=True, random_state=None, shrinking=True,\n",
       "  tol=0.001, verbose=False)"
      ]
     },
     "execution_count": 102,
     "metadata": {},
     "output_type": "execute_result"
    }
   ],
   "source": [
    "# model1.fit(temp_data,temp_target)\n",
    "# model2.fit(temp_data,temp_target)\n",
    "# model3.fit(temp_data,temp_target)\n",
    "# model4.fit(temp_data,temp_target)\n",
    "# model5.fit(temp_data,temp_target)\n",
    "model.fit(temp_data,temp_target)"
   ]
  },
  {
   "cell_type": "code",
   "execution_count": 97,
   "metadata": {
    "collapsed": false
   },
   "outputs": [
    {
     "name": "stdout",
     "output_type": "stream",
     "text": [
      "0.689370156964\n",
      "0.6978581363\n",
      "0.690435128154\n",
      "0.688464136698\n",
      "0.69353467117\n",
      "0.6919054242\n",
      "0.686389827141\n",
      "0.68971190145\n",
      "0.69173983869\n"
     ]
    }
   ],
   "source": [
    "# feature_importance = (temp_data.columns.values).tolist()\n",
    "# feature_weight = model.feature_importances_\n",
    "# for i in range(len(feature_importance)):\n",
    "#     print(feature_importance[i]+\"-------------------------------> \"+str(feature_weight[i]))\n",
    "for i in range(1,len(target)):\n",
    "    score = model.score(dfs[i].drop('loan_status',1),target[i])\n",
    "#     prediction = model.predict(dfs[i].drop('loan_status',1))\n",
    "#     confusion_matrix = confusion_matrix(target[i],prediction)\n",
    "    print(score)"
   ]
  },
  {
   "cell_type": "code",
   "execution_count": 85,
   "metadata": {
    "collapsed": true
   },
   "outputs": [],
   "source": [
    "test = pd.read_csv('test_indessa.csv')"
   ]
  },
  {
   "cell_type": "code",
   "execution_count": 87,
   "metadata": {
    "collapsed": false
   },
   "outputs": [
    {
     "name": "stdout",
     "output_type": "stream",
     "text": [
      "(354951, 33)\n"
     ]
    }
   ],
   "source": [
    "print(test_data.shape)"
   ]
  },
  {
   "cell_type": "code",
   "execution_count": 88,
   "metadata": {
    "collapsed": false
   },
   "outputs": [],
   "source": [
    "prediction1 = model1.predict_proba(test_data)[:,1]\n",
    "prediction2 = model2.predict_proba(test_data)[:,1]\n",
    "prediction3 = model3.predict_proba(test_data)[:,1]\n",
    "prediction4 = model4.predict_proba(test_data)[:,1]\n",
    "prediction5 = model5.predict_proba(test_data)[:,1]"
   ]
  },
  {
   "cell_type": "code",
   "execution_count": 89,
   "metadata": {
    "collapsed": false
   },
   "outputs": [
    {
     "name": "stdout",
     "output_type": "stream",
     "text": [
      "0.416734477771\n"
     ]
    }
   ],
   "source": [
    "prediction=[]\n",
    "for i in range(len(prediction1)):\n",
    "    x = prediction1[i]+prediction2[i]+prediction3[i]+prediction4[i]+prediction5[i]\n",
    "    x = x/5\n",
    "    prediction.append(x)   "
   ]
  },
  {
   "cell_type": "code",
   "execution_count": 93,
   "metadata": {
    "collapsed": false
   },
   "outputs": [
    {
     "name": "stdout",
     "output_type": "stream",
     "text": [
      "0.357411798016\n",
      "(354951, 1)\n"
     ]
    }
   ],
   "source": [
    "print(prediction[0]) \n",
    "a = np.asarray(prediction)\n",
    "a = a.reshape(len(a),1)\n",
    "print(a.shape)"
   ]
  },
  {
   "cell_type": "code",
   "execution_count": 94,
   "metadata": {
    "collapsed": false
   },
   "outputs": [
    {
     "data": {
      "text/html": [
       "<div>\n",
       "<table border=\"1\" class=\"dataframe\">\n",
       "  <thead>\n",
       "    <tr style=\"text-align: right;\">\n",
       "      <th></th>\n",
       "      <th>member_id</th>\n",
       "      <th>loan_status</th>\n",
       "    </tr>\n",
       "  </thead>\n",
       "  <tbody>\n",
       "    <tr>\n",
       "      <th>0</th>\n",
       "      <td>11937648</td>\n",
       "      <td>0.357412</td>\n",
       "    </tr>\n",
       "    <tr>\n",
       "      <th>1</th>\n",
       "      <td>38983318</td>\n",
       "      <td>0.416734</td>\n",
       "    </tr>\n",
       "    <tr>\n",
       "      <th>2</th>\n",
       "      <td>27999917</td>\n",
       "      <td>0.304764</td>\n",
       "    </tr>\n",
       "    <tr>\n",
       "      <th>3</th>\n",
       "      <td>61514932</td>\n",
       "      <td>0.308122</td>\n",
       "    </tr>\n",
       "    <tr>\n",
       "      <th>4</th>\n",
       "      <td>59622821</td>\n",
       "      <td>0.484389</td>\n",
       "    </tr>\n",
       "  </tbody>\n",
       "</table>\n",
       "</div>"
      ],
      "text/plain": [
       "   member_id  loan_status\n",
       "0   11937648     0.357412\n",
       "1   38983318     0.416734\n",
       "2   27999917     0.304764\n",
       "3   61514932     0.308122\n",
       "4   59622821     0.484389"
      ]
     },
     "execution_count": 94,
     "metadata": {},
     "output_type": "execute_result"
    }
   ],
   "source": [
    "df= pd.DataFrame()\n",
    "df['member_id'] = test['member_id']\n",
    "df['loan_status'] = a\n",
    "df.head()"
   ]
  },
  {
   "cell_type": "code",
   "execution_count": 95,
   "metadata": {
    "collapsed": true
   },
   "outputs": [],
   "source": [
    "df.to_csv('Xgboost.csv',index=False)"
   ]
  }
 ],
 "metadata": {
  "anaconda-cloud": {},
  "kernelspec": {
   "display_name": "Python [conda root]",
   "language": "python",
   "name": "conda-root-py"
  },
  "language_info": {
   "codemirror_mode": {
    "name": "ipython",
    "version": 3
   },
   "file_extension": ".py",
   "mimetype": "text/x-python",
   "name": "python",
   "nbconvert_exporter": "python",
   "pygments_lexer": "ipython3",
   "version": "3.5.2"
  }
 },
 "nbformat": 4,
 "nbformat_minor": 1
}
