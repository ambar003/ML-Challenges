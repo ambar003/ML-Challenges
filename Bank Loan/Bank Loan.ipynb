{
 "cells": [
  {
   "cell_type": "code",
   "execution_count": 223,
   "metadata": {
    "collapsed": true
   },
   "outputs": [],
   "source": [
    "# Ignore warnings\n",
    "import warnings\n",
    "warnings.filterwarnings('ignore')\n",
    "\n",
    "import numpy as np\n",
    "import pandas as pd\n",
    "from sklearn.cross_validation import train_test_split\n",
    "from sklearn.tree import DecisionTreeClassifier\n",
    "from sklearn.metrics import accuracy_score\n",
    "from sklearn import tree\n",
    "import json"
   ]
  },
  {
   "cell_type": "code",
   "execution_count": 224,
   "metadata": {
    "collapsed": false
   },
   "outputs": [
    {
     "data": {
      "text/plain": [
       "True"
      ]
     },
     "execution_count": 224,
     "metadata": {},
     "output_type": "execute_result"
    }
   ],
   "source": [
    "loans = pd.read_csv('lending-club-data.csv')\n",
    "'bad_loans' in loans.columns"
   ]
  },
  {
   "cell_type": "code",
   "execution_count": 225,
   "metadata": {
    "collapsed": false
   },
   "outputs": [
    {
     "data": {
      "text/plain": [
       "False"
      ]
     },
     "execution_count": 225,
     "metadata": {},
     "output_type": "execute_result"
    }
   ],
   "source": [
    "loans['safe_loans'] = loans['bad_loans'].apply(lambda x: 1 if x==0 else -1)\n",
    "loans = loans.drop('bad_loans',axis=1)\n",
    "'bad_loans' in loans.columns"
   ]
  },
  {
   "cell_type": "code",
   "execution_count": 226,
   "metadata": {
    "collapsed": false
   },
   "outputs": [
    {
     "name": "stdout",
     "output_type": "stream",
     "text": [
      "99457 23150\n",
      "0.8111853319957262\n",
      "0.18881466800427382\n"
     ]
    }
   ],
   "source": [
    "safe = len(loans[loans['safe_loans']==1])\n",
    "risky = len(loans[loans['safe_loans']==-1])\n",
    "print(safe,risky)\n",
    "print(safe/(safe+risky))\n",
    "print(risky/(safe+risky))"
   ]
  },
  {
   "cell_type": "code",
   "execution_count": 227,
   "metadata": {
    "collapsed": false
   },
   "outputs": [
    {
     "data": {
      "text/plain": [
       "(122607, 13)"
      ]
     },
     "execution_count": 227,
     "metadata": {},
     "output_type": "execute_result"
    }
   ],
   "source": [
    "features = ['grade',                     # grade of the loan\n",
    "            'sub_grade',                 # sub-grade of the loan\n",
    "            'short_emp',                 # one year or less of employment\n",
    "            'emp_length_num',            # number of years of employment\n",
    "            'home_ownership',            # home_ownership status: own, mortgage or rent\n",
    "            'dti',                       # debt to income ratio\n",
    "            'purpose',                   # the purpose of the loan\n",
    "            'term',                      # the term of the loan\n",
    "            'last_delinq_none',          # has borrower had a delinquincy\n",
    "            'last_major_derog_none',     # has borrower had 90 day or worse rating\n",
    "            'revol_util',                # percent of available credit being used\n",
    "            'total_rec_late_fee',        # total late fees received to day\n",
    "           ]\n",
    "\n",
    "target = 'safe_loans'                    # prediction target (y) (+1 means safe, -1 is risky)\n",
    "loans = loans[[target]+features]\n",
    "loans.shape"
   ]
  },
  {
   "cell_type": "code",
   "execution_count": 228,
   "metadata": {
    "collapsed": false
   },
   "outputs": [
    {
     "name": "stdout",
     "output_type": "stream",
     "text": [
      "<class 'list'>\n"
     ]
    }
   ],
   "source": [
    "train_idx = json.loads(open('module-5-assignment-1-train-idx.json').read())\n",
    "validation_idx = json.loads(open('module-5-assignment-1-validation-idx.json').read())\n",
    "print(type(validation_idx))"
   ]
  },
  {
   "cell_type": "code",
   "execution_count": 229,
   "metadata": {
    "collapsed": false
   },
   "outputs": [
    {
     "name": "stdout",
     "output_type": "stream",
     "text": [
      "122607\n"
     ]
    }
   ],
   "source": [
    "loans = pd.get_dummies(loans)\n",
    "print(len(loans))"
   ]
  },
  {
   "cell_type": "code",
   "execution_count": 274,
   "metadata": {
    "collapsed": false
   },
   "outputs": [
    {
     "name": "stdout",
     "output_type": "stream",
     "text": [
      "(37224, 68) (9284, 68)\n"
     ]
    }
   ],
   "source": [
    "train_data = loans.iloc[train_idx]\n",
    "validation_data = loans.iloc[validation_idx]\n",
    "print(train_data.shape,validation_data.shape)"
   ]
  },
  {
   "cell_type": "code",
   "execution_count": 275,
   "metadata": {
    "collapsed": false
   },
   "outputs": [
    {
     "name": "stdout",
     "output_type": "stream",
     "text": [
      "(2, 68) (2, 68)\n"
     ]
    },
    {
     "data": {
      "text/html": [
       "<div>\n",
       "<table border=\"1\" class=\"dataframe\">\n",
       "  <thead>\n",
       "    <tr style=\"text-align: right;\">\n",
       "      <th></th>\n",
       "      <th>short_emp</th>\n",
       "      <th>emp_length_num</th>\n",
       "      <th>dti</th>\n",
       "      <th>last_delinq_none</th>\n",
       "      <th>last_major_derog_none</th>\n",
       "      <th>revol_util</th>\n",
       "      <th>total_rec_late_fee</th>\n",
       "      <th>grade_A</th>\n",
       "      <th>grade_B</th>\n",
       "      <th>grade_C</th>\n",
       "      <th>...</th>\n",
       "      <th>purpose_house</th>\n",
       "      <th>purpose_major_purchase</th>\n",
       "      <th>purpose_medical</th>\n",
       "      <th>purpose_moving</th>\n",
       "      <th>purpose_other</th>\n",
       "      <th>purpose_small_business</th>\n",
       "      <th>purpose_vacation</th>\n",
       "      <th>purpose_wedding</th>\n",
       "      <th>term_ 36 months</th>\n",
       "      <th>term_ 60 months</th>\n",
       "    </tr>\n",
       "  </thead>\n",
       "  <tbody>\n",
       "    <tr>\n",
       "      <th>19</th>\n",
       "      <td>0</td>\n",
       "      <td>11</td>\n",
       "      <td>11.18</td>\n",
       "      <td>1</td>\n",
       "      <td>1</td>\n",
       "      <td>82.4</td>\n",
       "      <td>0.0</td>\n",
       "      <td>0.0</td>\n",
       "      <td>1.0</td>\n",
       "      <td>0.0</td>\n",
       "      <td>...</td>\n",
       "      <td>0.0</td>\n",
       "      <td>0.0</td>\n",
       "      <td>0.0</td>\n",
       "      <td>0.0</td>\n",
       "      <td>0.0</td>\n",
       "      <td>0.0</td>\n",
       "      <td>0.0</td>\n",
       "      <td>0.0</td>\n",
       "      <td>1.0</td>\n",
       "      <td>0.0</td>\n",
       "    </tr>\n",
       "    <tr>\n",
       "      <th>79</th>\n",
       "      <td>0</td>\n",
       "      <td>10</td>\n",
       "      <td>16.85</td>\n",
       "      <td>1</td>\n",
       "      <td>1</td>\n",
       "      <td>96.4</td>\n",
       "      <td>0.0</td>\n",
       "      <td>0.0</td>\n",
       "      <td>0.0</td>\n",
       "      <td>0.0</td>\n",
       "      <td>...</td>\n",
       "      <td>0.0</td>\n",
       "      <td>0.0</td>\n",
       "      <td>0.0</td>\n",
       "      <td>0.0</td>\n",
       "      <td>0.0</td>\n",
       "      <td>0.0</td>\n",
       "      <td>0.0</td>\n",
       "      <td>0.0</td>\n",
       "      <td>1.0</td>\n",
       "      <td>0.0</td>\n",
       "    </tr>\n",
       "    <tr>\n",
       "      <th>24</th>\n",
       "      <td>0</td>\n",
       "      <td>3</td>\n",
       "      <td>13.97</td>\n",
       "      <td>0</td>\n",
       "      <td>1</td>\n",
       "      <td>59.5</td>\n",
       "      <td>0.0</td>\n",
       "      <td>0.0</td>\n",
       "      <td>0.0</td>\n",
       "      <td>0.0</td>\n",
       "      <td>...</td>\n",
       "      <td>0.0</td>\n",
       "      <td>0.0</td>\n",
       "      <td>0.0</td>\n",
       "      <td>0.0</td>\n",
       "      <td>1.0</td>\n",
       "      <td>0.0</td>\n",
       "      <td>0.0</td>\n",
       "      <td>0.0</td>\n",
       "      <td>0.0</td>\n",
       "      <td>1.0</td>\n",
       "    </tr>\n",
       "    <tr>\n",
       "      <th>41</th>\n",
       "      <td>0</td>\n",
       "      <td>11</td>\n",
       "      <td>16.33</td>\n",
       "      <td>1</td>\n",
       "      <td>1</td>\n",
       "      <td>62.1</td>\n",
       "      <td>0.0</td>\n",
       "      <td>1.0</td>\n",
       "      <td>0.0</td>\n",
       "      <td>0.0</td>\n",
       "      <td>...</td>\n",
       "      <td>0.0</td>\n",
       "      <td>0.0</td>\n",
       "      <td>0.0</td>\n",
       "      <td>0.0</td>\n",
       "      <td>0.0</td>\n",
       "      <td>0.0</td>\n",
       "      <td>0.0</td>\n",
       "      <td>0.0</td>\n",
       "      <td>1.0</td>\n",
       "      <td>0.0</td>\n",
       "    </tr>\n",
       "  </tbody>\n",
       "</table>\n",
       "<p>4 rows × 67 columns</p>\n",
       "</div>"
      ],
      "text/plain": [
       "    short_emp  emp_length_num    dti  last_delinq_none  last_major_derog_none  \\\n",
       "19          0              11  11.18                 1                      1   \n",
       "79          0              10  16.85                 1                      1   \n",
       "24          0               3  13.97                 0                      1   \n",
       "41          0              11  16.33                 1                      1   \n",
       "\n",
       "    revol_util  total_rec_late_fee  grade_A  grade_B  grade_C  \\\n",
       "19        82.4                 0.0      0.0      1.0      0.0   \n",
       "79        96.4                 0.0      0.0      0.0      0.0   \n",
       "24        59.5                 0.0      0.0      0.0      0.0   \n",
       "41        62.1                 0.0      1.0      0.0      0.0   \n",
       "\n",
       "         ...         purpose_house  purpose_major_purchase  purpose_medical  \\\n",
       "19       ...                   0.0                     0.0              0.0   \n",
       "79       ...                   0.0                     0.0              0.0   \n",
       "24       ...                   0.0                     0.0              0.0   \n",
       "41       ...                   0.0                     0.0              0.0   \n",
       "\n",
       "    purpose_moving  purpose_other  purpose_small_business  purpose_vacation  \\\n",
       "19             0.0            0.0                     0.0               0.0   \n",
       "79             0.0            0.0                     0.0               0.0   \n",
       "24             0.0            1.0                     0.0               0.0   \n",
       "41             0.0            0.0                     0.0               0.0   \n",
       "\n",
       "    purpose_wedding  term_ 36 months  term_ 60 months  \n",
       "19              0.0              1.0              0.0  \n",
       "79              0.0              1.0              0.0  \n",
       "24              0.0              0.0              1.0  \n",
       "41              0.0              1.0              0.0  \n",
       "\n",
       "[4 rows x 67 columns]"
      ]
     },
     "execution_count": 275,
     "metadata": {},
     "output_type": "execute_result"
    }
   ],
   "source": [
    "validation_safe_loans = validation_data[validation_data[target] == 1]\n",
    "validation_risky_loans = validation_data[validation_data[target] == -1]\n",
    "sample_validation_data_risky = validation_risky_loans[0:2]\n",
    "sample_validation_data_safe = validation_safe_loans[0:2]\n",
    "print(sample_validation_data_safe.shape,sample_validation_data_risky.shape)\n",
    "sample_validation_data = sample_validation_data_safe.append(sample_validation_data_risky)\n",
    "sample_validation_target = sample_validation_data['safe_loans']\n",
    "sample_validation_data = sample_validation_data.drop('safe_loans',1)\n",
    "sample_validation_data"
   ]
  },
  {
   "cell_type": "code",
   "execution_count": 276,
   "metadata": {
    "collapsed": false
   },
   "outputs": [
    {
     "name": "stdout",
     "output_type": "stream",
     "text": [
      "False\n"
     ]
    }
   ],
   "source": [
    "train_target = train_data['safe_loans'].as_matrix()\n",
    "train_target = train_target.reshape(len(train_target),1)\n",
    "validation_target = validation_data['safe_loans'].as_matrix()\n",
    "validation_target = validation_target.reshape(len(validation_target),1)\n",
    "train_data = train_data.drop('safe_loans',1)\n",
    "print('safe_loans' in train_data.columns)\n",
    "validation_data = validation_data.drop('safe_loans',1)\n",
    "train_data = train_data.as_matrix()\n",
    "validation_data = validation_data.as_matrix()"
   ]
  },
  {
   "cell_type": "code",
   "execution_count": 277,
   "metadata": {
    "collapsed": false
   },
   "outputs": [],
   "source": [
    "decision_tree_model = DecisionTreeClassifier(criterion = \"gini\", random_state = 100,max_depth=6, min_samples_leaf=5)\n",
    "model1 = decision_tree_model.fit(train_data,train_target)\n",
    "small_model = DecisionTreeClassifier(criterion = \"gini\", random_state = 100,max_depth=2, min_samples_leaf=5)\n",
    "model2 = small_model.fit(train_data,train_target)"
   ]
  },
  {
   "cell_type": "code",
   "execution_count": 278,
   "metadata": {
    "collapsed": false
   },
   "outputs": [
    {
     "name": "stdout",
     "output_type": "stream",
     "text": [
      "0.5\n",
      "19    1\n",
      "79    1\n",
      "24   -1\n",
      "41   -1\n",
      "Name: safe_loans, dtype: int64\n",
      "[ 1 -1 -1  1]\n",
      "[ 1 -1 -1  1]\n"
     ]
    }
   ],
   "source": [
    "prediction_model1 = model1.predict(sample_validation_data)\n",
    "prediction_model2 = model2.predict(sample_validation_data)\n",
    "score_model1 = model1.score(sample_validation_data,sample_validation_target)\n",
    "print(score_model1)\n",
    "print(sample_validation_target)\n",
    "print(prediction_model1)\n",
    "print(prediction_model2)"
   ]
  },
  {
   "cell_type": "code",
   "execution_count": 281,
   "metadata": {
    "collapsed": false
   },
   "outputs": [
    {
     "name": "stdout",
     "output_type": "stream",
     "text": [
      "0.640500752203 0.613502041694\n",
      "0.63517880224 0.619345109866\n"
     ]
    }
   ],
   "source": [
    "score_train1 = model1.score(train_data,train_target)\n",
    "score_train2 = model2.score(train_data,train_target)\n",
    "print(score_train1,score_train2)\n",
    "score_validation1 = model1.score(validation_data,validation_target)\n",
    "score_validation2 = model2.score(validation_data,validation_target)\n",
    "print(score_validation1,score_validation2)"
   ]
  },
  {
   "cell_type": "code",
   "execution_count": 280,
   "metadata": {
    "collapsed": false
   },
   "outputs": [
    {
     "name": "stdout",
     "output_type": "stream",
     "text": [
      "[[ 0.34156543  0.65843457]\n",
      " [ 0.53630646  0.46369354]\n",
      " [ 0.64750958  0.35249042]\n",
      " [ 0.20789474  0.79210526]]\n",
      "[[ 0.41896585  0.58103415]\n",
      " [ 0.59255339  0.40744661]\n",
      " [ 0.59255339  0.40744661]\n",
      " [ 0.23120112  0.76879888]]\n"
     ]
    }
   ],
   "source": [
    "probability_model1 = model1.predict_proba(sample_validation_data)\n",
    "probability_model2 = model2.predict_proba(sample_validation_data)\n",
    "print(probability_model1)\n",
    "print(probability_model2)"
   ]
  }
 ],
 "metadata": {
  "anaconda-cloud": {},
  "celltoolbar": "Raw Cell Format",
  "kernelspec": {
   "display_name": "Python [conda root]",
   "language": "python",
   "name": "conda-root-py"
  },
  "language_info": {
   "codemirror_mode": {
    "name": "ipython",
    "version": 3
   },
   "file_extension": ".py",
   "mimetype": "text/x-python",
   "name": "python",
   "nbconvert_exporter": "python",
   "pygments_lexer": "ipython3",
   "version": "3.5.2"
  }
 },
 "nbformat": 4,
 "nbformat_minor": 1
}
