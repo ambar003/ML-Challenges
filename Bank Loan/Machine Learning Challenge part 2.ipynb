{
 "cells": [
  {
   "cell_type": "code",
   "execution_count": 1,
   "metadata": {
    "collapsed": true
   },
   "outputs": [],
   "source": [
    "import os\n",
    "mingw_path = 'C:\\\\Program Files\\\\mingw-w64\\\\x86_64-6.3.0-posix-seh-rt_v5-rev1\\\\mingw64\\\\bin'\n",
    "os.environ['PATH'] = mingw_path + ';' + os.environ['PATH']"
   ]
  },
  {
   "cell_type": "code",
   "execution_count": 2,
   "metadata": {
    "collapsed": true
   },
   "outputs": [],
   "source": [
    "def plot_histograms( df , variables , n_rows , n_cols ):\n",
    "    fig = plt.figure( figsize = ( 16 , 12 ) )\n",
    "    for i, var_name in enumerate( variables ):\n",
    "        ax=fig.add_subplot( n_rows , n_cols , i+1 )\n",
    "        df[ var_name ].hist( bins=10 , ax=ax )\n",
    "        ax.set_title( 'Skew: ' + str( round( float( df[ var_name ].skew() ) , ) ) ) # + ' ' + var_name ) #var_name+\" Distribution\")\n",
    "        ax.set_xticklabels( [] , visible=False )\n",
    "        ax.set_yticklabels( [] , visible=False )\n",
    "    fig.tight_layout()  # Improves appearance a bit.\n",
    "    plt.show()\n",
    "\n",
    "def plot_distribution( df , var , target , **kwargs ):\n",
    "    row = kwargs.get( 'row' , None )\n",
    "    col = kwargs.get( 'col' , None )\n",
    "    facet = sns.FacetGrid( df , hue=target , aspect=4 , row = row , col = col )\n",
    "    facet.map( sns.kdeplot , var , shade= True )\n",
    "    facet.set( xlim=( 0 , df[ var ].max() ) )\n",
    "    facet.add_legend()\n",
    "\n",
    "def plot_categories( df , cat , target , **kwargs ):\n",
    "    row = kwargs.get( 'row' , None )\n",
    "    col = kwargs.get( 'col' , None )\n",
    "    facet = sns.FacetGrid( df , row = row , col = col )\n",
    "    facet.map( sns.barplot , cat , target )\n",
    "    facet.add_legend()\n",
    "\n",
    "def plot_correlation_map( df ):\n",
    "    corr = df.corr()\n",
    "    _ , ax = plt.subplots( figsize =( 12 , 10 ) )\n",
    "    cmap = sns.diverging_palette( 220 , 10 , as_cmap = True )\n",
    "    _ = sns.heatmap(\n",
    "        corr, \n",
    "        cmap = cmap,\n",
    "        square=True, \n",
    "        cbar_kws={ 'shrink' : .9 }, \n",
    "        ax=ax, \n",
    "        annot = True, \n",
    "        annot_kws = { 'fontsize' : 12 }\n",
    "    )\n",
    "\n",
    "def describe_more( df ):\n",
    "    var = [] ; l = [] ; t = []\n",
    "    for x in df:\n",
    "        var.append( x )\n",
    "        l.append( len( pd.value_counts( df[ x ] ) ) )\n",
    "        t.append( df[ x ].dtypes )\n",
    "    levels = pd.DataFrame( { 'Variable' : var , 'Levels' : l , 'Datatype' : t } )\n",
    "    levels.sort_values( by = 'Levels' , inplace = True )\n",
    "    return levels\n",
    "\n",
    "def plot_variable_importance( X , y ):\n",
    "    tree = DecisionTreeClassifier( random_state = 99 )\n",
    "    tree.fit( X , y )\n",
    "    plot_model_var_imp( tree , X , y )\n",
    "    \n",
    "def plot_model_var_imp( model , X , y ):\n",
    "    imp = pd.DataFrame( \n",
    "        model.feature_importances_  , \n",
    "        columns = [ 'Importance' ] , \n",
    "        index = X.columns \n",
    "    )\n",
    "    imp = imp.sort_values( [ 'Importance' ] , ascending = True )\n",
    "    imp[ : 10 ].plot( kind = 'barh' )\n",
    "    print (model.score( X , y ))"
   ]
  },
  {
   "cell_type": "code",
   "execution_count": 3,
   "metadata": {
    "collapsed": false
   },
   "outputs": [
    {
     "name": "stderr",
     "output_type": "stream",
     "text": [
      "C:\\Users\\Ambar Gupta\\Anaconda3\\lib\\site-packages\\sklearn\\cross_validation.py:44: DeprecationWarning: This module was deprecated in version 0.18 in favor of the model_selection module into which all the refactored classes and functions are moved. Also note that the interface of the new CV iterators are different from that of this module. This module will be removed in 0.20.\n",
      "  \"This module will be removed in 0.20.\", DeprecationWarning)\n",
      "C:\\Users\\Ambar Gupta\\Anaconda3\\lib\\site-packages\\sklearn\\grid_search.py:43: DeprecationWarning: This module was deprecated in version 0.18 in favor of the model_selection module into which all the refactored classes and functions are moved. This module will be removed in 0.20.\n",
      "  DeprecationWarning)\n"
     ]
    }
   ],
   "source": [
    "import numpy as np\n",
    "import pandas as pd\n",
    "import xgboost as xgb\n",
    "\n",
    "from xgboost.sklearn import XGBClassifier\n",
    "from sklearn import cross_validation,metrics\n",
    "from sklearn.grid_search import GridSearchCV\n",
    "from sklearn.ensemble import GradientBoostingClassifier  #GBM algorithm\n",
    "from sklearn.linear_model import LogisticRegression \n",
    "from sklearn.linear_model import LogisticRegressionCV\n",
    "\n",
    "# Visualisation\n",
    "import matplotlib as mpl\n",
    "import matplotlib.pyplot as plt\n",
    "import matplotlib.pylab as pylab\n",
    "import seaborn as sns\n",
    "\n",
    "# Configure visualisations\n",
    "%matplotlib inline\n",
    "mpl.style.use( 'ggplot' )\n",
    "sns.set_style( 'white' )\n",
    "pylab.rcParams[ 'figure.figsize' ] = 8 , 6"
   ]
  },
  {
   "cell_type": "code",
   "execution_count": 4,
   "metadata": {
    "collapsed": true
   },
   "outputs": [],
   "source": [
    "train_data = pd.read_csv('train_indessa.csv')\n",
    "test_data = pd.read_csv('test_indessa.csv')"
   ]
  },
  {
   "cell_type": "code",
   "execution_count": 5,
   "metadata": {
    "collapsed": false
   },
   "outputs": [
    {
     "data": {
      "text/html": [
       "<div>\n",
       "<table border=\"1\" class=\"dataframe\">\n",
       "  <thead>\n",
       "    <tr style=\"text-align: right;\">\n",
       "      <th></th>\n",
       "      <th>member_id</th>\n",
       "      <th>loan_amnt</th>\n",
       "      <th>funded_amnt</th>\n",
       "      <th>funded_amnt_inv</th>\n",
       "      <th>term</th>\n",
       "      <th>batch_enrolled</th>\n",
       "      <th>int_rate</th>\n",
       "      <th>grade</th>\n",
       "      <th>sub_grade</th>\n",
       "      <th>emp_title</th>\n",
       "      <th>...</th>\n",
       "      <th>collections_12_mths_ex_med</th>\n",
       "      <th>mths_since_last_major_derog</th>\n",
       "      <th>application_type</th>\n",
       "      <th>verification_status_joint</th>\n",
       "      <th>last_week_pay</th>\n",
       "      <th>acc_now_delinq</th>\n",
       "      <th>tot_coll_amt</th>\n",
       "      <th>tot_cur_bal</th>\n",
       "      <th>total_rev_hi_lim</th>\n",
       "      <th>loan_status</th>\n",
       "    </tr>\n",
       "  </thead>\n",
       "  <tbody>\n",
       "    <tr>\n",
       "      <th>0</th>\n",
       "      <td>58189336</td>\n",
       "      <td>14350</td>\n",
       "      <td>14350</td>\n",
       "      <td>14350.0</td>\n",
       "      <td>36 months</td>\n",
       "      <td></td>\n",
       "      <td>19.19</td>\n",
       "      <td>E</td>\n",
       "      <td>E3</td>\n",
       "      <td>clerk</td>\n",
       "      <td>...</td>\n",
       "      <td>0.0</td>\n",
       "      <td>74.0</td>\n",
       "      <td>INDIVIDUAL</td>\n",
       "      <td>NaN</td>\n",
       "      <td>26th week</td>\n",
       "      <td>0.0</td>\n",
       "      <td>0.0</td>\n",
       "      <td>28699.0</td>\n",
       "      <td>30800.0</td>\n",
       "      <td>0</td>\n",
       "    </tr>\n",
       "    <tr>\n",
       "      <th>1</th>\n",
       "      <td>70011223</td>\n",
       "      <td>4800</td>\n",
       "      <td>4800</td>\n",
       "      <td>4800.0</td>\n",
       "      <td>36 months</td>\n",
       "      <td>BAT1586599</td>\n",
       "      <td>10.99</td>\n",
       "      <td>B</td>\n",
       "      <td>B4</td>\n",
       "      <td>Human Resources Specialist</td>\n",
       "      <td>...</td>\n",
       "      <td>0.0</td>\n",
       "      <td>NaN</td>\n",
       "      <td>INDIVIDUAL</td>\n",
       "      <td>NaN</td>\n",
       "      <td>9th week</td>\n",
       "      <td>0.0</td>\n",
       "      <td>0.0</td>\n",
       "      <td>9974.0</td>\n",
       "      <td>32900.0</td>\n",
       "      <td>0</td>\n",
       "    </tr>\n",
       "    <tr>\n",
       "      <th>2</th>\n",
       "      <td>70255675</td>\n",
       "      <td>10000</td>\n",
       "      <td>10000</td>\n",
       "      <td>10000.0</td>\n",
       "      <td>36 months</td>\n",
       "      <td>BAT1586599</td>\n",
       "      <td>7.26</td>\n",
       "      <td>A</td>\n",
       "      <td>A4</td>\n",
       "      <td>Driver</td>\n",
       "      <td>...</td>\n",
       "      <td>0.0</td>\n",
       "      <td>NaN</td>\n",
       "      <td>INDIVIDUAL</td>\n",
       "      <td>NaN</td>\n",
       "      <td>9th week</td>\n",
       "      <td>0.0</td>\n",
       "      <td>65.0</td>\n",
       "      <td>38295.0</td>\n",
       "      <td>34900.0</td>\n",
       "      <td>0</td>\n",
       "    </tr>\n",
       "    <tr>\n",
       "      <th>3</th>\n",
       "      <td>1893936</td>\n",
       "      <td>15000</td>\n",
       "      <td>15000</td>\n",
       "      <td>15000.0</td>\n",
       "      <td>36 months</td>\n",
       "      <td>BAT4808022</td>\n",
       "      <td>19.72</td>\n",
       "      <td>D</td>\n",
       "      <td>D5</td>\n",
       "      <td>Us office of Personnel Management</td>\n",
       "      <td>...</td>\n",
       "      <td>0.0</td>\n",
       "      <td>NaN</td>\n",
       "      <td>INDIVIDUAL</td>\n",
       "      <td>NaN</td>\n",
       "      <td>135th week</td>\n",
       "      <td>0.0</td>\n",
       "      <td>0.0</td>\n",
       "      <td>55564.0</td>\n",
       "      <td>24700.0</td>\n",
       "      <td>0</td>\n",
       "    </tr>\n",
       "    <tr>\n",
       "      <th>4</th>\n",
       "      <td>7652106</td>\n",
       "      <td>16000</td>\n",
       "      <td>16000</td>\n",
       "      <td>16000.0</td>\n",
       "      <td>36 months</td>\n",
       "      <td>BAT2833642</td>\n",
       "      <td>10.64</td>\n",
       "      <td>B</td>\n",
       "      <td>B2</td>\n",
       "      <td>LAUSD-HOLLYWOOD HIGH SCHOOL</td>\n",
       "      <td>...</td>\n",
       "      <td>0.0</td>\n",
       "      <td>NaN</td>\n",
       "      <td>INDIVIDUAL</td>\n",
       "      <td>NaN</td>\n",
       "      <td>96th week</td>\n",
       "      <td>0.0</td>\n",
       "      <td>0.0</td>\n",
       "      <td>47159.0</td>\n",
       "      <td>47033.0</td>\n",
       "      <td>0</td>\n",
       "    </tr>\n",
       "  </tbody>\n",
       "</table>\n",
       "<p>5 rows × 45 columns</p>\n",
       "</div>"
      ],
      "text/plain": [
       "   member_id  loan_amnt  funded_amnt  funded_amnt_inv       term  \\\n",
       "0   58189336      14350        14350          14350.0  36 months   \n",
       "1   70011223       4800         4800           4800.0  36 months   \n",
       "2   70255675      10000        10000          10000.0  36 months   \n",
       "3    1893936      15000        15000          15000.0  36 months   \n",
       "4    7652106      16000        16000          16000.0  36 months   \n",
       "\n",
       "  batch_enrolled  int_rate grade sub_grade                          emp_title  \\\n",
       "0                    19.19     E        E3                              clerk   \n",
       "1     BAT1586599     10.99     B        B4         Human Resources Specialist   \n",
       "2     BAT1586599      7.26     A        A4                             Driver   \n",
       "3     BAT4808022     19.72     D        D5  Us office of Personnel Management   \n",
       "4     BAT2833642     10.64     B        B2        LAUSD-HOLLYWOOD HIGH SCHOOL   \n",
       "\n",
       "      ...     collections_12_mths_ex_med mths_since_last_major_derog  \\\n",
       "0     ...                            0.0                        74.0   \n",
       "1     ...                            0.0                         NaN   \n",
       "2     ...                            0.0                         NaN   \n",
       "3     ...                            0.0                         NaN   \n",
       "4     ...                            0.0                         NaN   \n",
       "\n",
       "   application_type verification_status_joint last_week_pay acc_now_delinq  \\\n",
       "0        INDIVIDUAL                       NaN     26th week            0.0   \n",
       "1        INDIVIDUAL                       NaN      9th week            0.0   \n",
       "2        INDIVIDUAL                       NaN      9th week            0.0   \n",
       "3        INDIVIDUAL                       NaN    135th week            0.0   \n",
       "4        INDIVIDUAL                       NaN     96th week            0.0   \n",
       "\n",
       "  tot_coll_amt tot_cur_bal total_rev_hi_lim loan_status  \n",
       "0          0.0     28699.0          30800.0           0  \n",
       "1          0.0      9974.0          32900.0           0  \n",
       "2         65.0     38295.0          34900.0           0  \n",
       "3          0.0     55564.0          24700.0           0  \n",
       "4          0.0     47159.0          47033.0           0  \n",
       "\n",
       "[5 rows x 45 columns]"
      ]
     },
     "execution_count": 5,
     "metadata": {},
     "output_type": "execute_result"
    }
   ],
   "source": [
    "train_data.head()"
   ]
  },
  {
   "cell_type": "code",
   "execution_count": 6,
   "metadata": {
    "collapsed": false
   },
   "outputs": [
    {
     "data": {
      "image/png": "[encoded data removed]",
      "text/plain": [
       "<matplotlib.figure.Figure at 0x1e05d69b400>"
      ]
     },
     "metadata": {},
     "output_type": "display_data"
    }
   ],
   "source": [
    "plt.plot(train_data['annual_inc'],train_data['funded_amnt'],'.')\n",
    "plt.show()"
   ]
  },
  {
   "cell_type": "code",
   "execution_count": 7,
   "metadata": {
    "collapsed": false
   },
   "outputs": [
    {
     "name": "stdout",
     "output_type": "stream",
     "text": [
      "532428\n"
     ]
    }
   ],
   "source": [
    "# no of outliers point\n",
    "total = sum(train_data['annual_inc']>2000000)\n",
    "total\n",
    "print(len(train_data))"
   ]
  },
  {
   "cell_type": "code",
   "execution_count": 8,
   "metadata": {
    "collapsed": false
   },
   "outputs": [
    {
     "name": "stdout",
     "output_type": "stream",
     "text": [
      "532395\n"
     ]
    }
   ],
   "source": [
    "#removing outliers points\n",
    "# 30 outliers remove them they will effect our model\n",
    "train_data = train_data[train_data['annual_inc']<=2000000]\n",
    "print(len(train_data))"
   ]
  },
  {
   "cell_type": "code",
   "execution_count": 9,
   "metadata": {
    "collapsed": false
   },
   "outputs": [
    {
     "name": "stdout",
     "output_type": "stream",
     "text": [
      "74746.62617263483\n"
     ]
    },
    {
     "data": {
      "image/png": "[encoded data removed]",
      "text/plain": [
       "<matplotlib.figure.Figure at 0x1e05d823908>"
      ]
     },
     "metadata": {},
     "output_type": "display_data"
    }
   ],
   "source": [
    "train_data.hist('funded_amnt')\n",
    "avg_income = train_data['annual_inc'].mean()\n",
    "print(avg_income)\n",
    "plt.show()"
   ]
  },
  {
   "cell_type": "code",
   "execution_count": 10,
   "metadata": {
    "collapsed": false
   },
   "outputs": [
    {
     "data": {
      "text/plain": [
       "532395"
      ]
     },
     "execution_count": 10,
     "metadata": {},
     "output_type": "execute_result"
    }
   ],
   "source": [
    "len(train_data)"
   ]
  },
  {
   "cell_type": "code",
   "execution_count": 11,
   "metadata": {
    "collapsed": false
   },
   "outputs": [
    {
     "data": {
      "text/plain": [
       "(887346, 45)"
      ]
     },
     "execution_count": 11,
     "metadata": {},
     "output_type": "execute_result"
    }
   ],
   "source": [
    "# lets add train and test data for data cleaning and feature engineering\n",
    "loan_data = pd.concat([train_data,test_data])\n",
    "loan_data.shape"
   ]
  },
  {
   "cell_type": "code",
   "execution_count": 12,
   "metadata": {
    "collapsed": false
   },
   "outputs": [
    {
     "name": "stderr",
     "output_type": "stream",
     "text": [
      "C:\\Users\\Ambar Gupta\\Anaconda3\\lib\\site-packages\\numpy\\lib\\function_base.py:3834: RuntimeWarning: Invalid value encountered in percentile\n",
      "  RuntimeWarning)\n"
     ]
    },
    {
     "data": {
      "text/html": [
       "<div>\n",
       "<table border=\"1\" class=\"dataframe\">\n",
       "  <thead>\n",
       "    <tr style=\"text-align: right;\">\n",
       "      <th></th>\n",
       "      <th>acc_now_delinq</th>\n",
       "      <th>annual_inc</th>\n",
       "      <th>collection_recovery_fee</th>\n",
       "      <th>collections_12_mths_ex_med</th>\n",
       "      <th>delinq_2yrs</th>\n",
       "      <th>dti</th>\n",
       "      <th>funded_amnt</th>\n",
       "      <th>funded_amnt_inv</th>\n",
       "      <th>inq_last_6mths</th>\n",
       "      <th>int_rate</th>\n",
       "      <th>...</th>\n",
       "      <th>pub_rec</th>\n",
       "      <th>recoveries</th>\n",
       "      <th>revol_bal</th>\n",
       "      <th>revol_util</th>\n",
       "      <th>tot_coll_amt</th>\n",
       "      <th>tot_cur_bal</th>\n",
       "      <th>total_acc</th>\n",
       "      <th>total_rec_int</th>\n",
       "      <th>total_rec_late_fee</th>\n",
       "      <th>total_rev_hi_lim</th>\n",
       "    </tr>\n",
       "  </thead>\n",
       "  <tbody>\n",
       "    <tr>\n",
       "      <th>count</th>\n",
       "      <td>887320.000000</td>\n",
       "      <td>8.873450e+05</td>\n",
       "      <td>887346.000000</td>\n",
       "      <td>887204.000000</td>\n",
       "      <td>887320.000000</td>\n",
       "      <td>887346.000000</td>\n",
       "      <td>887346.000000</td>\n",
       "      <td>887346.000000</td>\n",
       "      <td>887320.000000</td>\n",
       "      <td>887346.000000</td>\n",
       "      <td>...</td>\n",
       "      <td>887320.000000</td>\n",
       "      <td>887346.000000</td>\n",
       "      <td>8.873460e+05</td>\n",
       "      <td>886847.000000</td>\n",
       "      <td>8.170740e+05</td>\n",
       "      <td>8.170740e+05</td>\n",
       "      <td>887320.000000</td>\n",
       "      <td>887346.000000</td>\n",
       "      <td>887346.000000</td>\n",
       "      <td>8.170740e+05</td>\n",
       "    </tr>\n",
       "    <tr>\n",
       "      <th>mean</th>\n",
       "      <td>0.004991</td>\n",
       "      <td>7.485766e+04</td>\n",
       "      <td>4.880939</td>\n",
       "      <td>0.014380</td>\n",
       "      <td>0.314438</td>\n",
       "      <td>18.157691</td>\n",
       "      <td>14741.841655</td>\n",
       "      <td>14702.443686</td>\n",
       "      <td>0.694632</td>\n",
       "      <td>13.246840</td>\n",
       "      <td>...</td>\n",
       "      <td>0.195311</td>\n",
       "      <td>45.920951</td>\n",
       "      <td>1.691952e+04</td>\n",
       "      <td>55.067750</td>\n",
       "      <td>2.257095e+02</td>\n",
       "      <td>1.394432e+05</td>\n",
       "      <td>25.268078</td>\n",
       "      <td>1754.836192</td>\n",
       "      <td>0.396690</td>\n",
       "      <td>3.206708e+04</td>\n",
       "    </tr>\n",
       "    <tr>\n",
       "      <th>std</th>\n",
       "      <td>0.077627</td>\n",
       "      <td>5.624254e+04</td>\n",
       "      <td>63.126448</td>\n",
       "      <td>0.134193</td>\n",
       "      <td>0.862195</td>\n",
       "      <td>17.190612</td>\n",
       "      <td>8429.823239</td>\n",
       "      <td>8442.012810</td>\n",
       "      <td>0.998457</td>\n",
       "      <td>4.381879</td>\n",
       "      <td>...</td>\n",
       "      <td>0.582098</td>\n",
       "      <td>409.701396</td>\n",
       "      <td>2.240283e+04</td>\n",
       "      <td>23.834082</td>\n",
       "      <td>1.031155e+04</td>\n",
       "      <td>1.534759e+05</td>\n",
       "      <td>11.840537</td>\n",
       "      <td>2095.366359</td>\n",
       "      <td>4.087871</td>\n",
       "      <td>3.748252e+04</td>\n",
       "    </tr>\n",
       "    <tr>\n",
       "      <th>min</th>\n",
       "      <td>0.000000</td>\n",
       "      <td>0.000000e+00</td>\n",
       "      <td>0.000000</td>\n",
       "      <td>0.000000</td>\n",
       "      <td>0.000000</td>\n",
       "      <td>0.000000</td>\n",
       "      <td>500.000000</td>\n",
       "      <td>0.000000</td>\n",
       "      <td>0.000000</td>\n",
       "      <td>5.320000</td>\n",
       "      <td>...</td>\n",
       "      <td>0.000000</td>\n",
       "      <td>0.000000</td>\n",
       "      <td>0.000000e+00</td>\n",
       "      <td>0.000000</td>\n",
       "      <td>0.000000e+00</td>\n",
       "      <td>0.000000e+00</td>\n",
       "      <td>1.000000</td>\n",
       "      <td>0.000000</td>\n",
       "      <td>0.000000</td>\n",
       "      <td>0.000000e+00</td>\n",
       "    </tr>\n",
       "    <tr>\n",
       "      <th>25%</th>\n",
       "      <td>NaN</td>\n",
       "      <td>NaN</td>\n",
       "      <td>0.000000</td>\n",
       "      <td>NaN</td>\n",
       "      <td>NaN</td>\n",
       "      <td>11.910000</td>\n",
       "      <td>8000.000000</td>\n",
       "      <td>8000.000000</td>\n",
       "      <td>NaN</td>\n",
       "      <td>9.990000</td>\n",
       "      <td>...</td>\n",
       "      <td>NaN</td>\n",
       "      <td>0.000000</td>\n",
       "      <td>6.443000e+03</td>\n",
       "      <td>NaN</td>\n",
       "      <td>NaN</td>\n",
       "      <td>NaN</td>\n",
       "      <td>NaN</td>\n",
       "      <td>441.492500</td>\n",
       "      <td>0.000000</td>\n",
       "      <td>NaN</td>\n",
       "    </tr>\n",
       "    <tr>\n",
       "      <th>50%</th>\n",
       "      <td>NaN</td>\n",
       "      <td>NaN</td>\n",
       "      <td>0.000000</td>\n",
       "      <td>NaN</td>\n",
       "      <td>NaN</td>\n",
       "      <td>17.660000</td>\n",
       "      <td>13000.000000</td>\n",
       "      <td>13000.000000</td>\n",
       "      <td>NaN</td>\n",
       "      <td>12.990000</td>\n",
       "      <td>...</td>\n",
       "      <td>NaN</td>\n",
       "      <td>0.000000</td>\n",
       "      <td>1.187500e+04</td>\n",
       "      <td>NaN</td>\n",
       "      <td>NaN</td>\n",
       "      <td>NaN</td>\n",
       "      <td>NaN</td>\n",
       "      <td>1073.365000</td>\n",
       "      <td>0.000000</td>\n",
       "      <td>NaN</td>\n",
       "    </tr>\n",
       "    <tr>\n",
       "      <th>75%</th>\n",
       "      <td>NaN</td>\n",
       "      <td>NaN</td>\n",
       "      <td>0.000000</td>\n",
       "      <td>NaN</td>\n",
       "      <td>NaN</td>\n",
       "      <td>23.950000</td>\n",
       "      <td>20000.000000</td>\n",
       "      <td>20000.000000</td>\n",
       "      <td>NaN</td>\n",
       "      <td>16.200000</td>\n",
       "      <td>...</td>\n",
       "      <td>NaN</td>\n",
       "      <td>0.000000</td>\n",
       "      <td>2.082900e+04</td>\n",
       "      <td>NaN</td>\n",
       "      <td>NaN</td>\n",
       "      <td>NaN</td>\n",
       "      <td>NaN</td>\n",
       "      <td>2238.350000</td>\n",
       "      <td>0.000000</td>\n",
       "      <td>NaN</td>\n",
       "    </tr>\n",
       "    <tr>\n",
       "      <th>max</th>\n",
       "      <td>14.000000</td>\n",
       "      <td>9.000000e+06</td>\n",
       "      <td>7002.190000</td>\n",
       "      <td>20.000000</td>\n",
       "      <td>39.000000</td>\n",
       "      <td>9999.000000</td>\n",
       "      <td>35000.000000</td>\n",
       "      <td>35000.000000</td>\n",
       "      <td>33.000000</td>\n",
       "      <td>28.990000</td>\n",
       "      <td>...</td>\n",
       "      <td>86.000000</td>\n",
       "      <td>33520.270000</td>\n",
       "      <td>2.904836e+06</td>\n",
       "      <td>892.300000</td>\n",
       "      <td>9.152545e+06</td>\n",
       "      <td>4.772549e+06</td>\n",
       "      <td>169.000000</td>\n",
       "      <td>24205.620000</td>\n",
       "      <td>358.680000</td>\n",
       "      <td>9.999999e+06</td>\n",
       "    </tr>\n",
       "  </tbody>\n",
       "</table>\n",
       "<p>8 rows × 27 columns</p>\n",
       "</div>"
      ],
      "text/plain": [
       "       acc_now_delinq    annual_inc  collection_recovery_fee  \\\n",
       "count   887320.000000  8.873450e+05            887346.000000   \n",
       "mean         0.004991  7.485766e+04                 4.880939   \n",
       "std          0.077627  5.624254e+04                63.126448   \n",
       "min          0.000000  0.000000e+00                 0.000000   \n",
       "25%               NaN           NaN                 0.000000   \n",
       "50%               NaN           NaN                 0.000000   \n",
       "75%               NaN           NaN                 0.000000   \n",
       "max         14.000000  9.000000e+06              7002.190000   \n",
       "\n",
       "       collections_12_mths_ex_med    delinq_2yrs            dti  \\\n",
       "count               887204.000000  887320.000000  887346.000000   \n",
       "mean                     0.014380       0.314438      18.157691   \n",
       "std                      0.134193       0.862195      17.190612   \n",
       "min                      0.000000       0.000000       0.000000   \n",
       "25%                           NaN            NaN      11.910000   \n",
       "50%                           NaN            NaN      17.660000   \n",
       "75%                           NaN            NaN      23.950000   \n",
       "max                     20.000000      39.000000    9999.000000   \n",
       "\n",
       "         funded_amnt  funded_amnt_inv  inq_last_6mths       int_rate  \\\n",
       "count  887346.000000    887346.000000   887320.000000  887346.000000   \n",
       "mean    14741.841655     14702.443686        0.694632      13.246840   \n",
       "std      8429.823239      8442.012810        0.998457       4.381879   \n",
       "min       500.000000         0.000000        0.000000       5.320000   \n",
       "25%      8000.000000      8000.000000             NaN       9.990000   \n",
       "50%     13000.000000     13000.000000             NaN      12.990000   \n",
       "75%     20000.000000     20000.000000             NaN      16.200000   \n",
       "max     35000.000000     35000.000000       33.000000      28.990000   \n",
       "\n",
       "             ...               pub_rec     recoveries     revol_bal  \\\n",
       "count        ...         887320.000000  887346.000000  8.873460e+05   \n",
       "mean         ...              0.195311      45.920951  1.691952e+04   \n",
       "std          ...              0.582098     409.701396  2.240283e+04   \n",
       "min          ...              0.000000       0.000000  0.000000e+00   \n",
       "25%          ...                   NaN       0.000000  6.443000e+03   \n",
       "50%          ...                   NaN       0.000000  1.187500e+04   \n",
       "75%          ...                   NaN       0.000000  2.082900e+04   \n",
       "max          ...             86.000000   33520.270000  2.904836e+06   \n",
       "\n",
       "          revol_util  tot_coll_amt   tot_cur_bal      total_acc  \\\n",
       "count  886847.000000  8.170740e+05  8.170740e+05  887320.000000   \n",
       "mean       55.067750  2.257095e+02  1.394432e+05      25.268078   \n",
       "std        23.834082  1.031155e+04  1.534759e+05      11.840537   \n",
       "min         0.000000  0.000000e+00  0.000000e+00       1.000000   \n",
       "25%              NaN           NaN           NaN            NaN   \n",
       "50%              NaN           NaN           NaN            NaN   \n",
       "75%              NaN           NaN           NaN            NaN   \n",
       "max       892.300000  9.152545e+06  4.772549e+06     169.000000   \n",
       "\n",
       "       total_rec_int  total_rec_late_fee  total_rev_hi_lim  \n",
       "count  887346.000000       887346.000000      8.170740e+05  \n",
       "mean     1754.836192            0.396690      3.206708e+04  \n",
       "std      2095.366359            4.087871      3.748252e+04  \n",
       "min         0.000000            0.000000      0.000000e+00  \n",
       "25%       441.492500            0.000000               NaN  \n",
       "50%      1073.365000            0.000000               NaN  \n",
       "75%      2238.350000            0.000000               NaN  \n",
       "max     24205.620000          358.680000      9.999999e+06  \n",
       "\n",
       "[8 rows x 27 columns]"
      ]
     },
     "execution_count": 12,
     "metadata": {},
     "output_type": "execute_result"
    }
   ],
   "source": [
    "loan_data.describe()"
   ]
  },
  {
   "cell_type": "code",
   "execution_count": 13,
   "metadata": {
    "collapsed": false
   },
   "outputs": [
    {
     "data": {
      "text/plain": [
       "Index(['acc_now_delinq', 'addr_state', 'annual_inc', 'application_type',\n",
       "       'batch_enrolled', 'collection_recovery_fee',\n",
       "       'collections_12_mths_ex_med', 'delinq_2yrs', 'desc', 'dti',\n",
       "       'emp_length', 'emp_title', 'funded_amnt', 'funded_amnt_inv', 'grade',\n",
       "       'home_ownership', 'initial_list_status', 'inq_last_6mths', 'int_rate',\n",
       "       'last_week_pay', 'loan_amnt', 'loan_status', 'member_id',\n",
       "       'mths_since_last_delinq', 'mths_since_last_major_derog',\n",
       "       'mths_since_last_record', 'open_acc', 'pub_rec', 'purpose',\n",
       "       'pymnt_plan', 'recoveries', 'revol_bal', 'revol_util', 'sub_grade',\n",
       "       'term', 'title', 'tot_coll_amt', 'tot_cur_bal', 'total_acc',\n",
       "       'total_rec_int', 'total_rec_late_fee', 'total_rev_hi_lim',\n",
       "       'verification_status', 'verification_status_joint', 'zip_code'],\n",
       "      dtype='object')"
      ]
     },
     "execution_count": 13,
     "metadata": {},
     "output_type": "execute_result"
    }
   ],
   "source": [
    "loan_data.columns"
   ]
  },
  {
   "cell_type": "code",
   "execution_count": 14,
   "metadata": {
    "collapsed": false
   },
   "outputs": [
    {
     "data": {
      "text/plain": [
       "count    887346.000000\n",
       "mean          0.004991\n",
       "std           0.077626\n",
       "min           0.000000\n",
       "25%           0.000000\n",
       "50%           0.000000\n",
       "75%           0.000000\n",
       "max          14.000000\n",
       "Name: acc_now_delinq, dtype: float64"
      ]
     },
     "execution_count": 14,
     "metadata": {},
     "output_type": "execute_result"
    }
   ],
   "source": [
    "# here mean is very low and no of missing values are jsut 26 so we can safely fill 0 to fill na values\n",
    "loan_data['acc_now_delinq'] = loan_data['acc_now_delinq'].fillna(0)\n",
    "loan_data['acc_now_delinq'].describe()"
   ]
  },
  {
   "cell_type": "code",
   "execution_count": 15,
   "metadata": {
    "collapsed": false
   },
   "outputs": [
    {
     "data": {
      "text/plain": [
       "count     887346\n",
       "unique        51\n",
       "top           CA\n",
       "freq      129511\n",
       "Name: addr_state, dtype: object"
      ]
     },
     "execution_count": 15,
     "metadata": {},
     "output_type": "execute_result"
    }
   ],
   "source": [
    "# since addr_state contain many unique values and it doesn't contain any na values\n",
    "loan_data['addr_state'].describe()"
   ]
  },
  {
   "cell_type": "code",
   "execution_count": 16,
   "metadata": {
    "collapsed": false
   },
   "outputs": [
    {
     "data": {
      "text/plain": [
       "count    8.873460e+05\n",
       "mean     7.485758e+04\n",
       "std      5.624257e+04\n",
       "min      0.000000e+00\n",
       "25%      4.500000e+04\n",
       "50%      6.500000e+04\n",
       "75%      9.000000e+04\n",
       "max      9.000000e+06\n",
       "Name: annual_inc, dtype: float64"
      ]
     },
     "execution_count": 16,
     "metadata": {},
     "output_type": "execute_result"
    }
   ],
   "source": [
    "#since it has only one muissing value we can fill it with mean value\n",
    "loan_data['annual_inc'] = loan_data['annual_inc'].fillna(0)\n",
    "loan_data['annual_inc'].describe()"
   ]
  },
  {
   "cell_type": "code",
   "execution_count": 17,
   "metadata": {
    "collapsed": false
   },
   "outputs": [
    {
     "data": {
      "text/plain": [
       "INDIVIDUAL    886835\n",
       "JOINT            511\n",
       "Name: application_type, dtype: int64"
      ]
     },
     "execution_count": 17,
     "metadata": {},
     "output_type": "execute_result"
    }
   ],
   "source": [
    "loan_data['application_type'].value_counts()"
   ]
  },
  {
   "cell_type": "code",
   "execution_count": 18,
   "metadata": {
    "collapsed": false
   },
   "outputs": [
    {
     "data": {
      "text/plain": [
       "count    887346.000000\n",
       "mean          4.880939\n",
       "std          63.126448\n",
       "min           0.000000\n",
       "25%           0.000000\n",
       "50%           0.000000\n",
       "75%           0.000000\n",
       "max        7002.190000\n",
       "Name: collection_recovery_fee, dtype: float64"
      ]
     },
     "execution_count": 18,
     "metadata": {},
     "output_type": "execute_result"
    }
   ],
   "source": [
    "loan_data['collection_recovery_fee'].describe()"
   ]
  },
  {
   "cell_type": "code",
   "execution_count": 19,
   "metadata": {
    "collapsed": false
   },
   "outputs": [
    {
     "data": {
      "text/plain": [
       "count    887346.000000\n",
       "mean          0.014378\n",
       "std           0.134182\n",
       "min           0.000000\n",
       "25%           0.000000\n",
       "50%           0.000000\n",
       "75%           0.000000\n",
       "max          20.000000\n",
       "Name: collections_12_mths_ex_med, dtype: float64"
      ]
     },
     "execution_count": 19,
     "metadata": {},
     "output_type": "execute_result"
    }
   ],
   "source": [
    "# collection items excluding medical \n",
    "# lower the collection item more the chance of approval\n",
    "loan_data['collections_12_mths_ex_med'] = loan_data['collections_12_mths_ex_med'].fillna(0)\n",
    "loan_data['collections_12_mths_ex_med'].describe()"
   ]
  },
  {
   "cell_type": "code",
   "execution_count": 20,
   "metadata": {
    "collapsed": false
   },
   "outputs": [
    {
     "data": {
      "text/plain": [
       "count    887346.000000\n",
       "mean          0.314429\n",
       "std           0.862184\n",
       "min           0.000000\n",
       "25%           0.000000\n",
       "50%           0.000000\n",
       "75%           0.000000\n",
       "max          39.000000\n",
       "Name: delinq_2yrs, dtype: float64"
      ]
     },
     "execution_count": 20,
     "metadata": {},
     "output_type": "execute_result"
    }
   ],
   "source": [
    "# delinquence_2 years no of times overdue in past 2 years\n",
    "loan_data['delinq_2yrs'] = loan_data['delinq_2yrs'].fillna(0)\n",
    "loan_data['delinq_2yrs'].describe()"
   ]
  },
  {
   "cell_type": "code",
   "execution_count": 21,
   "metadata": {
    "collapsed": false
   },
   "outputs": [
    {
     "data": {
      "text/plain": [
       "count                       125777\n",
       "unique                      116820\n",
       "top       > Debt consolidation<br>\n",
       "freq                           958\n",
       "Name: desc, dtype: object"
      ]
     },
     "execution_count": 21,
     "metadata": {},
     "output_type": "execute_result"
    }
   ],
   "source": [
    "# since description has many unique values we should ignore it\n",
    "loan_data['desc'].describe()"
   ]
  },
  {
   "cell_type": "code",
   "execution_count": 22,
   "metadata": {
    "collapsed": false
   },
   "outputs": [
    {
     "data": {
      "text/plain": [
       "count    887346.000000\n",
       "mean         18.157691\n",
       "std          17.190612\n",
       "min           0.000000\n",
       "25%          11.910000\n",
       "50%          17.660000\n",
       "75%          23.950000\n",
       "max        9999.000000\n",
       "Name: dti, dtype: float64"
      ]
     },
     "execution_count": 22,
     "metadata": {},
     "output_type": "execute_result"
    }
   ],
   "source": [
    "loan_data['dti'].describe()\n",
    "# no missing values :)"
   ]
  },
  {
   "cell_type": "code",
   "execution_count": 23,
   "metadata": {
    "collapsed": true
   },
   "outputs": [],
   "source": [
    "def update(item):\n",
    "    s = ''.join(x for x in item if x.isdigit())\n",
    "    if(len(s)!=0):\n",
    "        return int(s)\n",
    "    else:\n",
    "        return 0\n",
    "\n",
    "loan_data['emp_length'] = loan_data['emp_length'].apply(lambda x:update(x))   "
   ]
  },
  {
   "cell_type": "code",
   "execution_count": 24,
   "metadata": {
    "collapsed": false
   },
   "outputs": [
    {
     "data": {
      "text/plain": [
       "0    3\n",
       "1    6\n",
       "2    7\n",
       "3    4\n",
       "4    6\n",
       "Name: grade, dtype: int64"
      ]
     },
     "execution_count": 24,
     "metadata": {},
     "output_type": "execute_result"
    }
   ],
   "source": [
    "# A<B<C<D<E<F<G\n",
    "mapping_dict = {\n",
    "    \"grade\":{\n",
    "        \"A\": 7,\n",
    "        \"B\": 6,\n",
    "        \"C\": 5,\n",
    "        \"D\": 4,\n",
    "        \"E\": 3,\n",
    "        \"F\": 2,\n",
    "        \"G\": 1\n",
    "    }\n",
    "}\n",
    "loan_data = loan_data.replace(mapping_dict)\n",
    "loan_data['grade'].head()"
   ]
  },
  {
   "cell_type": "code",
   "execution_count": 25,
   "metadata": {
    "collapsed": false
   },
   "outputs": [
    {
     "data": {
      "text/plain": [
       "6    254524\n",
       "5    245851\n",
       "7    148192\n",
       "4    139539\n",
       "3     70705\n",
       "2     23046\n",
       "1      5489\n",
       "Name: grade, dtype: int64"
      ]
     },
     "execution_count": 25,
     "metadata": {},
     "output_type": "execute_result"
    }
   ],
   "source": [
    "loan_data['grade'].value_counts()"
   ]
  },
  {
   "cell_type": "code",
   "execution_count": 26,
   "metadata": {
    "collapsed": false
   },
   "outputs": [
    {
     "data": {
      "image/png": "[encoded data removed]",
      "text/plain": [
       "<matplotlib.figure.Figure at 0x1e05d853978>"
      ]
     },
     "metadata": {},
     "output_type": "display_data"
    },
    {
     "data": {
      "image/png": "[encoded data removed]",
      "text/plain": [
       "<matplotlib.figure.Figure at 0x1e05d8239e8>"
      ]
     },
     "metadata": {},
     "output_type": "display_data"
    }
   ],
   "source": [
    "loan_data.hist('funded_amnt')\n",
    "loan_data.hist('funded_amnt_inv')\n",
    "plt.show()"
   ]
  },
  {
   "cell_type": "code",
   "execution_count": 27,
   "metadata": {
    "collapsed": false
   },
   "outputs": [
    {
     "data": {
      "text/plain": [
       "count    887346.000000\n",
       "mean      14741.841655\n",
       "std        8429.823239\n",
       "min         500.000000\n",
       "25%        8000.000000\n",
       "50%       13000.000000\n",
       "75%       20000.000000\n",
       "max       35000.000000\n",
       "Name: funded_amnt, dtype: float64"
      ]
     },
     "execution_count": 27,
     "metadata": {},
     "output_type": "execute_result"
    }
   ],
   "source": [
    "loan_data['funded_amnt'].describe()\n",
    "# no missing values :)"
   ]
  },
  {
   "cell_type": "code",
   "execution_count": 28,
   "metadata": {
    "collapsed": false
   },
   "outputs": [
    {
     "data": {
      "text/plain": [
       "0    0\n",
       "1    1\n",
       "2    1\n",
       "3    0\n",
       "4    1\n",
       "Name: initial_list_status, dtype: int64"
      ]
     },
     "execution_count": 28,
     "metadata": {},
     "output_type": "execute_result"
    }
   ],
   "source": [
    "loan_data['initial_list_status'].value_counts()\n",
    "def update_status(item):\n",
    "    if item=='f':\n",
    "        return 0\n",
    "    else:\n",
    "        return 1\n",
    "loan_data['initial_list_status'] = loan_data['initial_list_status'].apply(lambda x:update_status(x))\n",
    "loan_data['initial_list_status'].head()"
   ]
  },
  {
   "cell_type": "code",
   "execution_count": 29,
   "metadata": {
    "collapsed": false
   },
   "outputs": [],
   "source": [
    "loan_data['inq_last_6mths'].value_counts()\n",
    "loan_data['inq_last_6mths'] = loan_data['inq_last_6mths'].fillna(0)"
   ]
  },
  {
   "cell_type": "code",
   "execution_count": 30,
   "metadata": {
    "collapsed": false
   },
   "outputs": [
    {
     "data": {
      "image/png": "[encoded data removed]",
      "text/plain": [
       "<matplotlib.figure.Figure at 0x1e010d249b0>"
      ]
     },
     "metadata": {},
     "output_type": "display_data"
    }
   ],
   "source": [
    "loan_data.hist('int_rate')\n",
    "plt.show()"
   ]
  },
  {
   "cell_type": "code",
   "execution_count": 31,
   "metadata": {
    "collapsed": false
   },
   "outputs": [
    {
     "data": {
      "text/plain": [
       "0     26\n",
       "1      9\n",
       "2      9\n",
       "3    135\n",
       "4     96\n",
       "Name: last_week_pay, dtype: int64"
      ]
     },
     "execution_count": 31,
     "metadata": {},
     "output_type": "execute_result"
    }
   ],
   "source": [
    "loan_data['last_week_pay'].describe()\n",
    "loan_data['last_week_pay'] = loan_data['last_week_pay'].apply(lambda x:update(x))\n",
    "loan_data['last_week_pay'].head()"
   ]
  },
  {
   "cell_type": "code",
   "execution_count": 32,
   "metadata": {
    "collapsed": false
   },
   "outputs": [
    {
     "data": {
      "text/plain": [
       "count    887346.000000\n",
       "mean      14755.229133\n",
       "std        8435.381496\n",
       "min         500.000000\n",
       "25%        8000.000000\n",
       "50%       13000.000000\n",
       "75%       20000.000000\n",
       "max       35000.000000\n",
       "Name: loan_amnt, dtype: float64"
      ]
     },
     "execution_count": 32,
     "metadata": {},
     "output_type": "execute_result"
    }
   ],
   "source": [
    "loan_data['loan_amnt'].describe()"
   ]
  },
  {
   "cell_type": "code",
   "execution_count": 33,
   "metadata": {
    "collapsed": false
   },
   "outputs": [
    {
     "name": "stderr",
     "output_type": "stream",
     "text": [
      "C:\\Users\\Ambar Gupta\\Anaconda3\\lib\\site-packages\\numpy\\lib\\function_base.py:3834: RuntimeWarning: Invalid value encountered in percentile\n",
      "  RuntimeWarning)\n"
     ]
    },
    {
     "data": {
      "text/plain": [
       "count    532395.000000\n",
       "mean          0.236328\n",
       "std           0.424827\n",
       "min           0.000000\n",
       "25%                NaN\n",
       "50%                NaN\n",
       "75%                NaN\n",
       "max           1.000000\n",
       "Name: loan_status, dtype: float64"
      ]
     },
     "execution_count": 33,
     "metadata": {},
     "output_type": "execute_result"
    }
   ],
   "source": [
    "loan_data['loan_status'].describe()"
   ]
  },
  {
   "cell_type": "code",
   "execution_count": 34,
   "metadata": {
    "collapsed": false
   },
   "outputs": [
    {
     "data": {
      "image/png": "[encoded data removed]",
      "text/plain": [
       "<matplotlib.figure.Figure at 0x1e00ff24128>"
      ]
     },
     "metadata": {},
     "output_type": "display_data"
    }
   ],
   "source": [
    "plt.figure(figsize=(10,5))\n",
    "plt.plot(loan_data['annual_inc'],loan_data['mths_since_last_delinq'],'o')\n",
    "plt.show()"
   ]
  },
  {
   "cell_type": "code",
   "execution_count": 35,
   "metadata": {
    "collapsed": false
   },
   "outputs": [
    {
     "name": "stdout",
     "output_type": "stream",
     "text": [
      "34.06477076424236 26.571428571428573\n"
     ]
    }
   ],
   "source": [
    "temp_data = loan_data[loan_data['annual_inc']<=1200000]\n",
    "m1 = temp_data['mths_since_last_delinq'].mean()\n",
    "temp_data1 = loan_data[loan_data['annual_inc']>1200000]\n",
    "m2 = temp_data1['mths_since_last_delinq'].mean()\n",
    "print(m1,m2)"
   ]
  },
  {
   "cell_type": "code",
   "execution_count": 36,
   "metadata": {
    "collapsed": false
   },
   "outputs": [],
   "source": [
    "loan_data['mths_since_last_delinq'] = loan_data['mths_since_last_delinq'].fillna(34)         "
   ]
  },
  {
   "cell_type": "code",
   "execution_count": 37,
   "metadata": {
    "collapsed": false
   },
   "outputs": [
    {
     "data": {
      "text/plain": [
       "0    50.0\n",
       "1    34.0\n",
       "2    34.0\n",
       "3    46.0\n",
       "4    34.0\n",
       "Name: mths_since_last_delinq, dtype: float64"
      ]
     },
     "execution_count": 37,
     "metadata": {},
     "output_type": "execute_result"
    }
   ],
   "source": [
    "loan_data['mths_since_last_delinq'].head()"
   ]
  },
  {
   "cell_type": "code",
   "execution_count": 38,
   "metadata": {
    "collapsed": false
   },
   "outputs": [
    {
     "name": "stderr",
     "output_type": "stream",
     "text": [
      "C:\\Users\\Ambar Gupta\\Anaconda3\\lib\\site-packages\\numpy\\lib\\function_base.py:3834: RuntimeWarning: Invalid value encountered in percentile\n",
      "  RuntimeWarning)\n"
     ]
    },
    {
     "data": {
      "text/plain": [
       "count    137049.000000\n",
       "mean         70.118425\n",
       "std          28.127641\n",
       "min           0.000000\n",
       "25%                NaN\n",
       "50%                NaN\n",
       "75%                NaN\n",
       "max         129.000000\n",
       "Name: mths_since_last_record, dtype: float64"
      ]
     },
     "execution_count": 38,
     "metadata": {},
     "output_type": "execute_result"
    }
   ],
   "source": [
    "loan_data['mths_since_last_record'].describe()"
   ]
  },
  {
   "cell_type": "code",
   "execution_count": 39,
   "metadata": {
    "collapsed": false
   },
   "outputs": [
    {
     "data": {
      "image/png": "[encoded data removed]",
      "text/plain": [
       "<matplotlib.figure.Figure at 0x1e00ffdf748>"
      ]
     },
     "metadata": {},
     "output_type": "display_data"
    }
   ],
   "source": [
    "plt.figure(figsize=(10,5))\n",
    "plt.plot(loan_data['annual_inc'],loan_data['open_acc'],'.')\n",
    "plt.show()"
   ]
  },
  {
   "cell_type": "code",
   "execution_count": 40,
   "metadata": {
    "collapsed": false
   },
   "outputs": [
    {
     "data": {
      "text/plain": [
       "count    887346.000000\n",
       "mean         11.548498\n",
       "std           5.317266\n",
       "min           0.000000\n",
       "25%           8.000000\n",
       "50%          11.000000\n",
       "75%          14.000000\n",
       "max          90.000000\n",
       "Name: open_acc, dtype: float64"
      ]
     },
     "execution_count": 40,
     "metadata": {},
     "output_type": "execute_result"
    }
   ],
   "source": [
    "# no of times borrowed money from credit line type loan \n",
    "loan_data['open_acc'] = loan_data['open_acc'].fillna(loan_data['open_acc'].mean())\n",
    "loan_data['open_acc'].describe()"
   ]
  },
  {
   "cell_type": "code",
   "execution_count": 41,
   "metadata": {
    "collapsed": false
   },
   "outputs": [
    {
     "data": {
      "text/plain": [
       "count    887346.000000\n",
       "mean          0.195305\n",
       "std           0.582090\n",
       "min           0.000000\n",
       "25%           0.000000\n",
       "50%           0.000000\n",
       "75%           0.000000\n",
       "max          86.000000\n",
       "Name: pub_rec, dtype: float64"
      ]
     },
     "execution_count": 41,
     "metadata": {},
     "output_type": "execute_result"
    }
   ],
   "source": [
    "#no of derogatory public records\n",
    "loan_data['pub_rec'] = loan_data['pub_rec'].fillna(0)\n",
    "loan_data['pub_rec'].describe()"
   ]
  },
  {
   "cell_type": "code",
   "execution_count": 42,
   "metadata": {
    "collapsed": false
   },
   "outputs": [
    {
     "data": {
      "text/plain": [
       "count    887346.000000\n",
       "mean         25.268078\n",
       "std          11.840364\n",
       "min           1.000000\n",
       "25%          17.000000\n",
       "50%          24.000000\n",
       "75%          32.000000\n",
       "max         169.000000\n",
       "Name: total_acc, dtype: float64"
      ]
     },
     "execution_count": 42,
     "metadata": {},
     "output_type": "execute_result"
    }
   ],
   "source": [
    "# total credit lines available in member credit line\n",
    "loan_data['total_acc'] = loan_data['total_acc'].fillna(loan_data['total_acc'].mean())\n",
    "loan_data['total_acc'].describe()"
   ]
  },
  {
   "cell_type": "code",
   "execution_count": 43,
   "metadata": {
    "collapsed": false
   },
   "outputs": [
    {
     "data": {
      "text/plain": [
       "count    887346.000000\n",
       "mean         45.920951\n",
       "std         409.701396\n",
       "min           0.000000\n",
       "25%           0.000000\n",
       "50%           0.000000\n",
       "75%           0.000000\n",
       "max       33520.270000\n",
       "Name: recoveries, dtype: float64"
      ]
     },
     "execution_count": 43,
     "metadata": {},
     "output_type": "execute_result"
    }
   ],
   "source": [
    "loan_data['recoveries'] = loan_data['recoveries'].fillna(0)\n",
    "loan_data['recoveries'].describe()"
   ]
  },
  {
   "cell_type": "code",
   "execution_count": 44,
   "metadata": {
    "collapsed": false
   },
   "outputs": [
    {
     "data": {
      "text/plain": [
       "count    887346.000000\n",
       "mean         55.067750\n",
       "std          23.827379\n",
       "min           0.000000\n",
       "25%          37.700000\n",
       "50%          56.000000\n",
       "75%          73.600000\n",
       "max         892.300000\n",
       "Name: revol_util, dtype: float64"
      ]
     },
     "execution_count": 44,
     "metadata": {},
     "output_type": "execute_result"
    }
   ],
   "source": [
    "loan_data['revol_util'] = loan_data['revol_util'].fillna(loan_data['revol_util'].mean())\n",
    "loan_data['revol_util'].describe()"
   ]
  },
  {
   "cell_type": "code",
   "execution_count": 45,
   "metadata": {
    "collapsed": false
   },
   "outputs": [
    {
     "data": {
      "text/plain": [
       "count    8.873460e+05\n",
       "mean     2.257095e+02\n",
       "std      9.894825e+03\n",
       "min      0.000000e+00\n",
       "25%      0.000000e+00\n",
       "50%      0.000000e+00\n",
       "75%      0.000000e+00\n",
       "max      9.152545e+06\n",
       "Name: tot_coll_amt, dtype: float64"
      ]
     },
     "execution_count": 45,
     "metadata": {},
     "output_type": "execute_result"
    }
   ],
   "source": [
    "loan_data['tot_coll_amt'] = loan_data['tot_coll_amt'].fillna(loan_data['tot_coll_amt'].mean())\n",
    "loan_data['tot_coll_amt'].describe()"
   ]
  },
  {
   "cell_type": "code",
   "execution_count": 46,
   "metadata": {
    "collapsed": false
   },
   "outputs": [
    {
     "data": {
      "text/plain": [
       "count    8.873460e+05\n",
       "mean     1.394432e+05\n",
       "std      1.472734e+05\n",
       "min      0.000000e+00\n",
       "25%      3.224600e+04\n",
       "50%      1.000865e+05\n",
       "75%      1.957920e+05\n",
       "max      4.772549e+06\n",
       "Name: tot_cur_bal, dtype: float64"
      ]
     },
     "execution_count": 46,
     "metadata": {},
     "output_type": "execute_result"
    }
   ],
   "source": [
    "#total current balance of all accounts\n",
    "loan_data['tot_cur_bal'] = loan_data['tot_cur_bal'].fillna(loan_data['tot_cur_bal'].mean())\n",
    "loan_data['tot_cur_bal'].describe()"
   ]
  },
  {
   "cell_type": "code",
   "execution_count": 47,
   "metadata": {
    "collapsed": false
   },
   "outputs": [
    {
     "data": {
      "text/plain": [
       "count    887346.000000\n",
       "mean         25.268078\n",
       "std          11.840364\n",
       "min           1.000000\n",
       "25%          17.000000\n",
       "50%          24.000000\n",
       "75%          32.000000\n",
       "max         169.000000\n",
       "Name: total_acc, dtype: float64"
      ]
     },
     "execution_count": 47,
     "metadata": {},
     "output_type": "execute_result"
    }
   ],
   "source": [
    "# total credit lines available in member credit line\n",
    "loan_data['total_acc'] = loan_data['total_acc'].fillna(loan_data['total_acc'].mean())\n",
    "loan_data['total_acc'].describe()"
   ]
  },
  {
   "cell_type": "code",
   "execution_count": 48,
   "metadata": {
    "collapsed": false
   },
   "outputs": [
    {
     "data": {
      "text/plain": [
       "count    8.873460e+05\n",
       "mean     3.206708e+04\n",
       "std      3.596773e+04\n",
       "min      0.000000e+00\n",
       "25%      1.470000e+04\n",
       "50%      2.580000e+04\n",
       "75%      3.780000e+04\n",
       "max      9.999999e+06\n",
       "Name: total_rev_hi_lim, dtype: float64"
      ]
     },
     "execution_count": 48,
     "metadata": {},
     "output_type": "execute_result"
    }
   ],
   "source": [
    "# revolving card limit\n",
    "loan_data['total_rev_hi_lim'] = loan_data['total_rev_hi_lim'].fillna(loan_data['total_rev_hi_lim'].mean())\n",
    "loan_data['total_rev_hi_lim'].describe()"
   ]
  },
  {
   "cell_type": "code",
   "execution_count": 49,
   "metadata": {
    "collapsed": false
   },
   "outputs": [
    {
     "data": {
      "text/plain": [
       "count              511\n",
       "unique               3\n",
       "top       Not Verified\n",
       "freq               283\n",
       "Name: verification_status_joint, dtype: object"
      ]
     },
     "execution_count": 49,
     "metadata": {},
     "output_type": "execute_result"
    }
   ],
   "source": [
    "loan_data['verification_status_joint'].describe()"
   ]
  },
  {
   "cell_type": "code",
   "execution_count": 50,
   "metadata": {
    "collapsed": false
   },
   "outputs": [
    {
     "data": {
      "text/plain": [
       "count     887346\n",
       "unique       935\n",
       "top        945xx\n",
       "freq        9770\n",
       "Name: zip_code, dtype: object"
      ]
     },
     "execution_count": 50,
     "metadata": {},
     "output_type": "execute_result"
    }
   ],
   "source": [
    "loan_data['zip_code'].describe()"
   ]
  },
  {
   "cell_type": "code",
   "execution_count": 51,
   "metadata": {
    "collapsed": false
   },
   "outputs": [
    {
     "data": {
      "text/plain": [
       "0     2.000000\n",
       "1    13.541667\n",
       "2     4.500000\n",
       "3     7.000000\n",
       "4     3.250000\n",
       "Name: annual/loan, dtype: float64"
      ]
     },
     "execution_count": 51,
     "metadata": {},
     "output_type": "execute_result"
    }
   ],
   "source": [
    "loan_data['annual/loan'] = loan_data['annual_inc']/loan_data['loan_amnt']\n",
    "loan_data['annual/loan'].head()"
   ]
  },
  {
   "cell_type": "code",
   "execution_count": 52,
   "metadata": {
    "collapsed": false
   },
   "outputs": [
    {
     "data": {
      "text/plain": [
       "0    1173.84\n",
       "1      83.95\n",
       "2      56.47\n",
       "3    4858.62\n",
       "4    2296.41\n",
       "Name: total_int_latefee, dtype: float64"
      ]
     },
     "execution_count": 52,
     "metadata": {},
     "output_type": "execute_result"
    }
   ],
   "source": [
    "loan_data['total_int_latefee'] = loan_data['total_rec_int']+loan_data['total_rec_late_fee']\n",
    "loan_data['total_int_latefee'].head() "
   ]
  },
  {
   "cell_type": "code",
   "execution_count": 53,
   "metadata": {
    "collapsed": false
   },
   "outputs": [
    {
     "data": {
      "text/plain": [
       "0    524.763280\n",
       "1    229.678036\n",
       "2    269.443872\n",
       "3    543.874986\n",
       "4    412.601503\n",
       "Name: emi, dtype: float64"
      ]
     },
     "execution_count": 53,
     "metadata": {},
     "output_type": "execute_result"
    }
   ],
   "source": [
    "loan_data['emi'] = loan_data['loan_amnt']*loan_data['int_rate']\n",
    "loan_data['emi'] = np.sqrt(loan_data['emi'])\n",
    "loan_data['emi'].head()"
   ]
  },
  {
   "cell_type": "code",
   "execution_count": 54,
   "metadata": {
    "collapsed": false
   },
   "outputs": [
    {
     "data": {
      "text/plain": [
       "0    0.0\n",
       "1    0.0\n",
       "2    0.0\n",
       "3    0.0\n",
       "4    0.0\n",
       "Name: deliqninq, dtype: float64"
      ]
     },
     "execution_count": 54,
     "metadata": {},
     "output_type": "execute_result"
    }
   ],
   "source": [
    "loan_data['deliqninq'] = loan_data['delinq_2yrs']*loan_data['inq_last_6mths']\n",
    "loan_data['deliqninq'].head()"
   ]
  },
  {
   "cell_type": "code",
   "execution_count": 55,
   "metadata": {
    "collapsed": false
   },
   "outputs": [
    {
     "data": {
      "text/plain": [
       "0    15.0\n",
       "1     6.0\n",
       "2     5.0\n",
       "3    10.0\n",
       "4    11.0\n",
       "Name: open_pub, dtype: float64"
      ]
     },
     "execution_count": 55,
     "metadata": {},
     "output_type": "execute_result"
    }
   ],
   "source": [
    "loan_data['open_pub'] = loan_data['open_acc']+loan_data['pub_rec']\n",
    "loan_data['open_pub'].head()"
   ]
  },
  {
   "cell_type": "code",
   "execution_count": 56,
   "metadata": {
    "collapsed": false
   },
   "outputs": [
    {
     "data": {
      "text/plain": [
       "0    0.0\n",
       "1    0.0\n",
       "2    0.0\n",
       "3    0.0\n",
       "4    0.0\n",
       "Name: total_rec_fee, dtype: float64"
      ]
     },
     "execution_count": 56,
     "metadata": {},
     "output_type": "execute_result"
    }
   ],
   "source": [
    "loan_data['total_rec_fee'] = loan_data['recoveries']+loan_data['collection_recovery_fee']\n",
    "loan_data['total_rec_fee'].head()"
   ]
  },
  {
   "cell_type": "code",
   "execution_count": 57,
   "metadata": {
    "collapsed": false
   },
   "outputs": [
    {
     "name": "stdout",
     "output_type": "stream",
     "text": [
      "0    0.731006\n",
      "1    0.231733\n",
      "2    0.311662\n",
      "3    0.555142\n",
      "4    0.761912\n",
      "Name: utilization, dtype: float64\n",
      "0    73.1\n",
      "1    23.2\n",
      "2    31.2\n",
      "3    55.5\n",
      "4    76.2\n",
      "Name: revol_util, dtype: float64\n"
     ]
    }
   ],
   "source": [
    "loan_data['utilization'] = loan_data['revol_bal']/loan_data['total_rev_hi_lim']\n",
    "print(loan_data['utilization'].head())\n",
    "print(loan_data['revol_util'].head())"
   ]
  },
  {
   "cell_type": "code",
   "execution_count": 58,
   "metadata": {
    "collapsed": false
   },
   "outputs": [
    {
     "data": {
      "text/plain": [
       "0    29872.84\n",
       "1    10057.95\n",
       "2    38416.47\n",
       "3    60422.62\n",
       "4    49455.41\n",
       "Name: total_amt, dtype: float64"
      ]
     },
     "execution_count": 58,
     "metadata": {},
     "output_type": "execute_result"
    }
   ],
   "source": [
    "loan_data['total_amt'] = loan_data['tot_coll_amt']+loan_data['tot_cur_bal']+loan_data['total_rec_int']-loan_data['total_rec_late_fee']\n",
    "loan_data['total_amt'].head()"
   ]
  },
  {
   "cell_type": "markdown",
   "metadata": {},
   "source": [
    "# Starting Feature Engineering"
   ]
  },
  {
   "cell_type": "code",
   "execution_count": 59,
   "metadata": {
    "collapsed": false
   },
   "outputs": [
    {
     "data": {
      "text/plain": [
       "Index(['acc_now_delinq', 'addr_state', 'annual_inc', 'application_type',\n",
       "       'batch_enrolled', 'collection_recovery_fee',\n",
       "       'collections_12_mths_ex_med', 'delinq_2yrs', 'desc', 'dti',\n",
       "       'emp_length', 'emp_title', 'funded_amnt', 'funded_amnt_inv', 'grade',\n",
       "       'home_ownership', 'initial_list_status', 'inq_last_6mths', 'int_rate',\n",
       "       'last_week_pay', 'loan_amnt', 'loan_status', 'member_id',\n",
       "       'mths_since_last_delinq', 'mths_since_last_major_derog',\n",
       "       'mths_since_last_record', 'open_acc', 'pub_rec', 'purpose',\n",
       "       'pymnt_plan', 'recoveries', 'revol_bal', 'revol_util', 'sub_grade',\n",
       "       'term', 'title', 'tot_coll_amt', 'tot_cur_bal', 'total_acc',\n",
       "       'total_rec_int', 'total_rec_late_fee', 'total_rev_hi_lim',\n",
       "       'verification_status', 'verification_status_joint', 'zip_code',\n",
       "       'annual/loan', 'total_int_latefee', 'emi', 'deliqninq', 'open_pub',\n",
       "       'total_rec_fee', 'utilization', 'total_amt'],\n",
       "      dtype='object')"
      ]
     },
     "execution_count": 59,
     "metadata": {},
     "output_type": "execute_result"
    }
   ],
   "source": [
    "loan_data.columns"
   ]
  },
  {
   "cell_type": "code",
   "execution_count": 60,
   "metadata": {
    "collapsed": false
   },
   "outputs": [
    {
     "name": "stdout",
     "output_type": "stream",
     "text": [
      "Index(['acc_now_delinq', 'annual_inc', 'collection_recovery_fee',\n",
      "       'collections_12_mths_ex_med', 'delinq_2yrs', 'dti', 'emp_length',\n",
      "       'funded_amnt', 'funded_amnt_inv', 'grade', 'initial_list_status',\n",
      "       'inq_last_6mths', 'int_rate', 'last_week_pay', 'loan_amnt',\n",
      "       'loan_status', 'member_id', 'mths_since_last_delinq',\n",
      "       'mths_since_last_major_derog', 'mths_since_last_record', 'open_acc',\n",
      "       'pub_rec', 'recoveries', 'revol_bal', 'revol_util', 'tot_coll_amt',\n",
      "       'tot_cur_bal', 'total_acc', 'total_rec_int', 'total_rec_late_fee',\n",
      "       'total_rev_hi_lim', 'annual/loan', 'total_int_latefee', 'emi',\n",
      "       'deliqninq', 'open_pub', 'total_rec_fee', 'utilization', 'total_amt'],\n",
      "      dtype='object')\n",
      "Index(['addr_state', 'application_type', 'batch_enrolled', 'desc', 'emp_title',\n",
      "       'home_ownership', 'purpose', 'pymnt_plan', 'sub_grade', 'term', 'title',\n",
      "       'verification_status', 'verification_status_joint', 'zip_code'],\n",
      "      dtype='object')\n"
     ]
    }
   ],
   "source": [
    "numerical_features = loan_data.select_dtypes(exclude=['object']).columns\n",
    "categorical_features = loan_data.select_dtypes(include=['object']).columns\n",
    "print(numerical_features)\n",
    "print(categorical_features)"
   ]
  },
  {
   "cell_type": "code",
   "execution_count": 61,
   "metadata": {
    "collapsed": false
   },
   "outputs": [],
   "source": [
    "selected_num_features = ['acc_now_delinq', 'annual_inc','tot_coll_amt','tot_cur_bal','total_rec_int','total_rec_late_fee',\n",
    "       'collections_12_mths_ex_med', 'deliqninq', 'dti', 'emp_length',\n",
    "       'funded_amnt','grade', 'initial_list_status', 'int_rate', 'last_week_pay','mths_since_last_delinq',\n",
    "        'open_pub','revol_util', 'total_acc','total_amt','emi','annual/loan','total_rec_fee']\n",
    "selected_cat_features = ['home_ownership','term','verification_status']"
   ]
  },
  {
   "cell_type": "markdown",
   "metadata": {},
   "source": [
    "# Remove imbalancing from Data"
   ]
  },
  {
   "cell_type": "code",
   "execution_count": 62,
   "metadata": {
    "collapsed": false
   },
   "outputs": [
    {
     "data": {
      "text/plain": [
       "['acc_now_delinq',\n",
       " 'annual_inc',\n",
       " 'tot_coll_amt',\n",
       " 'tot_cur_bal',\n",
       " 'total_rec_int',\n",
       " 'total_rec_late_fee',\n",
       " 'collections_12_mths_ex_med',\n",
       " 'deliqninq',\n",
       " 'dti',\n",
       " 'emp_length',\n",
       " 'funded_amnt',\n",
       " 'grade',\n",
       " 'initial_list_status',\n",
       " 'int_rate',\n",
       " 'last_week_pay',\n",
       " 'mths_since_last_delinq',\n",
       " 'open_pub',\n",
       " 'revol_util',\n",
       " 'total_acc',\n",
       " 'total_amt',\n",
       " 'emi',\n",
       " 'annual/loan',\n",
       " 'total_rec_fee',\n",
       " 'loan_status']"
      ]
     },
     "execution_count": 62,
     "metadata": {},
     "output_type": "execute_result"
    }
   ],
   "source": [
    "selected_num_features.append('loan_status')\n",
    "selected_num_features"
   ]
  },
  {
   "cell_type": "code",
   "execution_count": 63,
   "metadata": {
    "collapsed": false
   },
   "outputs": [
    {
     "data": {
      "text/plain": [
       "27"
      ]
     },
     "execution_count": 63,
     "metadata": {},
     "output_type": "execute_result"
    }
   ],
   "source": [
    "total_features= selected_num_features+selected_cat_features\n",
    "len(total_features)"
   ]
  },
  {
   "cell_type": "code",
   "execution_count": 64,
   "metadata": {
    "collapsed": false
   },
   "outputs": [
    {
     "name": "stdout",
     "output_type": "stream",
     "text": [
      "(887346, 27)\n"
     ]
    }
   ],
   "source": [
    "total_data = loan_data[total_features]\n",
    "print(total_data.shape)"
   ]
  },
  {
   "cell_type": "code",
   "execution_count": 65,
   "metadata": {
    "collapsed": false
   },
   "outputs": [
    {
     "data": {
      "text/plain": [
       "35"
      ]
     },
     "execution_count": 65,
     "metadata": {},
     "output_type": "execute_result"
    }
   ],
   "source": [
    "total_data = pd.get_dummies(total_data)\n",
    "len((total_data.columns.values).tolist())"
   ]
  },
  {
   "cell_type": "code",
   "execution_count": 66,
   "metadata": {
    "collapsed": false
   },
   "outputs": [
    {
     "data": {
      "text/plain": [
       "Index(['acc_now_delinq', 'annual_inc', 'tot_coll_amt', 'tot_cur_bal',\n",
       "       'total_rec_int', 'total_rec_late_fee', 'collections_12_mths_ex_med',\n",
       "       'deliqninq', 'dti', 'emp_length', 'funded_amnt', 'grade',\n",
       "       'initial_list_status', 'int_rate', 'last_week_pay',\n",
       "       'mths_since_last_delinq', 'open_pub', 'revol_util', 'total_acc',\n",
       "       'total_amt', 'emi', 'annual/loan', 'total_rec_fee', 'loan_status',\n",
       "       'home_ownership_ANY', 'home_ownership_MORTGAGE', 'home_ownership_NONE',\n",
       "       'home_ownership_OTHER', 'home_ownership_OWN', 'home_ownership_RENT',\n",
       "       'term_36 months', 'term_60 months', 'verification_status_Not Verified',\n",
       "       'verification_status_Source Verified', 'verification_status_Verified'],\n",
       "      dtype='object')"
      ]
     },
     "execution_count": 66,
     "metadata": {},
     "output_type": "execute_result"
    }
   ],
   "source": [
    "total_data.columns"
   ]
  },
  {
   "cell_type": "code",
   "execution_count": 67,
   "metadata": {
    "collapsed": false
   },
   "outputs": [
    {
     "name": "stdout",
     "output_type": "stream",
     "text": [
      "(53240, 35)\n",
      "(532395, 35)\n",
      "Index(['acc_now_delinq', 'annual_inc', 'tot_coll_amt', 'tot_cur_bal',\n",
      "       'total_rec_int', 'total_rec_late_fee', 'collections_12_mths_ex_med',\n",
      "       'deliqninq', 'dti', 'emp_length', 'funded_amnt', 'grade',\n",
      "       'initial_list_status', 'int_rate', 'last_week_pay',\n",
      "       'mths_since_last_delinq', 'open_pub', 'revol_util', 'total_acc',\n",
      "       'total_amt', 'emi', 'annual/loan', 'total_rec_fee', 'loan_status',\n",
      "       'home_ownership_ANY', 'home_ownership_MORTGAGE', 'home_ownership_NONE',\n",
      "       'home_ownership_OTHER', 'home_ownership_OWN', 'home_ownership_RENT',\n",
      "       'term_36 months', 'term_60 months', 'verification_status_Not Verified',\n",
      "       'verification_status_Source Verified', 'verification_status_Verified'],\n",
      "      dtype='object')\n"
     ]
    }
   ],
   "source": [
    "train_data = total_data[:532395]\n",
    "temp_data = train_data.sample(frac=0.10)\n",
    "print(temp_data.shape)\n",
    "print(train_data.shape)\n",
    "print(train_data.columns)"
   ]
  },
  {
   "cell_type": "code",
   "execution_count": 68,
   "metadata": {
    "collapsed": false
   },
   "outputs": [
    {
     "name": "stdout",
     "output_type": "stream",
     "text": [
      "(406575, 35)\n"
     ]
    }
   ],
   "source": [
    "safe_loans = train_data[train_data['loan_status']==0]\n",
    "print(safe_loans.shape)"
   ]
  },
  {
   "cell_type": "code",
   "execution_count": 69,
   "metadata": {
    "collapsed": false
   },
   "outputs": [
    {
     "name": "stdout",
     "output_type": "stream",
     "text": [
      "(125820, 35)\n"
     ]
    }
   ],
   "source": [
    "bad_loans = train_data[train_data['loan_status']==1]\n",
    "print(bad_loans.shape)"
   ]
  },
  {
   "cell_type": "code",
   "execution_count": 70,
   "metadata": {
    "collapsed": false
   },
   "outputs": [
    {
     "data": {
      "text/plain": [
       "(25208, 35)"
      ]
     },
     "execution_count": 70,
     "metadata": {},
     "output_type": "execute_result"
    }
   ],
   "source": [
    "safe_fifty = safe_loans.sample(frac=0.062)\n",
    "safe_fifty.shape"
   ]
  },
  {
   "cell_type": "code",
   "execution_count": 71,
   "metadata": {
    "collapsed": false
   },
   "outputs": [
    {
     "data": {
      "text/plain": [
       "(25164, 35)"
      ]
     },
     "execution_count": 71,
     "metadata": {},
     "output_type": "execute_result"
    }
   ],
   "source": [
    "bad_fifty = bad_loans.sample(frac=0.20)\n",
    "bad_fifty.shape"
   ]
  },
  {
   "cell_type": "code",
   "execution_count": 72,
   "metadata": {
    "collapsed": false
   },
   "outputs": [],
   "source": [
    "balanced_data = pd.concat([safe_fifty,bad_loans])"
   ]
  },
  {
   "cell_type": "code",
   "execution_count": 73,
   "metadata": {
    "collapsed": false
   },
   "outputs": [
    {
     "data": {
      "text/plain": [
       "154013    0.0\n",
       "485427    1.0\n",
       "450465    0.0\n",
       "506230    0.0\n",
       "210818    1.0\n",
       "Name: loan_status, dtype: float64"
      ]
     },
     "execution_count": 73,
     "metadata": {},
     "output_type": "execute_result"
    }
   ],
   "source": [
    "balanced_data = balanced_data.sample(frac=1.0)\n",
    "balanced_data['loan_status'].head()"
   ]
  },
  {
   "cell_type": "code",
   "execution_count": 74,
   "metadata": {
    "collapsed": true
   },
   "outputs": [],
   "source": [
    "train_target = train_data['loan_status']"
   ]
  },
  {
   "cell_type": "code",
   "execution_count": 75,
   "metadata": {
    "collapsed": true
   },
   "outputs": [],
   "source": [
    "test_data = total_data[532395:]\n",
    "test_data = test_data.drop('loan_status',axis=1)"
   ]
  },
  {
   "cell_type": "code",
   "execution_count": 76,
   "metadata": {
    "collapsed": false,
    "scrolled": false
   },
   "outputs": [
    {
     "name": "stdout",
     "output_type": "stream",
     "text": [
      "(354951, 34)\n",
      "Index(['acc_now_delinq', 'annual_inc', 'tot_coll_amt', 'tot_cur_bal',\n",
      "       'total_rec_int', 'total_rec_late_fee', 'collections_12_mths_ex_med',\n",
      "       'deliqninq', 'dti', 'emp_length', 'funded_amnt', 'grade',\n",
      "       'initial_list_status', 'int_rate', 'last_week_pay',\n",
      "       'mths_since_last_delinq', 'open_pub', 'revol_util', 'total_acc',\n",
      "       'total_amt', 'emi', 'annual/loan', 'total_rec_fee',\n",
      "       'home_ownership_ANY', 'home_ownership_MORTGAGE', 'home_ownership_NONE',\n",
      "       'home_ownership_OTHER', 'home_ownership_OWN', 'home_ownership_RENT',\n",
      "       'term_36 months', 'term_60 months', 'verification_status_Not Verified',\n",
      "       'verification_status_Source Verified', 'verification_status_Verified'],\n",
      "      dtype='object')\n"
     ]
    }
   ],
   "source": [
    "print(test_data.shape)\n",
    "print(test_data.columns)"
   ]
  },
  {
   "cell_type": "code",
   "execution_count": 77,
   "metadata": {
    "collapsed": true
   },
   "outputs": [],
   "source": [
    "target = 'loan_status'"
   ]
  },
  {
   "cell_type": "code",
   "execution_count": 78,
   "metadata": {
    "collapsed": true
   },
   "outputs": [],
   "source": [
    "def modelfit(alg, dtrain, predictors,useTrainCV=True, cv_folds=5, early_stopping_rounds=50):\n",
    "    if useTrainCV:\n",
    "        xgb_param = alg.get_xgb_params()\n",
    "        xgtrain = xgb.DMatrix(dtrain[predictors].values, label=dtrain[target].values)\n",
    "        cvresult = xgb.cv(xgb_param, xgtrain, num_boost_round=alg.get_params()['n_estimators'], nfold=cv_folds,metrics='auc', early_stopping_rounds=early_stopping_rounds)\n",
    "        alg.set_params(n_estimators=cvresult.shape[0])\n",
    "    \n",
    "    #Fit the algorithm on the data\n",
    "    alg.fit(dtrain[predictors], dtrain['loan_status'],eval_metric='auc')\n",
    "        \n",
    "    #Predict training set:\n",
    "    dtrain_predictions = alg.predict(dtrain[predictors])\n",
    "    dtrain_predprob = alg.predict_proba(dtrain[predictors])[:,1]\n",
    "        \n",
    "    #Print model report:\n",
    "    print(\"\\nModel Report\")\n",
    "    print(\"Accuracy : %.4g\" % metrics.accuracy_score(dtrain['loan_status'].values, dtrain_predictions))\n",
    "    print (\"AUC Score (Train): %f\" % metrics.roc_auc_score(dtrain['loan_status'], dtrain_predprob))\n",
    "                    \n",
    "    feat_imp = pd.Series(alg.booster().get_fscore()).sort_values(ascending=False)\n",
    "    feat_imp.plot(kind='bar', title='Feature Importances')\n",
    "    plt.ylabel('Feature Importance Score')\n",
    "    plt.show()"
   ]
  },
  {
   "cell_type": "code",
   "execution_count": 79,
   "metadata": {
    "collapsed": false
   },
   "outputs": [
    {
     "name": "stdout",
     "output_type": "stream",
     "text": [
      "['acc_now_delinq', 'annual_inc', 'tot_coll_amt', 'tot_cur_bal', 'total_rec_int', 'total_rec_late_fee', 'collections_12_mths_ex_med', 'deliqninq', 'dti', 'emp_length', 'funded_amnt', 'grade', 'initial_list_status', 'int_rate', 'last_week_pay', 'mths_since_last_delinq', 'open_pub', 'revol_util', 'total_acc', 'total_amt', 'emi', 'annual/loan', 'total_rec_fee', 'home_ownership_ANY', 'home_ownership_MORTGAGE', 'home_ownership_NONE', 'home_ownership_OTHER', 'home_ownership_OWN', 'home_ownership_RENT', 'term_36 months', 'term_60 months', 'verification_status_Not Verified', 'verification_status_Source Verified', 'verification_status_Verified']\n"
     ]
    }
   ],
   "source": [
    "predictors=[x for x in train_data.columns if x not in ['loan_status']]\n",
    "print(predictors)"
   ]
  },
  {
   "cell_type": "code",
   "execution_count": 80,
   "metadata": {
    "collapsed": true
   },
   "outputs": [],
   "source": [
    "useful_feature = ['int_rate','last_week_pay','dti','annual_inc','total_rec_late_fee','tot_coll_amt','tot_cur_bal',\n",
    "                 'emi','annual/loan','revol_util','total_acc','funded_amnt','total_rec_int',\n",
    "                  'mths_since_last_delinq','open_pub','emp_length','grade','deliqninq','total_amt',\n",
    "                 'verification_status_Not Verified','verification_status_Source Verified','term_36 months',\n",
    "                  'verification_status_Verified','home_ownership_RENT','total_rec_fee','term_60 months',\n",
    "                  'home_ownership_MORTGAGE','home_ownership_OWN']"
   ]
  },
  {
   "cell_type": "code",
   "execution_count": null,
   "metadata": {
    "collapsed": false
   },
   "outputs": [],
   "source": [
    "xgb1 = XGBClassifier(\n",
    " learning_rate =0.3,   \n",
    " n_estimators=1000,\n",
    " max_depth=6,\n",
    " min_child_weight=1,\n",
    " gamma=0,\n",
    " subsample=1,\n",
    " colsample_bytree=1,\n",
    " objective= 'binary:logistic',\n",
    " nthread=4,\n",
    " scale_pos_weight=1,\n",
    " seed=27)\n",
    "modelfit(xgb1, balanced_data, useful_feature)"
   ]
  },
  {
   "cell_type": "code",
   "execution_count": null,
   "metadata": {
    "collapsed": false
   },
   "outputs": [],
   "source": [
    "print(xgb1.n_estimators,xgb1.learning_rate)\n",
    "print(xgb1.max_depth)"
   ]
  },
  {
   "cell_type": "code",
   "execution_count": 81,
   "metadata": {
    "collapsed": false
   },
   "outputs": [
    {
     "data": {
      "text/plain": [
       "([mean: 0.91104, std: 0.00187, params: {'max_depth': 3, 'min_child_weight': 1},\n",
       "  mean: 0.91133, std: 0.00184, params: {'max_depth': 3, 'min_child_weight': 3},\n",
       "  mean: 0.91127, std: 0.00160, params: {'max_depth': 3, 'min_child_weight': 5},\n",
       "  mean: 0.92600, std: 0.00123, params: {'max_depth': 5, 'min_child_weight': 1},\n",
       "  mean: 0.92595, std: 0.00091, params: {'max_depth': 5, 'min_child_weight': 3},\n",
       "  mean: 0.92565, std: 0.00127, params: {'max_depth': 5, 'min_child_weight': 5},\n",
       "  mean: 0.92638, std: 0.00123, params: {'max_depth': 7, 'min_child_weight': 1},\n",
       "  mean: 0.92631, std: 0.00121, params: {'max_depth': 7, 'min_child_weight': 3},\n",
       "  mean: 0.92658, std: 0.00145, params: {'max_depth': 7, 'min_child_weight': 5},\n",
       "  mean: 0.92354, std: 0.00136, params: {'max_depth': 9, 'min_child_weight': 1},\n",
       "  mean: 0.92391, std: 0.00107, params: {'max_depth': 9, 'min_child_weight': 3},\n",
       "  mean: 0.92342, std: 0.00096, params: {'max_depth': 9, 'min_child_weight': 5}],\n",
       " {'max_depth': 7, 'min_child_weight': 5},\n",
       " 0.9265841738611501)"
      ]
     },
     "execution_count": 81,
     "metadata": {},
     "output_type": "execute_result"
    }
   ],
   "source": [
    "param_test1 = {\n",
    " 'max_depth':[3,5,7,9],\n",
    " 'min_child_weight':[1,3,5]\n",
    "}\n",
    "gsearch1 = GridSearchCV(estimator = XGBClassifier( learning_rate =0.1, n_estimators=1000, max_depth=5,\n",
    " min_child_weight=1, gamma=0, subsample=0.8, colsample_bytree=0.8,\n",
    " objective= 'binary:logistic', nthread=4, scale_pos_weight=1, seed=27), \n",
    " param_grid = param_test1, scoring='roc_auc',n_jobs=4,iid=False, cv=5)\n",
    "gsearch1.fit(balanced_data[useful_feature],balanced_data[target])\n",
    "gsearch1.grid_scores_, gsearch1.best_params_, gsearch1.best_score_"
   ]
  },
  {
   "cell_type": "code",
   "execution_count": 82,
   "metadata": {
    "collapsed": false
   },
   "outputs": [
    {
     "data": {
      "text/plain": [
       "([mean: 0.92668, std: 0.00124, params: {'max_depth': 6, 'min_child_weight': 4},\n",
       "  mean: 0.92672, std: 0.00079, params: {'max_depth': 6, 'min_child_weight': 5},\n",
       "  mean: 0.92654, std: 0.00157, params: {'max_depth': 6, 'min_child_weight': 6},\n",
       "  mean: 0.92648, std: 0.00140, params: {'max_depth': 7, 'min_child_weight': 4},\n",
       "  mean: 0.92658, std: 0.00145, params: {'max_depth': 7, 'min_child_weight': 5},\n",
       "  mean: 0.92617, std: 0.00164, params: {'max_depth': 7, 'min_child_weight': 6},\n",
       "  mean: 0.92496, std: 0.00107, params: {'max_depth': 8, 'min_child_weight': 4},\n",
       "  mean: 0.92495, std: 0.00101, params: {'max_depth': 8, 'min_child_weight': 5},\n",
       "  mean: 0.92447, std: 0.00113, params: {'max_depth': 8, 'min_child_weight': 6}],\n",
       " {'max_depth': 6, 'min_child_weight': 5},\n",
       " 0.9267162206407601)"
      ]
     },
     "execution_count": 82,
     "metadata": {},
     "output_type": "execute_result"
    }
   ],
   "source": [
    "param_test2 = {\n",
    " 'max_depth':[6,7,8],\n",
    " 'min_child_weight':[4,5,6]\n",
    "}\n",
    "gsearch2 = GridSearchCV(estimator = XGBClassifier( learning_rate=0.1, n_estimators=1000, max_depth=5,\n",
    " min_child_weight=2, gamma=0, subsample=0.8, colsample_bytree=0.8,\n",
    " objective= 'binary:logistic', nthread=4, scale_pos_weight=1,seed=27), \n",
    " param_grid = param_test2, scoring='roc_auc',n_jobs=4,iid=False, cv=5)\n",
    "gsearch2.fit(balanced_data[useful_feature],balanced_data[target])\n",
    "gsearch2.grid_scores_, gsearch2.best_params_, gsearch2.best_score_"
   ]
  },
  {
   "cell_type": "code",
   "execution_count": 84,
   "metadata": {
    "collapsed": false
   },
   "outputs": [
    {
     "data": {
      "text/plain": [
       "([mean: 0.92722, std: 0.00128, params: {'gamma': 0.0},\n",
       "  mean: 0.92712, std: 0.00133, params: {'gamma': 0.01},\n",
       "  mean: 0.92688, std: 0.00126, params: {'gamma': 0.02},\n",
       "  mean: 0.92708, std: 0.00145, params: {'gamma': 0.03},\n",
       "  mean: 0.92718, std: 0.00128, params: {'gamma': 0.04},\n",
       "  mean: 0.92700, std: 0.00127, params: {'gamma': 0.05},\n",
       "  mean: 0.92705, std: 0.00092, params: {'gamma': 0.06},\n",
       "  mean: 0.92724, std: 0.00123, params: {'gamma': 0.07},\n",
       "  mean: 0.92742, std: 0.00132, params: {'gamma': 0.08}],\n",
       " {'gamma': 0.08},\n",
       " 0.9274207989451912)"
      ]
     },
     "execution_count": 84,
     "metadata": {},
     "output_type": "execute_result"
    }
   ],
   "source": [
    "param_test3 = {\n",
    " 'gamma':[i/100.0 for i in range(0,9)]\n",
    "}\n",
    "gsearch3 = GridSearchCV(estimator = XGBClassifier( learning_rate =0.1, n_estimators=1000, max_depth=6,\n",
    " min_child_weight=5, gamma=0, subsample=0.8, colsample_bytree=0.8,\n",
    " objective= 'binary:logistic', nthread=4, scale_pos_weight=1,seed=27), \n",
    " param_grid = param_test3, scoring='roc_auc',n_jobs=4,iid=False, cv=5)\n",
    "gsearch3.fit(balanced_data[predictors],balanced_data[target])\n",
    "gsearch3.grid_scores_, gsearch3.best_params_, gsearch3.best_score_"
   ]
  },
  {
   "cell_type": "code",
   "execution_count": 87,
   "metadata": {
    "collapsed": false
   },
   "outputs": [
    {
     "name": "stdout",
     "output_type": "stream",
     "text": [
      "\n",
      "Model Report\n",
      "Accuracy : 0.9342\n",
      "AUC Score (Train): 0.974224\n"
     ]
    },
    {
     "data": {
      "image/png": "[encoded data removed]",
      "text/plain": [
       "<matplotlib.figure.Figure at 0x28a92862550>"
      ]
     },
     "metadata": {},
     "output_type": "display_data"
    }
   ],
   "source": [
    "xgb2 = XGBClassifier(\n",
    " learning_rate =0.1,\n",
    " n_estimators=1000,\n",
    " max_depth=6,\n",
    " min_child_weight=5,\n",
    " gamma=0.08,\n",
    " subsample=0.8,\n",
    " colsample_bytree=0.8,\n",
    " objective= 'binary:logistic',\n",
    " nthread=4,\n",
    " scale_pos_weight=1,\n",
    " seed=27)\n",
    "modelfit(xgb2, balanced_data, useful_feature)"
   ]
  },
  {
   "cell_type": "code",
   "execution_count": 88,
   "metadata": {
    "collapsed": false
   },
   "outputs": [
    {
     "name": "stdout",
     "output_type": "stream",
     "text": [
      "914 0.1\n",
      "6\n"
     ]
    }
   ],
   "source": [
    "print(xgb2.n_estimators,xgb2.learning_rate)\n",
    "print(xgb2.max_depth)"
   ]
  },
  {
   "cell_type": "code",
   "execution_count": 89,
   "metadata": {
    "collapsed": false
   },
   "outputs": [
    {
     "data": {
      "text/plain": [
       "([mean: 0.92104, std: 0.00123, params: {'subsample': 0.6, 'colsample_bytree': 0.6},\n",
       "  mean: 0.92359, std: 0.00107, params: {'subsample': 0.7, 'colsample_bytree': 0.6},\n",
       "  mean: 0.92578, std: 0.00083, params: {'subsample': 0.8, 'colsample_bytree': 0.6},\n",
       "  mean: 0.92823, std: 0.00105, params: {'subsample': 0.9, 'colsample_bytree': 0.6},\n",
       "  mean: 0.92103, std: 0.00165, params: {'subsample': 0.6, 'colsample_bytree': 0.7},\n",
       "  mean: 0.92406, std: 0.00159, params: {'subsample': 0.7, 'colsample_bytree': 0.7},\n",
       "  mean: 0.92639, std: 0.00122, params: {'subsample': 0.8, 'colsample_bytree': 0.7},\n",
       "  mean: 0.92851, std: 0.00150, params: {'subsample': 0.9, 'colsample_bytree': 0.7},\n",
       "  mean: 0.92206, std: 0.00131, params: {'subsample': 0.6, 'colsample_bytree': 0.8},\n",
       "  mean: 0.92500, std: 0.00100, params: {'subsample': 0.7, 'colsample_bytree': 0.8},\n",
       "  mean: 0.92660, std: 0.00115, params: {'subsample': 0.8, 'colsample_bytree': 0.8},\n",
       "  mean: 0.92892, std: 0.00129, params: {'subsample': 0.9, 'colsample_bytree': 0.8},\n",
       "  mean: 0.92215, std: 0.00135, params: {'subsample': 0.6, 'colsample_bytree': 0.9},\n",
       "  mean: 0.92511, std: 0.00106, params: {'subsample': 0.7, 'colsample_bytree': 0.9},\n",
       "  mean: 0.92729, std: 0.00153, params: {'subsample': 0.8, 'colsample_bytree': 0.9},\n",
       "  mean: 0.92966, std: 0.00115, params: {'subsample': 0.9, 'colsample_bytree': 0.9}],\n",
       " {'colsample_bytree': 0.9, 'subsample': 0.9},\n",
       " 0.9296599017225475)"
      ]
     },
     "execution_count": 89,
     "metadata": {},
     "output_type": "execute_result"
    }
   ],
   "source": [
    "param_test4 = {\n",
    " 'subsample':[i/10.0 for i in range(6,10)],\n",
    " 'colsample_bytree':[i/10.0 for i in range(6,10)]\n",
    "}\n",
    "gsearch4 = GridSearchCV(estimator = XGBClassifier(learning_rate =0.1, n_estimators=1000, max_depth=6,\n",
    "min_child_weight=5, gamma=0.08, subsample=0.8, colsample_bytree=0.8,\n",
    "objective= 'binary:logistic', nthread=4, scale_pos_weight=1,seed=27), \n",
    "param_grid = param_test4, scoring='roc_auc',n_jobs=4,iid=False, cv=5)\n",
    "gsearch4.fit(balanced_data[useful_feature],balanced_data[target])\n",
    "gsearch4.grid_scores_, gsearch4.best_params_, gsearch4.best_score_"
   ]
  },
  {
   "cell_type": "code",
   "execution_count": 81,
   "metadata": {
    "collapsed": false
   },
   "outputs": [
    {
     "data": {
      "text/plain": [
       "([mean: 0.92776, std: 0.00157, params: {'colsample_bytree': 0.85, 'subsample': 0.85},\n",
       "  mean: 0.92856, std: 0.00114, params: {'colsample_bytree': 0.85, 'subsample': 0.9},\n",
       "  mean: 0.92942, std: 0.00106, params: {'colsample_bytree': 0.85, 'subsample': 0.95},\n",
       "  mean: 0.92755, std: 0.00127, params: {'colsample_bytree': 0.9, 'subsample': 0.85},\n",
       "  mean: 0.92838, std: 0.00094, params: {'colsample_bytree': 0.9, 'subsample': 0.9},\n",
       "  mean: 0.92936, std: 0.00109, params: {'colsample_bytree': 0.9, 'subsample': 0.95},\n",
       "  mean: 0.92756, std: 0.00172, params: {'colsample_bytree': 0.95, 'subsample': 0.85},\n",
       "  mean: 0.92848, std: 0.00081, params: {'colsample_bytree': 0.95, 'subsample': 0.9},\n",
       "  mean: 0.92923, std: 0.00113, params: {'colsample_bytree': 0.95, 'subsample': 0.95}],\n",
       " {'colsample_bytree': 0.85, 'subsample': 0.95},\n",
       " 0.9294247935489139)"
      ]
     },
     "execution_count": 81,
     "metadata": {},
     "output_type": "execute_result"
    }
   ],
   "source": [
    "param_test5 = {\n",
    " 'subsample':[i/100.0 for i in range(85,100,5)],\n",
    " 'colsample_bytree':[i/100.0 for i in range(85,100,5)]\n",
    "}\n",
    "gsearch5 = GridSearchCV(estimator = XGBClassifier( learning_rate =0.1, n_estimators=1000, max_depth=6,\n",
    " min_child_weight=5, gamma=0.08, subsample=0.9, colsample_bytree=0.9,\n",
    " objective= 'binary:logistic', nthread=4, scale_pos_weight=1,seed=27), \n",
    " param_grid = param_test5, scoring='roc_auc',n_jobs=4,iid=False, cv=5)\n",
    "gsearch5.fit(balanced_data[useful_feature],balanced_data[target])\n",
    "gsearch5.grid_scores_, gsearch5.best_params_, gsearch5.best_score_"
   ]
  },
  {
   "cell_type": "markdown",
   "metadata": {},
   "source": [
    "#  Tuning Regularization Parameters"
   ]
  },
  {
   "cell_type": "code",
   "execution_count": 81,
   "metadata": {
    "collapsed": false
   },
   "outputs": [
    {
     "data": {
      "text/plain": [
       "([mean: 0.92827, std: 0.00171, params: {'reg_alpha': 1e-05},\n",
       "  mean: 0.92875, std: 0.00189, params: {'reg_alpha': 0.01},\n",
       "  mean: 0.92896, std: 0.00197, params: {'reg_alpha': 0.1},\n",
       "  mean: 0.92893, std: 0.00162, params: {'reg_alpha': 1},\n",
       "  mean: 0.88632, std: 0.00192, params: {'reg_alpha': 100}],\n",
       " {'reg_alpha': 0.1},\n",
       " 0.9289558303519785)"
      ]
     },
     "execution_count": 81,
     "metadata": {},
     "output_type": "execute_result"
    }
   ],
   "source": [
    "param_test6 = {\n",
    " 'reg_alpha':[1e-5, 1e-2, 0.1, 1, 100]\n",
    "}\n",
    "gsearch6 = GridSearchCV(estimator = XGBClassifier( learning_rate =0.1, n_estimators=1000, max_depth=6,\n",
    " min_child_weight=5, gamma=0.08, subsample=0.95, colsample_bytree=0.85,\n",
    " objective= 'binary:logistic', nthread=4, scale_pos_weight=1,seed=27), \n",
    " param_grid = param_test6, scoring='roc_auc',n_jobs=4,iid=False, cv=5)\n",
    "gsearch6.fit(balanced_data[useful_feature],balanced_data[target])\n",
    "gsearch6.grid_scores_, gsearch6.best_params_, gsearch6.best_score_"
   ]
  },
  {
   "cell_type": "code",
   "execution_count": 83,
   "metadata": {
    "collapsed": false
   },
   "outputs": [
    {
     "data": {
      "text/plain": [
       "([mean: 0.92875, std: 0.00189, params: {'reg_alpha': 0.01},\n",
       "  mean: 0.92827, std: 0.00171, params: {'reg_alpha': 0.0},\n",
       "  mean: 0.92896, std: 0.00197, params: {'reg_alpha': 0.1},\n",
       "  mean: 0.92881, std: 0.00195, params: {'reg_alpha': 0.15},\n",
       "  mean: 0.92875, std: 0.00178, params: {'reg_alpha': 0.2}],\n",
       " {'reg_alpha': 0.1},\n",
       " 0.9289558303519785)"
      ]
     },
     "execution_count": 83,
     "metadata": {},
     "output_type": "execute_result"
    }
   ],
   "source": [
    "param_test7 = {\n",
    " 'reg_alpha':[0.01,0.0,0.1,0.15,0.2]\n",
    "}\n",
    "gsearch7 = GridSearchCV(estimator = XGBClassifier( learning_rate =0.1, n_estimators=1000, max_depth=6,\n",
    " min_child_weight=5, gamma=0.08, subsample=0.95, colsample_bytree=0.85,\n",
    " objective= 'binary:logistic', nthread=4, scale_pos_weight=1,seed=27), \n",
    " param_grid = param_test7, scoring='roc_auc',n_jobs=4,iid=False, cv=5)\n",
    "gsearch7.fit(balanced_data[useful_feature],balanced_data[target])\n",
    "gsearch7.grid_scores_, gsearch7.best_params_, gsearch7.best_score_"
   ]
  },
  {
   "cell_type": "code",
   "execution_count": 86,
   "metadata": {
    "collapsed": false
   },
   "outputs": [
    {
     "data": {
      "text/plain": [
       "([mean: 0.92875, std: 0.00180, params: {'reg_alpha': 0.11},\n",
       "  mean: 0.92881, std: 0.00150, params: {'reg_alpha': 0.12},\n",
       "  mean: 0.92859, std: 0.00188, params: {'reg_alpha': 0.13},\n",
       "  mean: 0.92861, std: 0.00191, params: {'reg_alpha': 0.14},\n",
       "  mean: 0.92881, std: 0.00195, params: {'reg_alpha': 0.15}],\n",
       " {'reg_alpha': 0.15},\n",
       " 0.9288058677964294)"
      ]
     },
     "execution_count": 86,
     "metadata": {},
     "output_type": "execute_result"
    }
   ],
   "source": [
    "param_test8 = {\n",
    " 'reg_alpha':[0.11,0.12,0.13,0.14,0.15]\n",
    "}\n",
    "gsearch8 = GridSearchCV(estimator = XGBClassifier( learning_rate =0.1, n_estimators=1000, max_depth=6,\n",
    " min_child_weight=5, gamma=0.08, subsample=0.95,colsample_bytree=0.85,\n",
    " objective= 'binary:logistic', nthread=4, scale_pos_weight=1,seed=27), \n",
    " param_grid = param_test8, scoring='roc_auc',n_jobs=4,iid=False, cv=5)\n",
    "gsearch8.fit(balanced_data[useful_feature],balanced_data[target])\n",
    "gsearch8.grid_scores_, gsearch8.best_params_, gsearch8.best_score_"
   ]
  },
  {
   "cell_type": "code",
   "execution_count": 81,
   "metadata": {
    "collapsed": false
   },
   "outputs": [
    {
     "name": "stdout",
     "output_type": "stream",
     "text": [
      "\n",
      "Model Report\n",
      "Accuracy : 0.9285\n",
      "AUC Score (Train): 0.970264\n"
     ]
    },
    {
     "data": {
      "image/png": "[encoded data removed]",
      "text/plain": [
       "<matplotlib.figure.Figure at 0x1e05e76ac18>"
      ]
     },
     "metadata": {},
     "output_type": "display_data"
    }
   ],
   "source": [
    "xgb3 = XGBClassifier(\n",
    " learning_rate =0.1,\n",
    " n_estimators=1000,\n",
    " max_depth=6,\n",
    " min_child_weight=5,\n",
    " gamma=0.08,\n",
    " subsample=0.95,\n",
    " colsample_bytree=0.85,\n",
    " objective= 'binary:logistic',\n",
    " nthread=4,\n",
    " scale_pos_weight=1,\n",
    " seed=27)\n",
    "modelfit(xgb3, balanced_data, useful_feature)"
   ]
  },
  {
   "cell_type": "code",
   "execution_count": null,
   "metadata": {
    "collapsed": true
   },
   "outputs": [],
   "source": [
    "print(xgb3.n_estimators)"
   ]
  },
  {
   "cell_type": "markdown",
   "metadata": {},
   "source": [
    "# Reducing Learning Rate"
   ]
  },
  {
   "cell_type": "code",
   "execution_count": null,
   "metadata": {
    "collapsed": false
   },
   "outputs": [],
   "source": [
    "xgb4 = XGBClassifier(\n",
    " learning_rate =0.01,\n",
    " n_estimators=2000,\n",
    " max_depth=6,\n",
    " min_child_weight=0,\n",
    " gamma=0.0,\n",
    " subsample=0.95,\n",
    " colsample_bytree=0.60,\n",
    " reg_alpha=0.15,\n",
    " objective= 'binary:logistic',\n",
    " nthread=4,\n",
    " scale_pos_weight=1,\n",
    " seed=27)\n",
    "modelfit(xgb4, temp_data, predictors)"
   ]
  },
  {
   "cell_type": "code",
   "execution_count": null,
   "metadata": {
    "collapsed": false
   },
   "outputs": [],
   "source": [
    "safe = np.sum(temp_data['loan_status']==0)\n",
    "safe"
   ]
  },
  {
   "cell_type": "code",
   "execution_count": null,
   "metadata": {
    "collapsed": false
   },
   "outputs": [],
   "source": [
    "risky = np.sum(temp_data['loan_status']==1)\n",
    "risky"
   ]
  },
  {
   "cell_type": "code",
   "execution_count": null,
   "metadata": {
    "collapsed": false
   },
   "outputs": [],
   "source": [
    "ratio = risky/safe\n",
    "ratio"
   ]
  },
  {
   "cell_type": "code",
   "execution_count": null,
   "metadata": {
    "collapsed": false
   },
   "outputs": [],
   "source": [
    "xgb5 = XGBClassifier(\n",
    " learning_rate =0.10,\n",
    " n_estimators=1000,\n",
    " max_depth=6,\n",
    " min_child_weight=2,\n",
    " gamma=0.1,\n",
    " subsample=0.95,\n",
    " colsample_bytree=0.60,\n",
    " reg_alpha=0.15,\n",
    " objective= 'binary:logistic',\n",
    " nthread=4,\n",
    " scale_pos_weight=1,\n",
    " seed=27)\n",
    "modelfit(xgb5, balanced_data, useful_feature)"
   ]
  },
  {
   "cell_type": "code",
   "execution_count": null,
   "metadata": {
    "collapsed": false
   },
   "outputs": [],
   "source": [
    "param_test9 = {\n",
    " 'n_estimators':[650,700,750]\n",
    "}\n",
    "gsearch9 = GridSearchCV(estimator = XGBClassifier( learning_rate =0.1, n_estimators=489, max_depth=6,\n",
    " min_child_weight=0, gamma=0.0, subsample=0.95, colsample_bytree=0.60,\n",
    " objective= 'binary:logistic', nthread=4, scale_pos_weight=1,seed=27), \n",
    " param_grid = param_test9, scoring='roc_auc',n_jobs=4,iid=False, cv=5)\n",
    "gsearch9.fit(temp_data[predictors],temp_data[target])\n",
    "gsearch9.grid_scores_, gsearch9.best_params_, gsearch9.best_score_"
   ]
  },
  {
   "cell_type": "markdown",
   "metadata": {},
   "source": [
    "# Gradient Boost Model"
   ]
  },
  {
   "cell_type": "code",
   "execution_count": null,
   "metadata": {
    "collapsed": true
   },
   "outputs": [],
   "source": [
    "def modelfit1(alg, dtrain, predictors, performCV=True, printFeatureImportance=True, cv_folds=5):\n",
    "    #Fit the algorithm on the data\n",
    "    alg.fit(dtrain[predictors], dtrain['loan_status'])\n",
    "        \n",
    "    #Predict training set:\n",
    "    dtrain_predictions = alg.predict(dtrain[predictors])\n",
    "    dtrain_predprob = alg.predict_proba(dtrain[predictors])[:,1]\n",
    "    \n",
    "    #Perform cross-validation:\n",
    "    if performCV:\n",
    "        cv_score = cross_validation.cross_val_score(alg, dtrain[predictors], dtrain['loan_status'], cv=cv_folds, scoring='roc_auc')\n",
    "    \n",
    "    #Print model report:\n",
    "    print(\"\\nModel Report\")\n",
    "    print(\"Accuracy : %.4g\" % metrics.accuracy_score(dtrain['loan_status'].values, dtrain_predictions))\n",
    "    print(\"AUC Score (Train): %f\" % metrics.roc_auc_score(dtrain['loan_status'], dtrain_predprob))\n",
    "    \n",
    "    if performCV:\n",
    "        print(\"CV Score : Mean - %.7g | Std - %.7g | Min - %.7g | Max - %.7g\" % (np.mean(cv_score),np.std(cv_score),np.min(cv_score),np.max(cv_score)))\n",
    "        \n",
    "    #Print Feature Importance:\n",
    "    if printFeatureImportance:\n",
    "        feat_imp = pd.Series(alg.feature_importances_, predictors).sort_values(ascending=False)\n",
    "        feat_imp.plot(kind='bar', title='Feature Importances')\n",
    "        plt.ylabel('Feature Importance Score')\n",
    "        plt.show()"
   ]
  },
  {
   "cell_type": "code",
   "execution_count": null,
   "metadata": {
    "collapsed": false,
    "scrolled": false
   },
   "outputs": [],
   "source": [
    "gbm0 = GradientBoostingClassifier(random_state=10)\n",
    "modelfit1(gbm0, temp_data, predictors)"
   ]
  },
  {
   "cell_type": "code",
   "execution_count": null,
   "metadata": {
    "collapsed": false
   },
   "outputs": [],
   "source": [
    "param_test1 = {'n_estimators':[325,330,335]}\n",
    "gsearch1 = GridSearchCV(estimator = GradientBoostingClassifier(learning_rate=0.2, min_samples_split=500,min_samples_leaf=50,max_depth=8,max_features='sqrt',subsample=0.8,random_state=10), \n",
    "param_grid = param_test1, scoring='roc_auc',n_jobs=4,iid=False, cv=5)\n",
    "gsearch1.fit(temp_data[predictors],temp_data[target])\n",
    "gsearch1.grid_scores_, gsearch1.best_params_, gsearch1.best_score_"
   ]
  },
  {
   "cell_type": "code",
   "execution_count": null,
   "metadata": {
    "collapsed": false
   },
   "outputs": [],
   "source": [
    "param_test2 = {'max_depth':list(range(5,16,2)), 'min_samples_split':list(range(200,1001,200))}\n",
    "gsearch2 = GridSearchCV(estimator = GradientBoostingClassifier(learning_rate=0.2, n_estimators=330, max_features='sqrt', subsample=0.8, random_state=10), \n",
    "param_grid = param_test2, scoring='roc_auc',n_jobs=4,iid=False, cv=5)\n",
    "gsearch2.fit(temp_data[predictors],temp_data[target])\n",
    "gsearch2.grid_scores_, gsearch2.best_params_, gsearch2.best_score_"
   ]
  },
  {
   "cell_type": "code",
   "execution_count": null,
   "metadata": {
    "collapsed": false
   },
   "outputs": [],
   "source": [
    "param_test3 = {'min_samples_leaf':list(range(30,71,10))}\n",
    "gsearch3 = GridSearchCV(estimator = GradientBoostingClassifier(learning_rate=0.2, n_estimators=330,max_depth=7,min_samples_split=800,max_features='sqrt', subsample=0.8, random_state=10), \n",
    "param_grid = param_test3, scoring='roc_auc',n_jobs=4,iid=False, cv=5)\n",
    "gsearch3.fit(temp_data[predictors],temp_data[target])\n",
    "gsearch3.grid_scores_, gsearch3.best_params_, gsearch3.best_score_"
   ]
  },
  {
   "cell_type": "code",
   "execution_count": null,
   "metadata": {
    "collapsed": false
   },
   "outputs": [],
   "source": [
    "modelfit1(gsearch3.best_estimator_, temp_data, predictors)"
   ]
  },
  {
   "cell_type": "code",
   "execution_count": null,
   "metadata": {
    "collapsed": false
   },
   "outputs": [],
   "source": [
    "param_test4 = {'max_features':list(range(26,31,2))}\n",
    "gsearch4 = GridSearchCV(estimator = GradientBoostingClassifier(learning_rate=0.2, n_estimators=330,max_depth=7, min_samples_split=800, min_samples_leaf=40, subsample=0.8, random_state=10),\n",
    "param_grid = param_test4, scoring='roc_auc',n_jobs=4,iid=False, cv=5)\n",
    "gsearch4.fit(temp_data[predictors],temp_data[target])\n",
    "gsearch4.grid_scores_, gsearch4.best_params_, gsearch4.best_score_"
   ]
  },
  {
   "cell_type": "code",
   "execution_count": null,
   "metadata": {
    "collapsed": false
   },
   "outputs": [],
   "source": [
    "modelfit1(gsearch4.best_estimator_, temp_data, predictors)"
   ]
  },
  {
   "cell_type": "code",
   "execution_count": null,
   "metadata": {
    "collapsed": false
   },
   "outputs": [],
   "source": [
    "param_test5 = {'subsample':[0.6,0.7,0.75,0.8,0.85,0.9]}\n",
    "gsearch5 = GridSearchCV(estimator = GradientBoostingClassifier(learning_rate=0.2, n_estimators=330,max_depth=7,min_samples_split=800, min_samples_leaf=40, subsample=0.8, random_state=10,max_features=26),\n",
    "param_grid = param_test5, scoring='roc_auc',n_jobs=4,iid=False, cv=5)\n",
    "gsearch5.fit(temp_data[predictors],temp_data[target])\n",
    "gsearch5.grid_scores_, gsearch5.best_params_, gsearch5.best_score_"
   ]
  },
  {
   "cell_type": "code",
   "execution_count": null,
   "metadata": {
    "collapsed": false
   },
   "outputs": [],
   "source": [
    "modelfit1(gsearch5.best_estimator_, temp_data, predictors)"
   ]
  },
  {
   "cell_type": "code",
   "execution_count": null,
   "metadata": {
    "collapsed": false,
    "scrolled": false
   },
   "outputs": [],
   "source": [
    "gbm_tuned_1 = GradientBoostingClassifier(learning_rate=0.2, n_estimators=330,max_depth=7, min_samples_split=800,min_samples_leaf=40, subsample=0.90, random_state=10, max_features=26)\n",
    "modelfit1(gbm_tuned_1, balanced_data, useful_feature)"
   ]
  },
  {
   "cell_type": "code",
   "execution_count": null,
   "metadata": {
    "collapsed": false
   },
   "outputs": [],
   "source": [
    "gbm_tuned_2 = GradientBoostingClassifier(learning_rate=0.02, n_estimators=3300,max_depth=7, min_samples_split=800,min_samples_leaf=40, subsample=0.90, random_state=10, max_features=26)\n",
    "modelfit1(gbm_tuned_2, temp_data, predictors)"
   ]
  },
  {
   "cell_type": "markdown",
   "metadata": {},
   "source": [
    "# Logistic Regression"
   ]
  },
  {
   "cell_type": "code",
   "execution_count": null,
   "metadata": {
    "collapsed": false
   },
   "outputs": [],
   "source": [
    "def modelfit2(alg,dtrain,predictors,cv_folds):\n",
    "    # cross validation\n",
    "    cv_score = cross_validation.cross_val_score(alg, dtrain[predictors], dtrain['loan_status'], cv=cv_folds, scoring='roc_auc')\n",
    "    #Fit the algorithm on the data\n",
    "    alg.fit(dtrain[predictors], dtrain['loan_status'])\n",
    "        \n",
    "    #Predict training set:\n",
    "    dtrain_predictions = alg.predict(dtrain[predictors])\n",
    "    dtrain_predprob = alg.predict_proba(dtrain[predictors])[:,1]\n",
    "    #Print model report:\n",
    "    print(\"\\nModel Report\")\n",
    "    print(\"Accuracy : %.4g\" % metrics.accuracy_score(dtrain['loan_status'].values, dtrain_predictions))\n",
    "    print(\"AUC Score (Train): %f\" % metrics.roc_auc_score(dtrain['loan_status'], dtrain_predprob))"
   ]
  },
  {
   "cell_type": "code",
   "execution_count": null,
   "metadata": {
    "collapsed": false
   },
   "outputs": [],
   "source": [
    "lr1 = LogisticRegressionCV(penalty='l2',class_weight='balanced',max_iter=2000,cv=10,random_state=10,solver='sag',tol=1e-4,n_jobs=4)"
   ]
  },
  {
   "cell_type": "code",
   "execution_count": null,
   "metadata": {
    "collapsed": false
   },
   "outputs": [],
   "source": [
    "modelfit2(lr1,balanced_data,useful_feature,10)"
   ]
  },
  {
   "cell_type": "code",
   "execution_count": null,
   "metadata": {
    "collapsed": true
   },
   "outputs": [],
   "source": []
  },
  {
   "cell_type": "markdown",
   "metadata": {},
   "source": [
    "# Writing to CSV"
   ]
  },
  {
   "cell_type": "code",
   "execution_count": null,
   "metadata": {
    "collapsed": false
   },
   "outputs": [],
   "source": [
    "prediction1 = (xgb5.predict_proba(test_data))[:,1]\n",
    "prediction1 = prediction1.reshape(len(prediction1),1)\n",
    "prediction1.shape"
   ]
  },
  {
   "cell_type": "code",
   "execution_count": null,
   "metadata": {
    "collapsed": false
   },
   "outputs": [],
   "source": [
    "prediction2 = (gbm_tuned_1.predict_proba(test_data))[:,1]\n",
    "prediction2 = prediction2.reshape(len(prediction2),1)\n",
    "prediction2.shape"
   ]
  },
  {
   "cell_type": "code",
   "execution_count": null,
   "metadata": {
    "collapsed": false
   },
   "outputs": [],
   "source": [
    "prediction = prediction1*1.5 + prediction2*1.3\n",
    "prediction = prediction/2.8\n",
    "prediction.shape"
   ]
  },
  {
   "cell_type": "code",
   "execution_count": null,
   "metadata": {
    "collapsed": false
   },
   "outputs": [],
   "source": [
    "test = pd.read_csv('test_indessa.csv')\n",
    "df= pd.DataFrame()\n",
    "df['member_id'] = test['member_id']\n",
    "df['loan_status'] = prediction\n",
    "df.head()"
   ]
  },
  {
   "cell_type": "code",
   "execution_count": null,
   "metadata": {
    "collapsed": true
   },
   "outputs": [],
   "source": [
    "df.to_csv('Xgboost.csv',index=False)"
   ]
  }
 ],
 "metadata": {
  "anaconda-cloud": {},
  "kernelspec": {
   "display_name": "Python [conda root]",
   "language": "python",
   "name": "conda-root-py"
  },
  "language_info": {
   "codemirror_mode": {
    "name": "ipython",
    "version": 3
   },
   "file_extension": ".py",
   "mimetype": "text/x-python",
   "name": "python",
   "nbconvert_exporter": "python",
   "pygments_lexer": "ipython3",
   "version": "3.5.2"
  }
 },
 "nbformat": 4,
 "nbformat_minor": 1
}
